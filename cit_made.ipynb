{
 "cells": [
  {
   "cell_type": "code",
   "execution_count": 1,
   "metadata": {
    "collapsed": true
   },
   "outputs": [],
   "source": [
    "#This script opens the citation dataset and perform calculations in patent level\n",
    "#Renato Kogeyama\n",
    "\n",
    "#Miami, Jan 28, 2020\n",
    "#Script to calculate citations received by a patent\n",
    "#citation_id with less than 3 characters have no meaning\n",
    "#they are causing problems moving forward\n",
    "#so here I drop them\n"
   ]
  },
  {
   "cell_type": "code",
   "execution_count": 2,
   "metadata": {
    "collapsed": true
   },
   "outputs": [],
   "source": [
    "import pandas as pd\n",
    "import numpy as np\n",
    "import re\n",
    "\n",
    "import sys\n",
    "sys.path.append('/home/rkogeyam/scripts/')\n",
    "from sampler import sampler\n"
   ]
  },
  {
   "cell_type": "code",
   "execution_count": 3,
   "metadata": {
    "collapsed": true
   },
   "outputs": [],
   "source": [
    "%matplotlib inline"
   ]
  },
  {
   "cell_type": "code",
   "execution_count": 4,
   "metadata": {
    "collapsed": true
   },
   "outputs": [],
   "source": [
    "fname = r'/home/rkogeyam/PATENT_CITATION/data/cleanuspatentcitation.csv'\n",
    "dst = '/home/rkogeyam/PATENT_CITATION/data/cit_made.csv'"
   ]
  },
  {
   "cell_type": "code",
   "execution_count": 5,
   "metadata": {
    "collapsed": false
   },
   "outputs": [
    {
     "name": "stdout",
     "output_type": "stream",
     "text": [
      "CPU times: user 2min 44s, sys: 10.2 s, total: 2min 54s\n",
      "Wall time: 2min 54s\n"
     ]
    }
   ],
   "source": [
    "%%time\n",
    "df=pd.read_csv(fname, usecols=['patent_id','citation_id','date'], dtype=object)\n",
    "\n",
    "# sample_size=100\n",
    "# df=sampler(fname, sample_size, sep='\\t')"
   ]
  },
  {
   "cell_type": "code",
   "execution_count": 6,
   "metadata": {
    "collapsed": false
   },
   "outputs": [
    {
     "name": "stdout",
     "output_type": "stream",
     "text": [
      "<class 'pandas.core.frame.DataFrame'>\n",
      "RangeIndex: 91453297 entries, 0 to 91453296\n",
      "Data columns (total 3 columns):\n",
      "patent_id      object\n",
      "citation_id    object\n",
      "date           object\n",
      "dtypes: object(3)\n",
      "memory usage: 2.0+ GB\n"
     ]
    }
   ],
   "source": [
    "df.info()"
   ]
  },
  {
   "cell_type": "code",
   "execution_count": 7,
   "metadata": {
    "collapsed": false
   },
   "outputs": [
    {
     "data": {
      "text/html": [
       "<div>\n",
       "<table border=\"1\" class=\"dataframe\">\n",
       "  <thead>\n",
       "    <tr style=\"text-align: right;\">\n",
       "      <th></th>\n",
       "      <th>patent_id</th>\n",
       "      <th>citation_id</th>\n",
       "      <th>date</th>\n",
       "    </tr>\n",
       "  </thead>\n",
       "  <tbody>\n",
       "    <tr>\n",
       "      <th>0</th>\n",
       "      <td>9009250</td>\n",
       "      <td>8127342</td>\n",
       "      <td>2012-02-01</td>\n",
       "    </tr>\n",
       "    <tr>\n",
       "      <th>1</th>\n",
       "      <td>9643605</td>\n",
       "      <td>5471515</td>\n",
       "      <td>1995-11-01</td>\n",
       "    </tr>\n",
       "    <tr>\n",
       "      <th>2</th>\n",
       "      <td>5354551</td>\n",
       "      <td>4875247</td>\n",
       "      <td>1989-10-01</td>\n",
       "    </tr>\n",
       "    <tr>\n",
       "      <th>3</th>\n",
       "      <td>D786922</td>\n",
       "      <td>D718330</td>\n",
       "      <td>2014-11-01</td>\n",
       "    </tr>\n",
       "    <tr>\n",
       "      <th>4</th>\n",
       "      <td>D490798</td>\n",
       "      <td>D190749</td>\n",
       "      <td>1961-06-01</td>\n",
       "    </tr>\n",
       "  </tbody>\n",
       "</table>\n",
       "</div>"
      ],
      "text/plain": [
       "  patent_id citation_id        date\n",
       "0   9009250     8127342  2012-02-01\n",
       "1   9643605     5471515  1995-11-01\n",
       "2   5354551     4875247  1989-10-01\n",
       "3   D786922     D718330  2014-11-01\n",
       "4   D490798     D190749  1961-06-01"
      ]
     },
     "execution_count": 7,
     "metadata": {},
     "output_type": "execute_result"
    }
   ],
   "source": [
    "df.head()"
   ]
  },
  {
   "cell_type": "code",
   "execution_count": 8,
   "metadata": {
    "collapsed": false
   },
   "outputs": [
    {
     "name": "stdout",
     "output_type": "stream",
     "text": [
      "CPU times: user 1min 9s, sys: 1.3 s, total: 1min 10s\n",
      "Wall time: 1min 10s\n"
     ]
    }
   ],
   "source": [
    "%%time\n",
    "#cited patents registers total citations received \n",
    "\n",
    "df=df.groupby(['patent_id']).count().iloc[:,0].reset_index() #Series, patent-level\n",
    "# cited_patents.dropna(0, inplace=True) #Series, '0' implies that rows are dropped\n",
    "\n",
    "#I should check this, because later I make citation back as index for merging purposes\n",
    "# cited_patents=cited_patents.reset_index() #Dataframe"
   ]
  },
  {
   "cell_type": "code",
   "execution_count": 9,
   "metadata": {
    "collapsed": true
   },
   "outputs": [],
   "source": [
    "df.rename(columns={'citation_id': 'cit_made'}, inplace=True)"
   ]
  },
  {
   "cell_type": "code",
   "execution_count": 10,
   "metadata": {
    "collapsed": false
   },
   "outputs": [
    {
     "data": {
      "text/html": [
       "<div>\n",
       "<table border=\"1\" class=\"dataframe\">\n",
       "  <thead>\n",
       "    <tr style=\"text-align: right;\">\n",
       "      <th></th>\n",
       "      <th>patent_id</th>\n",
       "      <th>cit_made</th>\n",
       "    </tr>\n",
       "  </thead>\n",
       "  <tbody>\n",
       "    <tr>\n",
       "      <th>0</th>\n",
       "      <td>3930271</td>\n",
       "      <td>2</td>\n",
       "    </tr>\n",
       "    <tr>\n",
       "      <th>1</th>\n",
       "      <td>3930272</td>\n",
       "      <td>11</td>\n",
       "    </tr>\n",
       "    <tr>\n",
       "      <th>2</th>\n",
       "      <td>3930273</td>\n",
       "      <td>8</td>\n",
       "    </tr>\n",
       "    <tr>\n",
       "      <th>3</th>\n",
       "      <td>3930274</td>\n",
       "      <td>3</td>\n",
       "    </tr>\n",
       "    <tr>\n",
       "      <th>4</th>\n",
       "      <td>3930275</td>\n",
       "      <td>2</td>\n",
       "    </tr>\n",
       "  </tbody>\n",
       "</table>\n",
       "</div>"
      ],
      "text/plain": [
       "  patent_id  cit_made\n",
       "0   3930271         2\n",
       "1   3930272        11\n",
       "2   3930273         8\n",
       "3   3930274         3\n",
       "4   3930275         2"
      ]
     },
     "execution_count": 10,
     "metadata": {},
     "output_type": "execute_result"
    }
   ],
   "source": [
    "df.head()"
   ]
  },
  {
   "cell_type": "code",
   "execution_count": 11,
   "metadata": {
    "collapsed": false
   },
   "outputs": [
    {
     "name": "stdout",
     "output_type": "stream",
     "text": [
      "<class 'pandas.core.frame.DataFrame'>\n",
      "RangeIndex: 6188752 entries, 0 to 6188751\n",
      "Data columns (total 2 columns):\n",
      "patent_id    object\n",
      "cit_made     int64\n",
      "dtypes: int64(1), object(1)\n",
      "memory usage: 94.4+ MB\n"
     ]
    }
   ],
   "source": [
    "df.info()"
   ]
  },
  {
   "cell_type": "code",
   "execution_count": 12,
   "metadata": {
    "collapsed": true
   },
   "outputs": [
    {
     "data": {
      "text/plain": [
       "0           10\n",
       "1       419711\n",
       "2       496011\n",
       "3       537358\n",
       "4       538330\n",
       "5       500402\n",
       "6       443246\n",
       "7       381340\n",
       "8       327748\n",
       "9       280490\n",
       "10      242257\n",
       "11      218139\n",
       "12      173214\n",
       "13      155067\n",
       "14      124667\n",
       "15      108576\n",
       "16       96327\n",
       "17       84373\n",
       "18       75100\n",
       "19       66434\n",
       "20       59889\n",
       "21       53403\n",
       "22       48621\n",
       "23       43606\n",
       "24       39211\n",
       "25       35809\n",
       "26       32840\n",
       "27       29153\n",
       "28       26357\n",
       "29       24542\n",
       "         ...  \n",
       "2654         2\n",
       "2656         1\n",
       "2668         1\n",
       "2676         1\n",
       "2677         2\n",
       "2679         1\n",
       "2680         2\n",
       "2686         3\n",
       "2687         2\n",
       "2688         1\n",
       "2689         1\n",
       "2692         1\n",
       "2693         3\n",
       "2695         2\n",
       "2696         3\n",
       "2697         2\n",
       "2698         1\n",
       "2700         1\n",
       "2703         1\n",
       "2706         2\n",
       "2707         2\n",
       "2708         1\n",
       "2709         1\n",
       "2822         1\n",
       "2844         1\n",
       "2876         1\n",
       "2914         1\n",
       "3018         1\n",
       "5802         1\n",
       "5811         1\n",
       "Name: cit_made, dtype: int64"
      ]
     },
     "execution_count": 12,
     "metadata": {},
     "output_type": "execute_result"
    }
   ],
   "source": [
    "df['cit_made'].value_counts().sort_index()"
   ]
  },
  {
   "cell_type": "code",
   "execution_count": 13,
   "metadata": {
    "collapsed": false
   },
   "outputs": [
    {
     "data": {
      "text/plain": [
       "<matplotlib.axes._subplots.AxesSubplot at 0x7f01b5de6048>"
      ]
     },
     "execution_count": 13,
     "metadata": {},
     "output_type": "execute_result"
    },
    {
     "data": {
      "image/png": "[encoded data removed]",
      "text/plain": [
       "<matplotlib.figure.Figure at 0x7f03bd798860>"
      ]
     },
     "metadata": {},
     "output_type": "display_data"
    }
   ],
   "source": [
    "np.log(df['cit_made'].apply(lambda x: x+1)).hist()"
   ]
  },
  {
   "cell_type": "code",
   "execution_count": 14,
   "metadata": {
    "collapsed": false
   },
   "outputs": [
    {
     "data": {
      "text/plain": [
       "6       1077\n",
       "7    6186223\n",
       "8       1452\n",
       "Name: patent_id, dtype: int64"
      ]
     },
     "execution_count": 14,
     "metadata": {},
     "output_type": "execute_result"
    }
   ],
   "source": [
    "df['patent_id'].str.len().value_counts().sort_index()"
   ]
  },
  {
   "cell_type": "code",
   "execution_count": 15,
   "metadata": {
    "collapsed": true
   },
   "outputs": [],
   "source": [
    "df=df[\n",
    "df['patent_id'].apply(lambda x: len(x)>4)\n",
    "  ]"
   ]
  },
  {
   "cell_type": "code",
   "execution_count": 16,
   "metadata": {
    "collapsed": false
   },
   "outputs": [
    {
     "name": "stdout",
     "output_type": "stream",
     "text": [
      "<class 'pandas.core.frame.DataFrame'>\n",
      "Int64Index: 6188752 entries, 0 to 6188751\n",
      "Data columns (total 2 columns):\n",
      "patent_id    object\n",
      "cit_made     int64\n",
      "dtypes: int64(1), object(1)\n",
      "memory usage: 141.6+ MB\n"
     ]
    }
   ],
   "source": [
    "df.info()"
   ]
  },
  {
   "cell_type": "code",
   "execution_count": 17,
   "metadata": {
    "collapsed": false
   },
   "outputs": [
    {
     "name": "stdout",
     "output_type": "stream",
     "text": [
      "CPU times: user 16.6 s, sys: 63 ms, total: 16.7 s\n",
      "Wall time: 16.8 s\n"
     ]
    }
   ],
   "source": [
    "%%time\n",
    "df.to_csv(dst)"
   ]
  }
 ],
 "metadata": {
  "anaconda-cloud": {},
  "kernelspec": {
   "display_name": "Python [default]",
   "language": "python",
   "name": "python3"
  },
  "language_info": {
   "codemirror_mode": {
    "name": "ipython",
    "version": 3
   },
   "file_extension": ".py",
   "mimetype": "text/x-python",
   "name": "python",
   "nbconvert_exporter": "python",
   "pygments_lexer": "ipython3",
   "version": "3.5.2"
  }
 },
 "nbformat": 4,
 "nbformat_minor": 1
}
