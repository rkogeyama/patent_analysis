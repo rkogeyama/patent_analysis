{
 "cells": [
  {
   "cell_type": "code",
   "execution_count": 1,
   "metadata": {
    "collapsed": true
   },
   "outputs": [],
   "source": [
    "#Script to evaluate the determinants of patent citation \n",
    "#Renato Kogeyama\n",
    "\n",
    "#Syracuse, December 3rd, 2019\n",
    "\n",
    "#The original script is getting too complex\n",
    "#There was many tentative scripts to play with data\n",
    "#Here I am writing a script to show the relevance of variables to patent citation"
   ]
  },
  {
   "cell_type": "code",
   "execution_count": 2,
   "metadata": {
    "collapsed": true
   },
   "outputs": [],
   "source": [
    "import pandas as pd\n",
    "import numpy as np\n",
    "\n",
    "from sklearn import preprocessing\n",
    "from sklearn import linear_model, datasets\n",
    "from sklearn.model_selection import train_test_split\n",
    "\n",
    "from scipy import stats\n",
    "import datetime\n",
    "import matplotlib.pyplot as plot\n",
    "import pylab as pl\n",
    "\n",
    "from math import sqrt\n",
    "\n",
    "\n",
    "import sys\n",
    "sys.path.append('/home/rkogeyam/scripts/')\n",
    "\n",
    "from best_num_attr import best_num_attr\n",
    "from xattrSelect import xattrSelect\n",
    "from sampler import sampler\n",
    "from normalize import normalize\n"
   ]
  },
  {
   "cell_type": "code",
   "execution_count": 3,
   "metadata": {
    "collapsed": true
   },
   "outputs": [],
   "source": [
    "%matplotlib inline"
   ]
  },
  {
   "cell_type": "code",
   "execution_count": 4,
   "metadata": {
    "collapsed": false
   },
   "outputs": [
    {
     "name": "stderr",
     "output_type": "stream",
     "text": [
      "/home/applications/anaconda3/4.2.0/lib/python3.5/site-packages/IPython/core/interactiveshell.py:2717: DtypeWarning: Columns (1,3,6) have mixed types. Specify dtype option on import or set low_memory=False.\n",
      "  interactivity=interactivity, compiler=compiler, result=result)\n"
     ]
    }
   ],
   "source": [
    "fname='/home/rkogeyam/PATENT_CITATION/df_w_pat_cit_191003.csv'\n",
    "\n",
    "df=pd.read_csv(fname)\n",
    "\n",
    "# sample_size=1000\n",
    "# df=sampler(fname, sample_size)"
   ]
  },
  {
   "cell_type": "code",
   "execution_count": 5,
   "metadata": {
    "collapsed": false
   },
   "outputs": [],
   "source": [
    "df=df.iloc[:,[1,2,5,8,9,11,12,13,14,15]]"
   ]
  },
  {
   "cell_type": "code",
   "execution_count": 6,
   "metadata": {
    "collapsed": false
   },
   "outputs": [],
   "source": [
    "df=df.set_index('id')"
   ]
  },
  {
   "cell_type": "code",
   "execution_count": 8,
   "metadata": {
    "collapsed": false
   },
   "outputs": [],
   "source": [
    "#these entries are wrong \n",
    "# df=df.drop(['type_Device provided with an optical communications function and optical communication system', 'type_Unsolicited message intercepting communications processor'], axis=1)"
   ]
  },
  {
   "cell_type": "code",
   "execution_count": 9,
   "metadata": {
    "collapsed": false
   },
   "outputs": [],
   "source": [
    "# df.dtypes\n",
    "df=df.drop('date', axis=1)"
   ]
  },
  {
   "cell_type": "code",
   "execution_count": 10,
   "metadata": {
    "collapsed": true
   },
   "outputs": [],
   "source": [
    "df=df.dropna()"
   ]
  },
  {
   "cell_type": "code",
   "execution_count": 11,
   "metadata": {
    "collapsed": false
   },
   "outputs": [
    {
     "name": "stdout",
     "output_type": "stream",
     "text": [
      "(6488250, 8)\n",
      "6\n",
      "2\n"
     ]
    }
   ],
   "source": [
    "# #normalization\n",
    "df=normalize(df)"
   ]
  },
  {
   "cell_type": "code",
   "execution_count": 12,
   "metadata": {
    "collapsed": false
   },
   "outputs": [
    {
     "data": {
      "text/html": [
       "<div>\n",
       "<table border=\"1\" class=\"dataframe\">\n",
       "  <thead>\n",
       "    <tr style=\"text-align: right;\">\n",
       "      <th></th>\n",
       "      <th>count</th>\n",
       "      <th>mean</th>\n",
       "      <th>std</th>\n",
       "      <th>min</th>\n",
       "      <th>25%</th>\n",
       "      <th>50%</th>\n",
       "      <th>75%</th>\n",
       "      <th>max</th>\n",
       "    </tr>\n",
       "  </thead>\n",
       "  <tbody>\n",
       "    <tr>\n",
       "      <th>num_claims</th>\n",
       "      <td>6488250.0</td>\n",
       "      <td>1.414322e+01</td>\n",
       "      <td>12.004228</td>\n",
       "      <td>0.0</td>\n",
       "      <td>6.0</td>\n",
       "      <td>12.0</td>\n",
       "      <td>20.0</td>\n",
       "      <td>887.0</td>\n",
       "    </tr>\n",
       "    <tr>\n",
       "      <th>forward_citation</th>\n",
       "      <td>6488250.0</td>\n",
       "      <td>2.184880e+00</td>\n",
       "      <td>17.551109</td>\n",
       "      <td>0.0</td>\n",
       "      <td>0.0</td>\n",
       "      <td>0.0</td>\n",
       "      <td>0.0</td>\n",
       "      <td>2914.0</td>\n",
       "    </tr>\n",
       "    <tr>\n",
       "      <th>backward_citation</th>\n",
       "      <td>6488250.0</td>\n",
       "      <td>1.121036e+00</td>\n",
       "      <td>7.449018</td>\n",
       "      <td>0.0</td>\n",
       "      <td>0.0</td>\n",
       "      <td>0.0</td>\n",
       "      <td>0.0</td>\n",
       "      <td>2592.0</td>\n",
       "    </tr>\n",
       "    <tr>\n",
       "      <th>year</th>\n",
       "      <td>6488250.0</td>\n",
       "      <td>2.002723e+03</td>\n",
       "      <td>11.322681</td>\n",
       "      <td>1976.0</td>\n",
       "      <td>1995.0</td>\n",
       "      <td>2005.0</td>\n",
       "      <td>2013.0</td>\n",
       "      <td>2017.0</td>\n",
       "    </tr>\n",
       "    <tr>\n",
       "      <th>month</th>\n",
       "      <td>6488250.0</td>\n",
       "      <td>6.590932e+00</td>\n",
       "      <td>3.402092</td>\n",
       "      <td>1.0</td>\n",
       "      <td>4.0</td>\n",
       "      <td>7.0</td>\n",
       "      <td>10.0</td>\n",
       "      <td>12.0</td>\n",
       "    </tr>\n",
       "    <tr>\n",
       "      <th>day</th>\n",
       "      <td>6488250.0</td>\n",
       "      <td>1.564228e+01</td>\n",
       "      <td>8.827000</td>\n",
       "      <td>1.0</td>\n",
       "      <td>8.0</td>\n",
       "      <td>16.0</td>\n",
       "      <td>23.0</td>\n",
       "      <td>31.0</td>\n",
       "    </tr>\n",
       "    <tr>\n",
       "      <th>type_TVPP</th>\n",
       "      <td>6488250.0</td>\n",
       "      <td>4.623743e-07</td>\n",
       "      <td>0.000680</td>\n",
       "      <td>0.0</td>\n",
       "      <td>0.0</td>\n",
       "      <td>0.0</td>\n",
       "      <td>0.0</td>\n",
       "      <td>1.0</td>\n",
       "    </tr>\n",
       "    <tr>\n",
       "      <th>type_defensive publication</th>\n",
       "      <td>6488250.0</td>\n",
       "      <td>7.844950e-05</td>\n",
       "      <td>0.008857</td>\n",
       "      <td>0.0</td>\n",
       "      <td>0.0</td>\n",
       "      <td>0.0</td>\n",
       "      <td>0.0</td>\n",
       "      <td>1.0</td>\n",
       "    </tr>\n",
       "    <tr>\n",
       "      <th>type_design</th>\n",
       "      <td>6488250.0</td>\n",
       "      <td>8.677270e-02</td>\n",
       "      <td>0.281502</td>\n",
       "      <td>0.0</td>\n",
       "      <td>0.0</td>\n",
       "      <td>0.0</td>\n",
       "      <td>0.0</td>\n",
       "      <td>1.0</td>\n",
       "    </tr>\n",
       "    <tr>\n",
       "      <th>type_plant</th>\n",
       "      <td>6488250.0</td>\n",
       "      <td>3.820753e-03</td>\n",
       "      <td>0.061694</td>\n",
       "      <td>0.0</td>\n",
       "      <td>0.0</td>\n",
       "      <td>0.0</td>\n",
       "      <td>0.0</td>\n",
       "      <td>1.0</td>\n",
       "    </tr>\n",
       "    <tr>\n",
       "      <th>type_reissue</th>\n",
       "      <td>6488250.0</td>\n",
       "      <td>2.745270e-03</td>\n",
       "      <td>0.052323</td>\n",
       "      <td>0.0</td>\n",
       "      <td>0.0</td>\n",
       "      <td>0.0</td>\n",
       "      <td>0.0</td>\n",
       "      <td>1.0</td>\n",
       "    </tr>\n",
       "    <tr>\n",
       "      <th>type_statutory invention registration</th>\n",
       "      <td>6488250.0</td>\n",
       "      <td>3.473972e-04</td>\n",
       "      <td>0.018635</td>\n",
       "      <td>0.0</td>\n",
       "      <td>0.0</td>\n",
       "      <td>0.0</td>\n",
       "      <td>0.0</td>\n",
       "      <td>1.0</td>\n",
       "    </tr>\n",
       "    <tr>\n",
       "      <th>type_utility</th>\n",
       "      <td>6488250.0</td>\n",
       "      <td>9.062350e-01</td>\n",
       "      <td>0.291502</td>\n",
       "      <td>0.0</td>\n",
       "      <td>1.0</td>\n",
       "      <td>1.0</td>\n",
       "      <td>1.0</td>\n",
       "      <td>1.0</td>\n",
       "    </tr>\n",
       "    <tr>\n",
       "      <th>kind_A</th>\n",
       "      <td>6488250.0</td>\n",
       "      <td>3.685707e-01</td>\n",
       "      <td>0.482417</td>\n",
       "      <td>0.0</td>\n",
       "      <td>0.0</td>\n",
       "      <td>0.0</td>\n",
       "      <td>1.0</td>\n",
       "      <td>1.0</td>\n",
       "    </tr>\n",
       "    <tr>\n",
       "      <th>kind_B1</th>\n",
       "      <td>6488250.0</td>\n",
       "      <td>8.755566e-02</td>\n",
       "      <td>0.282648</td>\n",
       "      <td>0.0</td>\n",
       "      <td>0.0</td>\n",
       "      <td>0.0</td>\n",
       "      <td>0.0</td>\n",
       "      <td>1.0</td>\n",
       "    </tr>\n",
       "    <tr>\n",
       "      <th>kind_B2</th>\n",
       "      <td>6488250.0</td>\n",
       "      <td>4.501086e-01</td>\n",
       "      <td>0.497505</td>\n",
       "      <td>0.0</td>\n",
       "      <td>0.0</td>\n",
       "      <td>0.0</td>\n",
       "      <td>1.0</td>\n",
       "      <td>1.0</td>\n",
       "    </tr>\n",
       "    <tr>\n",
       "      <th>kind_E</th>\n",
       "      <td>6488250.0</td>\n",
       "      <td>1.339652e-03</td>\n",
       "      <td>0.036577</td>\n",
       "      <td>0.0</td>\n",
       "      <td>0.0</td>\n",
       "      <td>0.0</td>\n",
       "      <td>0.0</td>\n",
       "      <td>1.0</td>\n",
       "    </tr>\n",
       "    <tr>\n",
       "      <th>kind_E1</th>\n",
       "      <td>6488250.0</td>\n",
       "      <td>1.405618e-03</td>\n",
       "      <td>0.037465</td>\n",
       "      <td>0.0</td>\n",
       "      <td>0.0</td>\n",
       "      <td>0.0</td>\n",
       "      <td>0.0</td>\n",
       "      <td>1.0</td>\n",
       "    </tr>\n",
       "    <tr>\n",
       "      <th>kind_H</th>\n",
       "      <td>6488250.0</td>\n",
       "      <td>3.054753e-04</td>\n",
       "      <td>0.017475</td>\n",
       "      <td>0.0</td>\n",
       "      <td>0.0</td>\n",
       "      <td>0.0</td>\n",
       "      <td>0.0</td>\n",
       "      <td>1.0</td>\n",
       "    </tr>\n",
       "    <tr>\n",
       "      <th>kind_H1</th>\n",
       "      <td>6488250.0</td>\n",
       "      <td>4.192194e-05</td>\n",
       "      <td>0.006475</td>\n",
       "      <td>0.0</td>\n",
       "      <td>0.0</td>\n",
       "      <td>0.0</td>\n",
       "      <td>0.0</td>\n",
       "      <td>1.0</td>\n",
       "    </tr>\n",
       "    <tr>\n",
       "      <th>kind_I4</th>\n",
       "      <td>6488250.0</td>\n",
       "      <td>7.844950e-05</td>\n",
       "      <td>0.008857</td>\n",
       "      <td>0.0</td>\n",
       "      <td>0.0</td>\n",
       "      <td>0.0</td>\n",
       "      <td>0.0</td>\n",
       "      <td>1.0</td>\n",
       "    </tr>\n",
       "    <tr>\n",
       "      <th>kind_I5</th>\n",
       "      <td>6488250.0</td>\n",
       "      <td>4.623743e-07</td>\n",
       "      <td>0.000680</td>\n",
       "      <td>0.0</td>\n",
       "      <td>0.0</td>\n",
       "      <td>0.0</td>\n",
       "      <td>0.0</td>\n",
       "      <td>1.0</td>\n",
       "    </tr>\n",
       "    <tr>\n",
       "      <th>kind_P</th>\n",
       "      <td>6488250.0</td>\n",
       "      <td>1.276461e-03</td>\n",
       "      <td>0.035705</td>\n",
       "      <td>0.0</td>\n",
       "      <td>0.0</td>\n",
       "      <td>0.0</td>\n",
       "      <td>0.0</td>\n",
       "      <td>1.0</td>\n",
       "    </tr>\n",
       "    <tr>\n",
       "      <th>kind_P2</th>\n",
       "      <td>6488250.0</td>\n",
       "      <td>1.757176e-03</td>\n",
       "      <td>0.041882</td>\n",
       "      <td>0.0</td>\n",
       "      <td>0.0</td>\n",
       "      <td>0.0</td>\n",
       "      <td>0.0</td>\n",
       "      <td>1.0</td>\n",
       "    </tr>\n",
       "    <tr>\n",
       "      <th>kind_P3</th>\n",
       "      <td>6488250.0</td>\n",
       "      <td>7.871152e-04</td>\n",
       "      <td>0.028045</td>\n",
       "      <td>0.0</td>\n",
       "      <td>0.0</td>\n",
       "      <td>0.0</td>\n",
       "      <td>0.0</td>\n",
       "      <td>1.0</td>\n",
       "    </tr>\n",
       "    <tr>\n",
       "      <th>kind_S</th>\n",
       "      <td>6488250.0</td>\n",
       "      <td>3.230178e-02</td>\n",
       "      <td>0.176800</td>\n",
       "      <td>0.0</td>\n",
       "      <td>0.0</td>\n",
       "      <td>0.0</td>\n",
       "      <td>0.0</td>\n",
       "      <td>1.0</td>\n",
       "    </tr>\n",
       "    <tr>\n",
       "      <th>kind_S1</th>\n",
       "      <td>6488250.0</td>\n",
       "      <td>5.447093e-02</td>\n",
       "      <td>0.226945</td>\n",
       "      <td>0.0</td>\n",
       "      <td>0.0</td>\n",
       "      <td>0.0</td>\n",
       "      <td>0.0</td>\n",
       "      <td>1.0</td>\n",
       "    </tr>\n",
       "  </tbody>\n",
       "</table>\n",
       "</div>"
      ],
      "text/plain": [
       "                                           count          mean        std  \\\n",
       "num_claims                             6488250.0  1.414322e+01  12.004228   \n",
       "forward_citation                       6488250.0  2.184880e+00  17.551109   \n",
       "backward_citation                      6488250.0  1.121036e+00   7.449018   \n",
       "year                                   6488250.0  2.002723e+03  11.322681   \n",
       "month                                  6488250.0  6.590932e+00   3.402092   \n",
       "day                                    6488250.0  1.564228e+01   8.827000   \n",
       "type_TVPP                              6488250.0  4.623743e-07   0.000680   \n",
       "type_defensive publication             6488250.0  7.844950e-05   0.008857   \n",
       "type_design                            6488250.0  8.677270e-02   0.281502   \n",
       "type_plant                             6488250.0  3.820753e-03   0.061694   \n",
       "type_reissue                           6488250.0  2.745270e-03   0.052323   \n",
       "type_statutory invention registration  6488250.0  3.473972e-04   0.018635   \n",
       "type_utility                           6488250.0  9.062350e-01   0.291502   \n",
       "kind_A                                 6488250.0  3.685707e-01   0.482417   \n",
       "kind_B1                                6488250.0  8.755566e-02   0.282648   \n",
       "kind_B2                                6488250.0  4.501086e-01   0.497505   \n",
       "kind_E                                 6488250.0  1.339652e-03   0.036577   \n",
       "kind_E1                                6488250.0  1.405618e-03   0.037465   \n",
       "kind_H                                 6488250.0  3.054753e-04   0.017475   \n",
       "kind_H1                                6488250.0  4.192194e-05   0.006475   \n",
       "kind_I4                                6488250.0  7.844950e-05   0.008857   \n",
       "kind_I5                                6488250.0  4.623743e-07   0.000680   \n",
       "kind_P                                 6488250.0  1.276461e-03   0.035705   \n",
       "kind_P2                                6488250.0  1.757176e-03   0.041882   \n",
       "kind_P3                                6488250.0  7.871152e-04   0.028045   \n",
       "kind_S                                 6488250.0  3.230178e-02   0.176800   \n",
       "kind_S1                                6488250.0  5.447093e-02   0.226945   \n",
       "\n",
       "                                          min     25%     50%     75%     max  \n",
       "num_claims                                0.0     6.0    12.0    20.0   887.0  \n",
       "forward_citation                          0.0     0.0     0.0     0.0  2914.0  \n",
       "backward_citation                         0.0     0.0     0.0     0.0  2592.0  \n",
       "year                                   1976.0  1995.0  2005.0  2013.0  2017.0  \n",
       "month                                     1.0     4.0     7.0    10.0    12.0  \n",
       "day                                       1.0     8.0    16.0    23.0    31.0  \n",
       "type_TVPP                                 0.0     0.0     0.0     0.0     1.0  \n",
       "type_defensive publication                0.0     0.0     0.0     0.0     1.0  \n",
       "type_design                               0.0     0.0     0.0     0.0     1.0  \n",
       "type_plant                                0.0     0.0     0.0     0.0     1.0  \n",
       "type_reissue                              0.0     0.0     0.0     0.0     1.0  \n",
       "type_statutory invention registration     0.0     0.0     0.0     0.0     1.0  \n",
       "type_utility                              0.0     1.0     1.0     1.0     1.0  \n",
       "kind_A                                    0.0     0.0     0.0     1.0     1.0  \n",
       "kind_B1                                   0.0     0.0     0.0     0.0     1.0  \n",
       "kind_B2                                   0.0     0.0     0.0     1.0     1.0  \n",
       "kind_E                                    0.0     0.0     0.0     0.0     1.0  \n",
       "kind_E1                                   0.0     0.0     0.0     0.0     1.0  \n",
       "kind_H                                    0.0     0.0     0.0     0.0     1.0  \n",
       "kind_H1                                   0.0     0.0     0.0     0.0     1.0  \n",
       "kind_I4                                   0.0     0.0     0.0     0.0     1.0  \n",
       "kind_I5                                   0.0     0.0     0.0     0.0     1.0  \n",
       "kind_P                                    0.0     0.0     0.0     0.0     1.0  \n",
       "kind_P2                                   0.0     0.0     0.0     0.0     1.0  \n",
       "kind_P3                                   0.0     0.0     0.0     0.0     1.0  \n",
       "kind_S                                    0.0     0.0     0.0     0.0     1.0  \n",
       "kind_S1                                   0.0     0.0     0.0     0.0     1.0  "
      ]
     },
     "execution_count": 12,
     "metadata": {},
     "output_type": "execute_result"
    }
   ],
   "source": [
    "df.describe().transpose()"
   ]
  },
  {
   "cell_type": "code",
   "execution_count": null,
   "metadata": {
    "collapsed": true
   },
   "outputs": [],
   "source": [
    "# List of IVs\n",
    "chosenColumns=df.columns.values.tolist()\n",
    "len(chosenColumns)"
   ]
  },
  {
   "cell_type": "code",
   "execution_count": null,
   "metadata": {
    "collapsed": true
   },
   "outputs": [],
   "source": [
    "chosenColumns.remove('backward_citation')\n",
    "len(chosenColumns)"
   ]
  },
  {
   "cell_type": "code",
   "execution_count": 13,
   "metadata": {
    "collapsed": true
   },
   "outputs": [],
   "source": [
    "# chosenColumns.remove('citation_bi')\n",
    "# chosenColumns.remove('log_back_cit')"
   ]
  },
  {
   "cell_type": "code",
   "execution_count": 14,
   "metadata": {
    "collapsed": true
   },
   "outputs": [],
   "source": [
    "myX = df.as_matrix(columns=chosenColumns)\n",
    "myY = df.as_matrix(columns=['backward_citation'])"
   ]
  },
  {
   "cell_type": "code",
   "execution_count": 15,
   "metadata": {
    "collapsed": false
   },
   "outputs": [
    {
     "name": "stderr",
     "output_type": "stream",
     "text": [
      "/home/applications/anaconda3/4.2.0/lib/python3.5/site-packages/sklearn/model_selection/_split.py:2010: FutureWarning: From version 0.21, test_size will always complement train_size unless both are specified.\n",
      "  FutureWarning)\n"
     ]
    }
   ],
   "source": [
    "xTrain, xTest, yTrain, yTest = train_test_split(myX, myY, train_size=0.7, random_state=3) \n",
    "testSize = yTest.shape[0]\n",
    "trainSize = yTrain.shape[0]"
   ]
  },
  {
   "cell_type": "code",
   "execution_count": 16,
   "metadata": {
    "collapsed": false
   },
   "outputs": [
    {
     "name": "stdout",
     "output_type": "stream",
     "text": [
      "Out of sample error versus attribute set size\n",
      "[7.1211144186908877, 7.0942326201998931, 7.0805783407688754, 7.0730307751430415, 7.0660788055295249, 7.064160638198687, 7.0630648278943422, 7.0622711726963061, 7.0537858953773798, 7.053733839388773, 7.0536885471851383, 7.0536755819554102, 7.0536736315949673, 7.0536723976098052, 7.0536720394415635, 7.0536712084454232, 7.0536711838429573, 7.05367119829525, 7.05367119829525, 7.0536712517971525, 7.0536712607549514, 7.0536713751867817, 7.0536725825737197, 7.0536726238748644, 1056036.0864963343, 1027978.8839587183]\n",
      "\n",
      "Best attribute indices\n",
      "[7, 1, 24, 13, 15, 0, 9, 2, 12, 10, 4, 21, 23, 17, 25, 8, 22, 5, 20, 18, 16, 3, 19, 6, 14, 11]\n",
      "\n",
      "Best attribute names\n",
      "['type_design', 'forward_citation', 'kind_S', 'kind_B1', 'kind_E', 'num_claims', 'type_reissue', 'year', 'kind_A', 'type_statutory invention registration', 'day', 'kind_P', 'kind_P3', 'kind_H', 'kind_S1', 'type_plant', 'kind_P2', 'type_TVPP', 'kind_I5', 'kind_H1', 'kind_E1', 'month', 'kind_I4', 'type_defensive publication', 'kind_B2', 'type_utility']\n"
     ]
    },
    {
     "data": {
      "image/png": "[encoded data removed]",
      "text/plain": [
       "<matplotlib.figure.Figure at 0x7ffd6fc48d30>"
      ]
     },
     "metadata": {},
     "output_type": "display_data"
    }
   ],
   "source": [
    "best_num_attr(myX, xTrain, xTest, yTrain, yTest, chosenColumns)"
   ]
  },
  {
   "cell_type": "code",
   "execution_count": 17,
   "metadata": {
    "collapsed": true
   },
   "outputs": [],
   "source": []
  }
 ],
 "metadata": {
  "anaconda-cloud": {},
  "kernelspec": {
   "display_name": "Python [default]",
   "language": "python",
   "name": "python3"
  },
  "language_info": {
   "codemirror_mode": {
    "name": "ipython",
    "version": 3
   },
   "file_extension": ".py",
   "mimetype": "text/x-python",
   "name": "python",
   "nbconvert_exporter": "python",
   "pygments_lexer": "ipython3",
   "version": "3.5.2"
  }
 },
 "nbformat": 4,
 "nbformat_minor": 1
}
