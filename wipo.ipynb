{
 "cells": [
  {
   "cell_type": "code",
   "execution_count": 1,
   "metadata": {},
   "outputs": [],
   "source": [
    "# Script to calculate originality and  application data\n",
    "# This script prepares the classification data before merging\n",
    "# Jan 16th, 2020\n",
    "# Multiple classifications generate an error into the Generality calculation\n",
    "# I am creating a version with the first class only \n",
    "\n",
    "# from the data dictionary\n",
    "\n",
    "# patent_id: patent number\n",
    "# field_id:  WIPO technology field ID as derived from crosswalk \n",
    "#            http://www.wipo.int/export/sites/www/ipstats/en/statistics/patents/xls/ipc_technology.xls\n",
    "# sequence:  order in which WIPO technology field appears on patent"
   ]
  },
  {
   "cell_type": "code",
   "execution_count": 2,
   "metadata": {},
   "outputs": [],
   "source": [
    "import pandas as pd\n",
    "import numpy as np\n",
    "import re\n",
    "\n",
    "wipo = 'data/wipo.tsv.zip' #each patent class\n",
    "dst= 'data/wipo.parquet.gz'\n",
    "file_classes = 'data/classes.csv.gz' #custom made relationship table of classes"
   ]
  },
  {
   "cell_type": "code",
   "execution_count": 3,
   "metadata": {},
   "outputs": [],
   "source": [
    "df=pd.read_csv(wipo, compression='zip', sep='\\t', dtype='object')"
   ]
  },
  {
   "cell_type": "code",
   "execution_count": 4,
   "metadata": {},
   "outputs": [],
   "source": [
    "#dtype='object' in read_csv do not set index as object\n",
    "#so setting patent_id as index after read_csv avoids the issue\n",
    "df=df.set_index('patent_id') "
   ]
  },
  {
   "cell_type": "code",
   "execution_count": 5,
   "metadata": {},
   "outputs": [
    {
     "name": "stdout",
     "output_type": "stream",
     "text": [
      "<class 'pandas.core.frame.DataFrame'>\n",
      "Index: 9122912 entries, 10000000 to 9999999\n",
      "Data columns (total 2 columns):\n",
      " #   Column    Dtype \n",
      "---  ------    ----- \n",
      " 0   field_id  object\n",
      " 1   sequence  object\n",
      "dtypes: object(2)\n",
      "memory usage: 208.8+ MB\n"
     ]
    }
   ],
   "source": [
    "df.info()"
   ]
  },
  {
   "cell_type": "code",
   "execution_count": 6,
   "metadata": {},
   "outputs": [],
   "source": [
    "# filtering only the first class for each patent\n",
    "#  (df['sequence']==0)\n",
    "# it could be interesting to explore the other classes \n",
    "# correcting the format to two digits to avoid problems in the merge with classes\n",
    "# convert field_id to categorical to \n",
    "df=df[df.sequence=='0']\n",
    "df=df[['field_id']]\n",
    "df['field_id']=df.field_id.apply('{:0>2}'.format)"
   ]
  },
  {
   "cell_type": "code",
   "execution_count": 7,
   "metadata": {},
   "outputs": [],
   "source": [
    "# wipo is a classification system with only 1 level\n",
    "# I artificially created a new class to make it comparable with Nemet and Johnson 2012\n",
    "# In any case, it is possible to check robustness with the other class systems\n",
    "usecols=['system', 'id', 'sector_title']\n",
    "df_classes=pd.read_csv(file_classes, compression='gzip', usecols=usecols, index_col='id')"
   ]
  },
  {
   "cell_type": "code",
   "execution_count": 8,
   "metadata": {},
   "outputs": [],
   "source": [
    "df_classes=df_classes[df_classes.system=='wipo_field_id']['sector_title'] #we are interested only in the sector_title info"
   ]
  },
  {
   "cell_type": "code",
   "execution_count": 9,
   "metadata": {},
   "outputs": [],
   "source": [
    "# this merge will give the WIPO higher level (sector_title) classification group for each patent\n",
    "df=df.merge(df_classes, left_on='field_id', right_index=True)"
   ]
  },
  {
   "cell_type": "code",
   "execution_count": 10,
   "metadata": {},
   "outputs": [
    {
     "data": {
      "text/html": [
       "<div>\n",
       "<style scoped>\n",
       "    .dataframe tbody tr th:only-of-type {\n",
       "        vertical-align: middle;\n",
       "    }\n",
       "\n",
       "    .dataframe tbody tr th {\n",
       "        vertical-align: top;\n",
       "    }\n",
       "\n",
       "    .dataframe thead th {\n",
       "        text-align: right;\n",
       "    }\n",
       "</style>\n",
       "<table border=\"1\" class=\"dataframe\">\n",
       "  <thead>\n",
       "    <tr style=\"text-align: right;\">\n",
       "      <th></th>\n",
       "      <th>field_id</th>\n",
       "      <th>sector_title</th>\n",
       "    </tr>\n",
       "    <tr>\n",
       "      <th>patent_id</th>\n",
       "      <th></th>\n",
       "      <th></th>\n",
       "    </tr>\n",
       "  </thead>\n",
       "  <tbody>\n",
       "    <tr>\n",
       "      <th>9998313</th>\n",
       "      <td>05</td>\n",
       "      <td>Electrical Eng</td>\n",
       "    </tr>\n",
       "    <tr>\n",
       "      <th>9998316</th>\n",
       "      <td>05</td>\n",
       "      <td>Electrical Eng</td>\n",
       "    </tr>\n",
       "    <tr>\n",
       "      <th>9998748</th>\n",
       "      <td>05</td>\n",
       "      <td>Electrical Eng</td>\n",
       "    </tr>\n",
       "    <tr>\n",
       "      <th>9998825</th>\n",
       "      <td>05</td>\n",
       "      <td>Electrical Eng</td>\n",
       "    </tr>\n",
       "    <tr>\n",
       "      <th>9999780</th>\n",
       "      <td>05</td>\n",
       "      <td>Electrical Eng</td>\n",
       "    </tr>\n",
       "  </tbody>\n",
       "</table>\n",
       "</div>"
      ],
      "text/plain": [
       "          field_id    sector_title\n",
       "patent_id                         \n",
       "9998313         05  Electrical Eng\n",
       "9998316         05  Electrical Eng\n",
       "9998748         05  Electrical Eng\n",
       "9998825         05  Electrical Eng\n",
       "9999780         05  Electrical Eng"
      ]
     },
     "execution_count": 10,
     "metadata": {},
     "output_type": "execute_result"
    }
   ],
   "source": [
    "df.tail()"
   ]
  },
  {
   "cell_type": "code",
   "execution_count": 11,
   "metadata": {},
   "outputs": [],
   "source": [
    "# column names to make backward compatible with code\n",
    "df.rename(columns={'sector_title': 'wipo_sector_id'}, inplace=True)\n",
    "df.rename(columns={'field_id': 'wipo_field_id'}, inplace=True)"
   ]
  },
  {
   "cell_type": "code",
   "execution_count": 12,
   "metadata": {},
   "outputs": [],
   "source": [
    "df['wipo_sector_id']=df.wipo_sector_id.astype('category')\n",
    "df['wipo_field_id']=df.wipo_field_id.astype('category')"
   ]
  },
  {
   "cell_type": "code",
   "execution_count": 13,
   "metadata": {},
   "outputs": [
    {
     "data": {
      "text/html": [
       "<div>\n",
       "<style scoped>\n",
       "    .dataframe tbody tr th:only-of-type {\n",
       "        vertical-align: middle;\n",
       "    }\n",
       "\n",
       "    .dataframe tbody tr th {\n",
       "        vertical-align: top;\n",
       "    }\n",
       "\n",
       "    .dataframe thead th {\n",
       "        text-align: right;\n",
       "    }\n",
       "</style>\n",
       "<table border=\"1\" class=\"dataframe\">\n",
       "  <thead>\n",
       "    <tr style=\"text-align: right;\">\n",
       "      <th></th>\n",
       "      <th>wipo_field_id</th>\n",
       "      <th>wipo_sector_id</th>\n",
       "    </tr>\n",
       "    <tr>\n",
       "      <th>patent_id</th>\n",
       "      <th></th>\n",
       "      <th></th>\n",
       "    </tr>\n",
       "  </thead>\n",
       "  <tbody>\n",
       "    <tr>\n",
       "      <th>10000000</th>\n",
       "      <td>10</td>\n",
       "      <td>Instruments</td>\n",
       "    </tr>\n",
       "  </tbody>\n",
       "</table>\n",
       "</div>"
      ],
      "text/plain": [
       "          wipo_field_id wipo_sector_id\n",
       "patent_id                             \n",
       "10000000             10    Instruments"
      ]
     },
     "execution_count": 13,
     "metadata": {},
     "output_type": "execute_result"
    }
   ],
   "source": [
    "df[df.index=='10000000'] #simple test of index's type"
   ]
  },
  {
   "cell_type": "code",
   "execution_count": 14,
   "metadata": {},
   "outputs": [],
   "source": [
    "df.index = df.index.map(str)"
   ]
  },
  {
   "cell_type": "code",
   "execution_count": 15,
   "metadata": {},
   "outputs": [],
   "source": [
    "df.to_parquet(dst, compression='gzip')"
   ]
  }
 ],
 "metadata": {
  "kernelspec": {
   "display_name": "Python 3",
   "language": "python",
   "name": "python3"
  },
  "language_info": {
   "codemirror_mode": {
    "name": "ipython",
    "version": 3
   },
   "file_extension": ".py",
   "mimetype": "text/x-python",
   "name": "python",
   "nbconvert_exporter": "python",
   "pygments_lexer": "ipython3",
   "version": "3.8.5"
  }
 },
 "nbformat": 4,
 "nbformat_minor": 4
}
