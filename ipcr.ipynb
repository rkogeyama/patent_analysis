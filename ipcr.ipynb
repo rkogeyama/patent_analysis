{
 "cells": [
  {
   "cell_type": "code",
   "execution_count": 1,
   "metadata": {
    "collapsed": true
   },
   "outputs": [],
   "source": [
    "import pandas as pd\n",
    "import numpy as np\n",
    "from IPython.display import display, HTML\n",
    "\n",
    "src='data/ipcr.tsv'\n",
    "dst='data/ipcr.csv'"
   ]
  },
  {
   "cell_type": "code",
   "execution_count": 2,
   "metadata": {
    "collapsed": true
   },
   "outputs": [],
   "source": [
    "# uuid:\t\t\t\t\tunique id\n",
    "# patent_id:\t\t\tpatent number\n",
    "# classification_level:\tipc classification level (A = advanced level) \n",
    "# section:\t\t\t\tipc section (A = Human Necessitites, B = Performing Operations; Transporting, C = Chemistry; Metallurgy, D = Textiles; Paper, E = Fixed Constructions, F = Mechanical Engineering; Lighting; Heating; Weapons; Blasting, G = Physics, H = Electricity)\n",
    "# ipc_class:\t\t\tipc class\n",
    "# subclass:\t\t\t\tipc subclass\n",
    "# main_group:\t\t\tipc group\n",
    "# subgroup:\t\t\t\tipc subgroup\n",
    "# symbol_position:\t\t\t\tipc symbol ( F = first or sole invention information IPC; L = any second or succeeding invention information IPC and any non-invention information IPC)\n",
    "# classification_value:\t\t\tipc classification value ( I = invention information; N = non-invention information)\n",
    "# classification_status:\t\tipc classification status ( B = Basic or Original)\n",
    "# classification_data_source:\tipc classification data source ( H = Human - Generated; M = Machine - Generated; G = Generated via Software)\n",
    "# action_date:\t\t\t\t\tissue date of the patent grant\n",
    "# ipc_version_indicator:\t\tipc version indicator\n",
    "# sequence:\t\t\t\t\t\torder in which ipc class appears in patent file\n",
    "\n",
    "#IPC is hierarchical\n",
    "#I am arbitrarily adopting the first three levels (section, class, subclass)"
   ]
  },
  {
   "cell_type": "code",
   "execution_count": 3,
   "metadata": {
    "collapsed": false
   },
   "outputs": [
    {
     "name": "stderr",
     "output_type": "stream",
     "text": [
      "/home/applications/anaconda3/4.2.0/lib/python3.5/site-packages/IPython/core/interactiveshell.py:2717: DtypeWarning: Columns (4) have mixed types. Specify dtype option on import or set low_memory=False.\n",
      "  interactivity=interactivity, compiler=compiler, result=result)\n"
     ]
    }
   ],
   "source": [
    "usecols=['patent_id', 'section', 'ipc_class', 'subclass', 'sequence']\n",
    "df = pd.read_csv(src, sep='\\t', usecols=usecols)"
   ]
  },
  {
   "cell_type": "code",
   "execution_count": 4,
   "metadata": {
    "collapsed": true
   },
   "outputs": [],
   "source": [
    "df=df[df['sequence']==0]"
   ]
  },
  {
   "cell_type": "code",
   "execution_count": 5,
   "metadata": {
    "collapsed": true
   },
   "outputs": [],
   "source": [
    "df=df.drop(['sequence'], axis=1)"
   ]
  },
  {
   "cell_type": "code",
   "execution_count": 6,
   "metadata": {
    "collapsed": false
   },
   "outputs": [
    {
     "name": "stdout",
     "output_type": "stream",
     "text": [
      "<class 'pandas.core.frame.DataFrame'>\n",
      "Int64Index: 5943638 entries, 0 to 12171205\n",
      "Data columns (total 4 columns):\n",
      "patent_id    object\n",
      "section      object\n",
      "ipc_class    object\n",
      "subclass     object\n",
      "dtypes: object(4)\n",
      "memory usage: 226.7+ MB\n"
     ]
    }
   ],
   "source": [
    "df.info()"
   ]
  },
  {
   "cell_type": "code",
   "execution_count": 7,
   "metadata": {
    "collapsed": false
   },
   "outputs": [
    {
     "name": "stdout",
     "output_type": "stream",
     "text": [
      "\n",
      "Top 10 section\n",
      "G    1494540\n",
      "H    1305867\n",
      "B     943327\n",
      "A     796510\n",
      "C     600732\n",
      "F     448067\n",
      "D     203406\n",
      "E     150207\n",
      "L        179\n",
      "M        111\n",
      "Name: section, dtype: int64\n",
      "\n",
      "Top 10 ipc_class\n",
      "1     590716\n",
      "01    554451\n",
      "6     328657\n",
      "4     308417\n",
      "06    304526\n",
      "04    276058\n",
      "61    225572\n",
      "61    210389\n",
      "2     175124\n",
      "02    161940\n",
      "Name: ipc_class, dtype: int64\n"
     ]
    }
   ],
   "source": [
    "columns=list(df)[1:-1]\n",
    "for i in columns:\n",
    "    print('\\nTop 10', i)\n",
    "    print(df[i].value_counts().head(10))\n",
    "#     print(df[i].value_counts())\n",
    "#     display(HTML(df[i].value_counts().to_html()))\n",
    "#     display(HTML(df[i].value_counts().reset_index().to_html()))"
   ]
  },
  {
   "cell_type": "code",
   "execution_count": 8,
   "metadata": {
    "collapsed": false
   },
   "outputs": [
    {
     "data": {
      "text/plain": [
       "['section', 'ipc_class']"
      ]
     },
     "execution_count": 8,
     "metadata": {},
     "output_type": "execute_result"
    }
   ],
   "source": [
    "columns"
   ]
  },
  {
   "cell_type": "code",
   "execution_count": 9,
   "metadata": {
    "collapsed": true
   },
   "outputs": [],
   "source": [
    "for i in columns:\n",
    "    df[i].value_counts().plot.bar()"
   ]
  },
  {
   "cell_type": "code",
   "execution_count": 10,
   "metadata": {
    "collapsed": false
   },
   "outputs": [],
   "source": [
    "# display(HTML(df['main_group'].value_counts().reset_index().to_html()))"
   ]
  },
  {
   "cell_type": "code",
   "execution_count": 11,
   "metadata": {
    "collapsed": true
   },
   "outputs": [],
   "source": [
    "df=df.add_prefix('ipcr_')"
   ]
  },
  {
   "cell_type": "code",
   "execution_count": 12,
   "metadata": {
    "collapsed": true
   },
   "outputs": [],
   "source": [
    "df.rename(columns={ df.columns[0]: \"id\" }, inplace = True)"
   ]
  },
  {
   "cell_type": "code",
   "execution_count": 13,
   "metadata": {
    "collapsed": true
   },
   "outputs": [],
   "source": [
    "df = df.applymap(lambda x: str(x).upper())"
   ]
  },
  {
   "cell_type": "code",
   "execution_count": 14,
   "metadata": {
    "collapsed": false
   },
   "outputs": [
    {
     "data": {
      "text/plain": [
       "Index(['id', 'ipcr_section', 'ipcr_ipc_class', 'ipcr_subclass'], dtype='object')"
      ]
     },
     "execution_count": 14,
     "metadata": {},
     "output_type": "execute_result"
    }
   ],
   "source": [
    "df.columns"
   ]
  },
  {
   "cell_type": "code",
   "execution_count": 15,
   "metadata": {
    "collapsed": true
   },
   "outputs": [],
   "source": [
    "# df.iloc[:, 1:-1].to_csv(dst)\n",
    "df.set_index('id').to_csv(dst)"
   ]
  }
 ],
 "metadata": {
  "anaconda-cloud": {},
  "kernelspec": {
   "display_name": "Python [default]",
   "language": "python",
   "name": "python3"
  },
  "language_info": {
   "codemirror_mode": {
    "name": "ipython",
    "version": 3
   },
   "file_extension": ".py",
   "mimetype": "text/x-python",
   "name": "python",
   "nbconvert_exporter": "python",
   "pygments_lexer": "ipython3",
   "version": "3.5.2"
  }
 },
 "nbformat": 4,
 "nbformat_minor": 1
}
