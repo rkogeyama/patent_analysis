{
 "cells": [
  {
   "cell_type": "code",
   "execution_count": 1,
   "metadata": {
    "collapsed": false
   },
   "outputs": [],
   "source": [
    "#script for discovering the best number of attributes\n",
    "\n",
    "\n",
    "def best_num_attr(xList, xListTrain, xListTest, labelsTrain, labelsTest):\n",
    "    #build list of attributes one-at-a-time - starting with empty\n",
    "    attributeList = []\n",
    "    index = range(len(xList[1]))\n",
    "    indexSet = set(index)\n",
    "    indexSeq = []\n",
    "    oosError = []\n",
    "\n",
    "    for i in index:\n",
    "        attSet = set(attributeList) #set creates a list of unordered collection of unique items\n",
    "        #attributes not in list already\n",
    "        attTrySet = indexSet - attSet\n",
    "        #form into list\n",
    "        attTry = [ii for ii in attTrySet]\n",
    "        errorList = []\n",
    "        attTemp = []\n",
    "        #try each attribute not in set to see which\n",
    "        #one gives least oos error\n",
    "        for iTry in attTry:\n",
    "            attTemp = [] + attributeList\n",
    "            attTemp.append(iTry)\n",
    "            #use attTemp to form training and testing sub matrices\n",
    "            #as list of lists\n",
    "            xTrainTemp = xattrSelect(xListTrain, attTemp)\n",
    "            xTestTemp = xattrSelect(xListTest, attTemp)\n",
    "            #form into numpy arrays\n",
    "            xTrain = numpy.array(xTrainTemp)\n",
    "            yTrain = numpy.array(labelsTrain)\n",
    "            xTest = numpy.array(xTestTemp)\n",
    "            yTest = numpy.array(labelsTest)\n",
    "            #use sci-kit learn linear regression\n",
    "            wineQModel = linear_model.LinearRegression()\n",
    "            wineQModel.fit(xTrain,yTrain)\n",
    "            #use trained model to generate prediction and calculate rmsError\n",
    "            rmsError = numpy.linalg.norm((yTest-wineQModel.predict(xTest)),2)/sqrt(len(yTest))\n",
    "            errorList.append(rmsError)\n",
    "            attTemp = []\n",
    "        iBest = numpy.argmin(errorList)\n",
    "        attributeList.append(attTry[iBest])\n",
    "        oosError.append(errorList[iBest])\n",
    "    print(\"Out of sample error versus attribute set size\" )\n",
    "    print(oosError)\n",
    "    print(\"\\n\" + \"Best attribute indices\")\n",
    "    print(attributeList)\n",
    "    namesList = [names[i] for i in attributeList]\n",
    "    print(\"\\n\" + \"Best attribute names\")\n",
    "    print(namesList)\n",
    "\n",
    "    #Plot error versus number of attributes\n",
    "    x = range(len(oosError))\n",
    "    plt.plot(x, oosError, 'k')\n",
    "    plt.xlabel('Number of Attributes')\n",
    "    plt.ylabel('Error (RMS)')\n",
    "    plt.show()\n",
    "   "
   ]
  },
  {
   "cell_type": "code",
   "execution_count": 12,
   "metadata": {
    "collapsed": true
   },
   "outputs": [],
   "source": [
    "#test if the function is working\n",
    "import numpy\n",
    "from sklearn import datasets, linear_model\n",
    "from math import sqrt\n",
    "import matplotlib.pyplot as plt\n",
    "import urllib\n",
    "import csv"
   ]
  },
  {
   "cell_type": "code",
   "execution_count": 67,
   "metadata": {
    "collapsed": false
   },
   "outputs": [],
   "source": [
    "def xattrSelect(x, idxSet):\n",
    "    #takes X matrix as list of list and returns subset containing\n",
    "    #columns in idxSet\n",
    "    xOut = []\n",
    "    for row in x:\n",
    "        xOut.append([row[i] for i in idxSet])\n",
    "    return(xOut)\n",
    "\n",
    "#read data into iterable\n",
    "target_url = (\"http://archive.ics.uci.edu/ml/machine-learning-databases/wine-quality/winequality-red.csv\")\n",
    "data = urllib.request.urlopen(target_url)\n",
    "xList = []\n",
    "labels = []\n",
    "names = []\n",
    "firstLine = True"
   ]
  },
  {
   "cell_type": "code",
   "execution_count": 68,
   "metadata": {
    "collapsed": false
   },
   "outputs": [
    {
     "name": "stdout",
     "output_type": "stream",
     "text": [
      "\"fixed acidity\";\"volatile acidity\";\"citric acid\";\"residual sugar\";\"chlorides\";\"free sulfur dioxide\";\"total sulfur dioxide\";\"density\";\"pH\";\"sulphates\";\"alcohol\";\"quality\"\n",
      "\n",
      "Out of sample error versus attribute set size\n",
      "[0.72342592551162777, 0.68609931528371959, 0.67343650334202776, 0.66770332138977961, 0.6622558568522271, 0.65900047541546247, 0.65727172061430761, 0.65709058062076997, 0.65699930964461373, 0.65758189400434741, 0.65739098690113373]\n",
      "\n",
      "Best attribute indices\n",
      "[10, 1, 9, 4, 6, 8, 5, 3, 2, 7, 0]\n",
      "\n",
      "Best attribute names\n",
      "['\"alcohol\"', '\"volatile acidity\"', '\"sulphates\"', '\"chlorides\"', '\"total sulfur dioxide\"', '\"pH\"', '\"free sulfur dioxide\"', '\"residual sugar\"', '\"citric acid\"', '\"density\"', '\"fixed acidity\"']\n"
     ]
    },
    {
     "data": {
      "image/png": "[encoded data removed]",
      "text/plain": [
       "<matplotlib.figure.Figure at 0x7fdf68a48780>"
      ]
     },
     "metadata": {},
     "output_type": "display_data"
    }
   ],
   "source": [
    "for line in data:\n",
    "    if firstLine:\n",
    "        print(line.decode('utf-8'))\n",
    "        names = line.decode('utf-8').strip().split(\";\")\n",
    "        firstLine = False\n",
    "    else:\n",
    "        #split on semi-colon\n",
    "        row = line.decode('utf-8').strip().split(\";\")\n",
    "        #put labels in separate array\n",
    "        labels.append(float(row[-1]))\n",
    "        #remove label from row\n",
    "        row.pop()\n",
    "        #convert row to floats\n",
    "        floatRow = [float(num) for num in row]\n",
    "        xList.append(floatRow)\n",
    "\n",
    "#divide attributes and labels into training and test sets\n",
    "indices = range(len(xList))\n",
    "xListTest = [xList[i] for i in indices if i%3 == 0 ]\n",
    "xListTrain = [xList[i] for i in indices if i%3 != 0 ]\n",
    "labelsTest = [labels[i] for i in indices if i%3 == 0]\n",
    "labelsTrain = [labels[i] for i in indices if i%3 != 0]\n",
    "\n",
    "#call the function\n",
    "best_num_attr(xList, xListTrain, xListTest, labelsTrain, labelsTest)"
   ]
  },
  {
   "cell_type": "code",
   "execution_count": null,
   "metadata": {
    "collapsed": true
   },
   "outputs": [],
   "source": []
  }
 ],
 "metadata": {
  "anaconda-cloud": {},
  "kernelspec": {
   "display_name": "Python [default]",
   "language": "python",
   "name": "python3"
  },
  "language_info": {
   "codemirror_mode": {
    "name": "ipython",
    "version": 3
   },
   "file_extension": ".py",
   "mimetype": "text/x-python",
   "name": "python",
   "nbconvert_exporter": "python",
   "pygments_lexer": "ipython3",
   "version": "3.5.2"
  }
 },
 "nbformat": 4,
 "nbformat_minor": 1
}
