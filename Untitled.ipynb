{
 "cells": [
  {
   "cell_type": "code",
   "execution_count": 3,
   "metadata": {
    "collapsed": true
   },
   "outputs": [],
   "source": [
    "import pandas as pd\n",
    "import numpy as np"
   ]
  },
  {
   "cell_type": "code",
   "execution_count": 4,
   "metadata": {
    "collapsed": false
   },
   "outputs": [],
   "source": [
    "df = pd.DataFrame(np.random.randint(0,100,size=(100, 4)), columns=list('ABCD'))"
   ]
  },
  {
   "cell_type": "code",
   "execution_count": 18,
   "metadata": {
    "collapsed": true
   },
   "outputs": [],
   "source": [
    "df2 = pd.DataFrame(np.random.randint(0,100,size=(100, 4)), columns=list('FGHI'))"
   ]
  },
  {
   "cell_type": "code",
   "execution_count": 21,
   "metadata": {
    "collapsed": false
   },
   "outputs": [
    {
     "data": {
      "text/html": [
       "<div>\n",
       "<table border=\"1\" class=\"dataframe\">\n",
       "  <thead>\n",
       "    <tr style=\"text-align: right;\">\n",
       "      <th></th>\n",
       "      <th>F</th>\n",
       "      <th>G</th>\n",
       "      <th>H</th>\n",
       "      <th>I</th>\n",
       "    </tr>\n",
       "  </thead>\n",
       "  <tbody>\n",
       "    <tr>\n",
       "      <th>0</th>\n",
       "      <td>27</td>\n",
       "      <td>35</td>\n",
       "      <td>24</td>\n",
       "      <td>22</td>\n",
       "    </tr>\n",
       "    <tr>\n",
       "      <th>1</th>\n",
       "      <td>56</td>\n",
       "      <td>94</td>\n",
       "      <td>96</td>\n",
       "      <td>31</td>\n",
       "    </tr>\n",
       "    <tr>\n",
       "      <th>2</th>\n",
       "      <td>74</td>\n",
       "      <td>10</td>\n",
       "      <td>15</td>\n",
       "      <td>53</td>\n",
       "    </tr>\n",
       "    <tr>\n",
       "      <th>3</th>\n",
       "      <td>4</td>\n",
       "      <td>49</td>\n",
       "      <td>37</td>\n",
       "      <td>64</td>\n",
       "    </tr>\n",
       "    <tr>\n",
       "      <th>4</th>\n",
       "      <td>43</td>\n",
       "      <td>40</td>\n",
       "      <td>3</td>\n",
       "      <td>39</td>\n",
       "    </tr>\n",
       "  </tbody>\n",
       "</table>\n",
       "</div>"
      ],
      "text/plain": [
       "    F   G   H   I\n",
       "0  27  35  24  22\n",
       "1  56  94  96  31\n",
       "2  74  10  15  53\n",
       "3   4  49  37  64\n",
       "4  43  40   3  39"
      ]
     },
     "execution_count": 21,
     "metadata": {},
     "output_type": "execute_result"
    }
   ],
   "source": [
    "df2.head()\n"
   ]
  },
  {
   "cell_type": "code",
   "execution_count": 20,
   "metadata": {
    "collapsed": true
   },
   "outputs": [
    {
     "data": {
      "text/plain": [
       "0     108\n",
       "1     277\n",
       "2     152\n",
       "3     154\n",
       "4     125\n",
       "5     259\n",
       "6     266\n",
       "7     150\n",
       "8     277\n",
       "9     212\n",
       "10    183\n",
       "11    288\n",
       "12    216\n",
       "13    267\n",
       "14    178\n",
       "15    297\n",
       "16    214\n",
       "17    267\n",
       "18    182\n",
       "19    172\n",
       "20    114\n",
       "21    205\n",
       "22    174\n",
       "23    149\n",
       "24    197\n",
       "25     98\n",
       "26    252\n",
       "27    138\n",
       "28    174\n",
       "29    262\n",
       "     ... \n",
       "70    248\n",
       "71    176\n",
       "72    254\n",
       "73    188\n",
       "74    194\n",
       "75    205\n",
       "76    177\n",
       "77    141\n",
       "78    229\n",
       "79    187\n",
       "80    111\n",
       "81    211\n",
       "82    206\n",
       "83    208\n",
       "84    154\n",
       "85    285\n",
       "86    172\n",
       "87    267\n",
       "88    152\n",
       "89     95\n",
       "90    187\n",
       "91    214\n",
       "92    206\n",
       "93    105\n",
       "94    274\n",
       "95    138\n",
       "96     53\n",
       "97    201\n",
       "98    203\n",
       "99    165\n",
       "dtype: int64"
      ]
     },
     "execution_count": 20,
     "metadata": {},
     "output_type": "execute_result"
    }
   ],
   "source": [
    "df2.sum(axis='columns')"
   ]
  },
  {
   "cell_type": "code",
   "execution_count": 26,
   "metadata": {
    "collapsed": true
   },
   "outputs": [
    {
     "data": {
      "text/plain": [
       "0     78\n",
       "1     69\n",
       "2      9\n",
       "3     35\n",
       "4     31\n",
       "5     87\n",
       "6     77\n",
       "7      3\n",
       "8     90\n",
       "9     85\n",
       "10    31\n",
       "11    96\n",
       "12    80\n",
       "13    97\n",
       "14    55\n",
       "15    81\n",
       "16    10\n",
       "17     3\n",
       "18    61\n",
       "19    61\n",
       "20    12\n",
       "21    29\n",
       "22    33\n",
       "23    55\n",
       "24    44\n",
       "25    25\n",
       "26    69\n",
       "27    36\n",
       "28    81\n",
       "29    86\n",
       "      ..\n",
       "70    67\n",
       "71    85\n",
       "72    29\n",
       "73    17\n",
       "74    57\n",
       "75    31\n",
       "76    66\n",
       "77     3\n",
       "78    73\n",
       "79    34\n",
       "80    20\n",
       "81    68\n",
       "82    64\n",
       "83    77\n",
       "84    80\n",
       "85    80\n",
       "86     8\n",
       "87    90\n",
       "88    33\n",
       "89    27\n",
       "90    32\n",
       "91    51\n",
       "92    28\n",
       "93    41\n",
       "94     1\n",
       "95    46\n",
       "96    68\n",
       "97    59\n",
       "98    35\n",
       "99    30\n",
       "Name: A, dtype: int64"
      ]
     },
     "execution_count": 26,
     "metadata": {},
     "output_type": "execute_result"
    }
   ],
   "source": [
    "df.iloc[:,0]"
   ]
  },
  {
   "cell_type": "code",
   "execution_count": 27,
   "metadata": {
    "collapsed": false
   },
   "outputs": [
    {
     "data": {
      "text/plain": [
       "0       0.017751\n",
       "1       0.058181\n",
       "2       1.876543\n",
       "3       0.125714\n",
       "4       0.130073\n",
       "5       0.034219\n",
       "6       0.044864\n",
       "7      16.666667\n",
       "8       0.034198\n",
       "9       0.029343\n",
       "10      0.190427\n",
       "11      0.031250\n",
       "12      0.033750\n",
       "13      0.028377\n",
       "14      0.058843\n",
       "15      0.045267\n",
       "16      2.140000\n",
       "17     29.666667\n",
       "18      0.048912\n",
       "19      0.046224\n",
       "20      0.791667\n",
       "21      0.243757\n",
       "22      0.159780\n",
       "23      0.049256\n",
       "24      0.101756\n",
       "25      0.156800\n",
       "26      0.052930\n",
       "27      0.106481\n",
       "28      0.026520\n",
       "29      0.035425\n",
       "         ...    \n",
       "70      0.055246\n",
       "71      0.024360\n",
       "72      0.302021\n",
       "73      0.650519\n",
       "74      0.059711\n",
       "75      0.213319\n",
       "76      0.040634\n",
       "77     15.666667\n",
       "78      0.042972\n",
       "79      0.161765\n",
       "80      0.277500\n",
       "81      0.045631\n",
       "82      0.050293\n",
       "83      0.035082\n",
       "84      0.024063\n",
       "85      0.044531\n",
       "86      2.687500\n",
       "87      0.032963\n",
       "88      0.139578\n",
       "89      0.130316\n",
       "90      0.182617\n",
       "91      0.082276\n",
       "92      0.262755\n",
       "93      0.062463\n",
       "94    274.000000\n",
       "95      0.065217\n",
       "96      0.011462\n",
       "97      0.057742\n",
       "98      0.165714\n",
       "99      0.183333\n",
       "dtype: float64"
      ]
     },
     "execution_count": 27,
     "metadata": {},
     "output_type": "execute_result"
    }
   ],
   "source": [
    "df2.sum(axis='columns')/np.square(df).iloc[:,0]"
   ]
  },
  {
   "cell_type": "code",
   "execution_count": null,
   "metadata": {
    "collapsed": true
   },
   "outputs": [],
   "source": []
  }
 ],
 "metadata": {
  "anaconda-cloud": {},
  "kernelspec": {
   "display_name": "Python [default]",
   "language": "python",
   "name": "python3"
  },
  "language_info": {
   "codemirror_mode": {
    "name": "ipython",
    "version": 3
   },
   "file_extension": ".py",
   "mimetype": "text/x-python",
   "name": "python",
   "nbconvert_exporter": "python",
   "pygments_lexer": "ipython3",
   "version": "3.5.2"
  }
 },
 "nbformat": 4,
 "nbformat_minor": 1
}
