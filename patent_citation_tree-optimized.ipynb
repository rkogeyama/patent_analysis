{
 "cells": [
  {
   "cell_type": "code",
   "execution_count": 1,
   "metadata": {
    "collapsed": true
   },
   "outputs": [],
   "source": [
    "#Miami, December 27th, 2019\n",
    "#Renato Kogeyama\n",
    "\n",
    "# Due bad performance, I am updating the script to more efficient coding\n",
    "\n",
    "# This script generates a citation ouput with patent|backward citation|cumulated backward citation | year\n",
    "# The output generates a citation record by year, considering direct and indirect citation\n"
   ]
  },
  {
   "cell_type": "code",
   "execution_count": 2,
   "metadata": {
    "collapsed": true
   },
   "outputs": [],
   "source": [
    "import pandas as pd\n",
    "import re\n",
    "import matplotlib.pyplot as plot\n",
    "\n",
    "import sys\n",
    "sys.path.append('/home/rkogeyam/scripts/')\n",
    "from sampler import sampler\n"
   ]
  },
  {
   "cell_type": "code",
   "execution_count": 3,
   "metadata": {
    "collapsed": true
   },
   "outputs": [],
   "source": [
    "%matplotlib inline"
   ]
  },
  {
   "cell_type": "code",
   "execution_count": 4,
   "metadata": {
    "collapsed": true
   },
   "outputs": [],
   "source": [
    "fname = r'/home/rkogeyam/PATENT_CITATION/uspatentcitation.tsv'"
   ]
  },
  {
   "cell_type": "code",
   "execution_count": 5,
   "metadata": {
    "collapsed": false
   },
   "outputs": [
    {
     "name": "stdout",
     "output_type": "stream",
     "text": [
      "CPU times: user 5min 36s, sys: 9.63 s, total: 5min 45s\n",
      "Wall time: 5min 45s\n"
     ]
    }
   ],
   "source": [
    "%%time\n",
    "# df=pd.read_csv(fname, sep='\\t')\n",
    "\n",
    "sample_size=1000\n",
    "df=sampler(fname, sample_size, sep='\\t')"
   ]
  },
  {
   "cell_type": "code",
   "execution_count": 6,
   "metadata": {
    "collapsed": false
   },
   "outputs": [],
   "source": [
    "df['patent_id']=df['patent_id'].astype(str)"
   ]
  },
  {
   "cell_type": "code",
   "execution_count": 7,
   "metadata": {
    "collapsed": false
   },
   "outputs": [],
   "source": [
    "df['citation_id']=df['citation_id'].astype(str)"
   ]
  },
  {
   "cell_type": "code",
   "execution_count": 8,
   "metadata": {
    "collapsed": false
   },
   "outputs": [
    {
     "data": {
      "text/plain": [
       "uuid           object\n",
       "patent_id      object\n",
       "citation_id    object\n",
       "date           object\n",
       "name           object\n",
       "kind           object\n",
       "country        object\n",
       "category       object\n",
       "sequence        int64\n",
       "dtype: object"
      ]
     },
     "execution_count": 8,
     "metadata": {},
     "output_type": "execute_result"
    }
   ],
   "source": [
    "df.dtypes"
   ]
  },
  {
   "cell_type": "code",
   "execution_count": 9,
   "metadata": {
    "collapsed": true
   },
   "outputs": [
    {
     "data": {
      "text/html": [
       "<div>\n",
       "<table border=\"1\" class=\"dataframe\">\n",
       "  <thead>\n",
       "    <tr style=\"text-align: right;\">\n",
       "      <th></th>\n",
       "      <th>uuid</th>\n",
       "      <th>patent_id</th>\n",
       "      <th>citation_id</th>\n",
       "      <th>date</th>\n",
       "      <th>name</th>\n",
       "      <th>kind</th>\n",
       "      <th>country</th>\n",
       "      <th>category</th>\n",
       "      <th>sequence</th>\n",
       "    </tr>\n",
       "  </thead>\n",
       "  <tbody>\n",
       "    <tr>\n",
       "      <th>0</th>\n",
       "      <td>00h8rtzytugjmhqlmspt10h8g</td>\n",
       "      <td>9439669</td>\n",
       "      <td>5843109</td>\n",
       "      <td>1998-12-01</td>\n",
       "      <td>Mehta et al.</td>\n",
       "      <td>A</td>\n",
       "      <td>US</td>\n",
       "      <td>cited by applicant</td>\n",
       "      <td>218</td>\n",
       "    </tr>\n",
       "    <tr>\n",
       "      <th>1</th>\n",
       "      <td>00kapyuimet8xnr5xph1y3o6y</td>\n",
       "      <td>7436128</td>\n",
       "      <td>5410466</td>\n",
       "      <td>1995-04-01</td>\n",
       "      <td>Maehara</td>\n",
       "      <td>A</td>\n",
       "      <td>US</td>\n",
       "      <td>cited by examiner</td>\n",
       "      <td>0</td>\n",
       "    </tr>\n",
       "    <tr>\n",
       "      <th>2</th>\n",
       "      <td>03prqufyy03rq3c5xvxpl6ahi</td>\n",
       "      <td>7202696</td>\n",
       "      <td>6608515</td>\n",
       "      <td>2003-08-01</td>\n",
       "      <td>Taheri</td>\n",
       "      <td>B2</td>\n",
       "      <td>US</td>\n",
       "      <td>cited by other</td>\n",
       "      <td>14</td>\n",
       "    </tr>\n",
       "    <tr>\n",
       "      <th>3</th>\n",
       "      <td>04iin8oae0g5f6y0ssvqklzna</td>\n",
       "      <td>6451030</td>\n",
       "      <td>5531792</td>\n",
       "      <td>1996-07-01</td>\n",
       "      <td>Huene</td>\n",
       "      <td>A</td>\n",
       "      <td>US</td>\n",
       "      <td>cited by other</td>\n",
       "      <td>19</td>\n",
       "    </tr>\n",
       "    <tr>\n",
       "      <th>4</th>\n",
       "      <td>08l1ezzjgi6lcni9x1xbjvv1i</td>\n",
       "      <td>6205503</td>\n",
       "      <td>5715456</td>\n",
       "      <td>1998-02-01</td>\n",
       "      <td>Bennett et al.</td>\n",
       "      <td>NaN</td>\n",
       "      <td>US</td>\n",
       "      <td>NaN</td>\n",
       "      <td>165</td>\n",
       "    </tr>\n",
       "    <tr>\n",
       "      <th>5</th>\n",
       "      <td>09hysjndz30105mc6olvrjtx4</td>\n",
       "      <td>8103589</td>\n",
       "      <td>6154207</td>\n",
       "      <td>2000-11-01</td>\n",
       "      <td>Farris et al.</td>\n",
       "      <td>A</td>\n",
       "      <td>US</td>\n",
       "      <td>cited by other</td>\n",
       "      <td>332</td>\n",
       "    </tr>\n",
       "    <tr>\n",
       "      <th>6</th>\n",
       "      <td>09z3gbl7j3ifxjq3v07mrqlps</td>\n",
       "      <td>7599342</td>\n",
       "      <td>6601135</td>\n",
       "      <td>2003-07-01</td>\n",
       "      <td>McBrearty et al.</td>\n",
       "      <td>B1</td>\n",
       "      <td>US</td>\n",
       "      <td>cited by other</td>\n",
       "      <td>18</td>\n",
       "    </tr>\n",
       "    <tr>\n",
       "      <th>7</th>\n",
       "      <td>0ar3n61z29wig0u3pntgwkvk5</td>\n",
       "      <td>D276620</td>\n",
       "      <td>2926591</td>\n",
       "      <td>1960-03-01</td>\n",
       "      <td>Huffman</td>\n",
       "      <td>NaN</td>\n",
       "      <td>US</td>\n",
       "      <td>NaN</td>\n",
       "      <td>2</td>\n",
       "    </tr>\n",
       "    <tr>\n",
       "      <th>8</th>\n",
       "      <td>0b8z9hcgjkm5a9eg2k7tg24dr</td>\n",
       "      <td>5653580</td>\n",
       "      <td>3062499</td>\n",
       "      <td>1962-11-01</td>\n",
       "      <td>Petersen</td>\n",
       "      <td>NaN</td>\n",
       "      <td>US</td>\n",
       "      <td>NaN</td>\n",
       "      <td>1</td>\n",
       "    </tr>\n",
       "    <tr>\n",
       "      <th>9</th>\n",
       "      <td>0beq19gs7isdg4e3r2ijigc2r</td>\n",
       "      <td>9038114</td>\n",
       "      <td>6636953</td>\n",
       "      <td>2003-10-01</td>\n",
       "      <td>Yuasa et al.</td>\n",
       "      <td>B2</td>\n",
       "      <td>US</td>\n",
       "      <td>cited by applicant</td>\n",
       "      <td>1</td>\n",
       "    </tr>\n",
       "    <tr>\n",
       "      <th>10</th>\n",
       "      <td>0d3o56a6lm3wvhexceqhoyxhb</td>\n",
       "      <td>6956021</td>\n",
       "      <td>4524769</td>\n",
       "      <td>1985-06-01</td>\n",
       "      <td>Wetterlin</td>\n",
       "      <td>A</td>\n",
       "      <td>US</td>\n",
       "      <td>cited by other</td>\n",
       "      <td>14</td>\n",
       "    </tr>\n",
       "    <tr>\n",
       "      <th>11</th>\n",
       "      <td>0es1941adqw7vkk9whvr1cd4u</td>\n",
       "      <td>7379515</td>\n",
       "      <td>6144846</td>\n",
       "      <td>2000-11-01</td>\n",
       "      <td>Durec</td>\n",
       "      <td>A</td>\n",
       "      <td>US</td>\n",
       "      <td>cited by other</td>\n",
       "      <td>587</td>\n",
       "    </tr>\n",
       "    <tr>\n",
       "      <th>12</th>\n",
       "      <td>0fenm0b7n117kxselsmpw8diq</td>\n",
       "      <td>7452879</td>\n",
       "      <td>6534524</td>\n",
       "      <td>2003-03-01</td>\n",
       "      <td>Kania et al.</td>\n",
       "      <td>B1</td>\n",
       "      <td>US</td>\n",
       "      <td>cited by other</td>\n",
       "      <td>58</td>\n",
       "    </tr>\n",
       "    <tr>\n",
       "      <th>13</th>\n",
       "      <td>0gww2eeru19cavk13xw9n7l1k</td>\n",
       "      <td>6523973</td>\n",
       "      <td>5463539</td>\n",
       "      <td>1995-10-01</td>\n",
       "      <td>Vandenbelt et al.</td>\n",
       "      <td>A</td>\n",
       "      <td>US</td>\n",
       "      <td>cited by other</td>\n",
       "      <td>24</td>\n",
       "    </tr>\n",
       "    <tr>\n",
       "      <th>14</th>\n",
       "      <td>0hv7b0xedcjnrpaghkipoykyw</td>\n",
       "      <td>7816680</td>\n",
       "      <td>7061014</td>\n",
       "      <td>2006-06-01</td>\n",
       "      <td>Hosono et al.</td>\n",
       "      <td>B2</td>\n",
       "      <td>US</td>\n",
       "      <td>cited by other</td>\n",
       "      <td>12</td>\n",
       "    </tr>\n",
       "    <tr>\n",
       "      <th>15</th>\n",
       "      <td>0m38sacwnjk7554pqvcdgaew9</td>\n",
       "      <td>9449850</td>\n",
       "      <td>5231690</td>\n",
       "      <td>1993-07-01</td>\n",
       "      <td>Soma et al.</td>\n",
       "      <td>A</td>\n",
       "      <td>US</td>\n",
       "      <td>cited by applicant</td>\n",
       "      <td>68</td>\n",
       "    </tr>\n",
       "    <tr>\n",
       "      <th>16</th>\n",
       "      <td>0n8yblfhfrqkhd5jheaapklse</td>\n",
       "      <td>5841074</td>\n",
       "      <td>4511950</td>\n",
       "      <td>1985-04-00</td>\n",
       "      <td>Bunner et al.                                 ...</td>\n",
       "      <td>NaN</td>\n",
       "      <td>US</td>\n",
       "      <td>NaN</td>\n",
       "      <td>2</td>\n",
       "    </tr>\n",
       "    <tr>\n",
       "      <th>17</th>\n",
       "      <td>0nfeakfg3hbv5yzdjvv8r1zd5</td>\n",
       "      <td>D744612</td>\n",
       "      <td>D418904</td>\n",
       "      <td>2000-01-01</td>\n",
       "      <td>Milrud</td>\n",
       "      <td>S</td>\n",
       "      <td>US</td>\n",
       "      <td>cited by applicant</td>\n",
       "      <td>618</td>\n",
       "    </tr>\n",
       "    <tr>\n",
       "      <th>18</th>\n",
       "      <td>0oqc6kzqfbbw52leddy7mmcxy</td>\n",
       "      <td>6122392</td>\n",
       "      <td>5541662</td>\n",
       "      <td>1996-07-01</td>\n",
       "      <td>Adams et al.</td>\n",
       "      <td>NaN</td>\n",
       "      <td>US</td>\n",
       "      <td>NaN</td>\n",
       "      <td>181</td>\n",
       "    </tr>\n",
       "    <tr>\n",
       "      <th>19</th>\n",
       "      <td>0owrtedijjtbjx8d9am472r7o</td>\n",
       "      <td>7251983</td>\n",
       "      <td>5831149</td>\n",
       "      <td>1998-11-01</td>\n",
       "      <td>Webb</td>\n",
       "      <td>A</td>\n",
       "      <td>US</td>\n",
       "      <td>cited by other</td>\n",
       "      <td>43</td>\n",
       "    </tr>\n",
       "    <tr>\n",
       "      <th>20</th>\n",
       "      <td>0ptdun7kbi7so28v6jbzf7w5i</td>\n",
       "      <td>7217149</td>\n",
       "      <td>5167515</td>\n",
       "      <td>1992-12-01</td>\n",
       "      <td>Matsuoka et al.</td>\n",
       "      <td>A</td>\n",
       "      <td>US</td>\n",
       "      <td>cited by examiner</td>\n",
       "      <td>3</td>\n",
       "    </tr>\n",
       "    <tr>\n",
       "      <th>21</th>\n",
       "      <td>0rxuupbcp5nps1kna36czxy3s</td>\n",
       "      <td>4951387</td>\n",
       "      <td>4685628</td>\n",
       "      <td>1987-08-01</td>\n",
       "      <td>Berrett</td>\n",
       "      <td>NaN</td>\n",
       "      <td>US</td>\n",
       "      <td>NaN</td>\n",
       "      <td>4</td>\n",
       "    </tr>\n",
       "    <tr>\n",
       "      <th>22</th>\n",
       "      <td>0uvvyd2b43zvm9ze993x4g2yc</td>\n",
       "      <td>9372160</td>\n",
       "      <td>4547674</td>\n",
       "      <td>1985-10-01</td>\n",
       "      <td>Pryor et al.</td>\n",
       "      <td>A</td>\n",
       "      <td>US</td>\n",
       "      <td>cited by applicant</td>\n",
       "      <td>7</td>\n",
       "    </tr>\n",
       "    <tr>\n",
       "      <th>23</th>\n",
       "      <td>0w84d33lf40idse5phpbss4uv</td>\n",
       "      <td>7977924</td>\n",
       "      <td>6880403</td>\n",
       "      <td>2005-04-01</td>\n",
       "      <td>Shimada et al.</td>\n",
       "      <td>B1</td>\n",
       "      <td>US</td>\n",
       "      <td>cited by other</td>\n",
       "      <td>107</td>\n",
       "    </tr>\n",
       "    <tr>\n",
       "      <th>24</th>\n",
       "      <td>0x8qs4yi5d7eq1jmxhprvqi2i</td>\n",
       "      <td>6647993</td>\n",
       "      <td>5788778</td>\n",
       "      <td>1998-08-01</td>\n",
       "      <td>Shang et al.</td>\n",
       "      <td>A</td>\n",
       "      <td>US</td>\n",
       "      <td>cited by examiner</td>\n",
       "      <td>3</td>\n",
       "    </tr>\n",
       "    <tr>\n",
       "      <th>25</th>\n",
       "      <td>0xww2dncxa4lh6ry43h7e936m</td>\n",
       "      <td>5260713</td>\n",
       "      <td>3216017</td>\n",
       "      <td>1965-11-01</td>\n",
       "      <td>Moore</td>\n",
       "      <td>NaN</td>\n",
       "      <td>US</td>\n",
       "      <td>NaN</td>\n",
       "      <td>1</td>\n",
       "    </tr>\n",
       "    <tr>\n",
       "      <th>26</th>\n",
       "      <td>0ys7s4cldfi8gvhzvmdca0pzg</td>\n",
       "      <td>4778049</td>\n",
       "      <td>576653</td>\n",
       "      <td>1897-02-01</td>\n",
       "      <td>Bowlby</td>\n",
       "      <td>NaN</td>\n",
       "      <td>US</td>\n",
       "      <td>NaN</td>\n",
       "      <td>0</td>\n",
       "    </tr>\n",
       "    <tr>\n",
       "      <th>27</th>\n",
       "      <td>0z1sjknqtgk515tcvdg6oqq3h</td>\n",
       "      <td>8366727</td>\n",
       "      <td>5322055</td>\n",
       "      <td>1994-06-01</td>\n",
       "      <td>Davison et al.</td>\n",
       "      <td>A</td>\n",
       "      <td>US</td>\n",
       "      <td>cited by applicant</td>\n",
       "      <td>3</td>\n",
       "    </tr>\n",
       "    <tr>\n",
       "      <th>28</th>\n",
       "      <td>12tctjlyrst452r4mi2ypqinj</td>\n",
       "      <td>8556983</td>\n",
       "      <td>6249692</td>\n",
       "      <td>2001-06-01</td>\n",
       "      <td>Cowin</td>\n",
       "      <td>B1</td>\n",
       "      <td>US</td>\n",
       "      <td>cited by applicant</td>\n",
       "      <td>205</td>\n",
       "    </tr>\n",
       "    <tr>\n",
       "      <th>29</th>\n",
       "      <td>13h7jys2udlrioo4kep0719vz</td>\n",
       "      <td>7469045</td>\n",
       "      <td>6449344</td>\n",
       "      <td>2002-09-01</td>\n",
       "      <td>Goldfinger et al.</td>\n",
       "      <td>B1</td>\n",
       "      <td>US</td>\n",
       "      <td>cited by other</td>\n",
       "      <td>0</td>\n",
       "    </tr>\n",
       "    <tr>\n",
       "      <th>...</th>\n",
       "      <td>...</td>\n",
       "      <td>...</td>\n",
       "      <td>...</td>\n",
       "      <td>...</td>\n",
       "      <td>...</td>\n",
       "      <td>...</td>\n",
       "      <td>...</td>\n",
       "      <td>...</td>\n",
       "      <td>...</td>\n",
       "    </tr>\n",
       "    <tr>\n",
       "      <th>585</th>\n",
       "      <td>kkhlqsld18xdp1gghhfavwilb</td>\n",
       "      <td>5443509</td>\n",
       "      <td>4463753</td>\n",
       "      <td>1984-08-01</td>\n",
       "      <td>Gustilo</td>\n",
       "      <td>NaN</td>\n",
       "      <td>US</td>\n",
       "      <td>NaN</td>\n",
       "      <td>4</td>\n",
       "    </tr>\n",
       "    <tr>\n",
       "      <th>586</th>\n",
       "      <td>kr1xyqptzopvjqcgjykqfc4tq</td>\n",
       "      <td>4030228</td>\n",
       "      <td>2814904</td>\n",
       "      <td>1957-12-01</td>\n",
       "      <td>Reedall</td>\n",
       "      <td>NaN</td>\n",
       "      <td>US</td>\n",
       "      <td>NaN</td>\n",
       "      <td>2</td>\n",
       "    </tr>\n",
       "    <tr>\n",
       "      <th>587</th>\n",
       "      <td>krjn1wcl1zduhjwpk75frugy2</td>\n",
       "      <td>8333177</td>\n",
       "      <td>5960809</td>\n",
       "      <td>1999-10-01</td>\n",
       "      <td>Keller</td>\n",
       "      <td>A</td>\n",
       "      <td>US</td>\n",
       "      <td>cited by other</td>\n",
       "      <td>5</td>\n",
       "    </tr>\n",
       "    <tr>\n",
       "      <th>588</th>\n",
       "      <td>krxw6yj9andos3xj4xfacbhnx</td>\n",
       "      <td>RE46501</td>\n",
       "      <td>5666662</td>\n",
       "      <td>1997-09-01</td>\n",
       "      <td>Shibuya</td>\n",
       "      <td>A</td>\n",
       "      <td>US</td>\n",
       "      <td>cited by applicant</td>\n",
       "      <td>3</td>\n",
       "    </tr>\n",
       "    <tr>\n",
       "      <th>589</th>\n",
       "      <td>ktjx39bgwy4hxekejgi7wnc4t</td>\n",
       "      <td>4877696</td>\n",
       "      <td>3180008</td>\n",
       "      <td>1965-04-01</td>\n",
       "      <td>Elderkin et al.</td>\n",
       "      <td>NaN</td>\n",
       "      <td>US</td>\n",
       "      <td>NaN</td>\n",
       "      <td>3</td>\n",
       "    </tr>\n",
       "    <tr>\n",
       "      <th>590</th>\n",
       "      <td>kus3yjovyucmjztv9rsms7qu6</td>\n",
       "      <td>6278092</td>\n",
       "      <td>5804797</td>\n",
       "      <td>1998-09-01</td>\n",
       "      <td>Kaimoto et al.</td>\n",
       "      <td>NaN</td>\n",
       "      <td>US</td>\n",
       "      <td>NaN</td>\n",
       "      <td>3</td>\n",
       "    </tr>\n",
       "    <tr>\n",
       "      <th>591</th>\n",
       "      <td>kv7fxhtsrunlrzu9lri0w15v4</td>\n",
       "      <td>8099800</td>\n",
       "      <td>6588026</td>\n",
       "      <td>2003-07-01</td>\n",
       "      <td>Meier et al.</td>\n",
       "      <td>B2</td>\n",
       "      <td>US</td>\n",
       "      <td>cited by other</td>\n",
       "      <td>54</td>\n",
       "    </tr>\n",
       "    <tr>\n",
       "      <th>592</th>\n",
       "      <td>kxdtrqrs3jzha8b6rsojb548k</td>\n",
       "      <td>9448182</td>\n",
       "      <td>4410493</td>\n",
       "      <td>1983-10-01</td>\n",
       "      <td>Joslyn</td>\n",
       "      <td>A</td>\n",
       "      <td>US</td>\n",
       "      <td>cited by applicant</td>\n",
       "      <td>77</td>\n",
       "    </tr>\n",
       "    <tr>\n",
       "      <th>593</th>\n",
       "      <td>kxtx28l01zd2ny0iquqohpz0v</td>\n",
       "      <td>6832704</td>\n",
       "      <td>5363992</td>\n",
       "      <td>1994-11-01</td>\n",
       "      <td>Meshberg</td>\n",
       "      <td>A</td>\n",
       "      <td>US</td>\n",
       "      <td>cited by other</td>\n",
       "      <td>91</td>\n",
       "    </tr>\n",
       "    <tr>\n",
       "      <th>594</th>\n",
       "      <td>kzn9sulg722nwslojm4sv4xk2</td>\n",
       "      <td>D724524</td>\n",
       "      <td>D680949</td>\n",
       "      <td>2013-04-01</td>\n",
       "      <td>Swatek</td>\n",
       "      <td>S</td>\n",
       "      <td>US</td>\n",
       "      <td>cited by examiner</td>\n",
       "      <td>17</td>\n",
       "    </tr>\n",
       "    <tr>\n",
       "      <th>595</th>\n",
       "      <td>kzt0dwxk1nwt5mmsx9xwzwbqs</td>\n",
       "      <td>7395249</td>\n",
       "      <td>5771511</td>\n",
       "      <td>1998-06-01</td>\n",
       "      <td>Kummer et al.</td>\n",
       "      <td>A</td>\n",
       "      <td>US</td>\n",
       "      <td>cited by other</td>\n",
       "      <td>201</td>\n",
       "    </tr>\n",
       "    <tr>\n",
       "      <th>596</th>\n",
       "      <td>l0w4fcqyij5d0obdrpdjq5qoh</td>\n",
       "      <td>6782205</td>\n",
       "      <td>5129716</td>\n",
       "      <td>1992-07-01</td>\n",
       "      <td>Holakovszky et al.</td>\n",
       "      <td>A</td>\n",
       "      <td>US</td>\n",
       "      <td>cited by other</td>\n",
       "      <td>278</td>\n",
       "    </tr>\n",
       "    <tr>\n",
       "      <th>597</th>\n",
       "      <td>l77et7ecs4xzy5wwnhbmesw9l</td>\n",
       "      <td>6450985</td>\n",
       "      <td>4321993</td>\n",
       "      <td>1982-03-01</td>\n",
       "      <td>Hinzmann et al.</td>\n",
       "      <td>A</td>\n",
       "      <td>US</td>\n",
       "      <td>cited by other</td>\n",
       "      <td>2</td>\n",
       "    </tr>\n",
       "    <tr>\n",
       "      <th>598</th>\n",
       "      <td>l94nraluyvcv3ppkcbzkkd3m5</td>\n",
       "      <td>8297976</td>\n",
       "      <td>6994551</td>\n",
       "      <td>2006-02-01</td>\n",
       "      <td>Wang et al.</td>\n",
       "      <td>B2</td>\n",
       "      <td>US</td>\n",
       "      <td>cited by other</td>\n",
       "      <td>11</td>\n",
       "    </tr>\n",
       "    <tr>\n",
       "      <th>599</th>\n",
       "      <td>l9f5c8g8elgl17o2nu0r2dczu</td>\n",
       "      <td>6684939</td>\n",
       "      <td>4513809</td>\n",
       "      <td>1985-04-01</td>\n",
       "      <td>Schneider et al.</td>\n",
       "      <td>A</td>\n",
       "      <td>US</td>\n",
       "      <td>cited by other</td>\n",
       "      <td>4</td>\n",
       "    </tr>\n",
       "    <tr>\n",
       "      <th>600</th>\n",
       "      <td>la62lga5ssjldfa8w8ss9gewb</td>\n",
       "      <td>4448709</td>\n",
       "      <td>4176064</td>\n",
       "      <td>1979-11-01</td>\n",
       "      <td>Black</td>\n",
       "      <td>NaN</td>\n",
       "      <td>US</td>\n",
       "      <td>NaN</td>\n",
       "      <td>8</td>\n",
       "    </tr>\n",
       "    <tr>\n",
       "      <th>601</th>\n",
       "      <td>ld2ywwvwruwpt2f6z1dxu16v5</td>\n",
       "      <td>5103117</td>\n",
       "      <td>4542308</td>\n",
       "      <td>1985-09-01</td>\n",
       "      <td>Winen et al.</td>\n",
       "      <td>NaN</td>\n",
       "      <td>US</td>\n",
       "      <td>NaN</td>\n",
       "      <td>0</td>\n",
       "    </tr>\n",
       "    <tr>\n",
       "      <th>602</th>\n",
       "      <td>lg57nq9wgjrtx3c3vh946rpv0</td>\n",
       "      <td>4692161</td>\n",
       "      <td>4136699</td>\n",
       "      <td>1979-01-01</td>\n",
       "      <td>Collins et al.</td>\n",
       "      <td>NaN</td>\n",
       "      <td>US</td>\n",
       "      <td>NaN</td>\n",
       "      <td>7</td>\n",
       "    </tr>\n",
       "    <tr>\n",
       "      <th>603</th>\n",
       "      <td>lgq90ulgj4b6zl4xlehf406vp</td>\n",
       "      <td>5112309</td>\n",
       "      <td>4650462</td>\n",
       "      <td>1987-03-01</td>\n",
       "      <td>DeSatnick et al.</td>\n",
       "      <td>NaN</td>\n",
       "      <td>US</td>\n",
       "      <td>NaN</td>\n",
       "      <td>8</td>\n",
       "    </tr>\n",
       "    <tr>\n",
       "      <th>604</th>\n",
       "      <td>lh09yfhyh19uu73g5zvnzvahh</td>\n",
       "      <td>6983174</td>\n",
       "      <td>5825762</td>\n",
       "      <td>1998-10-01</td>\n",
       "      <td>Kamin, Jr. et al.</td>\n",
       "      <td>A</td>\n",
       "      <td>US</td>\n",
       "      <td>cited by other</td>\n",
       "      <td>59</td>\n",
       "    </tr>\n",
       "    <tr>\n",
       "      <th>605</th>\n",
       "      <td>liw90vi1wd6r7m5i6lbpduyvt</td>\n",
       "      <td>5714720</td>\n",
       "      <td>4890096</td>\n",
       "      <td>1989-12-00</td>\n",
       "      <td>Taguchi                                       ...</td>\n",
       "      <td>NaN</td>\n",
       "      <td>US</td>\n",
       "      <td>NaN</td>\n",
       "      <td>16</td>\n",
       "    </tr>\n",
       "    <tr>\n",
       "      <th>606</th>\n",
       "      <td>lj7kiklbhcwk88lwt7bsy8lo5</td>\n",
       "      <td>8354150</td>\n",
       "      <td>3817803</td>\n",
       "      <td>1974-06-01</td>\n",
       "      <td>Horsley</td>\n",
       "      <td>A</td>\n",
       "      <td>US</td>\n",
       "      <td>cited by applicant</td>\n",
       "      <td>27</td>\n",
       "    </tr>\n",
       "    <tr>\n",
       "      <th>607</th>\n",
       "      <td>ljopydtmx1pgn4yo0mkyqvac7</td>\n",
       "      <td>D732169</td>\n",
       "      <td>6726480</td>\n",
       "      <td>2004-04-01</td>\n",
       "      <td>Sutter</td>\n",
       "      <td>B1</td>\n",
       "      <td>US</td>\n",
       "      <td>cited by applicant</td>\n",
       "      <td>21</td>\n",
       "    </tr>\n",
       "    <tr>\n",
       "      <th>608</th>\n",
       "      <td>llmv2ip3bvfs3jmibet311r2o</td>\n",
       "      <td>8965150</td>\n",
       "      <td>6927690</td>\n",
       "      <td>2005-08-01</td>\n",
       "      <td>Wilson</td>\n",
       "      <td>B2</td>\n",
       "      <td>US</td>\n",
       "      <td>cited by applicant</td>\n",
       "      <td>10</td>\n",
       "    </tr>\n",
       "    <tr>\n",
       "      <th>609</th>\n",
       "      <td>llvcdl9rrhg8be9srgmr6wvo9</td>\n",
       "      <td>7886804</td>\n",
       "      <td>3447584</td>\n",
       "      <td>1969-06-01</td>\n",
       "      <td>Smart</td>\n",
       "      <td>A</td>\n",
       "      <td>US</td>\n",
       "      <td>cited by other</td>\n",
       "      <td>1</td>\n",
       "    </tr>\n",
       "    <tr>\n",
       "      <th>610</th>\n",
       "      <td>lmoeq4g3rsqhmnvc03pmhnce3</td>\n",
       "      <td>9562394</td>\n",
       "      <td>5156223</td>\n",
       "      <td>1992-10-01</td>\n",
       "      <td>Hipp</td>\n",
       "      <td>A</td>\n",
       "      <td>US</td>\n",
       "      <td>cited by applicant</td>\n",
       "      <td>9</td>\n",
       "    </tr>\n",
       "    <tr>\n",
       "      <th>611</th>\n",
       "      <td>ln3aqd39ldipezsg3ld6k3tzl</td>\n",
       "      <td>9522254</td>\n",
       "      <td>5817069</td>\n",
       "      <td>1998-10-01</td>\n",
       "      <td>Arnett</td>\n",
       "      <td>A</td>\n",
       "      <td>US</td>\n",
       "      <td>cited by applicant</td>\n",
       "      <td>270</td>\n",
       "    </tr>\n",
       "    <tr>\n",
       "      <th>612</th>\n",
       "      <td>lnosdqym43anpenzthosoxu1n</td>\n",
       "      <td>D632358</td>\n",
       "      <td>5501028</td>\n",
       "      <td>1996-03-01</td>\n",
       "      <td>Hull</td>\n",
       "      <td>A</td>\n",
       "      <td>US</td>\n",
       "      <td>cited by other</td>\n",
       "      <td>16</td>\n",
       "    </tr>\n",
       "    <tr>\n",
       "      <th>613</th>\n",
       "      <td>loryttkavz7n687z1rngp9cb0</td>\n",
       "      <td>9643040</td>\n",
       "      <td>9192803</td>\n",
       "      <td>2015-11-01</td>\n",
       "      <td>Cayo</td>\n",
       "      <td>B2</td>\n",
       "      <td>US</td>\n",
       "      <td>cited by examiner</td>\n",
       "      <td>15</td>\n",
       "    </tr>\n",
       "    <tr>\n",
       "      <th>614</th>\n",
       "      <td>lpsg8tl9lm5vxz129qdu9d2a6</td>\n",
       "      <td>8538713</td>\n",
       "      <td>6747858</td>\n",
       "      <td>2004-06-01</td>\n",
       "      <td>Sculley et al.</td>\n",
       "      <td>B1</td>\n",
       "      <td>US</td>\n",
       "      <td>cited by examiner</td>\n",
       "      <td>1</td>\n",
       "    </tr>\n",
       "  </tbody>\n",
       "</table>\n",
       "<p>615 rows × 9 columns</p>\n",
       "</div>"
      ],
      "text/plain": [
       "                          uuid patent_id           citation_id        date  \\\n",
       "0    00h8rtzytugjmhqlmspt10h8g   9439669               5843109  1998-12-01   \n",
       "1    00kapyuimet8xnr5xph1y3o6y   7436128               5410466  1995-04-01   \n",
       "2    03prqufyy03rq3c5xvxpl6ahi   7202696               6608515  2003-08-01   \n",
       "3    04iin8oae0g5f6y0ssvqklzna   6451030               5531792  1996-07-01   \n",
       "4    08l1ezzjgi6lcni9x1xbjvv1i   6205503               5715456  1998-02-01   \n",
       "5    09hysjndz30105mc6olvrjtx4   8103589               6154207  2000-11-01   \n",
       "6    09z3gbl7j3ifxjq3v07mrqlps   7599342               6601135  2003-07-01   \n",
       "7    0ar3n61z29wig0u3pntgwkvk5   D276620               2926591  1960-03-01   \n",
       "8    0b8z9hcgjkm5a9eg2k7tg24dr   5653580               3062499  1962-11-01   \n",
       "9    0beq19gs7isdg4e3r2ijigc2r   9038114               6636953  2003-10-01   \n",
       "10   0d3o56a6lm3wvhexceqhoyxhb   6956021               4524769  1985-06-01   \n",
       "11   0es1941adqw7vkk9whvr1cd4u   7379515               6144846  2000-11-01   \n",
       "12   0fenm0b7n117kxselsmpw8diq   7452879               6534524  2003-03-01   \n",
       "13   0gww2eeru19cavk13xw9n7l1k   6523973               5463539  1995-10-01   \n",
       "14   0hv7b0xedcjnrpaghkipoykyw   7816680               7061014  2006-06-01   \n",
       "15   0m38sacwnjk7554pqvcdgaew9   9449850               5231690  1993-07-01   \n",
       "16   0n8yblfhfrqkhd5jheaapklse   5841074  4511950               1985-04-00   \n",
       "17   0nfeakfg3hbv5yzdjvv8r1zd5   D744612               D418904  2000-01-01   \n",
       "18   0oqc6kzqfbbw52leddy7mmcxy   6122392               5541662  1996-07-01   \n",
       "19   0owrtedijjtbjx8d9am472r7o   7251983               5831149  1998-11-01   \n",
       "20   0ptdun7kbi7so28v6jbzf7w5i   7217149               5167515  1992-12-01   \n",
       "21   0rxuupbcp5nps1kna36czxy3s   4951387               4685628  1987-08-01   \n",
       "22   0uvvyd2b43zvm9ze993x4g2yc   9372160               4547674  1985-10-01   \n",
       "23   0w84d33lf40idse5phpbss4uv   7977924               6880403  2005-04-01   \n",
       "24   0x8qs4yi5d7eq1jmxhprvqi2i   6647993               5788778  1998-08-01   \n",
       "25   0xww2dncxa4lh6ry43h7e936m   5260713               3216017  1965-11-01   \n",
       "26   0ys7s4cldfi8gvhzvmdca0pzg   4778049                576653  1897-02-01   \n",
       "27   0z1sjknqtgk515tcvdg6oqq3h   8366727               5322055  1994-06-01   \n",
       "28   12tctjlyrst452r4mi2ypqinj   8556983               6249692  2001-06-01   \n",
       "29   13h7jys2udlrioo4kep0719vz   7469045               6449344  2002-09-01   \n",
       "..                         ...       ...                   ...         ...   \n",
       "585  kkhlqsld18xdp1gghhfavwilb   5443509               4463753  1984-08-01   \n",
       "586  kr1xyqptzopvjqcgjykqfc4tq   4030228               2814904  1957-12-01   \n",
       "587  krjn1wcl1zduhjwpk75frugy2   8333177               5960809  1999-10-01   \n",
       "588  krxw6yj9andos3xj4xfacbhnx   RE46501               5666662  1997-09-01   \n",
       "589  ktjx39bgwy4hxekejgi7wnc4t   4877696               3180008  1965-04-01   \n",
       "590  kus3yjovyucmjztv9rsms7qu6   6278092               5804797  1998-09-01   \n",
       "591  kv7fxhtsrunlrzu9lri0w15v4   8099800               6588026  2003-07-01   \n",
       "592  kxdtrqrs3jzha8b6rsojb548k   9448182               4410493  1983-10-01   \n",
       "593  kxtx28l01zd2ny0iquqohpz0v   6832704               5363992  1994-11-01   \n",
       "594  kzn9sulg722nwslojm4sv4xk2   D724524               D680949  2013-04-01   \n",
       "595  kzt0dwxk1nwt5mmsx9xwzwbqs   7395249               5771511  1998-06-01   \n",
       "596  l0w4fcqyij5d0obdrpdjq5qoh   6782205               5129716  1992-07-01   \n",
       "597  l77et7ecs4xzy5wwnhbmesw9l   6450985               4321993  1982-03-01   \n",
       "598  l94nraluyvcv3ppkcbzkkd3m5   8297976               6994551  2006-02-01   \n",
       "599  l9f5c8g8elgl17o2nu0r2dczu   6684939               4513809  1985-04-01   \n",
       "600  la62lga5ssjldfa8w8ss9gewb   4448709               4176064  1979-11-01   \n",
       "601  ld2ywwvwruwpt2f6z1dxu16v5   5103117               4542308  1985-09-01   \n",
       "602  lg57nq9wgjrtx3c3vh946rpv0   4692161               4136699  1979-01-01   \n",
       "603  lgq90ulgj4b6zl4xlehf406vp   5112309               4650462  1987-03-01   \n",
       "604  lh09yfhyh19uu73g5zvnzvahh   6983174               5825762  1998-10-01   \n",
       "605  liw90vi1wd6r7m5i6lbpduyvt   5714720  4890096               1989-12-00   \n",
       "606  lj7kiklbhcwk88lwt7bsy8lo5   8354150               3817803  1974-06-01   \n",
       "607  ljopydtmx1pgn4yo0mkyqvac7   D732169               6726480  2004-04-01   \n",
       "608  llmv2ip3bvfs3jmibet311r2o   8965150               6927690  2005-08-01   \n",
       "609  llvcdl9rrhg8be9srgmr6wvo9   7886804               3447584  1969-06-01   \n",
       "610  lmoeq4g3rsqhmnvc03pmhnce3   9562394               5156223  1992-10-01   \n",
       "611  ln3aqd39ldipezsg3ld6k3tzl   9522254               5817069  1998-10-01   \n",
       "612  lnosdqym43anpenzthosoxu1n   D632358               5501028  1996-03-01   \n",
       "613  loryttkavz7n687z1rngp9cb0   9643040               9192803  2015-11-01   \n",
       "614  lpsg8tl9lm5vxz129qdu9d2a6   8538713               6747858  2004-06-01   \n",
       "\n",
       "                                                  name kind country  \\\n",
       "0                                         Mehta et al.    A      US   \n",
       "1                                              Maehara    A      US   \n",
       "2                                               Taheri   B2      US   \n",
       "3                                                Huene    A      US   \n",
       "4                                       Bennett et al.  NaN      US   \n",
       "5                                        Farris et al.    A      US   \n",
       "6                                     McBrearty et al.   B1      US   \n",
       "7                                              Huffman  NaN      US   \n",
       "8                                             Petersen  NaN      US   \n",
       "9                                         Yuasa et al.   B2      US   \n",
       "10                                           Wetterlin    A      US   \n",
       "11                                               Durec    A      US   \n",
       "12                                        Kania et al.   B1      US   \n",
       "13                                   Vandenbelt et al.    A      US   \n",
       "14                                       Hosono et al.   B2      US   \n",
       "15                                         Soma et al.    A      US   \n",
       "16   Bunner et al.                                 ...  NaN      US   \n",
       "17                                              Milrud    S      US   \n",
       "18                                        Adams et al.  NaN      US   \n",
       "19                                                Webb    A      US   \n",
       "20                                     Matsuoka et al.    A      US   \n",
       "21                                             Berrett  NaN      US   \n",
       "22                                        Pryor et al.    A      US   \n",
       "23                                      Shimada et al.   B1      US   \n",
       "24                                        Shang et al.    A      US   \n",
       "25                                               Moore  NaN      US   \n",
       "26                                              Bowlby  NaN      US   \n",
       "27                                      Davison et al.    A      US   \n",
       "28                                               Cowin   B1      US   \n",
       "29                                   Goldfinger et al.   B1      US   \n",
       "..                                                 ...  ...     ...   \n",
       "585                                            Gustilo  NaN      US   \n",
       "586                                            Reedall  NaN      US   \n",
       "587                                             Keller    A      US   \n",
       "588                                            Shibuya    A      US   \n",
       "589                                    Elderkin et al.  NaN      US   \n",
       "590                                     Kaimoto et al.  NaN      US   \n",
       "591                                       Meier et al.   B2      US   \n",
       "592                                             Joslyn    A      US   \n",
       "593                                           Meshberg    A      US   \n",
       "594                                             Swatek    S      US   \n",
       "595                                      Kummer et al.    A      US   \n",
       "596                                 Holakovszky et al.    A      US   \n",
       "597                                    Hinzmann et al.    A      US   \n",
       "598                                        Wang et al.   B2      US   \n",
       "599                                   Schneider et al.    A      US   \n",
       "600                                              Black  NaN      US   \n",
       "601                                       Winen et al.  NaN      US   \n",
       "602                                     Collins et al.  NaN      US   \n",
       "603                                   DeSatnick et al.  NaN      US   \n",
       "604                                  Kamin, Jr. et al.    A      US   \n",
       "605  Taguchi                                       ...  NaN      US   \n",
       "606                                            Horsley    A      US   \n",
       "607                                             Sutter   B1      US   \n",
       "608                                             Wilson   B2      US   \n",
       "609                                              Smart    A      US   \n",
       "610                                               Hipp    A      US   \n",
       "611                                             Arnett    A      US   \n",
       "612                                               Hull    A      US   \n",
       "613                                               Cayo   B2      US   \n",
       "614                                     Sculley et al.   B1      US   \n",
       "\n",
       "               category  sequence  \n",
       "0    cited by applicant       218  \n",
       "1     cited by examiner         0  \n",
       "2        cited by other        14  \n",
       "3        cited by other        19  \n",
       "4                   NaN       165  \n",
       "5        cited by other       332  \n",
       "6        cited by other        18  \n",
       "7                   NaN         2  \n",
       "8                   NaN         1  \n",
       "9    cited by applicant         1  \n",
       "10       cited by other        14  \n",
       "11       cited by other       587  \n",
       "12       cited by other        58  \n",
       "13       cited by other        24  \n",
       "14       cited by other        12  \n",
       "15   cited by applicant        68  \n",
       "16                  NaN         2  \n",
       "17   cited by applicant       618  \n",
       "18                  NaN       181  \n",
       "19       cited by other        43  \n",
       "20    cited by examiner         3  \n",
       "21                  NaN         4  \n",
       "22   cited by applicant         7  \n",
       "23       cited by other       107  \n",
       "24    cited by examiner         3  \n",
       "25                  NaN         1  \n",
       "26                  NaN         0  \n",
       "27   cited by applicant         3  \n",
       "28   cited by applicant       205  \n",
       "29       cited by other         0  \n",
       "..                  ...       ...  \n",
       "585                 NaN         4  \n",
       "586                 NaN         2  \n",
       "587      cited by other         5  \n",
       "588  cited by applicant         3  \n",
       "589                 NaN         3  \n",
       "590                 NaN         3  \n",
       "591      cited by other        54  \n",
       "592  cited by applicant        77  \n",
       "593      cited by other        91  \n",
       "594   cited by examiner        17  \n",
       "595      cited by other       201  \n",
       "596      cited by other       278  \n",
       "597      cited by other         2  \n",
       "598      cited by other        11  \n",
       "599      cited by other         4  \n",
       "600                 NaN         8  \n",
       "601                 NaN         0  \n",
       "602                 NaN         7  \n",
       "603                 NaN         8  \n",
       "604      cited by other        59  \n",
       "605                 NaN        16  \n",
       "606  cited by applicant        27  \n",
       "607  cited by applicant        21  \n",
       "608  cited by applicant        10  \n",
       "609      cited by other         1  \n",
       "610  cited by applicant         9  \n",
       "611  cited by applicant       270  \n",
       "612      cited by other        16  \n",
       "613   cited by examiner        15  \n",
       "614   cited by examiner         1  \n",
       "\n",
       "[615 rows x 9 columns]"
      ]
     },
     "execution_count": 9,
     "metadata": {},
     "output_type": "execute_result"
    }
   ],
   "source": [
    "df\n"
   ]
  },
  {
   "cell_type": "code",
   "execution_count": 10,
   "metadata": {
    "collapsed": false
   },
   "outputs": [
    {
     "data": {
      "text/plain": [
       "615"
      ]
     },
     "execution_count": 10,
     "metadata": {},
     "output_type": "execute_result"
    }
   ],
   "source": [
    "#Data Cleaning\n",
    "# first, examine the data (patent and citation id)\n",
    "len(df.citation_id)"
   ]
  },
  {
   "cell_type": "code",
   "execution_count": 11,
   "metadata": {
    "collapsed": false
   },
   "outputs": [],
   "source": [
    "# drop rows for which column citation_id has a length smaller than 5\n",
    "indexNames = df[df['citation_id'].map(len) < 5].index\n",
    "df.drop(indexNames , inplace=True)"
   ]
  },
  {
   "cell_type": "code",
   "execution_count": 12,
   "metadata": {
    "collapsed": false
   },
   "outputs": [
    {
     "data": {
      "text/plain": [
       "(615, 9)"
      ]
     },
     "execution_count": 12,
     "metadata": {},
     "output_type": "execute_result"
    }
   ],
   "source": [
    "df.shape"
   ]
  },
  {
   "cell_type": "code",
   "execution_count": 13,
   "metadata": {
    "collapsed": true
   },
   "outputs": [],
   "source": [
    "# drop rows for which column patent_id has a length smaller than 5\n",
    "indexNames = df[df['patent_id'].map(len) < 5].index\n",
    "df.drop(indexNames , inplace=True)"
   ]
  },
  {
   "cell_type": "code",
   "execution_count": 14,
   "metadata": {
    "collapsed": false
   },
   "outputs": [
    {
     "data": {
      "text/plain": [
       "(615, 9)"
      ]
     },
     "execution_count": 14,
     "metadata": {},
     "output_type": "execute_result"
    }
   ],
   "source": [
    "df.shape"
   ]
  },
  {
   "cell_type": "code",
   "execution_count": 15,
   "metadata": {
    "collapsed": false
   },
   "outputs": [
    {
     "name": "stdout",
     "output_type": "stream",
     "text": [
      "CPU times: user 4 ms, sys: 0 ns, total: 4 ms\n",
      "Wall time: 4.29 ms\n"
     ]
    }
   ],
   "source": [
    "%%time\n",
    "#stripping non desired characters but keeping the originals for later check\n",
    "#could merge unwanted information\n",
    "cleaning_patent=lambda x:re.sub('([a-zA-Z0-9]+)', \"\", x)\n",
    "df['citation_id']=df['citation_id'].apply(cleaning_patent)\n",
    "df['patent_id']=df['patent_id'].apply(cleaning_patent)\n",
    "# df['citation_id'] = df['citation_id'].str.extract('([a-zA-Z0-9]+)', expand=True)\n",
    "# df['patent_id'] = df['patent_id'].str.extract('([a-zA-Z0-9]+)', expand=True)"
   ]
  },
  {
   "cell_type": "code",
   "execution_count": 14,
   "metadata": {
    "collapsed": false
   },
   "outputs": [
    {
     "data": {
      "text/plain": [
       "(615, 9)"
      ]
     },
     "execution_count": 14,
     "metadata": {},
     "output_type": "execute_result"
    }
   ],
   "source": [
    "df.shape"
   ]
  },
  {
   "cell_type": "code",
   "execution_count": 16,
   "metadata": {
    "collapsed": false
   },
   "outputs": [],
   "source": [
    "#stripping trailing white spaces\n",
    "df['patent_id'] = df['patent_id'].str.strip()\n",
    "df['citation_id'] = df['citation_id'].str.strip()"
   ]
  },
  {
   "cell_type": "code",
   "execution_count": 14,
   "metadata": {
    "collapsed": false
   },
   "outputs": [
    {
     "data": {
      "text/plain": [
       "(615, 9)"
      ]
     },
     "execution_count": 14,
     "metadata": {},
     "output_type": "execute_result"
    }
   ],
   "source": [
    "df.shape"
   ]
  },
  {
   "cell_type": "code",
   "execution_count": 17,
   "metadata": {
    "collapsed": false
   },
   "outputs": [
    {
     "name": "stdout",
     "output_type": "stream",
     "text": [
      "CPU times: user 1e+03 µs, sys: 0 ns, total: 1e+03 µs\n",
      "Wall time: 1.23 ms\n"
     ]
    }
   ],
   "source": [
    "%%time\n",
    "#to avoid problems when converting object to datetime format\n",
    "#replacing day or month would not affect the output\n",
    "df.date.replace({'-00':'-01'}, regex=True, inplace=True)\n",
    "#replacing the year could be more problematic\n",
    "#for now, I am just dropping\n"
   ]
  },
  {
   "cell_type": "code",
   "execution_count": 14,
   "metadata": {
    "collapsed": false
   },
   "outputs": [
    {
     "data": {
      "text/plain": [
       "(615, 9)"
      ]
     },
     "execution_count": 14,
     "metadata": {},
     "output_type": "execute_result"
    }
   ],
   "source": [
    "df.shape"
   ]
  },
  {
   "cell_type": "code",
   "execution_count": 18,
   "metadata": {
    "collapsed": false
   },
   "outputs": [
    {
     "name": "stdout",
     "output_type": "stream",
     "text": [
      "CPU times: user 2 ms, sys: 0 ns, total: 2 ms\n",
      "Wall time: 935 µs\n"
     ]
    }
   ],
   "source": [
    "%%time\n",
    "df['date']=pd.to_datetime(df.date,format='%Y-%m-%d', errors='coerce') #attention to date format - original data is year-month-day\n",
    "# df['date_format']=pd.to_datetime(df.date,format='%Y-%m-%d', errors='coerce')"
   ]
  },
  {
   "cell_type": "code",
   "execution_count": 14,
   "metadata": {
    "collapsed": false
   },
   "outputs": [
    {
     "data": {
      "text/plain": [
       "(615, 9)"
      ]
     },
     "execution_count": 14,
     "metadata": {},
     "output_type": "execute_result"
    }
   ],
   "source": [
    "df.shape"
   ]
  },
  {
   "cell_type": "code",
   "execution_count": 19,
   "metadata": {
    "collapsed": false
   },
   "outputs": [
    {
     "name": "stdout",
     "output_type": "stream",
     "text": [
      "CPU times: user 0 ns, sys: 1e+03 µs, total: 1e+03 µs\n",
      "Wall time: 875 µs\n"
     ]
    }
   ],
   "source": [
    "%%time\n",
    "#script will take grant year into account\n",
    "df.sort_values(by='date', ascending=False, inplace=True)"
   ]
  },
  {
   "cell_type": "code",
   "execution_count": 20,
   "metadata": {
    "collapsed": false
   },
   "outputs": [
    {
     "name": "stdout",
     "output_type": "stream",
     "text": [
      "CPU times: user 4 ms, sys: 0 ns, total: 4 ms\n",
      "Wall time: 2.51 ms\n"
     ]
    }
   ],
   "source": [
    "%%time\n",
    "#first, i'll run only patents with some kind of citation\n",
    "#as we have many zero citations in the dataset, this should decrease processing time\n",
    "\n",
    "# cited_patents=df.groupby(['citation_id']).count().iloc[:, 1] #Series, patent-level\n",
    "cited_patents=df.groupby(['citation_id']).count().iloc[:, 1] #Series, patent-level"
   ]
  },
  {
   "cell_type": "code",
   "execution_count": 21,
   "metadata": {
    "collapsed": false
   },
   "outputs": [
    {
     "data": {
      "text/plain": [
       "citation_id\n",
       "    615\n",
       "Name: patent_id, dtype: int64"
      ]
     },
     "execution_count": 21,
     "metadata": {},
     "output_type": "execute_result"
    }
   ],
   "source": [
    "cited_patents"
   ]
  },
  {
   "cell_type": "code",
   "execution_count": 22,
   "metadata": {
    "collapsed": false
   },
   "outputs": [
    {
     "name": "stdout",
     "output_type": "stream",
     "text": [
      "CPU times: user 0 ns, sys: 0 ns, total: 0 ns\n",
      "Wall time: 14.5 µs\n"
     ]
    }
   ],
   "source": [
    "%%time\n",
    "cited_patents.dropna(0, inplace=True) #Series"
   ]
  },
  {
   "cell_type": "code",
   "execution_count": 23,
   "metadata": {
    "collapsed": false
   },
   "outputs": [
    {
     "data": {
      "text/plain": [
       "(1,)"
      ]
     },
     "execution_count": 23,
     "metadata": {},
     "output_type": "execute_result"
    }
   ],
   "source": [
    "cited_patents.shape"
   ]
  },
  {
   "cell_type": "code",
   "execution_count": 24,
   "metadata": {
    "collapsed": false
   },
   "outputs": [
    {
     "name": "stdout",
     "output_type": "stream",
     "text": [
      "CPU times: user 1 ms, sys: 0 ns, total: 1 ms\n",
      "Wall time: 1.23 ms\n"
     ]
    }
   ],
   "source": [
    "%%time\n",
    "cited_patents=cited_patents.reset_index() #Dataframe"
   ]
  },
  {
   "cell_type": "code",
   "execution_count": 25,
   "metadata": {
    "collapsed": true
   },
   "outputs": [
    {
     "name": "stdout",
     "output_type": "stream",
     "text": [
      "CPU times: user 0 ns, sys: 0 ns, total: 0 ns\n",
      "Wall time: 209 µs\n"
     ]
    },
    {
     "data": {
      "text/html": [
       "<div>\n",
       "<table border=\"1\" class=\"dataframe\">\n",
       "  <thead>\n",
       "    <tr style=\"text-align: right;\">\n",
       "      <th></th>\n",
       "      <th>citation_id</th>\n",
       "      <th>patent_id</th>\n",
       "    </tr>\n",
       "  </thead>\n",
       "  <tbody>\n",
       "    <tr>\n",
       "      <th>0</th>\n",
       "      <td></td>\n",
       "      <td>615</td>\n",
       "    </tr>\n",
       "  </tbody>\n",
       "</table>\n",
       "</div>"
      ],
      "text/plain": [
       "  citation_id  patent_id\n",
       "0                    615"
      ]
     },
     "execution_count": 25,
     "metadata": {},
     "output_type": "execute_result"
    }
   ],
   "source": [
    "%%time\n",
    "cited_patents.head()"
   ]
  },
  {
   "cell_type": "code",
   "execution_count": 26,
   "metadata": {
    "collapsed": false
   },
   "outputs": [
    {
     "name": "stdout",
     "output_type": "stream",
     "text": [
      "CPU times: user 999 µs, sys: 0 ns, total: 999 µs\n",
      "Wall time: 375 µs\n"
     ]
    }
   ],
   "source": [
    "%%time\n",
    "cited_patents.rename(columns={'patent_id': 'back_citation'}, inplace=True)"
   ]
  },
  {
   "cell_type": "code",
   "execution_count": 27,
   "metadata": {
    "collapsed": false
   },
   "outputs": [
    {
     "name": "stdout",
     "output_type": "stream",
     "text": [
      "CPU times: user 4 ms, sys: 1e+03 µs, total: 5 ms\n",
      "Wall time: 3.9 ms\n"
     ]
    }
   ],
   "source": [
    "%%time\n",
    "#this is the trick element\n",
    "#I match the total of citations received by the citing patent (identified by patent_id)\n",
    "#The next step I sum all citations received by the citing patents\n",
    "\n",
    "df=df.merge(cited_patents, how='left', left_on='patent_id', right_on='citation_id')\n",
    "df.rename(columns={'back_citation': 'parent_patent_back_citation'}, inplace=True)"
   ]
  },
  {
   "cell_type": "code",
   "execution_count": 28,
   "metadata": {
    "collapsed": false
   },
   "outputs": [
    {
     "data": {
      "text/html": [
       "<div>\n",
       "<table border=\"1\" class=\"dataframe\">\n",
       "  <thead>\n",
       "    <tr style=\"text-align: right;\">\n",
       "      <th></th>\n",
       "      <th>uuid</th>\n",
       "      <th>patent_id</th>\n",
       "      <th>citation_id_x</th>\n",
       "      <th>date</th>\n",
       "      <th>name</th>\n",
       "      <th>kind</th>\n",
       "      <th>country</th>\n",
       "      <th>category</th>\n",
       "      <th>sequence</th>\n",
       "      <th>citation_id_y</th>\n",
       "      <th>parent_patent_back_citation</th>\n",
       "    </tr>\n",
       "  </thead>\n",
       "  <tbody>\n",
       "    <tr>\n",
       "      <th>0</th>\n",
       "      <td>loryttkavz7n687z1rngp9cb0</td>\n",
       "      <td></td>\n",
       "      <td></td>\n",
       "      <td>2015-11-01</td>\n",
       "      <td>Cayo</td>\n",
       "      <td>B2</td>\n",
       "      <td>US</td>\n",
       "      <td>cited by examiner</td>\n",
       "      <td>15</td>\n",
       "      <td></td>\n",
       "      <td>615</td>\n",
       "    </tr>\n",
       "    <tr>\n",
       "      <th>1</th>\n",
       "      <td>h9636hdn1b3pfjz05916ow2iw</td>\n",
       "      <td></td>\n",
       "      <td></td>\n",
       "      <td>2015-05-01</td>\n",
       "      <td>Shraim et al.</td>\n",
       "      <td>B2</td>\n",
       "      <td>US</td>\n",
       "      <td>cited by applicant</td>\n",
       "      <td>58</td>\n",
       "      <td></td>\n",
       "      <td>615</td>\n",
       "    </tr>\n",
       "    <tr>\n",
       "      <th>2</th>\n",
       "      <td>jtstcewlet9uols9w5uxw2vx4</td>\n",
       "      <td></td>\n",
       "      <td></td>\n",
       "      <td>2015-02-01</td>\n",
       "      <td>Tian</td>\n",
       "      <td>S</td>\n",
       "      <td>US</td>\n",
       "      <td>cited by examiner</td>\n",
       "      <td>37</td>\n",
       "      <td></td>\n",
       "      <td>615</td>\n",
       "    </tr>\n",
       "    <tr>\n",
       "      <th>3</th>\n",
       "      <td>iq0g4ic2kppw4par9oiiuxtsh</td>\n",
       "      <td></td>\n",
       "      <td></td>\n",
       "      <td>2014-07-01</td>\n",
       "      <td>Witter</td>\n",
       "      <td>S</td>\n",
       "      <td>US</td>\n",
       "      <td>cited by examiner</td>\n",
       "      <td>9</td>\n",
       "      <td></td>\n",
       "      <td>615</td>\n",
       "    </tr>\n",
       "    <tr>\n",
       "      <th>4</th>\n",
       "      <td>9ozzetvzoemxs7hkxr4l4vw07</td>\n",
       "      <td></td>\n",
       "      <td></td>\n",
       "      <td>2014-07-01</td>\n",
       "      <td>Hecker et al.</td>\n",
       "      <td>B2</td>\n",
       "      <td>US</td>\n",
       "      <td>cited by applicant</td>\n",
       "      <td>473</td>\n",
       "      <td></td>\n",
       "      <td>615</td>\n",
       "    </tr>\n",
       "  </tbody>\n",
       "</table>\n",
       "</div>"
      ],
      "text/plain": [
       "                        uuid patent_id citation_id_x       date  \\\n",
       "0  loryttkavz7n687z1rngp9cb0                         2015-11-01   \n",
       "1  h9636hdn1b3pfjz05916ow2iw                         2015-05-01   \n",
       "2  jtstcewlet9uols9w5uxw2vx4                         2015-02-01   \n",
       "3  iq0g4ic2kppw4par9oiiuxtsh                         2014-07-01   \n",
       "4  9ozzetvzoemxs7hkxr4l4vw07                         2014-07-01   \n",
       "\n",
       "            name kind country            category  sequence citation_id_y  \\\n",
       "0           Cayo   B2      US   cited by examiner        15                 \n",
       "1  Shraim et al.   B2      US  cited by applicant        58                 \n",
       "2           Tian    S      US   cited by examiner        37                 \n",
       "3         Witter    S      US   cited by examiner         9                 \n",
       "4  Hecker et al.   B2      US  cited by applicant       473                 \n",
       "\n",
       "   parent_patent_back_citation  \n",
       "0                          615  \n",
       "1                          615  \n",
       "2                          615  \n",
       "3                          615  \n",
       "4                          615  "
      ]
     },
     "execution_count": 28,
     "metadata": {},
     "output_type": "execute_result"
    }
   ],
   "source": [
    "df.head()"
   ]
  },
  {
   "cell_type": "code",
   "execution_count": 29,
   "metadata": {
    "collapsed": false
   },
   "outputs": [
    {
     "name": "stdout",
     "output_type": "stream",
     "text": [
      "CPU times: user 2 ms, sys: 0 ns, total: 2 ms\n",
      "Wall time: 1.89 ms\n"
     ]
    }
   ],
   "source": [
    "%%time\n",
    "df.fillna(0, inplace=True)"
   ]
  },
  {
   "cell_type": "code",
   "execution_count": 30,
   "metadata": {
    "collapsed": false
   },
   "outputs": [
    {
     "name": "stdout",
     "output_type": "stream",
     "text": [
      "CPU times: user 2 ms, sys: 0 ns, total: 2 ms\n",
      "Wall time: 2.64 ms\n"
     ]
    }
   ],
   "source": [
    "%%time\n",
    "#now I collaps df to become a patent level dataframe\n",
    "#citation_id_x is the original cited patent\n",
    "patent_level_df=df.groupby('citation_id_x').sum()"
   ]
  },
  {
   "cell_type": "code",
   "execution_count": 31,
   "metadata": {
    "collapsed": false
   },
   "outputs": [],
   "source": [
    "# cited_patents.plot.hist()"
   ]
  },
  {
   "cell_type": "code",
   "execution_count": 32,
   "metadata": {
    "collapsed": false
   },
   "outputs": [
    {
     "data": {
      "text/html": [
       "<div>\n",
       "<table border=\"1\" class=\"dataframe\">\n",
       "  <thead>\n",
       "    <tr style=\"text-align: right;\">\n",
       "      <th></th>\n",
       "      <th>sequence</th>\n",
       "      <th>parent_patent_back_citation</th>\n",
       "    </tr>\n",
       "    <tr>\n",
       "      <th>citation_id_x</th>\n",
       "      <th></th>\n",
       "      <th></th>\n",
       "    </tr>\n",
       "  </thead>\n",
       "  <tbody>\n",
       "    <tr>\n",
       "      <th></th>\n",
       "      <td>38595</td>\n",
       "      <td>378225</td>\n",
       "    </tr>\n",
       "  </tbody>\n",
       "</table>\n",
       "</div>"
      ],
      "text/plain": [
       "               sequence  parent_patent_back_citation\n",
       "citation_id_x                                       \n",
       "                  38595                       378225"
      ]
     },
     "execution_count": 32,
     "metadata": {},
     "output_type": "execute_result"
    }
   ],
   "source": [
    "patent_level_df.head()"
   ]
  },
  {
   "cell_type": "code",
   "execution_count": 33,
   "metadata": {
    "collapsed": false
   },
   "outputs": [],
   "source": [
    "# lastly, i merge the number of citations to patent_level_df\n",
    "# df=df.merge(cited_patents, how='left', left_on='patent_id', right_on='citation_id')"
   ]
  },
  {
   "cell_type": "code",
   "execution_count": 34,
   "metadata": {
    "collapsed": false
   },
   "outputs": [],
   "source": [
    "# df.describe()"
   ]
  },
  {
   "cell_type": "code",
   "execution_count": 35,
   "metadata": {
    "collapsed": false
   },
   "outputs": [],
   "source": [
    "# # cited_patents.iloc[0].citation_id\n",
    "\n",
    "# # cited_patents.apply(lambda x: df[df.citation_id=='2673233'].patent_id) #so far, it returns a list of patents citing each cited patent\n",
    "\n",
    "# cited_patents['cumulative']=cited_patents['back_citation']\n",
    "\n",
    "# # search for citations in df\n",
    "# # df[df.citation_id=='4025107'].patent_id #series of patents citing '4025107'\n",
    "\n",
    "# # get cumulative data from cited_patents and sum\n",
    "# # cited_patents[cited_patents.citation_id=='4025107'].cumulative.sum()\n",
    "\n",
    "# %%time\n",
    "# # chained functions\n",
    "# # cited_patents['cumulative']=cited_patents.apply(lambda x:df[df.citation_id==x].patent_id.apply(lambda y:cited_patents[cited_patents.citation_id==y].cumulative.sum()))\n",
    "\n",
    "# %%time\n",
    "# # cumulative=lambda row: cited_patents[df.patent_id==row.citation_id].patent_id.sum()\n",
    "\n",
    "# # cited_patents['cumulative']=cited_patents.apply(cumulative, axis=1)\n",
    "\n",
    "# cited_patents.shape\n",
    "\n",
    "# cited_patents\n",
    "\n",
    "# # %%time\n",
    "# # for i in cited_patents.index:\n",
    "    \n",
    "# #     citing_patents=df[df.citation_id==i].patent_id  #this is the trick element\n",
    "# #                                                     #for each cited patent i generate a list of citing patents\n",
    "\n",
    "# #     cumulative=0 #initialize the citation cumulated variable for each cited patent\n",
    "\n",
    "# #     cited_patents['cumulative']=(lambda row: df[df.citation_id==row.index].sum().cumulative)\n",
    "# #     print('Patent:', j, 'Cumulative citations:', cumulative)\n",
    "        \n",
    "\n",
    "    \n",
    "    \n",
    "# #     #     for j in citing_patents:\n",
    "# # #         cumulative=+df[df.citation_id==j].sum().cumulative #each cited patent contributes to overall cumulative score\n",
    "\n",
    "# # #     print(cited_patents.loc[cited_patents['citation_id']==i,'cumulative'])\n",
    "# # #     cited_patents.at[i,'cumulative']=+cumulative\n",
    "    \n",
    "\n",
    "# %%time\n",
    "# cited_patents.shape\n",
    "\n",
    "# %%time\n",
    "# cited_patents.describe()\n",
    "\n"
   ]
  }
 ],
 "metadata": {
  "anaconda-cloud": {},
  "kernelspec": {
   "display_name": "Python [default]",
   "language": "python",
   "name": "python3"
  },
  "language_info": {
   "codemirror_mode": {
    "name": "ipython",
    "version": 3
   },
   "file_extension": ".py",
   "mimetype": "text/x-python",
   "name": "python",
   "nbconvert_exporter": "python",
   "pygments_lexer": "ipython3",
   "version": "3.5.2"
  }
 },
 "nbformat": 4,
 "nbformat_minor": 1
}
