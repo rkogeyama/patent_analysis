{
 "cells": [
  {
   "cell_type": "code",
   "execution_count": 1,
   "metadata": {
    "collapsed": true
   },
   "outputs": [],
   "source": [
    "#Miami, December 27th, 2019\n",
    "#Renato Kogeyama\n",
    "\n",
    "# Due bad performance, I am updating the script to more efficient coding\n",
    "\n",
    "# This script generates a citation ouput with patent|backward citation|cumulated backward citation | year\n",
    "# The output generates a citation record by year, considering direct and indirect citation\n"
   ]
  },
  {
   "cell_type": "code",
   "execution_count": 2,
   "metadata": {
    "collapsed": true
   },
   "outputs": [],
   "source": [
    "import pandas as pd\n",
    "import re\n",
    "import matplotlib.pyplot as plot\n",
    "\n",
    "import sys\n",
    "sys.path.append('/home/rkogeyam/scripts/')\n",
    "from sampler import sampler\n"
   ]
  },
  {
   "cell_type": "code",
   "execution_count": 3,
   "metadata": {
    "collapsed": true
   },
   "outputs": [],
   "source": [
    "%matplotlib inline"
   ]
  },
  {
   "cell_type": "code",
   "execution_count": 4,
   "metadata": {
    "collapsed": true
   },
   "outputs": [],
   "source": [
    "fname = r'/home/rkogeyam/PATENT_CITATION/uspatentcitation.tsv'\n",
    "dst = '/home/rkogeyam/PATENT_CITATION/cit_tree.csv'"
   ]
  },
  {
   "cell_type": "code",
   "execution_count": 5,
   "metadata": {
    "collapsed": false
   },
   "outputs": [
    {
     "name": "stdout",
     "output_type": "stream",
     "text": [
      "CPU times: user 3min 40s, sys: 15 s, total: 3min 55s\n",
      "Wall time: 3min 55s\n"
     ]
    }
   ],
   "source": [
    "%%time\n",
    "df=pd.read_csv(fname, sep='\\t')\n",
    "\n",
    "# sample_size=100\n",
    "# df=sampler(fname, sample_size, sep='\\t')"
   ]
  },
  {
   "cell_type": "code",
   "execution_count": 6,
   "metadata": {
    "collapsed": false
   },
   "outputs": [],
   "source": [
    "df['patent_id']=df['patent_id'].astype(str)"
   ]
  },
  {
   "cell_type": "code",
   "execution_count": 7,
   "metadata": {
    "collapsed": false
   },
   "outputs": [],
   "source": [
    "df['citation_id']=df['citation_id'].astype(str)"
   ]
  },
  {
   "cell_type": "code",
   "execution_count": 8,
   "metadata": {
    "collapsed": false
   },
   "outputs": [
    {
     "data": {
      "text/plain": [
       "uuid           object\n",
       "patent_id      object\n",
       "citation_id    object\n",
       "date           object\n",
       "name           object\n",
       "kind           object\n",
       "country        object\n",
       "category       object\n",
       "sequence        int64\n",
       "dtype: object"
      ]
     },
     "execution_count": 8,
     "metadata": {},
     "output_type": "execute_result"
    }
   ],
   "source": [
    "df.dtypes"
   ]
  },
  {
   "cell_type": "code",
   "execution_count": 9,
   "metadata": {
    "collapsed": false
   },
   "outputs": [],
   "source": [
    "# drop rows for which column citation_id has a length smaller than 5\n",
    "indexNames = df[df['citation_id'].map(len) < 5].index\n",
    "df.drop(indexNames , inplace=True)"
   ]
  },
  {
   "cell_type": "code",
   "execution_count": 10,
   "metadata": {
    "collapsed": true
   },
   "outputs": [],
   "source": [
    "# drop rows for which column patent_id has a length smaller than 5\n",
    "indexNames = df[df['patent_id'].map(len) < 5].index\n",
    "df.drop(indexNames , inplace=True)"
   ]
  },
  {
   "cell_type": "code",
   "execution_count": 11,
   "metadata": {
    "collapsed": false
   },
   "outputs": [
    {
     "name": "stdout",
     "output_type": "stream",
     "text": [
      "CPU times: user 7min 51s, sys: 107 ms, total: 7min 51s\n",
      "Wall time: 7min 51s\n"
     ]
    }
   ],
   "source": [
    "%%time\n",
    "#stripping non desired characters but keeping the originals for later check\n",
    "#could merge unwanted information\n",
    "cleaning_patent=lambda x:re.sub('([^a-zA-Z0-9]+)', \"\", x)\n",
    "df['citation_id']=df['citation_id'].apply(cleaning_patent)\n",
    "df['patent_id']=df['patent_id'].apply(cleaning_patent)\n",
    "# df['citation_id'] = df['citation_id'].str.extract('([a-zA-Z0-9]+)', expand=True)\n",
    "# df['patent_id'] = df['patent_id'].str.extract('([a-zA-Z0-9]+)', expand=True)"
   ]
  },
  {
   "cell_type": "code",
   "execution_count": 12,
   "metadata": {
    "collapsed": false
   },
   "outputs": [],
   "source": [
    "#stripping trailing white spaces\n",
    "df['patent_id'] = df['patent_id'].str.strip()\n",
    "df['citation_id'] = df['citation_id'].str.strip()"
   ]
  },
  {
   "cell_type": "code",
   "execution_count": 13,
   "metadata": {
    "collapsed": false
   },
   "outputs": [
    {
     "name": "stdout",
     "output_type": "stream",
     "text": [
      "CPU times: user 1min 14s, sys: 6 ms, total: 1min 14s\n",
      "Wall time: 1min 14s\n"
     ]
    }
   ],
   "source": [
    "%%time\n",
    "#to avoid problems when converting object to datetime format\n",
    "#replacing day or month would not affect the output\n",
    "df.date.replace({'-00':'-01'}, regex=True, inplace=True)\n",
    "#replacing the year could be more problematic\n",
    "#for now, I am just dropping\n"
   ]
  },
  {
   "cell_type": "code",
   "execution_count": 14,
   "metadata": {
    "collapsed": false
   },
   "outputs": [
    {
     "name": "stdout",
     "output_type": "stream",
     "text": [
      "CPU times: user 32 s, sys: 900 ms, total: 32.9 s\n",
      "Wall time: 32.8 s\n"
     ]
    }
   ],
   "source": [
    "%%time\n",
    "df['date']=pd.to_datetime(df.date,format='%Y-%m-%d', errors='coerce') #attention to date format - original data is year-month-day\n",
    "# df['date_format']=pd.to_datetime(df.date,format='%Y-%m-%d', errors='coerce')"
   ]
  },
  {
   "cell_type": "code",
   "execution_count": 15,
   "metadata": {
    "collapsed": false
   },
   "outputs": [
    {
     "name": "stdout",
     "output_type": "stream",
     "text": [
      "CPU times: user 1min 27s, sys: 2.13 s, total: 1min 29s\n",
      "Wall time: 1min 29s\n"
     ]
    }
   ],
   "source": [
    "%%time\n",
    "#first, i'll run only patents with some kind of citation\n",
    "#as we have many zero citations in the dataset, this should decrease processing time\n",
    "\n",
    "cited_patents=df.groupby(['citation_id']).count().iloc[:, 1] #Series, patent-level\n",
    "# cited_patents=df.groupby(['citation_id']).count() "
   ]
  },
  {
   "cell_type": "code",
   "execution_count": 16,
   "metadata": {
    "collapsed": false
   },
   "outputs": [
    {
     "name": "stdout",
     "output_type": "stream",
     "text": [
      "CPU times: user 0 ns, sys: 0 ns, total: 0 ns\n",
      "Wall time: 18.1 µs\n"
     ]
    }
   ],
   "source": [
    "%%time\n",
    "cited_patents.dropna(0, inplace=True) #Series"
   ]
  },
  {
   "cell_type": "code",
   "execution_count": 17,
   "metadata": {
    "collapsed": false
   },
   "outputs": [
    {
     "data": {
      "text/plain": [
       "(7049261,)"
      ]
     },
     "execution_count": 17,
     "metadata": {},
     "output_type": "execute_result"
    }
   ],
   "source": [
    "cited_patents.shape"
   ]
  },
  {
   "cell_type": "code",
   "execution_count": 18,
   "metadata": {
    "collapsed": false
   },
   "outputs": [
    {
     "name": "stdout",
     "output_type": "stream",
     "text": [
      "CPU times: user 3.48 s, sys: 173 ms, total: 3.65 s\n",
      "Wall time: 3.65 s\n"
     ]
    }
   ],
   "source": [
    "%%time\n",
    "cited_patents=cited_patents.reset_index() #Dataframe"
   ]
  },
  {
   "cell_type": "code",
   "execution_count": 19,
   "metadata": {
    "collapsed": true
   },
   "outputs": [],
   "source": [
    "cited_patents.rename(columns={'patent_id': 'back_citation'}, inplace=True)"
   ]
  },
  {
   "cell_type": "code",
   "execution_count": 22,
   "metadata": {
    "collapsed": false
   },
   "outputs": [
    {
     "name": "stdout",
     "output_type": "stream",
     "text": [
      "CPU times: user 0 ns, sys: 0 ns, total: 0 ns\n",
      "Wall time: 5.01 µs\n"
     ]
    }
   ],
   "source": [
    "%%time\n",
    "# cited_patents.rename(columns={'patent_id': 'back_citation'}, inplace=True)"
   ]
  },
  {
   "cell_type": "code",
   "execution_count": 23,
   "metadata": {
    "collapsed": false
   },
   "outputs": [
    {
     "name": "stdout",
     "output_type": "stream",
     "text": [
      "CPU times: user 4min, sys: 4.13 s, total: 4min 4s\n",
      "Wall time: 4min 4s\n"
     ]
    }
   ],
   "source": [
    "%%time\n",
    "#this is the trick calculation\n",
    "#I match the total of citations received by the citing patent (identified by patent_id)\n",
    "#In the next step I sum all citations received by the citing patents\n",
    "\n",
    "df=df.merge(cited_patents, how='inner', left_on='patent_id', right_on='citation_id')\n",
    "df.rename(columns={'back_citation': 'parent_back_citation'}, inplace=True)"
   ]
  },
  {
   "cell_type": "code",
   "execution_count": 24,
   "metadata": {
    "collapsed": false
   },
   "outputs": [
    {
     "data": {
      "text/html": [
       "<div>\n",
       "<table border=\"1\" class=\"dataframe\">\n",
       "  <thead>\n",
       "    <tr style=\"text-align: right;\">\n",
       "      <th></th>\n",
       "      <th>uuid</th>\n",
       "      <th>patent_id</th>\n",
       "      <th>citation_id_x</th>\n",
       "      <th>date</th>\n",
       "      <th>name</th>\n",
       "      <th>kind</th>\n",
       "      <th>country</th>\n",
       "      <th>category</th>\n",
       "      <th>sequence</th>\n",
       "      <th>citation_id_y</th>\n",
       "      <th>parent_back_citation</th>\n",
       "    </tr>\n",
       "  </thead>\n",
       "  <tbody>\n",
       "    <tr>\n",
       "      <th>0</th>\n",
       "      <td>000007b7c0x3n9iy1othb9hz7</td>\n",
       "      <td>9009250</td>\n",
       "      <td>8127342</td>\n",
       "      <td>2012-02-01</td>\n",
       "      <td>Boynton et al.</td>\n",
       "      <td>B2</td>\n",
       "      <td>US</td>\n",
       "      <td>cited by applicant</td>\n",
       "      <td>622</td>\n",
       "      <td>9009250</td>\n",
       "      <td>5</td>\n",
       "    </tr>\n",
       "    <tr>\n",
       "      <th>1</th>\n",
       "      <td>07tpzlvtmapgex9w34asf96dt</td>\n",
       "      <td>9009250</td>\n",
       "      <td>7593714</td>\n",
       "      <td>2009-09-01</td>\n",
       "      <td>Schultz et al.</td>\n",
       "      <td>B2</td>\n",
       "      <td>US</td>\n",
       "      <td>cited by applicant</td>\n",
       "      <td>548</td>\n",
       "      <td>9009250</td>\n",
       "      <td>5</td>\n",
       "    </tr>\n",
       "    <tr>\n",
       "      <th>2</th>\n",
       "      <td>0appyqdtnf0cku8wpgwntz94f</td>\n",
       "      <td>9009250</td>\n",
       "      <td>7177912</td>\n",
       "      <td>2007-02-01</td>\n",
       "      <td>Ignatoff et al.</td>\n",
       "      <td>B1</td>\n",
       "      <td>US</td>\n",
       "      <td>cited by applicant</td>\n",
       "      <td>463</td>\n",
       "      <td>9009250</td>\n",
       "      <td>5</td>\n",
       "    </tr>\n",
       "    <tr>\n",
       "      <th>3</th>\n",
       "      <td>0c6h2hmy5e09232xevxw6rrth</td>\n",
       "      <td>9009250</td>\n",
       "      <td>5819172</td>\n",
       "      <td>1998-10-01</td>\n",
       "      <td>Campana, Jr. et al.</td>\n",
       "      <td>A</td>\n",
       "      <td>US</td>\n",
       "      <td>cited by applicant</td>\n",
       "      <td>111</td>\n",
       "      <td>9009250</td>\n",
       "      <td>5</td>\n",
       "    </tr>\n",
       "    <tr>\n",
       "      <th>4</th>\n",
       "      <td>0f2cqtzyd81dcysv7c9ezc2xa</td>\n",
       "      <td>9009250</td>\n",
       "      <td>6757696</td>\n",
       "      <td>2004-06-01</td>\n",
       "      <td>Multer et al.</td>\n",
       "      <td>B2</td>\n",
       "      <td>US</td>\n",
       "      <td>cited by applicant</td>\n",
       "      <td>362</td>\n",
       "      <td>9009250</td>\n",
       "      <td>5</td>\n",
       "    </tr>\n",
       "  </tbody>\n",
       "</table>\n",
       "</div>"
      ],
      "text/plain": [
       "                        uuid patent_id citation_id_x       date  \\\n",
       "0  000007b7c0x3n9iy1othb9hz7   9009250       8127342 2012-02-01   \n",
       "1  07tpzlvtmapgex9w34asf96dt   9009250       7593714 2009-09-01   \n",
       "2  0appyqdtnf0cku8wpgwntz94f   9009250       7177912 2007-02-01   \n",
       "3  0c6h2hmy5e09232xevxw6rrth   9009250       5819172 1998-10-01   \n",
       "4  0f2cqtzyd81dcysv7c9ezc2xa   9009250       6757696 2004-06-01   \n",
       "\n",
       "                  name kind country            category  sequence  \\\n",
       "0       Boynton et al.   B2      US  cited by applicant       622   \n",
       "1       Schultz et al.   B2      US  cited by applicant       548   \n",
       "2      Ignatoff et al.   B1      US  cited by applicant       463   \n",
       "3  Campana, Jr. et al.    A      US  cited by applicant       111   \n",
       "4        Multer et al.   B2      US  cited by applicant       362   \n",
       "\n",
       "  citation_id_y  parent_back_citation  \n",
       "0       9009250                     5  \n",
       "1       9009250                     5  \n",
       "2       9009250                     5  \n",
       "3       9009250                     5  \n",
       "4       9009250                     5  "
      ]
     },
     "execution_count": 24,
     "metadata": {},
     "output_type": "execute_result"
    }
   ],
   "source": [
    "df.head()"
   ]
  },
  {
   "cell_type": "code",
   "execution_count": 25,
   "metadata": {
    "collapsed": false
   },
   "outputs": [
    {
     "name": "stdout",
     "output_type": "stream",
     "text": [
      "CPU times: user 1min 38s, sys: 1.45 s, total: 1min 39s\n",
      "Wall time: 1min 39s\n"
     ]
    }
   ],
   "source": [
    "%%time\n",
    "#NaN in citations means no citation\n",
    "df.fillna(0, inplace=True)"
   ]
  },
  {
   "cell_type": "code",
   "execution_count": 26,
   "metadata": {
    "collapsed": false
   },
   "outputs": [
    {
     "name": "stdout",
     "output_type": "stream",
     "text": [
      "CPU times: user 1min 28s, sys: 1.78 s, total: 1min 30s\n",
      "Wall time: 1min 30s\n"
     ]
    }
   ],
   "source": [
    "%%time\n",
    "#now I collapse df to become a patent level dataframe\n",
    "#citation_id_x is the original cited patent\n",
    "# patent_level_df=df.groupby('citation_id_x').sum().iloc[:,2]\n",
    "patent_level_df=df.groupby('citation_id_x').sum()"
   ]
  },
  {
   "cell_type": "code",
   "execution_count": 28,
   "metadata": {
    "collapsed": false
   },
   "outputs": [],
   "source": [
    "# lastly, i merge the number of citations to patent_level_df\n",
    "# patent_level has the information about the citing patent\n",
    "\n",
    "outcome=cited_patents.merge(patent_level_df, how='outer', left_on='citation_id', right_index=True)"
   ]
  },
  {
   "cell_type": "code",
   "execution_count": 29,
   "metadata": {
    "collapsed": true
   },
   "outputs": [],
   "source": [
    "outcome.fillna(0, inplace=True)"
   ]
  },
  {
   "cell_type": "code",
   "execution_count": 30,
   "metadata": {
    "collapsed": false
   },
   "outputs": [
    {
     "data": {
      "text/html": [
       "<div>\n",
       "<table border=\"1\" class=\"dataframe\">\n",
       "  <thead>\n",
       "    <tr style=\"text-align: right;\">\n",
       "      <th></th>\n",
       "      <th>citation_id</th>\n",
       "      <th>back_citation</th>\n",
       "      <th>sequence</th>\n",
       "      <th>parent_back_citation</th>\n",
       "    </tr>\n",
       "  </thead>\n",
       "  <tbody>\n",
       "    <tr>\n",
       "      <th>0</th>\n",
       "      <td>0000000</td>\n",
       "      <td>1</td>\n",
       "      <td>0.0</td>\n",
       "      <td>10.0</td>\n",
       "    </tr>\n",
       "    <tr>\n",
       "      <th>1</th>\n",
       "      <td>000004</td>\n",
       "      <td>1</td>\n",
       "      <td>0.0</td>\n",
       "      <td>1.0</td>\n",
       "    </tr>\n",
       "    <tr>\n",
       "      <th>2</th>\n",
       "      <td>000006</td>\n",
       "      <td>1</td>\n",
       "      <td>0.0</td>\n",
       "      <td>11.0</td>\n",
       "    </tr>\n",
       "    <tr>\n",
       "      <th>3</th>\n",
       "      <td>0000482</td>\n",
       "      <td>1</td>\n",
       "      <td>0.0</td>\n",
       "      <td>30.0</td>\n",
       "    </tr>\n",
       "    <tr>\n",
       "      <th>4</th>\n",
       "      <td>0000H94</td>\n",
       "      <td>1</td>\n",
       "      <td>0.0</td>\n",
       "      <td>14.0</td>\n",
       "    </tr>\n",
       "  </tbody>\n",
       "</table>\n",
       "</div>"
      ],
      "text/plain": [
       "  citation_id  back_citation  sequence  parent_back_citation\n",
       "0     0000000              1       0.0                  10.0\n",
       "1      000004              1       0.0                   1.0\n",
       "2      000006              1       0.0                  11.0\n",
       "3     0000482              1       0.0                  30.0\n",
       "4     0000H94              1       0.0                  14.0"
      ]
     },
     "execution_count": 30,
     "metadata": {},
     "output_type": "execute_result"
    }
   ],
   "source": [
    "outcome.head()"
   ]
  },
  {
   "cell_type": "code",
   "execution_count": 31,
   "metadata": {
    "collapsed": false
   },
   "outputs": [],
   "source": [
    "outcome.drop(['sequence'], axis=1, inplace=True)"
   ]
  },
  {
   "cell_type": "code",
   "execution_count": 32,
   "metadata": {
    "collapsed": false
   },
   "outputs": [],
   "source": [
    "# outcome=outcome.loc[:,['citation_id','back_citation','citation_id_y','parent_back_citation']].set_index('citation_id')"
   ]
  },
  {
   "cell_type": "code",
   "execution_count": 33,
   "metadata": {
    "collapsed": false,
    "scrolled": true
   },
   "outputs": [
    {
     "data": {
      "text/html": [
       "<div>\n",
       "<table border=\"1\" class=\"dataframe\">\n",
       "  <thead>\n",
       "    <tr style=\"text-align: right;\">\n",
       "      <th></th>\n",
       "      <th>back_citation</th>\n",
       "      <th>parent_back_citation</th>\n",
       "    </tr>\n",
       "  </thead>\n",
       "  <tbody>\n",
       "    <tr>\n",
       "      <th>count</th>\n",
       "      <td>7.049261e+06</td>\n",
       "      <td>7.049261e+06</td>\n",
       "    </tr>\n",
       "    <tr>\n",
       "      <th>mean</th>\n",
       "      <td>1.297236e+01</td>\n",
       "      <td>2.194859e+02</td>\n",
       "    </tr>\n",
       "    <tr>\n",
       "      <th>std</th>\n",
       "      <td>3.053004e+01</td>\n",
       "      <td>1.498394e+03</td>\n",
       "    </tr>\n",
       "    <tr>\n",
       "      <th>min</th>\n",
       "      <td>1.000000e+00</td>\n",
       "      <td>0.000000e+00</td>\n",
       "    </tr>\n",
       "    <tr>\n",
       "      <th>25%</th>\n",
       "      <td>2.000000e+00</td>\n",
       "      <td>5.000000e+00</td>\n",
       "    </tr>\n",
       "    <tr>\n",
       "      <th>50%</th>\n",
       "      <td>5.000000e+00</td>\n",
       "      <td>2.600000e+01</td>\n",
       "    </tr>\n",
       "    <tr>\n",
       "      <th>75%</th>\n",
       "      <td>1.300000e+01</td>\n",
       "      <td>1.080000e+02</td>\n",
       "    </tr>\n",
       "    <tr>\n",
       "      <th>max</th>\n",
       "      <td>3.922000e+03</td>\n",
       "      <td>2.274790e+05</td>\n",
       "    </tr>\n",
       "  </tbody>\n",
       "</table>\n",
       "</div>"
      ],
      "text/plain": [
       "       back_citation  parent_back_citation\n",
       "count   7.049261e+06          7.049261e+06\n",
       "mean    1.297236e+01          2.194859e+02\n",
       "std     3.053004e+01          1.498394e+03\n",
       "min     1.000000e+00          0.000000e+00\n",
       "25%     2.000000e+00          5.000000e+00\n",
       "50%     5.000000e+00          2.600000e+01\n",
       "75%     1.300000e+01          1.080000e+02\n",
       "max     3.922000e+03          2.274790e+05"
      ]
     },
     "execution_count": 33,
     "metadata": {},
     "output_type": "execute_result"
    }
   ],
   "source": [
    "outcome.describe()"
   ]
  },
  {
   "cell_type": "code",
   "execution_count": 34,
   "metadata": {
    "collapsed": false
   },
   "outputs": [
    {
     "data": {
      "text/html": [
       "<div>\n",
       "<table border=\"1\" class=\"dataframe\">\n",
       "  <thead>\n",
       "    <tr style=\"text-align: right;\">\n",
       "      <th></th>\n",
       "      <th>citation_id</th>\n",
       "      <th>back_citation</th>\n",
       "      <th>parent_back_citation</th>\n",
       "    </tr>\n",
       "  </thead>\n",
       "  <tbody>\n",
       "    <tr>\n",
       "      <th>0</th>\n",
       "      <td>0000000</td>\n",
       "      <td>1</td>\n",
       "      <td>10.0</td>\n",
       "    </tr>\n",
       "    <tr>\n",
       "      <th>1</th>\n",
       "      <td>000004</td>\n",
       "      <td>1</td>\n",
       "      <td>1.0</td>\n",
       "    </tr>\n",
       "    <tr>\n",
       "      <th>2</th>\n",
       "      <td>000006</td>\n",
       "      <td>1</td>\n",
       "      <td>11.0</td>\n",
       "    </tr>\n",
       "    <tr>\n",
       "      <th>3</th>\n",
       "      <td>0000482</td>\n",
       "      <td>1</td>\n",
       "      <td>30.0</td>\n",
       "    </tr>\n",
       "    <tr>\n",
       "      <th>4</th>\n",
       "      <td>0000H94</td>\n",
       "      <td>1</td>\n",
       "      <td>14.0</td>\n",
       "    </tr>\n",
       "  </tbody>\n",
       "</table>\n",
       "</div>"
      ],
      "text/plain": [
       "  citation_id  back_citation  parent_back_citation\n",
       "0     0000000              1                  10.0\n",
       "1      000004              1                   1.0\n",
       "2      000006              1                  11.0\n",
       "3     0000482              1                  30.0\n",
       "4     0000H94              1                  14.0"
      ]
     },
     "execution_count": 34,
     "metadata": {},
     "output_type": "execute_result"
    }
   ],
   "source": [
    "outcome.head()"
   ]
  },
  {
   "cell_type": "code",
   "execution_count": 35,
   "metadata": {
    "collapsed": false
   },
   "outputs": [
    {
     "name": "stdout",
     "output_type": "stream",
     "text": [
      "CPU times: user 33.1 s, sys: 76 ms, total: 33.2 s\n",
      "Wall time: 33.3 s\n"
     ]
    }
   ],
   "source": [
    "%%time\n",
    "outcome.to_csv(dst)"
   ]
  }
 ],
 "metadata": {
  "anaconda-cloud": {},
  "kernelspec": {
   "display_name": "Python [default]",
   "language": "python",
   "name": "python3"
  },
  "language_info": {
   "codemirror_mode": {
    "name": "ipython",
    "version": 3
   },
   "file_extension": ".py",
   "mimetype": "text/x-python",
   "name": "python",
   "nbconvert_exporter": "python",
   "pygments_lexer": "ipython3",
   "version": "3.5.2"
  }
 },
 "nbformat": 4,
 "nbformat_minor": 1
}
