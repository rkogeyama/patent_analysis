{
 "cells": [
  {
   "cell_type": "code",
   "execution_count": 1,
   "metadata": {
    "collapsed": true
   },
   "outputs": [],
   "source": [
    "# Script to calculate originality\n",
    "\n",
    "# Generality: how diverse is the impact of a patent\n",
    "# This is done by calculating the herfindal index of citing patents"
   ]
  },
  {
   "cell_type": "code",
   "execution_count": 2,
   "metadata": {
    "collapsed": true
   },
   "outputs": [],
   "source": [
    "# Jan 22th, 2020\n",
    "# Copy and paste from generality\n",
    "# Join generality and generality_2\n",
    "# mirror the script to reflect originality\n",
    "# the only difference should be to change 'citation_id' by 'patent_id' in some fields\n",
    "# total citations tend to be much smaller\n",
    "\n",
    "\n",
    "# Jan 16th, 2020\n",
    "# Due to performance problems in the HPC, this script was divided in two, the script following this is generality_2\n",
    "# generality > 1 is not an error, but a consequence of adopting WIPO\n",
    "# it seems that the original calculation had only one class per patent\n",
    "# WIPO provides multiple classes - so when you divide by the total number of citations, \n",
    "#  you do not have the proportion of classes cited anymore\n",
    "# to correct this issue, I can calculate Generality and Originality based only on the first WIPO class\n",
    "\n",
    "# Jan 13th, 2020\n",
    "# Script is running but there are two major issues\n",
    "# - there should not exist generality > 1 , so there is an error in calculation\n",
    "# - too many NANs (about 400k), but I will tackle this issue in 'too_many_nans.ipynb'\n",
    "\n",
    "# to tackle the first problem, I'll begin by creating a subset of the database\n",
    "# to do that, I'll use USPTO classification system"
   ]
  },
  {
   "cell_type": "code",
   "execution_count": 3,
   "metadata": {
    "collapsed": true
   },
   "outputs": [],
   "source": [
    "# Trying to save memory is leading to a small nightmare \n",
    "# I am postponing the use of dask modules"
   ]
  },
  {
   "cell_type": "code",
   "execution_count": 4,
   "metadata": {
    "collapsed": true
   },
   "outputs": [],
   "source": [
    "import sys\n",
    "sys.path.append('/home/rkogeyam/scripts/')\n",
    "from sampler import sampler\n",
    "\n",
    "import pandas as pd\n",
    "import numpy as np\n",
    "import re\n",
    "\n",
    "import dask.dataframe as dd"
   ]
  },
  {
   "cell_type": "code",
   "execution_count": 5,
   "metadata": {
    "collapsed": true
   },
   "outputs": [],
   "source": [
    "# wipo_horiz.csv\n",
    "# from wipo_horiz.ipynb\n",
    "# Original WIPO classification reshaped\n",
    "# patent_id:    patent number\n",
    "# field_id_n :  'n' is the WIPO class\n",
    "\n",
    "# uspatentcitation.tsv\n",
    "# uuid:         unique id\n",
    "# patent_id:    patent number\n",
    "# citation_id:  identifying number of patent to which select patent cites\n",
    "# date:         date select patent (patent_id) cites patent (citation_id)\n",
    "# name:         name of cited record\n",
    "# kind:         WIPO document kind codes \n",
    "#               (http://www.uspto.gov/learning-and-resources/support-centers/electronic-business-center/kind-codes-included-uspto-patent)\t2002 and After\n",
    "# country:      country cited patent was granted (always US)\n",
    "# category:     who cited the patent (examiner, applicant, other etc) - 2002 and After\n",
    "# sequence:     order in which this reference is cited by select patent\tall\n"
   ]
  },
  {
   "cell_type": "code",
   "execution_count": 6,
   "metadata": {
    "collapsed": true
   },
   "outputs": [],
   "source": [
    "citation= '/home/rkogeyam/PATENT_CITATION/data/cleanuspatentcitation.csv'\n",
    "wipo = '/home/rkogeyam/PATENT_CITATION/data/wipo_first_class.csv' #avoid multiple classes\n",
    "\n",
    "dst= '/home/rkogeyam/PATENT_CITATION/data/originality_temp.csv'"
   ]
  },
  {
   "cell_type": "code",
   "execution_count": 7,
   "metadata": {
    "collapsed": false
   },
   "outputs": [
    {
     "name": "stdout",
     "output_type": "stream",
     "text": [
      "CPU times: user 2min 15s, sys: 7.79 s, total: 2min 23s\n",
      "Wall time: 2min 23s\n"
     ]
    }
   ],
   "source": [
    "%%time\n",
    "usecols=['patent_id','field_id']\n",
    "dtype={'patent_id':object,'field_id':object}\n",
    "wipo_df=pd.read_csv(wipo, usecols=usecols, dtype=dtype)\n",
    "\n",
    "usecols=['patent_id', 'citation_id']\n",
    "dtype={'patent_id':object,'citation_id':object}\n",
    "df=pd.read_csv(citation, usecols=usecols, dtype=dtype)\n",
    "\n",
    "# sample_size=100\n",
    "# wipo_df=sampler(wipo, sample_size)\n",
    "# citation_df=sampler(citation, sample_size)"
   ]
  },
  {
   "cell_type": "code",
   "execution_count": 8,
   "metadata": {
    "collapsed": false
   },
   "outputs": [
    {
     "name": "stdout",
     "output_type": "stream",
     "text": [
      "CPU times: user 3min 14s, sys: 3.93 s, total: 3min 18s\n",
      "Wall time: 3min 18s\n"
     ]
    }
   ],
   "source": [
    "%%time\n",
    "#citation level dataset\n",
    "#join is faster than merge\n",
    "wipo_df['patent_id']=wipo_df['patent_id'].astype(str)\n",
    "df=df.astype(str)\n",
    "\n",
    "wipo_df.set_index('patent_id', inplace=True)\n",
    "df.set_index('citation_id', inplace=True)\n",
    "#different from generality - we want to know the class of cites made\n",
    "\n",
    "df=df.join(wipo_df, how='inner')  \n",
    "\n",
    "#the left dataframe is citation df, which is indexed by patent_id\n",
    "#when later on I group by citation_id is very possible that NaNs appear"
   ]
  },
  {
   "cell_type": "code",
   "execution_count": 9,
   "metadata": {
    "collapsed": true
   },
   "outputs": [
    {
     "name": "stdout",
     "output_type": "stream",
     "text": [
      "<class 'pandas.core.frame.DataFrame'>\n",
      "Index: 73342208 entries, 10001951 to 9999473\n",
      "Data columns (total 2 columns):\n",
      "patent_id    object\n",
      "field_id     object\n",
      "dtypes: object(2)\n",
      "memory usage: 1.6+ GB\n"
     ]
    }
   ],
   "source": [
    "df.info()\n"
   ]
  },
  {
   "cell_type": "code",
   "execution_count": 10,
   "metadata": {
    "collapsed": true
   },
   "outputs": [
    {
     "data": {
      "text/html": [
       "<div>\n",
       "<table border=\"1\" class=\"dataframe\">\n",
       "  <thead>\n",
       "    <tr style=\"text-align: right;\">\n",
       "      <th></th>\n",
       "      <th>patent_id</th>\n",
       "      <th>field_id</th>\n",
       "    </tr>\n",
       "  </thead>\n",
       "  <tbody>\n",
       "    <tr>\n",
       "      <th>count</th>\n",
       "      <td>73342208</td>\n",
       "      <td>73342208</td>\n",
       "    </tr>\n",
       "    <tr>\n",
       "      <th>unique</th>\n",
       "      <td>5609709</td>\n",
       "      <td>35</td>\n",
       "    </tr>\n",
       "    <tr>\n",
       "      <th>top</th>\n",
       "      <td>8892495</td>\n",
       "      <td>13</td>\n",
       "    </tr>\n",
       "    <tr>\n",
       "      <th>freq</th>\n",
       "      <td>5768</td>\n",
       "      <td>10554877</td>\n",
       "    </tr>\n",
       "  </tbody>\n",
       "</table>\n",
       "</div>"
      ],
      "text/plain": [
       "       patent_id  field_id\n",
       "count   73342208  73342208\n",
       "unique   5609709        35\n",
       "top      8892495        13\n",
       "freq        5768  10554877"
      ]
     },
     "execution_count": 10,
     "metadata": {},
     "output_type": "execute_result"
    }
   ],
   "source": [
    "df.describe()"
   ]
  },
  {
   "cell_type": "code",
   "execution_count": 11,
   "metadata": {
    "collapsed": false
   },
   "outputs": [
    {
     "data": {
      "text/html": [
       "<div>\n",
       "<table border=\"1\" class=\"dataframe\">\n",
       "  <thead>\n",
       "    <tr style=\"text-align: right;\">\n",
       "      <th></th>\n",
       "      <th>patent_id</th>\n",
       "      <th>field_id</th>\n",
       "    </tr>\n",
       "  </thead>\n",
       "  <tbody>\n",
       "    <tr>\n",
       "      <th>6382923</th>\n",
       "      <td>9649418</td>\n",
       "      <td>27</td>\n",
       "    </tr>\n",
       "    <tr>\n",
       "      <th>4963468</th>\n",
       "      <td>6194222</td>\n",
       "      <td>11</td>\n",
       "    </tr>\n",
       "    <tr>\n",
       "      <th>7095204</th>\n",
       "      <td>8729840</td>\n",
       "      <td>1</td>\n",
       "    </tr>\n",
       "    <tr>\n",
       "      <th>5991415</th>\n",
       "      <td>8861718</td>\n",
       "      <td>4</td>\n",
       "    </tr>\n",
       "    <tr>\n",
       "      <th>6506215</th>\n",
       "      <td>8147557</td>\n",
       "      <td>13</td>\n",
       "    </tr>\n",
       "  </tbody>\n",
       "</table>\n",
       "</div>"
      ],
      "text/plain": [
       "        patent_id field_id\n",
       "6382923   9649418       27\n",
       "4963468   6194222       11\n",
       "7095204   8729840        1\n",
       "5991415   8861718        4\n",
       "6506215   8147557       13"
      ]
     },
     "execution_count": 11,
     "metadata": {},
     "output_type": "execute_result"
    }
   ],
   "source": [
    "df.sample(n=5)"
   ]
  },
  {
   "cell_type": "code",
   "execution_count": 12,
   "metadata": {
    "collapsed": true
   },
   "outputs": [],
   "source": [
    "df.to_csv(dst)"
   ]
  },
  {
   "cell_type": "code",
   "execution_count": 13,
   "metadata": {
    "collapsed": true
   },
   "outputs": [],
   "source": [
    "# #from generality_2\n",
    "\n",
    "# # group on citation_id - thus adding all patents citing one receiver (citation_id)\n",
    "# # thus this is generality\n",
    "# # its the impact of a given patent\n",
    "\n",
    "# # the index is equivalent to 1 - herfindal\n",
    "# # this way, the closer to 1, the more general\n",
    "\n",
    "# # the denominator is total citations squared\n",
    "# # should be easy to check with citation values\n",
    "# total_citation=df.groupby('patent_id').count().iloc[:,0] #different from generality\n",
    "# total_citation=np.square(total_citation)\n",
    "\n",
    "# # the numerator is the sum of the squares of citations in each class\n",
    "# df=df.groupby('patent_id').sum().fillna(0) #in theory, I would not need fillna, check later\n",
    "# df=np.square(df) #element-wise squaring\n",
    "# df=df.sum(axis='columns') #sum all columns, per row\n",
    "\n",
    "# df=pd.concat([df, total_citation], axis=1)\n",
    "# df.columns=['df_squared', 'total_citation']\n",
    "# #herfindal \n",
    "\n",
    "# df['herfindal']=df['df_squared']/df['total_citation'] #its a measure of concentration\n",
    "\n",
    "# df['output']=1-df['herfindal'] # as defined in Hall et al, 2001\n",
    "\n",
    "# df.to_csv(dst)"
   ]
  }
 ],
 "metadata": {
  "anaconda-cloud": {},
  "kernelspec": {
   "display_name": "Python [default]",
   "language": "python",
   "name": "python3"
  },
  "language_info": {
   "codemirror_mode": {
    "name": "ipython",
    "version": 3
   },
   "file_extension": ".py",
   "mimetype": "text/x-python",
   "name": "python",
   "nbconvert_exporter": "python",
   "pygments_lexer": "ipython3",
   "version": "3.5.2"
  }
 },
 "nbformat": 4,
 "nbformat_minor": 1
}
