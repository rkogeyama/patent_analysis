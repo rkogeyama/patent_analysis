{
 "cells": [
  {
   "cell_type": "code",
   "execution_count": 1,
   "metadata": {
    "collapsed": true
   },
   "outputs": [],
   "source": [
    "# Jan 29, 2020\n",
    "# many errors appeared after joining the dataset \n",
    "# i rewritten code into simpler scripts\n",
    "# this script joins variables together to be processed later\n",
    "\n",
    "# they are:\n",
    "#     - cit_delay - reads clean_patent and clean_uspatentcitation and calculates delay by patent\n",
    "#     - cit_made - reads clean_uspatentcitation and calculates citations made \n",
    "#     - cit_received - reads clean_uspatentcitation and calculates citations received\n",
    "#     - cit_tree - reads clean_uspatentcitation and cit_made and calculates parent_citation\n",
    "#     - generalit - reads wipo and clean_uspatentcitation and calculates generality\n",
    "#     - originality - reads wipo and clean_uspatentcitation and calculates originality\n",
    "#     - wipo_horiz - reads wipo and generates wipo_first_class\n",
    "\n",
    "# now I'm merging these files \n",
    "\n",
    "# Jan, 20th 2020\n",
    "# join delay and tree data to form the analysis dataset\n"
   ]
  },
  {
   "cell_type": "code",
   "execution_count": 2,
   "metadata": {
    "collapsed": true
   },
   "outputs": [],
   "source": [
    "import pandas as pd\n",
    "import numpy as np"
   ]
  },
  {
   "cell_type": "code",
   "execution_count": 3,
   "metadata": {
    "collapsed": true
   },
   "outputs": [],
   "source": [
    "received='data/cit_received.csv'\n",
    "made='data/cit_made.csv'\n",
    "received_delay='data/cit_received_delay.csv'\n",
    "made_delay='data/cit_made_delay.csv'\n",
    "cit_tree = 'data/cit_tree.csv'\n",
    "originality = 'data/originality.csv'\n",
    "generality = 'data/generality.csv'\n",
    "dst='data/dataset.csv'"
   ]
  },
  {
   "cell_type": "code",
   "execution_count": 4,
   "metadata": {
    "collapsed": false,
    "scrolled": true
   },
   "outputs": [
    {
     "name": "stdout",
     "output_type": "stream",
     "text": [
      "CPU times: user 0 ns, sys: 0 ns, total: 0 ns\n",
      "Wall time: 5.72 µs\n",
      "<class 'pandas.core.frame.DataFrame'>\n",
      "RangeIndex: 4079698 entries, 0 to 4079697\n",
      "Data columns (total 5 columns):\n",
      "Unnamed: 0              int64\n",
      "citation_id             object\n",
      "back_citation           int64\n",
      "parent_back_citation    int64\n",
      "forw_citation           int64\n",
      "dtypes: int64(4), object(1)\n",
      "memory usage: 155.6+ MB\n"
     ]
    },
    {
     "name": "stderr",
     "output_type": "stream",
     "text": [
      "/home/applications/anaconda3/4.2.0/lib/python3.5/site-packages/IPython/core/interactiveshell.py:2717: DtypeWarning: Columns (1) have mixed types. Specify dtype option on import or set low_memory=False.\n",
      "  interactivity=interactivity, compiler=compiler, result=result)\n"
     ]
    }
   ],
   "source": [
    "usecols=['citation_id', 'cit_received']\n",
    "df = pd.read_csv(received, usecols=usecols, index_col='citation_id')\n",
    "df.info()"
   ]
  },
  {
   "cell_type": "code",
   "execution_count": 7,
   "metadata": {
    "collapsed": false
   },
   "outputs": [
    {
     "name": "stderr",
     "output_type": "stream",
     "text": [
      "/home/applications/anaconda3/4.2.0/lib/python3.5/site-packages/IPython/core/interactiveshell.py:2717: DtypeWarning: Columns (0) have mixed types. Specify dtype option on import or set low_memory=False.\n",
      "  interactivity=interactivity, compiler=compiler, result=result)\n"
     ]
    },
    {
     "data": {
      "text/plain": [
       "citation_id         object\n",
       "mean_forw_delay    float64\n",
       "forw_citation      float64\n",
       "mean_back_delay    float64\n",
       "back_citation      float64\n",
       "dtype: object"
      ]
     },
     "execution_count": 7,
     "metadata": {},
     "output_type": "execute_result"
    }
   ],
   "source": [
    "usecols=['patent_id', 'cit_made']\n",
    "df_made=pd.read_csv(made, usecols=usecols, index_col='patent_id' )\n",
    "df_made.info()"
   ]
  },
  {
   "cell_type": "code",
   "execution_count": null,
   "metadata": {
    "collapsed": true
   },
   "outputs": [],
   "source": [
    "usecols=['citation_id', 'cit_made']\n",
    "df_received_delay=pd.read_csv(received_delay, usecols=usecols, index_col='cit_made' )\n",
    "df_received_delay.info()"
   ]
  },
  {
   "cell_type": "code",
   "execution_count": null,
   "metadata": {
    "collapsed": true
   },
   "outputs": [],
   "source": [
    "%time\n",
    "dfs = [df, df_made, df_received_delay]\n",
    "dfs = [df.set_index('name') for df in dfs]\n",
    "dfs[0].join(dfs[1:])"
   ]
  },
  {
   "cell_type": "code",
   "execution_count": null,
   "metadata": {
    "collapsed": true
   },
   "outputs": [],
   "source": [
    "dfs.info()"
   ]
  },
  {
   "cell_type": "code",
   "execution_count": 9,
   "metadata": {
    "collapsed": true
   },
   "outputs": [],
   "source": [
    "#delay\n",
    "#this merge is outer because not all patents with delay (meaning they have > 1 cit) have tree\n",
    "#also not patents with tree have delay \n",
    "#(they might have received only one cit, and this citation may have received multiple cit)\n",
    "\n",
    "tree_df=tree_df.merge(df, how='outer', right_on='citation_id', left_on='citation_id')"
   ]
  },
  {
   "cell_type": "code",
   "execution_count": 10,
   "metadata": {
    "collapsed": false
   },
   "outputs": [
    {
     "data": {
      "text/html": [
       "<div>\n",
       "<table border=\"1\" class=\"dataframe\">\n",
       "  <thead>\n",
       "    <tr style=\"text-align: right;\">\n",
       "      <th></th>\n",
       "      <th>citation_id</th>\n",
       "      <th>back_citation_x</th>\n",
       "      <th>parent_back_citation</th>\n",
       "      <th>forw_citation_x</th>\n",
       "      <th>mean_forw_delay</th>\n",
       "      <th>forw_citation_y</th>\n",
       "      <th>mean_back_delay</th>\n",
       "      <th>back_citation_y</th>\n",
       "    </tr>\n",
       "  </thead>\n",
       "  <tbody>\n",
       "    <tr>\n",
       "      <th>9682279</th>\n",
       "      <td>9707099</td>\n",
       "      <td>NaN</td>\n",
       "      <td>NaN</td>\n",
       "      <td>NaN</td>\n",
       "      <td>0.0</td>\n",
       "      <td>33.0</td>\n",
       "      <td>0.0</td>\n",
       "      <td>0.0</td>\n",
       "    </tr>\n",
       "    <tr>\n",
       "      <th>3997026</th>\n",
       "      <td>D649099</td>\n",
       "      <td>5.0</td>\n",
       "      <td>10.0</td>\n",
       "      <td>17.0</td>\n",
       "      <td>0.0</td>\n",
       "      <td>17.0</td>\n",
       "      <td>0.0</td>\n",
       "      <td>5.0</td>\n",
       "    </tr>\n",
       "    <tr>\n",
       "      <th>313244</th>\n",
       "      <td>4271924</td>\n",
       "      <td>17.0</td>\n",
       "      <td>170.0</td>\n",
       "      <td>8.0</td>\n",
       "      <td>NaN</td>\n",
       "      <td>NaN</td>\n",
       "      <td>NaN</td>\n",
       "      <td>NaN</td>\n",
       "    </tr>\n",
       "    <tr>\n",
       "      <th>1411254</th>\n",
       "      <td>5456940</td>\n",
       "      <td>169.0</td>\n",
       "      <td>1782.0</td>\n",
       "      <td>5.0</td>\n",
       "      <td>0.0</td>\n",
       "      <td>5.0</td>\n",
       "      <td>0.0</td>\n",
       "      <td>163.0</td>\n",
       "    </tr>\n",
       "    <tr>\n",
       "      <th>7639391</th>\n",
       "      <td>661746</td>\n",
       "      <td>NaN</td>\n",
       "      <td>NaN</td>\n",
       "      <td>NaN</td>\n",
       "      <td>0.0</td>\n",
       "      <td>0.0</td>\n",
       "      <td>0.0</td>\n",
       "      <td>1.0</td>\n",
       "    </tr>\n",
       "    <tr>\n",
       "      <th>5812668</th>\n",
       "      <td>3761057</td>\n",
       "      <td>NaN</td>\n",
       "      <td>NaN</td>\n",
       "      <td>NaN</td>\n",
       "      <td>0.0</td>\n",
       "      <td>0.0</td>\n",
       "      <td>0.0</td>\n",
       "      <td>9.0</td>\n",
       "    </tr>\n",
       "    <tr>\n",
       "      <th>6483944</th>\n",
       "      <td>4428997</td>\n",
       "      <td>NaN</td>\n",
       "      <td>NaN</td>\n",
       "      <td>NaN</td>\n",
       "      <td>0.0</td>\n",
       "      <td>7.0</td>\n",
       "      <td>0.0</td>\n",
       "      <td>36.0</td>\n",
       "    </tr>\n",
       "    <tr>\n",
       "      <th>7951797</th>\n",
       "      <td>7561888</td>\n",
       "      <td>NaN</td>\n",
       "      <td>NaN</td>\n",
       "      <td>NaN</td>\n",
       "      <td>0.0</td>\n",
       "      <td>4.0</td>\n",
       "      <td>0.0</td>\n",
       "      <td>1.0</td>\n",
       "    </tr>\n",
       "    <tr>\n",
       "      <th>2116289</th>\n",
       "      <td>6241094</td>\n",
       "      <td>3.0</td>\n",
       "      <td>5.0</td>\n",
       "      <td>9.0</td>\n",
       "      <td>0.0</td>\n",
       "      <td>9.0</td>\n",
       "      <td>0.0</td>\n",
       "      <td>3.0</td>\n",
       "    </tr>\n",
       "    <tr>\n",
       "      <th>701481</th>\n",
       "      <td>4690291</td>\n",
       "      <td>2.0</td>\n",
       "      <td>2.0</td>\n",
       "      <td>12.0</td>\n",
       "      <td>NaN</td>\n",
       "      <td>NaN</td>\n",
       "      <td>NaN</td>\n",
       "      <td>NaN</td>\n",
       "    </tr>\n",
       "  </tbody>\n",
       "</table>\n",
       "</div>"
      ],
      "text/plain": [
       "        citation_id  back_citation_x  parent_back_citation  forw_citation_x  \\\n",
       "9682279     9707099              NaN                   NaN              NaN   \n",
       "3997026     D649099              5.0                  10.0             17.0   \n",
       "313244      4271924             17.0                 170.0              8.0   \n",
       "1411254     5456940            169.0                1782.0              5.0   \n",
       "7639391      661746              NaN                   NaN              NaN   \n",
       "5812668     3761057              NaN                   NaN              NaN   \n",
       "6483944     4428997              NaN                   NaN              NaN   \n",
       "7951797     7561888              NaN                   NaN              NaN   \n",
       "2116289     6241094              3.0                   5.0              9.0   \n",
       "701481      4690291              2.0                   2.0             12.0   \n",
       "\n",
       "         mean_forw_delay  forw_citation_y  mean_back_delay  back_citation_y  \n",
       "9682279              0.0             33.0              0.0              0.0  \n",
       "3997026              0.0             17.0              0.0              5.0  \n",
       "313244               NaN              NaN              NaN              NaN  \n",
       "1411254              0.0              5.0              0.0            163.0  \n",
       "7639391              0.0              0.0              0.0              1.0  \n",
       "5812668              0.0              0.0              0.0              9.0  \n",
       "6483944              0.0              7.0              0.0             36.0  \n",
       "7951797              0.0              4.0              0.0              1.0  \n",
       "2116289              0.0              9.0              0.0              3.0  \n",
       "701481               NaN              NaN              NaN              NaN  "
      ]
     },
     "execution_count": 10,
     "metadata": {},
     "output_type": "execute_result"
    }
   ],
   "source": [
    "tree_df.sample(n=10)"
   ]
  },
  {
   "cell_type": "code",
   "execution_count": 11,
   "metadata": {
    "collapsed": true
   },
   "outputs": [],
   "source": [
    "df=pd.read_csv(originality, usecols=['patent_id', 'total_citation','output'])"
   ]
  },
  {
   "cell_type": "code",
   "execution_count": 12,
   "metadata": {
    "collapsed": false
   },
   "outputs": [
    {
     "data": {
      "text/plain": [
       "patent_id          object\n",
       "total_citation      int64\n",
       "output            float64\n",
       "dtype: object"
      ]
     },
     "execution_count": 12,
     "metadata": {},
     "output_type": "execute_result"
    }
   ],
   "source": [
    "df['patent_id']=df['patent_id'].astype(str)\n",
    "# df.set_index('patent_id', inplace=True)\n",
    "df.dtypes"
   ]
  },
  {
   "cell_type": "code",
   "execution_count": 13,
   "metadata": {
    "collapsed": true
   },
   "outputs": [],
   "source": [
    "#originality\n",
    "tree_df=tree_df.merge(df, how='inner', right_on='patent_id', left_on='citation_id')"
   ]
  },
  {
   "cell_type": "code",
   "execution_count": 14,
   "metadata": {
    "collapsed": false
   },
   "outputs": [
    {
     "data": {
      "text/html": [
       "<div>\n",
       "<table border=\"1\" class=\"dataframe\">\n",
       "  <thead>\n",
       "    <tr style=\"text-align: right;\">\n",
       "      <th></th>\n",
       "      <th>citation_id</th>\n",
       "      <th>back_citation_x</th>\n",
       "      <th>parent_back_citation</th>\n",
       "      <th>forw_citation_x</th>\n",
       "      <th>mean_forw_delay</th>\n",
       "      <th>forw_citation_y</th>\n",
       "      <th>mean_back_delay</th>\n",
       "      <th>back_citation_y</th>\n",
       "      <th>patent_id</th>\n",
       "      <th>total_citation</th>\n",
       "      <th>output</th>\n",
       "    </tr>\n",
       "  </thead>\n",
       "  <tbody>\n",
       "    <tr>\n",
       "      <th>476248</th>\n",
       "      <td>4327971</td>\n",
       "      <td>NaN</td>\n",
       "      <td>NaN</td>\n",
       "      <td>NaN</td>\n",
       "      <td>0.0</td>\n",
       "      <td>5.0</td>\n",
       "      <td>0.0</td>\n",
       "      <td>14.0</td>\n",
       "      <td>4327971</td>\n",
       "      <td>196</td>\n",
       "      <td>0.0</td>\n",
       "    </tr>\n",
       "    <tr>\n",
       "      <th>774935</th>\n",
       "      <td>4639981</td>\n",
       "      <td>NaN</td>\n",
       "      <td>NaN</td>\n",
       "      <td>NaN</td>\n",
       "      <td>0.0</td>\n",
       "      <td>8.0</td>\n",
       "      <td>0.0</td>\n",
       "      <td>4.0</td>\n",
       "      <td>4639981</td>\n",
       "      <td>16</td>\n",
       "      <td>0.0</td>\n",
       "    </tr>\n",
       "    <tr>\n",
       "      <th>298251</th>\n",
       "      <td>4140246</td>\n",
       "      <td>NaN</td>\n",
       "      <td>NaN</td>\n",
       "      <td>NaN</td>\n",
       "      <td>0.0</td>\n",
       "      <td>5.0</td>\n",
       "      <td>0.0</td>\n",
       "      <td>3.0</td>\n",
       "      <td>4140246</td>\n",
       "      <td>9</td>\n",
       "      <td>0.0</td>\n",
       "    </tr>\n",
       "    <tr>\n",
       "      <th>615745</th>\n",
       "      <td>4474157</td>\n",
       "      <td>NaN</td>\n",
       "      <td>NaN</td>\n",
       "      <td>NaN</td>\n",
       "      <td>0.0</td>\n",
       "      <td>5.0</td>\n",
       "      <td>0.0</td>\n",
       "      <td>3.0</td>\n",
       "      <td>4474157</td>\n",
       "      <td>9</td>\n",
       "      <td>0.0</td>\n",
       "    </tr>\n",
       "    <tr>\n",
       "      <th>772035</th>\n",
       "      <td>4636977</td>\n",
       "      <td>NaN</td>\n",
       "      <td>NaN</td>\n",
       "      <td>NaN</td>\n",
       "      <td>0.0</td>\n",
       "      <td>4.0</td>\n",
       "      <td>0.0</td>\n",
       "      <td>12.0</td>\n",
       "      <td>4636977</td>\n",
       "      <td>144</td>\n",
       "      <td>0.0</td>\n",
       "    </tr>\n",
       "    <tr>\n",
       "      <th>1263758</th>\n",
       "      <td>5147501</td>\n",
       "      <td>NaN</td>\n",
       "      <td>NaN</td>\n",
       "      <td>NaN</td>\n",
       "      <td>0.0</td>\n",
       "      <td>4.0</td>\n",
       "      <td>0.0</td>\n",
       "      <td>2.0</td>\n",
       "      <td>5147501</td>\n",
       "      <td>4</td>\n",
       "      <td>0.0</td>\n",
       "    </tr>\n",
       "    <tr>\n",
       "      <th>493092</th>\n",
       "      <td>4345668</td>\n",
       "      <td>NaN</td>\n",
       "      <td>NaN</td>\n",
       "      <td>NaN</td>\n",
       "      <td>0.0</td>\n",
       "      <td>10.0</td>\n",
       "      <td>0.0</td>\n",
       "      <td>34.0</td>\n",
       "      <td>4345668</td>\n",
       "      <td>1156</td>\n",
       "      <td>0.0</td>\n",
       "    </tr>\n",
       "    <tr>\n",
       "      <th>1036215</th>\n",
       "      <td>4910773</td>\n",
       "      <td>NaN</td>\n",
       "      <td>NaN</td>\n",
       "      <td>NaN</td>\n",
       "      <td>0.0</td>\n",
       "      <td>12.0</td>\n",
       "      <td>0.0</td>\n",
       "      <td>21.0</td>\n",
       "      <td>4910773</td>\n",
       "      <td>441</td>\n",
       "      <td>0.0</td>\n",
       "    </tr>\n",
       "    <tr>\n",
       "      <th>235242</th>\n",
       "      <td>4073576</td>\n",
       "      <td>NaN</td>\n",
       "      <td>NaN</td>\n",
       "      <td>NaN</td>\n",
       "      <td>0.0</td>\n",
       "      <td>0.0</td>\n",
       "      <td>0.0</td>\n",
       "      <td>4.0</td>\n",
       "      <td>4073576</td>\n",
       "      <td>16</td>\n",
       "      <td>0.0</td>\n",
       "    </tr>\n",
       "    <tr>\n",
       "      <th>1241400</th>\n",
       "      <td>5124237</td>\n",
       "      <td>NaN</td>\n",
       "      <td>NaN</td>\n",
       "      <td>NaN</td>\n",
       "      <td>0.0</td>\n",
       "      <td>6.0</td>\n",
       "      <td>0.0</td>\n",
       "      <td>1.0</td>\n",
       "      <td>5124237</td>\n",
       "      <td>4</td>\n",
       "      <td>0.0</td>\n",
       "    </tr>\n",
       "  </tbody>\n",
       "</table>\n",
       "</div>"
      ],
      "text/plain": [
       "        citation_id  back_citation_x  parent_back_citation  forw_citation_x  \\\n",
       "476248      4327971              NaN                   NaN              NaN   \n",
       "774935      4639981              NaN                   NaN              NaN   \n",
       "298251      4140246              NaN                   NaN              NaN   \n",
       "615745      4474157              NaN                   NaN              NaN   \n",
       "772035      4636977              NaN                   NaN              NaN   \n",
       "1263758     5147501              NaN                   NaN              NaN   \n",
       "493092      4345668              NaN                   NaN              NaN   \n",
       "1036215     4910773              NaN                   NaN              NaN   \n",
       "235242      4073576              NaN                   NaN              NaN   \n",
       "1241400     5124237              NaN                   NaN              NaN   \n",
       "\n",
       "         mean_forw_delay  forw_citation_y  mean_back_delay  back_citation_y  \\\n",
       "476248               0.0              5.0              0.0             14.0   \n",
       "774935               0.0              8.0              0.0              4.0   \n",
       "298251               0.0              5.0              0.0              3.0   \n",
       "615745               0.0              5.0              0.0              3.0   \n",
       "772035               0.0              4.0              0.0             12.0   \n",
       "1263758              0.0              4.0              0.0              2.0   \n",
       "493092               0.0             10.0              0.0             34.0   \n",
       "1036215              0.0             12.0              0.0             21.0   \n",
       "235242               0.0              0.0              0.0              4.0   \n",
       "1241400              0.0              6.0              0.0              1.0   \n",
       "\n",
       "        patent_id  total_citation  output  \n",
       "476248    4327971             196     0.0  \n",
       "774935    4639981              16     0.0  \n",
       "298251    4140246               9     0.0  \n",
       "615745    4474157               9     0.0  \n",
       "772035    4636977             144     0.0  \n",
       "1263758   5147501               4     0.0  \n",
       "493092    4345668            1156     0.0  \n",
       "1036215   4910773             441     0.0  \n",
       "235242    4073576              16     0.0  \n",
       "1241400   5124237               4     0.0  "
      ]
     },
     "execution_count": 14,
     "metadata": {},
     "output_type": "execute_result"
    }
   ],
   "source": [
    "tree_df.sample(n=10)"
   ]
  },
  {
   "cell_type": "code",
   "execution_count": 15,
   "metadata": {
    "collapsed": false
   },
   "outputs": [
    {
     "name": "stderr",
     "output_type": "stream",
     "text": [
      "/home/applications/anaconda3/4.2.0/lib/python3.5/site-packages/IPython/core/interactiveshell.py:2717: DtypeWarning: Columns (0) have mixed types. Specify dtype option on import or set low_memory=False.\n",
      "  interactivity=interactivity, compiler=compiler, result=result)\n"
     ]
    }
   ],
   "source": [
    "df=pd.read_csv(generality, usecols=['citation_id', 'output'])"
   ]
  },
  {
   "cell_type": "code",
   "execution_count": 16,
   "metadata": {
    "collapsed": false
   },
   "outputs": [
    {
     "data": {
      "text/plain": [
       "citation_id     object\n",
       "output         float64\n",
       "dtype: object"
      ]
     },
     "execution_count": 16,
     "metadata": {},
     "output_type": "execute_result"
    }
   ],
   "source": [
    "df['citation_id']=df['citation_id'].astype(str)\n",
    "# df.set_index('citation_id', inplace=True)\n",
    "df.dtypes"
   ]
  },
  {
   "cell_type": "code",
   "execution_count": 17,
   "metadata": {
    "collapsed": true
   },
   "outputs": [],
   "source": [
    "#generality\n",
    "tree_df=tree_df.merge(df, how='outer', right_on='citation_id', left_on='citation_id')"
   ]
  },
  {
   "cell_type": "code",
   "execution_count": 18,
   "metadata": {
    "collapsed": false
   },
   "outputs": [
    {
     "data": {
      "text/plain": [
       "(6562527, 12)"
      ]
     },
     "execution_count": 18,
     "metadata": {},
     "output_type": "execute_result"
    }
   ],
   "source": [
    "tree_df.shape"
   ]
  },
  {
   "cell_type": "code",
   "execution_count": 19,
   "metadata": {
    "collapsed": false
   },
   "outputs": [
    {
     "data": {
      "text/html": [
       "<div>\n",
       "<table border=\"1\" class=\"dataframe\">\n",
       "  <thead>\n",
       "    <tr style=\"text-align: right;\">\n",
       "      <th></th>\n",
       "      <th>citation_id</th>\n",
       "      <th>back_citation_x</th>\n",
       "      <th>parent_back_citation</th>\n",
       "      <th>forw_citation_x</th>\n",
       "      <th>mean_forw_delay</th>\n",
       "      <th>forw_citation_y</th>\n",
       "      <th>mean_back_delay</th>\n",
       "      <th>back_citation_y</th>\n",
       "      <th>patent_id</th>\n",
       "      <th>total_citation</th>\n",
       "      <th>output_x</th>\n",
       "      <th>output_y</th>\n",
       "    </tr>\n",
       "  </thead>\n",
       "  <tbody>\n",
       "    <tr>\n",
       "      <th>4308183</th>\n",
       "      <td>6139557</td>\n",
       "      <td>NaN</td>\n",
       "      <td>NaN</td>\n",
       "      <td>NaN</td>\n",
       "      <td>NaN</td>\n",
       "      <td>NaN</td>\n",
       "      <td>NaN</td>\n",
       "      <td>NaN</td>\n",
       "      <td>NaN</td>\n",
       "      <td>NaN</td>\n",
       "      <td>NaN</td>\n",
       "      <td>0.000000</td>\n",
       "    </tr>\n",
       "    <tr>\n",
       "      <th>3122500</th>\n",
       "      <td>3449993</td>\n",
       "      <td>NaN</td>\n",
       "      <td>NaN</td>\n",
       "      <td>NaN</td>\n",
       "      <td>NaN</td>\n",
       "      <td>NaN</td>\n",
       "      <td>NaN</td>\n",
       "      <td>NaN</td>\n",
       "      <td>NaN</td>\n",
       "      <td>NaN</td>\n",
       "      <td>NaN</td>\n",
       "      <td>0.571429</td>\n",
       "    </tr>\n",
       "    <tr>\n",
       "      <th>1776156</th>\n",
       "      <td>1246090</td>\n",
       "      <td>NaN</td>\n",
       "      <td>NaN</td>\n",
       "      <td>NaN</td>\n",
       "      <td>NaN</td>\n",
       "      <td>NaN</td>\n",
       "      <td>NaN</td>\n",
       "      <td>NaN</td>\n",
       "      <td>NaN</td>\n",
       "      <td>NaN</td>\n",
       "      <td>NaN</td>\n",
       "      <td>0.000000</td>\n",
       "    </tr>\n",
       "    <tr>\n",
       "      <th>4706308</th>\n",
       "      <td>6554564</td>\n",
       "      <td>NaN</td>\n",
       "      <td>NaN</td>\n",
       "      <td>NaN</td>\n",
       "      <td>NaN</td>\n",
       "      <td>NaN</td>\n",
       "      <td>NaN</td>\n",
       "      <td>NaN</td>\n",
       "      <td>NaN</td>\n",
       "      <td>NaN</td>\n",
       "      <td>NaN</td>\n",
       "      <td>0.141250</td>\n",
       "    </tr>\n",
       "    <tr>\n",
       "      <th>2489704</th>\n",
       "      <td>2615936</td>\n",
       "      <td>NaN</td>\n",
       "      <td>NaN</td>\n",
       "      <td>NaN</td>\n",
       "      <td>NaN</td>\n",
       "      <td>NaN</td>\n",
       "      <td>NaN</td>\n",
       "      <td>NaN</td>\n",
       "      <td>NaN</td>\n",
       "      <td>NaN</td>\n",
       "      <td>NaN</td>\n",
       "      <td>0.000000</td>\n",
       "    </tr>\n",
       "    <tr>\n",
       "      <th>5029319</th>\n",
       "      <td>6902111</td>\n",
       "      <td>NaN</td>\n",
       "      <td>NaN</td>\n",
       "      <td>NaN</td>\n",
       "      <td>NaN</td>\n",
       "      <td>NaN</td>\n",
       "      <td>NaN</td>\n",
       "      <td>NaN</td>\n",
       "      <td>NaN</td>\n",
       "      <td>NaN</td>\n",
       "      <td>NaN</td>\n",
       "      <td>0.678135</td>\n",
       "    </tr>\n",
       "    <tr>\n",
       "      <th>1640359</th>\n",
       "      <td>8297693</td>\n",
       "      <td>NaN</td>\n",
       "      <td>NaN</td>\n",
       "      <td>NaN</td>\n",
       "      <td>0.0</td>\n",
       "      <td>53.0</td>\n",
       "      <td>0.0</td>\n",
       "      <td>7.0</td>\n",
       "      <td>8297693</td>\n",
       "      <td>49.0</td>\n",
       "      <td>0.0</td>\n",
       "      <td>0.244898</td>\n",
       "    </tr>\n",
       "    <tr>\n",
       "      <th>5108664</th>\n",
       "      <td>6989303</td>\n",
       "      <td>NaN</td>\n",
       "      <td>NaN</td>\n",
       "      <td>NaN</td>\n",
       "      <td>NaN</td>\n",
       "      <td>NaN</td>\n",
       "      <td>NaN</td>\n",
       "      <td>NaN</td>\n",
       "      <td>NaN</td>\n",
       "      <td>NaN</td>\n",
       "      <td>NaN</td>\n",
       "      <td>0.000000</td>\n",
       "    </tr>\n",
       "    <tr>\n",
       "      <th>2866422</th>\n",
       "      <td>3140734</td>\n",
       "      <td>NaN</td>\n",
       "      <td>NaN</td>\n",
       "      <td>NaN</td>\n",
       "      <td>NaN</td>\n",
       "      <td>NaN</td>\n",
       "      <td>NaN</td>\n",
       "      <td>NaN</td>\n",
       "      <td>NaN</td>\n",
       "      <td>NaN</td>\n",
       "      <td>NaN</td>\n",
       "      <td>0.500000</td>\n",
       "    </tr>\n",
       "    <tr>\n",
       "      <th>2037084</th>\n",
       "      <td>1926329</td>\n",
       "      <td>NaN</td>\n",
       "      <td>NaN</td>\n",
       "      <td>NaN</td>\n",
       "      <td>NaN</td>\n",
       "      <td>NaN</td>\n",
       "      <td>NaN</td>\n",
       "      <td>NaN</td>\n",
       "      <td>NaN</td>\n",
       "      <td>NaN</td>\n",
       "      <td>NaN</td>\n",
       "      <td>0.500000</td>\n",
       "    </tr>\n",
       "  </tbody>\n",
       "</table>\n",
       "</div>"
      ],
      "text/plain": [
       "        citation_id  back_citation_x  parent_back_citation  forw_citation_x  \\\n",
       "4308183     6139557              NaN                   NaN              NaN   \n",
       "3122500     3449993              NaN                   NaN              NaN   \n",
       "1776156     1246090              NaN                   NaN              NaN   \n",
       "4706308     6554564              NaN                   NaN              NaN   \n",
       "2489704     2615936              NaN                   NaN              NaN   \n",
       "5029319     6902111              NaN                   NaN              NaN   \n",
       "1640359     8297693              NaN                   NaN              NaN   \n",
       "5108664     6989303              NaN                   NaN              NaN   \n",
       "2866422     3140734              NaN                   NaN              NaN   \n",
       "2037084     1926329              NaN                   NaN              NaN   \n",
       "\n",
       "         mean_forw_delay  forw_citation_y  mean_back_delay  back_citation_y  \\\n",
       "4308183              NaN              NaN              NaN              NaN   \n",
       "3122500              NaN              NaN              NaN              NaN   \n",
       "1776156              NaN              NaN              NaN              NaN   \n",
       "4706308              NaN              NaN              NaN              NaN   \n",
       "2489704              NaN              NaN              NaN              NaN   \n",
       "5029319              NaN              NaN              NaN              NaN   \n",
       "1640359              0.0             53.0              0.0              7.0   \n",
       "5108664              NaN              NaN              NaN              NaN   \n",
       "2866422              NaN              NaN              NaN              NaN   \n",
       "2037084              NaN              NaN              NaN              NaN   \n",
       "\n",
       "        patent_id  total_citation  output_x  output_y  \n",
       "4308183       NaN             NaN       NaN  0.000000  \n",
       "3122500       NaN             NaN       NaN  0.571429  \n",
       "1776156       NaN             NaN       NaN  0.000000  \n",
       "4706308       NaN             NaN       NaN  0.141250  \n",
       "2489704       NaN             NaN       NaN  0.000000  \n",
       "5029319       NaN             NaN       NaN  0.678135  \n",
       "1640359   8297693            49.0       0.0  0.244898  \n",
       "5108664       NaN             NaN       NaN  0.000000  \n",
       "2866422       NaN             NaN       NaN  0.500000  \n",
       "2037084       NaN             NaN       NaN  0.500000  "
      ]
     },
     "execution_count": 19,
     "metadata": {},
     "output_type": "execute_result"
    }
   ],
   "source": [
    "tree_df.sample(n=10)"
   ]
  },
  {
   "cell_type": "code",
   "execution_count": 20,
   "metadata": {
    "collapsed": false
   },
   "outputs": [
    {
     "name": "stderr",
     "output_type": "stream",
     "text": [
      "/home/applications/anaconda3/4.2.0/lib/python3.5/site-packages/numpy/lib/function_base.py:4269: RuntimeWarning: Invalid value encountered in percentile\n",
      "  interpolation=interpolation)\n"
     ]
    },
    {
     "data": {
      "text/html": [
       "<div>\n",
       "<table border=\"1\" class=\"dataframe\">\n",
       "  <thead>\n",
       "    <tr style=\"text-align: right;\">\n",
       "      <th></th>\n",
       "      <th>back_citation_x</th>\n",
       "      <th>parent_back_citation</th>\n",
       "      <th>forw_citation_x</th>\n",
       "      <th>mean_forw_delay</th>\n",
       "      <th>forw_citation_y</th>\n",
       "      <th>mean_back_delay</th>\n",
       "      <th>back_citation_y</th>\n",
       "      <th>total_citation</th>\n",
       "      <th>output_x</th>\n",
       "      <th>output_y</th>\n",
       "    </tr>\n",
       "  </thead>\n",
       "  <tbody>\n",
       "    <tr>\n",
       "      <th>count</th>\n",
       "      <td>99784.000000</td>\n",
       "      <td>99784.000000</td>\n",
       "      <td>99784.000000</td>\n",
       "      <td>1.602130e+06</td>\n",
       "      <td>1.602130e+06</td>\n",
       "      <td>1.602130e+06</td>\n",
       "      <td>1.602130e+06</td>\n",
       "      <td>1.701900e+06</td>\n",
       "      <td>1701900.0</td>\n",
       "      <td>6.555151e+06</td>\n",
       "    </tr>\n",
       "    <tr>\n",
       "      <th>mean</th>\n",
       "      <td>7.615770</td>\n",
       "      <td>33.107743</td>\n",
       "      <td>47.139030</td>\n",
       "      <td>-4.500288e-08</td>\n",
       "      <td>8.658379e+00</td>\n",
       "      <td>-1.517102e-08</td>\n",
       "      <td>1.699041e+01</td>\n",
       "      <td>1.439369e+03</td>\n",
       "      <td>0.0</td>\n",
       "      <td>2.533886e-01</td>\n",
       "    </tr>\n",
       "    <tr>\n",
       "      <th>std</th>\n",
       "      <td>15.271495</td>\n",
       "      <td>372.166061</td>\n",
       "      <td>127.506989</td>\n",
       "      <td>5.391977e-06</td>\n",
       "      <td>2.111453e+01</td>\n",
       "      <td>2.626641e-06</td>\n",
       "      <td>3.320028e+01</td>\n",
       "      <td>2.481384e+04</td>\n",
       "      <td>0.0</td>\n",
       "      <td>2.652133e-01</td>\n",
       "    </tr>\n",
       "    <tr>\n",
       "      <th>min</th>\n",
       "      <td>1.000000</td>\n",
       "      <td>1.000000</td>\n",
       "      <td>1.000000</td>\n",
       "      <td>-2.739726e-03</td>\n",
       "      <td>0.000000e+00</td>\n",
       "      <td>-1.369863e-03</td>\n",
       "      <td>0.000000e+00</td>\n",
       "      <td>1.000000e+00</td>\n",
       "      <td>0.0</td>\n",
       "      <td>0.000000e+00</td>\n",
       "    </tr>\n",
       "    <tr>\n",
       "      <th>25%</th>\n",
       "      <td>NaN</td>\n",
       "      <td>NaN</td>\n",
       "      <td>NaN</td>\n",
       "      <td>NaN</td>\n",
       "      <td>NaN</td>\n",
       "      <td>NaN</td>\n",
       "      <td>NaN</td>\n",
       "      <td>NaN</td>\n",
       "      <td>NaN</td>\n",
       "      <td>NaN</td>\n",
       "    </tr>\n",
       "    <tr>\n",
       "      <th>50%</th>\n",
       "      <td>NaN</td>\n",
       "      <td>NaN</td>\n",
       "      <td>NaN</td>\n",
       "      <td>NaN</td>\n",
       "      <td>NaN</td>\n",
       "      <td>NaN</td>\n",
       "      <td>NaN</td>\n",
       "      <td>NaN</td>\n",
       "      <td>NaN</td>\n",
       "      <td>NaN</td>\n",
       "    </tr>\n",
       "    <tr>\n",
       "      <th>75%</th>\n",
       "      <td>NaN</td>\n",
       "      <td>NaN</td>\n",
       "      <td>NaN</td>\n",
       "      <td>NaN</td>\n",
       "      <td>NaN</td>\n",
       "      <td>NaN</td>\n",
       "      <td>NaN</td>\n",
       "      <td>NaN</td>\n",
       "      <td>NaN</td>\n",
       "      <td>NaN</td>\n",
       "    </tr>\n",
       "    <tr>\n",
       "      <th>max</th>\n",
       "      <td>326.000000</td>\n",
       "      <td>16967.000000</td>\n",
       "      <td>2502.000000</td>\n",
       "      <td>0.000000e+00</td>\n",
       "      <td>3.018000e+03</td>\n",
       "      <td>0.000000e+00</td>\n",
       "      <td>3.725000e+03</td>\n",
       "      <td>1.538208e+07</td>\n",
       "      <td>0.0</td>\n",
       "      <td>9.235959e-01</td>\n",
       "    </tr>\n",
       "  </tbody>\n",
       "</table>\n",
       "</div>"
      ],
      "text/plain": [
       "       back_citation_x  parent_back_citation  forw_citation_x  \\\n",
       "count     99784.000000          99784.000000     99784.000000   \n",
       "mean          7.615770             33.107743        47.139030   \n",
       "std          15.271495            372.166061       127.506989   \n",
       "min           1.000000              1.000000         1.000000   \n",
       "25%                NaN                   NaN              NaN   \n",
       "50%                NaN                   NaN              NaN   \n",
       "75%                NaN                   NaN              NaN   \n",
       "max         326.000000          16967.000000      2502.000000   \n",
       "\n",
       "       mean_forw_delay  forw_citation_y  mean_back_delay  back_citation_y  \\\n",
       "count     1.602130e+06     1.602130e+06     1.602130e+06     1.602130e+06   \n",
       "mean     -4.500288e-08     8.658379e+00    -1.517102e-08     1.699041e+01   \n",
       "std       5.391977e-06     2.111453e+01     2.626641e-06     3.320028e+01   \n",
       "min      -2.739726e-03     0.000000e+00    -1.369863e-03     0.000000e+00   \n",
       "25%                NaN              NaN              NaN              NaN   \n",
       "50%                NaN              NaN              NaN              NaN   \n",
       "75%                NaN              NaN              NaN              NaN   \n",
       "max       0.000000e+00     3.018000e+03     0.000000e+00     3.725000e+03   \n",
       "\n",
       "       total_citation   output_x      output_y  \n",
       "count    1.701900e+06  1701900.0  6.555151e+06  \n",
       "mean     1.439369e+03        0.0  2.533886e-01  \n",
       "std      2.481384e+04        0.0  2.652133e-01  \n",
       "min      1.000000e+00        0.0  0.000000e+00  \n",
       "25%               NaN        NaN           NaN  \n",
       "50%               NaN        NaN           NaN  \n",
       "75%               NaN        NaN           NaN  \n",
       "max      1.538208e+07        0.0  9.235959e-01  "
      ]
     },
     "execution_count": 20,
     "metadata": {},
     "output_type": "execute_result"
    }
   ],
   "source": [
    "tree_df.describe()"
   ]
  },
  {
   "cell_type": "code",
   "execution_count": 21,
   "metadata": {
    "collapsed": true
   },
   "outputs": [],
   "source": [
    "tree_df.to_csv(dst)"
   ]
  }
 ],
 "metadata": {
  "anaconda-cloud": {},
  "kernelspec": {
   "display_name": "Python [default]",
   "language": "python",
   "name": "python3"
  },
  "language_info": {
   "codemirror_mode": {
    "name": "ipython",
    "version": 3
   },
   "file_extension": ".py",
   "mimetype": "text/x-python",
   "name": "python",
   "nbconvert_exporter": "python",
   "pygments_lexer": "ipython3",
   "version": "3.5.2"
  }
 },
 "nbformat": 4,
 "nbformat_minor": 1
}
