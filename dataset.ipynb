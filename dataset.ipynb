{
 "cells": [
  {
   "cell_type": "code",
   "execution_count": 1,
   "metadata": {
    "collapsed": true
   },
   "outputs": [],
   "source": [
    "# Jan 29, 2020\n",
    "# many errors appeared after joining the dataset \n",
    "# i rewritten code into simpler scripts\n",
    "# this script joins variables together to be processed later\n",
    "\n",
    "# they are:\n",
    "#     - cit_delay - reads clean_patent and clean_uspatentcitation and calculates delay by patent\n",
    "#     - cit_made - reads clean_uspatentcitation and calculates citations made \n",
    "#     - cit_received - reads clean_uspatentcitation and calculates citations received\n",
    "#     - cit_tree - reads clean_uspatentcitation and cit_made and calculates parent_citation\n",
    "#     - generalit - reads wipo and clean_uspatentcitation and calculates generality\n",
    "#     - originality - reads wipo and clean_uspatentcitation and calculates originality\n",
    "#     - wipo_first_class - reads wipo and generates wipo_first_class\n",
    "\n",
    "# it is now way faster, but I cannot know for sure if this is a consequence of coding or something changed in \n",
    "# infrastructure. \n",
    "\n",
    "# since class is a variable that also appear in non-cited patents, I'll include them in the final step\n",
    "\n",
    "\n",
    "# Jan, 20th 2020\n",
    "# join delay and tree data to form the analysis dataset\n"
   ]
  },
  {
   "cell_type": "code",
   "execution_count": 2,
   "metadata": {
    "collapsed": true
   },
   "outputs": [],
   "source": [
    "import pandas as pd\n",
    "import numpy as np"
   ]
  },
  {
   "cell_type": "code",
   "execution_count": 3,
   "metadata": {
    "collapsed": true
   },
   "outputs": [],
   "source": [
    "received='data/cit_received.csv'\n",
    "made='data/cit_made.csv'\n",
    "received_delay='data/cit_received_delay.csv'\n",
    "made_delay='data/cit_made_delay.csv'\n",
    "cit_tree = 'data/cit_tree.csv'\n",
    "originality = 'data/originality.csv'\n",
    "generality = 'data/generality.csv'\n",
    "dst='data/dataset.csv'\n",
    "wipo = 'data/wipo_first_class.csv' #avoid multiple classes\n"
   ]
  },
  {
   "cell_type": "code",
   "execution_count": 4,
   "metadata": {
    "collapsed": true
   },
   "outputs": [],
   "source": [
    "dfs=[]"
   ]
  },
  {
   "cell_type": "code",
   "execution_count": 5,
   "metadata": {
    "collapsed": true
   },
   "outputs": [],
   "source": [
    "def data_read(file, names, usecols, dtype):\n",
    "    df = pd.read_csv(file, names=names, usecols=usecols, dtype=dtype, index_col='id', header=0)\n",
    "    dfs.append(df)"
   ]
  },
  {
   "cell_type": "code",
   "execution_count": 6,
   "metadata": {
    "collapsed": false,
    "scrolled": true
   },
   "outputs": [],
   "source": [
    "names=['index', 'id', 'cit_received']\n",
    "usecols=['id', 'cit_received']\n",
    "dtype={'id':object}\n",
    "data_read(received, names, usecols, dtype)"
   ]
  },
  {
   "cell_type": "code",
   "execution_count": 7,
   "metadata": {
    "collapsed": false
   },
   "outputs": [],
   "source": [
    "names=['index', 'id', 'cit_made']\n",
    "usecols=['id', 'cit_made']\n",
    "dtype={'id':object}\n",
    "data_read(made, names, usecols, dtype)"
   ]
  },
  {
   "cell_type": "code",
   "execution_count": 8,
   "metadata": {
    "collapsed": false
   },
   "outputs": [],
   "source": [
    "names=['id', 'cit_received_delay']\n",
    "dtype={'id':object}\n",
    "usecols=['id', 'cit_received_delay']\n",
    "data_read(received_delay, names, usecols, dtype)"
   ]
  },
  {
   "cell_type": "code",
   "execution_count": 9,
   "metadata": {
    "collapsed": false
   },
   "outputs": [],
   "source": [
    "names=['id', 'cit_made_delay']\n",
    "dtype={'id':object}\n",
    "usecols=['id', 'cit_made_delay']\n",
    "data_read(made_delay, names, usecols, dtype)"
   ]
  },
  {
   "cell_type": "code",
   "execution_count": 10,
   "metadata": {
    "collapsed": true
   },
   "outputs": [],
   "source": [
    "names=['id', 'parent_citation']\n",
    "dtype={'id':object}\n",
    "usecols=['id', 'parent_citation']\n",
    "data_read(cit_tree, names, usecols, dtype)"
   ]
  },
  {
   "cell_type": "code",
   "execution_count": 11,
   "metadata": {
    "collapsed": true
   },
   "outputs": [],
   "source": [
    "names=['id', 'df_squared','total_citation','herfindal','originality']\n",
    "dtype={'id':object}\n",
    "usecols=['id', 'originality']\n",
    "data_read(originality, names, usecols, dtype)"
   ]
  },
  {
   "cell_type": "code",
   "execution_count": 12,
   "metadata": {
    "collapsed": true
   },
   "outputs": [],
   "source": [
    "names=['id', 'df_squared','total_citation','herfindal','generality']\n",
    "dtype={'id':object}\n",
    "usecols=['id', 'generality']\n",
    "data_read(generality, names, usecols, dtype)"
   ]
  },
  {
   "cell_type": "code",
   "execution_count": 20,
   "metadata": {
    "collapsed": false
   },
   "outputs": [
    {
     "name": "stdout",
     "output_type": "stream",
     "text": [
      "CPU times: user 0 ns, sys: 0 ns, total: 0 ns\n",
      "Wall time: 5.01 µs\n"
     ]
    }
   ],
   "source": [
    "%time\n",
    "# dfs = [df, df_made, df_received_delay]\n",
    "# dfs = [df.set_index('id') for df in dfs]\n",
    "df=dfs[0].join(dfs[1:])"
   ]
  },
  {
   "cell_type": "code",
   "execution_count": 21,
   "metadata": {
    "collapsed": false
   },
   "outputs": [
    {
     "data": {
      "text/plain": [
       "cit_received            int64\n",
       "cit_made              float64\n",
       "cit_received_delay    float64\n",
       "cit_made_delay        float64\n",
       "parent_citation       float64\n",
       "originality           float64\n",
       "generality            float64\n",
       "dtype: object"
      ]
     },
     "execution_count": 21,
     "metadata": {},
     "output_type": "execute_result"
    }
   ],
   "source": [
    "df.dtypes"
   ]
  },
  {
   "cell_type": "code",
   "execution_count": 22,
   "metadata": {
    "collapsed": false
   },
   "outputs": [
    {
     "name": "stdout",
     "output_type": "stream",
     "text": [
      "<class 'pandas.core.frame.DataFrame'>\n",
      "Index: 7048984 entries, 0000000 to re25727\n",
      "Data columns (total 7 columns):\n",
      "cit_received          int64\n",
      "cit_made              float64\n",
      "cit_received_delay    float64\n",
      "cit_made_delay        float64\n",
      "parent_citation       float64\n",
      "originality           float64\n",
      "generality            float64\n",
      "dtypes: float64(6), int64(1)\n",
      "memory usage: 430.2+ MB\n"
     ]
    }
   ],
   "source": [
    "df.info()"
   ]
  },
  {
   "cell_type": "code",
   "execution_count": 23,
   "metadata": {
    "collapsed": false
   },
   "outputs": [
    {
     "data": {
      "text/html": [
       "<div>\n",
       "<table border=\"1\" class=\"dataframe\">\n",
       "  <thead>\n",
       "    <tr style=\"text-align: right;\">\n",
       "      <th></th>\n",
       "      <th>cit_received</th>\n",
       "      <th>cit_made</th>\n",
       "      <th>cit_received_delay</th>\n",
       "      <th>cit_made_delay</th>\n",
       "      <th>parent_citation</th>\n",
       "      <th>originality</th>\n",
       "      <th>generality</th>\n",
       "    </tr>\n",
       "    <tr>\n",
       "      <th>id</th>\n",
       "      <th></th>\n",
       "      <th></th>\n",
       "      <th></th>\n",
       "      <th></th>\n",
       "      <th></th>\n",
       "      <th></th>\n",
       "      <th></th>\n",
       "    </tr>\n",
       "  </thead>\n",
       "  <tbody>\n",
       "    <tr>\n",
       "      <th>20040055564</th>\n",
       "      <td>1</td>\n",
       "      <td>NaN</td>\n",
       "      <td>0.846575</td>\n",
       "      <td>NaN</td>\n",
       "      <td>3.0</td>\n",
       "      <td>NaN</td>\n",
       "      <td>0.000000</td>\n",
       "    </tr>\n",
       "    <tr>\n",
       "      <th>3852265</th>\n",
       "      <td>5</td>\n",
       "      <td>NaN</td>\n",
       "      <td>32.397260</td>\n",
       "      <td>NaN</td>\n",
       "      <td>NaN</td>\n",
       "      <td>NaN</td>\n",
       "      <td>0.320000</td>\n",
       "    </tr>\n",
       "    <tr>\n",
       "      <th>1831518</th>\n",
       "      <td>2</td>\n",
       "      <td>NaN</td>\n",
       "      <td>64.472603</td>\n",
       "      <td>NaN</td>\n",
       "      <td>13.0</td>\n",
       "      <td>NaN</td>\n",
       "      <td>0.000000</td>\n",
       "    </tr>\n",
       "    <tr>\n",
       "      <th>7227849</th>\n",
       "      <td>82</td>\n",
       "      <td>18.0</td>\n",
       "      <td>8.456331</td>\n",
       "      <td>7.829528</td>\n",
       "      <td>620.0</td>\n",
       "      <td>0.444444</td>\n",
       "      <td>0.566330</td>\n",
       "    </tr>\n",
       "    <tr>\n",
       "      <th>D30089</th>\n",
       "      <td>19</td>\n",
       "      <td>NaN</td>\n",
       "      <td>101.746271</td>\n",
       "      <td>NaN</td>\n",
       "      <td>265.0</td>\n",
       "      <td>NaN</td>\n",
       "      <td>0.444444</td>\n",
       "    </tr>\n",
       "    <tr>\n",
       "      <th>3026041</th>\n",
       "      <td>3</td>\n",
       "      <td>NaN</td>\n",
       "      <td>29.336986</td>\n",
       "      <td>NaN</td>\n",
       "      <td>30.0</td>\n",
       "      <td>NaN</td>\n",
       "      <td>0.444444</td>\n",
       "    </tr>\n",
       "    <tr>\n",
       "      <th>7769742</th>\n",
       "      <td>27</td>\n",
       "      <td>11.0</td>\n",
       "      <td>4.419990</td>\n",
       "      <td>7.562391</td>\n",
       "      <td>62.0</td>\n",
       "      <td>0.314050</td>\n",
       "      <td>0.071331</td>\n",
       "    </tr>\n",
       "    <tr>\n",
       "      <th>9129552</th>\n",
       "      <td>2</td>\n",
       "      <td>26.0</td>\n",
       "      <td>1.726027</td>\n",
       "      <td>15.065121</td>\n",
       "      <td>NaN</td>\n",
       "      <td>0.677515</td>\n",
       "      <td>0.000000</td>\n",
       "    </tr>\n",
       "    <tr>\n",
       "      <th>8328659</th>\n",
       "      <td>59</td>\n",
       "      <td>40.0</td>\n",
       "      <td>3.712840</td>\n",
       "      <td>32.517808</td>\n",
       "      <td>190.0</td>\n",
       "      <td>0.000000</td>\n",
       "      <td>0.000000</td>\n",
       "    </tr>\n",
       "    <tr>\n",
       "      <th>D564543</th>\n",
       "      <td>3</td>\n",
       "      <td>35.0</td>\n",
       "      <td>5.020091</td>\n",
       "      <td>23.402270</td>\n",
       "      <td>10.0</td>\n",
       "      <td>0.000000</td>\n",
       "      <td>0.000000</td>\n",
       "    </tr>\n",
       "  </tbody>\n",
       "</table>\n",
       "</div>"
      ],
      "text/plain": [
       "             cit_received  cit_made  cit_received_delay  cit_made_delay  \\\n",
       "id                                                                        \n",
       "20040055564             1       NaN            0.846575             NaN   \n",
       "3852265                 5       NaN           32.397260             NaN   \n",
       "1831518                 2       NaN           64.472603             NaN   \n",
       "7227849                82      18.0            8.456331        7.829528   \n",
       "D30089                 19       NaN          101.746271             NaN   \n",
       "3026041                 3       NaN           29.336986             NaN   \n",
       "7769742                27      11.0            4.419990        7.562391   \n",
       "9129552                 2      26.0            1.726027       15.065121   \n",
       "8328659                59      40.0            3.712840       32.517808   \n",
       "D564543                 3      35.0            5.020091       23.402270   \n",
       "\n",
       "             parent_citation  originality  generality  \n",
       "id                                                     \n",
       "20040055564              3.0          NaN    0.000000  \n",
       "3852265                  NaN          NaN    0.320000  \n",
       "1831518                 13.0          NaN    0.000000  \n",
       "7227849                620.0     0.444444    0.566330  \n",
       "D30089                 265.0          NaN    0.444444  \n",
       "3026041                 30.0          NaN    0.444444  \n",
       "7769742                 62.0     0.314050    0.071331  \n",
       "9129552                  NaN     0.677515    0.000000  \n",
       "8328659                190.0     0.000000    0.000000  \n",
       "D564543                 10.0     0.000000    0.000000  "
      ]
     },
     "execution_count": 23,
     "metadata": {},
     "output_type": "execute_result"
    }
   ],
   "source": [
    "df.sample(n=10)"
   ]
  },
  {
   "cell_type": "code",
   "execution_count": 24,
   "metadata": {
    "collapsed": false
   },
   "outputs": [
    {
     "name": "stderr",
     "output_type": "stream",
     "text": [
      "/home/applications/anaconda3/4.2.0/lib/python3.5/site-packages/numpy/lib/function_base.py:4269: RuntimeWarning: Invalid value encountered in percentile\n",
      "  interpolation=interpolation)\n"
     ]
    },
    {
     "data": {
      "text/html": [
       "<div>\n",
       "<table border=\"1\" class=\"dataframe\">\n",
       "  <thead>\n",
       "    <tr style=\"text-align: right;\">\n",
       "      <th></th>\n",
       "      <th>cit_received</th>\n",
       "      <th>cit_made</th>\n",
       "      <th>cit_received_delay</th>\n",
       "      <th>cit_made_delay</th>\n",
       "      <th>parent_citation</th>\n",
       "      <th>originality</th>\n",
       "      <th>generality</th>\n",
       "    </tr>\n",
       "  </thead>\n",
       "  <tbody>\n",
       "    <tr>\n",
       "      <th>count</th>\n",
       "      <td>7.048984e+06</td>\n",
       "      <td>4.712934e+06</td>\n",
       "      <td>7.018034e+06</td>\n",
       "      <td>4.509640e+06</td>\n",
       "      <td>6.256483e+06</td>\n",
       "      <td>4.195437e+06</td>\n",
       "      <td>6.552762e+06</td>\n",
       "    </tr>\n",
       "    <tr>\n",
       "      <th>mean</th>\n",
       "      <td>1.297282e+01</td>\n",
       "      <td>1.468080e+01</td>\n",
       "      <td>2.036854e+01</td>\n",
       "      <td>1.335864e+01</td>\n",
       "      <td>2.472962e+02</td>\n",
       "      <td>2.731046e-01</td>\n",
       "      <td>2.534382e-01</td>\n",
       "    </tr>\n",
       "    <tr>\n",
       "      <th>std</th>\n",
       "      <td>3.053055e+01</td>\n",
       "      <td>3.929394e+01</td>\n",
       "      <td>2.422966e+01</td>\n",
       "      <td>1.072210e+01</td>\n",
       "      <td>1.588333e+03</td>\n",
       "      <td>2.654199e-01</td>\n",
       "      <td>2.652160e-01</td>\n",
       "    </tr>\n",
       "    <tr>\n",
       "      <th>min</th>\n",
       "      <td>1.000000e+00</td>\n",
       "      <td>0.000000e+00</td>\n",
       "      <td>-3.514364e+01</td>\n",
       "      <td>-2.805233e+02</td>\n",
       "      <td>1.000000e+00</td>\n",
       "      <td>0.000000e+00</td>\n",
       "      <td>0.000000e+00</td>\n",
       "    </tr>\n",
       "    <tr>\n",
       "      <th>25%</th>\n",
       "      <td>2.000000e+00</td>\n",
       "      <td>NaN</td>\n",
       "      <td>NaN</td>\n",
       "      <td>NaN</td>\n",
       "      <td>NaN</td>\n",
       "      <td>NaN</td>\n",
       "      <td>NaN</td>\n",
       "    </tr>\n",
       "    <tr>\n",
       "      <th>50%</th>\n",
       "      <td>5.000000e+00</td>\n",
       "      <td>NaN</td>\n",
       "      <td>NaN</td>\n",
       "      <td>NaN</td>\n",
       "      <td>NaN</td>\n",
       "      <td>NaN</td>\n",
       "      <td>NaN</td>\n",
       "    </tr>\n",
       "    <tr>\n",
       "      <th>75%</th>\n",
       "      <td>1.300000e+01</td>\n",
       "      <td>NaN</td>\n",
       "      <td>NaN</td>\n",
       "      <td>NaN</td>\n",
       "      <td>NaN</td>\n",
       "      <td>NaN</td>\n",
       "      <td>NaN</td>\n",
       "    </tr>\n",
       "    <tr>\n",
       "      <th>max</th>\n",
       "      <td>3.922000e+03</td>\n",
       "      <td>5.811000e+03</td>\n",
       "      <td>2.075753e+02</td>\n",
       "      <td>1.827425e+02</td>\n",
       "      <td>2.274790e+05</td>\n",
       "      <td>9.391847e-01</td>\n",
       "      <td>9.235959e-01</td>\n",
       "    </tr>\n",
       "  </tbody>\n",
       "</table>\n",
       "</div>"
      ],
      "text/plain": [
       "       cit_received      cit_made  cit_received_delay  cit_made_delay  \\\n",
       "count  7.048984e+06  4.712934e+06        7.018034e+06    4.509640e+06   \n",
       "mean   1.297282e+01  1.468080e+01        2.036854e+01    1.335864e+01   \n",
       "std    3.053055e+01  3.929394e+01        2.422966e+01    1.072210e+01   \n",
       "min    1.000000e+00  0.000000e+00       -3.514364e+01   -2.805233e+02   \n",
       "25%    2.000000e+00           NaN                 NaN             NaN   \n",
       "50%    5.000000e+00           NaN                 NaN             NaN   \n",
       "75%    1.300000e+01           NaN                 NaN             NaN   \n",
       "max    3.922000e+03  5.811000e+03        2.075753e+02    1.827425e+02   \n",
       "\n",
       "       parent_citation   originality    generality  \n",
       "count     6.256483e+06  4.195437e+06  6.552762e+06  \n",
       "mean      2.472962e+02  2.731046e-01  2.534382e-01  \n",
       "std       1.588333e+03  2.654199e-01  2.652160e-01  \n",
       "min       1.000000e+00  0.000000e+00  0.000000e+00  \n",
       "25%                NaN           NaN           NaN  \n",
       "50%                NaN           NaN           NaN  \n",
       "75%                NaN           NaN           NaN  \n",
       "max       2.274790e+05  9.391847e-01  9.235959e-01  "
      ]
     },
     "execution_count": 24,
     "metadata": {},
     "output_type": "execute_result"
    }
   ],
   "source": [
    "df.describe()"
   ]
  },
  {
   "cell_type": "code",
   "execution_count": 25,
   "metadata": {
    "collapsed": false
   },
   "outputs": [],
   "source": [
    "# df=df.merge(wipo, left_index=True, right_index=True, how='outer')"
   ]
  },
  {
   "cell_type": "code",
   "execution_count": 26,
   "metadata": {
    "collapsed": false
   },
   "outputs": [
    {
     "data": {
      "text/html": [
       "<div>\n",
       "<table border=\"1\" class=\"dataframe\">\n",
       "  <thead>\n",
       "    <tr style=\"text-align: right;\">\n",
       "      <th></th>\n",
       "      <th>cit_received</th>\n",
       "      <th>cit_made</th>\n",
       "      <th>cit_received_delay</th>\n",
       "      <th>cit_made_delay</th>\n",
       "      <th>parent_citation</th>\n",
       "      <th>originality</th>\n",
       "      <th>generality</th>\n",
       "      <th>field_id</th>\n",
       "    </tr>\n",
       "    <tr>\n",
       "      <th>id</th>\n",
       "      <th></th>\n",
       "      <th></th>\n",
       "      <th></th>\n",
       "      <th></th>\n",
       "      <th></th>\n",
       "      <th></th>\n",
       "      <th></th>\n",
       "      <th></th>\n",
       "    </tr>\n",
       "  </thead>\n",
       "  <tbody>\n",
       "    <tr>\n",
       "      <th>3661021</th>\n",
       "      <td>20.0</td>\n",
       "      <td>NaN</td>\n",
       "      <td>25.358082</td>\n",
       "      <td>NaN</td>\n",
       "      <td>240.0</td>\n",
       "      <td>NaN</td>\n",
       "      <td>0.255000</td>\n",
       "      <td>NaN</td>\n",
       "    </tr>\n",
       "    <tr>\n",
       "      <th>8674332</th>\n",
       "      <td>4.0</td>\n",
       "      <td>15.0</td>\n",
       "      <td>2.640411</td>\n",
       "      <td>5.581187</td>\n",
       "      <td>1.0</td>\n",
       "      <td>0.48000</td>\n",
       "      <td>0.375000</td>\n",
       "      <td>8.0</td>\n",
       "    </tr>\n",
       "    <tr>\n",
       "      <th>6141294</th>\n",
       "      <td>NaN</td>\n",
       "      <td>NaN</td>\n",
       "      <td>NaN</td>\n",
       "      <td>NaN</td>\n",
       "      <td>NaN</td>\n",
       "      <td>NaN</td>\n",
       "      <td>NaN</td>\n",
       "      <td>10.0</td>\n",
       "    </tr>\n",
       "    <tr>\n",
       "      <th>9915730</th>\n",
       "      <td>NaN</td>\n",
       "      <td>NaN</td>\n",
       "      <td>NaN</td>\n",
       "      <td>NaN</td>\n",
       "      <td>NaN</td>\n",
       "      <td>NaN</td>\n",
       "      <td>NaN</td>\n",
       "      <td>10.0</td>\n",
       "    </tr>\n",
       "    <tr>\n",
       "      <th>6496615</th>\n",
       "      <td>4.0</td>\n",
       "      <td>6.0</td>\n",
       "      <td>2.824658</td>\n",
       "      <td>1.518265</td>\n",
       "      <td>10.0</td>\n",
       "      <td>0.32000</td>\n",
       "      <td>0.500000</td>\n",
       "      <td>9.0</td>\n",
       "    </tr>\n",
       "    <tr>\n",
       "      <th>2393518</th>\n",
       "      <td>1.0</td>\n",
       "      <td>NaN</td>\n",
       "      <td>71.380822</td>\n",
       "      <td>NaN</td>\n",
       "      <td>NaN</td>\n",
       "      <td>NaN</td>\n",
       "      <td>0.000000</td>\n",
       "      <td>NaN</td>\n",
       "    </tr>\n",
       "    <tr>\n",
       "      <th>8752365</th>\n",
       "      <td>NaN</td>\n",
       "      <td>NaN</td>\n",
       "      <td>NaN</td>\n",
       "      <td>NaN</td>\n",
       "      <td>NaN</td>\n",
       "      <td>NaN</td>\n",
       "      <td>NaN</td>\n",
       "      <td>24.0</td>\n",
       "    </tr>\n",
       "    <tr>\n",
       "      <th>9061082</th>\n",
       "      <td>NaN</td>\n",
       "      <td>NaN</td>\n",
       "      <td>NaN</td>\n",
       "      <td>NaN</td>\n",
       "      <td>NaN</td>\n",
       "      <td>NaN</td>\n",
       "      <td>NaN</td>\n",
       "      <td>13.0</td>\n",
       "    </tr>\n",
       "    <tr>\n",
       "      <th>5530293</th>\n",
       "      <td>61.0</td>\n",
       "      <td>8.0</td>\n",
       "      <td>10.874117</td>\n",
       "      <td>6.091096</td>\n",
       "      <td>915.0</td>\n",
       "      <td>0.40625</td>\n",
       "      <td>0.206396</td>\n",
       "      <td>8.0</td>\n",
       "    </tr>\n",
       "    <tr>\n",
       "      <th>D207712</th>\n",
       "      <td>8.0</td>\n",
       "      <td>NaN</td>\n",
       "      <td>40.334247</td>\n",
       "      <td>NaN</td>\n",
       "      <td>21.0</td>\n",
       "      <td>NaN</td>\n",
       "      <td>NaN</td>\n",
       "      <td>NaN</td>\n",
       "    </tr>\n",
       "  </tbody>\n",
       "</table>\n",
       "</div>"
      ],
      "text/plain": [
       "         cit_received  cit_made  cit_received_delay  cit_made_delay  \\\n",
       "id                                                                    \n",
       "3661021          20.0       NaN           25.358082             NaN   \n",
       "8674332           4.0      15.0            2.640411        5.581187   \n",
       "6141294           NaN       NaN                 NaN             NaN   \n",
       "9915730           NaN       NaN                 NaN             NaN   \n",
       "6496615           4.0       6.0            2.824658        1.518265   \n",
       "2393518           1.0       NaN           71.380822             NaN   \n",
       "8752365           NaN       NaN                 NaN             NaN   \n",
       "9061082           NaN       NaN                 NaN             NaN   \n",
       "5530293          61.0       8.0           10.874117        6.091096   \n",
       "D207712           8.0       NaN           40.334247             NaN   \n",
       "\n",
       "         parent_citation  originality  generality  field_id  \n",
       "id                                                           \n",
       "3661021            240.0          NaN    0.255000       NaN  \n",
       "8674332              1.0      0.48000    0.375000       8.0  \n",
       "6141294              NaN          NaN         NaN      10.0  \n",
       "9915730              NaN          NaN         NaN      10.0  \n",
       "6496615             10.0      0.32000    0.500000       9.0  \n",
       "2393518              NaN          NaN    0.000000       NaN  \n",
       "8752365              NaN          NaN         NaN      24.0  \n",
       "9061082              NaN          NaN         NaN      13.0  \n",
       "5530293            915.0      0.40625    0.206396       8.0  \n",
       "D207712             21.0          NaN         NaN       NaN  "
      ]
     },
     "execution_count": 26,
     "metadata": {},
     "output_type": "execute_result"
    }
   ],
   "source": [
    "# df.sample(n=10)"
   ]
  },
  {
   "cell_type": "code",
   "execution_count": 27,
   "metadata": {
    "collapsed": false
   },
   "outputs": [
    {
     "name": "stderr",
     "output_type": "stream",
     "text": [
      "/home/applications/anaconda3/4.2.0/lib/python3.5/site-packages/numpy/lib/function_base.py:4269: RuntimeWarning: Invalid value encountered in percentile\n",
      "  interpolation=interpolation)\n"
     ]
    },
    {
     "data": {
      "text/html": [
       "<div>\n",
       "<table border=\"1\" class=\"dataframe\">\n",
       "  <thead>\n",
       "    <tr style=\"text-align: right;\">\n",
       "      <th></th>\n",
       "      <th>cit_received</th>\n",
       "      <th>cit_made</th>\n",
       "      <th>cit_received_delay</th>\n",
       "      <th>cit_made_delay</th>\n",
       "      <th>parent_citation</th>\n",
       "      <th>originality</th>\n",
       "      <th>generality</th>\n",
       "      <th>field_id</th>\n",
       "    </tr>\n",
       "  </thead>\n",
       "  <tbody>\n",
       "    <tr>\n",
       "      <th>count</th>\n",
       "      <td>7.048984e+06</td>\n",
       "      <td>4.712934e+06</td>\n",
       "      <td>7.018034e+06</td>\n",
       "      <td>4.509640e+06</td>\n",
       "      <td>6.256483e+06</td>\n",
       "      <td>4.195437e+06</td>\n",
       "      <td>6.552762e+06</td>\n",
       "      <td>6.441314e+06</td>\n",
       "    </tr>\n",
       "    <tr>\n",
       "      <th>mean</th>\n",
       "      <td>1.297282e+01</td>\n",
       "      <td>1.468080e+01</td>\n",
       "      <td>2.036854e+01</td>\n",
       "      <td>1.335864e+01</td>\n",
       "      <td>2.472962e+02</td>\n",
       "      <td>2.731046e-01</td>\n",
       "      <td>2.534382e-01</td>\n",
       "      <td>1.502865e+01</td>\n",
       "    </tr>\n",
       "    <tr>\n",
       "      <th>std</th>\n",
       "      <td>3.053055e+01</td>\n",
       "      <td>3.929394e+01</td>\n",
       "      <td>2.422966e+01</td>\n",
       "      <td>1.072210e+01</td>\n",
       "      <td>1.588333e+03</td>\n",
       "      <td>2.654199e-01</td>\n",
       "      <td>2.652160e-01</td>\n",
       "      <td>1.082388e+01</td>\n",
       "    </tr>\n",
       "    <tr>\n",
       "      <th>min</th>\n",
       "      <td>1.000000e+00</td>\n",
       "      <td>0.000000e+00</td>\n",
       "      <td>-3.514364e+01</td>\n",
       "      <td>-2.805233e+02</td>\n",
       "      <td>1.000000e+00</td>\n",
       "      <td>0.000000e+00</td>\n",
       "      <td>0.000000e+00</td>\n",
       "      <td>1.000000e+00</td>\n",
       "    </tr>\n",
       "    <tr>\n",
       "      <th>25%</th>\n",
       "      <td>NaN</td>\n",
       "      <td>NaN</td>\n",
       "      <td>NaN</td>\n",
       "      <td>NaN</td>\n",
       "      <td>NaN</td>\n",
       "      <td>NaN</td>\n",
       "      <td>NaN</td>\n",
       "      <td>NaN</td>\n",
       "    </tr>\n",
       "    <tr>\n",
       "      <th>50%</th>\n",
       "      <td>NaN</td>\n",
       "      <td>NaN</td>\n",
       "      <td>NaN</td>\n",
       "      <td>NaN</td>\n",
       "      <td>NaN</td>\n",
       "      <td>NaN</td>\n",
       "      <td>NaN</td>\n",
       "      <td>NaN</td>\n",
       "    </tr>\n",
       "    <tr>\n",
       "      <th>75%</th>\n",
       "      <td>NaN</td>\n",
       "      <td>NaN</td>\n",
       "      <td>NaN</td>\n",
       "      <td>NaN</td>\n",
       "      <td>NaN</td>\n",
       "      <td>NaN</td>\n",
       "      <td>NaN</td>\n",
       "      <td>NaN</td>\n",
       "    </tr>\n",
       "    <tr>\n",
       "      <th>max</th>\n",
       "      <td>3.922000e+03</td>\n",
       "      <td>5.811000e+03</td>\n",
       "      <td>2.075753e+02</td>\n",
       "      <td>1.827425e+02</td>\n",
       "      <td>2.274790e+05</td>\n",
       "      <td>9.391847e-01</td>\n",
       "      <td>9.235959e-01</td>\n",
       "      <td>3.500000e+01</td>\n",
       "    </tr>\n",
       "  </tbody>\n",
       "</table>\n",
       "</div>"
      ],
      "text/plain": [
       "       cit_received      cit_made  cit_received_delay  cit_made_delay  \\\n",
       "count  7.048984e+06  4.712934e+06        7.018034e+06    4.509640e+06   \n",
       "mean   1.297282e+01  1.468080e+01        2.036854e+01    1.335864e+01   \n",
       "std    3.053055e+01  3.929394e+01        2.422966e+01    1.072210e+01   \n",
       "min    1.000000e+00  0.000000e+00       -3.514364e+01   -2.805233e+02   \n",
       "25%             NaN           NaN                 NaN             NaN   \n",
       "50%             NaN           NaN                 NaN             NaN   \n",
       "75%             NaN           NaN                 NaN             NaN   \n",
       "max    3.922000e+03  5.811000e+03        2.075753e+02    1.827425e+02   \n",
       "\n",
       "       parent_citation   originality    generality      field_id  \n",
       "count     6.256483e+06  4.195437e+06  6.552762e+06  6.441314e+06  \n",
       "mean      2.472962e+02  2.731046e-01  2.534382e-01  1.502865e+01  \n",
       "std       1.588333e+03  2.654199e-01  2.652160e-01  1.082388e+01  \n",
       "min       1.000000e+00  0.000000e+00  0.000000e+00  1.000000e+00  \n",
       "25%                NaN           NaN           NaN           NaN  \n",
       "50%                NaN           NaN           NaN           NaN  \n",
       "75%                NaN           NaN           NaN           NaN  \n",
       "max       2.274790e+05  9.391847e-01  9.235959e-01  3.500000e+01  "
      ]
     },
     "execution_count": 27,
     "metadata": {},
     "output_type": "execute_result"
    }
   ],
   "source": [
    "# df.describe()"
   ]
  },
  {
   "cell_type": "code",
   "execution_count": 28,
   "metadata": {
    "collapsed": true
   },
   "outputs": [],
   "source": [
    "df.to_csv(dst)"
   ]
  },
  {
   "cell_type": "code",
   "execution_count": 13,
   "metadata": {
    "collapsed": true
   },
   "outputs": [],
   "source": [
    "# this code includes WIPO in the dataset\n",
    "# as class is also part of non-cited patents, I'm not including in here.\n",
    "# in any case, for some reason this merge could not be done by the method used in the previous\n",
    "# there is a bug when using read_csv using dtype and indexing. \n",
    "# it is a known bug in the community but i do not know why the previous join did not accused the issue\n",
    "# the method below corrects the issue \n",
    "\n",
    "# names=['index', 'id', 'field_id']\n",
    "# dtype={'id':object}\n",
    "# usecols=['id', 'field_id']\n",
    "# # data_read(wipo, names, usecols, dtype)\n",
    "# wipo = pd.read_csv(wipo, names=names, usecols=usecols, dtype=dtype, header=0)\n",
    "# wipo['id']=wipo['id'].astype(str)\n",
    "# wipo=wipo.set_index('id')\n",
    "# wipo.info()\n",
    "\n",
    "# dfs.append(wipo)"
   ]
  }
 ],
 "metadata": {
  "anaconda-cloud": {},
  "kernelspec": {
   "display_name": "Python [default]",
   "language": "python",
   "name": "python3"
  },
  "language_info": {
   "codemirror_mode": {
    "name": "ipython",
    "version": 3
   },
   "file_extension": ".py",
   "mimetype": "text/x-python",
   "name": "python",
   "nbconvert_exporter": "python",
   "pygments_lexer": "ipython3",
   "version": "3.5.2"
  }
 },
 "nbformat": 4,
 "nbformat_minor": 1
}
