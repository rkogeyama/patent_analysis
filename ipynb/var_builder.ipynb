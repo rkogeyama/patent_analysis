{
 "cells": [
  {
   "cell_type": "code",
   "execution_count": 1,
   "metadata": {
    "collapsed": true
   },
   "outputs": [],
   "source": [
    "# Script to evaluate citation delay\n",
    "# Backward citation - citation made by a patent\n",
    "# Forward citation - citation received by a patent\n",
    "\n",
    "# Renato Kogeyama\n",
    "\n",
    "# Aug 19, 2020\n",
    "# Included gzip\n",
    "# Run with latest database\n",
    "\n",
    "\n",
    "# Feb 07, 2020\n",
    "# The main offensor of performance in this script is the transformation to timedelta\n",
    "# the solution is to change to numpy\n",
    "# https://stackoverflow.com/questions/52274356/conversion-of-a-timedelta-to-int-very-slow-in-python\n",
    "\n",
    "# Jan 17 2020\n",
    "# Join cit_delay with var_builder\n",
    "# The only thing var_builder was doing was including kind and type \n",
    "\n",
    "\n",
    "# Jan 03 2020\n",
    "# Miami\n",
    "# I am using this script to calculate the average delay in citation - to follow Hall et al, 2001\n",
    "# patent.csv has the following columns\n",
    "# id \ttype \tnumber \tcountry \tdate \tabstract \ttitle \tkind \tnum_claims \tfilename\n",
    "# interest on id, type, date, kind, num_claims\n",
    "\n",
    "# I use two sources, uspatentcitation.tsv and patent.csv\n",
    "# The first is a citation-level dataset with information about the citing patent\n",
    "# The second is a patent-level dataset with information about the patent\n",
    "\n",
    "# Cleaning\n",
    "# I tested in other scripts the quality of the patent identifier\n",
    "# It does not require cleaning - only 4 erros from 6 million patents\n",
    "# The cleaning script is there anyway\n",
    "\n",
    "# Merging\n",
    "# I merge on the citation level (df)\n",
    "\n",
    "\n",
    "# --\n",
    "\n",
    "# First U.S. Patent Issued Today in 1790\n",
    "\n",
    "\n",
    "# July 31, 2001\n",
    "# Press Release\n",
    "# #01-33\n",
    "\n",
    "# On July 31, 1790 Samuel Hopkins was issued the first patent for a process \n",
    "# of making potash, an ingredient used in fertilizer. The patent was signed by \n",
    "# President George Washington. Hopkins was born in Vermont, but was living in \n",
    "# Philadelphia, Pa. when the patent was granted.\n",
    "\n",
    "# The first patent, as well as the more than 6 million patents issued since then, \n",
    "# can be seen on the Department of Commerce's United States Patent and Trademark \n",
    "# Office website at www.uspto.gov. The original document is in the collections of \n",
    "# the Chicago Historical Society.\n"
   ]
  },
  {
   "cell_type": "code",
   "execution_count": 2,
   "metadata": {
    "collapsed": true
   },
   "outputs": [],
   "source": [
    "import pandas as pd\n",
    "import numpy as np\n",
    "import matplotlib.pyplot as plt\n",
    "import gzip"
   ]
  },
  {
   "cell_type": "code",
   "execution_count": 3,
   "metadata": {
    "collapsed": false
   },
   "outputs": [],
   "source": [
    "%matplotlib inline"
   ]
  },
  {
   "cell_type": "code",
   "execution_count": 4,
   "metadata": {
    "collapsed": true
   },
   "outputs": [],
   "source": [
    "citation_df = '/home/rkogeyam/PATENT_CITATION/data/cleanuspatentcitation.csv.gz'\n",
    "# cit_tree = '/home/rkogeyam/PATENT_CITATION/data/cit_tree.csv'\n",
    "\n",
    "patent= 'data/cleanpatent.csv.gz'\n",
    "dst='data/var_builder.csv.gz'\n",
    "\n",
    "# citation_df = r'/home/rkogeyam/PATENT_CITATION/data/uspatentcitation.tsv'\n",
    "# dst = '/home/rkogeyam/PATENT_CITATION/data/back_cit_delay.csv'\n",
    "# dst_forw = '/home/rkogeyam/PATENT_CITATION/data/forw_cit_delay.csv'"
   ]
  },
  {
   "cell_type": "code",
   "execution_count": 5,
   "metadata": {
    "collapsed": false
   },
   "outputs": [
    {
     "name": "stdout",
     "output_type": "stream",
     "text": [
      "CPU times: user 3min 57s, sys: 9.21 s, total: 4min 6s\n",
      "Wall time: 4min 6s\n"
     ]
    }
   ],
   "source": [
    "%%time\n",
    "file_citation=gzip.open(citation_df, 'r')\n",
    "df = pd.read_csv(file_citation, usecols=['patent_id', 'citation_id', 'date'], dtype=object)"
   ]
  },
  {
   "cell_type": "code",
   "execution_count": 6,
   "metadata": {
    "collapsed": false
   },
   "outputs": [
    {
     "name": "stdout",
     "output_type": "stream",
     "text": [
      "CPU times: user 1min, sys: 708 ms, total: 1min\n",
      "Wall time: 1min\n"
     ]
    }
   ],
   "source": [
    "%%time\n",
    "file_patent=gzip.open(patent, 'r')\n",
    "pt_df = pd.read_csv(file_patent, usecols=['id', 'date'],index_col=0, dtype=object)"
   ]
  },
  {
   "cell_type": "code",
   "execution_count": 7,
   "metadata": {
    "collapsed": false
   },
   "outputs": [],
   "source": [
    "# df=df.iloc[:,1:]"
   ]
  },
  {
   "cell_type": "code",
   "execution_count": 8,
   "metadata": {
    "collapsed": false
   },
   "outputs": [
    {
     "data": {
      "text/html": [
       "<div>\n",
       "<table border=\"1\" class=\"dataframe\">\n",
       "  <thead>\n",
       "    <tr style=\"text-align: right;\">\n",
       "      <th></th>\n",
       "      <th>patent_id</th>\n",
       "      <th>citation_id</th>\n",
       "      <th>date</th>\n",
       "    </tr>\n",
       "  </thead>\n",
       "  <tbody>\n",
       "    <tr>\n",
       "      <th>0</th>\n",
       "      <td>5354551</td>\n",
       "      <td>4875247</td>\n",
       "      <td>1989-10-01</td>\n",
       "    </tr>\n",
       "    <tr>\n",
       "      <th>1</th>\n",
       "      <td>D674253</td>\n",
       "      <td>D519335</td>\n",
       "      <td>2006-04-01</td>\n",
       "    </tr>\n",
       "    <tr>\n",
       "      <th>2</th>\n",
       "      <td>D809697</td>\n",
       "      <td>1963218</td>\n",
       "      <td>1934-06-01</td>\n",
       "    </tr>\n",
       "    <tr>\n",
       "      <th>3</th>\n",
       "      <td>D808172</td>\n",
       "      <td>7207426</td>\n",
       "      <td>2007-04-01</td>\n",
       "    </tr>\n",
       "    <tr>\n",
       "      <th>4</th>\n",
       "      <td>8683318</td>\n",
       "      <td>6642945</td>\n",
       "      <td>2003-11-01</td>\n",
       "    </tr>\n",
       "  </tbody>\n",
       "</table>\n",
       "</div>"
      ],
      "text/plain": [
       "  patent_id citation_id        date\n",
       "0   5354551     4875247  1989-10-01\n",
       "1   D674253     D519335  2006-04-01\n",
       "2   D809697     1963218  1934-06-01\n",
       "3   D808172     7207426  2007-04-01\n",
       "4   8683318     6642945  2003-11-01"
      ]
     },
     "execution_count": 8,
     "metadata": {},
     "output_type": "execute_result"
    }
   ],
   "source": [
    "df.head()\n",
    "# df.get_chunk().head()"
   ]
  },
  {
   "cell_type": "code",
   "execution_count": 9,
   "metadata": {
    "collapsed": false
   },
   "outputs": [
    {
     "data": {
      "text/html": [
       "<div>\n",
       "<table border=\"1\" class=\"dataframe\">\n",
       "  <thead>\n",
       "    <tr style=\"text-align: right;\">\n",
       "      <th></th>\n",
       "      <th>date</th>\n",
       "    </tr>\n",
       "    <tr>\n",
       "      <th>id</th>\n",
       "      <th></th>\n",
       "    </tr>\n",
       "  </thead>\n",
       "  <tbody>\n",
       "    <tr>\n",
       "      <th>10000000</th>\n",
       "      <td>2018-06-19</td>\n",
       "    </tr>\n",
       "    <tr>\n",
       "      <th>10000001</th>\n",
       "      <td>2018-06-19</td>\n",
       "    </tr>\n",
       "    <tr>\n",
       "      <th>10000002</th>\n",
       "      <td>2018-06-19</td>\n",
       "    </tr>\n",
       "    <tr>\n",
       "      <th>10000003</th>\n",
       "      <td>2018-06-19</td>\n",
       "    </tr>\n",
       "    <tr>\n",
       "      <th>10000004</th>\n",
       "      <td>2018-06-19</td>\n",
       "    </tr>\n",
       "  </tbody>\n",
       "</table>\n",
       "</div>"
      ],
      "text/plain": [
       "                date\n",
       "id                  \n",
       "10000000  2018-06-19\n",
       "10000001  2018-06-19\n",
       "10000002  2018-06-19\n",
       "10000003  2018-06-19\n",
       "10000004  2018-06-19"
      ]
     },
     "execution_count": 9,
     "metadata": {},
     "output_type": "execute_result"
    }
   ],
   "source": [
    "pt_df.head()\n",
    "# pt_df.get_chunk().head()"
   ]
  },
  {
   "cell_type": "code",
   "execution_count": 10,
   "metadata": {
    "collapsed": false
   },
   "outputs": [
    {
     "name": "stdout",
     "output_type": "stream",
     "text": [
      "CPU times: user 44.1 s, sys: 1.8 s, total: 45.9 s\n",
      "Wall time: 45.7 s\n"
     ]
    }
   ],
   "source": [
    "%%time\n",
    "df=df.rename(columns = {'date':'citation_date'})\n",
    "df['citation_date']=pd.to_datetime(df['citation_date'], format=\"%Y-%m-%d\", errors='coerce') \n",
    "# df['citation_date'].apply[lambda x: np.datetime64(x)]"
   ]
  },
  {
   "cell_type": "code",
   "execution_count": 11,
   "metadata": {
    "collapsed": false
   },
   "outputs": [
    {
     "name": "stdout",
     "output_type": "stream",
     "text": [
      "CPU times: user 1min 49s, sys: 3.75 s, total: 1min 53s\n",
      "Wall time: 1min 53s\n"
     ]
    }
   ],
   "source": [
    "%%time\n",
    "# merge between patent data and citations on patent_id (citing)\n",
    "# merging on the citation dataset drops patents without citing\n",
    "# later i could standardize to make patent_id index and use join instead of merge\n",
    "\n",
    "df=pd.merge(df, pt_df, how='inner', left_on='patent_id', right_index=True)"
   ]
  },
  {
   "cell_type": "code",
   "execution_count": 12,
   "metadata": {
    "collapsed": false
   },
   "outputs": [
    {
     "name": "stdout",
     "output_type": "stream",
     "text": [
      "<class 'pandas.core.frame.DataFrame'>\n",
      "Int64Index: 108913836 entries, 0 to 108913426\n",
      "Data columns (total 4 columns):\n",
      "patent_id        object\n",
      "citation_id      object\n",
      "citation_date    datetime64[ns]\n",
      "date             object\n",
      "dtypes: datetime64[ns](1), object(3)\n",
      "memory usage: 4.1+ GB\n"
     ]
    }
   ],
   "source": [
    "df.info()"
   ]
  },
  {
   "cell_type": "code",
   "execution_count": 13,
   "metadata": {
    "collapsed": false
   },
   "outputs": [
    {
     "name": "stdout",
     "output_type": "stream",
     "text": [
      "CPU times: user 1min 36s, sys: 2.31 s, total: 1min 38s\n",
      "Wall time: 1min 38s\n"
     ]
    }
   ],
   "source": [
    "%%time\n",
    "# date format to allow calculations\n",
    "df=df.rename(columns = {'date':'patent_date'})\n",
    "df['patent_date']=pd.to_datetime(df['patent_date'], format=\"%Y-%m-%d\", errors='coerce') #conversao de string para data\n",
    "# df['patent_date'].apply[lambda x: np.datetime64(x)]"
   ]
  },
  {
   "cell_type": "code",
   "execution_count": 14,
   "metadata": {
    "collapsed": false
   },
   "outputs": [],
   "source": [
    "# df.shape"
   ]
  },
  {
   "cell_type": "code",
   "execution_count": 15,
   "metadata": {
    "collapsed": false
   },
   "outputs": [],
   "source": [
    "# if I do not drop nans, the script raises an error later when converting day interval into years\n",
    "# I could substitute with average instead of dropping, this way I do not lose the citation info\n",
    "# however, not always it will be possible to average - cases where there is ony one citation, for example\n",
    "# For this reason, at this point, I'll keep the NAN and circumvent the issues as they arise\n",
    "\n",
    "# df=df.dropna()"
   ]
  },
  {
   "cell_type": "code",
   "execution_count": 16,
   "metadata": {
    "collapsed": false
   },
   "outputs": [],
   "source": [
    "# df.shape"
   ]
  },
  {
   "cell_type": "code",
   "execution_count": 17,
   "metadata": {
    "collapsed": false
   },
   "outputs": [
    {
     "name": "stdout",
     "output_type": "stream",
     "text": [
      "CPU times: user 1.05 s, sys: 1.08 s, total: 2.13 s\n",
      "Wall time: 2.13 s\n"
     ]
    }
   ],
   "source": [
    "%%time\n",
    "# delay is the time interval between grant and citation\n",
    "df['cit_delay']=df['patent_date'].sub(df['citation_date'], axis=0)\n",
    "\n",
    "# convert to date format\n",
    "df['cit_delay']=pd.to_timedelta(df['cit_delay'])"
   ]
  },
  {
   "cell_type": "code",
   "execution_count": 18,
   "metadata": {
    "collapsed": false
   },
   "outputs": [
    {
     "data": {
      "text/html": [
       "<div>\n",
       "<table border=\"1\" class=\"dataframe\">\n",
       "  <thead>\n",
       "    <tr style=\"text-align: right;\">\n",
       "      <th></th>\n",
       "      <th>patent_id</th>\n",
       "      <th>citation_id</th>\n",
       "      <th>citation_date</th>\n",
       "      <th>patent_date</th>\n",
       "      <th>cit_delay</th>\n",
       "    </tr>\n",
       "  </thead>\n",
       "  <tbody>\n",
       "    <tr>\n",
       "      <th>15708435</th>\n",
       "      <td>4937851</td>\n",
       "      <td>3927265</td>\n",
       "      <td>2197-11-01</td>\n",
       "      <td>1990-06-26</td>\n",
       "      <td>-75734 days</td>\n",
       "    </tr>\n",
       "    <tr>\n",
       "      <th>81215407</th>\n",
       "      <td>4996808</td>\n",
       "      <td>4813733</td>\n",
       "      <td>2198-03-01</td>\n",
       "      <td>1991-03-05</td>\n",
       "      <td>-75602 days</td>\n",
       "    </tr>\n",
       "    <tr>\n",
       "      <th>69676570</th>\n",
       "      <td>D299950</td>\n",
       "      <td>3113172</td>\n",
       "      <td>2196-01-01</td>\n",
       "      <td>1989-02-21</td>\n",
       "      <td>-75554 days</td>\n",
       "    </tr>\n",
       "    <tr>\n",
       "      <th>67461904</th>\n",
       "      <td>5012750</td>\n",
       "      <td>3717700</td>\n",
       "      <td>2197-09-01</td>\n",
       "      <td>1991-05-07</td>\n",
       "      <td>-75358 days</td>\n",
       "    </tr>\n",
       "    <tr>\n",
       "      <th>71936324</th>\n",
       "      <td>5055000</td>\n",
       "      <td>2701529</td>\n",
       "      <td>2195-09-01</td>\n",
       "      <td>1991-10-08</td>\n",
       "      <td>-74473 days</td>\n",
       "    </tr>\n",
       "  </tbody>\n",
       "</table>\n",
       "</div>"
      ],
      "text/plain": [
       "         patent_id citation_id citation_date patent_date   cit_delay\n",
       "15708435   4937851     3927265    2197-11-01  1990-06-26 -75734 days\n",
       "81215407   4996808     4813733    2198-03-01  1991-03-05 -75602 days\n",
       "69676570   D299950     3113172    2196-01-01  1989-02-21 -75554 days\n",
       "67461904   5012750     3717700    2197-09-01  1991-05-07 -75358 days\n",
       "71936324   5055000     2701529    2195-09-01  1991-10-08 -74473 days"
      ]
     },
     "execution_count": 18,
     "metadata": {},
     "output_type": "execute_result"
    }
   ],
   "source": [
    "df.sort_values('cit_delay').head()"
   ]
  },
  {
   "cell_type": "code",
   "execution_count": 19,
   "metadata": {
    "collapsed": false
   },
   "outputs": [
    {
     "data": {
      "text/html": [
       "<div>\n",
       "<table border=\"1\" class=\"dataframe\">\n",
       "  <thead>\n",
       "    <tr style=\"text-align: right;\">\n",
       "      <th></th>\n",
       "      <th>patent_id</th>\n",
       "      <th>citation_id</th>\n",
       "      <th>citation_date</th>\n",
       "      <th>patent_date</th>\n",
       "      <th>cit_delay</th>\n",
       "    </tr>\n",
       "  </thead>\n",
       "  <tbody>\n",
       "    <tr>\n",
       "      <th>94658881</th>\n",
       "      <td>5352668</td>\n",
       "      <td>4829000</td>\n",
       "      <td>NaT</td>\n",
       "      <td>1994-10-04</td>\n",
       "      <td>NaT</td>\n",
       "    </tr>\n",
       "    <tr>\n",
       "      <th>95890021</th>\n",
       "      <td>3951747</td>\n",
       "      <td>NaN</td>\n",
       "      <td>NaT</td>\n",
       "      <td>1976-04-20</td>\n",
       "      <td>NaT</td>\n",
       "    </tr>\n",
       "    <tr>\n",
       "      <th>103146311</th>\n",
       "      <td>5227743</td>\n",
       "      <td>4858219</td>\n",
       "      <td>NaT</td>\n",
       "      <td>1993-07-13</td>\n",
       "      <td>NaT</td>\n",
       "    </tr>\n",
       "    <tr>\n",
       "      <th>99613891</th>\n",
       "      <td>3962287</td>\n",
       "      <td>3769337</td>\n",
       "      <td>NaT</td>\n",
       "      <td>1976-06-08</td>\n",
       "      <td>NaT</td>\n",
       "    </tr>\n",
       "    <tr>\n",
       "      <th>106325556</th>\n",
       "      <td>3948899</td>\n",
       "      <td>NaN</td>\n",
       "      <td>NaT</td>\n",
       "      <td>1976-04-06</td>\n",
       "      <td>NaT</td>\n",
       "    </tr>\n",
       "  </tbody>\n",
       "</table>\n",
       "</div>"
      ],
      "text/plain": [
       "          patent_id citation_id citation_date patent_date  cit_delay\n",
       "94658881    5352668     4829000           NaT  1994-10-04        NaT\n",
       "95890021    3951747         NaN           NaT  1976-04-20        NaT\n",
       "103146311   5227743     4858219           NaT  1993-07-13        NaT\n",
       "99613891    3962287     3769337           NaT  1976-06-08        NaT\n",
       "106325556   3948899         NaN           NaT  1976-04-06        NaT"
      ]
     },
     "execution_count": 19,
     "metadata": {},
     "output_type": "execute_result"
    }
   ],
   "source": [
    "df.sort_values('cit_delay').tail()"
   ]
  },
  {
   "cell_type": "code",
   "execution_count": 20,
   "metadata": {
    "collapsed": true
   },
   "outputs": [],
   "source": [
    "# def convert_to_delta(x):\n",
    "#     try:\n",
    "#         return x/np.timedelta64(1, 'Y')\n",
    "#     except:\n",
    "#         return np.nan\n"
   ]
  },
  {
   "cell_type": "code",
   "execution_count": 21,
   "metadata": {
    "collapsed": false
   },
   "outputs": [
    {
     "name": "stdout",
     "output_type": "stream",
     "text": [
      "CPU times: user 47min 25s, sys: 57.7 s, total: 48min 22s\n",
      "Wall time: 48min 22s\n"
     ]
    }
   ],
   "source": [
    "%%time\n",
    "# convert to interval in years\n",
    "# df['cit_delay']=df['cit_delay'].dt.days/360\n",
    "\n",
    "# this is the may offensor of performance\n",
    "# change to numpy\n",
    "# https://stackoverflow.com/questions/52274356/conversion-of-a-timedelta-to-int-very-slow-in-python\n",
    "\n",
    "# this takes 40min\n",
    "df['cit_delay']=pd.to_timedelta(df['cit_delay']).dt.components.days/365\n",
    "\n",
    "# lets try this alternative\n",
    "# df['cit_delay']=df['cit_delay'].apply(lambda x: convert_to_delta(x))\n",
    "# does not work"
   ]
  },
  {
   "cell_type": "code",
   "execution_count": 22,
   "metadata": {
    "collapsed": false,
    "scrolled": false
   },
   "outputs": [
    {
     "name": "stderr",
     "output_type": "stream",
     "text": [
      "/home/applications/anaconda3/4.2.0/lib/python3.5/site-packages/numpy/lib/function_base.py:4269: RuntimeWarning: Invalid value encountered in percentile\n",
      "  interpolation=interpolation)\n"
     ]
    },
    {
     "data": {
      "text/html": [
       "<div>\n",
       "<table border=\"1\" class=\"dataframe\">\n",
       "  <thead>\n",
       "    <tr style=\"text-align: right;\">\n",
       "      <th></th>\n",
       "      <th>cit_delay</th>\n",
       "    </tr>\n",
       "  </thead>\n",
       "  <tbody>\n",
       "    <tr>\n",
       "      <th>count</th>\n",
       "      <td>1.089120e+08</td>\n",
       "    </tr>\n",
       "    <tr>\n",
       "      <th>mean</th>\n",
       "      <td>1.555897e+01</td>\n",
       "    </tr>\n",
       "    <tr>\n",
       "      <th>std</th>\n",
       "      <td>1.559116e+01</td>\n",
       "    </tr>\n",
       "    <tr>\n",
       "      <th>min</th>\n",
       "      <td>-2.074904e+02</td>\n",
       "    </tr>\n",
       "    <tr>\n",
       "      <th>25%</th>\n",
       "      <td>NaN</td>\n",
       "    </tr>\n",
       "    <tr>\n",
       "      <th>50%</th>\n",
       "      <td>NaN</td>\n",
       "    </tr>\n",
       "    <tr>\n",
       "      <th>75%</th>\n",
       "      <td>NaN</td>\n",
       "    </tr>\n",
       "    <tr>\n",
       "      <th>max</th>\n",
       "      <td>2.151507e+02</td>\n",
       "    </tr>\n",
       "  </tbody>\n",
       "</table>\n",
       "</div>"
      ],
      "text/plain": [
       "          cit_delay\n",
       "count  1.089120e+08\n",
       "mean   1.555897e+01\n",
       "std    1.559116e+01\n",
       "min   -2.074904e+02\n",
       "25%             NaN\n",
       "50%             NaN\n",
       "75%             NaN\n",
       "max    2.151507e+02"
      ]
     },
     "execution_count": 22,
     "metadata": {},
     "output_type": "execute_result"
    }
   ],
   "source": [
    "df.describe()"
   ]
  },
  {
   "cell_type": "code",
   "execution_count": 23,
   "metadata": {
    "collapsed": false
   },
   "outputs": [
    {
     "data": {
      "text/html": [
       "<div>\n",
       "<table border=\"1\" class=\"dataframe\">\n",
       "  <thead>\n",
       "    <tr style=\"text-align: right;\">\n",
       "      <th></th>\n",
       "      <th>patent_id</th>\n",
       "      <th>citation_id</th>\n",
       "      <th>citation_date</th>\n",
       "      <th>patent_date</th>\n",
       "      <th>cit_delay</th>\n",
       "    </tr>\n",
       "  </thead>\n",
       "  <tbody>\n",
       "    <tr>\n",
       "      <th>0</th>\n",
       "      <td>5354551</td>\n",
       "      <td>4875247</td>\n",
       "      <td>1989-10-01</td>\n",
       "      <td>1994-10-11</td>\n",
       "      <td>5.030137</td>\n",
       "    </tr>\n",
       "    <tr>\n",
       "      <th>11692885</th>\n",
       "      <td>5354551</td>\n",
       "      <td>1421911</td>\n",
       "      <td>1922-07-01</td>\n",
       "      <td>1994-10-11</td>\n",
       "      <td>72.328767</td>\n",
       "    </tr>\n",
       "    <tr>\n",
       "      <th>14307661</th>\n",
       "      <td>5354551</td>\n",
       "      <td>3902509</td>\n",
       "      <td>1975-09-01</td>\n",
       "      <td>1994-10-11</td>\n",
       "      <td>19.123288</td>\n",
       "    </tr>\n",
       "    <tr>\n",
       "      <th>19454029</th>\n",
       "      <td>5354551</td>\n",
       "      <td>2389736</td>\n",
       "      <td>1945-11-01</td>\n",
       "      <td>1994-10-11</td>\n",
       "      <td>48.975342</td>\n",
       "    </tr>\n",
       "    <tr>\n",
       "      <th>21374564</th>\n",
       "      <td>5354551</td>\n",
       "      <td>2673364</td>\n",
       "      <td>1954-03-01</td>\n",
       "      <td>1994-10-11</td>\n",
       "      <td>40.641096</td>\n",
       "    </tr>\n",
       "  </tbody>\n",
       "</table>\n",
       "</div>"
      ],
      "text/plain": [
       "         patent_id citation_id citation_date patent_date  cit_delay\n",
       "0          5354551     4875247    1989-10-01  1994-10-11   5.030137\n",
       "11692885   5354551     1421911    1922-07-01  1994-10-11  72.328767\n",
       "14307661   5354551     3902509    1975-09-01  1994-10-11  19.123288\n",
       "19454029   5354551     2389736    1945-11-01  1994-10-11  48.975342\n",
       "21374564   5354551     2673364    1954-03-01  1994-10-11  40.641096"
      ]
     },
     "execution_count": 23,
     "metadata": {},
     "output_type": "execute_result"
    }
   ],
   "source": [
    "df.head()"
   ]
  },
  {
   "cell_type": "code",
   "execution_count": 24,
   "metadata": {
    "collapsed": false
   },
   "outputs": [
    {
     "name": "stdout",
     "output_type": "stream",
     "text": [
      "CPU times: user 2.46 s, sys: 327 ms, total: 2.79 s\n",
      "Wall time: 2.79 s\n"
     ]
    },
    {
     "data": {
      "text/plain": [
       "array([[<matplotlib.axes._subplots.AxesSubplot object at 0x7fc1eb074f60>]], dtype=object)"
      ]
     },
     "execution_count": 24,
     "metadata": {},
     "output_type": "execute_result"
    },
    {
     "data": {
      "image/png": "[encoded data removed]",
      "text/plain": [
       "<matplotlib.figure.Figure at 0x7fc1eb074438>"
      ]
     },
     "metadata": {},
     "output_type": "display_data"
    }
   ],
   "source": [
    "%%time\n",
    "df.hist()"
   ]
  },
  {
   "cell_type": "code",
   "execution_count": 25,
   "metadata": {
    "collapsed": false
   },
   "outputs": [
    {
     "name": "stderr",
     "output_type": "stream",
     "text": [
      "/home/applications/anaconda3/4.2.0/lib/python3.5/site-packages/numpy/lib/function_base.py:4269: RuntimeWarning: Invalid value encountered in percentile\n",
      "  interpolation=interpolation)\n"
     ]
    },
    {
     "data": {
      "text/html": [
       "<div>\n",
       "<table border=\"1\" class=\"dataframe\">\n",
       "  <thead>\n",
       "    <tr style=\"text-align: right;\">\n",
       "      <th></th>\n",
       "      <th>patent_id</th>\n",
       "      <th>citation_id</th>\n",
       "      <th>citation_date</th>\n",
       "      <th>patent_date</th>\n",
       "      <th>cit_delay</th>\n",
       "    </tr>\n",
       "  </thead>\n",
       "  <tbody>\n",
       "  </tbody>\n",
       "</table>\n",
       "</div>"
      ],
      "text/plain": [
       "Empty DataFrame\n",
       "Columns: [patent_id, citation_id, citation_date, patent_date, cit_delay]\n",
       "Index: []"
      ]
     },
     "execution_count": 25,
     "metadata": {},
     "output_type": "execute_result"
    }
   ],
   "source": [
    "#Check outliers\n",
    "df[df[\"cit_delay\"]>df[\"cit_delay\"].quantile(0.15)].sort_values(by=['cit_delay'], ascending=True)"
   ]
  },
  {
   "cell_type": "code",
   "execution_count": 26,
   "metadata": {
    "collapsed": false
   },
   "outputs": [
    {
     "data": {
      "text/html": [
       "<div>\n",
       "<table border=\"1\" class=\"dataframe\">\n",
       "  <thead>\n",
       "    <tr style=\"text-align: right;\">\n",
       "      <th></th>\n",
       "      <th>patent_id</th>\n",
       "      <th>citation_id</th>\n",
       "      <th>citation_date</th>\n",
       "      <th>patent_date</th>\n",
       "      <th>cit_delay</th>\n",
       "    </tr>\n",
       "  </thead>\n",
       "  <tbody>\n",
       "    <tr>\n",
       "      <th>0</th>\n",
       "      <td>5354551</td>\n",
       "      <td>4875247</td>\n",
       "      <td>1989-10-01</td>\n",
       "      <td>1994-10-11</td>\n",
       "      <td>5.030137</td>\n",
       "    </tr>\n",
       "    <tr>\n",
       "      <th>11692885</th>\n",
       "      <td>5354551</td>\n",
       "      <td>1421911</td>\n",
       "      <td>1922-07-01</td>\n",
       "      <td>1994-10-11</td>\n",
       "      <td>72.328767</td>\n",
       "    </tr>\n",
       "    <tr>\n",
       "      <th>14307661</th>\n",
       "      <td>5354551</td>\n",
       "      <td>3902509</td>\n",
       "      <td>1975-09-01</td>\n",
       "      <td>1994-10-11</td>\n",
       "      <td>19.123288</td>\n",
       "    </tr>\n",
       "    <tr>\n",
       "      <th>19454029</th>\n",
       "      <td>5354551</td>\n",
       "      <td>2389736</td>\n",
       "      <td>1945-11-01</td>\n",
       "      <td>1994-10-11</td>\n",
       "      <td>48.975342</td>\n",
       "    </tr>\n",
       "    <tr>\n",
       "      <th>21374564</th>\n",
       "      <td>5354551</td>\n",
       "      <td>2673364</td>\n",
       "      <td>1954-03-01</td>\n",
       "      <td>1994-10-11</td>\n",
       "      <td>40.641096</td>\n",
       "    </tr>\n",
       "  </tbody>\n",
       "</table>\n",
       "</div>"
      ],
      "text/plain": [
       "         patent_id citation_id citation_date patent_date  cit_delay\n",
       "0          5354551     4875247    1989-10-01  1994-10-11   5.030137\n",
       "11692885   5354551     1421911    1922-07-01  1994-10-11  72.328767\n",
       "14307661   5354551     3902509    1975-09-01  1994-10-11  19.123288\n",
       "19454029   5354551     2389736    1945-11-01  1994-10-11  48.975342\n",
       "21374564   5354551     2673364    1954-03-01  1994-10-11  40.641096"
      ]
     },
     "execution_count": 26,
     "metadata": {},
     "output_type": "execute_result"
    }
   ],
   "source": [
    "df.head()"
   ]
  },
  {
   "cell_type": "code",
   "execution_count": 27,
   "metadata": {
    "collapsed": false
   },
   "outputs": [
    {
     "name": "stderr",
     "output_type": "stream",
     "text": [
      "/home/applications/anaconda3/4.2.0/lib/python3.5/site-packages/numpy/lib/function_base.py:4269: RuntimeWarning: Invalid value encountered in percentile\n",
      "  interpolation=interpolation)\n"
     ]
    },
    {
     "data": {
      "text/html": [
       "<div>\n",
       "<table border=\"1\" class=\"dataframe\">\n",
       "  <thead>\n",
       "    <tr style=\"text-align: right;\">\n",
       "      <th></th>\n",
       "      <th>patent_id</th>\n",
       "      <th>citation_id</th>\n",
       "      <th>citation_date</th>\n",
       "      <th>patent_date</th>\n",
       "      <th>cit_delay</th>\n",
       "    </tr>\n",
       "  </thead>\n",
       "  <tbody>\n",
       "  </tbody>\n",
       "</table>\n",
       "</div>"
      ],
      "text/plain": [
       "Empty DataFrame\n",
       "Columns: [patent_id, citation_id, citation_date, patent_date, cit_delay]\n",
       "Index: []"
      ]
     },
     "execution_count": 27,
     "metadata": {},
     "output_type": "execute_result"
    }
   ],
   "source": [
    "df[df[\"cit_delay\"]<df[\"cit_delay\"].quantile(0.85)].sort_values(by=['cit_delay'], ascending=False)"
   ]
  },
  {
   "cell_type": "code",
   "execution_count": 28,
   "metadata": {
    "collapsed": true
   },
   "outputs": [],
   "source": [
    "df.to_csv(dst, compression='gzip')"
   ]
  }
 ],
 "metadata": {
  "anaconda-cloud": {},
  "kernelspec": {
   "display_name": "Python [default]",
   "language": "python",
   "name": "python3"
  },
  "language_info": {
   "codemirror_mode": {
    "name": "ipython",
    "version": 3
   },
   "file_extension": ".py",
   "mimetype": "text/x-python",
   "name": "python",
   "nbconvert_exporter": "python",
   "pygments_lexer": "ipython3",
   "version": "3.5.2"
  }
 },
 "nbformat": 4,
 "nbformat_minor": 1
}
