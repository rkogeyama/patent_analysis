{
 "cells": [
  {
   "cell_type": "code",
   "execution_count": 1,
   "metadata": {
    "collapsed": true
   },
   "outputs": [
    {
     "data": {
      "text/plain": [
       "'\"\\nAug 18st, 2020\\nconvert to gzip input and output\\n\\n# February 12st, 2020\\n# Renato Kogeyama\\n\\n# Script to calculate self citations (assignee level)\\n# the script find the assignee for patent_id and citation_id\\n# then compare to verify if they are the same\\n# it probably can be rewritten to improve performance\\n\\n# produces a citation level dataset with citation identifier plus a dummy indicating self citation\\n'"
      ]
     },
     "execution_count": 1,
     "metadata": {},
     "output_type": "execute_result"
    }
   ],
   "source": [
    "\"\"\"\"\n",
    "Aug 18st, 2020\n",
    "convert to gzip input and output\n",
    "\n",
    "# February 12st, 2020\n",
    "# Renato Kogeyama\n",
    "\n",
    "# Script to calculate self citations (assignee level)\n",
    "# the script find the assignee for patent_id and citation_id\n",
    "# then compare to verify if they are the same\n",
    "# it probably can be rewritten to improve performance\n",
    "\n",
    "# produces a citation level dataset with citation identifier plus a dummy indicating self citation\n",
    "\"\"\""
   ]
  },
  {
   "cell_type": "code",
   "execution_count": 2,
   "metadata": {
    "collapsed": true
   },
   "outputs": [],
   "source": [
    "import pandas as pd\n",
    "import numpy as np\n",
    "# import itertools\n",
    "# import seaborn as sns\n",
    "# import networkx as nx\n",
    "# import csv\n",
    "# from graphviz import Digraph\n",
    "# import igraph\n",
    "# import matplotlib.pyplot as plt\n",
    "# import datetime\n",
    "\n",
    "\n",
    "# import sys\n",
    "# sys.path.append('/home/rkogeyam/scripts/')\n",
    "# sys.path.append('scripts/')\n",
    "\n",
    "# from determinants_scripts import classes, dtypes\n",
    "import gzip"
   ]
  },
  {
   "cell_type": "code",
   "execution_count": 3,
   "metadata": {
    "collapsed": false
   },
   "outputs": [
    {
     "name": "stderr",
     "output_type": "stream",
     "text": [
      "/home/applications/anaconda3/4.2.0/lib/python3.5/site-packages/IPython/core/interactiveshell.py:2717: DtypeWarning: Columns (0) have mixed types. Specify dtype option on import or set low_memory=False.\n",
      "  interactivity=interactivity, compiler=compiler, result=result)\n"
     ]
    }
   ],
   "source": [
    "asg='data/patent_assignee.tsv.gz'\n",
    "cit='data/cleanuspatentcitation.csv.gz'\n",
    "\n",
    "dst='data/self_cit.csv.gz'\n",
    "\n",
    "# names=['index', 'id', 'cit_received']\n",
    "# usecols=['id', 'cit_received']\n",
    "# dtype={'main_group':'int64', 'subgroup':'int64'}\n",
    "# cols=['patent_id','citation_id', 'cit_delay']\n",
    "\n",
    "usecols=['patent_id', 'assignee_id']\n",
    "file_asg=gzip.open(asg, 'r')\n",
    "df_asg=pd.read_csv(file_asg, sep='\\t', usecols=usecols)\n",
    "\n",
    "usecols=['uuid','patent_id', 'citation_id']\n",
    "file_cit=gzip.open(cit, 'r')\n",
    "df_cit=pd.read_csv(file_cit, usecols=usecols)\n",
    "\n",
    "# df=pd.read_csv(src, chunksize=10000)\n",
    "\n",
    "# df=pd.read_csv(src, dtype=dtypes, usecols=usecols, parse_dates=['date'], index_col='id', chunksize=10000)\n",
    "# df = pd.read_csv(src, chunksize=1000, usecols=usecols, dtypes=dtypes, parse_dates=['date'])\n",
    "\n",
    "# df = pd.read_csv(src, chunksize=1000,  parse_dates=['date'], error_bad_lines=False)\n",
    "# df = pd.read_csv(src, usecols=usecols, names=names, chunksize=1000, dtype=dtype, index_col='id')\n",
    "# df=pd.read_csv(src, usecols=[0, 1, 3], dtype={0:object}, index_col=0, chunksize=1000)"
   ]
  },
  {
   "cell_type": "code",
   "execution_count": 4,
   "metadata": {
    "collapsed": true
   },
   "outputs": [],
   "source": [
    "%matplotlib inline"
   ]
  },
  {
   "cell_type": "code",
   "execution_count": 5,
   "metadata": {
    "collapsed": false
   },
   "outputs": [
    {
     "data": {
      "text/plain": [
       "patent_id      object\n",
       "assignee_id    object\n",
       "dtype: object"
      ]
     },
     "execution_count": 5,
     "metadata": {},
     "output_type": "execute_result"
    }
   ],
   "source": [
    "df_asg['patent_id']=df_asg['patent_id'].astype(str)\n",
    "df_asg.info"
   ]
  },
  {
   "cell_type": "code",
   "execution_count": 6,
   "metadata": {
    "collapsed": false
   },
   "outputs": [],
   "source": [
    "df_asg.set_index('patent_id', inplace=True)"
   ]
  },
  {
   "cell_type": "code",
   "execution_count": 7,
   "metadata": {
    "collapsed": false
   },
   "outputs": [
    {
     "data": {
      "text/plain": [
       "uuid           object\n",
       "patent_id      object\n",
       "citation_id    object\n",
       "dtype: object"
      ]
     },
     "execution_count": 7,
     "metadata": {},
     "output_type": "execute_result"
    }
   ],
   "source": [
    "df_cit['patent_id']=df_cit['patent_id'].astype(str)\n",
    "df_cit.info()"
   ]
  },
  {
   "cell_type": "code",
   "execution_count": 8,
   "metadata": {
    "collapsed": false
   },
   "outputs": [],
   "source": [
    "df_cit.set_index('patent_id', inplace=True)"
   ]
  },
  {
   "cell_type": "code",
   "execution_count": 9,
   "metadata": {
    "collapsed": false
   },
   "outputs": [
    {
     "data": {
      "text/html": [
       "<div>\n",
       "<table border=\"1\" class=\"dataframe\">\n",
       "  <thead>\n",
       "    <tr style=\"text-align: right;\">\n",
       "      <th></th>\n",
       "      <th>uuid</th>\n",
       "      <th>citation_id</th>\n",
       "      <th>assignee_id</th>\n",
       "    </tr>\n",
       "    <tr>\n",
       "      <th>patent_id</th>\n",
       "      <th></th>\n",
       "      <th></th>\n",
       "      <th></th>\n",
       "    </tr>\n",
       "  </thead>\n",
       "  <tbody>\n",
       "    <tr>\n",
       "      <th>10000000</th>\n",
       "      <td>eyqqavzvg46oies1s1jajx45o</td>\n",
       "      <td>5093563</td>\n",
       "      <td>org_xpEol9Bqufk9r7H1oQhs</td>\n",
       "    </tr>\n",
       "    <tr>\n",
       "      <th>10000000</th>\n",
       "      <td>sk41vanuv913q2oq1gu16kelk</td>\n",
       "      <td>5751830</td>\n",
       "      <td>org_xpEol9Bqufk9r7H1oQhs</td>\n",
       "    </tr>\n",
       "    <tr>\n",
       "      <th>10000001</th>\n",
       "      <td>0iuh6sxpfunlh8pm9fkkycz97</td>\n",
       "      <td>9296144</td>\n",
       "      <td>org_mHLTB0b0i1bxDE6MnWFP</td>\n",
       "    </tr>\n",
       "    <tr>\n",
       "      <th>10000001</th>\n",
       "      <td>hubkpzxws50xbyfft6ioi60b8</td>\n",
       "      <td>7804268</td>\n",
       "      <td>org_mHLTB0b0i1bxDE6MnWFP</td>\n",
       "    </tr>\n",
       "    <tr>\n",
       "      <th>10000001</th>\n",
       "      <td>nfkhcwvzleqs4u97rrv19kqf1</td>\n",
       "      <td>9566732</td>\n",
       "      <td>org_mHLTB0b0i1bxDE6MnWFP</td>\n",
       "    </tr>\n",
       "  </tbody>\n",
       "</table>\n",
       "</div>"
      ],
      "text/plain": [
       "                                uuid citation_id               assignee_id\n",
       "patent_id                                                                 \n",
       "10000000   eyqqavzvg46oies1s1jajx45o     5093563  org_xpEol9Bqufk9r7H1oQhs\n",
       "10000000   sk41vanuv913q2oq1gu16kelk     5751830  org_xpEol9Bqufk9r7H1oQhs\n",
       "10000001   0iuh6sxpfunlh8pm9fkkycz97     9296144  org_mHLTB0b0i1bxDE6MnWFP\n",
       "10000001   hubkpzxws50xbyfft6ioi60b8     7804268  org_mHLTB0b0i1bxDE6MnWFP\n",
       "10000001   nfkhcwvzleqs4u97rrv19kqf1     9566732  org_mHLTB0b0i1bxDE6MnWFP"
      ]
     },
     "execution_count": 9,
     "metadata": {},
     "output_type": "execute_result"
    }
   ],
   "source": [
    "df_cit=df_cit.join(df_asg)\n",
    "df_cit.head()"
   ]
  },
  {
   "cell_type": "code",
   "execution_count": null,
   "metadata": {
    "collapsed": true
   },
   "outputs": [],
   "source": [
    "df_cit.info()"
   ]
  },
  {
   "cell_type": "code",
   "execution_count": 10,
   "metadata": {
    "collapsed": true
   },
   "outputs": [],
   "source": [
    "df_cit.rename(columns={'assignee_id': 'pat_asg'}, inplace=True)"
   ]
  },
  {
   "cell_type": "code",
   "execution_count": 11,
   "metadata": {
    "collapsed": true
   },
   "outputs": [],
   "source": [
    "df_cit.reset_index(inplace=True)"
   ]
  },
  {
   "cell_type": "code",
   "execution_count": 12,
   "metadata": {
    "collapsed": true
   },
   "outputs": [],
   "source": [
    "df_cit=df_cit.set_index('citation_id')"
   ]
  },
  {
   "cell_type": "code",
   "execution_count": 13,
   "metadata": {
    "collapsed": false
   },
   "outputs": [
    {
     "name": "stdout",
     "output_type": "stream",
     "text": [
      "CPU times: user 4min 37s, sys: 5.24 s, total: 4min 42s\n",
      "Wall time: 4min 42s\n"
     ]
    }
   ],
   "source": [
    "%%time\n",
    "df_cit=df_cit.join(df_asg)"
   ]
  },
  {
   "cell_type": "code",
   "execution_count": null,
   "metadata": {
    "collapsed": true
   },
   "outputs": [],
   "source": [
    "df_cit.info()"
   ]
  },
  {
   "cell_type": "code",
   "execution_count": 14,
   "metadata": {
    "collapsed": false
   },
   "outputs": [
    {
     "data": {
      "text/html": [
       "<div>\n",
       "<table border=\"1\" class=\"dataframe\">\n",
       "  <thead>\n",
       "    <tr style=\"text-align: right;\">\n",
       "      <th></th>\n",
       "      <th>patent_id</th>\n",
       "      <th>uuid</th>\n",
       "      <th>pat_asg</th>\n",
       "      <th>assignee_id</th>\n",
       "    </tr>\n",
       "  </thead>\n",
       "  <tbody>\n",
       "    <tr>\n",
       "      <th>0</th>\n",
       "      <td>5351803</td>\n",
       "      <td>eeggwd3pnsfcara1i60o42hdu</td>\n",
       "      <td>org_C7LdmoC8j4mUth9Rko4c</td>\n",
       "      <td>NaN</td>\n",
       "    </tr>\n",
       "    <tr>\n",
       "      <th>0000000</th>\n",
       "      <td>5489070</td>\n",
       "      <td>xjdvdj2y0lgdas51rewjzn405</td>\n",
       "      <td>org_Fj2cKELVyvFNgZBuxxcB</td>\n",
       "      <td>NaN</td>\n",
       "    </tr>\n",
       "    <tr>\n",
       "      <th>000004</th>\n",
       "      <td>7017481</td>\n",
       "      <td>ifomzwo6g13prnj5c29mgj8k4</td>\n",
       "      <td>org_EkYeo6ADBTltFZiksTcd</td>\n",
       "      <td>NaN</td>\n",
       "    </tr>\n",
       "    <tr>\n",
       "      <th>000006</th>\n",
       "      <td>6813147</td>\n",
       "      <td>a6crepaxejht8e16czfm0kytd</td>\n",
       "      <td>org_XcqCjtT8pi8Mk3UjQlDt</td>\n",
       "      <td>NaN</td>\n",
       "    </tr>\n",
       "    <tr>\n",
       "      <th>0000482</th>\n",
       "      <td>5054020</td>\n",
       "      <td>olkyv8qnteatjed767vodhmlz</td>\n",
       "      <td>org_xmHc3Az9MhLSDD4X9xBu</td>\n",
       "      <td>NaN</td>\n",
       "    </tr>\n",
       "  </tbody>\n",
       "</table>\n",
       "</div>"
      ],
      "text/plain": [
       "        patent_id                       uuid                   pat_asg  \\\n",
       "0         5351803  eeggwd3pnsfcara1i60o42hdu  org_C7LdmoC8j4mUth9Rko4c   \n",
       "0000000   5489070  xjdvdj2y0lgdas51rewjzn405  org_Fj2cKELVyvFNgZBuxxcB   \n",
       "000004    7017481  ifomzwo6g13prnj5c29mgj8k4  org_EkYeo6ADBTltFZiksTcd   \n",
       "000006    6813147  a6crepaxejht8e16czfm0kytd  org_XcqCjtT8pi8Mk3UjQlDt   \n",
       "0000482   5054020  olkyv8qnteatjed767vodhmlz  org_xmHc3Az9MhLSDD4X9xBu   \n",
       "\n",
       "        assignee_id  \n",
       "0               NaN  \n",
       "0000000         NaN  \n",
       "000004          NaN  \n",
       "000006          NaN  \n",
       "0000482         NaN  "
      ]
     },
     "execution_count": 14,
     "metadata": {},
     "output_type": "execute_result"
    }
   ],
   "source": [
    "df_cit.head()"
   ]
  },
  {
   "cell_type": "code",
   "execution_count": 15,
   "metadata": {
    "collapsed": true
   },
   "outputs": [],
   "source": [
    "df_cit.rename(columns={'assignee_id':'cit_asg'}, inplace=True)\n",
    "\n",
    "df_cit['self_cit']=np.where(df_cit['cit_asg'] == df_cit['pat_asg'], 1, 0)"
   ]
  },
  {
   "cell_type": "code",
   "execution_count": 16,
   "metadata": {
    "collapsed": false
   },
   "outputs": [
    {
     "data": {
      "text/html": [
       "<div>\n",
       "<table border=\"1\" class=\"dataframe\">\n",
       "  <thead>\n",
       "    <tr style=\"text-align: right;\">\n",
       "      <th></th>\n",
       "      <th>patent_id</th>\n",
       "      <th>uuid</th>\n",
       "      <th>pat_asg</th>\n",
       "      <th>cit_asg</th>\n",
       "      <th>self_cit</th>\n",
       "    </tr>\n",
       "  </thead>\n",
       "  <tbody>\n",
       "    <tr>\n",
       "      <th>0</th>\n",
       "      <td>5351803</td>\n",
       "      <td>eeggwd3pnsfcara1i60o42hdu</td>\n",
       "      <td>org_C7LdmoC8j4mUth9Rko4c</td>\n",
       "      <td>NaN</td>\n",
       "      <td>0</td>\n",
       "    </tr>\n",
       "    <tr>\n",
       "      <th>0000000</th>\n",
       "      <td>5489070</td>\n",
       "      <td>xjdvdj2y0lgdas51rewjzn405</td>\n",
       "      <td>org_Fj2cKELVyvFNgZBuxxcB</td>\n",
       "      <td>NaN</td>\n",
       "      <td>0</td>\n",
       "    </tr>\n",
       "    <tr>\n",
       "      <th>000004</th>\n",
       "      <td>7017481</td>\n",
       "      <td>ifomzwo6g13prnj5c29mgj8k4</td>\n",
       "      <td>org_EkYeo6ADBTltFZiksTcd</td>\n",
       "      <td>NaN</td>\n",
       "      <td>0</td>\n",
       "    </tr>\n",
       "    <tr>\n",
       "      <th>000006</th>\n",
       "      <td>6813147</td>\n",
       "      <td>a6crepaxejht8e16czfm0kytd</td>\n",
       "      <td>org_XcqCjtT8pi8Mk3UjQlDt</td>\n",
       "      <td>NaN</td>\n",
       "      <td>0</td>\n",
       "    </tr>\n",
       "    <tr>\n",
       "      <th>0000482</th>\n",
       "      <td>5054020</td>\n",
       "      <td>olkyv8qnteatjed767vodhmlz</td>\n",
       "      <td>org_xmHc3Az9MhLSDD4X9xBu</td>\n",
       "      <td>NaN</td>\n",
       "      <td>0</td>\n",
       "    </tr>\n",
       "  </tbody>\n",
       "</table>\n",
       "</div>"
      ],
      "text/plain": [
       "        patent_id                       uuid                   pat_asg  \\\n",
       "0         5351803  eeggwd3pnsfcara1i60o42hdu  org_C7LdmoC8j4mUth9Rko4c   \n",
       "0000000   5489070  xjdvdj2y0lgdas51rewjzn405  org_Fj2cKELVyvFNgZBuxxcB   \n",
       "000004    7017481  ifomzwo6g13prnj5c29mgj8k4  org_EkYeo6ADBTltFZiksTcd   \n",
       "000006    6813147  a6crepaxejht8e16czfm0kytd  org_XcqCjtT8pi8Mk3UjQlDt   \n",
       "0000482   5054020  olkyv8qnteatjed767vodhmlz  org_xmHc3Az9MhLSDD4X9xBu   \n",
       "\n",
       "        cit_asg  self_cit  \n",
       "0           NaN         0  \n",
       "0000000     NaN         0  \n",
       "000004      NaN         0  \n",
       "000006      NaN         0  \n",
       "0000482     NaN         0  "
      ]
     },
     "execution_count": 16,
     "metadata": {},
     "output_type": "execute_result"
    }
   ],
   "source": [
    "df_cit.head()"
   ]
  },
  {
   "cell_type": "code",
   "execution_count": 17,
   "metadata": {
    "collapsed": false
   },
   "outputs": [
    {
     "name": "stdout",
     "output_type": "stream",
     "text": [
      "<class 'pandas.core.frame.DataFrame'>\n",
      "Index: 113156459 entries, 0 to nan\n",
      "Data columns (total 5 columns):\n",
      "patent_id    object\n",
      "uuid         object\n",
      "pat_asg      object\n",
      "cit_asg      object\n",
      "self_cit     int64\n",
      "dtypes: int64(1), object(4)\n",
      "memory usage: 5.1+ GB\n"
     ]
    }
   ],
   "source": [
    "df_cit.info()"
   ]
  },
  {
   "cell_type": "code",
   "execution_count": 18,
   "metadata": {
    "collapsed": true
   },
   "outputs": [],
   "source": [
    "# df_cit[['patent_id', 'self_cit']].to_csv(dst, index_label='citation_id')\n",
    "df_cit[['uuid','self_cit']].to_csv(dst, index=False, compression='gzip')"
   ]
  }
 ],
 "metadata": {
  "anaconda-cloud": {},
  "kernelspec": {
   "display_name": "Python [default]",
   "language": "python",
   "name": "python3"
  },
  "language_info": {
   "codemirror_mode": {
    "name": "ipython",
    "version": 3
   },
   "file_extension": ".py",
   "mimetype": "text/x-python",
   "name": "python",
   "nbconvert_exporter": "python",
   "pygments_lexer": "ipython3",
   "version": "3.5.2"
  }
 },
 "nbformat": 4,
 "nbformat_minor": 1
}
