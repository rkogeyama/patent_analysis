{
 "cells": [
  {
   "cell_type": "code",
   "execution_count": 1,
   "metadata": {
    "collapsed": false
   },
   "outputs": [],
   "source": [
    "%matplotlib inline"
   ]
  },
  {
   "cell_type": "markdown",
   "metadata": {},
   "source": [
    "\n",
    "# Customizing Figure Layouts Using GridSpec and Other Functions\n",
    "\n",
    "\n",
    "How to create grid-shaped combinations of axes.\n",
    "\n",
    "    :func:`~matplotlib.pyplot.subplots`\n",
    "        Perhaps the primary function used to create figures and axes.\n",
    "        It's also similar to :func:`.matplotlib.pyplot.subplot`,\n",
    "        but creates and places all axes on the figure at once.  See also\n",
    "        `matplotlib.Figure.subplots`.\n",
    "\n",
    "    :class:`~matplotlib.gridspec.GridSpec`\n",
    "        Specifies the geometry of the grid that a subplot will be\n",
    "        placed. The number of rows and number of columns of the grid\n",
    "        need to be set. Optionally, the subplot layout parameters\n",
    "        (e.g., left, right, etc.) can be tuned.\n",
    "\n",
    "    :class:`~matplotlib.gridspec.SubplotSpec`\n",
    "        Specifies the location of the subplot in the given *GridSpec*.\n",
    "\n",
    "    :func:`~matplotlib.pyplot.subplot2grid`\n",
    "        A helper function that is similar to\n",
    "        :func:`~matplotlib.pyplot.subplot`,\n",
    "        but uses 0-based indexing and let subplot to occupy multiple cells.\n",
    "        This function is not covered in this tutorial.\n"
   ]
  },
  {
   "cell_type": "code",
   "execution_count": 2,
   "metadata": {
    "collapsed": false
   },
   "outputs": [],
   "source": [
    "import matplotlib\n",
    "import matplotlib.pyplot as plt\n",
    "import matplotlib.gridspec as gridspec"
   ]
  },
  {
   "cell_type": "markdown",
   "metadata": {},
   "source": [
    "Basic Quickstart Guide\n",
    "======================\n",
    "\n",
    "These first two examples show how to create a basic 2-by-2 grid using\n",
    "both :func:`~matplotlib.pyplot.subplots` and :mod:`~matplotlib.gridspec`.\n",
    "\n",
    "Using :func:`~matplotlib.pyplot.subplots` is quite simple.\n",
    "It returns a :class:`~matplotlib.figure.Figure` instance and an array of\n",
    ":class:`~matplotlib.axes.Axes` objects.\n",
    "\n"
   ]
  },
  {
   "cell_type": "code",
   "execution_count": 3,
   "metadata": {
    "collapsed": false
   },
   "outputs": [
    {
     "ename": "TypeError",
     "evalue": "__init__() got an unexpected keyword argument 'constrained_layout'",
     "output_type": "error",
     "traceback": [
      "\u001b[0;31m---------------------------------------------------------------------------\u001b[0m",
      "\u001b[0;31mTypeError\u001b[0m                                 Traceback (most recent call last)",
      "\u001b[0;32m<ipython-input-3-4815939775ca>\u001b[0m in \u001b[0;36m<module>\u001b[0;34m()\u001b[0m\n\u001b[0;32m----> 1\u001b[0;31m \u001b[0mfig1\u001b[0m\u001b[0;34m,\u001b[0m \u001b[0mf1_axes\u001b[0m \u001b[0;34m=\u001b[0m \u001b[0mplt\u001b[0m\u001b[0;34m.\u001b[0m\u001b[0msubplots\u001b[0m\u001b[0;34m(\u001b[0m\u001b[0mncols\u001b[0m\u001b[0;34m=\u001b[0m\u001b[0;36m2\u001b[0m\u001b[0;34m,\u001b[0m \u001b[0mnrows\u001b[0m\u001b[0;34m=\u001b[0m\u001b[0;36m2\u001b[0m\u001b[0;34m,\u001b[0m \u001b[0mconstrained_layout\u001b[0m\u001b[0;34m=\u001b[0m\u001b[0;32mTrue\u001b[0m\u001b[0;34m)\u001b[0m\u001b[0;34m\u001b[0m\u001b[0m\n\u001b[0m",
      "\u001b[0;32m/home/applications/anaconda3/4.2.0/lib/python3.5/site-packages/matplotlib/pyplot.py\u001b[0m in \u001b[0;36msubplots\u001b[0;34m(nrows, ncols, sharex, sharey, squeeze, subplot_kw, gridspec_kw, **fig_kw)\u001b[0m\n\u001b[1;32m   1200\u001b[0m         \u001b[0mgridspec_kw\u001b[0m \u001b[0;34m=\u001b[0m \u001b[0;34m{\u001b[0m\u001b[0;34m}\u001b[0m\u001b[0;34m\u001b[0m\u001b[0m\n\u001b[1;32m   1201\u001b[0m \u001b[0;34m\u001b[0m\u001b[0m\n\u001b[0;32m-> 1202\u001b[0;31m     \u001b[0mfig\u001b[0m \u001b[0;34m=\u001b[0m \u001b[0mfigure\u001b[0m\u001b[0;34m(\u001b[0m\u001b[0;34m**\u001b[0m\u001b[0mfig_kw\u001b[0m\u001b[0;34m)\u001b[0m\u001b[0;34m\u001b[0m\u001b[0m\n\u001b[0m\u001b[1;32m   1203\u001b[0m     \u001b[0mgs\u001b[0m \u001b[0;34m=\u001b[0m \u001b[0mGridSpec\u001b[0m\u001b[0;34m(\u001b[0m\u001b[0mnrows\u001b[0m\u001b[0;34m,\u001b[0m \u001b[0mncols\u001b[0m\u001b[0;34m,\u001b[0m \u001b[0;34m**\u001b[0m\u001b[0mgridspec_kw\u001b[0m\u001b[0;34m)\u001b[0m\u001b[0;34m\u001b[0m\u001b[0m\n\u001b[1;32m   1204\u001b[0m \u001b[0;34m\u001b[0m\u001b[0m\n",
      "\u001b[0;32m/home/applications/anaconda3/4.2.0/lib/python3.5/site-packages/matplotlib/pyplot.py\u001b[0m in \u001b[0;36mfigure\u001b[0;34m(num, figsize, dpi, facecolor, edgecolor, frameon, FigureClass, **kwargs)\u001b[0m\n\u001b[1;32m    533\u001b[0m                                         \u001b[0mframeon\u001b[0m\u001b[0;34m=\u001b[0m\u001b[0mframeon\u001b[0m\u001b[0;34m,\u001b[0m\u001b[0;34m\u001b[0m\u001b[0m\n\u001b[1;32m    534\u001b[0m                                         \u001b[0mFigureClass\u001b[0m\u001b[0;34m=\u001b[0m\u001b[0mFigureClass\u001b[0m\u001b[0;34m,\u001b[0m\u001b[0;34m\u001b[0m\u001b[0m\n\u001b[0;32m--> 535\u001b[0;31m                                         **kwargs)\n\u001b[0m\u001b[1;32m    536\u001b[0m \u001b[0;34m\u001b[0m\u001b[0m\n\u001b[1;32m    537\u001b[0m         \u001b[0;32mif\u001b[0m \u001b[0mfigLabel\u001b[0m\u001b[0;34m:\u001b[0m\u001b[0;34m\u001b[0m\u001b[0m\n",
      "\u001b[0;32m/home/applications/anaconda3/4.2.0/lib/python3.5/site-packages/matplotlib/backends/backend_agg.py\u001b[0m in \u001b[0;36mnew_figure_manager\u001b[0;34m(num, *args, **kwargs)\u001b[0m\n\u001b[1;32m    420\u001b[0m \u001b[0;34m\u001b[0m\u001b[0m\n\u001b[1;32m    421\u001b[0m     \u001b[0mFigureClass\u001b[0m \u001b[0;34m=\u001b[0m \u001b[0mkwargs\u001b[0m\u001b[0;34m.\u001b[0m\u001b[0mpop\u001b[0m\u001b[0;34m(\u001b[0m\u001b[0;34m'FigureClass'\u001b[0m\u001b[0;34m,\u001b[0m \u001b[0mFigure\u001b[0m\u001b[0;34m)\u001b[0m\u001b[0;34m\u001b[0m\u001b[0m\n\u001b[0;32m--> 422\u001b[0;31m     \u001b[0mthisFig\u001b[0m \u001b[0;34m=\u001b[0m \u001b[0mFigureClass\u001b[0m\u001b[0;34m(\u001b[0m\u001b[0;34m*\u001b[0m\u001b[0margs\u001b[0m\u001b[0;34m,\u001b[0m \u001b[0;34m**\u001b[0m\u001b[0mkwargs\u001b[0m\u001b[0;34m)\u001b[0m\u001b[0;34m\u001b[0m\u001b[0m\n\u001b[0m\u001b[1;32m    423\u001b[0m     \u001b[0;32mreturn\u001b[0m \u001b[0mnew_figure_manager_given_figure\u001b[0m\u001b[0;34m(\u001b[0m\u001b[0mnum\u001b[0m\u001b[0;34m,\u001b[0m \u001b[0mthisFig\u001b[0m\u001b[0;34m)\u001b[0m\u001b[0;34m\u001b[0m\u001b[0m\n\u001b[1;32m    424\u001b[0m \u001b[0;34m\u001b[0m\u001b[0m\n",
      "\u001b[0;31mTypeError\u001b[0m: __init__() got an unexpected keyword argument 'constrained_layout'"
     ]
    }
   ],
   "source": [
    "fig1, f1_axes = plt.subplots(ncols=2, nrows=2, constrained_layout=True)"
   ]
  },
  {
   "cell_type": "markdown",
   "metadata": {},
   "source": [
    "For a simple use case such as this, :mod:`~matplotlib.gridspec` is\n",
    "perhaps overly verbose.\n",
    "You have to create the figure and :class:`~matplotlib.gridspec.GridSpec`\n",
    "instance separately, then pass elements of gridspec instance to the\n",
    ":func:`~matplotlib.figure.Figure.add_subplot` method to create the axes\n",
    "objects.\n",
    "The elements of the gridspec are accessed in generally the same manner as\n",
    "numpy arrays.\n",
    "\n"
   ]
  },
  {
   "cell_type": "code",
   "execution_count": null,
   "metadata": {
    "collapsed": false
   },
   "outputs": [],
   "source": [
    "fig2 = plt.figure(constrained_layout=True)\n",
    "spec2 = gridspec.GridSpec(ncols=2, nrows=2, figure=fig2)\n",
    "f2_ax1 = fig2.add_subplot(spec2[0, 0])\n",
    "f2_ax2 = fig2.add_subplot(spec2[0, 1])\n",
    "f2_ax3 = fig2.add_subplot(spec2[1, 0])\n",
    "f2_ax4 = fig2.add_subplot(spec2[1, 1])"
   ]
  },
  {
   "cell_type": "markdown",
   "metadata": {},
   "source": [
    "The power of gridspec comes in being able to create subplots that span\n",
    "rows and columns.  Note the\n",
    "`Numpy slice <https://docs.scipy.org/doc/numpy/reference/arrays.indexing.html>`_\n",
    "syntax for selecting the part of the gridspec each subplot will occupy.\n",
    "\n",
    "Note that we have also used the convenience method `.Figure.add_gridspec`\n",
    "instead of `.gridspec.GridSpec`, potentially saving the user an import,\n",
    "and keeping the namespace cleaner.\n",
    "\n"
   ]
  },
  {
   "cell_type": "code",
   "execution_count": null,
   "metadata": {
    "collapsed": false
   },
   "outputs": [],
   "source": [
    "fig3 = plt.figure(constrained_layout=True)\n",
    "gs = fig3.add_gridspec(3, 3)\n",
    "f3_ax1 = fig3.add_subplot(gs[0, :])\n",
    "f3_ax1.set_title('gs[0, :]')\n",
    "f3_ax2 = fig3.add_subplot(gs[1, :-1])\n",
    "f3_ax2.set_title('gs[1, :-1]')\n",
    "f3_ax3 = fig3.add_subplot(gs[1:, -1])\n",
    "f3_ax3.set_title('gs[1:, -1]')\n",
    "f3_ax4 = fig3.add_subplot(gs[-1, 0])\n",
    "f3_ax4.set_title('gs[-1, 0]')\n",
    "f3_ax5 = fig3.add_subplot(gs[-1, -2])\n",
    "f3_ax5.set_title('gs[-1, -2]')"
   ]
  },
  {
   "cell_type": "markdown",
   "metadata": {},
   "source": [
    ":mod:`~matplotlib.gridspec` is also indispensable for creating subplots\n",
    "of different widths via a couple of methods.\n",
    "\n",
    "The method shown here is similar to the one above and initializes a\n",
    "uniform grid specification,\n",
    "and then uses numpy indexing and slices to allocate multiple\n",
    "\"cells\" for a given subplot.\n",
    "\n"
   ]
  },
  {
   "cell_type": "code",
   "execution_count": null,
   "metadata": {
    "collapsed": false
   },
   "outputs": [],
   "source": [
    "fig4 = plt.figure(constrained_layout=True)\n",
    "spec4 = fig4.add_gridspec(ncols=2, nrows=2)\n",
    "anno_opts = dict(xy=(0.5, 0.5), xycoords='axes fraction',\n",
    "                 va='center', ha='center')\n",
    "\n",
    "f4_ax1 = fig4.add_subplot(spec4[0, 0])\n",
    "f4_ax1.annotate('GridSpec[0, 0]', **anno_opts)\n",
    "fig4.add_subplot(spec4[0, 1]).annotate('GridSpec[0, 1:]', **anno_opts)\n",
    "fig4.add_subplot(spec4[1, 0]).annotate('GridSpec[1:, 0]', **anno_opts)\n",
    "fig4.add_subplot(spec4[1, 1]).annotate('GridSpec[1:, 1:]', **anno_opts)"
   ]
  },
  {
   "cell_type": "markdown",
   "metadata": {},
   "source": [
    "Another option is to use the ``width_ratios`` and ``height_ratios``\n",
    "parameters. These keyword arguments are lists of numbers.\n",
    "Note that absolute values are meaningless, only their relative ratios\n",
    "matter. That means that ``width_ratios=[2, 4, 8]`` is equivalent to\n",
    "``width_ratios=[1, 2, 4]`` within equally wide figures.\n",
    "For the sake of demonstration, we'll blindly create the axes within\n",
    "``for`` loops since we won't need them later.\n",
    "\n"
   ]
  },
  {
   "cell_type": "code",
   "execution_count": null,
   "metadata": {
    "collapsed": false
   },
   "outputs": [],
   "source": [
    "fig5 = plt.figure(constrained_layout=True)\n",
    "widths = [2, 3, 1.5]\n",
    "heights = [1, 3, 2]\n",
    "spec5 = fig5.add_gridspec(ncols=3, nrows=3, width_ratios=widths,\n",
    "                          height_ratios=heights)\n",
    "for row in range(3):\n",
    "    for col in range(3):\n",
    "        ax = fig5.add_subplot(spec5[row, col])\n",
    "        label = 'Width: {}\\nHeight: {}'.format(widths[col], heights[row])\n",
    "        ax.annotate(label, (0.1, 0.5), xycoords='axes fraction', va='center')"
   ]
  },
  {
   "cell_type": "markdown",
   "metadata": {},
   "source": [
    "Learning to use ``width_ratios`` and ``height_ratios`` is particularly\n",
    "useful since the top-level function :func:`~matplotlib.pyplot.subplots`\n",
    "accepts them within the ``gridspec_kw`` parameter.\n",
    "For that matter, any parameter accepted by\n",
    ":class:`~matplotlib.gridspec.GridSpec` can be passed to\n",
    ":func:`~matplotlib.pyplot.subplots` via the ``gridspec_kw`` parameter.\n",
    "This example recreates the previous figure without directly using a\n",
    "gridspec instance.\n",
    "\n"
   ]
  },
  {
   "cell_type": "code",
   "execution_count": null,
   "metadata": {
    "collapsed": false
   },
   "outputs": [],
   "source": [
    "gs_kw = dict(width_ratios=widths, height_ratios=heights)\n",
    "fig6, f6_axes = plt.subplots(ncols=3, nrows=3, constrained_layout=True,\n",
    "        gridspec_kw=gs_kw)\n",
    "for r, row in enumerate(f6_axes):\n",
    "    for c, ax in enumerate(row):\n",
    "        label = 'Width: {}\\nHeight: {}'.format(widths[c], heights[r])\n",
    "        ax.annotate(label, (0.1, 0.5), xycoords='axes fraction', va='center')"
   ]
  },
  {
   "cell_type": "markdown",
   "metadata": {},
   "source": [
    "The ``subplots`` and ``gridspec`` methods can be combined since it is\n",
    "sometimes more convenient to make most of the subplots using ``subplots``\n",
    "and then remove some and combine them.  Here we create a layout with\n",
    "the bottom two axes in the last column combined.\n",
    "\n"
   ]
  },
  {
   "cell_type": "code",
   "execution_count": null,
   "metadata": {
    "collapsed": false
   },
   "outputs": [],
   "source": [
    "fig7, f7_axs = plt.subplots(ncols=3, nrows=3)\n",
    "gs = f7_axs[1, 2].get_gridspec()\n",
    "# remove the underlying axes\n",
    "for ax in f7_axs[1:, -1]:\n",
    "    ax.remove()\n",
    "axbig = fig7.add_subplot(gs[1:, -1])\n",
    "axbig.annotate('Big Axes \\nGridSpec[1:, -1]', (0.1, 0.5),\n",
    "               xycoords='axes fraction', va='center')\n",
    "\n",
    "fig7.tight_layout()"
   ]
  },
  {
   "cell_type": "markdown",
   "metadata": {},
   "source": [
    "Fine Adjustments to a Gridspec Layout\n",
    "=====================================\n",
    "\n",
    "When a GridSpec is explicitly used, you can adjust the layout\n",
    "parameters of subplots that are created from the GridSpec.  Note this\n",
    "option is not compatible with ``constrained_layout`` or\n",
    "`.Figure.tight_layout` which both adjust subplot sizes to fill the\n",
    "figure.\n",
    "\n"
   ]
  },
  {
   "cell_type": "code",
   "execution_count": null,
   "metadata": {
    "collapsed": false
   },
   "outputs": [],
   "source": [
    "fig8 = plt.figure(constrained_layout=False)\n",
    "gs1 = fig8.add_gridspec(nrows=3, ncols=3, left=0.05, right=0.48, wspace=0.05)\n",
    "f8_ax1 = fig8.add_subplot(gs1[:-1, :])\n",
    "f8_ax2 = fig8.add_subplot(gs1[-1, :-1])\n",
    "f8_ax3 = fig8.add_subplot(gs1[-1, -1])"
   ]
  },
  {
   "cell_type": "markdown",
   "metadata": {},
   "source": [
    "This is similar to :func:`~matplotlib.pyplot.subplots_adjust`, but it only\n",
    "affects the subplots that are created from the given GridSpec.\n",
    "\n",
    "For example, compare the left and right sides of this figure:\n",
    "\n"
   ]
  },
  {
   "cell_type": "code",
   "execution_count": null,
   "metadata": {
    "collapsed": false
   },
   "outputs": [],
   "source": [
    "fig9 = plt.figure(constrained_layout=False)\n",
    "gs1 = fig9.add_gridspec(nrows=3, ncols=3, left=0.05, right=0.48,\n",
    "                        wspace=0.05)\n",
    "f9_ax1 = fig9.add_subplot(gs1[:-1, :])\n",
    "f9_ax2 = fig9.add_subplot(gs1[-1, :-1])\n",
    "f9_ax3 = fig9.add_subplot(gs1[-1, -1])\n",
    "\n",
    "gs2 = fig9.add_gridspec(nrows=3, ncols=3, left=0.55, right=0.98,\n",
    "                        hspace=0.05)\n",
    "f9_ax4 = fig9.add_subplot(gs2[:, :-1])\n",
    "f9_ax5 = fig9.add_subplot(gs2[:-1, -1])\n",
    "f9_ax6 = fig9.add_subplot(gs2[-1, -1])"
   ]
  },
  {
   "cell_type": "markdown",
   "metadata": {},
   "source": [
    "GridSpec using SubplotSpec\n",
    "==========================\n",
    "\n",
    "You can create GridSpec from the :class:`~matplotlib.gridspec.SubplotSpec`,\n",
    "in which case its layout parameters are set to that of the location of\n",
    "the given SubplotSpec.\n",
    "\n",
    "Note this is also available from the more verbose\n",
    "`.gridspec.GridSpecFromSubplotSpec`.\n",
    "\n"
   ]
  },
  {
   "cell_type": "code",
   "execution_count": null,
   "metadata": {
    "collapsed": false
   },
   "outputs": [],
   "source": [
    "fig10 = plt.figure(constrained_layout=True)\n",
    "gs0 = fig10.add_gridspec(1, 2)\n",
    "\n",
    "gs00 = gs0[0].subgridspec(2, 3)\n",
    "gs01 = gs0[1].subgridspec(3, 2)\n",
    "\n",
    "for a in range(2):\n",
    "    for b in range(3):\n",
    "        fig10.add_subplot(gs00[a, b])\n",
    "        fig10.add_subplot(gs01[b, a])"
   ]
  },
  {
   "cell_type": "markdown",
   "metadata": {},
   "source": [
    "A Complex Nested GridSpec using SubplotSpec\n",
    "===========================================\n",
    "\n",
    "Here's a more sophisticated example of nested GridSpec where we put\n",
    "a box around each cell of the outer 4x4 grid, by hiding appropriate\n",
    "spines in each of the inner 3x3 grids.\n",
    "\n"
   ]
  },
  {
   "cell_type": "code",
   "execution_count": null,
   "metadata": {
    "collapsed": false
   },
   "outputs": [],
   "source": [
    "import numpy as np\n",
    "from itertools import product\n",
    "\n",
    "\n",
    "def squiggle_xy(a, b, c, d, i=np.arange(0.0, 2*np.pi, 0.05)):\n",
    "    return np.sin(i*a)*np.cos(i*b), np.sin(i*c)*np.cos(i*d)\n",
    "\n",
    "\n",
    "fig11 = plt.figure(figsize=(8, 8), constrained_layout=False)\n",
    "\n",
    "# gridspec inside gridspec\n",
    "outer_grid = fig11.add_gridspec(4, 4, wspace=0.0, hspace=0.0)\n",
    "\n",
    "for i in range(16):\n",
    "    inner_grid = outer_grid[i].subgridspec(3, 3, wspace=0.0, hspace=0.0)\n",
    "    a, b = int(i/4)+1, i % 4+1\n",
    "    for j, (c, d) in enumerate(product(range(1, 4), repeat=2)):\n",
    "        ax = fig11.add_subplot(inner_grid[j])\n",
    "        ax.plot(*squiggle_xy(a, b, c, d))\n",
    "        ax.set_xticks([])\n",
    "        ax.set_yticks([])\n",
    "        fig11.add_subplot(ax)\n",
    "\n",
    "all_axes = fig11.get_axes()\n",
    "\n",
    "# show only the outside spines\n",
    "for ax in all_axes:\n",
    "    for sp in ax.spines.values():\n",
    "        sp.set_visible(False)\n",
    "    if ax.is_first_row():\n",
    "        ax.spines['top'].set_visible(True)\n",
    "    if ax.is_last_row():\n",
    "        ax.spines['bottom'].set_visible(True)\n",
    "    if ax.is_first_col():\n",
    "        ax.spines['left'].set_visible(True)\n",
    "    if ax.is_last_col():\n",
    "        ax.spines['right'].set_visible(True)\n",
    "\n",
    "plt.show()"
   ]
  },
  {
   "cell_type": "markdown",
   "metadata": {},
   "source": [
    "------------\n",
    "\n",
    "References\n",
    "\"\"\"\"\"\"\"\"\"\"\n",
    "\n",
    "The usage of the following functions and methods is shown in this example:\n",
    "\n"
   ]
  },
  {
   "cell_type": "code",
   "execution_count": null,
   "metadata": {
    "collapsed": false
   },
   "outputs": [],
   "source": [
    "matplotlib.pyplot.subplots\n",
    "matplotlib.figure.Figure.add_gridspec\n",
    "matplotlib.figure.Figure.add_subplot\n",
    "matplotlib.gridspec.GridSpec\n",
    "matplotlib.gridspec.SubplotSpec.subgridspec\n",
    "matplotlib.gridspec.GridSpecFromSubplotSpec"
   ]
  }
 ],
 "metadata": {
  "anaconda-cloud": {},
  "kernelspec": {
   "display_name": "Python [default]",
   "language": "python",
   "name": "python3"
  },
  "language_info": {
   "codemirror_mode": {
    "name": "ipython",
    "version": 3
   },
   "file_extension": ".py",
   "mimetype": "text/x-python",
   "name": "python",
   "nbconvert_exporter": "python",
   "pygments_lexer": "ipython3",
   "version": "3.5.2"
  }
 },
 "nbformat": 4,
 "nbformat_minor": 0
}
