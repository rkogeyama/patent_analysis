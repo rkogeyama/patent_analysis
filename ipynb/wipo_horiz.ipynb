{
 "cells": [
  {
   "cell_type": "code",
   "execution_count": 1,
   "metadata": {
    "collapsed": true
   },
   "outputs": [],
   "source": [
    "# Script to calculate originality and  application data\n",
    "# This script prepares the classification data before merging\n",
    "# Jan 16th, 2020\n",
    "# Multiple classifications generate an error into the Generality calculation\n",
    "# I am creating a version with the first class only \n",
    "\n",
    "# Jan 7th, 2020\n"
   ]
  },
  {
   "cell_type": "code",
   "execution_count": 2,
   "metadata": {
    "collapsed": true
   },
   "outputs": [],
   "source": [
    "import sys\n",
    "sys.path.append('/home/rkogeyam/scripts/')\n",
    "from sampler import sampler\n",
    "\n",
    "import pandas as pd\n",
    "import numpy as np\n",
    "import re\n",
    "\n"
   ]
  },
  {
   "cell_type": "code",
   "execution_count": 3,
   "metadata": {
    "collapsed": true
   },
   "outputs": [],
   "source": [
    "# from the data dictionary\n",
    "\n",
    "# patent_id: patent number\n",
    "# field_id:  WIPO technology field ID as derived from crosswalk \n",
    "#            http://www.wipo.int/export/sites/www/ipstats/en/statistics/patents/xls/ipc_technology.xls\n",
    "# sequence:  order in which WIPO technology field appears on patent\n"
   ]
  },
  {
   "cell_type": "code",
   "execution_count": 4,
   "metadata": {
    "collapsed": true
   },
   "outputs": [],
   "source": [
    "wipo = 'data/wipo.tsv'\n",
    "dst= 'data/wipo.csv'"
   ]
  },
  {
   "cell_type": "code",
   "execution_count": 5,
   "metadata": {
    "collapsed": false
   },
   "outputs": [],
   "source": [
    "# \n",
    "df=pd.read_csv(wipo, sep='\\t', dtype='object')\n",
    "\n",
    "# sample_size=1000\n",
    "# wipo_df=sampler(wipo, sample_size, sep='\\t')\n"
   ]
  },
  {
   "cell_type": "code",
   "execution_count": 6,
   "metadata": {
    "collapsed": true
   },
   "outputs": [],
   "source": [
    "# # # Keep this for reference!\n",
    "# # # As of Dec 31st, 2019, I compared the clean to the raw version of citation and patent ids\n",
    "\n",
    "# # #stripping non-desired characters but keeping the originals for later check - only three changes in citation_id\n",
    "\n",
    "# wipo_df['patent_id_raw']=wipo_df['patent_id']\n",
    "\n",
    "# cleaning_patent=lambda x:re.sub('([^a-zA-Z0-9]+)', \"\", x)\n",
    "# wipo_df['patent_id']=wipo_df['patent_id'].apply(cleaning_patent)"
   ]
  },
  {
   "cell_type": "code",
   "execution_count": 7,
   "metadata": {
    "collapsed": true
   },
   "outputs": [],
   "source": [
    "#first, construct a table with wipo categories in columns, patent level\n",
    "#second, "
   ]
  },
  {
   "cell_type": "code",
   "execution_count": 8,
   "metadata": {
    "collapsed": false
   },
   "outputs": [
    {
     "data": {
      "text/plain": [
       "patent_id    object\n",
       "field_id     object\n",
       "sequence     object\n",
       "dtype: object"
      ]
     },
     "execution_count": 8,
     "metadata": {},
     "output_type": "execute_result"
    }
   ],
   "source": [
    "df.dtypes"
   ]
  },
  {
   "cell_type": "code",
   "execution_count": 9,
   "metadata": {
    "collapsed": false
   },
   "outputs": [
    {
     "data": {
      "text/plain": [
       "sequence\n",
       "0     6441314\n",
       "1     2032186\n",
       "10         95\n",
       "11         26\n",
       "12         26\n",
       "13         12\n",
       "2      449147\n",
       "3       96764\n",
       "4       22529\n",
       "5        6794\n",
       "6        2401\n",
       "7        1053\n",
       "8         554\n",
       "9         178\n",
       "Name: patent_id, dtype: int64"
      ]
     },
     "execution_count": 9,
     "metadata": {},
     "output_type": "execute_result"
    }
   ],
   "source": [
    "df.groupby('sequence').patent_id.count()"
   ]
  },
  {
   "cell_type": "code",
   "execution_count": 10,
   "metadata": {
    "collapsed": true
   },
   "outputs": [],
   "source": [
    "df=df[df['sequence']=='0'][['patent_id', 'field_id']]"
   ]
  },
  {
   "cell_type": "code",
   "execution_count": 11,
   "metadata": {
    "collapsed": false
   },
   "outputs": [
    {
     "data": {
      "text/plain": [
       "6     610168\n",
       "1     406495\n",
       "4     367556\n",
       "8     335881\n",
       "13    331891\n",
       "10    304120\n",
       "2     301882\n",
       "9     296296\n",
       "32    272396\n",
       "14    229166\n",
       "3     206962\n",
       "29    191855\n",
       "27    177452\n",
       "35    176277\n",
       "31    175502\n",
       "33    160647\n",
       "25    155111\n",
       "26    149727\n",
       "23    145420\n",
       "15    139241\n",
       "28    132710\n",
       "19    125275\n",
       "17    121192\n",
       "5     119108\n",
       "34    116886\n",
       "12    110166\n",
       "16    103783\n",
       "20    100333\n",
       "21     90063\n",
       "7      75837\n",
       "30     63740\n",
       "24     62631\n",
       "18     41730\n",
       "11     30087\n",
       "22     13728\n",
       "Name: field_id, dtype: int64"
      ]
     },
     "execution_count": 11,
     "metadata": {},
     "output_type": "execute_result"
    }
   ],
   "source": [
    "df.field_id.value_counts()"
   ]
  },
  {
   "cell_type": "code",
   "execution_count": 12,
   "metadata": {
    "collapsed": true
   },
   "outputs": [],
   "source": [
    "df=df.add_prefix('wipo_')"
   ]
  },
  {
   "cell_type": "code",
   "execution_count": 13,
   "metadata": {
    "collapsed": true
   },
   "outputs": [],
   "source": [
    "df.rename(columns={ df.columns[0]: \"id\" }, inplace = True)"
   ]
  },
  {
   "cell_type": "code",
   "execution_count": 14,
   "metadata": {
    "collapsed": false
   },
   "outputs": [
    {
     "data": {
      "text/html": [
       "<div>\n",
       "<table border=\"1\" class=\"dataframe\">\n",
       "  <thead>\n",
       "    <tr style=\"text-align: right;\">\n",
       "      <th></th>\n",
       "      <th>id</th>\n",
       "      <th>wipo_field_id</th>\n",
       "    </tr>\n",
       "  </thead>\n",
       "  <tbody>\n",
       "    <tr>\n",
       "      <th>4</th>\n",
       "      <td>10000122</td>\n",
       "      <td>1</td>\n",
       "    </tr>\n",
       "    <tr>\n",
       "      <th>6</th>\n",
       "      <td>10000133</td>\n",
       "      <td>1</td>\n",
       "    </tr>\n",
       "    <tr>\n",
       "      <th>7</th>\n",
       "      <td>10000134</td>\n",
       "      <td>1</td>\n",
       "    </tr>\n",
       "    <tr>\n",
       "      <th>9</th>\n",
       "      <td>10000138</td>\n",
       "      <td>1</td>\n",
       "    </tr>\n",
       "    <tr>\n",
       "      <th>15</th>\n",
       "      <td>10000167</td>\n",
       "      <td>1</td>\n",
       "    </tr>\n",
       "  </tbody>\n",
       "</table>\n",
       "</div>"
      ],
      "text/plain": [
       "          id wipo_field_id\n",
       "4   10000122             1\n",
       "6   10000133             1\n",
       "7   10000134             1\n",
       "9   10000138             1\n",
       "15  10000167             1"
      ]
     },
     "execution_count": 14,
     "metadata": {},
     "output_type": "execute_result"
    }
   ],
   "source": [
    "df.head()"
   ]
  },
  {
   "cell_type": "code",
   "execution_count": 15,
   "metadata": {
    "collapsed": true
   },
   "outputs": [],
   "source": [
    "df.set_index('id').to_csv(dst)"
   ]
  }
 ],
 "metadata": {
  "anaconda-cloud": {},
  "kernelspec": {
   "display_name": "Python [default]",
   "language": "python",
   "name": "python3"
  },
  "language_info": {
   "codemirror_mode": {
    "name": "ipython",
    "version": 3
   },
   "file_extension": ".py",
   "mimetype": "text/x-python",
   "name": "python",
   "nbconvert_exporter": "python",
   "pygments_lexer": "ipython3",
   "version": "3.5.2"
  }
 },
 "nbformat": 4,
 "nbformat_minor": 1
}
