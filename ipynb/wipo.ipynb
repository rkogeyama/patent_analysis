{
 "cells": [
  {
   "cell_type": "code",
   "execution_count": 1,
   "metadata": {
    "collapsed": true
   },
   "outputs": [],
   "source": [
    "# Script to calculate originality and  application data\n",
    "# This script prepares the classification data before merging\n",
    "# Jan 16th, 2020\n",
    "# Multiple classifications generate an error into the Generality calculation\n",
    "# I am creating a version with the first class only \n",
    "\n",
    "# Jan 7th, 2020\n"
   ]
  },
  {
   "cell_type": "code",
   "execution_count": 2,
   "metadata": {
    "collapsed": true
   },
   "outputs": [],
   "source": [
    "import sys\n",
    "sys.path.append('/home/rkogeyam/scripts/')\n",
    "from sampler import sampler\n",
    "\n",
    "import pandas as pd\n",
    "import numpy as np\n",
    "import re\n",
    "\n",
    "import zipfile as zip\n",
    "import gzip"
   ]
  },
  {
   "cell_type": "code",
   "execution_count": 3,
   "metadata": {
    "collapsed": true
   },
   "outputs": [],
   "source": [
    "# from the data dictionary\n",
    "\n",
    "# patent_id: patent number\n",
    "# field_id:  WIPO technology field ID as derived from crosswalk \n",
    "#            http://www.wipo.int/export/sites/www/ipstats/en/statistics/patents/xls/ipc_technology.xls\n",
    "# sequence:  order in which WIPO technology field appears on patent\n"
   ]
  },
  {
   "cell_type": "code",
   "execution_count": 4,
   "metadata": {
    "collapsed": true
   },
   "outputs": [],
   "source": [
    "wipo = 'data/wipo.tsv.zip'\n",
    "dst= 'data/wipo.csv.gz'"
   ]
  },
  {
   "cell_type": "code",
   "execution_count": 5,
   "metadata": {
    "collapsed": false
   },
   "outputs": [],
   "source": [
    "# \n",
    "zf = zip.ZipFile(wipo)\n",
    "df=pd.read_csv(zf.open('wipo.tsv'), sep='\\t', dtype='object')\n",
    "\n",
    "# sample_size=1000\n",
    "# wipo_df=sampler(wipo, sample_size, sep='\\t')\n"
   ]
  },
  {
   "cell_type": "code",
   "execution_count": 6,
   "metadata": {
    "collapsed": true
   },
   "outputs": [],
   "source": [
    "# # # Keep this for reference!\n",
    "# # # As of Dec 31st, 2019, I compared the clean to the raw version of citation and patent ids\n",
    "\n",
    "# # #stripping non-desired characters but keeping the originals for later check - only three changes in citation_id\n",
    "\n",
    "# wipo_df['patent_id_raw']=wipo_df['patent_id']\n",
    "\n",
    "# cleaning_patent=lambda x:re.sub('([^a-zA-Z0-9]+)', \"\", x)\n",
    "# wipo_df['patent_id']=wipo_df['patent_id'].apply(cleaning_patent)"
   ]
  },
  {
   "cell_type": "code",
   "execution_count": 7,
   "metadata": {
    "collapsed": true
   },
   "outputs": [],
   "source": [
    "#first, construct a table with wipo categories in columns, patent level\n",
    "#second, "
   ]
  },
  {
   "cell_type": "code",
   "execution_count": 8,
   "metadata": {
    "collapsed": false
   },
   "outputs": [
    {
     "data": {
      "text/plain": [
       "patent_id    object\n",
       "field_id     object\n",
       "sequence     object\n",
       "dtype: object"
      ]
     },
     "execution_count": 8,
     "metadata": {},
     "output_type": "execute_result"
    }
   ],
   "source": [
    "df.dtypes"
   ]
  },
  {
   "cell_type": "code",
   "execution_count": 9,
   "metadata": {
    "collapsed": false
   },
   "outputs": [
    {
     "data": {
      "text/plain": [
       "sequence\n",
       "0     6621121\n",
       "1     2327069\n",
       "10         99\n",
       "11         29\n",
       "12         29\n",
       "13         12\n",
       "2      538030\n",
       "3      100190\n",
       "4       23296\n",
       "5        7019\n",
       "6        2458\n",
       "7        1072\n",
       "8         568\n",
       "9         189\n",
       "Name: patent_id, dtype: int64"
      ]
     },
     "execution_count": 9,
     "metadata": {},
     "output_type": "execute_result"
    }
   ],
   "source": [
    "df.groupby('sequence').patent_id.count()"
   ]
  },
  {
   "cell_type": "code",
   "execution_count": 10,
   "metadata": {
    "collapsed": true
   },
   "outputs": [],
   "source": [
    "df=df[df['sequence']=='0'][['patent_id', 'field_id']]"
   ]
  },
  {
   "cell_type": "code",
   "execution_count": 11,
   "metadata": {
    "collapsed": true
   },
   "outputs": [
    {
     "data": {
      "text/plain": [
       "6     638304\n",
       "1     418077\n",
       "4     383488\n",
       "8     345538\n",
       "13    343519\n",
       "10    311254\n",
       "2     306873\n",
       "9     303326\n",
       "32    280837\n",
       "14    232097\n",
       "3     212336\n",
       "29    196280\n",
       "27    182079\n",
       "35    180483\n",
       "31    179551\n",
       "33    164276\n",
       "25    158447\n",
       "26    152378\n",
       "23    148259\n",
       "15    143380\n",
       "28    134509\n",
       "19    127759\n",
       "17    122867\n",
       "5     121538\n",
       "34    119647\n",
       "12    114692\n",
       "16    107835\n",
       "20    102223\n",
       "21     92238\n",
       "7      80339\n",
       "30     65434\n",
       "24     63926\n",
       "18     43020\n",
       "11     30087\n",
       "22     14225\n",
       "Name: field_id, dtype: int64"
      ]
     },
     "execution_count": 11,
     "metadata": {},
     "output_type": "execute_result"
    }
   ],
   "source": [
    "df.field_id.value_counts()"
   ]
  },
  {
   "cell_type": "code",
   "execution_count": 12,
   "metadata": {
    "collapsed": true
   },
   "outputs": [],
   "source": [
    "df=df.add_prefix('wipo_')"
   ]
  },
  {
   "cell_type": "code",
   "execution_count": 13,
   "metadata": {
    "collapsed": true
   },
   "outputs": [],
   "source": [
    "df['wipo_field_id']=df['wipo_field_id'].apply('{:0>2}'.format)"
   ]
  },
  {
   "cell_type": "code",
   "execution_count": 14,
   "metadata": {
    "collapsed": true
   },
   "outputs": [],
   "source": [
    "df.rename(columns={ df.columns[0]: \"id\" }, inplace = True)"
   ]
  },
  {
   "cell_type": "code",
   "execution_count": 15,
   "metadata": {
    "collapsed": false
   },
   "outputs": [
    {
     "data": {
      "text/html": [
       "<div>\n",
       "<table border=\"1\" class=\"dataframe\">\n",
       "  <thead>\n",
       "    <tr style=\"text-align: right;\">\n",
       "      <th></th>\n",
       "      <th>id</th>\n",
       "      <th>wipo_field_id</th>\n",
       "    </tr>\n",
       "  </thead>\n",
       "  <tbody>\n",
       "    <tr>\n",
       "      <th>0</th>\n",
       "      <td>10000000</td>\n",
       "      <td>10</td>\n",
       "    </tr>\n",
       "    <tr>\n",
       "      <th>1</th>\n",
       "      <td>10000001</td>\n",
       "      <td>29</td>\n",
       "    </tr>\n",
       "    <tr>\n",
       "      <th>3</th>\n",
       "      <td>10000002</td>\n",
       "      <td>21</td>\n",
       "    </tr>\n",
       "    <tr>\n",
       "      <th>6</th>\n",
       "      <td>10000003</td>\n",
       "      <td>29</td>\n",
       "    </tr>\n",
       "    <tr>\n",
       "      <th>7</th>\n",
       "      <td>10000004</td>\n",
       "      <td>29</td>\n",
       "    </tr>\n",
       "  </tbody>\n",
       "</table>\n",
       "</div>"
      ],
      "text/plain": [
       "         id wipo_field_id\n",
       "0  10000000            10\n",
       "1  10000001            29\n",
       "3  10000002            21\n",
       "6  10000003            29\n",
       "7  10000004            29"
      ]
     },
     "execution_count": 15,
     "metadata": {},
     "output_type": "execute_result"
    }
   ],
   "source": [
    "df.head()"
   ]
  },
  {
   "cell_type": "code",
   "execution_count": 16,
   "metadata": {
    "collapsed": true
   },
   "outputs": [],
   "source": [
    "class_system='wipo_field_id'\n",
    "\n",
    "file_classes=gzip.open('data/classes.csv.gz', 'r')\n",
    "df_classes=pd.read_csv(file_classes)\n",
    "\n",
    "df_classes.rename(columns={'id': 'class_id'}, inplace=True)\n",
    "df_classes=df_classes[df_classes['system']==class_system]\n",
    "\n",
    "df_classes['class_id']=df_classes['class_id'].apply('{:0>2}'.format)\n",
    "# df_classes=df_classes.reset_index()\n",
    "\n",
    "df=df.merge(df_classes, left_on='wipo_field_id', right_on='class_id')\n",
    "\n",
    "\n",
    "# rank=df.reset_index().groupby(class_system).count()['id'].reset_index()\n",
    "# rank.rename(columns={class_system: 'id', 'id':class_system}, inplace=True)\n",
    "\n",
    "# df_classes=df_classes[df_classes['system']==class_system]\n",
    "\n",
    "# rank=rank.merge(df_classes, left_on='id', right_on='id')\n",
    "# display.display(rank.groupby('sector_title').sum().sort_values(by=class_system, ascending=False))"
   ]
  },
  {
   "cell_type": "code",
   "execution_count": 17,
   "metadata": {
    "collapsed": false
   },
   "outputs": [],
   "source": [
    "sector_id=df_classes.groupby('sector_title').count().reset_index().iloc[:,:1].reset_index()"
   ]
  },
  {
   "cell_type": "code",
   "execution_count": 18,
   "metadata": {
    "collapsed": false
   },
   "outputs": [
    {
     "data": {
      "text/html": [
       "<div>\n",
       "<table border=\"1\" class=\"dataframe\">\n",
       "  <thead>\n",
       "    <tr style=\"text-align: right;\">\n",
       "      <th></th>\n",
       "      <th>id</th>\n",
       "      <th>wipo_field_id</th>\n",
       "      <th>system</th>\n",
       "      <th>class_id</th>\n",
       "      <th>sector_title</th>\n",
       "      <th>field_title</th>\n",
       "    </tr>\n",
       "  </thead>\n",
       "  <tbody>\n",
       "    <tr>\n",
       "      <th>0</th>\n",
       "      <td>10000000</td>\n",
       "      <td>10</td>\n",
       "      <td>wipo_field_id</td>\n",
       "      <td>10</td>\n",
       "      <td>Instruments</td>\n",
       "      <td>Measurement</td>\n",
       "    </tr>\n",
       "    <tr>\n",
       "      <th>1</th>\n",
       "      <td>10000259</td>\n",
       "      <td>10</td>\n",
       "      <td>wipo_field_id</td>\n",
       "      <td>10</td>\n",
       "      <td>Instruments</td>\n",
       "      <td>Measurement</td>\n",
       "    </tr>\n",
       "    <tr>\n",
       "      <th>2</th>\n",
       "      <td>10000786</td>\n",
       "      <td>10</td>\n",
       "      <td>wipo_field_id</td>\n",
       "      <td>10</td>\n",
       "      <td>Instruments</td>\n",
       "      <td>Measurement</td>\n",
       "    </tr>\n",
       "    <tr>\n",
       "      <th>3</th>\n",
       "      <td>10000789</td>\n",
       "      <td>10</td>\n",
       "      <td>wipo_field_id</td>\n",
       "      <td>10</td>\n",
       "      <td>Instruments</td>\n",
       "      <td>Measurement</td>\n",
       "    </tr>\n",
       "    <tr>\n",
       "      <th>4</th>\n",
       "      <td>10000793</td>\n",
       "      <td>10</td>\n",
       "      <td>wipo_field_id</td>\n",
       "      <td>10</td>\n",
       "      <td>Instruments</td>\n",
       "      <td>Measurement</td>\n",
       "    </tr>\n",
       "  </tbody>\n",
       "</table>\n",
       "</div>"
      ],
      "text/plain": [
       "         id wipo_field_id         system class_id sector_title  field_title\n",
       "0  10000000            10  wipo_field_id       10  Instruments  Measurement\n",
       "1  10000259            10  wipo_field_id       10  Instruments  Measurement\n",
       "2  10000786            10  wipo_field_id       10  Instruments  Measurement\n",
       "3  10000789            10  wipo_field_id       10  Instruments  Measurement\n",
       "4  10000793            10  wipo_field_id       10  Instruments  Measurement"
      ]
     },
     "execution_count": 18,
     "metadata": {},
     "output_type": "execute_result"
    }
   ],
   "source": [
    "df.head()"
   ]
  },
  {
   "cell_type": "code",
   "execution_count": 19,
   "metadata": {
    "collapsed": false
   },
   "outputs": [
    {
     "data": {
      "text/html": [
       "<div>\n",
       "<table border=\"1\" class=\"dataframe\">\n",
       "  <thead>\n",
       "    <tr style=\"text-align: right;\">\n",
       "      <th></th>\n",
       "      <th>index</th>\n",
       "      <th>sector_title</th>\n",
       "    </tr>\n",
       "  </thead>\n",
       "  <tbody>\n",
       "    <tr>\n",
       "      <th>0</th>\n",
       "      <td>0</td>\n",
       "      <td>Chemistry</td>\n",
       "    </tr>\n",
       "    <tr>\n",
       "      <th>1</th>\n",
       "      <td>1</td>\n",
       "      <td>Electrical Eng</td>\n",
       "    </tr>\n",
       "    <tr>\n",
       "      <th>2</th>\n",
       "      <td>2</td>\n",
       "      <td>Instruments</td>\n",
       "    </tr>\n",
       "    <tr>\n",
       "      <th>3</th>\n",
       "      <td>3</td>\n",
       "      <td>Mechanical Eng</td>\n",
       "    </tr>\n",
       "    <tr>\n",
       "      <th>4</th>\n",
       "      <td>4</td>\n",
       "      <td>Other fields</td>\n",
       "    </tr>\n",
       "    <tr>\n",
       "      <th>5</th>\n",
       "      <td>5</td>\n",
       "      <td>Plant</td>\n",
       "    </tr>\n",
       "  </tbody>\n",
       "</table>\n",
       "</div>"
      ],
      "text/plain": [
       "   index    sector_title\n",
       "0      0       Chemistry\n",
       "1      1  Electrical Eng\n",
       "2      2     Instruments\n",
       "3      3  Mechanical Eng\n",
       "4      4    Other fields\n",
       "5      5           Plant"
      ]
     },
     "execution_count": 19,
     "metadata": {},
     "output_type": "execute_result"
    }
   ],
   "source": [
    "sector_id"
   ]
  },
  {
   "cell_type": "code",
   "execution_count": 20,
   "metadata": {
    "collapsed": false
   },
   "outputs": [],
   "source": [
    "df=df.merge(sector_id, left_on='sector_title', right_on='sector_title')"
   ]
  },
  {
   "cell_type": "code",
   "execution_count": 21,
   "metadata": {
    "collapsed": false
   },
   "outputs": [],
   "source": [
    "df=df[['id','index', 'wipo_field_id']]"
   ]
  },
  {
   "cell_type": "code",
   "execution_count": 22,
   "metadata": {
    "collapsed": true
   },
   "outputs": [],
   "source": [
    "df.rename(columns={'index': 'wipo_sector_id'}, inplace=True)"
   ]
  },
  {
   "cell_type": "code",
   "execution_count": 23,
   "metadata": {
    "collapsed": true
   },
   "outputs": [],
   "source": [
    "#df_classes['wipo_field_id']=df_classes['wipo_field_id'].apply('{:0>2}'.format)\n"
   ]
  },
  {
   "cell_type": "code",
   "execution_count": 24,
   "metadata": {
    "collapsed": false
   },
   "outputs": [
    {
     "data": {
      "text/html": [
       "<div>\n",
       "<table border=\"1\" class=\"dataframe\">\n",
       "  <thead>\n",
       "    <tr style=\"text-align: right;\">\n",
       "      <th></th>\n",
       "      <th>id</th>\n",
       "      <th>wipo_sector_id</th>\n",
       "      <th>wipo_field_id</th>\n",
       "    </tr>\n",
       "  </thead>\n",
       "  <tbody>\n",
       "    <tr>\n",
       "      <th>0</th>\n",
       "      <td>10000000</td>\n",
       "      <td>2</td>\n",
       "      <td>10</td>\n",
       "    </tr>\n",
       "    <tr>\n",
       "      <th>1</th>\n",
       "      <td>10000259</td>\n",
       "      <td>2</td>\n",
       "      <td>10</td>\n",
       "    </tr>\n",
       "    <tr>\n",
       "      <th>2</th>\n",
       "      <td>10000786</td>\n",
       "      <td>2</td>\n",
       "      <td>10</td>\n",
       "    </tr>\n",
       "    <tr>\n",
       "      <th>3</th>\n",
       "      <td>10000789</td>\n",
       "      <td>2</td>\n",
       "      <td>10</td>\n",
       "    </tr>\n",
       "    <tr>\n",
       "      <th>4</th>\n",
       "      <td>10000793</td>\n",
       "      <td>2</td>\n",
       "      <td>10</td>\n",
       "    </tr>\n",
       "  </tbody>\n",
       "</table>\n",
       "</div>"
      ],
      "text/plain": [
       "         id  wipo_sector_id wipo_field_id\n",
       "0  10000000               2            10\n",
       "1  10000259               2            10\n",
       "2  10000786               2            10\n",
       "3  10000789               2            10\n",
       "4  10000793               2            10"
      ]
     },
     "execution_count": 24,
     "metadata": {},
     "output_type": "execute_result"
    }
   ],
   "source": [
    "df.head()"
   ]
  },
  {
   "cell_type": "code",
   "execution_count": 25,
   "metadata": {
    "collapsed": true
   },
   "outputs": [],
   "source": [
    "df.set_index('id').to_csv(dst, compression='gzip')"
   ]
  }
 ],
 "metadata": {
  "anaconda-cloud": {},
  "kernelspec": {
   "display_name": "Python [default]",
   "language": "python",
   "name": "python3"
  },
  "language_info": {
   "codemirror_mode": {
    "name": "ipython",
    "version": 3
   },
   "file_extension": ".py",
   "mimetype": "text/x-python",
   "name": "python",
   "nbconvert_exporter": "python",
   "pygments_lexer": "ipython3",
   "version": "3.5.2"
  }
 },
 "nbformat": 4,
 "nbformat_minor": 1
}
