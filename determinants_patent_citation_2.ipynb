{
 "cells": [
  {
   "cell_type": "code",
   "execution_count": 1,
   "metadata": {
    "collapsed": false
   },
   "outputs": [],
   "source": [
    "#Script para identificar determinantes de citações na base USPTO\n",
    "#Renato Kogeyama\n",
    "\n",
    "#09-15-2019\n",
    "#O naive bayes tem algum problema com distribuicoes desbalanceadas\n",
    "#o scikit learn tem um modulo que corrige count distributions com muitos zeros, o complementNB\n",
    "#porem este nao esta disponivel na atual versao disponibilizada no HPC da FIU\n",
    "\n",
    "#09-10-2019\n",
    "#o trabalho pede uma abordagem mais sistematica e cuidadosa\n",
    "#estou agrupando o codigo antigo comentado e vou comecar um novo codigo\n",
    "\n",
    "#09-17-2018\n",
    "\n",
    "#Alto uso de memoria - rodar no Amazon AWS \n",
    "#Notebook 2"
   ]
  },
  {
   "cell_type": "code",
   "execution_count": 2,
   "metadata": {
    "collapsed": true
   },
   "outputs": [],
   "source": [
    "import pandas as pd\n",
    "import numpy as np\n",
    "\n",
    "from sklearn import linear_model\n",
    "from sklearn import naive_bayes\n",
    "from sklearn.neighbors import KNeighborsClassifier\n",
    "from sklearn.model_selection import train_test_split\n",
    "import matplotlib.pyplot as plot\n",
    "from sklearn.metrics import roc_curve, auc\n",
    "from scipy import stats\n",
    "import datetime"
   ]
  },
  {
   "cell_type": "code",
   "execution_count": 3,
   "metadata": {
    "collapsed": false
   },
   "outputs": [
    {
     "name": "stderr",
     "output_type": "stream",
     "text": [
      "/home/applications/anaconda3/4.2.0/lib/python3.5/site-packages/IPython/core/interactiveshell.py:2717: DtypeWarning: Columns (0,2) have mixed types. Specify dtype option on import or set low_memory=False.\n",
      "  interactivity=interactivity, compiler=compiler, result=result)\n"
     ]
    },
    {
     "data": {
      "text/plain": [
       "id             False\n",
       "type           False\n",
       "number         False\n",
       "country        False\n",
       "date           False\n",
       "abstract       False\n",
       "title          False\n",
       "kind           False\n",
       "num_claims     False\n",
       "filename       False\n",
       "citation_id    False\n",
       "year           False\n",
       "month          False\n",
       "day            False\n",
       "dtype: bool"
      ]
     },
     "execution_count": 3,
     "metadata": {},
     "output_type": "execute_result"
    }
   ],
   "source": [
    "# Read the file\n",
    "# df=pd.read_table(r'/home/rkogeyam/PATENT_CITATION/df_w_pat_cit.csv', sep=',')\n",
    "\n",
    "# o arquivo gerado em 190926 categoriza as variaveis type e kind, alem de trazer a data ja separada em dia, mes e ano\n",
    "df=pd.read_csv(r'/home/rkogeyam/PATENT_CITATION/df_w_pat_cit_190926.csv', sep=',')\n",
    "\n",
    "# Identify null variables\n",
    "pd.isnull(df).sum() > 0"
   ]
  },
  {
   "cell_type": "code",
   "execution_count": 4,
   "metadata": {
    "collapsed": false
   },
   "outputs": [
    {
     "data": {
      "text/html": [
       "<div>\n",
       "<table border=\"1\" class=\"dataframe\">\n",
       "  <thead>\n",
       "    <tr style=\"text-align: right;\">\n",
       "      <th></th>\n",
       "      <th>num_claims</th>\n",
       "      <th>citation_id</th>\n",
       "      <th>year</th>\n",
       "      <th>month</th>\n",
       "      <th>day</th>\n",
       "      <th>citation_bi</th>\n",
       "      <th>type_TVPP</th>\n",
       "      <th>type_design</th>\n",
       "      <th>type_plant</th>\n",
       "      <th>type_reissue</th>\n",
       "      <th>...</th>\n",
       "      <th>kind_E</th>\n",
       "      <th>kind_E1</th>\n",
       "      <th>kind_H</th>\n",
       "      <th>kind_H1</th>\n",
       "      <th>kind_I5</th>\n",
       "      <th>kind_P</th>\n",
       "      <th>kind_P2</th>\n",
       "      <th>kind_P3</th>\n",
       "      <th>kind_S</th>\n",
       "      <th>country_US</th>\n",
       "    </tr>\n",
       "  </thead>\n",
       "  <tbody>\n",
       "    <tr>\n",
       "      <th>count</th>\n",
       "      <td>5.896209e+06</td>\n",
       "      <td>5.896209e+06</td>\n",
       "      <td>5.896209e+06</td>\n",
       "      <td>5.896209e+06</td>\n",
       "      <td>5.896209e+06</td>\n",
       "      <td>5.896209e+06</td>\n",
       "      <td>5.896209e+06</td>\n",
       "      <td>5.896209e+06</td>\n",
       "      <td>5.896209e+06</td>\n",
       "      <td>5.896209e+06</td>\n",
       "      <td>...</td>\n",
       "      <td>5.896209e+06</td>\n",
       "      <td>5.896209e+06</td>\n",
       "      <td>5.896209e+06</td>\n",
       "      <td>5.896209e+06</td>\n",
       "      <td>5.896209e+06</td>\n",
       "      <td>5.896209e+06</td>\n",
       "      <td>5.896209e+06</td>\n",
       "      <td>5.896209e+06</td>\n",
       "      <td>5.896209e+06</td>\n",
       "      <td>5896209.0</td>\n",
       "    </tr>\n",
       "    <tr>\n",
       "      <th>mean</th>\n",
       "      <td>1.539996e+01</td>\n",
       "      <td>3.124626e-01</td>\n",
       "      <td>2.002593e+03</td>\n",
       "      <td>6.588925e+00</td>\n",
       "      <td>1.563289e+01</td>\n",
       "      <td>2.163119e-02</td>\n",
       "      <td>5.088015e-07</td>\n",
       "      <td>3.731211e-06</td>\n",
       "      <td>4.161318e-03</td>\n",
       "      <td>2.948166e-03</td>\n",
       "      <td>...</td>\n",
       "      <td>1.472811e-03</td>\n",
       "      <td>1.475355e-03</td>\n",
       "      <td>3.358090e-04</td>\n",
       "      <td>4.477453e-05</td>\n",
       "      <td>5.088015e-07</td>\n",
       "      <td>1.404631e-03</td>\n",
       "      <td>1.909871e-03</td>\n",
       "      <td>8.468153e-04</td>\n",
       "      <td>3.731211e-06</td>\n",
       "      <td>1.0</td>\n",
       "    </tr>\n",
       "    <tr>\n",
       "      <th>std</th>\n",
       "      <td>1.182266e+01</td>\n",
       "      <td>5.538106e+00</td>\n",
       "      <td>1.142401e+01</td>\n",
       "      <td>3.400621e+00</td>\n",
       "      <td>8.826776e+00</td>\n",
       "      <td>1.454761e-01</td>\n",
       "      <td>7.133031e-04</td>\n",
       "      <td>1.931631e-03</td>\n",
       "      <td>6.437392e-02</td>\n",
       "      <td>5.421692e-02</td>\n",
       "      <td>...</td>\n",
       "      <td>3.834895e-02</td>\n",
       "      <td>3.838201e-02</td>\n",
       "      <td>1.832202e-02</td>\n",
       "      <td>6.691228e-03</td>\n",
       "      <td>7.133031e-04</td>\n",
       "      <td>3.745208e-02</td>\n",
       "      <td>4.366032e-02</td>\n",
       "      <td>2.908777e-02</td>\n",
       "      <td>1.931631e-03</td>\n",
       "      <td>0.0</td>\n",
       "    </tr>\n",
       "    <tr>\n",
       "      <th>min</th>\n",
       "      <td>0.000000e+00</td>\n",
       "      <td>0.000000e+00</td>\n",
       "      <td>1.976000e+03</td>\n",
       "      <td>1.000000e+00</td>\n",
       "      <td>1.000000e+00</td>\n",
       "      <td>0.000000e+00</td>\n",
       "      <td>0.000000e+00</td>\n",
       "      <td>0.000000e+00</td>\n",
       "      <td>0.000000e+00</td>\n",
       "      <td>0.000000e+00</td>\n",
       "      <td>...</td>\n",
       "      <td>0.000000e+00</td>\n",
       "      <td>0.000000e+00</td>\n",
       "      <td>0.000000e+00</td>\n",
       "      <td>0.000000e+00</td>\n",
       "      <td>0.000000e+00</td>\n",
       "      <td>0.000000e+00</td>\n",
       "      <td>0.000000e+00</td>\n",
       "      <td>0.000000e+00</td>\n",
       "      <td>0.000000e+00</td>\n",
       "      <td>1.0</td>\n",
       "    </tr>\n",
       "    <tr>\n",
       "      <th>25%</th>\n",
       "      <td>8.000000e+00</td>\n",
       "      <td>0.000000e+00</td>\n",
       "      <td>1.995000e+03</td>\n",
       "      <td>4.000000e+00</td>\n",
       "      <td>8.000000e+00</td>\n",
       "      <td>0.000000e+00</td>\n",
       "      <td>0.000000e+00</td>\n",
       "      <td>0.000000e+00</td>\n",
       "      <td>0.000000e+00</td>\n",
       "      <td>0.000000e+00</td>\n",
       "      <td>...</td>\n",
       "      <td>0.000000e+00</td>\n",
       "      <td>0.000000e+00</td>\n",
       "      <td>0.000000e+00</td>\n",
       "      <td>0.000000e+00</td>\n",
       "      <td>0.000000e+00</td>\n",
       "      <td>0.000000e+00</td>\n",
       "      <td>0.000000e+00</td>\n",
       "      <td>0.000000e+00</td>\n",
       "      <td>0.000000e+00</td>\n",
       "      <td>1.0</td>\n",
       "    </tr>\n",
       "    <tr>\n",
       "      <th>50%</th>\n",
       "      <td>1.400000e+01</td>\n",
       "      <td>0.000000e+00</td>\n",
       "      <td>2.005000e+03</td>\n",
       "      <td>7.000000e+00</td>\n",
       "      <td>1.600000e+01</td>\n",
       "      <td>0.000000e+00</td>\n",
       "      <td>0.000000e+00</td>\n",
       "      <td>0.000000e+00</td>\n",
       "      <td>0.000000e+00</td>\n",
       "      <td>0.000000e+00</td>\n",
       "      <td>...</td>\n",
       "      <td>0.000000e+00</td>\n",
       "      <td>0.000000e+00</td>\n",
       "      <td>0.000000e+00</td>\n",
       "      <td>0.000000e+00</td>\n",
       "      <td>0.000000e+00</td>\n",
       "      <td>0.000000e+00</td>\n",
       "      <td>0.000000e+00</td>\n",
       "      <td>0.000000e+00</td>\n",
       "      <td>0.000000e+00</td>\n",
       "      <td>1.0</td>\n",
       "    </tr>\n",
       "    <tr>\n",
       "      <th>75%</th>\n",
       "      <td>2.000000e+01</td>\n",
       "      <td>0.000000e+00</td>\n",
       "      <td>2.013000e+03</td>\n",
       "      <td>1.000000e+01</td>\n",
       "      <td>2.300000e+01</td>\n",
       "      <td>0.000000e+00</td>\n",
       "      <td>0.000000e+00</td>\n",
       "      <td>0.000000e+00</td>\n",
       "      <td>0.000000e+00</td>\n",
       "      <td>0.000000e+00</td>\n",
       "      <td>...</td>\n",
       "      <td>0.000000e+00</td>\n",
       "      <td>0.000000e+00</td>\n",
       "      <td>0.000000e+00</td>\n",
       "      <td>0.000000e+00</td>\n",
       "      <td>0.000000e+00</td>\n",
       "      <td>0.000000e+00</td>\n",
       "      <td>0.000000e+00</td>\n",
       "      <td>0.000000e+00</td>\n",
       "      <td>0.000000e+00</td>\n",
       "      <td>1.0</td>\n",
       "    </tr>\n",
       "    <tr>\n",
       "      <th>max</th>\n",
       "      <td>8.870000e+02</td>\n",
       "      <td>2.592000e+03</td>\n",
       "      <td>2.017000e+03</td>\n",
       "      <td>1.200000e+01</td>\n",
       "      <td>3.100000e+01</td>\n",
       "      <td>1.000000e+00</td>\n",
       "      <td>1.000000e+00</td>\n",
       "      <td>1.000000e+00</td>\n",
       "      <td>1.000000e+00</td>\n",
       "      <td>1.000000e+00</td>\n",
       "      <td>...</td>\n",
       "      <td>1.000000e+00</td>\n",
       "      <td>1.000000e+00</td>\n",
       "      <td>1.000000e+00</td>\n",
       "      <td>1.000000e+00</td>\n",
       "      <td>1.000000e+00</td>\n",
       "      <td>1.000000e+00</td>\n",
       "      <td>1.000000e+00</td>\n",
       "      <td>1.000000e+00</td>\n",
       "      <td>1.000000e+00</td>\n",
       "      <td>1.0</td>\n",
       "    </tr>\n",
       "  </tbody>\n",
       "</table>\n",
       "<p>8 rows × 25 columns</p>\n",
       "</div>"
      ],
      "text/plain": [
       "         num_claims   citation_id          year         month           day  \\\n",
       "count  5.896209e+06  5.896209e+06  5.896209e+06  5.896209e+06  5.896209e+06   \n",
       "mean   1.539996e+01  3.124626e-01  2.002593e+03  6.588925e+00  1.563289e+01   \n",
       "std    1.182266e+01  5.538106e+00  1.142401e+01  3.400621e+00  8.826776e+00   \n",
       "min    0.000000e+00  0.000000e+00  1.976000e+03  1.000000e+00  1.000000e+00   \n",
       "25%    8.000000e+00  0.000000e+00  1.995000e+03  4.000000e+00  8.000000e+00   \n",
       "50%    1.400000e+01  0.000000e+00  2.005000e+03  7.000000e+00  1.600000e+01   \n",
       "75%    2.000000e+01  0.000000e+00  2.013000e+03  1.000000e+01  2.300000e+01   \n",
       "max    8.870000e+02  2.592000e+03  2.017000e+03  1.200000e+01  3.100000e+01   \n",
       "\n",
       "        citation_bi     type_TVPP   type_design    type_plant  type_reissue  \\\n",
       "count  5.896209e+06  5.896209e+06  5.896209e+06  5.896209e+06  5.896209e+06   \n",
       "mean   2.163119e-02  5.088015e-07  3.731211e-06  4.161318e-03  2.948166e-03   \n",
       "std    1.454761e-01  7.133031e-04  1.931631e-03  6.437392e-02  5.421692e-02   \n",
       "min    0.000000e+00  0.000000e+00  0.000000e+00  0.000000e+00  0.000000e+00   \n",
       "25%    0.000000e+00  0.000000e+00  0.000000e+00  0.000000e+00  0.000000e+00   \n",
       "50%    0.000000e+00  0.000000e+00  0.000000e+00  0.000000e+00  0.000000e+00   \n",
       "75%    0.000000e+00  0.000000e+00  0.000000e+00  0.000000e+00  0.000000e+00   \n",
       "max    1.000000e+00  1.000000e+00  1.000000e+00  1.000000e+00  1.000000e+00   \n",
       "\n",
       "          ...            kind_E       kind_E1        kind_H       kind_H1  \\\n",
       "count     ...      5.896209e+06  5.896209e+06  5.896209e+06  5.896209e+06   \n",
       "mean      ...      1.472811e-03  1.475355e-03  3.358090e-04  4.477453e-05   \n",
       "std       ...      3.834895e-02  3.838201e-02  1.832202e-02  6.691228e-03   \n",
       "min       ...      0.000000e+00  0.000000e+00  0.000000e+00  0.000000e+00   \n",
       "25%       ...      0.000000e+00  0.000000e+00  0.000000e+00  0.000000e+00   \n",
       "50%       ...      0.000000e+00  0.000000e+00  0.000000e+00  0.000000e+00   \n",
       "75%       ...      0.000000e+00  0.000000e+00  0.000000e+00  0.000000e+00   \n",
       "max       ...      1.000000e+00  1.000000e+00  1.000000e+00  1.000000e+00   \n",
       "\n",
       "            kind_I5        kind_P       kind_P2       kind_P3        kind_S  \\\n",
       "count  5.896209e+06  5.896209e+06  5.896209e+06  5.896209e+06  5.896209e+06   \n",
       "mean   5.088015e-07  1.404631e-03  1.909871e-03  8.468153e-04  3.731211e-06   \n",
       "std    7.133031e-04  3.745208e-02  4.366032e-02  2.908777e-02  1.931631e-03   \n",
       "min    0.000000e+00  0.000000e+00  0.000000e+00  0.000000e+00  0.000000e+00   \n",
       "25%    0.000000e+00  0.000000e+00  0.000000e+00  0.000000e+00  0.000000e+00   \n",
       "50%    0.000000e+00  0.000000e+00  0.000000e+00  0.000000e+00  0.000000e+00   \n",
       "75%    0.000000e+00  0.000000e+00  0.000000e+00  0.000000e+00  0.000000e+00   \n",
       "max    1.000000e+00  1.000000e+00  1.000000e+00  1.000000e+00  1.000000e+00   \n",
       "\n",
       "       country_US  \n",
       "count   5896209.0  \n",
       "mean          1.0  \n",
       "std           0.0  \n",
       "min           1.0  \n",
       "25%           1.0  \n",
       "50%           1.0  \n",
       "75%           1.0  \n",
       "max           1.0  \n",
       "\n",
       "[8 rows x 25 columns]"
      ]
     },
     "execution_count": 4,
     "metadata": {},
     "output_type": "execute_result"
    }
   ],
   "source": [
    "# Generate a binary output for simpler tests\n",
    "df['citation_bi']=0\n",
    "df.loc[df.citation_id>0, 'citation_bi']=1\n",
    "\n",
    "# Convert categorical to binary\n",
    "df=pd.get_dummies(df, columns=['type', 'kind', 'country'])\n",
    "\n",
    "df.describe()"
   ]
  },
  {
   "cell_type": "code",
   "execution_count": 5,
   "metadata": {
    "collapsed": false
   },
   "outputs": [],
   "source": [
    "# df.columns.values"
   ]
  },
  {
   "cell_type": "code",
   "execution_count": 6,
   "metadata": {
    "collapsed": false
   },
   "outputs": [
    {
     "data": {
      "text/plain": [
       "(5896209, 31)"
      ]
     },
     "execution_count": 6,
     "metadata": {},
     "output_type": "execute_result"
    }
   ],
   "source": [
    "df.shape"
   ]
  },
  {
   "cell_type": "code",
   "execution_count": 7,
   "metadata": {
    "collapsed": false
   },
   "outputs": [
    {
     "data": {
      "text/plain": [
       "(105578, 31)"
      ]
     },
     "execution_count": 7,
     "metadata": {},
     "output_type": "execute_result"
    }
   ],
   "source": [
    "# data exploration\n",
    "\n",
    "# outcome: citation count or citation binary\n",
    "\n",
    "# a criacao de df2 era essencialmente para tornar a distribuicao visualizavel\n",
    "# ja nao eh mais necessaria\n",
    "\n",
    "# exclude zeroes and ones\n",
    "df2=df[df.citation_id>1]\n",
    "df2.shape"
   ]
  },
  {
   "cell_type": "code",
   "execution_count": 8,
   "metadata": {
    "collapsed": false
   },
   "outputs": [],
   "source": [
    "%matplotlib inline"
   ]
  },
  {
   "cell_type": "code",
   "execution_count": 9,
   "metadata": {
    "collapsed": false
   },
   "outputs": [
    {
     "name": "stdout",
     "output_type": "stream",
     "text": [
      "df3.shape\n",
      "(5896209, 25)\n"
     ]
    }
   ],
   "source": [
    "# drop outliers \n",
    "\n",
    "df3=df._get_numeric_data()\n",
    "\n",
    "print(\"df3.shape\")\n",
    "print(df3.shape)\n",
    "\n",
    "mean=df3.mean(axis=0)\n",
    "std_dev=df3.std(axis=0)\n",
    "\n",
    "threshold=3*std_dev\n",
    "\n",
    "df3=df3[df3.citation_id-mean.citation_id<threshold.citation_id]\n",
    "df3=df3[df3.num_claims-mean.num_claims<threshold.num_claims]"
   ]
  },
  {
   "cell_type": "code",
   "execution_count": 10,
   "metadata": {
    "collapsed": false
   },
   "outputs": [
    {
     "data": {
      "image/png": "[encoded data removed]",
      "text/plain": [
       "<matplotlib.figure.Figure at 0x7fcd32aa7be0>"
      ]
     },
     "metadata": {},
     "output_type": "display_data"
    }
   ],
   "source": [
    "plot.subplot(1, 3, 1)\n",
    "plot.title('# of citations \\n with outliers')\n",
    "plot.xlabel('citations') \n",
    "plot.ylabel('claims') \n",
    "plot.scatter(df2['citation_id'], df2['num_claims'], s=12)\n",
    "\n",
    "plot.subplot(1, 3, 2)\n",
    "plot.title('# of citations \\n no outliers')\n",
    "plot.xlabel('citations') \n",
    "plot.ylabel('claims') \n",
    "plot.scatter(df3['citation_id'], df3['num_claims'], s=1)\n",
    "\n",
    "plot.subplot(1, 3, 3)\n",
    "plot.title('# of citations \\n no outliers')\n",
    "df3.citation_id.hist()\n",
    "\n",
    "plot.tight_layout() #diminui o overlap entre os graficos"
   ]
  },
  {
   "cell_type": "code",
   "execution_count": 11,
   "metadata": {
    "collapsed": false
   },
   "outputs": [
    {
     "name": "stdout",
     "output_type": "stream",
     "text": [
      "id | 105578 | object\n",
      "number | 105578 | object\n",
      "date | 2061 | object\n",
      "abstract | 104170 | object\n",
      "title | 100866 | object\n",
      "num_claims | 212 | float64\n",
      "filename | 2060 | object\n",
      "citation_id | 486 | float64\n",
      "year | 42 | int64\n",
      "month | 12 | int64\n",
      "day | 31 | int64\n",
      "citation_bi | 1 | int64\n",
      "type_TVPP | 1 | float64\n",
      "type_design | 2 | float64\n",
      "type_plant | 2 | float64\n",
      "type_reissue | 2 | float64\n",
      "type_statutory invention registration | 2 | float64\n",
      "type_utility | 2 | float64\n",
      "kind_A | 2 | float64\n",
      "kind_B1 | 2 | float64\n",
      "kind_B2 | 2 | float64\n",
      "kind_E | 2 | float64\n",
      "kind_E1 | 2 | float64\n",
      "kind_H | 1 | float64\n",
      "kind_H1 | 2 | float64\n",
      "kind_I5 | 1 | float64\n",
      "kind_P | 2 | float64\n",
      "kind_P2 | 2 | float64\n",
      "kind_P3 | 2 | float64\n",
      "kind_S | 2 | float64\n",
      "country_US | 1 | float64\n"
     ]
    }
   ],
   "source": [
    "# Check the Dataset\n",
    "def uniqueColValues(auxdf):\n",
    "    for column in auxdf:\n",
    "        print(\"{} | {} | {}\".format(\n",
    "            auxdf[column].name, len(auxdf[column].unique()), auxdf[column].dtype\n",
    "        ))\n",
    "        \n",
    "uniqueColValues(df2)"
   ]
  },
  {
   "cell_type": "code",
   "execution_count": 12,
   "metadata": {
    "collapsed": true
   },
   "outputs": [
    {
     "data": {
      "text/plain": [
       "Index(['id', 'number', 'date', 'abstract', 'title', 'num_claims', 'filename',\n",
       "       'citation_id', 'year', 'month', 'day', 'citation_bi', 'type_TVPP',\n",
       "       'type_design', 'type_plant', 'type_reissue',\n",
       "       'type_statutory invention registration', 'type_utility', 'kind_A',\n",
       "       'kind_B1', 'kind_B2', 'kind_E', 'kind_E1', 'kind_H', 'kind_H1',\n",
       "       'kind_I5', 'kind_P', 'kind_P2', 'kind_P3', 'kind_S', 'country_US'],\n",
       "      dtype='object')"
      ]
     },
     "execution_count": 12,
     "metadata": {},
     "output_type": "execute_result"
    }
   ],
   "source": [
    "df.columns"
   ]
  },
  {
   "cell_type": "code",
   "execution_count": 13,
   "metadata": {
    "collapsed": false
   },
   "outputs": [],
   "source": [
    "# # # Naive Bayes\n",
    "\n",
    "# chosenColumns = ['num_claims','year']\n",
    "\n",
    "# myX = df2.as_matrix(columns=chosenColumns)\n",
    "# # myY = df2.as_matrix(columns=['citation_id'])\n",
    "# myY = df2.as_matrix(columns=['citation_id'])\n",
    "\n",
    "# xTrain, xTest, yTrain, yTest = train_test_split(myX, myY, train_size=0.7, random_state=3)\n",
    "# testSize = yTest.shape[0]\n",
    "\n",
    "\n",
    "# # nb = naive_bayes.GaussianNB()\n",
    "\n",
    "# # dado que o output eh count, uma distribuicao multinomial se adapta melhor\n",
    "# nb = naive_bayes.MultinomialNB()\n",
    "\n",
    "# # complementNB adapta o MultinomialNB para datasets muito desbalanceados\n",
    "# # porem nao esta disponivel para a versao 0.19 do scikit-learn\n",
    "# # nb = naive_bayes.ComplementNB()\n",
    "\n",
    "# nb.fit(xTrain, yTrain.ravel())\n",
    "\n",
    "# yPredNB = nb.predict(xTest) # predicting test data\n",
    "\n",
    "# # computing error\n",
    "# errorNB = np.sum((yPredNB[i] != yTest[i]) for i in range(0, testSize))\n",
    "# errorNBPCT = int(100*errorNB/testSize)\n",
    "# hitRateNBPCT = 100 - errorNBPCT\n",
    "\n",
    "# print(\"----------Naive Bayes----------\")\n",
    "# print(int(errorNB), \"misclassified data out of\", testSize)\n",
    "# print(\"Error PCT: \",errorNBPCT,'%')\n",
    "# print(\"Hit Rate:  \",hitRateNBPCT,'%')"
   ]
  },
  {
   "cell_type": "code",
   "execution_count": 14,
   "metadata": {
    "collapsed": true
   },
   "outputs": [],
   "source": [
    "# # Naive Bayes\n",
    "def test_naive_bayes(dataset):\n",
    "\n",
    "    chosenColumns = ['num_claims','year', 'type_plant',\n",
    "           'type_reissue', 'type_statutory invention registration', 'type_utility',\n",
    "           'kind_A', 'kind_B1', 'kind_B2', 'kind_E', 'kind_E1', 'kind_H', 'kind_P',\n",
    "           'kind_P2', 'kind_P3']\n",
    "\n",
    "    myX = dataset.as_matrix(columns=chosenColumns)\n",
    "    # myY = df2.as_matrix(columns=['citation_id'])\n",
    "    myY = dataset.as_matrix(columns=['citation_id'])\n",
    "\n",
    "    xTrain, xTest, yTrain, yTest = train_test_split(myX, myY, train_size=0.7, random_state=3)\n",
    "    testSize = yTest.shape[0]\n",
    "\n",
    "\n",
    "    # nb = naive_bayes.GaussianNB()\n",
    "\n",
    "    # dado que o output eh count, uma distribuicao multinomial se adapta melhor\n",
    "    nb = naive_bayes.MultinomialNB()\n",
    "\n",
    "    # complementNB adapta o MultinomialNB para datasets muito desbalanceados\n",
    "    # porem nao esta disponivel para a versao 0.19 do scikit-learn\n",
    "    # nb = naive_bayes.ComplementNB()\n",
    "\n",
    "    nb.fit(xTrain, yTrain.ravel())\n",
    "\n",
    "    yPredNB = nb.predict(xTest) # predicting test data\n",
    "\n",
    "    # computing error\n",
    "    errorNB = np.sum((yPredNB[i] != yTest[i]) for i in range(0, testSize))\n",
    "    errorNBPCT = int(100*errorNB/testSize)\n",
    "    hitRateNBPCT = 100 - errorNBPCT\n",
    "    return(testSize, errorNB, errorNBPCT, hitRateNBPCT)\n",
    "   "
   ]
  },
  {
   "cell_type": "code",
   "execution_count": 15,
   "metadata": {
    "collapsed": true
   },
   "outputs": [
    {
     "name": "stderr",
     "output_type": "stream",
     "text": [
      "/home/applications/anaconda3/4.2.0/lib/python3.5/site-packages/sklearn/model_selection/_split.py:2010: FutureWarning: From version 0.21, test_size will always complement train_size unless both are specified.\n",
      "  FutureWarning)\n"
     ]
    },
    {
     "name": "stdout",
     "output_type": "stream",
     "text": [
      "----------Naive Bayes----------\n",
      "104392 misclassified data out of 1768863\n",
      "Error PCT:  5 %\n",
      "Hit Rate:   95 %\n"
     ]
    }
   ],
   "source": [
    "#naive bayes with complete dataset\n",
    "\n",
    "testSize, errorNB, errorNBPCT, hitRateNBPCT=test_naive_bayes(df)\n",
    "\n",
    "print(\"----------Naive Bayes----------\")\n",
    "print(int(errorNB), \"misclassified data out of\", testSize)\n",
    "print(\"Error PCT: \",errorNBPCT,'%')\n",
    "print(\"Hit Rate:  \",hitRateNBPCT,'%')"
   ]
  },
  {
   "cell_type": "code",
   "execution_count": 16,
   "metadata": {
    "collapsed": true
   },
   "outputs": [
    {
     "name": "stderr",
     "output_type": "stream",
     "text": [
      "/home/applications/anaconda3/4.2.0/lib/python3.5/site-packages/sklearn/model_selection/_split.py:2010: FutureWarning: From version 0.21, test_size will always complement train_size unless both are specified.\n",
      "  FutureWarning)\n"
     ]
    },
    {
     "name": "stdout",
     "output_type": "stream",
     "text": [
      "----------Naive Bayes----------\n",
      "37330 misclassified data out of 1734407\n",
      "Error PCT:  2 %\n",
      "Hit Rate:   98 %\n"
     ]
    }
   ],
   "source": [
    "#naive bayes without outliers\n",
    "\n",
    "testSize, errorNB, errorNBPCT, hitRateNBPCT=test_naive_bayes(df3)\n",
    "\n",
    "print(\"----------Naive Bayes----------\")\n",
    "print(int(errorNB), \"misclassified data out of\", testSize)\n",
    "print(\"Error PCT: \",errorNBPCT,'%')\n",
    "print(\"Hit Rate:  \",hitRateNBPCT,'%')"
   ]
  },
  {
   "cell_type": "code",
   "execution_count": 17,
   "metadata": {
    "collapsed": true
   },
   "outputs": [],
   "source": [
    "# codigo descontinuado em 09-10-2019\n",
    "\n",
    "# import pandas as pd\n",
    "# import numpy as np\n",
    "\n",
    "# from sklearn import naive_bayes\n",
    "# # from sklearn.naive_bayes import ComplementNB\n",
    "# from sklearn.neighbors import KNeighborsClassifier\n",
    "# from sklearn.model_selection import train_test_split\n",
    "# import matplotlib.pyplot as plot\n",
    "# from sklearn.metrics import roc_curve, auc\n",
    "# import time\n",
    "\n",
    "\n",
    "# # Este codigo foi parado em 09-16-2019. Serve para futura referencia.\n",
    "\n",
    "# #To check when the script was last run\n",
    "# localtime = time.localtime(time.time())\n",
    "# print (\"Local current time :\", localtime)\n",
    "\n",
    "# df=pd.read_table(r'/home/rkogeyam/PATENT_CITATION/df_w_pat_cit.csv', sep=',')\n",
    "\n",
    "# # Just to adjust our plots inside Jupyter\n",
    "# % matplotlib inline\n",
    "\n",
    "# # df.describe()\n",
    "# # np.any(np.isnan(df))\n",
    "\n",
    "# # np.all(np.isfinite(mat))\n",
    "\n",
    "# # df=df.dropna()\n",
    "\n",
    "\n",
    "# # inds = np.where(np.isnan(df))\n",
    "\n",
    "# #preciso cortar a base pq esta enorme e a memoria nao eh suficiente.\n",
    "# # df2=df.sample(frac=0.1, random_state=1) #random_state permite reprodutibilidade\n",
    "\n",
    "# #tentativa de resolver o NaN, infinite or too large value error.\n",
    "# # df2=df.reset_index()\n",
    "# # df2=df.replace([np.inf, -np.inf], np.nan)\n",
    "# # df2=df2.dropna()\n",
    "# # np.argwhere(np.isnan(df))\n",
    "# # df.isnull().values.any()\n",
    "\n",
    "# df.isnull().any().any()\n",
    "\n",
    "# pd.isnull(df).sum() > 0\n",
    "\n",
    "# df2=df.dropna()\n",
    "\n",
    "# # df2=df2.drop(['type_statutory invention registration'], axis=1)\n",
    "\n",
    "# df2.dtypes\n",
    "\n",
    "# # #vamos procurar o ofensor, estilo calculo numerico\n",
    "# # df2=df2.loc[:, 'id':'citation_id']\n",
    "# #talvez o problema nao seja os dados, e sim o uso do script\n",
    "# #vou examinar os dados mais de perto\n",
    "\n",
    "# #plot simple correlation\n",
    "# # plot.scatter(df['citation_id'], df['num_claims'])\n",
    "\n",
    "# # df.hist()\n",
    "# # plot.show()\n",
    "\n",
    "# # corMat=df.corr()\n",
    "# # plot.pcolor(corMat)\n",
    "# # plot.show()\n",
    "\n",
    "# # let's try a simplifying hypothesis\n",
    "# # let the output become binary\n",
    "\n",
    "# df2['citation_bi']=0\n",
    "# df2.loc[df2.citation_id>0, 'citation_bi']=1\n",
    "\n",
    "# df2.describe()\n",
    "\n",
    "# chosenColumns = ['num_claims','year','month','day','type_TVPP','type_defensive publication','type_design','type_plant','type_reissue','kind_H','kind_H1','kind_H2','kind_I4','kind_I5','kind_P','kind_P2','kind_P3','kind_S','kind_S1']\n",
    "# # chosenColumns = ['num_claims','year','month','day','type_TVPP']\n",
    "\n",
    "# myX = df2.as_matrix(columns=chosenColumns)\n",
    "# # myY = df2.as_matrix(columns=['citation_id'])\n",
    "# myY = df2.as_matrix(columns=['citation_bi'])\n",
    "\n",
    "# xTrain, xTest, yTrain, yTest = train_test_split(myX, myY, train_size=0.7, random_state=3)\n",
    "# testSize = yTest.shape[0]\n",
    "\n",
    "# # # Naive Bayes\n",
    "\n",
    "# # nb = naive_bayes.GaussianNB()\n",
    "# # dado que o output eh count, uma distribuicao multinomial se adapta melhor\n",
    "# nb = naive_bayes.MultinomialNB()\n",
    "# # complementNB adapta o MultinomialNB para datasets muito desbalanceados\n",
    "# # porem nao esta disponivel para a versao 0.19 do scikit-learn\n",
    "# # nb = naive_bayes.ComplementNB()\n",
    "\n",
    "# nb.fit(xTrain, yTrain.ravel())\n",
    "\n",
    "# yPredNB = nb.predict(xTest) # predicting test data\n",
    "\n",
    "# # computing error\n",
    "# errorNB = np.sum((yPredNB[i] != yTest[i]) for i in range(0, testSize))\n",
    "# errorNBPCT = int(100*errorNB/testSize)\n",
    "# hitRateNBPCT = 100 - errorNBPCT\n",
    "\n",
    "# print(\"----------Naive Bayes----------\")\n",
    "# print(int(errorNB), \"misclassified data out of\", testSize)\n",
    "# print(\"Error PCT: \",errorNBPCT,'%')\n",
    "# print(\"Hit Rate:  \",hitRateNBPCT,'%')\n",
    "\n",
    "# # # K Nearest Neighbors\n",
    "\n",
    "# # myK = 5\n",
    "    \n",
    "# # knn =  KNeighborsClassifier(n_neighbors=myK)\n",
    "# # knn.fit(xTrain, yTrain.ravel())\n",
    "# # yPredKNN = knn.predict(xTest) # predicting test data\n",
    "\n",
    "# # # computing error\n",
    "# # errorKNN = np.sum((yPredKNN[i] != yTest[i]) for i in range(0, testSize))\n",
    "# # errorKNNPCT = int(100*errorKNN/testSize)\n",
    "# # hitRateKNNPCT = 100 - errorKNNPCT\n",
    "\n",
    "# # print(\"----------K Nearest Neighbors----------\")\n",
    "# # print(int(errorKNN), \"misclassified data out of\", testSize)\n",
    "# # print(\"Error PCT: \",errorKNNPCT,'%')\n",
    "# # print(\"Hit Rate:  \",hitRateKNNPCT,'%')\n",
    "\n",
    "# # Constructing the ROC curve and AUC\n",
    "\n",
    "# fpr, tpr, thresh = roc_curve(yTest.ravel(), yPredKNN.ravel())\n",
    "# rocAuc = auc(fpr, tpr)"
   ]
  }
 ],
 "metadata": {
  "anaconda-cloud": {},
  "kernelspec": {
   "display_name": "Python [default]",
   "language": "python",
   "name": "python3"
  },
  "language_info": {
   "codemirror_mode": {
    "name": "ipython",
    "version": 3
   },
   "file_extension": ".py",
   "mimetype": "text/x-python",
   "name": "python",
   "nbconvert_exporter": "python",
   "pygments_lexer": "ipython3",
   "version": "3.5.2"
  }
 },
 "nbformat": 4,
 "nbformat_minor": 2
}
