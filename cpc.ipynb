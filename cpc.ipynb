{
 "cells": [
  {
   "cell_type": "code",
   "execution_count": 1,
   "metadata": {
    "collapsed": true
   },
   "outputs": [],
   "source": [
    "import pandas as pd\n",
    "import numpy as np\n",
    "from IPython.display import display, HTML\n",
    "\n",
    "src='data/cpc_current.tsv'\n",
    "dst='data/cpc.csv'"
   ]
  },
  {
   "cell_type": "code",
   "execution_count": 2,
   "metadata": {
    "collapsed": true
   },
   "outputs": [],
   "source": [
    "# uuid\t\t\tunique id\n",
    "# patent_id\t\tpatent number\n",
    "\n",
    "# section_id\t\tcpc section  \n",
    "# \t\t\t\t(A = Human Necessitites, B = Performing Operations; Transporting, \n",
    "# \t\t\t\tC = Chemistry; Metallurgy, D = Textiles; Paper, E = Fixed Constructions, \n",
    "# \t\t\t\tF = Mechanical Engineering; Lighting; Heating; Weapons; Blasting Engines or Pumps, \n",
    "# \t\t\t\tG = Physics, H = Electricity, Y = General Tagging of New Technological Developments)\n",
    "\n",
    "# subsection_id\tcpc subsection id: http://www.uspto.gov/web/patents/classification/cpc.html\n",
    "# group_id\t\tcpc group id: http://www.uspto.gov/web/patents/classification/cpc.html\n",
    "# subgroup_id\t\tcpc subgroup id: http://www.uspto.gov/web/patents/classification/cpc.html\n",
    "# category\t\tcpc category (primary or additional)\n",
    "# sequence\t\torder in which cpc class appears in patent file"
   ]
  },
  {
   "cell_type": "code",
   "execution_count": 3,
   "metadata": {
    "collapsed": false
   },
   "outputs": [],
   "source": [
    "usecols=['patent_id', 'section_id', 'subsection_id', 'group_id', 'sequence']\n",
    "df = pd.read_csv(src, sep='\\t', usecols=usecols)"
   ]
  },
  {
   "cell_type": "code",
   "execution_count": 4,
   "metadata": {
    "collapsed": true
   },
   "outputs": [],
   "source": [
    "df=df[df['sequence']==0]"
   ]
  },
  {
   "cell_type": "code",
   "execution_count": 5,
   "metadata": {
    "collapsed": true
   },
   "outputs": [],
   "source": [
    "df=df.drop(['sequence'], axis=1)"
   ]
  },
  {
   "cell_type": "code",
   "execution_count": 6,
   "metadata": {
    "collapsed": false
   },
   "outputs": [
    {
     "name": "stdout",
     "output_type": "stream",
     "text": [
      "<class 'pandas.core.frame.DataFrame'>\n",
      "Int64Index: 5866126 entries, 0 to 33931994\n",
      "Data columns (total 4 columns):\n",
      "patent_id        int64\n",
      "section_id       object\n",
      "subsection_id    object\n",
      "group_id         object\n",
      "dtypes: int64(1), object(3)\n",
      "memory usage: 223.8+ MB\n"
     ]
    }
   ],
   "source": [
    "df.info()"
   ]
  },
  {
   "cell_type": "code",
   "execution_count": 7,
   "metadata": {
    "collapsed": false
   },
   "outputs": [
    {
     "name": "stdout",
     "output_type": "stream",
     "text": [
      "\n",
      "Top 10  section_id\n",
      "G    1455338\n",
      "H    1410450\n",
      "B     889962\n",
      "A     737501\n",
      "C     691709\n",
      "F     453784\n",
      "E     163294\n",
      "D      64088\n",
      "Name: section_id, dtype: int64\n",
      "\n",
      "Top 10  subsection_id\n",
      "H04    569463\n",
      "H01    550990\n",
      "G06    518554\n",
      "A61    403973\n",
      "G01    312107\n",
      "C07    247935\n",
      "G11    153973\n",
      "B60    153731\n",
      "F16    149446\n",
      "G02    133455\n",
      "Name: subsection_id, dtype: int64\n"
     ]
    }
   ],
   "source": [
    "columns=list(df)[1:-1]\n",
    "for i in columns:\n",
    "    print('\\nTop 10 ', i)\n",
    "    print(df[i].value_counts().head(10))\n",
    "    df[i].value_counts().plot.bar()\n",
    "#     print(df[i].value_counts())\n",
    "#     display(HTML(df[i].value_counts().to_html()))\n",
    "#     display(HTML(df[i].value_counts().reset_index().to_html()))"
   ]
  },
  {
   "cell_type": "code",
   "execution_count": 8,
   "metadata": {
    "collapsed": false
   },
   "outputs": [],
   "source": [
    "# display(HTML(df['main_group'].value_counts().reset_index().to_html()))"
   ]
  },
  {
   "cell_type": "code",
   "execution_count": 9,
   "metadata": {
    "collapsed": true
   },
   "outputs": [],
   "source": [
    "df=df.add_prefix('cpc_')"
   ]
  },
  {
   "cell_type": "code",
   "execution_count": 10,
   "metadata": {
    "collapsed": true
   },
   "outputs": [],
   "source": [
    "df.rename(columns={ df.columns[0]: \"id\" }, inplace = True)"
   ]
  },
  {
   "cell_type": "code",
   "execution_count": 11,
   "metadata": {
    "collapsed": true
   },
   "outputs": [],
   "source": [
    "df.set_index('id').to_csv(dst)\n",
    "# df.iloc[:, 0:-1].to_csv(dst)"
   ]
  }
 ],
 "metadata": {
  "anaconda-cloud": {},
  "kernelspec": {
   "display_name": "Python [default]",
   "language": "python",
   "name": "python3"
  },
  "language_info": {
   "codemirror_mode": {
    "name": "ipython",
    "version": 3
   },
   "file_extension": ".py",
   "mimetype": "text/x-python",
   "name": "python",
   "nbconvert_exporter": "python",
   "pygments_lexer": "ipython3",
   "version": "3.5.2"
  }
 },
 "nbformat": 4,
 "nbformat_minor": 1
}
