{
 "cells": [
  {
   "cell_type": "code",
   "execution_count": 1,
   "metadata": {
    "collapsed": true
   },
   "outputs": [],
   "source": [
    "#Script to evaluate the determinants of patent citation \n",
    "#Renato Kogeyama\n",
    "\n",
    "# Apr 27, 2020\n",
    "# Separe most central patents, classify them as disruptive and calculate dvs from extant literature\n",
    "\n",
    "# Mar 16, 2020\n",
    "# Introducing centrality measures as dv\n",
    "\n",
    "# Feb 04, 2020\n",
    "# to set labels in heatmap keyword:xticklabels\n",
    "# for ex.\n",
    "# sns.heatmap(globalWarming_df, xticklabels = np.arange(0,15))\n",
    "# to be implemented later\n",
    "# another alternative is to substitute the values in the dataset and convert columns to categories\n",
    "# to understand the impact, i should run some test\n",
    "# however i am focusing now in calculate Corredoira's 2015 and Nemet & Johnson 2012\n",
    "\n",
    "# Feb 03, 2020\n",
    "# version backed up as _old\n",
    "\n",
    "# Feb 02, 2020\n",
    "# the best way to deal with the classification names is to use a dictionary\n",
    "# this avoid charging memory with the strings\n",
    "# However, WIPO is organized differently than the other systems\n",
    "# I'll update the wipo code to uniformize the behavior in this script\n",
    "# I am creating a code that reflects the first level of classification \n",
    "\n",
    "# Feb 01, 2020\n",
    "# Introduction of categorical graphs: barplot and heatmap\n",
    "# heatmap is not the real deal, its a simplification\n",
    "# the real deal would be the correlation table - there is a suggestion based on cramer, \n",
    "    # but implementation was not ready\n",
    "# graphs exported and google docs updated\n",
    "# next step: update cit_tree to reflect Corredoira's 205 Influence measure\n",
    "# plot a network graph: https://plot.ly/python/network-graphs/\n",
    "# reproduce 2012 Nemet and Johnson with other class systems\n",
    "# correct bias in generality and originality (multiply for N/N-1)\n",
    "\n",
    "# Jan 21, 2020\n",
    "# Classifications added\n",
    "# Code reorganized - much faster now\n",
    "# Still missing the update of applications to the grant number\n",
    "# I should provide now descriptive statistics on all variables\n",
    "\n",
    "# Jan 21, 2020\n",
    "# The current data does not have Class\n",
    "# I should go back and get this info - but there are too many scripts now and\n",
    "#   I should reorganize them before moving forward\n",
    "# I should also include the patent publication date - to control for the policy changes\n",
    "# In the citation file, I should change application number for grant when possible \n",
    "#   This will improve realiability of all measures related to citation\n",
    "# Introduce classifications\n",
    "\n",
    "# Jan 18, 2020\n",
    "# Variables calculated\n",
    "# Generality, average delay, forward and backward citations, cumulative citation (cit_tree)\n",
    "# Still missing originality\n",
    "# the file with variables that are used in this script should get a name independent from the date\n",
    "\n",
    "\n",
    "#Miami, December 24th, 2019\n",
    "# Prof. Rafael Corredoira suggested:\n",
    "# - Inclusion of a tree of citations\n",
    "#   To track back the source of citations. This is information is not given by direct count of citations.\n",
    "# - Consider policy changes in the way patents are cited\n",
    "#   Policy changes in 2000 changed the time frame of citation, and 2010 partially moved citation to applications\n",
    "# - Track classification changes \n",
    "#   The original classification system in USPTO changed from a technical based to a market based classification system\n",
    "#   See if there is an impact\n",
    "# - Consider a text analysis of the claims\n",
    "#   Classification is based on the claims but it is not clear how many claims are related to each classification category\n",
    "# - Include moderation effect from classification\n",
    "#   Citations patterns may change across industries, so some effects may disappear if industry is not accounted for.\n",
    "\n",
    "# In summary, his ideas help increase structure of the current work\n",
    "\n",
    "\n",
    "#Syracuse, December 3rd, 2019\n",
    "\n",
    "#The original script is getting too complex\n",
    "#There was many tentative scripts to play with data\n",
    "#Here I am writing a script to show the relevance of variables to patent citation\n",
    "\n",
    "#11-12-2019\n",
    "#Introducing normalization\n",
    "\n",
    "#10-11-2019\n",
    "#I introduced log backward citation, what corrects for very dispersed results\n",
    "#but the major problem is that few patents receive citations\n",
    "#bring back binary output\n",
    "\n",
    "#10-10-2019\n",
    "#Added graphics and new distributions\n",
    "\n",
    "#10-03-2019\n",
    "#I rewrote the citation data to clean the strings\n",
    "\n",
    "#09-15-2019\n",
    "#O naive bayes tem algum problema com distribuicoes desbalanceadas\n",
    "#o scikit learn tem um modulo que corrige count distributions com muitos zeros, o complementNB\n",
    "#porem este nao esta disponivel na atual versao disponibilizada no HPC da FIU\n",
    "\n",
    "#09-10-2019\n",
    "#o trabalho pede uma abordagem mais sistematica e cuidadosa\n",
    "#estou agrupando o codigo antigo comentado e vou comecar um novo codigo\n",
    "\n",
    "#09-27-2019\n",
    "#I am renaming citation as forward citation and backward citation\n",
    "\n",
    "#09-17-2018\n",
    "\n",
    "#Alto uso de memoria - rodar no Amazon AWS \n",
    "\n"
   ]
  },
  {
   "cell_type": "code",
   "execution_count": 2,
   "metadata": {
    "collapsed": true
   },
   "outputs": [],
   "source": [
    "import pandas as pd\n",
    "import numpy as np\n",
    "import IPython.display as display\n",
    "import seaborn as sns\n",
    "          \n",
    "import itertools\n",
    "\n",
    "from sklearn import preprocessing\n",
    "from sklearn import linear_model, datasets\n",
    "from sklearn.model_selection import train_test_split\n",
    "from sklearn.feature_selection import SelectKBest, f_classif\n",
    "from sklearn import naive_bayes\n",
    "from sklearn.metrics import roc_curve, auc\n",
    "from sklearn.feature_selection import VarianceThreshold\n",
    "\n",
    "import scipy.stats as ss\n",
    "import datetime\n",
    "import matplotlib.pyplot as plt\n",
    "\n",
    "from math import sqrt\n",
    "\n",
    "import sys\n",
    "sys.path.append('/home/rkogeyam/scripts/')\n",
    "sys.path.append('scripts/')\n",
    "\n",
    "from determinants_scripts import classes\n",
    "\n",
    "from plotbar import plotbar\n",
    "from plot_heat import heatmap\n",
    "\n",
    "\n",
    "from best_num_attr import best_num_attr\n",
    "from xattrSelect import xattrSelect\n",
    "from sampler import sampler\n",
    "from normalize import normalize\n",
    "from nbayes import nbayes\n",
    "\n",
    "import gzip"
   ]
  },
  {
   "cell_type": "code",
   "execution_count": 3,
   "metadata": {
    "collapsed": true
   },
   "outputs": [],
   "source": [
    "latex='data/results.tex'\n",
    "# dataset='data/dataset.csv'\n",
    "dataset=gzip.open('data/dataset.csv.gz', 'rt')"
   ]
  },
  {
   "cell_type": "code",
   "execution_count": 4,
   "metadata": {
    "collapsed": true
   },
   "outputs": [],
   "source": [
    "%matplotlib inline\n",
    "sns.set()\n",
    "sns.set_palette(sns.cubehelix_palette(8))\n",
    "# pd.options.display.float_format = '{:,.2f}'.format"
   ]
  },
  {
   "cell_type": "code",
   "execution_count": 5,
   "metadata": {
    "collapsed": true
   },
   "outputs": [],
   "source": [
    "dtypes={'id':object,'type':object, 'kind':object, 'num_claims':float, 'cit_received':float, 'cit_made':float,\n",
    "       'cit_received_delay':float, 'cit_made_delay':float, 'parent_citation':float,\n",
    "       'originality':float, 'generality':float, 'wipo_sector_id':object, 'ipcr_section':object,\n",
    "       'ipcr_ipc_class':object, 'ipcr_subclass':object, 'cpc_section_id':object,\n",
    "       'cpc_subsection_id':object, 'cpc_group_id':object, 'nber_category_id':object,\n",
    "       'nber_subcategory_id':object, 'uspc_mainclass_id':object, 'uspc_subclass_id':object, 'eigen':float, 'pagerank':float, 'katz':float}"
   ]
  },
  {
   "cell_type": "code",
   "execution_count": 6,
   "metadata": {
    "collapsed": true
   },
   "outputs": [],
   "source": [
    "# # only main classes (exclude uspc)\n",
    "\n",
    "# usecols=['id', 'type', 'date', 'kind', 'num_claims', 'cit_received', 'cit_made',\n",
    "#          'cit_received_delay', 'cit_made_delay', 'parent_citation',\n",
    "#          'originality', 'generality', 'wipo_sector_id', 'ipcr_section', \n",
    "#          'cpc_section_id', 'nber_category_id', 'eigen', 'pagerank', 'katz']"
   ]
  },
  {
   "cell_type": "code",
   "execution_count": 7,
   "metadata": {
    "collapsed": true
   },
   "outputs": [],
   "source": [
    "# only WIPO class system, exclude type and kind\n",
    "\n",
    "usecols=['id', 'date', 'num_claims', 'cit_received', 'cit_made',\n",
    "         'cit_received_delay', 'cit_made_delay', 'parent_citation',\n",
    "         'originality', 'generality', 'wipo_sector_id', 'eigen', 'pagerank', 'katz']"
   ]
  },
  {
   "cell_type": "code",
   "execution_count": 8,
   "metadata": {
    "collapsed": true
   },
   "outputs": [],
   "source": [
    "df=pd.read_csv(dataset, dtype=dtypes, usecols=usecols, parse_dates=['date'], index_col='id')\n",
    "\n",
    "# df.info()"
   ]
  },
  {
   "cell_type": "code",
   "execution_count": 9,
   "metadata": {
    "collapsed": true
   },
   "outputs": [],
   "source": [
    "df['year']=df.date.dt.year\n",
    "\n",
    "df['decade']=df.date.dt.year//10*10\n",
    "df['decade'] =df['decade'].apply(lambda x: int(x) if str(x) != 'nan' else np.nan)\n",
    "decades=list(df.decade.unique())\n",
    "# decades = [int(x) for x in decades if str(x) != 'nan']"
   ]
  },
  {
   "cell_type": "code",
   "execution_count": 10,
   "metadata": {
    "collapsed": true
   },
   "outputs": [
    {
     "data": {
      "text/plain": [
       "['wipo_sector_id']"
      ]
     },
     "execution_count": 10,
     "metadata": {},
     "output_type": "execute_result"
    }
   ],
   "source": [
    "obj_cols=list(df.select_dtypes(include=[object]).columns.values)\n",
    "obj_cols"
   ]
  },
  {
   "cell_type": "code",
   "execution_count": 11,
   "metadata": {
    "collapsed": true
   },
   "outputs": [
    {
     "data": {
      "text/plain": [
       "['num_claims',\n",
       " 'cit_received',\n",
       " 'cit_made',\n",
       " 'cit_received_delay',\n",
       " 'cit_made_delay',\n",
       " 'parent_citation',\n",
       " 'originality',\n",
       " 'generality',\n",
       " 'pagerank',\n",
       " 'katz',\n",
       " 'eigen',\n",
       " 'year',\n",
       " 'decade']"
      ]
     },
     "execution_count": 11,
     "metadata": {},
     "output_type": "execute_result"
    }
   ],
   "source": [
    "num_cols=list(df.select_dtypes(include=[np.number]).columns.values)\n",
    "num_cols"
   ]
  },
  {
   "cell_type": "markdown",
   "metadata": {},
   "source": [
    "## Data Analysis\n",
    "\n",
    "### Descriptive "
   ]
  },
  {
   "cell_type": "code",
   "execution_count": 12,
   "metadata": {
    "collapsed": false
   },
   "outputs": [
    {
     "name": "stderr",
     "output_type": "stream",
     "text": [
      "/home/applications/anaconda3/4.2.0/lib/python3.5/site-packages/numpy/lib/function_base.py:4269: RuntimeWarning: Invalid value encountered in percentile\n",
      "  interpolation=interpolation)\n"
     ]
    }
   ],
   "source": [
    "descriptive=df.describe(include=[np.number]).loc[['count','mean','std','min','max']].append(df[num_cols].isnull().sum().rename('isnull'))"
   ]
  },
  {
   "cell_type": "code",
   "execution_count": 13,
   "metadata": {
    "collapsed": false
   },
   "outputs": [
    {
     "data": {
      "text/html": [
       "<div>\n",
       "<table border=\"1\" class=\"dataframe\">\n",
       "  <thead>\n",
       "    <tr style=\"text-align: right;\">\n",
       "      <th></th>\n",
       "      <th>count</th>\n",
       "      <th>mean</th>\n",
       "      <th>std</th>\n",
       "      <th>min</th>\n",
       "      <th>max</th>\n",
       "      <th>isnull</th>\n",
       "    </tr>\n",
       "  </thead>\n",
       "  <tbody>\n",
       "    <tr>\n",
       "      <th>num_claims</th>\n",
       "      <td>6,488,254.00</td>\n",
       "      <td>14.14</td>\n",
       "      <td>12.00</td>\n",
       "      <td>0.00</td>\n",
       "      <td>887.00</td>\n",
       "      <td>2,214,063.00</td>\n",
       "    </tr>\n",
       "    <tr>\n",
       "      <th>cit_received</th>\n",
       "      <td>8,702,317.00</td>\n",
       "      <td>10.51</td>\n",
       "      <td>27.95</td>\n",
       "      <td>0.00</td>\n",
       "      <td>3,922.00</td>\n",
       "      <td>0.00</td>\n",
       "    </tr>\n",
       "    <tr>\n",
       "      <th>cit_made</th>\n",
       "      <td>6,183,715.00</td>\n",
       "      <td>14.78</td>\n",
       "      <td>41.95</td>\n",
       "      <td>0.00</td>\n",
       "      <td>5,811.00</td>\n",
       "      <td>2,518,602.00</td>\n",
       "    </tr>\n",
       "    <tr>\n",
       "      <th>cit_received_delay</th>\n",
       "      <td>7,046,552.00</td>\n",
       "      <td>20.44</td>\n",
       "      <td>24.36</td>\n",
       "      <td>-285.83</td>\n",
       "      <td>207.58</td>\n",
       "      <td>1,655,765.00</td>\n",
       "    </tr>\n",
       "    <tr>\n",
       "      <th>cit_made_delay</th>\n",
       "      <td>6,175,204.00</td>\n",
       "      <td>13.68</td>\n",
       "      <td>10.69</td>\n",
       "      <td>-280.52</td>\n",
       "      <td>182.74</td>\n",
       "      <td>2,527,113.00</td>\n",
       "    </tr>\n",
       "    <tr>\n",
       "      <th>parent_citation</th>\n",
       "      <td>6,256,483.00</td>\n",
       "      <td>247.30</td>\n",
       "      <td>1,588.33</td>\n",
       "      <td>1.00</td>\n",
       "      <td>227,479.00</td>\n",
       "      <td>2,445,834.00</td>\n",
       "    </tr>\n",
       "    <tr>\n",
       "      <th>originality</th>\n",
       "      <td>5,604,693.00</td>\n",
       "      <td>0.15</td>\n",
       "      <td>0.21</td>\n",
       "      <td>0.00</td>\n",
       "      <td>0.80</td>\n",
       "      <td>3,097,624.00</td>\n",
       "    </tr>\n",
       "    <tr>\n",
       "      <th>generality</th>\n",
       "      <td>6,552,762.00</td>\n",
       "      <td>0.15</td>\n",
       "      <td>0.21</td>\n",
       "      <td>0.00</td>\n",
       "      <td>0.80</td>\n",
       "      <td>2,149,555.00</td>\n",
       "    </tr>\n",
       "    <tr>\n",
       "      <th>pagerank</th>\n",
       "      <td>8,519,764.00</td>\n",
       "      <td>0.00</td>\n",
       "      <td>0.00</td>\n",
       "      <td>0.00</td>\n",
       "      <td>0.00</td>\n",
       "      <td>182,553.00</td>\n",
       "    </tr>\n",
       "    <tr>\n",
       "      <th>katz</th>\n",
       "      <td>8,519,764.00</td>\n",
       "      <td>0.00</td>\n",
       "      <td>0.00</td>\n",
       "      <td>0.00</td>\n",
       "      <td>0.02</td>\n",
       "      <td>182,553.00</td>\n",
       "    </tr>\n",
       "    <tr>\n",
       "      <th>eigen</th>\n",
       "      <td>8,519,764.00</td>\n",
       "      <td>0.00</td>\n",
       "      <td>0.00</td>\n",
       "      <td>0.00</td>\n",
       "      <td>0.26</td>\n",
       "      <td>182,553.00</td>\n",
       "    </tr>\n",
       "    <tr>\n",
       "      <th>year</th>\n",
       "      <td>6,488,256.00</td>\n",
       "      <td>2,002.72</td>\n",
       "      <td>11.32</td>\n",
       "      <td>1,976.00</td>\n",
       "      <td>2,017.00</td>\n",
       "      <td>2,214,061.00</td>\n",
       "    </tr>\n",
       "    <tr>\n",
       "      <th>decade</th>\n",
       "      <td>6,488,256.00</td>\n",
       "      <td>1,998.22</td>\n",
       "      <td>11.69</td>\n",
       "      <td>1,970.00</td>\n",
       "      <td>2,010.00</td>\n",
       "      <td>2,214,061.00</td>\n",
       "    </tr>\n",
       "  </tbody>\n",
       "</table>\n",
       "</div>"
      ],
      "text/plain": [
       "                           count      mean       std       min         max  \\\n",
       "num_claims          6,488,254.00     14.14     12.00      0.00      887.00   \n",
       "cit_received        8,702,317.00     10.51     27.95      0.00    3,922.00   \n",
       "cit_made            6,183,715.00     14.78     41.95      0.00    5,811.00   \n",
       "cit_received_delay  7,046,552.00     20.44     24.36   -285.83      207.58   \n",
       "cit_made_delay      6,175,204.00     13.68     10.69   -280.52      182.74   \n",
       "parent_citation     6,256,483.00    247.30  1,588.33      1.00  227,479.00   \n",
       "originality         5,604,693.00      0.15      0.21      0.00        0.80   \n",
       "generality          6,552,762.00      0.15      0.21      0.00        0.80   \n",
       "pagerank            8,519,764.00      0.00      0.00      0.00        0.00   \n",
       "katz                8,519,764.00      0.00      0.00      0.00        0.02   \n",
       "eigen               8,519,764.00      0.00      0.00      0.00        0.26   \n",
       "year                6,488,256.00  2,002.72     11.32  1,976.00    2,017.00   \n",
       "decade              6,488,256.00  1,998.22     11.69  1,970.00    2,010.00   \n",
       "\n",
       "                          isnull  \n",
       "num_claims          2,214,063.00  \n",
       "cit_received                0.00  \n",
       "cit_made            2,518,602.00  \n",
       "cit_received_delay  1,655,765.00  \n",
       "cit_made_delay      2,527,113.00  \n",
       "parent_citation     2,445,834.00  \n",
       "originality         3,097,624.00  \n",
       "generality          2,149,555.00  \n",
       "pagerank              182,553.00  \n",
       "katz                  182,553.00  \n",
       "eigen                 182,553.00  \n",
       "year                2,214,061.00  \n",
       "decade              2,214,061.00  "
      ]
     },
     "execution_count": 13,
     "metadata": {},
     "output_type": "execute_result"
    }
   ],
   "source": [
    "descriptive.apply(lambda x: x.apply('{:,.2f}'.format)).transpose()"
   ]
  },
  {
   "cell_type": "code",
   "execution_count": 14,
   "metadata": {
    "collapsed": false
   },
   "outputs": [
    {
     "data": {
      "text/html": [
       "<div>\n",
       "<table border=\"1\" class=\"dataframe\">\n",
       "  <thead>\n",
       "    <tr style=\"text-align: right;\">\n",
       "      <th></th>\n",
       "      <th>wipo_sector_id</th>\n",
       "    </tr>\n",
       "  </thead>\n",
       "  <tbody>\n",
       "    <tr>\n",
       "      <th>count</th>\n",
       "      <td>5879781</td>\n",
       "    </tr>\n",
       "    <tr>\n",
       "      <th>unique</th>\n",
       "      <td>5</td>\n",
       "    </tr>\n",
       "    <tr>\n",
       "      <th>top</th>\n",
       "      <td>1</td>\n",
       "    </tr>\n",
       "    <tr>\n",
       "      <th>freq</th>\n",
       "      <td>2158667</td>\n",
       "    </tr>\n",
       "  </tbody>\n",
       "</table>\n",
       "</div>"
      ],
      "text/plain": [
       "       wipo_sector_id\n",
       "count         5879781\n",
       "unique              5\n",
       "top                 1\n",
       "freq          2158667"
      ]
     },
     "execution_count": 14,
     "metadata": {},
     "output_type": "execute_result"
    }
   ],
   "source": [
    "df.describe(include=[np.object])#.append(df[np.object].isnull().sum().rename('isnull')).transpose()"
   ]
  },
  {
   "cell_type": "markdown",
   "metadata": {},
   "source": [
    "### Barplots and Heatmaps"
   ]
  },
  {
   "cell_type": "code",
   "execution_count": 15,
   "metadata": {
    "collapsed": true
   },
   "outputs": [],
   "source": [
    "# # barplot\n",
    "# # as of 02.03.20, working\n",
    "\n",
    "# for i in obj_cols:\n",
    "#     plotbar(i, df, classes)\n",
    "\n",
    "# # barplot with decades\n",
    "# for i in obj_cols:\n",
    "#     plotbar(i, df, classes,decade=True)\n",
    "\n",
    "# # barplot with decades and inverted axis\n",
    "# for i in obj_cols:\n",
    "#     plotbar(i, df, classes,decade=True, decade_x=True)\n",
    "\n",
    "# # heatmaps all periods\n",
    "# for double in list(itertools.combinations(obj_cols, 2)):\n",
    "#     heatmap(df[double[0]], df[double[1]]) \n",
    "\n",
    "# # print heatmaps per decade\n",
    "# for decade in decades:\n",
    "#     df_dec=df[df['decade']==decade]\n",
    "#     for double in list(itertools.combinations(obj_cols, 2)):\n",
    "#         heatmap(df_dec[double[0]], df_dec[double[1]], decade) \n"
   ]
  },
  {
   "cell_type": "markdown",
   "metadata": {},
   "source": [
    "### Histograms"
   ]
  },
  {
   "cell_type": "code",
   "execution_count": 16,
   "metadata": {
    "collapsed": true
   },
   "outputs": [],
   "source": [
    "# #histograms\n",
    "# #could improve cutting off outliers\n",
    "# for variable in num_cols:\n",
    "#     ax=df[variable].hist()\n",
    "#     ax.set_title('Histogram '+ variable.title()+'\\n')\n",
    "#     plt.show()"
   ]
  },
  {
   "cell_type": "markdown",
   "metadata": {},
   "source": [
    "### Trends and Boxplots"
   ]
  },
  {
   "cell_type": "code",
   "execution_count": 17,
   "metadata": {
    "collapsed": true
   },
   "outputs": [],
   "source": [
    "#iterate over numerical variables\n",
    "\n",
    "num_cols.remove('decade')\n",
    "num_cols.remove('year')"
   ]
  },
  {
   "cell_type": "code",
   "execution_count": 18,
   "metadata": {
    "collapsed": true
   },
   "outputs": [],
   "source": [
    "# for variable in num_cols:\n",
    "    \n",
    "#     title=variable.replace('_', ' ')\n",
    "#     fig, axes = plt.subplots(nrows=1, ncols=2, figsize=(14, 6))\n",
    "\n",
    "#     axes[0] = df.groupby('year').mean().plot(y=variable, ax=axes[0])\n",
    "#     evl_title='Evolution of '+ title +'\\n'\n",
    "#     axes[0].set_title(evl_title)\n",
    "#     axes[0].set_ylim(bottom=0)\n",
    "    \n",
    "#     axes[1] = sns.boxplot(x='decade', y=variable, data=df)\n",
    "\n",
    "#     box_title='Dispersion of '+ title +'\\n'\n",
    "#     axes[1].set_title(box_title)\n",
    "#     axes[1].set_ylim(bottom=0)\n",
    "#     axes[1].set_ylabel(\"\")\n",
    "    \n",
    "#     filename='./img/evol_dispersion_'+variable.lower()+'.png'  \n",
    "#     plt.savefig(filename) \n",
    "#     plt.show()\n"
   ]
  },
  {
   "cell_type": "code",
   "execution_count": 19,
   "metadata": {
    "collapsed": true
   },
   "outputs": [],
   "source": [
    "# the generality data on the 2010's is too concentrated around 0\n",
    "# to check, I draw this hist to understand what is happening\n",
    "# it could be an effect of truncation - generality increases with forward citation\n",
    "\n",
    "# df[df['decade']==2010]['generality'].hist()"
   ]
  },
  {
   "cell_type": "markdown",
   "metadata": {},
   "source": [
    "### Models"
   ]
  },
  {
   "cell_type": "code",
   "execution_count": 20,
   "metadata": {
    "collapsed": false
   },
   "outputs": [
    {
     "name": "stdout",
     "output_type": "stream",
     "text": [
      "Total number of observations and attributes\n",
      "(3315219, 15)\n",
      "Number of numerical attributes: 13\n",
      "Number of non-numerical attributes: 1\n"
     ]
    },
    {
     "name": "stderr",
     "output_type": "stream",
     "text": [
      "/home/rkogeyam/scripts/normalize.py:34: SettingWithCopyWarning: \n",
      "A value is trying to be set on a copy of a slice from a DataFrame.\n",
      "Try using .loc[row_indexer,col_indexer] = value instead\n",
      "\n",
      "See the caveats in the documentation: http://pandas.pydata.org/pandas-docs/stable/indexing.html#indexing-view-versus-copy\n",
      "  df[num_cols]=min_max_scaler.fit_transform(df[num_cols])\n",
      "/home/applications/anaconda3/4.2.0/lib/python3.5/site-packages/pandas/core/indexing.py:465: SettingWithCopyWarning: \n",
      "A value is trying to be set on a copy of a slice from a DataFrame.\n",
      "Try using .loc[row_indexer,col_indexer] = value instead\n",
      "\n",
      "See the caveats in the documentation: http://pandas.pydata.org/pandas-docs/stable/indexing.html#indexing-view-versus-copy\n",
      "  self.obj[item] = s\n",
      "/home/rkogeyam/scripts/normalize.py:41: SettingWithCopyWarning: \n",
      "A value is trying to be set on a copy of a slice from a DataFrame.\n",
      "Try using .loc[row_indexer,col_indexer] = value instead\n",
      "\n",
      "See the caveats in the documentation: http://pandas.pydata.org/pandas-docs/stable/indexing.html#indexing-view-versus-copy\n",
      "  df[col] = df[col].astype('category')\n"
     ]
    }
   ],
   "source": [
    "# normalization\n",
    "df=normalize(df.dropna())"
   ]
  },
  {
   "cell_type": "code",
   "execution_count": 21,
   "metadata": {
    "collapsed": true
   },
   "outputs": [],
   "source": [
    "# #maybe nb fit does not accept nomalized data, so i using data without normalize\n",
    "# #but in that case, i have to transform the categorical variables\n",
    "\n",
    "# obj_cols=list(df.select_dtypes(include=[object]).columns.values)\n",
    "\n",
    "# for col in obj_cols:\n",
    "#     df[col] = df[col].astype('category')\n",
    "\n",
    "# df=pd.get_dummies(df, columns=obj_cols, prefix=obj_cols)"
   ]
  },
  {
   "cell_type": "code",
   "execution_count": 22,
   "metadata": {
    "collapsed": false
   },
   "outputs": [
    {
     "data": {
      "text/plain": [
       "19"
      ]
     },
     "execution_count": 22,
     "metadata": {},
     "output_type": "execute_result"
    }
   ],
   "source": [
    "# List of IVs\n",
    "chosenColumns=df.columns.values.tolist()\n",
    "len(chosenColumns)"
   ]
  },
  {
   "cell_type": "code",
   "execution_count": 23,
   "metadata": {
    "collapsed": false
   },
   "outputs": [
    {
     "data": {
      "text/plain": [
       "18"
      ]
     },
     "execution_count": 23,
     "metadata": {},
     "output_type": "execute_result"
    }
   ],
   "source": [
    "chosenColumns.remove('cit_received')\n",
    "len(chosenColumns)"
   ]
  },
  {
   "cell_type": "code",
   "execution_count": 24,
   "metadata": {
    "collapsed": false
   },
   "outputs": [
    {
     "data": {
      "text/plain": [
       "17"
      ]
     },
     "execution_count": 24,
     "metadata": {},
     "output_type": "execute_result"
    }
   ],
   "source": [
    "chosenColumns.remove('parent_citation')\n",
    "len(chosenColumns)"
   ]
  },
  {
   "cell_type": "code",
   "execution_count": 25,
   "metadata": {
    "collapsed": true
   },
   "outputs": [
    {
     "data": {
      "text/plain": [
       "16"
      ]
     },
     "execution_count": 25,
     "metadata": {},
     "output_type": "execute_result"
    }
   ],
   "source": [
    "chosenColumns.remove('katz')\n",
    "len(chosenColumns)"
   ]
  },
  {
   "cell_type": "code",
   "execution_count": 26,
   "metadata": {
    "collapsed": true
   },
   "outputs": [
    {
     "data": {
      "text/plain": [
       "15"
      ]
     },
     "execution_count": 26,
     "metadata": {},
     "output_type": "execute_result"
    }
   ],
   "source": [
    "chosenColumns.remove('eigen')\n",
    "len(chosenColumns)"
   ]
  },
  {
   "cell_type": "code",
   "execution_count": 27,
   "metadata": {
    "collapsed": true
   },
   "outputs": [
    {
     "data": {
      "text/plain": [
       "14"
      ]
     },
     "execution_count": 27,
     "metadata": {},
     "output_type": "execute_result"
    }
   ],
   "source": [
    "chosenColumns.remove('pagerank')\n",
    "len(chosenColumns)"
   ]
  },
  {
   "cell_type": "code",
   "execution_count": 28,
   "metadata": {
    "collapsed": false
   },
   "outputs": [
    {
     "data": {
      "text/plain": [
       "13"
      ]
     },
     "execution_count": 28,
     "metadata": {},
     "output_type": "execute_result"
    }
   ],
   "source": [
    "chosenColumns.remove('date')\n",
    "len(chosenColumns)"
   ]
  },
  {
   "cell_type": "markdown",
   "metadata": {},
   "source": [
    "### DV: citation received (forward citation)"
   ]
  },
  {
   "cell_type": "code",
   "execution_count": 29,
   "metadata": {
    "collapsed": false
   },
   "outputs": [
    {
     "name": "stderr",
     "output_type": "stream",
     "text": [
      "/home/applications/anaconda3/4.2.0/lib/python3.5/site-packages/sklearn/model_selection/_split.py:2010: FutureWarning: From version 0.21, test_size will always complement train_size unless both are specified.\n",
      "  FutureWarning)\n"
     ]
    }
   ],
   "source": [
    "# myX = df.as_matrix(columns=chosenColumns)\n",
    "# myY = df.as_matrix(columns=['cit_received'])\n",
    "\n",
    "# xTrain, xTest, yTrain, yTest = train_test_split(myX, myY, train_size=0.7, random_state=3) \n",
    "# testSize = yTest.shape[0]\n",
    "# trainSize = yTrain.shape[0]"
   ]
  },
  {
   "cell_type": "code",
   "execution_count": 30,
   "metadata": {
    "collapsed": false
   },
   "outputs": [
    {
     "name": "stdout",
     "output_type": "stream",
     "text": [
      "Out of sample error versus attribute set size\n",
      "  cit_received_delay 0.01186264801084925\n",
      "          num_claims 0.011712056820717317\n",
      "    wipo_sector_id_2 0.011644875546558612\n",
      "    wipo_sector_id_1 0.011552265695752562\n",
      "            cit_made 0.011507837780579806\n",
      "                year 0.011479830619280939\n",
      "      cit_made_delay 0.011446475788336487\n",
      "    wipo_sector_id_4 0.011443970056290664\n",
      "              decade 0.011443626443882773\n",
      "         originality 0.01144344215261313\n",
      "    wipo_sector_id_0 0.011443376319769119\n",
      "          generality 0.011443373876874316\n",
      "    wipo_sector_id_3 0.011443373253911954\n"
     ]
    }
   ],
   "source": [
    "# namesList, errorList = best_num_attr(myX, xTrain, xTest, yTrain, yTest, chosenColumns, regtype='linear')"
   ]
  },
  {
   "cell_type": "markdown",
   "metadata": {},
   "source": [
    "### DV: Parent citation (rename the variable)"
   ]
  },
  {
   "cell_type": "code",
   "execution_count": 31,
   "metadata": {
    "collapsed": false
   },
   "outputs": [
    {
     "name": "stderr",
     "output_type": "stream",
     "text": [
      "/home/applications/anaconda3/4.2.0/lib/python3.5/site-packages/sklearn/model_selection/_split.py:2010: FutureWarning: From version 0.21, test_size will always complement train_size unless both are specified.\n",
      "  FutureWarning)\n"
     ]
    },
    {
     "name": "stdout",
     "output_type": "stream",
     "text": [
      "Out of sample error versus attribute set size\n",
      "  cit_received_delay 0.009064909379753676\n",
      "    wipo_sector_id_2 0.009017693943675109\n",
      "    wipo_sector_id_1 0.008991999197410696\n",
      "          num_claims 0.008978955175629405\n",
      "            cit_made 0.008969849274179304\n",
      "      cit_made_delay 0.008964828034852195\n",
      "          generality 0.008960913134240864\n",
      "                year 0.008959849789264954\n",
      "    wipo_sector_id_4 0.008959074911425823\n",
      "              decade 0.008958840717204224\n",
      "         originality 0.008958683821017603\n",
      "    wipo_sector_id_0 0.008958681575683398\n",
      "    wipo_sector_id_3 0.008958681273422907\n"
     ]
    }
   ],
   "source": [
    "# myX = df.as_matrix(columns=chosenColumns)\n",
    "\n",
    "# myY = df.as_matrix(columns=['parent_citation'])\n",
    "\n",
    "# xTrain, xTest, yTrain, yTest = train_test_split(myX, myY, train_size=0.7, random_state=3) \n",
    "# testSize = yTest.shape[0]\n",
    "# trainSize = yTrain.shape[0]\n",
    "# namesList, errorList = best_num_attr(myX, xTrain, xTest, yTrain, yTest, chosenColumns, regtype='linear')"
   ]
  },
  {
   "cell_type": "markdown",
   "metadata": {},
   "source": [
    "### DV: pagerank (centrality)"
   ]
  },
  {
   "cell_type": "code",
   "execution_count": 32,
   "metadata": {
    "collapsed": false
   },
   "outputs": [
    {
     "name": "stderr",
     "output_type": "stream",
     "text": [
      "/home/applications/anaconda3/4.2.0/lib/python3.5/site-packages/sklearn/model_selection/_split.py:2010: FutureWarning: From version 0.21, test_size will always complement train_size unless both are specified.\n",
      "  FutureWarning)\n"
     ]
    }
   ],
   "source": [
    "# myX = df.as_matrix(columns=chosenColumns)\n",
    "# myY = df.as_matrix(columns=['pagerank'])\n",
    "\n",
    "# xTrain, xTest, yTrain, yTest = train_test_split(myX, myY, train_size=0.7, random_state=3) \n",
    "# testSize = yTest.shape[0]\n",
    "# trainSize = yTrain.shape[0]"
   ]
  },
  {
   "cell_type": "code",
   "execution_count": 33,
   "metadata": {
    "collapsed": false
   },
   "outputs": [
    {
     "name": "stdout",
     "output_type": "stream",
     "text": [
      "Out of sample error versus attribute set size\n",
      "                year 0.004831920226149007\n",
      "    wipo_sector_id_1 0.004759807351203704\n",
      "      cit_made_delay 0.004743937272376311\n",
      "    wipo_sector_id_2 0.004733411972073784\n",
      "          num_claims 0.004723887978914528\n",
      "  cit_received_delay 0.004722376719855053\n",
      "         originality 0.0047220255689645555\n",
      "    wipo_sector_id_0 0.004721727827304055\n",
      "            cit_made 0.00472147516317153\n",
      "    wipo_sector_id_4 0.004721369990883928\n",
      "          generality 0.0047213434903858546\n",
      "              decade 0.004721324289381794\n",
      "    wipo_sector_id_3 0.004721324311245939\n"
     ]
    }
   ],
   "source": [
    "# namesList, errorList = best_num_attr(myX, xTrain, xTest, yTrain, yTest, chosenColumns, regtype='linear')"
   ]
  },
  {
   "cell_type": "markdown",
   "metadata": {},
   "source": [
    "### DV: katz (centrality)"
   ]
  },
  {
   "cell_type": "code",
   "execution_count": 34,
   "metadata": {
    "collapsed": false
   },
   "outputs": [
    {
     "name": "stderr",
     "output_type": "stream",
     "text": [
      "/home/applications/anaconda3/4.2.0/lib/python3.5/site-packages/sklearn/model_selection/_split.py:2010: FutureWarning: From version 0.21, test_size will always complement train_size unless both are specified.\n",
      "  FutureWarning)\n"
     ]
    }
   ],
   "source": [
    "# myX = df.as_matrix(columns=chosenColumns)\n",
    "# myY = df.as_matrix(columns=['katz'])\n",
    "\n",
    "# xTrain, xTest, yTrain, yTest = train_test_split(myX, myY, train_size=0.7, random_state=3) \n",
    "# testSize = yTest.shape[0]\n",
    "# trainSize = yTrain.shape[0]"
   ]
  },
  {
   "cell_type": "code",
   "execution_count": 35,
   "metadata": {
    "collapsed": false
   },
   "outputs": [
    {
     "name": "stdout",
     "output_type": "stream",
     "text": [
      "Out of sample error versus attribute set size\n",
      "  cit_received_delay 0.008777641162395081\n",
      "          num_claims 0.008716064667651017\n",
      "    wipo_sector_id_2 0.008664666456597449\n",
      "    wipo_sector_id_1 0.008619696622148862\n",
      "            cit_made 0.008598371434101224\n",
      "      cit_made_delay 0.008586582850287914\n",
      "                year 0.008574086318915338\n",
      "    wipo_sector_id_4 0.00857289058205384\n",
      "          generality 0.008571904705226127\n",
      "              decade 0.008571662539183903\n",
      "         originality 0.008571561728862977\n",
      "    wipo_sector_id_0 0.00857155150048133\n",
      "    wipo_sector_id_3 0.008571547146729962\n"
     ]
    }
   ],
   "source": [
    "# namesList, errorList = best_num_attr(myX, xTrain, xTest, yTrain, yTest, chosenColumns, regtype='linear')"
   ]
  },
  {
   "cell_type": "markdown",
   "metadata": {},
   "source": [
    "### DV: eigen (centrality)"
   ]
  },
  {
   "cell_type": "code",
   "execution_count": 36,
   "metadata": {
    "collapsed": false
   },
   "outputs": [
    {
     "name": "stderr",
     "output_type": "stream",
     "text": [
      "/home/applications/anaconda3/4.2.0/lib/python3.5/site-packages/sklearn/model_selection/_split.py:2010: FutureWarning: From version 0.21, test_size will always complement train_size unless both are specified.\n",
      "  FutureWarning)\n"
     ]
    }
   ],
   "source": [
    "# myX = df.as_matrix(columns=chosenColumns)\n",
    "# myY = df.as_matrix(columns=['eigen'])\n",
    "\n",
    "# xTrain, xTest, yTrain, yTest = train_test_split(myX, myY, train_size=0.7, random_state=3) \n",
    "# testSize = yTest.shape[0]\n",
    "# trainSize = yTrain.shape[0]"
   ]
  },
  {
   "cell_type": "code",
   "execution_count": 37,
   "metadata": {
    "collapsed": false
   },
   "outputs": [
    {
     "name": "stdout",
     "output_type": "stream",
     "text": [
      "Out of sample error versus attribute set size\n",
      "                year 0.0012808355445282854\n",
      "    wipo_sector_id_1 0.0012808229463154115\n",
      "  cit_received_delay 0.0012808173968997122\n",
      "      cit_made_delay 0.0012808168862736432\n",
      "    wipo_sector_id_2 0.00128081630709277\n",
      "            cit_made 0.0012808161669796557\n",
      "    wipo_sector_id_4 0.0012808161051043449\n",
      "    wipo_sector_id_0 0.0012808160920165879\n",
      "    wipo_sector_id_3 0.0012808160945770304\n",
      "         originality 0.0012808161045346825\n",
      "          num_claims 0.001280816156687945\n",
      "          generality 0.0012808166152320844\n",
      "              decade 0.0012808191766125012\n"
     ]
    }
   ],
   "source": [
    "# namesList, errorList = best_num_attr(myX, xTrain, xTest, yTrain, yTest, chosenColumns, regtype='linear')"
   ]
  },
  {
   "cell_type": "code",
   "execution_count": 38,
   "metadata": {
    "collapsed": true
   },
   "outputs": [],
   "source": [
    "# This selector does not work because almost every attribute is p-value significant\n",
    "\n",
    "# selector = SelectKBest(f_classif, k=4) #initialize \n",
    "# selector.fit(myX, myY) #fit\n",
    "# scores = -np.log10(selector.pvalues_) #transform pvalues (why?)\n",
    "# scores /= scores.max() #normalize \n",
    "# plt.bar(myX - .45, scores, width=.2,\n",
    "#         label=r'Univariate score ($-Log(p_{value})$)', color='darkorange',\n",
    "#         edgecolor='black')"
   ]
  },
  {
   "cell_type": "code",
   "execution_count": 39,
   "metadata": {
    "collapsed": true
   },
   "outputs": [],
   "source": [
    "# nbayes(xTrain, yTrain, xTest, yTest)"
   ]
  },
  {
   "cell_type": "code",
   "execution_count": null,
   "metadata": {
    "collapsed": true
   },
   "outputs": [],
   "source": [
    "df.dropna()"
   ]
  },
  {
   "cell_type": "code",
   "execution_count": 40,
   "metadata": {
    "collapsed": true
   },
   "outputs": [],
   "source": [
    "#Let's do something else\n",
    "#Change the DV \n",
    "\n",
    "myX = df.as_matrix(columns=chosenColumns)\n",
    "myY = df.as_matrix(columns=['parent_back_citation'])\n",
    "\n",
    "xTrain, xTest, yTrain, yTest = train_test_split(myX, myY, train_size=0.7, random_state=3) "
   ]
  },
  {
   "cell_type": "code",
   "execution_count": 41,
   "metadata": {
    "collapsed": true
   },
   "outputs": [],
   "source": [
    "nbayes(xTrain, yTrain, xTest, yTest)"
   ]
  },
  {
   "cell_type": "code",
   "execution_count": 42,
   "metadata": {
    "collapsed": true
   },
   "outputs": [],
   "source": [
    "# df.parent_back_citation.boxplot()"
   ]
  },
  {
   "cell_type": "code",
   "execution_count": 43,
   "metadata": {
    "collapsed": true
   },
   "outputs": [],
   "source": [
    "#and graphs of back citation in time"
   ]
  },
  {
   "cell_type": "code",
   "execution_count": 44,
   "metadata": {
    "collapsed": true
   },
   "outputs": [],
   "source": [
    "# for i in classifications:\n",
    "#     rank=df.groupby(i).count().iloc[:,2].sort_values(ascending=False).reset_index().set_index(i)\n",
    "#     description=df_class[df_class['class']==i].set_index('id')\n",
    "#     display(rank.join(description))"
   ]
  },
  {
   "cell_type": "code",
   "execution_count": 45,
   "metadata": {
    "collapsed": true
   },
   "outputs": [],
   "source": [
    "# for i in obj_cols:\n",
    "#     if i.isin(classifications):\n",
    "#         df.join(df.groupby(i).count().iloc[:,2].sort_values(ascending=False)\n",
    "# #     display.display(df.pivot_table(values=df.reset_index().id, index=i, columns='decade', aggfunc='count', fill_value=0, margins=False, dropna=True))\n",
    "#     print(i)\n",
    "#     display.display(df.groupby(i).count().iloc[:,2].sort_values(ascending=False))"
   ]
  },
  {
   "cell_type": "code",
   "execution_count": 46,
   "metadata": {
    "collapsed": true
   },
   "outputs": [],
   "source": [
    "# def cramers_v(x, y):\n",
    "#     confusion_matrix = pd.crosstab(x,y)\n",
    "#     chi2 = ss.chi2_contingency(confusion_matrix)[0]\n",
    "#     n = confusion_matrix.sum().sum()\n",
    "#     phi2 = chi2/n\n",
    "#     r,k = confusion_matrix.shape\n",
    "#     phi2corr = max(0, phi2-((k-1)*(r-1))/(n-1))\n",
    "#     rcorr = r-((r-1)**2)/(n-1)\n",
    "#     kcorr = k-((k-1)**2)/(n-1)\n",
    "#     return np.sqrt(phi2corr/min((kcorr-1),(rcorr-1)))"
   ]
  },
  {
   "cell_type": "code",
   "execution_count": 47,
   "metadata": {
    "collapsed": true
   },
   "outputs": [],
   "source": [
    "# all variables\n",
    "# dtypes={'id':object, 'type':object, 'kind':object, 'num_claims':float, 'cit_received':float, 'cit_made':float,\n",
    "#        'cit_received_delay':float, 'cit_made_delay':float, 'parent_citation':float,\n",
    "#        'originality':float, 'generality':float, 'wipo_field_id':object, 'ipcr_section':object,\n",
    "#        'cpc_section_id':object,'nber_category_id':object,'uspc_mainclass_id':object}"
   ]
  }
 ],
 "metadata": {
  "anaconda-cloud": {},
  "kernelspec": {
   "display_name": "Python [default]",
   "language": "python",
   "name": "python3"
  },
  "language_info": {
   "codemirror_mode": {
    "name": "ipython",
    "version": 3
   },
   "file_extension": ".py",
   "mimetype": "text/x-python",
   "name": "python",
   "nbconvert_exporter": "python",
   "pygments_lexer": "ipython3",
   "version": "3.5.2"
  }
 },
 "nbformat": 4,
 "nbformat_minor": 1
}
