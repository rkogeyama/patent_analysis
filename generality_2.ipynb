{
 "cells": [
  {
   "cell_type": "code",
   "execution_count": 1,
   "metadata": {
    "collapsed": true
   },
   "outputs": [],
   "source": [
    "# Script to calculate generality and  application data\n",
    "# Generality: how diverse is the impact of a patent\n",
    "# This is done by calculating the herfindal index of citing patents"
   ]
  },
  {
   "cell_type": "code",
   "execution_count": 2,
   "metadata": {
    "collapsed": true
   },
   "outputs": [],
   "source": [
    "# as of Jan 13th, 2020, there are 496495 patents with nans (from 7 million patents)\n",
    "\n",
    "# Jan 13th, 2019\n",
    "# Script is running but there are two major issues\n",
    "# - there should not exist generality > 1 , so there is an error in calculation\n",
    "# - too many NANs (about 400k), but I will tackle this issue in 'too_many_nans.ipynb'\n",
    "\n",
    "# to tackle the first problem, I'll begin by creating a subset of the database\n",
    "# to do that, I'll use USPTO classification system"
   ]
  },
  {
   "cell_type": "code",
   "execution_count": 3,
   "metadata": {
    "collapsed": true
   },
   "outputs": [],
   "source": [
    "# Trying to save memory is leading to a small nightmare \n",
    "# I am postponing the use of dask modules"
   ]
  },
  {
   "cell_type": "code",
   "execution_count": 4,
   "metadata": {
    "collapsed": true
   },
   "outputs": [],
   "source": [
    "import sys\n",
    "sys.path.append('/home/rkogeyam/scripts/')\n",
    "from sampler import sampler\n",
    "\n",
    "import pandas as pd\n",
    "import numpy as np\n",
    "import re\n",
    "\n",
    "import matplotlib.pyplot as plt\n",
    "import dask.dataframe as dd"
   ]
  },
  {
   "cell_type": "code",
   "execution_count": 5,
   "metadata": {
    "collapsed": true
   },
   "outputs": [],
   "source": [
    "# wipo_horiz.csv\n",
    "# from wipo_horiz.ipynb\n",
    "# Original WIPO classification reshaped\n",
    "# patent_id:    patent number\n",
    "# field_id_n :  'n' is the WIPO class\n",
    "\n",
    "# uspatentcitation.tsv\n",
    "# uuid:         unique id\n",
    "# patent_id:    patent number\n",
    "# citation_id:  identifying number of patent to which select patent cites\n",
    "# date:         date select patent (patent_id) cites patent (citation_id)\n",
    "# name:         name of cited record\n",
    "# kind:         WIPO document kind codes \n",
    "#               (http://www.uspto.gov/learning-and-resources/support-centers/electronic-business-center/kind-codes-included-uspto-patent)\t2002 and After\n",
    "# country:      country cited patent was granted (always US)\n",
    "# category:     who cited the patent (examiner, applicant, other etc) - 2002 and After\n",
    "# sequence:     order in which this reference is cited by select patent\tall\n"
   ]
  },
  {
   "cell_type": "code",
   "execution_count": 6,
   "metadata": {
    "collapsed": true
   },
   "outputs": [],
   "source": [
    "%matplotlib inline"
   ]
  },
  {
   "cell_type": "code",
   "execution_count": 7,
   "metadata": {
    "collapsed": true
   },
   "outputs": [],
   "source": [
    "src= '/home/rkogeyam/PATENT_CITATION/data/generality_temp.csv'\n",
    "dst= '/home/rkogeyam/PATENT_CITATION/data/generality.csv'"
   ]
  },
  {
   "cell_type": "code",
   "execution_count": 8,
   "metadata": {
    "collapsed": false
   },
   "outputs": [
    {
     "name": "stdout",
     "output_type": "stream",
     "text": [
      "CPU times: user 47.2 s, sys: 4.72 s, total: 51.9 s\n",
      "Wall time: 51.9 s\n"
     ]
    }
   ],
   "source": [
    "%%time\n",
    "df=pd.read_csv(src, usecols=['patent_id','citation_id','field_id'])"
   ]
  },
  {
   "cell_type": "code",
   "execution_count": 9,
   "metadata": {
    "collapsed": false
   },
   "outputs": [
    {
     "data": {
      "text/plain": [
       "(82598452, 3)"
      ]
     },
     "execution_count": 9,
     "metadata": {},
     "output_type": "execute_result"
    }
   ],
   "source": [
    "df.shape"
   ]
  },
  {
   "cell_type": "code",
   "execution_count": 10,
   "metadata": {
    "collapsed": true
   },
   "outputs": [],
   "source": [
    "df = pd.get_dummies(df, columns=['field_id'])"
   ]
  },
  {
   "cell_type": "code",
   "execution_count": 11,
   "metadata": {
    "collapsed": false
   },
   "outputs": [
    {
     "data": {
      "text/html": [
       "<div>\n",
       "<table border=\"1\" class=\"dataframe\">\n",
       "  <thead>\n",
       "    <tr style=\"text-align: right;\">\n",
       "      <th></th>\n",
       "      <th>patent_id</th>\n",
       "      <th>citation_id</th>\n",
       "      <th>field_id_1</th>\n",
       "      <th>field_id_2</th>\n",
       "      <th>field_id_3</th>\n",
       "      <th>field_id_4</th>\n",
       "      <th>field_id_5</th>\n",
       "      <th>field_id_6</th>\n",
       "      <th>field_id_7</th>\n",
       "      <th>field_id_8</th>\n",
       "      <th>...</th>\n",
       "      <th>field_id_26</th>\n",
       "      <th>field_id_27</th>\n",
       "      <th>field_id_28</th>\n",
       "      <th>field_id_29</th>\n",
       "      <th>field_id_30</th>\n",
       "      <th>field_id_31</th>\n",
       "      <th>field_id_32</th>\n",
       "      <th>field_id_33</th>\n",
       "      <th>field_id_34</th>\n",
       "      <th>field_id_35</th>\n",
       "    </tr>\n",
       "  </thead>\n",
       "  <tbody>\n",
       "    <tr>\n",
       "      <th>0</th>\n",
       "      <td>3930271</td>\n",
       "      <td>2379430</td>\n",
       "      <td>0.0</td>\n",
       "      <td>0.0</td>\n",
       "      <td>0.0</td>\n",
       "      <td>0.0</td>\n",
       "      <td>0.0</td>\n",
       "      <td>0.0</td>\n",
       "      <td>0.0</td>\n",
       "      <td>0.0</td>\n",
       "      <td>...</td>\n",
       "      <td>0.0</td>\n",
       "      <td>0.0</td>\n",
       "      <td>0.0</td>\n",
       "      <td>0.0</td>\n",
       "      <td>0.0</td>\n",
       "      <td>0.0</td>\n",
       "      <td>0.0</td>\n",
       "      <td>1.0</td>\n",
       "      <td>0.0</td>\n",
       "      <td>0.0</td>\n",
       "    </tr>\n",
       "    <tr>\n",
       "      <th>1</th>\n",
       "      <td>3930271</td>\n",
       "      <td>2782422</td>\n",
       "      <td>0.0</td>\n",
       "      <td>0.0</td>\n",
       "      <td>0.0</td>\n",
       "      <td>0.0</td>\n",
       "      <td>0.0</td>\n",
       "      <td>0.0</td>\n",
       "      <td>0.0</td>\n",
       "      <td>0.0</td>\n",
       "      <td>...</td>\n",
       "      <td>0.0</td>\n",
       "      <td>0.0</td>\n",
       "      <td>0.0</td>\n",
       "      <td>0.0</td>\n",
       "      <td>0.0</td>\n",
       "      <td>0.0</td>\n",
       "      <td>0.0</td>\n",
       "      <td>1.0</td>\n",
       "      <td>0.0</td>\n",
       "      <td>0.0</td>\n",
       "    </tr>\n",
       "    <tr>\n",
       "      <th>2</th>\n",
       "      <td>3930272</td>\n",
       "      <td>2560109</td>\n",
       "      <td>0.0</td>\n",
       "      <td>0.0</td>\n",
       "      <td>0.0</td>\n",
       "      <td>0.0</td>\n",
       "      <td>0.0</td>\n",
       "      <td>0.0</td>\n",
       "      <td>0.0</td>\n",
       "      <td>0.0</td>\n",
       "      <td>...</td>\n",
       "      <td>0.0</td>\n",
       "      <td>0.0</td>\n",
       "      <td>0.0</td>\n",
       "      <td>0.0</td>\n",
       "      <td>0.0</td>\n",
       "      <td>0.0</td>\n",
       "      <td>0.0</td>\n",
       "      <td>1.0</td>\n",
       "      <td>0.0</td>\n",
       "      <td>0.0</td>\n",
       "    </tr>\n",
       "    <tr>\n",
       "      <th>3</th>\n",
       "      <td>3930272</td>\n",
       "      <td>2545289</td>\n",
       "      <td>0.0</td>\n",
       "      <td>0.0</td>\n",
       "      <td>0.0</td>\n",
       "      <td>0.0</td>\n",
       "      <td>0.0</td>\n",
       "      <td>0.0</td>\n",
       "      <td>0.0</td>\n",
       "      <td>0.0</td>\n",
       "      <td>...</td>\n",
       "      <td>0.0</td>\n",
       "      <td>0.0</td>\n",
       "      <td>0.0</td>\n",
       "      <td>0.0</td>\n",
       "      <td>0.0</td>\n",
       "      <td>0.0</td>\n",
       "      <td>0.0</td>\n",
       "      <td>1.0</td>\n",
       "      <td>0.0</td>\n",
       "      <td>0.0</td>\n",
       "    </tr>\n",
       "    <tr>\n",
       "      <th>4</th>\n",
       "      <td>3930272</td>\n",
       "      <td>1549144</td>\n",
       "      <td>0.0</td>\n",
       "      <td>0.0</td>\n",
       "      <td>0.0</td>\n",
       "      <td>0.0</td>\n",
       "      <td>0.0</td>\n",
       "      <td>0.0</td>\n",
       "      <td>0.0</td>\n",
       "      <td>0.0</td>\n",
       "      <td>...</td>\n",
       "      <td>0.0</td>\n",
       "      <td>0.0</td>\n",
       "      <td>0.0</td>\n",
       "      <td>0.0</td>\n",
       "      <td>0.0</td>\n",
       "      <td>0.0</td>\n",
       "      <td>0.0</td>\n",
       "      <td>1.0</td>\n",
       "      <td>0.0</td>\n",
       "      <td>0.0</td>\n",
       "    </tr>\n",
       "  </tbody>\n",
       "</table>\n",
       "<p>5 rows × 37 columns</p>\n",
       "</div>"
      ],
      "text/plain": [
       "   patent_id citation_id  field_id_1  field_id_2  field_id_3  field_id_4  \\\n",
       "0    3930271     2379430         0.0         0.0         0.0         0.0   \n",
       "1    3930271     2782422         0.0         0.0         0.0         0.0   \n",
       "2    3930272     2560109         0.0         0.0         0.0         0.0   \n",
       "3    3930272     2545289         0.0         0.0         0.0         0.0   \n",
       "4    3930272     1549144         0.0         0.0         0.0         0.0   \n",
       "\n",
       "   field_id_5  field_id_6  field_id_7  field_id_8     ...       field_id_26  \\\n",
       "0         0.0         0.0         0.0         0.0     ...               0.0   \n",
       "1         0.0         0.0         0.0         0.0     ...               0.0   \n",
       "2         0.0         0.0         0.0         0.0     ...               0.0   \n",
       "3         0.0         0.0         0.0         0.0     ...               0.0   \n",
       "4         0.0         0.0         0.0         0.0     ...               0.0   \n",
       "\n",
       "   field_id_27  field_id_28  field_id_29  field_id_30  field_id_31  \\\n",
       "0          0.0          0.0          0.0          0.0          0.0   \n",
       "1          0.0          0.0          0.0          0.0          0.0   \n",
       "2          0.0          0.0          0.0          0.0          0.0   \n",
       "3          0.0          0.0          0.0          0.0          0.0   \n",
       "4          0.0          0.0          0.0          0.0          0.0   \n",
       "\n",
       "   field_id_32  field_id_33  field_id_34  field_id_35  \n",
       "0          0.0          1.0          0.0          0.0  \n",
       "1          0.0          1.0          0.0          0.0  \n",
       "2          0.0          1.0          0.0          0.0  \n",
       "3          0.0          1.0          0.0          0.0  \n",
       "4          0.0          1.0          0.0          0.0  \n",
       "\n",
       "[5 rows x 37 columns]"
      ]
     },
     "execution_count": 11,
     "metadata": {},
     "output_type": "execute_result"
    }
   ],
   "source": [
    "df.head()"
   ]
  },
  {
   "cell_type": "code",
   "execution_count": 12,
   "metadata": {
    "collapsed": false
   },
   "outputs": [
    {
     "name": "stdout",
     "output_type": "stream",
     "text": [
      "CPU times: user 1min 23s, sys: 8.15 s, total: 1min 31s\n",
      "Wall time: 1min 31s\n"
     ]
    }
   ],
   "source": [
    "%%time\n",
    "# group on citation_id - thus adding all patents citing one receiver (citation_id)\n",
    "# thus this is generality\n",
    "# its the impact of a given patent\n",
    "\n",
    "# the index is equivalent to 1 - herfindal\n",
    "# this way, the closer to 1, the more general\n",
    "\n",
    "# the denominator is total citations squared\n",
    "# should be easy to check with citation values\n",
    "\n",
    "total_citation=df.groupby('citation_id').count().iloc[:,0]\n",
    "total_citation=np.square(total_citation)"
   ]
  },
  {
   "cell_type": "code",
   "execution_count": 13,
   "metadata": {
    "collapsed": false
   },
   "outputs": [
    {
     "data": {
      "text/plain": [
       "count    6.555151e+06\n",
       "mean     1.105135e+03\n",
       "std      2.118908e+04\n",
       "min      1.000000e+00\n",
       "25%      4.000000e+00\n",
       "50%      2.500000e+01\n",
       "75%      1.440000e+02\n",
       "max      1.518661e+07\n",
       "Name: patent_id, dtype: float64"
      ]
     },
     "execution_count": 13,
     "metadata": {},
     "output_type": "execute_result"
    }
   ],
   "source": [
    "total_citation.describe()"
   ]
  },
  {
   "cell_type": "code",
   "execution_count": 14,
   "metadata": {
    "collapsed": false
   },
   "outputs": [
    {
     "name": "stdout",
     "output_type": "stream",
     "text": [
      "CPU times: user 1min 33s, sys: 7.48 s, total: 1min 41s\n",
      "Wall time: 1min 41s\n"
     ]
    }
   ],
   "source": [
    "%%time\n",
    "\n",
    "# the numerator is the sum of the squares of citations in each class\n",
    "\n",
    "df=df.groupby('citation_id').sum().fillna(0) #in theory, I would not need fillna, check later"
   ]
  },
  {
   "cell_type": "code",
   "execution_count": 15,
   "metadata": {
    "collapsed": true
   },
   "outputs": [],
   "source": [
    "df.drop('patent_id', inplace=True, axis=1)"
   ]
  },
  {
   "cell_type": "code",
   "execution_count": 16,
   "metadata": {
    "collapsed": false
   },
   "outputs": [
    {
     "data": {
      "text/html": [
       "<div>\n",
       "<table border=\"1\" class=\"dataframe\">\n",
       "  <thead>\n",
       "    <tr style=\"text-align: right;\">\n",
       "      <th></th>\n",
       "      <th>field_id_1</th>\n",
       "      <th>field_id_2</th>\n",
       "      <th>field_id_3</th>\n",
       "      <th>field_id_4</th>\n",
       "      <th>field_id_5</th>\n",
       "      <th>field_id_6</th>\n",
       "      <th>field_id_7</th>\n",
       "      <th>field_id_8</th>\n",
       "      <th>field_id_9</th>\n",
       "      <th>field_id_10</th>\n",
       "      <th>...</th>\n",
       "      <th>field_id_26</th>\n",
       "      <th>field_id_27</th>\n",
       "      <th>field_id_28</th>\n",
       "      <th>field_id_29</th>\n",
       "      <th>field_id_30</th>\n",
       "      <th>field_id_31</th>\n",
       "      <th>field_id_32</th>\n",
       "      <th>field_id_33</th>\n",
       "      <th>field_id_34</th>\n",
       "      <th>field_id_35</th>\n",
       "    </tr>\n",
       "    <tr>\n",
       "      <th>citation_id</th>\n",
       "      <th></th>\n",
       "      <th></th>\n",
       "      <th></th>\n",
       "      <th></th>\n",
       "      <th></th>\n",
       "      <th></th>\n",
       "      <th></th>\n",
       "      <th></th>\n",
       "      <th></th>\n",
       "      <th></th>\n",
       "      <th></th>\n",
       "      <th></th>\n",
       "      <th></th>\n",
       "      <th></th>\n",
       "      <th></th>\n",
       "      <th></th>\n",
       "      <th></th>\n",
       "      <th></th>\n",
       "      <th></th>\n",
       "      <th></th>\n",
       "      <th></th>\n",
       "    </tr>\n",
       "  </thead>\n",
       "  <tbody>\n",
       "    <tr>\n",
       "      <th>0</th>\n",
       "      <td>0.0</td>\n",
       "      <td>0.0</td>\n",
       "      <td>0.0</td>\n",
       "      <td>0.0</td>\n",
       "      <td>0.0</td>\n",
       "      <td>0.0</td>\n",
       "      <td>0.0</td>\n",
       "      <td>0.0</td>\n",
       "      <td>0.0</td>\n",
       "      <td>0.0</td>\n",
       "      <td>...</td>\n",
       "      <td>0.0</td>\n",
       "      <td>0.0</td>\n",
       "      <td>0.0</td>\n",
       "      <td>0.0</td>\n",
       "      <td>0.0</td>\n",
       "      <td>0.0</td>\n",
       "      <td>0.0</td>\n",
       "      <td>0.0</td>\n",
       "      <td>0.0</td>\n",
       "      <td>0.0</td>\n",
       "    </tr>\n",
       "    <tr>\n",
       "      <th>0000000</th>\n",
       "      <td>0.0</td>\n",
       "      <td>0.0</td>\n",
       "      <td>0.0</td>\n",
       "      <td>0.0</td>\n",
       "      <td>0.0</td>\n",
       "      <td>0.0</td>\n",
       "      <td>0.0</td>\n",
       "      <td>0.0</td>\n",
       "      <td>0.0</td>\n",
       "      <td>0.0</td>\n",
       "      <td>...</td>\n",
       "      <td>0.0</td>\n",
       "      <td>0.0</td>\n",
       "      <td>0.0</td>\n",
       "      <td>1.0</td>\n",
       "      <td>0.0</td>\n",
       "      <td>0.0</td>\n",
       "      <td>0.0</td>\n",
       "      <td>0.0</td>\n",
       "      <td>0.0</td>\n",
       "      <td>0.0</td>\n",
       "    </tr>\n",
       "    <tr>\n",
       "      <th>000004</th>\n",
       "      <td>0.0</td>\n",
       "      <td>0.0</td>\n",
       "      <td>0.0</td>\n",
       "      <td>0.0</td>\n",
       "      <td>0.0</td>\n",
       "      <td>0.0</td>\n",
       "      <td>0.0</td>\n",
       "      <td>0.0</td>\n",
       "      <td>0.0</td>\n",
       "      <td>0.0</td>\n",
       "      <td>...</td>\n",
       "      <td>0.0</td>\n",
       "      <td>0.0</td>\n",
       "      <td>1.0</td>\n",
       "      <td>0.0</td>\n",
       "      <td>0.0</td>\n",
       "      <td>0.0</td>\n",
       "      <td>0.0</td>\n",
       "      <td>0.0</td>\n",
       "      <td>0.0</td>\n",
       "      <td>0.0</td>\n",
       "    </tr>\n",
       "    <tr>\n",
       "      <th>000006</th>\n",
       "      <td>0.0</td>\n",
       "      <td>1.0</td>\n",
       "      <td>0.0</td>\n",
       "      <td>0.0</td>\n",
       "      <td>0.0</td>\n",
       "      <td>0.0</td>\n",
       "      <td>0.0</td>\n",
       "      <td>0.0</td>\n",
       "      <td>0.0</td>\n",
       "      <td>0.0</td>\n",
       "      <td>...</td>\n",
       "      <td>0.0</td>\n",
       "      <td>0.0</td>\n",
       "      <td>0.0</td>\n",
       "      <td>0.0</td>\n",
       "      <td>0.0</td>\n",
       "      <td>0.0</td>\n",
       "      <td>0.0</td>\n",
       "      <td>0.0</td>\n",
       "      <td>0.0</td>\n",
       "      <td>0.0</td>\n",
       "    </tr>\n",
       "    <tr>\n",
       "      <th>0000482</th>\n",
       "      <td>0.0</td>\n",
       "      <td>0.0</td>\n",
       "      <td>0.0</td>\n",
       "      <td>1.0</td>\n",
       "      <td>0.0</td>\n",
       "      <td>0.0</td>\n",
       "      <td>0.0</td>\n",
       "      <td>0.0</td>\n",
       "      <td>0.0</td>\n",
       "      <td>0.0</td>\n",
       "      <td>...</td>\n",
       "      <td>0.0</td>\n",
       "      <td>0.0</td>\n",
       "      <td>0.0</td>\n",
       "      <td>0.0</td>\n",
       "      <td>0.0</td>\n",
       "      <td>0.0</td>\n",
       "      <td>0.0</td>\n",
       "      <td>0.0</td>\n",
       "      <td>0.0</td>\n",
       "      <td>0.0</td>\n",
       "    </tr>\n",
       "  </tbody>\n",
       "</table>\n",
       "<p>5 rows × 35 columns</p>\n",
       "</div>"
      ],
      "text/plain": [
       "             field_id_1  field_id_2  field_id_3  field_id_4  field_id_5  \\\n",
       "citation_id                                                               \n",
       "0                   0.0         0.0         0.0         0.0         0.0   \n",
       "0000000             0.0         0.0         0.0         0.0         0.0   \n",
       "000004              0.0         0.0         0.0         0.0         0.0   \n",
       "000006              0.0         1.0         0.0         0.0         0.0   \n",
       "0000482             0.0         0.0         0.0         1.0         0.0   \n",
       "\n",
       "             field_id_6  field_id_7  field_id_8  field_id_9  field_id_10  \\\n",
       "citation_id                                                                \n",
       "0                   0.0         0.0         0.0         0.0          0.0   \n",
       "0000000             0.0         0.0         0.0         0.0          0.0   \n",
       "000004              0.0         0.0         0.0         0.0          0.0   \n",
       "000006              0.0         0.0         0.0         0.0          0.0   \n",
       "0000482             0.0         0.0         0.0         0.0          0.0   \n",
       "\n",
       "                ...       field_id_26  field_id_27  field_id_28  field_id_29  \\\n",
       "citation_id     ...                                                            \n",
       "0               ...               0.0          0.0          0.0          0.0   \n",
       "0000000         ...               0.0          0.0          0.0          1.0   \n",
       "000004          ...               0.0          0.0          1.0          0.0   \n",
       "000006          ...               0.0          0.0          0.0          0.0   \n",
       "0000482         ...               0.0          0.0          0.0          0.0   \n",
       "\n",
       "             field_id_30  field_id_31  field_id_32  field_id_33  field_id_34  \\\n",
       "citation_id                                                                    \n",
       "0                    0.0          0.0          0.0          0.0          0.0   \n",
       "0000000              0.0          0.0          0.0          0.0          0.0   \n",
       "000004               0.0          0.0          0.0          0.0          0.0   \n",
       "000006               0.0          0.0          0.0          0.0          0.0   \n",
       "0000482              0.0          0.0          0.0          0.0          0.0   \n",
       "\n",
       "             field_id_35  \n",
       "citation_id               \n",
       "0                    0.0  \n",
       "0000000              0.0  \n",
       "000004               0.0  \n",
       "000006               0.0  \n",
       "0000482              0.0  \n",
       "\n",
       "[5 rows x 35 columns]"
      ]
     },
     "execution_count": 16,
     "metadata": {},
     "output_type": "execute_result"
    }
   ],
   "source": [
    "df.head()"
   ]
  },
  {
   "cell_type": "code",
   "execution_count": 17,
   "metadata": {
    "collapsed": true
   },
   "outputs": [],
   "source": [
    "# df=df.drop(['Unnamed: 0', 'sequence', 'patent_id_raw'], axis=1)"
   ]
  },
  {
   "cell_type": "code",
   "execution_count": 18,
   "metadata": {
    "collapsed": false
   },
   "outputs": [],
   "source": [
    "df_squared=np.square(df) #element-wise squaring\n",
    "df_squared=df_squared.sum(axis='columns') #sum all columns, per row"
   ]
  },
  {
   "cell_type": "code",
   "execution_count": 19,
   "metadata": {
    "collapsed": false
   },
   "outputs": [
    {
     "data": {
      "text/plain": [
       "count    6.555151e+06\n",
       "mean     7.165019e+02\n",
       "std      1.388037e+04\n",
       "min      1.000000e+00\n",
       "25%      2.000000e+00\n",
       "50%      1.600000e+01\n",
       "75%      8.300000e+01\n",
       "max      9.371377e+06\n",
       "dtype: float64"
      ]
     },
     "execution_count": 19,
     "metadata": {},
     "output_type": "execute_result"
    }
   ],
   "source": [
    "df_squared.describe()"
   ]
  },
  {
   "cell_type": "code",
   "execution_count": 20,
   "metadata": {
    "collapsed": true
   },
   "outputs": [],
   "source": [
    "# df=total_citation.join(df_squared, how='left')  # join only for dataframe\n",
    "df2=pd.concat([df_squared, total_citation], axis=1)"
   ]
  },
  {
   "cell_type": "code",
   "execution_count": 21,
   "metadata": {
    "collapsed": true
   },
   "outputs": [],
   "source": [
    "df2.columns=['df_squared', 'total_citation']"
   ]
  },
  {
   "cell_type": "code",
   "execution_count": 22,
   "metadata": {
    "collapsed": false
   },
   "outputs": [],
   "source": [
    "# df.sort_values('total_citation', ascending=False)"
   ]
  },
  {
   "cell_type": "code",
   "execution_count": 23,
   "metadata": {
    "collapsed": false
   },
   "outputs": [
    {
     "name": "stdout",
     "output_type": "stream",
     "text": [
      "CPU times: user 70 ms, sys: 2 ms, total: 72 ms\n",
      "Wall time: 72.4 ms\n"
     ]
    }
   ],
   "source": [
    "%%time\n",
    "#herfindal \n",
    "\n",
    "df2['herfindal']=df2['df_squared']/df2['total_citation'] #its a measure of concentration\n",
    "\n",
    "df2['generality']=1-df2['herfindal'] # as defined in Hall et al, 2001"
   ]
  },
  {
   "cell_type": "code",
   "execution_count": 24,
   "metadata": {
    "collapsed": false
   },
   "outputs": [
    {
     "data": {
      "text/html": [
       "<div>\n",
       "<table border=\"1\" class=\"dataframe\">\n",
       "  <thead>\n",
       "    <tr style=\"text-align: right;\">\n",
       "      <th></th>\n",
       "      <th>df_squared</th>\n",
       "      <th>total_citation</th>\n",
       "      <th>herfindal</th>\n",
       "      <th>generality</th>\n",
       "    </tr>\n",
       "  </thead>\n",
       "  <tbody>\n",
       "    <tr>\n",
       "      <th>count</th>\n",
       "      <td>6.555151e+06</td>\n",
       "      <td>6.555151e+06</td>\n",
       "      <td>6.555151e+06</td>\n",
       "      <td>6.555151e+06</td>\n",
       "    </tr>\n",
       "    <tr>\n",
       "      <th>mean</th>\n",
       "      <td>7.165019e+02</td>\n",
       "      <td>1.105135e+03</td>\n",
       "      <td>7.466114e-01</td>\n",
       "      <td>2.533886e-01</td>\n",
       "    </tr>\n",
       "    <tr>\n",
       "      <th>std</th>\n",
       "      <td>1.388037e+04</td>\n",
       "      <td>2.118908e+04</td>\n",
       "      <td>2.652133e-01</td>\n",
       "      <td>2.652133e-01</td>\n",
       "    </tr>\n",
       "    <tr>\n",
       "      <th>min</th>\n",
       "      <td>1.000000e+00</td>\n",
       "      <td>1.000000e+00</td>\n",
       "      <td>7.640412e-02</td>\n",
       "      <td>0.000000e+00</td>\n",
       "    </tr>\n",
       "    <tr>\n",
       "      <th>25%</th>\n",
       "      <td>2.000000e+00</td>\n",
       "      <td>4.000000e+00</td>\n",
       "      <td>5.000000e-01</td>\n",
       "      <td>0.000000e+00</td>\n",
       "    </tr>\n",
       "    <tr>\n",
       "      <th>50%</th>\n",
       "      <td>1.600000e+01</td>\n",
       "      <td>2.500000e+01</td>\n",
       "      <td>8.116343e-01</td>\n",
       "      <td>1.883657e-01</td>\n",
       "    </tr>\n",
       "    <tr>\n",
       "      <th>75%</th>\n",
       "      <td>8.300000e+01</td>\n",
       "      <td>1.440000e+02</td>\n",
       "      <td>1.000000e+00</td>\n",
       "      <td>5.000000e-01</td>\n",
       "    </tr>\n",
       "    <tr>\n",
       "      <th>max</th>\n",
       "      <td>9.371377e+06</td>\n",
       "      <td>1.518661e+07</td>\n",
       "      <td>1.000000e+00</td>\n",
       "      <td>9.235959e-01</td>\n",
       "    </tr>\n",
       "  </tbody>\n",
       "</table>\n",
       "</div>"
      ],
      "text/plain": [
       "         df_squared  total_citation     herfindal    generality\n",
       "count  6.555151e+06    6.555151e+06  6.555151e+06  6.555151e+06\n",
       "mean   7.165019e+02    1.105135e+03  7.466114e-01  2.533886e-01\n",
       "std    1.388037e+04    2.118908e+04  2.652133e-01  2.652133e-01\n",
       "min    1.000000e+00    1.000000e+00  7.640412e-02  0.000000e+00\n",
       "25%    2.000000e+00    4.000000e+00  5.000000e-01  0.000000e+00\n",
       "50%    1.600000e+01    2.500000e+01  8.116343e-01  1.883657e-01\n",
       "75%    8.300000e+01    1.440000e+02  1.000000e+00  5.000000e-01\n",
       "max    9.371377e+06    1.518661e+07  1.000000e+00  9.235959e-01"
      ]
     },
     "execution_count": 24,
     "metadata": {},
     "output_type": "execute_result"
    }
   ],
   "source": [
    "df2.describe()"
   ]
  },
  {
   "cell_type": "code",
   "execution_count": 25,
   "metadata": {
    "collapsed": true
   },
   "outputs": [],
   "source": [
    "#select more negative values of generality (it should be between 0 and 1)\n",
    "# df.sort_values('total_citation', ascending=False)"
   ]
  },
  {
   "cell_type": "code",
   "execution_count": 26,
   "metadata": {
    "collapsed": false
   },
   "outputs": [],
   "source": [
    "# total_citation.reset_index().set_index('citation_id')\n",
    "# total_citation.reset_index()"
   ]
  },
  {
   "cell_type": "code",
   "execution_count": 27,
   "metadata": {
    "collapsed": false
   },
   "outputs": [
    {
     "data": {
      "text/plain": [
       "<matplotlib.axes._subplots.AxesSubplot at 0x7ff7f5a6ae80>"
      ]
     },
     "execution_count": 27,
     "metadata": {},
     "output_type": "execute_result"
    },
    {
     "data": {
      "image/png": "[encoded data removed]",
      "text/plain": [
       "<matplotlib.figure.Figure at 0x7ff82538f898>"
      ]
     },
     "metadata": {},
     "output_type": "display_data"
    }
   ],
   "source": [
    "#merge previous selection to wipo dataset\n",
    "df2['generality'].hist()"
   ]
  },
  {
   "cell_type": "code",
   "execution_count": 28,
   "metadata": {
    "collapsed": true
   },
   "outputs": [],
   "source": [
    "df2.to_csv(dst)"
   ]
  },
  {
   "cell_type": "code",
   "execution_count": 29,
   "metadata": {
    "collapsed": false
   },
   "outputs": [],
   "source": [
    "# search for errors\n",
    "\n",
    "# df_search=df2.sort_values('output', ascending=False).head(100)\n",
    "# df=df_search.join(df, how='inner') \n",
    "# pd.set_option('display.max_columns', 500)\n",
    "# df"
   ]
  },
  {
   "cell_type": "code",
   "execution_count": 30,
   "metadata": {
    "collapsed": true
   },
   "outputs": [],
   "source": [
    "# list of patents NaN attributes\n",
    "\n",
    "# df[df.isnull().any(axis=1)]['citation_id'] "
   ]
  },
  {
   "cell_type": "code",
   "execution_count": 31,
   "metadata": {
    "collapsed": false
   },
   "outputs": [],
   "source": [
    "#as of Jan 6th, 2020\n",
    "#check if calculation is right\n",
    "#create the generality indicator"
   ]
  }
 ],
 "metadata": {
  "anaconda-cloud": {},
  "kernelspec": {
   "display_name": "Python [default]",
   "language": "python",
   "name": "python3"
  },
  "language_info": {
   "codemirror_mode": {
    "name": "ipython",
    "version": 3
   },
   "file_extension": ".py",
   "mimetype": "text/x-python",
   "name": "python",
   "nbconvert_exporter": "python",
   "pygments_lexer": "ipython3",
   "version": "3.5.2"
  }
 },
 "nbformat": 4,
 "nbformat_minor": 1
}
