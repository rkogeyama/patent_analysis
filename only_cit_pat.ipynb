{
 "cells": [
  {
   "cell_type": "code",
   "execution_count": 75,
   "metadata": {
    "collapsed": false
   },
   "outputs": [],
   "source": [
    "import pandas as pd\n",
    "import numpy as np\n",
    "import itertools\n",
    "# import seaborn as sns\n",
    "# import networkx as nx\n",
    "# import matplotlib.pyplot as plt\n",
    "import csv\n",
    "# from graphviz import Digraph\n",
    "# import igraph\n",
    "\n",
    "\n",
    "from determinants_scripts import classes, dtypes\n",
    "\n",
    "src='data/cleanuspatentcitation.csv'\n",
    "# names=['index', 'id', 'cit_received']\n",
    "# usecols=['id', 'cit_received']\n",
    "# dtype={'main_group':'int64', 'subgroup':'int64'}\n",
    "# cols=['patent_id','citation_id', 'cit_delay']\n",
    "usecols=['patent_id', 'citation_id']\n",
    "\n",
    "df = pd.read_csv(src, chunksize=1000,usecols=[2,3], skiprows=[0], index_col=0)\n",
    "\n",
    "# df = pd.read_csv(src, chunksize=1000,  parse_dates=['date'], error_bad_lines=False)\n",
    "# df = pd.read_csv(src, usecols=usecols, names=names, chunksize=1000, dtype=dtype, index_col='id')\n",
    "# df=pd.read_csv(src, usecols=[0, 1, 3], dtype={0:object}, index_col=0, chunksize=1000)\n",
    "\n",
    "%matplotlib inline"
   ]
  },
  {
   "cell_type": "code",
   "execution_count": 76,
   "metadata": {
    "collapsed": false
   },
   "outputs": [],
   "source": [
    "dst='data/only_cit_pat.csv'\n",
    "\n",
    "for i in df:\n",
    "    i.to_csv(dst, mode='a', index=False)"
   ]
  },
  {
   "cell_type": "code",
   "execution_count": null,
   "metadata": {
    "collapsed": true
   },
   "outputs": [],
   "source": []
  }
 ],
 "metadata": {
  "anaconda-cloud": {},
  "kernelspec": {
   "display_name": "Python [conda env:4.2.0]",
   "language": "python",
   "name": "conda-env-4.2.0-py"
  },
  "language_info": {
   "codemirror_mode": {
    "name": "ipython",
    "version": 3
   },
   "file_extension": ".py",
   "mimetype": "text/x-python",
   "name": "python",
   "nbconvert_exporter": "python",
   "pygments_lexer": "ipython3",
   "version": "3.5.2"
  }
 },
 "nbformat": 4,
 "nbformat_minor": 1
}
