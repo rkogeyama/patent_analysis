{
 "cells": [
  {
   "cell_type": "code",
   "execution_count": 1,
   "metadata": {
    "collapsed": true
   },
   "outputs": [],
   "source": [
    "# Load the needed libraries\n",
    "\n",
    "import numpy as np\n",
    "import pandas as pd\n",
    "import matplotlib.pyplot as plt\n",
    "from scipy.optimize import minimize\n",
    "from sklearn import linear_model"
   ]
  },
  {
   "cell_type": "code",
   "execution_count": 2,
   "metadata": {
    "collapsed": true
   },
   "outputs": [],
   "source": [
    "# Simulate the data and the model\n",
    "\n",
    "N = 200\n",
    "X = np.random.randint(1, 100, N)\n",
    "Y = 100 + 5 * (X + 3*np.random.randn(N))\n",
    "thetaStart = np.array([1,1])"
   ]
  },
  {
   "cell_type": "code",
   "execution_count": 5,
   "metadata": {
    "collapsed": false
   },
   "outputs": [
    {
     "data": {
      "image/png": "[encoded data removed]",
      "text/plain": [
       "<Figure size 432x288 with 1 Axes>"
      ]
     },
     "metadata": {},
     "output_type": "display_data"
    }
   ],
   "source": [
    "# Scatter Plot the dataset\n",
    "\n",
    "#plt.plot(X, Y, 'ro')\n",
    "plt.plot(X, Y, 'g+')\n",
    "\n",
    "plt.show()"
   ]
  },
  {
   "cell_type": "code",
   "execution_count": 6,
   "metadata": {
    "collapsed": true
   },
   "outputs": [],
   "source": [
    "# The cost function for Minimize\n",
    "\n",
    "def myCost(theta):\n",
    "    predict = theta[0] + theta[1]*X\n",
    "    return (1/(2*N))*sum((Y-predict)**2)\n",
    "    #return (1/(2*N))*sum(abs(Y-predict))"
   ]
  },
  {
   "cell_type": "code",
   "execution_count": 7,
   "metadata": {
    "collapsed": false
   },
   "outputs": [
    {
     "name": "stdout",
     "output_type": "stream",
     "text": [
      "Optimization terminated successfully.\n",
      "         Current function value: 99.581633\n",
      "         Iterations: 78\n",
      "         Function evaluations: 149\n",
      "[97.74736963  5.00875636]\n"
     ]
    }
   ],
   "source": [
    "# Minimizing using Minimize with Nelder-Mead\n",
    "\n",
    "resNM = minimize(myCost, thetaStart, method = 'Nelder-Mead', options={'disp': True})\n",
    "print(resNM['x'])"
   ]
  },
  {
   "cell_type": "code",
   "execution_count": 8,
   "metadata": {
    "collapsed": false
   },
   "outputs": [
    {
     "name": "stdout",
     "output_type": "stream",
     "text": [
      "Optimization terminated successfully.\n",
      "         Current function value: 99.581633\n",
      "         Iterations: 8\n",
      "         Function evaluations: 36\n",
      "         Gradient evaluations: 9\n",
      "[97.7473467   5.00875709]\n"
     ]
    }
   ],
   "source": [
    "# Minimizing using Minimize with BFGS\n",
    "# Eh um tipo de gradient descent\n",
    "\n",
    "resBFGS = minimize(myCost, thetaStart, method = 'BFGS', options={'disp': True})\n",
    "print(resBFGS['x'])"
   ]
  },
  {
   "cell_type": "code",
   "execution_count": 9,
   "metadata": {
    "collapsed": false
   },
   "outputs": [
    {
     "name": "stdout",
     "output_type": "stream",
     "text": [
      "Warning: Desired error not necessarily achieved due to precision loss.\n",
      "         Current function value: 99.581633\n",
      "         Iterations: 13\n",
      "         Function evaluations: 396\n",
      "         Gradient evaluations: 96\n",
      "[97.74733871  5.00875721]\n"
     ]
    }
   ],
   "source": [
    "# Minimizing using Minimize with CG\n",
    "\n",
    "resCG = minimize(myCost, thetaStart, method = 'CG', options={'disp': True})\n",
    "print(resCG['x'])"
   ]
  },
  {
   "cell_type": "code",
   "execution_count": 10,
   "metadata": {
    "collapsed": false
   },
   "outputs": [
    {
     "name": "stdout",
     "output_type": "stream",
     "text": [
      "Optimization terminated successfully.\n",
      "         Current function value: 99.581633\n",
      "         Iterations: 3\n",
      "         Function evaluations: 4\n",
      "         Gradient evaluations: 14\n",
      "         Hessian evaluations: 0\n",
      "[97.74732289  5.00875744]\n"
     ]
    }
   ],
   "source": [
    "# Minimizing using Minimize with Newton-CG\n",
    "\n",
    "def jacobian(theta):\n",
    "    predict = theta[0] + theta[1]*X\n",
    "    return np.array([(-1/N)*sum(Y-predict) , (-1/N)*sum(X*(Y-predict))])\n",
    "    \n",
    "resNCG = minimize(myCost, thetaStart, method = 'Newton-CG', jac = jacobian, options={'disp': True})\n",
    "print(resNCG['x'])"
   ]
  },
  {
   "cell_type": "code",
   "execution_count": 11,
   "metadata": {
    "collapsed": false
   },
   "outputs": [
    {
     "name": "stdout",
     "output_type": "stream",
     "text": [
      "[97.61697324]\n",
      "[5.04166171]\n"
     ]
    },
    {
     "name": "stderr",
     "output_type": "stream",
     "text": [
      "C:\\Users\\jp\\Anaconda3\\lib\\site-packages\\sklearn\\linear_model\\stochastic_gradient.py:117: DeprecationWarning: n_iter parameter is deprecated in 0.19 and will be removed in 0.21. Use max_iter and tol instead.\n",
      "  DeprecationWarning)\n"
     ]
    }
   ],
   "source": [
    "# Using Stochastic Gradient Descent in SKLearn\n",
    "\n",
    "xAux = (X.reshape(-1,1))\n",
    "sgd = linear_model.SGDRegressor(loss=\"squared_loss\")\n",
    "sgd.n_iter = np.ceil(10**6 / len(Y))\n",
    "sgd.fit(xAux, Y )\n",
    "print(sgd.intercept_)\n",
    "print(sgd.coef_)"
   ]
  },
  {
   "cell_type": "code",
   "execution_count": null,
   "metadata": {
    "collapsed": true
   },
   "outputs": [],
   "source": []
  }
 ],
 "metadata": {
  "anaconda-cloud": {},
  "kernelspec": {
   "display_name": "Python [default]",
   "language": "python",
   "name": "python3"
  },
  "language_info": {
   "codemirror_mode": {
    "name": "ipython",
    "version": 3
   },
   "file_extension": ".py",
   "mimetype": "text/x-python",
   "name": "python",
   "nbconvert_exporter": "python",
   "pygments_lexer": "ipython3",
   "version": "3.5.2"
  }
 },
 "nbformat": 4,
 "nbformat_minor": 2
}
