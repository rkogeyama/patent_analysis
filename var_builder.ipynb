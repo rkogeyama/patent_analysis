{
 "cells": [
  {
   "cell_type": "code",
   "execution_count": 1,
   "metadata": {
    "collapsed": true
   },
   "outputs": [],
   "source": [
    "# Script to evaluate citation delay\n",
    "# Backward citation - citation made by a patent\n",
    "# Forward citation - citation received by a patent\n",
    "\n",
    "# Renato Kogeyama\n",
    "\n",
    "# Jan 17 2020\n",
    "# Join cit_delay with var_builder\n",
    "# The only thing var_builder was doing was including kind and type \n",
    "\n",
    "\n",
    "# Jan 03 2020\n",
    "# Miami\n",
    "# I am using this script to calculate the average delay in citation - to follow Hall et al, 2001\n",
    "# patent.csv has the following columns\n",
    "# id \ttype \tnumber \tcountry \tdate \tabstract \ttitle \tkind \tnum_claims \tfilename\n",
    "# interest on id, type, date, kind, num_claims\n",
    "\n",
    "# I use two sources, uspatentcitation.tsv and patent.csv\n",
    "# The first is a citation-level dataset with information about the citing patent\n",
    "# The second is a patent-level dataset with information about the patent\n",
    "\n",
    "# Cleaning\n",
    "# I tested in other scripts the quality of the patent identifier\n",
    "# It does not require cleaning - only 4 erros from 6 million patents\n",
    "# The cleaning script is there anyway\n",
    "\n",
    "# Merging\n",
    "# I merge on the citation level (df)\n"
   ]
  },
  {
   "cell_type": "code",
   "execution_count": 2,
   "metadata": {
    "collapsed": true
   },
   "outputs": [],
   "source": [
    "import pandas as pd\n",
    "import numpy as np\n",
    "import matplotlib.pyplot as plt"
   ]
  },
  {
   "cell_type": "code",
   "execution_count": 3,
   "metadata": {
    "collapsed": false
   },
   "outputs": [],
   "source": [
    "%matplotlib inline"
   ]
  },
  {
   "cell_type": "code",
   "execution_count": 4,
   "metadata": {
    "collapsed": true
   },
   "outputs": [],
   "source": [
    "citation_df = '/home/rkogeyam/PATENT_CITATION/data/cleanuspatentcitation.csv'\n",
    "# cit_tree = '/home/rkogeyam/PATENT_CITATION/data/cit_tree.csv'\n",
    "\n",
    "patent= 'data/patent.csv'\n",
    "dst='data/var_builder.csv'\n",
    "\n",
    "# citation_df = r'/home/rkogeyam/PATENT_CITATION/data/uspatentcitation.tsv'\n",
    "# dst = '/home/rkogeyam/PATENT_CITATION/data/back_cit_delay.csv'\n",
    "# dst_forw = '/home/rkogeyam/PATENT_CITATION/data/forw_cit_delay.csv'"
   ]
  },
  {
   "cell_type": "code",
   "execution_count": 5,
   "metadata": {
    "collapsed": false
   },
   "outputs": [
    {
     "name": "stdout",
     "output_type": "stream",
     "text": [
      "CPU times: user 4min 5s, sys: 19.4 s, total: 4min 25s\n",
      "Wall time: 4min 25s\n"
     ]
    }
   ],
   "source": [
    "%%time\n",
    "df = pd.read_csv(citation_df, usecols=['patent_id', 'citation_id', 'date', 'kind', 'category', 'sequence'], dtype=object)"
   ]
  },
  {
   "cell_type": "code",
   "execution_count": 6,
   "metadata": {
    "collapsed": false
   },
   "outputs": [],
   "source": [
    "pt_df = pd.read_csv(patent, sep='\\t', usecols=['id', 'type', 'date', 'kind', 'num_claims'], error_bad_lines=False, index_col=0, dtype=object)"
   ]
  },
  {
   "cell_type": "code",
   "execution_count": 7,
   "metadata": {
    "collapsed": false
   },
   "outputs": [],
   "source": [
    "# df=df.iloc[:,1:]"
   ]
  },
  {
   "cell_type": "code",
   "execution_count": 8,
   "metadata": {
    "collapsed": false
   },
   "outputs": [
    {
     "data": {
      "text/html": [
       "<div>\n",
       "<table border=\"1\" class=\"dataframe\">\n",
       "  <thead>\n",
       "    <tr style=\"text-align: right;\">\n",
       "      <th></th>\n",
       "      <th>patent_id</th>\n",
       "      <th>citation_id</th>\n",
       "      <th>date</th>\n",
       "      <th>kind</th>\n",
       "      <th>category</th>\n",
       "      <th>sequence</th>\n",
       "    </tr>\n",
       "  </thead>\n",
       "  <tbody>\n",
       "    <tr>\n",
       "      <th>0</th>\n",
       "      <td>9009250</td>\n",
       "      <td>8127342</td>\n",
       "      <td>2012-02-01</td>\n",
       "      <td>B2</td>\n",
       "      <td>cited by applicant</td>\n",
       "      <td>622</td>\n",
       "    </tr>\n",
       "    <tr>\n",
       "      <th>1</th>\n",
       "      <td>9643605</td>\n",
       "      <td>5471515</td>\n",
       "      <td>1995-11-01</td>\n",
       "      <td>A</td>\n",
       "      <td>cited by applicant</td>\n",
       "      <td>413</td>\n",
       "    </tr>\n",
       "    <tr>\n",
       "      <th>2</th>\n",
       "      <td>5354551</td>\n",
       "      <td>4875247</td>\n",
       "      <td>1989-10-01</td>\n",
       "      <td>NaN</td>\n",
       "      <td>NaN</td>\n",
       "      <td>11</td>\n",
       "    </tr>\n",
       "    <tr>\n",
       "      <th>3</th>\n",
       "      <td>D786922</td>\n",
       "      <td>D718330</td>\n",
       "      <td>2014-11-01</td>\n",
       "      <td>S</td>\n",
       "      <td>cited by examiner</td>\n",
       "      <td>11</td>\n",
       "    </tr>\n",
       "    <tr>\n",
       "      <th>4</th>\n",
       "      <td>D490798</td>\n",
       "      <td>D190749</td>\n",
       "      <td>1961-06-01</td>\n",
       "      <td>S</td>\n",
       "      <td>cited by examiner</td>\n",
       "      <td>1</td>\n",
       "    </tr>\n",
       "  </tbody>\n",
       "</table>\n",
       "</div>"
      ],
      "text/plain": [
       "  patent_id citation_id        date kind            category sequence\n",
       "0   9009250     8127342  2012-02-01   B2  cited by applicant      622\n",
       "1   9643605     5471515  1995-11-01    A  cited by applicant      413\n",
       "2   5354551     4875247  1989-10-01  NaN                 NaN       11\n",
       "3   D786922     D718330  2014-11-01    S   cited by examiner       11\n",
       "4   D490798     D190749  1961-06-01    S   cited by examiner        1"
      ]
     },
     "execution_count": 8,
     "metadata": {},
     "output_type": "execute_result"
    }
   ],
   "source": [
    "df.head()\n",
    "# df.get_chunk().head()"
   ]
  },
  {
   "cell_type": "code",
   "execution_count": 9,
   "metadata": {
    "collapsed": false
   },
   "outputs": [
    {
     "data": {
      "text/html": [
       "<div>\n",
       "<table border=\"1\" class=\"dataframe\">\n",
       "  <thead>\n",
       "    <tr style=\"text-align: right;\">\n",
       "      <th></th>\n",
       "      <th>type</th>\n",
       "      <th>date</th>\n",
       "      <th>kind</th>\n",
       "      <th>num_claims</th>\n",
       "    </tr>\n",
       "    <tr>\n",
       "      <th>id</th>\n",
       "      <th></th>\n",
       "      <th></th>\n",
       "      <th></th>\n",
       "      <th></th>\n",
       "    </tr>\n",
       "  </thead>\n",
       "  <tbody>\n",
       "    <tr>\n",
       "      <th>3930271</th>\n",
       "      <td>utility</td>\n",
       "      <td>1976-01-06</td>\n",
       "      <td>A</td>\n",
       "      <td>4</td>\n",
       "    </tr>\n",
       "    <tr>\n",
       "      <th>3930272</th>\n",
       "      <td>utility</td>\n",
       "      <td>1976-01-06</td>\n",
       "      <td>A</td>\n",
       "      <td>3</td>\n",
       "    </tr>\n",
       "    <tr>\n",
       "      <th>3930273</th>\n",
       "      <td>utility</td>\n",
       "      <td>1976-01-06</td>\n",
       "      <td>A</td>\n",
       "      <td>24</td>\n",
       "    </tr>\n",
       "    <tr>\n",
       "      <th>3930274</th>\n",
       "      <td>utility</td>\n",
       "      <td>1976-01-06</td>\n",
       "      <td>A</td>\n",
       "      <td>7</td>\n",
       "    </tr>\n",
       "    <tr>\n",
       "      <th>3930275</th>\n",
       "      <td>utility</td>\n",
       "      <td>1976-01-06</td>\n",
       "      <td>A</td>\n",
       "      <td>9</td>\n",
       "    </tr>\n",
       "  </tbody>\n",
       "</table>\n",
       "</div>"
      ],
      "text/plain": [
       "            type        date kind num_claims\n",
       "id                                          \n",
       "3930271  utility  1976-01-06    A          4\n",
       "3930272  utility  1976-01-06    A          3\n",
       "3930273  utility  1976-01-06    A         24\n",
       "3930274  utility  1976-01-06    A          7\n",
       "3930275  utility  1976-01-06    A          9"
      ]
     },
     "execution_count": 9,
     "metadata": {},
     "output_type": "execute_result"
    }
   ],
   "source": [
    "pt_df.head()\n",
    "# pt_df.get_chunk().head()"
   ]
  },
  {
   "cell_type": "code",
   "execution_count": 10,
   "metadata": {
    "collapsed": true
   },
   "outputs": [],
   "source": []
  },
  {
   "cell_type": "code",
   "execution_count": 10,
   "metadata": {
    "collapsed": false
   },
   "outputs": [],
   "source": [
    "df=df.rename(columns = {'date':'citation_date'})\n",
    "df['citation_date']=pd.to_datetime(df['citation_date'], format=\"%Y-%m-%d\", errors='coerce') "
   ]
  },
  {
   "cell_type": "code",
   "execution_count": 11,
   "metadata": {
    "collapsed": false
   },
   "outputs": [],
   "source": [
    "# merge between patent data and citations on patent_id (citing)\n",
    "# merging on the citation dataset drops patents without citing\n",
    "# later i could standardize to make patent_id index and use join instead of merge\n",
    "\n",
    "df=pd.merge(df, pt_df, how='left', left_on='patent_id', right_index=True)"
   ]
  },
  {
   "cell_type": "code",
   "execution_count": 12,
   "metadata": {
    "collapsed": false
   },
   "outputs": [],
   "source": [
    "# date format to allow calculations\n",
    "df=df.rename(columns = {'date':'patent_date'})\n",
    "df['patent_date']=pd.to_datetime(df['patent_date'], format=\"%Y-%m-%d\", errors='coerce') #conversao de string para data"
   ]
  },
  {
   "cell_type": "code",
   "execution_count": 13,
   "metadata": {
    "collapsed": false
   },
   "outputs": [],
   "source": [
    "# df.shape"
   ]
  },
  {
   "cell_type": "code",
   "execution_count": 14,
   "metadata": {
    "collapsed": false
   },
   "outputs": [],
   "source": [
    "# if I do not drop nans, the script raises an error later when converting day interval into years\n",
    "# I could substitute with average instead of dropping, this way I do not lose the citation info\n",
    "# however, not always it will be possible to average - cases where there is ony one citation, for example\n",
    "# For this reason, at this point, I'll keep the NAN and circumvent the issues as they arise\n",
    "\n",
    "# df=df.dropna()"
   ]
  },
  {
   "cell_type": "code",
   "execution_count": 15,
   "metadata": {
    "collapsed": false
   },
   "outputs": [],
   "source": [
    "# df.shape"
   ]
  },
  {
   "cell_type": "code",
   "execution_count": 16,
   "metadata": {
    "collapsed": false
   },
   "outputs": [],
   "source": [
    "# delay is the time interval between grant and citation\n",
    "df['cit_delay']=df['patent_date'].sub(df['citation_date'], axis=0)"
   ]
  },
  {
   "cell_type": "code",
   "execution_count": 17,
   "metadata": {
    "collapsed": false
   },
   "outputs": [],
   "source": [
    "# convert to date format\n",
    "df['cit_delay']=pd.to_timedelta(df['cit_delay'])"
   ]
  },
  {
   "cell_type": "code",
   "execution_count": 18,
   "metadata": {
    "collapsed": false
   },
   "outputs": [
    {
     "data": {
      "text/html": [
       "<div>\n",
       "<table border=\"1\" class=\"dataframe\">\n",
       "  <thead>\n",
       "    <tr style=\"text-align: right;\">\n",
       "      <th></th>\n",
       "      <th>patent_id</th>\n",
       "      <th>citation_id</th>\n",
       "      <th>citation_date</th>\n",
       "      <th>kind_x</th>\n",
       "      <th>category</th>\n",
       "      <th>sequence</th>\n",
       "      <th>type</th>\n",
       "      <th>patent_date</th>\n",
       "      <th>kind_y</th>\n",
       "      <th>num_claims</th>\n",
       "      <th>cit_delay</th>\n",
       "    </tr>\n",
       "  </thead>\n",
       "  <tbody>\n",
       "    <tr>\n",
       "      <th>0</th>\n",
       "      <td>9009250</td>\n",
       "      <td>8127342</td>\n",
       "      <td>2012-02-01</td>\n",
       "      <td>B2</td>\n",
       "      <td>cited by applicant</td>\n",
       "      <td>622</td>\n",
       "      <td>utility</td>\n",
       "      <td>2015-04-14</td>\n",
       "      <td>B2</td>\n",
       "      <td>27</td>\n",
       "      <td>1168 days</td>\n",
       "    </tr>\n",
       "    <tr>\n",
       "      <th>1</th>\n",
       "      <td>9643605</td>\n",
       "      <td>5471515</td>\n",
       "      <td>1995-11-01</td>\n",
       "      <td>A</td>\n",
       "      <td>cited by applicant</td>\n",
       "      <td>413</td>\n",
       "      <td>utility</td>\n",
       "      <td>2017-05-09</td>\n",
       "      <td>B2</td>\n",
       "      <td>28</td>\n",
       "      <td>7860 days</td>\n",
       "    </tr>\n",
       "    <tr>\n",
       "      <th>2</th>\n",
       "      <td>5354551</td>\n",
       "      <td>4875247</td>\n",
       "      <td>1989-10-01</td>\n",
       "      <td>NaN</td>\n",
       "      <td>NaN</td>\n",
       "      <td>11</td>\n",
       "      <td>utility</td>\n",
       "      <td>1994-10-11</td>\n",
       "      <td>A</td>\n",
       "      <td>6</td>\n",
       "      <td>1836 days</td>\n",
       "    </tr>\n",
       "    <tr>\n",
       "      <th>3</th>\n",
       "      <td>D786922</td>\n",
       "      <td>D718330</td>\n",
       "      <td>2014-11-01</td>\n",
       "      <td>S</td>\n",
       "      <td>cited by examiner</td>\n",
       "      <td>11</td>\n",
       "      <td>design</td>\n",
       "      <td>2017-05-16</td>\n",
       "      <td>S1</td>\n",
       "      <td>1</td>\n",
       "      <td>927 days</td>\n",
       "    </tr>\n",
       "    <tr>\n",
       "      <th>4</th>\n",
       "      <td>D490798</td>\n",
       "      <td>D190749</td>\n",
       "      <td>1961-06-01</td>\n",
       "      <td>S</td>\n",
       "      <td>cited by examiner</td>\n",
       "      <td>1</td>\n",
       "      <td>design</td>\n",
       "      <td>2004-06-01</td>\n",
       "      <td>S1</td>\n",
       "      <td>1</td>\n",
       "      <td>15706 days</td>\n",
       "    </tr>\n",
       "  </tbody>\n",
       "</table>\n",
       "</div>"
      ],
      "text/plain": [
       "  patent_id citation_id citation_date kind_x            category sequence  \\\n",
       "0   9009250     8127342    2012-02-01     B2  cited by applicant      622   \n",
       "1   9643605     5471515    1995-11-01      A  cited by applicant      413   \n",
       "2   5354551     4875247    1989-10-01    NaN                 NaN       11   \n",
       "3   D786922     D718330    2014-11-01      S   cited by examiner       11   \n",
       "4   D490798     D190749    1961-06-01      S   cited by examiner        1   \n",
       "\n",
       "      type patent_date kind_y num_claims  cit_delay  \n",
       "0  utility  2015-04-14     B2         27  1168 days  \n",
       "1  utility  2017-05-09     B2         28  7860 days  \n",
       "2  utility  1994-10-11      A          6  1836 days  \n",
       "3   design  2017-05-16     S1          1   927 days  \n",
       "4   design  2004-06-01     S1          1 15706 days  "
      ]
     },
     "execution_count": 18,
     "metadata": {},
     "output_type": "execute_result"
    }
   ],
   "source": [
    "df.head()"
   ]
  },
  {
   "cell_type": "code",
   "execution_count": 19,
   "metadata": {
    "collapsed": false,
    "scrolled": true
   },
   "outputs": [
    {
     "data": {
      "text/html": [
       "<div>\n",
       "<table border=\"1\" class=\"dataframe\">\n",
       "  <thead>\n",
       "    <tr style=\"text-align: right;\">\n",
       "      <th></th>\n",
       "      <th>patent_id</th>\n",
       "      <th>citation_id</th>\n",
       "      <th>citation_date</th>\n",
       "      <th>kind_x</th>\n",
       "      <th>category</th>\n",
       "      <th>sequence</th>\n",
       "      <th>type</th>\n",
       "      <th>patent_date</th>\n",
       "      <th>kind_y</th>\n",
       "      <th>num_claims</th>\n",
       "      <th>cit_delay</th>\n",
       "    </tr>\n",
       "  </thead>\n",
       "  <tbody>\n",
       "    <tr>\n",
       "      <th>count</th>\n",
       "      <td>91453297</td>\n",
       "      <td>91453274</td>\n",
       "      <td>89317104</td>\n",
       "      <td>69801447</td>\n",
       "      <td>69691945</td>\n",
       "      <td>91453297</td>\n",
       "      <td>91178541</td>\n",
       "      <td>91178552</td>\n",
       "      <td>91178519</td>\n",
       "      <td>91178520</td>\n",
       "      <td>89042363</td>\n",
       "    </tr>\n",
       "    <tr>\n",
       "      <th>unique</th>\n",
       "      <td>6188752</td>\n",
       "      <td>7051646</td>\n",
       "      <td>2695</td>\n",
       "      <td>23</td>\n",
       "      <td>4</td>\n",
       "      <td>5840</td>\n",
       "      <td>6</td>\n",
       "      <td>2218</td>\n",
       "      <td>19</td>\n",
       "      <td>390</td>\n",
       "      <td>NaN</td>\n",
       "    </tr>\n",
       "    <tr>\n",
       "      <th>top</th>\n",
       "      <td>8892495</td>\n",
       "      <td>4683202</td>\n",
       "      <td>1999-11-01 00:00:00</td>\n",
       "      <td>A</td>\n",
       "      <td>cited by other</td>\n",
       "      <td>0</td>\n",
       "      <td>utility</td>\n",
       "      <td>2017-09-12 00:00:00</td>\n",
       "      <td>B2</td>\n",
       "      <td>1</td>\n",
       "      <td>NaN</td>\n",
       "    </tr>\n",
       "    <tr>\n",
       "      <th>freq</th>\n",
       "      <td>5811</td>\n",
       "      <td>3922</td>\n",
       "      <td>548047</td>\n",
       "      <td>37517961</td>\n",
       "      <td>25324075</td>\n",
       "      <td>6161007</td>\n",
       "      <td>82560618</td>\n",
       "      <td>154315</td>\n",
       "      <td>53614935</td>\n",
       "      <td>9090531</td>\n",
       "      <td>NaN</td>\n",
       "    </tr>\n",
       "    <tr>\n",
       "      <th>first</th>\n",
       "      <td>NaN</td>\n",
       "      <td>NaN</td>\n",
       "      <td>1686-12-01 00:00:00</td>\n",
       "      <td>NaN</td>\n",
       "      <td>NaN</td>\n",
       "      <td>NaN</td>\n",
       "      <td>NaN</td>\n",
       "      <td>1976-01-06 00:00:00</td>\n",
       "      <td>NaN</td>\n",
       "      <td>NaN</td>\n",
       "      <td>NaN</td>\n",
       "    </tr>\n",
       "    <tr>\n",
       "      <th>last</th>\n",
       "      <td>NaN</td>\n",
       "      <td>NaN</td>\n",
       "      <td>2198-03-01 00:00:00</td>\n",
       "      <td>NaN</td>\n",
       "      <td>NaN</td>\n",
       "      <td>NaN</td>\n",
       "      <td>NaN</td>\n",
       "      <td>2017-12-26 00:00:00</td>\n",
       "      <td>NaN</td>\n",
       "      <td>NaN</td>\n",
       "      <td>NaN</td>\n",
       "    </tr>\n",
       "    <tr>\n",
       "      <th>mean</th>\n",
       "      <td>NaN</td>\n",
       "      <td>NaN</td>\n",
       "      <td>NaN</td>\n",
       "      <td>NaN</td>\n",
       "      <td>NaN</td>\n",
       "      <td>NaN</td>\n",
       "      <td>NaN</td>\n",
       "      <td>NaN</td>\n",
       "      <td>NaN</td>\n",
       "      <td>NaN</td>\n",
       "      <td>5589 days 05:25:04.672624</td>\n",
       "    </tr>\n",
       "    <tr>\n",
       "      <th>std</th>\n",
       "      <td>NaN</td>\n",
       "      <td>NaN</td>\n",
       "      <td>NaN</td>\n",
       "      <td>NaN</td>\n",
       "      <td>NaN</td>\n",
       "      <td>NaN</td>\n",
       "      <td>NaN</td>\n",
       "      <td>NaN</td>\n",
       "      <td>NaN</td>\n",
       "      <td>NaN</td>\n",
       "      <td>5683 days 05:08:48.181496</td>\n",
       "    </tr>\n",
       "    <tr>\n",
       "      <th>min</th>\n",
       "      <td>NaN</td>\n",
       "      <td>NaN</td>\n",
       "      <td>NaN</td>\n",
       "      <td>NaN</td>\n",
       "      <td>NaN</td>\n",
       "      <td>NaN</td>\n",
       "      <td>NaN</td>\n",
       "      <td>NaN</td>\n",
       "      <td>NaN</td>\n",
       "      <td>NaN</td>\n",
       "      <td>-105998 days +00:25:26.290448</td>\n",
       "    </tr>\n",
       "    <tr>\n",
       "      <th>25%</th>\n",
       "      <td>NaN</td>\n",
       "      <td>NaN</td>\n",
       "      <td>NaN</td>\n",
       "      <td>NaN</td>\n",
       "      <td>NaN</td>\n",
       "      <td>NaN</td>\n",
       "      <td>NaN</td>\n",
       "      <td>NaN</td>\n",
       "      <td>NaN</td>\n",
       "      <td>NaN</td>\n",
       "      <td>2151 days 00:00:00</td>\n",
       "    </tr>\n",
       "    <tr>\n",
       "      <th>50%</th>\n",
       "      <td>NaN</td>\n",
       "      <td>NaN</td>\n",
       "      <td>NaN</td>\n",
       "      <td>NaN</td>\n",
       "      <td>NaN</td>\n",
       "      <td>NaN</td>\n",
       "      <td>NaN</td>\n",
       "      <td>NaN</td>\n",
       "      <td>NaN</td>\n",
       "      <td>NaN</td>\n",
       "      <td>4040 days 00:00:00</td>\n",
       "    </tr>\n",
       "    <tr>\n",
       "      <th>75%</th>\n",
       "      <td>NaN</td>\n",
       "      <td>NaN</td>\n",
       "      <td>NaN</td>\n",
       "      <td>NaN</td>\n",
       "      <td>NaN</td>\n",
       "      <td>NaN</td>\n",
       "      <td>NaN</td>\n",
       "      <td>NaN</td>\n",
       "      <td>NaN</td>\n",
       "      <td>NaN</td>\n",
       "      <td>6790 days 00:00:00</td>\n",
       "    </tr>\n",
       "    <tr>\n",
       "      <th>max</th>\n",
       "      <td>NaN</td>\n",
       "      <td>NaN</td>\n",
       "      <td>NaN</td>\n",
       "      <td>NaN</td>\n",
       "      <td>NaN</td>\n",
       "      <td>NaN</td>\n",
       "      <td>NaN</td>\n",
       "      <td>NaN</td>\n",
       "      <td>NaN</td>\n",
       "      <td>NaN</td>\n",
       "      <td>105041 days 00:00:00</td>\n",
       "    </tr>\n",
       "  </tbody>\n",
       "</table>\n",
       "</div>"
      ],
      "text/plain": [
       "       patent_id citation_id        citation_date    kind_x        category  \\\n",
       "count   91453297    91453274             89317104  69801447        69691945   \n",
       "unique   6188752     7051646                 2695        23               4   \n",
       "top      8892495     4683202  1999-11-01 00:00:00         A  cited by other   \n",
       "freq        5811        3922               548047  37517961        25324075   \n",
       "first        NaN         NaN  1686-12-01 00:00:00       NaN             NaN   \n",
       "last         NaN         NaN  2198-03-01 00:00:00       NaN             NaN   \n",
       "mean         NaN         NaN                  NaN       NaN             NaN   \n",
       "std          NaN         NaN                  NaN       NaN             NaN   \n",
       "min          NaN         NaN                  NaN       NaN             NaN   \n",
       "25%          NaN         NaN                  NaN       NaN             NaN   \n",
       "50%          NaN         NaN                  NaN       NaN             NaN   \n",
       "75%          NaN         NaN                  NaN       NaN             NaN   \n",
       "max          NaN         NaN                  NaN       NaN             NaN   \n",
       "\n",
       "        sequence      type          patent_date    kind_y num_claims  \\\n",
       "count   91453297  91178541             91178552  91178519   91178520   \n",
       "unique      5840         6                 2218        19        390   \n",
       "top            0   utility  2017-09-12 00:00:00        B2          1   \n",
       "freq     6161007  82560618               154315  53614935    9090531   \n",
       "first        NaN       NaN  1976-01-06 00:00:00       NaN        NaN   \n",
       "last         NaN       NaN  2017-12-26 00:00:00       NaN        NaN   \n",
       "mean         NaN       NaN                  NaN       NaN        NaN   \n",
       "std          NaN       NaN                  NaN       NaN        NaN   \n",
       "min          NaN       NaN                  NaN       NaN        NaN   \n",
       "25%          NaN       NaN                  NaN       NaN        NaN   \n",
       "50%          NaN       NaN                  NaN       NaN        NaN   \n",
       "75%          NaN       NaN                  NaN       NaN        NaN   \n",
       "max          NaN       NaN                  NaN       NaN        NaN   \n",
       "\n",
       "                            cit_delay  \n",
       "count                        89042363  \n",
       "unique                            NaN  \n",
       "top                               NaN  \n",
       "freq                              NaN  \n",
       "first                             NaN  \n",
       "last                              NaN  \n",
       "mean        5589 days 05:25:04.672624  \n",
       "std         5683 days 05:08:48.181496  \n",
       "min     -105998 days +00:25:26.290448  \n",
       "25%                2151 days 00:00:00  \n",
       "50%                4040 days 00:00:00  \n",
       "75%                6790 days 00:00:00  \n",
       "max              105041 days 00:00:00  "
      ]
     },
     "execution_count": 19,
     "metadata": {},
     "output_type": "execute_result"
    }
   ],
   "source": [
    "df.describe()"
   ]
  },
  {
   "cell_type": "code",
   "execution_count": 20,
   "metadata": {
    "collapsed": false
   },
   "outputs": [],
   "source": [
    "# convert to interval in years\n",
    "# df['cit_delay']=df['cit_delay'].dt.days/360"
   ]
  },
  {
   "cell_type": "code",
   "execution_count": 21,
   "metadata": {
    "collapsed": true
   },
   "outputs": [],
   "source": [
    "df.to_csv(dst)"
   ]
  }
 ],
 "metadata": {
  "anaconda-cloud": {},
  "kernelspec": {
   "display_name": "Python [default]",
   "language": "python",
   "name": "python3"
  },
  "language_info": {
   "codemirror_mode": {
    "name": "ipython",
    "version": 3
   },
   "file_extension": ".py",
   "mimetype": "text/x-python",
   "name": "python",
   "nbconvert_exporter": "python",
   "pygments_lexer": "ipython3",
   "version": "3.5.2"
  }
 },
 "nbformat": 4,
 "nbformat_minor": 1
}
