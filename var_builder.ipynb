{
 "cells": [
  {
   "cell_type": "code",
   "execution_count": 2,
   "metadata": {
    "collapsed": true
   },
   "outputs": [],
   "source": [
    "#Script to prepare variables for further analysis\n",
    "#Renato Kogeyama\n",
    "\n",
    "#January 3rd, 2019\n",
    "#change the file name\n",
    "#include variables from Hall et al 2001\n",
    "\n",
    "#December 29, 2019\n",
    "#including ancestry citation\n",
    "\n",
    "#10-03-2019\n",
    "#I rewrote the citation data to clean the strings\n",
    "\n",
    "\n",
    "#09-27-2019\n",
    "#I am renaming citation as forward citation and backward citation\n",
    "\n",
    "#09-17-2018\n",
    "\n",
    "#Alto uso de memoria - rodar no Amazon AWS \n",
    "\n",
    "import pandas as pd\n",
    "# from sklearn.preprocessing import MinMaxScaler #To normalize data"
   ]
  },
  {
   "cell_type": "code",
   "execution_count": null,
   "metadata": {
    "collapsed": false
   },
   "outputs": [],
   "source": [
    "#ler o arquivo de citacoes\n",
    "# asg = pd.read_csv(r'/home/rkogeyam/PATENT_CITATION/fwd_back_cit.csv', index_col=0, dtype={0: object, \"forward_citation\": float,\"backward_citation\": float})\n",
    "src = '/home/rkogeyam/PATENT_CITATION/data/cit_tree.csv'\n",
    "dst='data/df_w_pat_cit_200101.csv'\n",
    "\n",
    "#citation data\n",
    "asg = pd.read_csv(src, index_col=1)\n"
   ]
  },
  {
   "cell_type": "code",
   "execution_count": 3,
   "metadata": {
    "collapsed": true
   },
   "outputs": [],
   "source": [
    "asg.drop('Unnamed: 0', axis=1, inplace=True)"
   ]
  },
  {
   "cell_type": "code",
   "execution_count": 6,
   "metadata": {
    "collapsed": false
   },
   "outputs": [
    {
     "data": {
      "text/html": [
       "<div>\n",
       "<table border=\"1\" class=\"dataframe\">\n",
       "  <thead>\n",
       "    <tr style=\"text-align: right;\">\n",
       "      <th></th>\n",
       "      <th>back_citation</th>\n",
       "      <th>parent_back_citation</th>\n",
       "      <th>forw_citation</th>\n",
       "    </tr>\n",
       "  </thead>\n",
       "  <tbody>\n",
       "    <tr>\n",
       "      <th>count</th>\n",
       "      <td>8.525072e+06</td>\n",
       "      <td>8.525072e+06</td>\n",
       "      <td>8.525072e+06</td>\n",
       "    </tr>\n",
       "    <tr>\n",
       "      <th>mean</th>\n",
       "      <td>1.072666e+01</td>\n",
       "      <td>1.814898e+02</td>\n",
       "      <td>1.072666e+01</td>\n",
       "    </tr>\n",
       "    <tr>\n",
       "      <th>std</th>\n",
       "      <td>2.819247e+01</td>\n",
       "      <td>1.365067e+03</td>\n",
       "      <td>3.634551e+01</td>\n",
       "    </tr>\n",
       "    <tr>\n",
       "      <th>min</th>\n",
       "      <td>0.000000e+00</td>\n",
       "      <td>0.000000e+00</td>\n",
       "      <td>0.000000e+00</td>\n",
       "    </tr>\n",
       "    <tr>\n",
       "      <th>25%</th>\n",
       "      <td>1.000000e+00</td>\n",
       "      <td>0.000000e+00</td>\n",
       "      <td>0.000000e+00</td>\n",
       "    </tr>\n",
       "    <tr>\n",
       "      <th>50%</th>\n",
       "      <td>3.000000e+00</td>\n",
       "      <td>1.400000e+01</td>\n",
       "      <td>4.000000e+00</td>\n",
       "    </tr>\n",
       "    <tr>\n",
       "      <th>75%</th>\n",
       "      <td>1.000000e+01</td>\n",
       "      <td>7.900000e+01</td>\n",
       "      <td>1.000000e+01</td>\n",
       "    </tr>\n",
       "    <tr>\n",
       "      <th>max</th>\n",
       "      <td>3.922000e+03</td>\n",
       "      <td>2.274790e+05</td>\n",
       "      <td>5.811000e+03</td>\n",
       "    </tr>\n",
       "  </tbody>\n",
       "</table>\n",
       "</div>"
      ],
      "text/plain": [
       "       back_citation  parent_back_citation  forw_citation\n",
       "count   8.525072e+06          8.525072e+06   8.525072e+06\n",
       "mean    1.072666e+01          1.814898e+02   1.072666e+01\n",
       "std     2.819247e+01          1.365067e+03   3.634551e+01\n",
       "min     0.000000e+00          0.000000e+00   0.000000e+00\n",
       "25%     1.000000e+00          0.000000e+00   0.000000e+00\n",
       "50%     3.000000e+00          1.400000e+01   4.000000e+00\n",
       "75%     1.000000e+01          7.900000e+01   1.000000e+01\n",
       "max     3.922000e+03          2.274790e+05   5.811000e+03"
      ]
     },
     "execution_count": 6,
     "metadata": {},
     "output_type": "execute_result"
    }
   ],
   "source": [
    "asg.describe()"
   ]
  },
  {
   "cell_type": "code",
   "execution_count": 8,
   "metadata": {
    "collapsed": false
   },
   "outputs": [
    {
     "name": "stderr",
     "output_type": "stream",
     "text": [
      "b'Skipping line 4232501: expected 10 fields, saw 11\\n'\n",
      "b'Skipping line 4267898: expected 10 fields, saw 11\\n'\n",
      "b'Skipping line 4327680: expected 10 fields, saw 11\\nSkipping line 4368028: expected 10 fields, saw 11\\nSkipping line 4377090: expected 10 fields, saw 11\\n'\n",
      "b'Skipping line 4426415: expected 10 fields, saw 11\\n'\n",
      "/home/applications/anaconda3/4.2.0/lib/python3.5/site-packages/IPython/core/interactiveshell.py:2717: DtypeWarning: Columns (0,2,5) have mixed types. Specify dtype option on import or set low_memory=False.\n",
      "  interactivity=interactivity, compiler=compiler, result=result)\n"
     ]
    }
   ],
   "source": [
    "#patent data\n",
    "df = pd.read_csv('data/patent.csv',sep='\\t', error_bad_lines=False)\n",
    "\n",
    "#o problema aqui eh que estas linhas tem tags tipo <b><\\b>\n",
    "#poderia limpa-las antes de "
   ]
  },
  {
   "cell_type": "code",
   "execution_count": 9,
   "metadata": {
    "collapsed": false
   },
   "outputs": [
    {
     "data": {
      "text/plain": [
       "(6488261, 10)"
      ]
     },
     "execution_count": 9,
     "metadata": {},
     "output_type": "execute_result"
    }
   ],
   "source": [
    "df.shape"
   ]
  },
  {
   "cell_type": "code",
   "execution_count": 10,
   "metadata": {
    "collapsed": true
   },
   "outputs": [],
   "source": [
    "df['date']=pd.to_datetime(df['date'], format=\"%Y-%m-%d\", errors='coerce') #conversao de string para data\n",
    "\n",
    "df['gyear']=df['date'].dt.year\n",
    "df['gmonth']=df['date'].dt.month\n",
    "df['gday']=df['date'].dt.day"
   ]
  },
  {
   "cell_type": "code",
   "execution_count": 12,
   "metadata": {
    "collapsed": true
   },
   "outputs": [],
   "source": [
    "# dados desnecessarios\n",
    "df.drop(columns=['date'])\n",
    "\n",
    "# df=df.dropna()\n",
    "#dropando dados que nao sao importantes no momento\n",
    "#a coluna country eh toda US. filename nao tem uso agora, e a coluna number eh identica a coluna id.\n",
    "df=df.drop(columns=['number', 'filename', 'country']) "
   ]
  },
  {
   "cell_type": "code",
   "execution_count": 13,
   "metadata": {
    "collapsed": true
   },
   "outputs": [],
   "source": [
    "# df.plot.hist()"
   ]
  },
  {
   "cell_type": "code",
   "execution_count": 14,
   "metadata": {
    "collapsed": true
   },
   "outputs": [],
   "source": [
    "# juntando as citacoes a tabela principal\n",
    "# merge left assim citacoes que nao encontram patentes sao descartadas\n",
    "df=pd.merge(df, asg, how='left', left_on='id', right_index=True)"
   ]
  },
  {
   "cell_type": "code",
   "execution_count": 15,
   "metadata": {
    "collapsed": false
   },
   "outputs": [
    {
     "data": {
      "text/plain": [
       "(6488261, 17)"
      ]
     },
     "execution_count": 15,
     "metadata": {},
     "output_type": "execute_result"
    }
   ],
   "source": [
    "df.shape"
   ]
  },
  {
   "cell_type": "code",
   "execution_count": 17,
   "metadata": {
    "collapsed": false
   },
   "outputs": [
    {
     "data": {
      "text/html": [
       "<div>\n",
       "<table border=\"1\" class=\"dataframe\">\n",
       "  <thead>\n",
       "    <tr style=\"text-align: right;\">\n",
       "      <th></th>\n",
       "      <th>id</th>\n",
       "      <th>type</th>\n",
       "      <th>number</th>\n",
       "      <th>country</th>\n",
       "      <th>date</th>\n",
       "      <th>abstract</th>\n",
       "      <th>title</th>\n",
       "      <th>kind</th>\n",
       "      <th>num_claims</th>\n",
       "      <th>filename</th>\n",
       "      <th>year</th>\n",
       "      <th>month</th>\n",
       "      <th>day</th>\n",
       "      <th>back_citation</th>\n",
       "      <th>parent_back_citation</th>\n",
       "      <th>patent_id</th>\n",
       "      <th>forw_citation</th>\n",
       "    </tr>\n",
       "  </thead>\n",
       "  <tbody>\n",
       "    <tr>\n",
       "      <th>0</th>\n",
       "      <td>3930271</td>\n",
       "      <td>utility</td>\n",
       "      <td>3930271</td>\n",
       "      <td>US</td>\n",
       "      <td>1976-01-06</td>\n",
       "      <td>A golf glove is disclosed having an extra fin...</td>\n",
       "      <td>Golf glove</td>\n",
       "      <td>A</td>\n",
       "      <td>4.0</td>\n",
       "      <td>pftaps19760106_wk01.zip</td>\n",
       "      <td>1976.0</td>\n",
       "      <td>1.0</td>\n",
       "      <td>6.0</td>\n",
       "      <td>NaN</td>\n",
       "      <td>NaN</td>\n",
       "      <td>NaN</td>\n",
       "      <td>NaN</td>\n",
       "    </tr>\n",
       "    <tr>\n",
       "      <th>1</th>\n",
       "      <td>3930272</td>\n",
       "      <td>utility</td>\n",
       "      <td>3930272</td>\n",
       "      <td>US</td>\n",
       "      <td>1976-01-06</td>\n",
       "      <td>A lock for a height-adjustable crib or plaype...</td>\n",
       "      <td>Crib leg lock</td>\n",
       "      <td>A</td>\n",
       "      <td>3.0</td>\n",
       "      <td>pftaps19760106_wk01.zip</td>\n",
       "      <td>1976.0</td>\n",
       "      <td>1.0</td>\n",
       "      <td>6.0</td>\n",
       "      <td>NaN</td>\n",
       "      <td>NaN</td>\n",
       "      <td>NaN</td>\n",
       "      <td>NaN</td>\n",
       "    </tr>\n",
       "    <tr>\n",
       "      <th>2</th>\n",
       "      <td>3930273</td>\n",
       "      <td>utility</td>\n",
       "      <td>3930273</td>\n",
       "      <td>US</td>\n",
       "      <td>1976-01-06</td>\n",
       "      <td>A bed safety side rail arrangement which incl...</td>\n",
       "      <td>Bed safety side rail arrangement</td>\n",
       "      <td>A</td>\n",
       "      <td>24.0</td>\n",
       "      <td>pftaps19760106_wk01.zip</td>\n",
       "      <td>1976.0</td>\n",
       "      <td>1.0</td>\n",
       "      <td>6.0</td>\n",
       "      <td>NaN</td>\n",
       "      <td>NaN</td>\n",
       "      <td>NaN</td>\n",
       "      <td>NaN</td>\n",
       "    </tr>\n",
       "    <tr>\n",
       "      <th>3</th>\n",
       "      <td>3930274</td>\n",
       "      <td>utility</td>\n",
       "      <td>3930274</td>\n",
       "      <td>US</td>\n",
       "      <td>1976-01-06</td>\n",
       "      <td>The assembly includes a longitudinal axis and...</td>\n",
       "      <td>Assembly for use in recreational activities</td>\n",
       "      <td>A</td>\n",
       "      <td>7.0</td>\n",
       "      <td>pftaps19760106_wk01.zip</td>\n",
       "      <td>1976.0</td>\n",
       "      <td>1.0</td>\n",
       "      <td>6.0</td>\n",
       "      <td>NaN</td>\n",
       "      <td>NaN</td>\n",
       "      <td>NaN</td>\n",
       "      <td>NaN</td>\n",
       "    </tr>\n",
       "    <tr>\n",
       "      <th>4</th>\n",
       "      <td>3930275</td>\n",
       "      <td>utility</td>\n",
       "      <td>3930275</td>\n",
       "      <td>US</td>\n",
       "      <td>1976-01-06</td>\n",
       "      <td>A novel slipper and its method of fabrication...</td>\n",
       "      <td>Method of fabricating a slipper</td>\n",
       "      <td>A</td>\n",
       "      <td>9.0</td>\n",
       "      <td>pftaps19760106_wk01.zip</td>\n",
       "      <td>1976.0</td>\n",
       "      <td>1.0</td>\n",
       "      <td>6.0</td>\n",
       "      <td>NaN</td>\n",
       "      <td>NaN</td>\n",
       "      <td>NaN</td>\n",
       "      <td>NaN</td>\n",
       "    </tr>\n",
       "  </tbody>\n",
       "</table>\n",
       "</div>"
      ],
      "text/plain": [
       "        id     type   number country       date  \\\n",
       "0  3930271  utility  3930271      US 1976-01-06   \n",
       "1  3930272  utility  3930272      US 1976-01-06   \n",
       "2  3930273  utility  3930273      US 1976-01-06   \n",
       "3  3930274  utility  3930274      US 1976-01-06   \n",
       "4  3930275  utility  3930275      US 1976-01-06   \n",
       "\n",
       "                                            abstract  \\\n",
       "0   A golf glove is disclosed having an extra fin...   \n",
       "1   A lock for a height-adjustable crib or plaype...   \n",
       "2   A bed safety side rail arrangement which incl...   \n",
       "3   The assembly includes a longitudinal axis and...   \n",
       "4   A novel slipper and its method of fabrication...   \n",
       "\n",
       "                                         title kind  num_claims  \\\n",
       "0                                   Golf glove    A         4.0   \n",
       "1                                Crib leg lock    A         3.0   \n",
       "2             Bed safety side rail arrangement    A        24.0   \n",
       "3  Assembly for use in recreational activities    A         7.0   \n",
       "4              Method of fabricating a slipper    A         9.0   \n",
       "\n",
       "                  filename    year  month  day  back_citation  \\\n",
       "0  pftaps19760106_wk01.zip  1976.0    1.0  6.0            NaN   \n",
       "1  pftaps19760106_wk01.zip  1976.0    1.0  6.0            NaN   \n",
       "2  pftaps19760106_wk01.zip  1976.0    1.0  6.0            NaN   \n",
       "3  pftaps19760106_wk01.zip  1976.0    1.0  6.0            NaN   \n",
       "4  pftaps19760106_wk01.zip  1976.0    1.0  6.0            NaN   \n",
       "\n",
       "   parent_back_citation patent_id  forw_citation  \n",
       "0                   NaN       NaN            NaN  \n",
       "1                   NaN       NaN            NaN  \n",
       "2                   NaN       NaN            NaN  \n",
       "3                   NaN       NaN            NaN  \n",
       "4                   NaN       NaN            NaN  "
      ]
     },
     "execution_count": 17,
     "metadata": {},
     "output_type": "execute_result"
    }
   ],
   "source": [
    "df.head()"
   ]
  },
  {
   "cell_type": "code",
   "execution_count": 18,
   "metadata": {
    "collapsed": true
   },
   "outputs": [],
   "source": [
    "# NaN in citations means a patent did not receive citations (or made)\n",
    "df['forw_citation']=df['forw_citation'].fillna(value=0) \n",
    "df['back_citation']=df['back_citation'].fillna(value=0)\n",
    "df['parent_back_citation']=df['parent_back_citation'].fillna(value=0) "
   ]
  },
  {
   "cell_type": "code",
   "execution_count": 22,
   "metadata": {
    "collapsed": false
   },
   "outputs": [],
   "source": [
    "# I tested and there are 7 entries with NaN in num_claims\n",
    "# They are entry errors\n",
    "# I'll drop now and maybe come back later to correct\n",
    "# df[df['num_claims'].isnull()]\n",
    "df.dropna(subset=['num_claims'], inplace=True)"
   ]
  },
  {
   "cell_type": "code",
   "execution_count": 23,
   "metadata": {
    "collapsed": false
   },
   "outputs": [
    {
     "data": {
      "text/html": [
       "<div>\n",
       "<table border=\"1\" class=\"dataframe\">\n",
       "  <thead>\n",
       "    <tr style=\"text-align: right;\">\n",
       "      <th></th>\n",
       "      <th>num_claims</th>\n",
       "      <th>year</th>\n",
       "      <th>month</th>\n",
       "      <th>day</th>\n",
       "      <th>back_citation</th>\n",
       "      <th>parent_back_citation</th>\n",
       "      <th>forw_citation</th>\n",
       "    </tr>\n",
       "  </thead>\n",
       "  <tbody>\n",
       "    <tr>\n",
       "      <th>count</th>\n",
       "      <td>6.488254e+06</td>\n",
       "      <td>6.488254e+06</td>\n",
       "      <td>6.488254e+06</td>\n",
       "      <td>6.488254e+06</td>\n",
       "      <td>6.488254e+06</td>\n",
       "      <td>6.488254e+06</td>\n",
       "      <td>6.488254e+06</td>\n",
       "    </tr>\n",
       "    <tr>\n",
       "      <th>mean</th>\n",
       "      <td>1.414322e+01</td>\n",
       "      <td>2.002723e+03</td>\n",
       "      <td>6.590934e+00</td>\n",
       "      <td>1.564228e+01</td>\n",
       "      <td>7.257138e+00</td>\n",
       "      <td>1.005467e+02</td>\n",
       "      <td>7.831687e+00</td>\n",
       "    </tr>\n",
       "    <tr>\n",
       "      <th>std</th>\n",
       "      <td>1.200423e+01</td>\n",
       "      <td>1.132268e+01</td>\n",
       "      <td>3.402092e+00</td>\n",
       "      <td>8.827003e+00</td>\n",
       "      <td>2.569205e+01</td>\n",
       "      <td>1.066788e+03</td>\n",
       "      <td>2.959544e+01</td>\n",
       "    </tr>\n",
       "    <tr>\n",
       "      <th>min</th>\n",
       "      <td>0.000000e+00</td>\n",
       "      <td>1.976000e+03</td>\n",
       "      <td>1.000000e+00</td>\n",
       "      <td>1.000000e+00</td>\n",
       "      <td>0.000000e+00</td>\n",
       "      <td>0.000000e+00</td>\n",
       "      <td>0.000000e+00</td>\n",
       "    </tr>\n",
       "    <tr>\n",
       "      <th>25%</th>\n",
       "      <td>6.000000e+00</td>\n",
       "      <td>1.995000e+03</td>\n",
       "      <td>4.000000e+00</td>\n",
       "      <td>8.000000e+00</td>\n",
       "      <td>0.000000e+00</td>\n",
       "      <td>0.000000e+00</td>\n",
       "      <td>0.000000e+00</td>\n",
       "    </tr>\n",
       "    <tr>\n",
       "      <th>50%</th>\n",
       "      <td>1.200000e+01</td>\n",
       "      <td>2.005000e+03</td>\n",
       "      <td>7.000000e+00</td>\n",
       "      <td>1.600000e+01</td>\n",
       "      <td>0.000000e+00</td>\n",
       "      <td>0.000000e+00</td>\n",
       "      <td>0.000000e+00</td>\n",
       "    </tr>\n",
       "    <tr>\n",
       "      <th>75%</th>\n",
       "      <td>2.000000e+01</td>\n",
       "      <td>2.013000e+03</td>\n",
       "      <td>1.000000e+01</td>\n",
       "      <td>2.300000e+01</td>\n",
       "      <td>5.000000e+00</td>\n",
       "      <td>1.300000e+01</td>\n",
       "      <td>7.000000e+00</td>\n",
       "    </tr>\n",
       "    <tr>\n",
       "      <th>max</th>\n",
       "      <td>8.870000e+02</td>\n",
       "      <td>2.017000e+03</td>\n",
       "      <td>1.200000e+01</td>\n",
       "      <td>3.100000e+01</td>\n",
       "      <td>3.433000e+03</td>\n",
       "      <td>1.567150e+05</td>\n",
       "      <td>5.811000e+03</td>\n",
       "    </tr>\n",
       "  </tbody>\n",
       "</table>\n",
       "</div>"
      ],
      "text/plain": [
       "         num_claims          year         month           day  back_citation  \\\n",
       "count  6.488254e+06  6.488254e+06  6.488254e+06  6.488254e+06   6.488254e+06   \n",
       "mean   1.414322e+01  2.002723e+03  6.590934e+00  1.564228e+01   7.257138e+00   \n",
       "std    1.200423e+01  1.132268e+01  3.402092e+00  8.827003e+00   2.569205e+01   \n",
       "min    0.000000e+00  1.976000e+03  1.000000e+00  1.000000e+00   0.000000e+00   \n",
       "25%    6.000000e+00  1.995000e+03  4.000000e+00  8.000000e+00   0.000000e+00   \n",
       "50%    1.200000e+01  2.005000e+03  7.000000e+00  1.600000e+01   0.000000e+00   \n",
       "75%    2.000000e+01  2.013000e+03  1.000000e+01  2.300000e+01   5.000000e+00   \n",
       "max    8.870000e+02  2.017000e+03  1.200000e+01  3.100000e+01   3.433000e+03   \n",
       "\n",
       "       parent_back_citation  forw_citation  \n",
       "count          6.488254e+06   6.488254e+06  \n",
       "mean           1.005467e+02   7.831687e+00  \n",
       "std            1.066788e+03   2.959544e+01  \n",
       "min            0.000000e+00   0.000000e+00  \n",
       "25%            0.000000e+00   0.000000e+00  \n",
       "50%            0.000000e+00   0.000000e+00  \n",
       "75%            1.300000e+01   7.000000e+00  \n",
       "max            1.567150e+05   5.811000e+03  "
      ]
     },
     "execution_count": 23,
     "metadata": {},
     "output_type": "execute_result"
    }
   ],
   "source": [
    "df.describe()"
   ]
  },
  {
   "cell_type": "code",
   "execution_count": 24,
   "metadata": {
    "collapsed": false
   },
   "outputs": [
    {
     "data": {
      "text/plain": [
       "(6488254, 17)"
      ]
     },
     "execution_count": 24,
     "metadata": {},
     "output_type": "execute_result"
    }
   ],
   "source": [
    "df.shape"
   ]
  },
  {
   "cell_type": "code",
   "execution_count": 26,
   "metadata": {
    "collapsed": false
   },
   "outputs": [],
   "source": [
    "# 19-09-26\n",
    "# este eh o trecho que deve ser alterado\n",
    "# ao inves de gerar varias dummies, vou categorizar a variavel\n",
    "\n",
    "# df=pd.get_dummies(df, columns=['type', 'kind'])\n",
    "# df.describe()\n",
    "\n",
    "df[\"type\"] = df[\"type\"].astype('category')\n",
    "df[\"kind\"] = df[\"kind\"].astype('category')\n",
    "\n",
    "\n",
    "#eh um bom ponto para salvar o arquivo\n",
    "\n",
    "df.to_csv(dst)\n",
    "\n",
    "#comecar a partir dele em um novo notebook"
   ]
  }
 ],
 "metadata": {
  "anaconda-cloud": {},
  "kernelspec": {
   "display_name": "Python [default]",
   "language": "python",
   "name": "python3"
  },
  "language_info": {
   "codemirror_mode": {
    "name": "ipython",
    "version": 3
   },
   "file_extension": ".py",
   "mimetype": "text/x-python",
   "name": "python",
   "nbconvert_exporter": "python",
   "pygments_lexer": "ipython3",
   "version": "3.5.2"
  }
 },
 "nbformat": 4,
 "nbformat_minor": 2
}
