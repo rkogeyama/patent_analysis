{
 "cells": [
  {
   "cell_type": "code",
   "execution_count": 1,
   "metadata": {
    "collapsed": true
   },
   "outputs": [],
   "source": [
    "# Script to evaluate citation delay\n",
    "# Backward citation - citation made by a patent\n",
    "# Forward citation - citation received by a patent\n",
    "\n",
    "# Renato Kogeyama\n",
    "\n",
    "# Feb 07, 2020\n",
    "# The main offensor of performance in this script is the transformation to timedelta\n",
    "# the solution is to change to numpy\n",
    "# https://stackoverflow.com/questions/52274356/conversion-of-a-timedelta-to-int-very-slow-in-python\n",
    "\n",
    "# Jan 17 2020\n",
    "# Join cit_delay with var_builder\n",
    "# The only thing var_builder was doing was including kind and type \n",
    "\n",
    "\n",
    "# Jan 03 2020\n",
    "# Miami\n",
    "# I am using this script to calculate the average delay in citation - to follow Hall et al, 2001\n",
    "# patent.csv has the following columns\n",
    "# id \ttype \tnumber \tcountry \tdate \tabstract \ttitle \tkind \tnum_claims \tfilename\n",
    "# interest on id, type, date, kind, num_claims\n",
    "\n",
    "# I use two sources, uspatentcitation.tsv and patent.csv\n",
    "# The first is a citation-level dataset with information about the citing patent\n",
    "# The second is a patent-level dataset with information about the patent\n",
    "\n",
    "# Cleaning\n",
    "# I tested in other scripts the quality of the patent identifier\n",
    "# It does not require cleaning - only 4 erros from 6 million patents\n",
    "# The cleaning script is there anyway\n",
    "\n",
    "# Merging\n",
    "# I merge on the citation level (df)\n",
    "\n",
    "\n",
    "# --\n",
    "\n",
    "# First U.S. Patent Issued Today in 1790\n",
    "\n",
    "\n",
    "# July 31, 2001\n",
    "# Press Release\n",
    "# #01-33\n",
    "\n",
    "# On July 31, 1790 Samuel Hopkins was issued the first patent for a process \n",
    "# of making potash, an ingredient used in fertilizer. The patent was signed by \n",
    "# President George Washington. Hopkins was born in Vermont, but was living in \n",
    "# Philadelphia, Pa. when the patent was granted.\n",
    "\n",
    "# The first patent, as well as the more than 6 million patents issued since then, \n",
    "# can be seen on the Department of Commerce's United States Patent and Trademark \n",
    "# Office website at www.uspto.gov. The original document is in the collections of \n",
    "# the Chicago Historical Society.\n"
   ]
  },
  {
   "cell_type": "code",
   "execution_count": 2,
   "metadata": {
    "collapsed": true
   },
   "outputs": [],
   "source": [
    "import pandas as pd\n",
    "import numpy as np\n",
    "import matplotlib.pyplot as plt"
   ]
  },
  {
   "cell_type": "code",
   "execution_count": 3,
   "metadata": {
    "collapsed": false
   },
   "outputs": [],
   "source": [
    "%matplotlib inline"
   ]
  },
  {
   "cell_type": "code",
   "execution_count": 4,
   "metadata": {
    "collapsed": true
   },
   "outputs": [],
   "source": [
    "citation_df = '/home/rkogeyam/PATENT_CITATION/data/cleanuspatentcitation.csv'\n",
    "# cit_tree = '/home/rkogeyam/PATENT_CITATION/data/cit_tree.csv'\n",
    "\n",
    "patent= 'data/cleanpatent.csv'\n",
    "dst='data/var_builder.csv'\n",
    "\n",
    "# citation_df = r'/home/rkogeyam/PATENT_CITATION/data/uspatentcitation.tsv'\n",
    "# dst = '/home/rkogeyam/PATENT_CITATION/data/back_cit_delay.csv'\n",
    "# dst_forw = '/home/rkogeyam/PATENT_CITATION/data/forw_cit_delay.csv'"
   ]
  },
  {
   "cell_type": "code",
   "execution_count": 5,
   "metadata": {
    "collapsed": false
   },
   "outputs": [
    {
     "name": "stdout",
     "output_type": "stream",
     "text": [
      "CPU times: user 2min 43s, sys: 10.4 s, total: 2min 53s\n",
      "Wall time: 2min 57s\n"
     ]
    }
   ],
   "source": [
    "%%time\n",
    "df = pd.read_csv(citation_df, usecols=['patent_id', 'citation_id', 'date'], dtype=object)"
   ]
  },
  {
   "cell_type": "code",
   "execution_count": 6,
   "metadata": {
    "collapsed": false
   },
   "outputs": [
    {
     "name": "stdout",
     "output_type": "stream",
     "text": [
      "CPU times: user 9.72 s, sys: 290 ms, total: 10 s\n",
      "Wall time: 10.1 s\n"
     ]
    }
   ],
   "source": [
    "%%time\n",
    "pt_df = pd.read_csv(patent, usecols=['id', 'date'],index_col=0, dtype=object)"
   ]
  },
  {
   "cell_type": "code",
   "execution_count": 7,
   "metadata": {
    "collapsed": false
   },
   "outputs": [],
   "source": [
    "# df=df.iloc[:,1:]"
   ]
  },
  {
   "cell_type": "code",
   "execution_count": 8,
   "metadata": {
    "collapsed": false
   },
   "outputs": [
    {
     "data": {
      "text/html": [
       "<div>\n",
       "<table border=\"1\" class=\"dataframe\">\n",
       "  <thead>\n",
       "    <tr style=\"text-align: right;\">\n",
       "      <th></th>\n",
       "      <th>patent_id</th>\n",
       "      <th>citation_id</th>\n",
       "      <th>date</th>\n",
       "    </tr>\n",
       "  </thead>\n",
       "  <tbody>\n",
       "    <tr>\n",
       "      <th>0</th>\n",
       "      <td>9009250</td>\n",
       "      <td>8127342</td>\n",
       "      <td>2012-02-01</td>\n",
       "    </tr>\n",
       "    <tr>\n",
       "      <th>1</th>\n",
       "      <td>9643605</td>\n",
       "      <td>5471515</td>\n",
       "      <td>1995-11-01</td>\n",
       "    </tr>\n",
       "    <tr>\n",
       "      <th>2</th>\n",
       "      <td>5354551</td>\n",
       "      <td>4875247</td>\n",
       "      <td>1989-10-01</td>\n",
       "    </tr>\n",
       "    <tr>\n",
       "      <th>3</th>\n",
       "      <td>D786922</td>\n",
       "      <td>D718330</td>\n",
       "      <td>2014-11-01</td>\n",
       "    </tr>\n",
       "    <tr>\n",
       "      <th>4</th>\n",
       "      <td>D490798</td>\n",
       "      <td>D190749</td>\n",
       "      <td>1961-06-01</td>\n",
       "    </tr>\n",
       "  </tbody>\n",
       "</table>\n",
       "</div>"
      ],
      "text/plain": [
       "  patent_id citation_id        date\n",
       "0   9009250     8127342  2012-02-01\n",
       "1   9643605     5471515  1995-11-01\n",
       "2   5354551     4875247  1989-10-01\n",
       "3   D786922     D718330  2014-11-01\n",
       "4   D490798     D190749  1961-06-01"
      ]
     },
     "execution_count": 8,
     "metadata": {},
     "output_type": "execute_result"
    }
   ],
   "source": [
    "df.head()\n",
    "# df.get_chunk().head()"
   ]
  },
  {
   "cell_type": "code",
   "execution_count": 9,
   "metadata": {
    "collapsed": false
   },
   "outputs": [
    {
     "data": {
      "text/html": [
       "<div>\n",
       "<table border=\"1\" class=\"dataframe\">\n",
       "  <thead>\n",
       "    <tr style=\"text-align: right;\">\n",
       "      <th></th>\n",
       "      <th>date</th>\n",
       "    </tr>\n",
       "    <tr>\n",
       "      <th>id</th>\n",
       "      <th></th>\n",
       "    </tr>\n",
       "  </thead>\n",
       "  <tbody>\n",
       "    <tr>\n",
       "      <th>3930271</th>\n",
       "      <td>1976-01-06</td>\n",
       "    </tr>\n",
       "    <tr>\n",
       "      <th>3930272</th>\n",
       "      <td>1976-01-06</td>\n",
       "    </tr>\n",
       "    <tr>\n",
       "      <th>3930273</th>\n",
       "      <td>1976-01-06</td>\n",
       "    </tr>\n",
       "    <tr>\n",
       "      <th>3930274</th>\n",
       "      <td>1976-01-06</td>\n",
       "    </tr>\n",
       "    <tr>\n",
       "      <th>3930275</th>\n",
       "      <td>1976-01-06</td>\n",
       "    </tr>\n",
       "  </tbody>\n",
       "</table>\n",
       "</div>"
      ],
      "text/plain": [
       "               date\n",
       "id                 \n",
       "3930271  1976-01-06\n",
       "3930272  1976-01-06\n",
       "3930273  1976-01-06\n",
       "3930274  1976-01-06\n",
       "3930275  1976-01-06"
      ]
     },
     "execution_count": 9,
     "metadata": {},
     "output_type": "execute_result"
    }
   ],
   "source": [
    "pt_df.head()\n",
    "# pt_df.get_chunk().head()"
   ]
  },
  {
   "cell_type": "code",
   "execution_count": 10,
   "metadata": {
    "collapsed": false
   },
   "outputs": [
    {
     "name": "stdout",
     "output_type": "stream",
     "text": [
      "CPU times: user 33.1 s, sys: 1.25 s, total: 34.4 s\n",
      "Wall time: 34.3 s\n"
     ]
    }
   ],
   "source": [
    "%%time\n",
    "df=df.rename(columns = {'date':'citation_date'})\n",
    "df['citation_date']=pd.to_datetime(df['citation_date'], format=\"%Y-%m-%d\", errors='coerce') \n",
    "# df['citation_date'].apply[lambda x: np.datetime64(x)]"
   ]
  },
  {
   "cell_type": "code",
   "execution_count": 11,
   "metadata": {
    "collapsed": false
   },
   "outputs": [
    {
     "name": "stdout",
     "output_type": "stream",
     "text": [
      "CPU times: user 1min 41s, sys: 2.92 s, total: 1min 44s\n",
      "Wall time: 1min 44s\n"
     ]
    }
   ],
   "source": [
    "%%time\n",
    "# merge between patent data and citations on patent_id (citing)\n",
    "# merging on the citation dataset drops patents without citing\n",
    "# later i could standardize to make patent_id index and use join instead of merge\n",
    "\n",
    "df=pd.merge(df, pt_df, how='inner', left_on='patent_id', right_index=True)"
   ]
  },
  {
   "cell_type": "code",
   "execution_count": 12,
   "metadata": {
    "collapsed": false
   },
   "outputs": [
    {
     "name": "stdout",
     "output_type": "stream",
     "text": [
      "<class 'pandas.core.frame.DataFrame'>\n",
      "Int64Index: 91178627 entries, 0 to 91453028\n",
      "Data columns (total 4 columns):\n",
      "patent_id        object\n",
      "citation_id      object\n",
      "citation_date    datetime64[ns]\n",
      "date             object\n",
      "dtypes: datetime64[ns](1), object(3)\n",
      "memory usage: 3.4+ GB\n"
     ]
    }
   ],
   "source": [
    "df.info()"
   ]
  },
  {
   "cell_type": "code",
   "execution_count": 13,
   "metadata": {
    "collapsed": false
   },
   "outputs": [
    {
     "name": "stdout",
     "output_type": "stream",
     "text": [
      "CPU times: user 1min 23s, sys: 1.36 s, total: 1min 24s\n",
      "Wall time: 1min 24s\n"
     ]
    }
   ],
   "source": [
    "%%time\n",
    "# date format to allow calculations\n",
    "df=df.rename(columns = {'date':'patent_date'})\n",
    "df['patent_date']=pd.to_datetime(df['patent_date'], format=\"%Y-%m-%d\", errors='coerce') #conversao de string para data\n",
    "# df['patent_date'].apply[lambda x: np.datetime64(x)]"
   ]
  },
  {
   "cell_type": "code",
   "execution_count": 14,
   "metadata": {
    "collapsed": false
   },
   "outputs": [],
   "source": [
    "# df.shape"
   ]
  },
  {
   "cell_type": "code",
   "execution_count": 15,
   "metadata": {
    "collapsed": false
   },
   "outputs": [],
   "source": [
    "# if I do not drop nans, the script raises an error later when converting day interval into years\n",
    "# I could substitute with average instead of dropping, this way I do not lose the citation info\n",
    "# however, not always it will be possible to average - cases where there is ony one citation, for example\n",
    "# For this reason, at this point, I'll keep the NAN and circumvent the issues as they arise\n",
    "\n",
    "# df=df.dropna()"
   ]
  },
  {
   "cell_type": "code",
   "execution_count": 16,
   "metadata": {
    "collapsed": false
   },
   "outputs": [],
   "source": [
    "# df.shape"
   ]
  },
  {
   "cell_type": "code",
   "execution_count": 17,
   "metadata": {
    "collapsed": false
   },
   "outputs": [
    {
     "name": "stdout",
     "output_type": "stream",
     "text": [
      "CPU times: user 840 ms, sys: 411 ms, total: 1.25 s\n",
      "Wall time: 1.25 s\n"
     ]
    }
   ],
   "source": [
    "%%time\n",
    "# delay is the time interval between grant and citation\n",
    "df['cit_delay']=df['patent_date'].sub(df['citation_date'], axis=0)\n",
    "\n",
    "# convert to date format\n",
    "df['cit_delay']=pd.to_timedelta(df['cit_delay'])"
   ]
  },
  {
   "cell_type": "code",
   "execution_count": 18,
   "metadata": {
    "collapsed": false
   },
   "outputs": [
    {
     "data": {
      "text/html": [
       "<div>\n",
       "<table border=\"1\" class=\"dataframe\">\n",
       "  <thead>\n",
       "    <tr style=\"text-align: right;\">\n",
       "      <th></th>\n",
       "      <th>patent_id</th>\n",
       "      <th>citation_id</th>\n",
       "      <th>citation_date</th>\n",
       "      <th>patent_date</th>\n",
       "      <th>cit_delay</th>\n",
       "    </tr>\n",
       "  </thead>\n",
       "  <tbody>\n",
       "    <tr>\n",
       "      <th>31314939</th>\n",
       "      <td>5086509</td>\n",
       "      <td>3348148</td>\n",
       "      <td>1697-10-01</td>\n",
       "      <td>1992-02-04</td>\n",
       "      <td>-105998 days +00:25:26.290448</td>\n",
       "    </tr>\n",
       "    <tr>\n",
       "      <th>36163887</th>\n",
       "      <td>5032634</td>\n",
       "      <td>3424712</td>\n",
       "      <td>1696-01-01</td>\n",
       "      <td>1991-07-16</td>\n",
       "      <td>-105562 days +00:25:26.290448</td>\n",
       "    </tr>\n",
       "    <tr>\n",
       "      <th>19939412</th>\n",
       "      <td>6331158</td>\n",
       "      <td>810675</td>\n",
       "      <td>1706-01-01</td>\n",
       "      <td>2001-12-18</td>\n",
       "      <td>-105406 days +00:25:26.290448</td>\n",
       "    </tr>\n",
       "    <tr>\n",
       "      <th>7677827</th>\n",
       "      <td>5341713</td>\n",
       "      <td>3422714</td>\n",
       "      <td>1696-01-01</td>\n",
       "      <td>1994-08-30</td>\n",
       "      <td>-104421 days +00:25:26.290448</td>\n",
       "    </tr>\n",
       "    <tr>\n",
       "      <th>65912117</th>\n",
       "      <td>D401875</td>\n",
       "      <td>8820300</td>\n",
       "      <td>1700-01-01</td>\n",
       "      <td>1998-12-01</td>\n",
       "      <td>-104328 days +00:25:26.290448</td>\n",
       "    </tr>\n",
       "  </tbody>\n",
       "</table>\n",
       "</div>"
      ],
      "text/plain": [
       "         patent_id citation_id citation_date patent_date  \\\n",
       "31314939   5086509     3348148    1697-10-01  1992-02-04   \n",
       "36163887   5032634     3424712    1696-01-01  1991-07-16   \n",
       "19939412   6331158      810675    1706-01-01  2001-12-18   \n",
       "7677827    5341713     3422714    1696-01-01  1994-08-30   \n",
       "65912117   D401875     8820300    1700-01-01  1998-12-01   \n",
       "\n",
       "                             cit_delay  \n",
       "31314939 -105998 days +00:25:26.290448  \n",
       "36163887 -105562 days +00:25:26.290448  \n",
       "19939412 -105406 days +00:25:26.290448  \n",
       "7677827  -104421 days +00:25:26.290448  \n",
       "65912117 -104328 days +00:25:26.290448  "
      ]
     },
     "execution_count": 18,
     "metadata": {},
     "output_type": "execute_result"
    }
   ],
   "source": [
    "df.sort_values('cit_delay').head()"
   ]
  },
  {
   "cell_type": "code",
   "execution_count": 19,
   "metadata": {
    "collapsed": false
   },
   "outputs": [
    {
     "data": {
      "text/html": [
       "<div>\n",
       "<table border=\"1\" class=\"dataframe\">\n",
       "  <thead>\n",
       "    <tr style=\"text-align: right;\">\n",
       "      <th></th>\n",
       "      <th>patent_id</th>\n",
       "      <th>citation_id</th>\n",
       "      <th>citation_date</th>\n",
       "      <th>patent_date</th>\n",
       "      <th>cit_delay</th>\n",
       "    </tr>\n",
       "  </thead>\n",
       "  <tbody>\n",
       "    <tr>\n",
       "      <th>77048833</th>\n",
       "      <td>5352668</td>\n",
       "      <td>4829000</td>\n",
       "      <td>NaT</td>\n",
       "      <td>1994-10-04</td>\n",
       "      <td>NaT</td>\n",
       "    </tr>\n",
       "    <tr>\n",
       "      <th>78054795</th>\n",
       "      <td>3951747</td>\n",
       "      <td>NaN</td>\n",
       "      <td>NaT</td>\n",
       "      <td>1976-04-20</td>\n",
       "      <td>NaT</td>\n",
       "    </tr>\n",
       "    <tr>\n",
       "      <th>83988014</th>\n",
       "      <td>5227743</td>\n",
       "      <td>4858219</td>\n",
       "      <td>NaT</td>\n",
       "      <td>1993-07-13</td>\n",
       "      <td>NaT</td>\n",
       "    </tr>\n",
       "    <tr>\n",
       "      <th>81098692</th>\n",
       "      <td>3962287</td>\n",
       "      <td>3769337</td>\n",
       "      <td>NaT</td>\n",
       "      <td>1976-06-08</td>\n",
       "      <td>NaT</td>\n",
       "    </tr>\n",
       "    <tr>\n",
       "      <th>86588983</th>\n",
       "      <td>3948899</td>\n",
       "      <td>NaN</td>\n",
       "      <td>NaT</td>\n",
       "      <td>1976-04-06</td>\n",
       "      <td>NaT</td>\n",
       "    </tr>\n",
       "  </tbody>\n",
       "</table>\n",
       "</div>"
      ],
      "text/plain": [
       "         patent_id citation_id citation_date patent_date  cit_delay\n",
       "77048833   5352668     4829000           NaT  1994-10-04        NaT\n",
       "78054795   3951747         NaN           NaT  1976-04-20        NaT\n",
       "83988014   5227743     4858219           NaT  1993-07-13        NaT\n",
       "81098692   3962287     3769337           NaT  1976-06-08        NaT\n",
       "86588983   3948899         NaN           NaT  1976-04-06        NaT"
      ]
     },
     "execution_count": 19,
     "metadata": {},
     "output_type": "execute_result"
    }
   ],
   "source": [
    "df.sort_values('cit_delay').tail()"
   ]
  },
  {
   "cell_type": "code",
   "execution_count": 20,
   "metadata": {
    "collapsed": true
   },
   "outputs": [],
   "source": [
    "# def convert_to_delta(x):\n",
    "#     try:\n",
    "#         return x/np.timedelta64(1, 'Y')\n",
    "#     except:\n",
    "#         return np.nan\n"
   ]
  },
  {
   "cell_type": "code",
   "execution_count": 21,
   "metadata": {
    "collapsed": false
   },
   "outputs": [
    {
     "name": "stdout",
     "output_type": "stream",
     "text": [
      "CPU times: user 41min 24s, sys: 22.4 s, total: 41min 46s\n",
      "Wall time: 41min 48s\n"
     ]
    }
   ],
   "source": [
    "%%time\n",
    "# convert to interval in years\n",
    "# df['cit_delay']=df['cit_delay'].dt.days/360\n",
    "\n",
    "# this is the may offensor of performance\n",
    "# change to numpy\n",
    "# https://stackoverflow.com/questions/52274356/conversion-of-a-timedelta-to-int-very-slow-in-python\n",
    "\n",
    "# this takes 40min\n",
    "df['cit_delay']=pd.to_timedelta(df['cit_delay']).dt.components.days/365\n",
    "\n",
    "# lets try this alternative\n",
    "# df['cit_delay']=df['cit_delay'].apply(lambda x: convert_to_delta(x))\n",
    "# does not work"
   ]
  },
  {
   "cell_type": "code",
   "execution_count": 22,
   "metadata": {
    "collapsed": false,
    "scrolled": false
   },
   "outputs": [
    {
     "name": "stderr",
     "output_type": "stream",
     "text": [
      "/home/applications/anaconda3/4.2.0/lib/python3.5/site-packages/numpy/lib/function_base.py:4269: RuntimeWarning: Invalid value encountered in percentile\n",
      "  interpolation=interpolation)\n"
     ]
    },
    {
     "data": {
      "text/html": [
       "<div>\n",
       "<table border=\"1\" class=\"dataframe\">\n",
       "  <thead>\n",
       "    <tr style=\"text-align: right;\">\n",
       "      <th></th>\n",
       "      <th>cit_delay</th>\n",
       "    </tr>\n",
       "  </thead>\n",
       "  <tbody>\n",
       "    <tr>\n",
       "      <th>count</th>\n",
       "      <td>9.117686e+07</td>\n",
       "    </tr>\n",
       "    <tr>\n",
       "      <th>mean</th>\n",
       "      <td>1.529422e+01</td>\n",
       "    </tr>\n",
       "    <tr>\n",
       "      <th>std</th>\n",
       "      <td>1.560382e+01</td>\n",
       "    </tr>\n",
       "    <tr>\n",
       "      <th>min</th>\n",
       "      <td>-2.904055e+02</td>\n",
       "    </tr>\n",
       "    <tr>\n",
       "      <th>25%</th>\n",
       "      <td>NaN</td>\n",
       "    </tr>\n",
       "    <tr>\n",
       "      <th>50%</th>\n",
       "      <td>NaN</td>\n",
       "    </tr>\n",
       "    <tr>\n",
       "      <th>75%</th>\n",
       "      <td>NaN</td>\n",
       "    </tr>\n",
       "    <tr>\n",
       "      <th>max</th>\n",
       "      <td>2.877836e+02</td>\n",
       "    </tr>\n",
       "  </tbody>\n",
       "</table>\n",
       "</div>"
      ],
      "text/plain": [
       "          cit_delay\n",
       "count  9.117686e+07\n",
       "mean   1.529422e+01\n",
       "std    1.560382e+01\n",
       "min   -2.904055e+02\n",
       "25%             NaN\n",
       "50%             NaN\n",
       "75%             NaN\n",
       "max    2.877836e+02"
      ]
     },
     "execution_count": 22,
     "metadata": {},
     "output_type": "execute_result"
    }
   ],
   "source": [
    "df.describe()"
   ]
  },
  {
   "cell_type": "code",
   "execution_count": 23,
   "metadata": {
    "collapsed": false
   },
   "outputs": [
    {
     "data": {
      "text/html": [
       "<div>\n",
       "<table border=\"1\" class=\"dataframe\">\n",
       "  <thead>\n",
       "    <tr style=\"text-align: right;\">\n",
       "      <th></th>\n",
       "      <th>patent_id</th>\n",
       "      <th>citation_id</th>\n",
       "      <th>citation_date</th>\n",
       "      <th>patent_date</th>\n",
       "      <th>cit_delay</th>\n",
       "    </tr>\n",
       "  </thead>\n",
       "  <tbody>\n",
       "    <tr>\n",
       "      <th>0</th>\n",
       "      <td>9009250</td>\n",
       "      <td>8127342</td>\n",
       "      <td>2012-02-01</td>\n",
       "      <td>2015-04-14</td>\n",
       "      <td>3.200000</td>\n",
       "    </tr>\n",
       "    <tr>\n",
       "      <th>537999</th>\n",
       "      <td>9009250</td>\n",
       "      <td>7593714</td>\n",
       "      <td>2009-09-01</td>\n",
       "      <td>2015-04-14</td>\n",
       "      <td>5.619178</td>\n",
       "    </tr>\n",
       "    <tr>\n",
       "      <th>736401</th>\n",
       "      <td>9009250</td>\n",
       "      <td>7177912</td>\n",
       "      <td>2007-02-01</td>\n",
       "      <td>2015-04-14</td>\n",
       "      <td>8.202740</td>\n",
       "    </tr>\n",
       "    <tr>\n",
       "      <th>836871</th>\n",
       "      <td>9009250</td>\n",
       "      <td>5819172</td>\n",
       "      <td>1998-10-01</td>\n",
       "      <td>2015-04-14</td>\n",
       "      <td>16.545205</td>\n",
       "    </tr>\n",
       "    <tr>\n",
       "      <th>1035358</th>\n",
       "      <td>9009250</td>\n",
       "      <td>6757696</td>\n",
       "      <td>2004-06-01</td>\n",
       "      <td>2015-04-14</td>\n",
       "      <td>10.873973</td>\n",
       "    </tr>\n",
       "  </tbody>\n",
       "</table>\n",
       "</div>"
      ],
      "text/plain": [
       "        patent_id citation_id citation_date patent_date  cit_delay\n",
       "0         9009250     8127342    2012-02-01  2015-04-14   3.200000\n",
       "537999    9009250     7593714    2009-09-01  2015-04-14   5.619178\n",
       "736401    9009250     7177912    2007-02-01  2015-04-14   8.202740\n",
       "836871    9009250     5819172    1998-10-01  2015-04-14  16.545205\n",
       "1035358   9009250     6757696    2004-06-01  2015-04-14  10.873973"
      ]
     },
     "execution_count": 23,
     "metadata": {},
     "output_type": "execute_result"
    }
   ],
   "source": [
    "df.head()"
   ]
  },
  {
   "cell_type": "code",
   "execution_count": 24,
   "metadata": {
    "collapsed": false
   },
   "outputs": [
    {
     "name": "stdout",
     "output_type": "stream",
     "text": [
      "CPU times: user 2.22 s, sys: 400 ms, total: 2.62 s\n",
      "Wall time: 2.77 s\n"
     ]
    },
    {
     "data": {
      "text/plain": [
       "array([[<matplotlib.axes._subplots.AxesSubplot object at 0x7fb8a0d4c080>]], dtype=object)"
      ]
     },
     "execution_count": 24,
     "metadata": {},
     "output_type": "execute_result"
    },
    {
     "data": {
      "image/png": "[encoded data removed]",
      "text/plain": [
       "<matplotlib.figure.Figure at 0x7fbefc077a58>"
      ]
     },
     "metadata": {},
     "output_type": "display_data"
    }
   ],
   "source": [
    "%%time\n",
    "df.hist()"
   ]
  },
  {
   "cell_type": "code",
   "execution_count": 25,
   "metadata": {
    "collapsed": false
   },
   "outputs": [
    {
     "name": "stderr",
     "output_type": "stream",
     "text": [
      "/home/applications/anaconda3/4.2.0/lib/python3.5/site-packages/numpy/lib/function_base.py:4269: RuntimeWarning: Invalid value encountered in percentile\n",
      "  interpolation=interpolation)\n"
     ]
    },
    {
     "data": {
      "text/html": [
       "<div>\n",
       "<table border=\"1\" class=\"dataframe\">\n",
       "  <thead>\n",
       "    <tr style=\"text-align: right;\">\n",
       "      <th></th>\n",
       "      <th>patent_id</th>\n",
       "      <th>citation_id</th>\n",
       "      <th>citation_date</th>\n",
       "      <th>patent_date</th>\n",
       "      <th>cit_delay</th>\n",
       "    </tr>\n",
       "  </thead>\n",
       "  <tbody>\n",
       "  </tbody>\n",
       "</table>\n",
       "</div>"
      ],
      "text/plain": [
       "Empty DataFrame\n",
       "Columns: [patent_id, citation_id, citation_date, patent_date, cit_delay]\n",
       "Index: []"
      ]
     },
     "execution_count": 25,
     "metadata": {},
     "output_type": "execute_result"
    }
   ],
   "source": [
    "#Check outliers\n",
    "df[df[\"cit_delay\"]>df[\"cit_delay\"].quantile(0.15)].sort_values(by=['cit_delay'], ascending=True)"
   ]
  },
  {
   "cell_type": "code",
   "execution_count": 26,
   "metadata": {
    "collapsed": false
   },
   "outputs": [
    {
     "data": {
      "text/html": [
       "<div>\n",
       "<table border=\"1\" class=\"dataframe\">\n",
       "  <thead>\n",
       "    <tr style=\"text-align: right;\">\n",
       "      <th></th>\n",
       "      <th>patent_id</th>\n",
       "      <th>citation_id</th>\n",
       "      <th>citation_date</th>\n",
       "      <th>patent_date</th>\n",
       "      <th>cit_delay</th>\n",
       "    </tr>\n",
       "  </thead>\n",
       "  <tbody>\n",
       "    <tr>\n",
       "      <th>0</th>\n",
       "      <td>9009250</td>\n",
       "      <td>8127342</td>\n",
       "      <td>2012-02-01</td>\n",
       "      <td>2015-04-14</td>\n",
       "      <td>3.200000</td>\n",
       "    </tr>\n",
       "    <tr>\n",
       "      <th>537999</th>\n",
       "      <td>9009250</td>\n",
       "      <td>7593714</td>\n",
       "      <td>2009-09-01</td>\n",
       "      <td>2015-04-14</td>\n",
       "      <td>5.619178</td>\n",
       "    </tr>\n",
       "    <tr>\n",
       "      <th>736401</th>\n",
       "      <td>9009250</td>\n",
       "      <td>7177912</td>\n",
       "      <td>2007-02-01</td>\n",
       "      <td>2015-04-14</td>\n",
       "      <td>8.202740</td>\n",
       "    </tr>\n",
       "    <tr>\n",
       "      <th>836871</th>\n",
       "      <td>9009250</td>\n",
       "      <td>5819172</td>\n",
       "      <td>1998-10-01</td>\n",
       "      <td>2015-04-14</td>\n",
       "      <td>16.545205</td>\n",
       "    </tr>\n",
       "    <tr>\n",
       "      <th>1035358</th>\n",
       "      <td>9009250</td>\n",
       "      <td>6757696</td>\n",
       "      <td>2004-06-01</td>\n",
       "      <td>2015-04-14</td>\n",
       "      <td>10.873973</td>\n",
       "    </tr>\n",
       "  </tbody>\n",
       "</table>\n",
       "</div>"
      ],
      "text/plain": [
       "        patent_id citation_id citation_date patent_date  cit_delay\n",
       "0         9009250     8127342    2012-02-01  2015-04-14   3.200000\n",
       "537999    9009250     7593714    2009-09-01  2015-04-14   5.619178\n",
       "736401    9009250     7177912    2007-02-01  2015-04-14   8.202740\n",
       "836871    9009250     5819172    1998-10-01  2015-04-14  16.545205\n",
       "1035358   9009250     6757696    2004-06-01  2015-04-14  10.873973"
      ]
     },
     "execution_count": 26,
     "metadata": {},
     "output_type": "execute_result"
    }
   ],
   "source": [
    "df.head()"
   ]
  },
  {
   "cell_type": "code",
   "execution_count": 27,
   "metadata": {
    "collapsed": false
   },
   "outputs": [
    {
     "name": "stderr",
     "output_type": "stream",
     "text": [
      "/home/applications/anaconda3/4.2.0/lib/python3.5/site-packages/numpy/lib/function_base.py:4269: RuntimeWarning: Invalid value encountered in percentile\n",
      "  interpolation=interpolation)\n"
     ]
    },
    {
     "data": {
      "text/html": [
       "<div>\n",
       "<table border=\"1\" class=\"dataframe\">\n",
       "  <thead>\n",
       "    <tr style=\"text-align: right;\">\n",
       "      <th></th>\n",
       "      <th>patent_id</th>\n",
       "      <th>citation_id</th>\n",
       "      <th>citation_date</th>\n",
       "      <th>patent_date</th>\n",
       "      <th>cit_delay</th>\n",
       "    </tr>\n",
       "  </thead>\n",
       "  <tbody>\n",
       "  </tbody>\n",
       "</table>\n",
       "</div>"
      ],
      "text/plain": [
       "Empty DataFrame\n",
       "Columns: [patent_id, citation_id, citation_date, patent_date, cit_delay]\n",
       "Index: []"
      ]
     },
     "execution_count": 27,
     "metadata": {},
     "output_type": "execute_result"
    }
   ],
   "source": [
    "df[df[\"cit_delay\"]<df[\"cit_delay\"].quantile(0.85)].sort_values(by=['cit_delay'], ascending=False)"
   ]
  },
  {
   "cell_type": "code",
   "execution_count": 28,
   "metadata": {
    "collapsed": true
   },
   "outputs": [],
   "source": [
    "df.to_csv(dst)"
   ]
  }
 ],
 "metadata": {
  "anaconda-cloud": {},
  "kernelspec": {
   "display_name": "Python [default]",
   "language": "python",
   "name": "python3"
  },
  "language_info": {
   "codemirror_mode": {
    "name": "ipython",
    "version": 3
   },
   "file_extension": ".py",
   "mimetype": "text/x-python",
   "name": "python",
   "nbconvert_exporter": "python",
   "pygments_lexer": "ipython3",
   "version": "3.5.2"
  }
 },
 "nbformat": 4,
 "nbformat_minor": 1
}
