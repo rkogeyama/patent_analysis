{
 "cells": [
  {
   "cell_type": "code",
   "execution_count": 1,
   "metadata": {
    "collapsed": true
   },
   "outputs": [],
   "source": [
    "#Script to evaluate the determinants of patent citation \n",
    "#Renato Kogeyama\n",
    "\n",
    "# Jan 21, 2020\n",
    "# The current data does not have Class\n",
    "# I should go back and get this info - but there are too many scripts now and\n",
    "#   I should reorganize them before moving forward\n",
    "# I should also include the patent publication date - to control for the policy changes\n",
    "# In the citation file, I should change application number for grant when possible \n",
    "#   This will improve realiability of all measures related to citation\n",
    "# Introduce classifications\n",
    "\n",
    "# Jan 18, 2020\n",
    "# Variables calculated\n",
    "# Generality, average delay, forward and backward citations, cumulative citation (cit_tree)\n",
    "# Still missing originality\n",
    "# the file with variables that are used in this script should get a name independent from the date\n",
    "\n",
    "\n",
    "#Miami, December 24th, 2019\n",
    "# Prof. Rafael Corredoira suggested:\n",
    "# - Inclusion of a tree of citations\n",
    "#   To track back the source of citations. This is information is not given by direct count of citations.\n",
    "# - Consider policy changes in the way patents are cited\n",
    "#   Policy changes in 2000 changed the time frame of citation, and 2010 partially moved citation to applications\n",
    "# - Track classification changes \n",
    "#   The original classification system in USPTO changed from a technical based to a market based classification system\n",
    "#   See if there is an impact\n",
    "# - Consider a text analysis of the claims\n",
    "#   Classification is based on the claims but it is not clear how many claims are related to each classification category\n",
    "# - Include moderation effect from classification\n",
    "#   Citations patterns may change across industries, so some effects may disappear if industry is not accounted for.\n",
    "\n",
    "# In summary, his ideas help increase structure of the current work\n",
    "\n",
    "\n",
    "#Syracuse, December 3rd, 2019\n",
    "\n",
    "#The original script is getting too complex\n",
    "#There was many tentative scripts to play with data\n",
    "#Here I am writing a script to show the relevance of variables to patent citation\n",
    "\n",
    "#11-12-2019\n",
    "#Introducing normalization\n",
    "\n",
    "#10-11-2019\n",
    "#I introduced log backward citation, what corrects for very dispersed results\n",
    "#but the major problem is that few patents receive citations\n",
    "#bring back binary output\n",
    "\n",
    "#10-10-2019\n",
    "#Added graphics and new distributions\n",
    "\n",
    "#10-03-2019\n",
    "#I rewrote the citation data to clean the strings\n",
    "\n",
    "#09-15-2019\n",
    "#O naive bayes tem algum problema com distribuicoes desbalanceadas\n",
    "#o scikit learn tem um modulo que corrige count distributions com muitos zeros, o complementNB\n",
    "#porem este nao esta disponivel na atual versao disponibilizada no HPC da FIU\n",
    "\n",
    "#09-10-2019\n",
    "#o trabalho pede uma abordagem mais sistematica e cuidadosa\n",
    "#estou agrupando o codigo antigo comentado e vou comecar um novo codigo\n",
    "\n",
    "#09-27-2019\n",
    "#I am renaming citation as forward citation and backward citation\n",
    "\n",
    "#09-17-2018\n",
    "\n",
    "#Alto uso de memoria - rodar no Amazon AWS \n",
    "\n"
   ]
  },
  {
   "cell_type": "code",
   "execution_count": 1,
   "metadata": {
    "collapsed": false
   },
   "outputs": [],
   "source": [
    "import pandas as pd\n",
    "import numpy as np\n",
    "\n",
    "from sklearn import preprocessing\n",
    "from sklearn import linear_model, datasets\n",
    "from sklearn.model_selection import train_test_split\n",
    "from sklearn.feature_selection import SelectKBest, f_classif\n",
    "from sklearn import naive_bayes\n",
    "from sklearn.metrics import roc_curve, auc\n",
    "from sklearn.feature_selection import VarianceThreshold\n",
    "\n",
    "from scipy import stats\n",
    "import datetime\n",
    "import matplotlib.pyplot as plot\n",
    "import pylab as pl\n",
    "\n",
    "from math import sqrt\n",
    "\n",
    "\n",
    "import sys\n",
    "sys.path.append('/home/rkogeyam/scripts/')\n",
    "\n",
    "from best_num_attr import best_num_attr\n",
    "from xattrSelect import xattrSelect\n",
    "from sampler import sampler\n",
    "from normalize import normalize\n",
    "from nbayes import nbayes\n",
    "\n",
    "\n",
    "\n"
   ]
  },
  {
   "cell_type": "code",
   "execution_count": 2,
   "metadata": {
    "collapsed": true
   },
   "outputs": [],
   "source": [
    "%matplotlib inline"
   ]
  },
  {
   "cell_type": "code",
   "execution_count": 3,
   "metadata": {
    "collapsed": false
   },
   "outputs": [],
   "source": [
    "fname='/home/rkogeyam/PATENT_CITATION/data/dataset.csv'\n",
    "\n",
    "# df=pd.read_csv(fname)\n",
    "\n",
    "sample_size=1000\n",
    "df=sampler(fname, sample_size)"
   ]
  },
  {
   "cell_type": "code",
   "execution_count": 4,
   "metadata": {
    "collapsed": false
   },
   "outputs": [
    {
     "name": "stderr",
     "output_type": "stream",
     "text": [
      "/home/applications/anaconda3/4.2.0/lib/python3.5/site-packages/numpy/lib/function_base.py:4269: RuntimeWarning: Invalid value encountered in percentile\n",
      "  interpolation=interpolation)\n"
     ]
    },
    {
     "data": {
      "text/html": [
       "<div>\n",
       "<table border=\"1\" class=\"dataframe\">\n",
       "  <thead>\n",
       "    <tr style=\"text-align: right;\">\n",
       "      <th></th>\n",
       "      <th>back_citation</th>\n",
       "      <th>parent_back_citation</th>\n",
       "      <th>forw_citation</th>\n",
       "      <th>mean_forw_delay</th>\n",
       "      <th>mean_back_delay</th>\n",
       "    </tr>\n",
       "  </thead>\n",
       "  <tbody>\n",
       "    <tr>\n",
       "      <th>count</th>\n",
       "      <td>860.000000</td>\n",
       "      <td>860.000000</td>\n",
       "      <td>860.000000</td>\n",
       "      <td>568.000000</td>\n",
       "      <td>698.000000</td>\n",
       "    </tr>\n",
       "    <tr>\n",
       "      <th>mean</th>\n",
       "      <td>11.037209</td>\n",
       "      <td>160.247674</td>\n",
       "      <td>13.503488</td>\n",
       "      <td>13.644840</td>\n",
       "      <td>21.991238</td>\n",
       "    </tr>\n",
       "    <tr>\n",
       "      <th>std</th>\n",
       "      <td>26.309539</td>\n",
       "      <td>592.023035</td>\n",
       "      <td>66.785436</td>\n",
       "      <td>9.642182</td>\n",
       "      <td>26.211026</td>\n",
       "    </tr>\n",
       "    <tr>\n",
       "      <th>min</th>\n",
       "      <td>0.000000</td>\n",
       "      <td>0.000000</td>\n",
       "      <td>0.000000</td>\n",
       "      <td>0.758904</td>\n",
       "      <td>0.380822</td>\n",
       "    </tr>\n",
       "    <tr>\n",
       "      <th>25%</th>\n",
       "      <td>NaN</td>\n",
       "      <td>NaN</td>\n",
       "      <td>NaN</td>\n",
       "      <td>NaN</td>\n",
       "      <td>NaN</td>\n",
       "    </tr>\n",
       "    <tr>\n",
       "      <th>50%</th>\n",
       "      <td>NaN</td>\n",
       "      <td>NaN</td>\n",
       "      <td>NaN</td>\n",
       "      <td>NaN</td>\n",
       "      <td>NaN</td>\n",
       "    </tr>\n",
       "    <tr>\n",
       "      <th>75%</th>\n",
       "      <td>NaN</td>\n",
       "      <td>NaN</td>\n",
       "      <td>NaN</td>\n",
       "      <td>NaN</td>\n",
       "      <td>NaN</td>\n",
       "    </tr>\n",
       "    <tr>\n",
       "      <th>max</th>\n",
       "      <td>343.000000</td>\n",
       "      <td>7755.000000</td>\n",
       "      <td>1558.000000</td>\n",
       "      <td>71.791781</td>\n",
       "      <td>135.980822</td>\n",
       "    </tr>\n",
       "  </tbody>\n",
       "</table>\n",
       "</div>"
      ],
      "text/plain": [
       "       back_citation  parent_back_citation  forw_citation  mean_forw_delay  \\\n",
       "count     860.000000            860.000000     860.000000       568.000000   \n",
       "mean       11.037209            160.247674      13.503488        13.644840   \n",
       "std        26.309539            592.023035      66.785436         9.642182   \n",
       "min         0.000000              0.000000       0.000000         0.758904   \n",
       "25%              NaN                   NaN            NaN              NaN   \n",
       "50%              NaN                   NaN            NaN              NaN   \n",
       "75%              NaN                   NaN            NaN              NaN   \n",
       "max       343.000000           7755.000000    1558.000000        71.791781   \n",
       "\n",
       "       mean_back_delay  \n",
       "count       698.000000  \n",
       "mean         21.991238  \n",
       "std          26.211026  \n",
       "min           0.380822  \n",
       "25%                NaN  \n",
       "50%                NaN  \n",
       "75%                NaN  \n",
       "max         135.980822  "
      ]
     },
     "execution_count": 4,
     "metadata": {},
     "output_type": "execute_result"
    }
   ],
   "source": [
    "df.describe()"
   ]
  },
  {
   "cell_type": "code",
   "execution_count": 6,
   "metadata": {
    "collapsed": false
   },
   "outputs": [
    {
     "data": {
      "text/html": [
       "<div>\n",
       "<table border=\"1\" class=\"dataframe\">\n",
       "  <thead>\n",
       "    <tr style=\"text-align: right;\">\n",
       "      <th></th>\n",
       "      <th>Unnamed: 0</th>\n",
       "      <th>back_citation</th>\n",
       "      <th>parent_back_citation</th>\n",
       "      <th>forw_citation</th>\n",
       "      <th>mean_forw_delay</th>\n",
       "      <th>mean_back_delay</th>\n",
       "    </tr>\n",
       "  </thead>\n",
       "  <tbody>\n",
       "    <tr>\n",
       "      <th>331</th>\n",
       "      <td>3677222</td>\n",
       "      <td>3.0</td>\n",
       "      <td>41.0</td>\n",
       "      <td>0.0</td>\n",
       "      <td>NaN</td>\n",
       "      <td>11.630137</td>\n",
       "    </tr>\n",
       "    <tr>\n",
       "      <th>54</th>\n",
       "      <td>0</td>\n",
       "      <td>0.0</td>\n",
       "      <td>0.0</td>\n",
       "      <td>1.0</td>\n",
       "      <td>NaN</td>\n",
       "      <td>NaN</td>\n",
       "    </tr>\n",
       "    <tr>\n",
       "      <th>320</th>\n",
       "      <td>3543391</td>\n",
       "      <td>2.0</td>\n",
       "      <td>30.0</td>\n",
       "      <td>0.0</td>\n",
       "      <td>NaN</td>\n",
       "      <td>16.147945</td>\n",
       "    </tr>\n",
       "    <tr>\n",
       "      <th>35</th>\n",
       "      <td>0</td>\n",
       "      <td>0.0</td>\n",
       "      <td>0.0</td>\n",
       "      <td>2.0</td>\n",
       "      <td>NaN</td>\n",
       "      <td>NaN</td>\n",
       "    </tr>\n",
       "    <tr>\n",
       "      <th>19</th>\n",
       "      <td>0</td>\n",
       "      <td>0.0</td>\n",
       "      <td>0.0</td>\n",
       "      <td>1.0</td>\n",
       "      <td>NaN</td>\n",
       "      <td>NaN</td>\n",
       "    </tr>\n",
       "    <tr>\n",
       "      <th>758</th>\n",
       "      <td>8114922</td>\n",
       "      <td>NaN</td>\n",
       "      <td>NaN</td>\n",
       "      <td>NaN</td>\n",
       "      <td>15.672945</td>\n",
       "      <td>NaN</td>\n",
       "    </tr>\n",
       "    <tr>\n",
       "      <th>790</th>\n",
       "      <td>8413031</td>\n",
       "      <td>NaN</td>\n",
       "      <td>NaN</td>\n",
       "      <td>NaN</td>\n",
       "      <td>5.884126</td>\n",
       "      <td>NaN</td>\n",
       "    </tr>\n",
       "    <tr>\n",
       "      <th>244</th>\n",
       "      <td>2609030</td>\n",
       "      <td>4.0</td>\n",
       "      <td>39.0</td>\n",
       "      <td>0.0</td>\n",
       "      <td>NaN</td>\n",
       "      <td>51.174658</td>\n",
       "    </tr>\n",
       "    <tr>\n",
       "      <th>243</th>\n",
       "      <td>2554113</td>\n",
       "      <td>3.0</td>\n",
       "      <td>34.0</td>\n",
       "      <td>0.0</td>\n",
       "      <td>NaN</td>\n",
       "      <td>44.652968</td>\n",
       "    </tr>\n",
       "    <tr>\n",
       "      <th>985</th>\n",
       "      <td>D721845</td>\n",
       "      <td>2.0</td>\n",
       "      <td>2.0</td>\n",
       "      <td>19.0</td>\n",
       "      <td>3.904110</td>\n",
       "      <td>1.864384</td>\n",
       "    </tr>\n",
       "  </tbody>\n",
       "</table>\n",
       "</div>"
      ],
      "text/plain": [
       "    Unnamed: 0  back_citation  parent_back_citation  forw_citation  \\\n",
       "331    3677222            3.0                  41.0            0.0   \n",
       "54           0            0.0                   0.0            1.0   \n",
       "320    3543391            2.0                  30.0            0.0   \n",
       "35           0            0.0                   0.0            2.0   \n",
       "19           0            0.0                   0.0            1.0   \n",
       "758    8114922            NaN                   NaN            NaN   \n",
       "790    8413031            NaN                   NaN            NaN   \n",
       "244    2609030            4.0                  39.0            0.0   \n",
       "243    2554113            3.0                  34.0            0.0   \n",
       "985    D721845            2.0                   2.0           19.0   \n",
       "\n",
       "     mean_forw_delay  mean_back_delay  \n",
       "331              NaN        11.630137  \n",
       "54               NaN              NaN  \n",
       "320              NaN        16.147945  \n",
       "35               NaN              NaN  \n",
       "19               NaN              NaN  \n",
       "758        15.672945              NaN  \n",
       "790         5.884126              NaN  \n",
       "244              NaN        51.174658  \n",
       "243              NaN        44.652968  \n",
       "985         3.904110         1.864384  "
      ]
     },
     "execution_count": 6,
     "metadata": {},
     "output_type": "execute_result"
    }
   ],
   "source": [
    "df.sample(n=10)"
   ]
  },
  {
   "cell_type": "code",
   "execution_count": 7,
   "metadata": {
    "collapsed": true
   },
   "outputs": [],
   "source": [
    "# df.rename(columns={'Unnamed: 0': 'patent_id'}, inplace=True)"
   ]
  },
  {
   "cell_type": "code",
   "execution_count": 8,
   "metadata": {
    "collapsed": false,
    "scrolled": true
   },
   "outputs": [],
   "source": [
    "df.set_index('patent_id', inplace=True)"
   ]
  },
  {
   "cell_type": "code",
   "execution_count": 8,
   "metadata": {
    "collapsed": true
   },
   "outputs": [],
   "source": [
    "# df.drop(['number', 'filename', 'abstract', 'title', 'patent_id', 'country', 'month', 'day'], axis=1, inplace=True)\n",
    "\n",
    "#number is the same as id\n",
    "#filename is not relevant\n",
    "#abstract and title may be used in other opportunity, for now I drop them to save memory\n",
    "#patent_id is not relevant here (it was the key for matching in a previous step)\n",
    "#country is always US\n",
    "#at this point, I am dropping month and day because they are not reliable source of information (see previous step)"
   ]
  },
  {
   "cell_type": "code",
   "execution_count": 9,
   "metadata": {
    "collapsed": false,
    "scrolled": true
   },
   "outputs": [
    {
     "data": {
      "text/html": [
       "<div>\n",
       "<table border=\"1\" class=\"dataframe\">\n",
       "  <thead>\n",
       "    <tr style=\"text-align: right;\">\n",
       "      <th></th>\n",
       "      <th>type</th>\n",
       "      <th>date</th>\n",
       "      <th>kind</th>\n",
       "      <th>num_claims</th>\n",
       "      <th>year</th>\n",
       "      <th>back_citation</th>\n",
       "      <th>parent_back_citation</th>\n",
       "      <th>forw_citation</th>\n",
       "    </tr>\n",
       "    <tr>\n",
       "      <th>id</th>\n",
       "      <th></th>\n",
       "      <th></th>\n",
       "      <th></th>\n",
       "      <th></th>\n",
       "      <th></th>\n",
       "      <th></th>\n",
       "      <th></th>\n",
       "      <th></th>\n",
       "    </tr>\n",
       "  </thead>\n",
       "  <tbody>\n",
       "    <tr>\n",
       "      <th>7462736</th>\n",
       "      <td>utility</td>\n",
       "      <td>2008-12-09</td>\n",
       "      <td>B2</td>\n",
       "      <td>21.0</td>\n",
       "      <td>2008.0</td>\n",
       "      <td>0.0</td>\n",
       "      <td>0.0</td>\n",
       "      <td>0.0</td>\n",
       "    </tr>\n",
       "    <tr>\n",
       "      <th>7239695</th>\n",
       "      <td>utility</td>\n",
       "      <td>2007-07-03</td>\n",
       "      <td>B2</td>\n",
       "      <td>28.0</td>\n",
       "      <td>2007.0</td>\n",
       "      <td>0.0</td>\n",
       "      <td>0.0</td>\n",
       "      <td>0.0</td>\n",
       "    </tr>\n",
       "    <tr>\n",
       "      <th>6727743</th>\n",
       "      <td>utility</td>\n",
       "      <td>2004-04-27</td>\n",
       "      <td>B2</td>\n",
       "      <td>34.0</td>\n",
       "      <td>2004.0</td>\n",
       "      <td>2.0</td>\n",
       "      <td>1.0</td>\n",
       "      <td>6.0</td>\n",
       "    </tr>\n",
       "    <tr>\n",
       "      <th>8212193</th>\n",
       "      <td>utility</td>\n",
       "      <td>2012-07-03</td>\n",
       "      <td>B2</td>\n",
       "      <td>14.0</td>\n",
       "      <td>2012.0</td>\n",
       "      <td>0.0</td>\n",
       "      <td>0.0</td>\n",
       "      <td>0.0</td>\n",
       "    </tr>\n",
       "    <tr>\n",
       "      <th>3980802</th>\n",
       "      <td>utility</td>\n",
       "      <td>1976-09-14</td>\n",
       "      <td>A</td>\n",
       "      <td>9.0</td>\n",
       "      <td>1976.0</td>\n",
       "      <td>0.0</td>\n",
       "      <td>0.0</td>\n",
       "      <td>0.0</td>\n",
       "    </tr>\n",
       "  </tbody>\n",
       "</table>\n",
       "</div>"
      ],
      "text/plain": [
       "            type        date kind  num_claims    year  back_citation  \\\n",
       "id                                                                     \n",
       "7462736  utility  2008-12-09   B2        21.0  2008.0            0.0   \n",
       "7239695  utility  2007-07-03   B2        28.0  2007.0            0.0   \n",
       "6727743  utility  2004-04-27   B2        34.0  2004.0            2.0   \n",
       "8212193  utility  2012-07-03   B2        14.0  2012.0            0.0   \n",
       "3980802  utility  1976-09-14    A         9.0  1976.0            0.0   \n",
       "\n",
       "         parent_back_citation  forw_citation  \n",
       "id                                            \n",
       "7462736                   0.0            0.0  \n",
       "7239695                   0.0            0.0  \n",
       "6727743                   1.0            6.0  \n",
       "8212193                   0.0            0.0  \n",
       "3980802                   0.0            0.0  "
      ]
     },
     "execution_count": 9,
     "metadata": {},
     "output_type": "execute_result"
    }
   ],
   "source": [
    "df.sample(n=5)"
   ]
  },
  {
   "cell_type": "code",
   "execution_count": 10,
   "metadata": {
    "collapsed": true
   },
   "outputs": [],
   "source": [
    "df.drop('date', axis=1, inplace=True)"
   ]
  },
  {
   "cell_type": "code",
   "execution_count": 11,
   "metadata": {
    "collapsed": false
   },
   "outputs": [
    {
     "data": {
      "text/plain": [
       "(6488254, 7)"
      ]
     },
     "execution_count": 11,
     "metadata": {},
     "output_type": "execute_result"
    }
   ],
   "source": [
    "df.shape"
   ]
  },
  {
   "cell_type": "code",
   "execution_count": 12,
   "metadata": {
    "collapsed": false
   },
   "outputs": [],
   "source": [
    "df=df.dropna()"
   ]
  },
  {
   "cell_type": "code",
   "execution_count": 13,
   "metadata": {
    "collapsed": false
   },
   "outputs": [
    {
     "data": {
      "text/plain": [
       "(6488250, 7)"
      ]
     },
     "execution_count": 13,
     "metadata": {},
     "output_type": "execute_result"
    }
   ],
   "source": [
    "df.shape"
   ]
  },
  {
   "cell_type": "code",
   "execution_count": 14,
   "metadata": {
    "collapsed": false
   },
   "outputs": [
    {
     "data": {
      "text/plain": [
       "type\n",
       "TVPP                                      3\n",
       "defensive publication                   509\n",
       "design                               563003\n",
       "plant                                 24790\n",
       "reissue                               17812\n",
       "statutory invention registration       2254\n",
       "utility                             5879879\n",
       "Name: year, dtype: int64"
      ]
     },
     "execution_count": 14,
     "metadata": {},
     "output_type": "execute_result"
    }
   ],
   "source": [
    "df.groupby('type').count().iloc[:,2]"
   ]
  },
  {
   "cell_type": "code",
   "execution_count": 15,
   "metadata": {
    "collapsed": false
   },
   "outputs": [
    {
     "data": {
      "text/plain": [
       "kind\n",
       "A     2391379\n",
       "B1     568083\n",
       "B2    2920417\n",
       "E        8692\n",
       "E1       9120\n",
       "H        1982\n",
       "H1        272\n",
       "I4        509\n",
       "I5          3\n",
       "P        8282\n",
       "P2      11401\n",
       "P3       5107\n",
       "S      209582\n",
       "S1     353421\n",
       "Name: year, dtype: int64"
      ]
     },
     "execution_count": 15,
     "metadata": {},
     "output_type": "execute_result"
    }
   ],
   "source": [
    "# defensive publication and statutory registration are not wrong entries\n",
    "# I will just rename them and leave them in the dataset\n",
    "df.groupby('kind').count().iloc[:,2]"
   ]
  },
  {
   "cell_type": "code",
   "execution_count": 16,
   "metadata": {
    "collapsed": false
   },
   "outputs": [
    {
     "data": {
      "text/html": [
       "<div>\n",
       "<table border=\"1\" class=\"dataframe\">\n",
       "  <thead>\n",
       "    <tr style=\"text-align: right;\">\n",
       "      <th></th>\n",
       "      <th>count</th>\n",
       "      <th>mean</th>\n",
       "      <th>std</th>\n",
       "      <th>min</th>\n",
       "      <th>25%</th>\n",
       "      <th>50%</th>\n",
       "      <th>75%</th>\n",
       "      <th>max</th>\n",
       "    </tr>\n",
       "  </thead>\n",
       "  <tbody>\n",
       "    <tr>\n",
       "      <th>num_claims</th>\n",
       "      <td>6488250.0</td>\n",
       "      <td>14.143219</td>\n",
       "      <td>12.004228</td>\n",
       "      <td>0.0</td>\n",
       "      <td>6.0</td>\n",
       "      <td>12.0</td>\n",
       "      <td>20.0</td>\n",
       "      <td>887.0</td>\n",
       "    </tr>\n",
       "    <tr>\n",
       "      <th>year</th>\n",
       "      <td>6488250.0</td>\n",
       "      <td>2002.723440</td>\n",
       "      <td>11.322681</td>\n",
       "      <td>1976.0</td>\n",
       "      <td>1995.0</td>\n",
       "      <td>2005.0</td>\n",
       "      <td>2013.0</td>\n",
       "      <td>2017.0</td>\n",
       "    </tr>\n",
       "    <tr>\n",
       "      <th>back_citation</th>\n",
       "      <td>6488250.0</td>\n",
       "      <td>7.257143</td>\n",
       "      <td>25.692059</td>\n",
       "      <td>0.0</td>\n",
       "      <td>0.0</td>\n",
       "      <td>0.0</td>\n",
       "      <td>5.0</td>\n",
       "      <td>3433.0</td>\n",
       "    </tr>\n",
       "    <tr>\n",
       "      <th>parent_back_citation</th>\n",
       "      <td>6488250.0</td>\n",
       "      <td>100.546808</td>\n",
       "      <td>1066.788244</td>\n",
       "      <td>0.0</td>\n",
       "      <td>0.0</td>\n",
       "      <td>0.0</td>\n",
       "      <td>13.0</td>\n",
       "      <td>156715.0</td>\n",
       "    </tr>\n",
       "    <tr>\n",
       "      <th>forw_citation</th>\n",
       "      <td>6488250.0</td>\n",
       "      <td>7.831692</td>\n",
       "      <td>29.595450</td>\n",
       "      <td>0.0</td>\n",
       "      <td>0.0</td>\n",
       "      <td>0.0</td>\n",
       "      <td>7.0</td>\n",
       "      <td>5811.0</td>\n",
       "    </tr>\n",
       "  </tbody>\n",
       "</table>\n",
       "</div>"
      ],
      "text/plain": [
       "                          count         mean          std     min     25%  \\\n",
       "num_claims            6488250.0    14.143219    12.004228     0.0     6.0   \n",
       "year                  6488250.0  2002.723440    11.322681  1976.0  1995.0   \n",
       "back_citation         6488250.0     7.257143    25.692059     0.0     0.0   \n",
       "parent_back_citation  6488250.0   100.546808  1066.788244     0.0     0.0   \n",
       "forw_citation         6488250.0     7.831692    29.595450     0.0     0.0   \n",
       "\n",
       "                         50%     75%       max  \n",
       "num_claims              12.0    20.0     887.0  \n",
       "year                  2005.0  2013.0    2017.0  \n",
       "back_citation            0.0     5.0    3433.0  \n",
       "parent_back_citation     0.0    13.0  156715.0  \n",
       "forw_citation            0.0     7.0    5811.0  "
      ]
     },
     "execution_count": 16,
     "metadata": {},
     "output_type": "execute_result"
    }
   ],
   "source": [
    "df.describe().transpose()"
   ]
  },
  {
   "cell_type": "code",
   "execution_count": 17,
   "metadata": {
    "collapsed": false
   },
   "outputs": [
    {
     "data": {
      "text/plain": [
       "type                     object\n",
       "kind                     object\n",
       "num_claims              float64\n",
       "year                    float64\n",
       "back_citation           float64\n",
       "parent_back_citation    float64\n",
       "forw_citation           float64\n",
       "dtype: object"
      ]
     },
     "execution_count": 17,
     "metadata": {},
     "output_type": "execute_result"
    }
   ],
   "source": [
    "df.dtypes"
   ]
  },
  {
   "cell_type": "code",
   "execution_count": 18,
   "metadata": {
    "collapsed": true
   },
   "outputs": [],
   "source": [
    "# normalization\n",
    "# df=normalize(df)"
   ]
  },
  {
   "cell_type": "code",
   "execution_count": 19,
   "metadata": {
    "collapsed": false
   },
   "outputs": [],
   "source": [
    "#maybe nb fit does not accept nomalized data, so i using data without normalize\n",
    "#but in that case, i have to transform the categorical variables\n",
    "\n",
    "obj_cols=list(df.select_dtypes(include=[object]).columns.values)\n",
    "\n",
    "for col in obj_cols:\n",
    "    df[col] = df[col].astype('category')\n",
    "\n",
    "df=pd.get_dummies(df, columns=obj_cols, prefix=obj_cols)"
   ]
  },
  {
   "cell_type": "code",
   "execution_count": 20,
   "metadata": {
    "collapsed": true
   },
   "outputs": [],
   "source": [
    "# defensive publication and statutory registration are not wrong entries\n",
    "# I will just rename them and leave them in the dataset\n",
    "# df.rename(columns={'defensive publication': 'defensive', 'statutory invention registration': 'statutory'}, inplace=True)\n",
    "df=df.rename(columns={'type_defensive publication': 'type_defensive', 'type_statutory invention registration': 'type_statutory'})"
   ]
  },
  {
   "cell_type": "code",
   "execution_count": 21,
   "metadata": {
    "collapsed": false
   },
   "outputs": [
    {
     "data": {
      "text/plain": [
       "26"
      ]
     },
     "execution_count": 21,
     "metadata": {},
     "output_type": "execute_result"
    }
   ],
   "source": [
    "# List of IVs\n",
    "chosenColumns=df.columns.values.tolist()\n",
    "len(chosenColumns)"
   ]
  },
  {
   "cell_type": "code",
   "execution_count": 22,
   "metadata": {
    "collapsed": false
   },
   "outputs": [
    {
     "data": {
      "text/plain": [
       "['num_claims',\n",
       " 'year',\n",
       " 'back_citation',\n",
       " 'parent_back_citation',\n",
       " 'forw_citation',\n",
       " 'type_TVPP',\n",
       " 'type_defensive',\n",
       " 'type_design',\n",
       " 'type_plant',\n",
       " 'type_reissue',\n",
       " 'type_statutory',\n",
       " 'type_utility',\n",
       " 'kind_A',\n",
       " 'kind_B1',\n",
       " 'kind_B2',\n",
       " 'kind_E',\n",
       " 'kind_E1',\n",
       " 'kind_H',\n",
       " 'kind_H1',\n",
       " 'kind_I4',\n",
       " 'kind_I5',\n",
       " 'kind_P',\n",
       " 'kind_P2',\n",
       " 'kind_P3',\n",
       " 'kind_S',\n",
       " 'kind_S1']"
      ]
     },
     "execution_count": 22,
     "metadata": {},
     "output_type": "execute_result"
    }
   ],
   "source": [
    "chosenColumns"
   ]
  },
  {
   "cell_type": "code",
   "execution_count": 23,
   "metadata": {
    "collapsed": false
   },
   "outputs": [
    {
     "name": "stderr",
     "output_type": "stream",
     "text": [
      "/home/applications/anaconda3/4.2.0/lib/python3.5/site-packages/sklearn/model_selection/_split.py:2010: FutureWarning: From version 0.21, test_size will always complement train_size unless both are specified.\n",
      "  FutureWarning)\n"
     ]
    }
   ],
   "source": [
    "# chosenColumns.remove(['back_citation'])\n",
    "len(chosenColumns)\n",
    "\n",
    "# chosenColumns.remove(['parent_back_citation'])\n",
    "# len(chosenColumns)\n",
    "\n",
    "# chosenColumns.remove('citation_bi')\n",
    "# chosenColumns.remove('log_back_cit')\n",
    "\n",
    "myX = df.as_matrix(columns=chosenColumns)\n",
    "myY = df.as_matrix(columns=['back_citation'])\n",
    "\n",
    "xTrain, xTest, yTrain, yTest = train_test_split(myX, myY, train_size=0.7, random_state=3) \n",
    "# testSize = yTest.shape[0]\n",
    "# trainSize = yTrain.shape[0]"
   ]
  },
  {
   "cell_type": "code",
   "execution_count": 24,
   "metadata": {
    "collapsed": false
   },
   "outputs": [],
   "source": [
    "# best_num_attr(myX, xTrain, xTest, yTrain, yTest, chosenColumns, regtype='linear')"
   ]
  },
  {
   "cell_type": "code",
   "execution_count": 25,
   "metadata": {
    "collapsed": false
   },
   "outputs": [
    {
     "data": {
      "text/plain": [
       "kind_I5                 4.623741e-07\n",
       "type_TVPP               4.623741e-07\n",
       "kind_H1                 4.192018e-05\n",
       "type_defensive          7.844336e-05\n",
       "kind_I4                 7.844336e-05\n",
       "kind_H                  3.053820e-04\n",
       "type_statutory          3.472766e-04\n",
       "kind_P3                 7.864957e-04\n",
       "kind_P                  1.274832e-03\n",
       "kind_E                  1.337858e-03\n",
       "kind_E1                 1.403642e-03\n",
       "kind_P2                 1.754089e-03\n",
       "type_reissue            2.737734e-03\n",
       "type_plant              3.806155e-03\n",
       "kind_S                  3.125838e-02\n",
       "kind_S1                 5.150385e-02\n",
       "type_design             7.924321e-02\n",
       "kind_B1                 7.988968e-02\n",
       "type_utility            8.497317e-02\n",
       "kind_A                  2.327264e-01\n",
       "kind_B2                 2.475109e-01\n",
       "year                    1.282031e+02\n",
       "num_claims              1.441015e+02\n",
       "back_citation           6.600819e+02\n",
       "forw_citation           8.758906e+02\n",
       "parent_back_citation    1.138037e+06\n",
       "dtype: float64"
      ]
     },
     "execution_count": 25,
     "metadata": {},
     "output_type": "execute_result"
    }
   ],
   "source": [
    "df.var().sort_values()"
   ]
  },
  {
   "cell_type": "code",
   "execution_count": 26,
   "metadata": {
    "collapsed": false
   },
   "outputs": [
    {
     "data": {
      "text/plain": [
       "(6488250, 26)"
      ]
     },
     "execution_count": 26,
     "metadata": {},
     "output_type": "execute_result"
    }
   ],
   "source": [
    "df.shape"
   ]
  },
  {
   "cell_type": "code",
   "execution_count": 27,
   "metadata": {
    "collapsed": true
   },
   "outputs": [],
   "source": []
  },
  {
   "cell_type": "code",
   "execution_count": 27,
   "metadata": {
    "collapsed": false
   },
   "outputs": [
    {
     "data": {
      "text/plain": [
       "(6488250, 26)"
      ]
     },
     "execution_count": 27,
     "metadata": {},
     "output_type": "execute_result"
    }
   ],
   "source": [
    "df.shape"
   ]
  },
  {
   "cell_type": "code",
   "execution_count": 28,
   "metadata": {
    "collapsed": true
   },
   "outputs": [],
   "source": [
    "# This selector does not work because almost every attribute is p-value significant\n",
    "\n",
    "# selector = SelectKBest(f_classif, k=4) #initialize \n",
    "# selector.fit(myX, myY) #fit\n",
    "# scores = -np.log10(selector.pvalues_) #transform pvalues (why?)\n",
    "# scores /= scores.max() #normalize \n",
    "# plt.bar(myX - .45, scores, width=.2,\n",
    "#         label=r'Univariate score ($-Log(p_{value})$)', color='darkorange',\n",
    "#         edgecolor='black')"
   ]
  },
  {
   "cell_type": "code",
   "execution_count": 29,
   "metadata": {
    "collapsed": false
   },
   "outputs": [],
   "source": [
    "# nbayes(xTrain, yTrain, xTest, yTest)"
   ]
  },
  {
   "cell_type": "code",
   "execution_count": 30,
   "metadata": {
    "collapsed": true
   },
   "outputs": [],
   "source": [
    "# #Let's do something else\n",
    "# #Change the DV \n",
    "\n",
    "# myX = df.as_matrix(columns=chosenColumns)\n",
    "# myY = df.as_matrix(columns=['parent_back_citation'])\n",
    "\n",
    "# xTrain, xTest, yTrain, yTest = train_test_split(myX, myY, train_size=0.7, random_state=3) "
   ]
  },
  {
   "cell_type": "code",
   "execution_count": 31,
   "metadata": {
    "collapsed": true
   },
   "outputs": [],
   "source": [
    "# nbayes(xTrain, yTrain, xTest, yTest)"
   ]
  },
  {
   "cell_type": "code",
   "execution_count": 32,
   "metadata": {
    "collapsed": false
   },
   "outputs": [
    {
     "data": {
      "text/plain": [
       "<matplotlib.axes._subplots.AxesSubplot at 0x7fd6031d5c50>"
      ]
     },
     "execution_count": 32,
     "metadata": {},
     "output_type": "execute_result"
    },
    {
     "data": {
      "image/png": "[encoded data removed]",
      "text/plain": [
       "<matplotlib.figure.Figure at 0x7fd6012d3358>"
      ]
     },
     "metadata": {},
     "output_type": "display_data"
    }
   ],
   "source": [
    "df.parent_back_citation.boxplot()"
   ]
  },
  {
   "cell_type": "code",
   "execution_count": 33,
   "metadata": {
    "collapsed": true
   },
   "outputs": [],
   "source": [
    "#and graphs of back citation in time"
   ]
  },
  {
   "cell_type": "code",
   "execution_count": 34,
   "metadata": {
    "collapsed": true
   },
   "outputs": [],
   "source": []
  }
 ],
 "metadata": {
  "anaconda-cloud": {},
  "kernelspec": {
   "display_name": "Python [default]",
   "language": "python",
   "name": "python3"
  },
  "language_info": {
   "codemirror_mode": {
    "name": "ipython",
    "version": 3
   },
   "file_extension": ".py",
   "mimetype": "text/x-python",
   "name": "python",
   "nbconvert_exporter": "python",
   "pygments_lexer": "ipython3",
   "version": "3.5.2"
  }
 },
 "nbformat": 4,
 "nbformat_minor": 1
}
