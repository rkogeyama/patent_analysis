{
 "cells": [
  {
   "cell_type": "code",
   "execution_count": 1,
   "metadata": {
    "collapsed": true
   },
   "outputs": [],
   "source": [
    "\"\"\"\"\n",
    "Aug 18st, 2020\n",
    "convert to gzip input and output\n",
    "\n",
    "# February 12st, 2020\n",
    "# Renato Kogeyama\n",
    "\n",
    "# Script to calculate self citations (assignee level)\n",
    "# the script find the assignee for patent_id and citation_id\n",
    "# then compare to verify if they are the same\n",
    "# it probably can be rewritten to improve performance\n",
    "\n",
    "# produces a citation level dataset with citation identifier plus a dummy indicating self citation\n",
    "\"\"\""
   ]
  },
  {
   "cell_type": "code",
   "execution_count": 2,
   "metadata": {
    "collapsed": true
   },
   "outputs": [],
   "source": [
    "import pandas as pd\n",
    "import numpy as np\n",
    "# import itertools\n",
    "# import seaborn as sns\n",
    "# import networkx as nx\n",
    "# import csv\n",
    "# from graphviz import Digraph\n",
    "# import igraph\n",
    "# import matplotlib.pyplot as plt\n",
    "# import datetime\n",
    "\n",
    "\n",
    "# import sys\n",
    "# sys.path.append('/home/rkogeyam/scripts/')\n",
    "# sys.path.append('scripts/')\n",
    "\n",
    "# from determinants_scripts import classes, dtypes\n",
    "import gzip"
   ]
  },
  {
   "cell_type": "code",
   "execution_count": 3,
   "metadata": {
    "collapsed": false
   },
   "outputs": [
    {
     "name": "stderr",
     "output_type": "stream",
     "text": [
      "/home/applications/anaconda3/4.2.0/lib/python3.5/site-packages/IPython/core/interactiveshell.py:2717: DtypeWarning: Columns (0) have mixed types. Specify dtype option on import or set low_memory=False.\n",
      "  interactivity=interactivity, compiler=compiler, result=result)\n"
     ]
    }
   ],
   "source": [
    "asg='data/patent_assignee.tsv.gz'\n",
    "cit='data/cleanuspatentcitation.csv.gz'\n",
    "\n",
    "dst='data/self_cit.csv.gz'\n",
    "\n",
    "# names=['index', 'id', 'cit_received']\n",
    "# usecols=['id', 'cit_received']\n",
    "# dtype={'main_group':'int64', 'subgroup':'int64'}\n",
    "# cols=['patent_id','citation_id', 'cit_delay']\n",
    "\n",
    "usecols=['patent_id', 'assignee_id']\n",
    "file_asg=gzip.open(asg, 'r')\n",
    "df_asg=pd.read_csv(file_asg, sep='\\t', usecols=usecols)\n",
    "\n",
    "usecols=['uuid','patent_id', 'citation_id']\n",
    "file_cit=gzip.open(cit, 'r')\n",
    "df_cit=pd.read_csv(file_cit, usecols=usecols)\n",
    "\n",
    "# df=pd.read_csv(src, chunksize=10000)\n",
    "\n",
    "# df=pd.read_csv(src, dtype=dtypes, usecols=usecols, parse_dates=['date'], index_col='id', chunksize=10000)\n",
    "# df = pd.read_csv(src, chunksize=1000, usecols=usecols, dtypes=dtypes, parse_dates=['date'])\n",
    "\n",
    "# df = pd.read_csv(src, chunksize=1000,  parse_dates=['date'], error_bad_lines=False)\n",
    "# df = pd.read_csv(src, usecols=usecols, names=names, chunksize=1000, dtype=dtype, index_col='id')\n",
    "# df=pd.read_csv(src, usecols=[0, 1, 3], dtype={0:object}, index_col=0, chunksize=1000)"
   ]
  },
  {
   "cell_type": "code",
   "execution_count": 4,
   "metadata": {
    "collapsed": true
   },
   "outputs": [],
   "source": [
    "%matplotlib inline"
   ]
  },
  {
   "cell_type": "code",
   "execution_count": 5,
   "metadata": {
    "collapsed": false
   },
   "outputs": [
    {
     "data": {
      "text/plain": [
       "patent_id      object\n",
       "assignee_id    object\n",
       "dtype: object"
      ]
     },
     "execution_count": 5,
     "metadata": {},
     "output_type": "execute_result"
    }
   ],
   "source": [
    "df_asg['patent_id']=df_asg['patent_id'].astype(str)\n",
    "df_asg.dtypes"
   ]
  },
  {
   "cell_type": "code",
   "execution_count": 6,
   "metadata": {
    "collapsed": false
   },
   "outputs": [],
   "source": [
    "df_asg.set_index('patent_id', inplace=True)"
   ]
  },
  {
   "cell_type": "code",
   "execution_count": 7,
   "metadata": {
    "collapsed": false
   },
   "outputs": [
    {
     "data": {
      "text/plain": [
       "uuid           object\n",
       "patent_id      object\n",
       "citation_id    object\n",
       "dtype: object"
      ]
     },
     "execution_count": 7,
     "metadata": {},
     "output_type": "execute_result"
    }
   ],
   "source": [
    "df_cit['patent_id']=df_cit['patent_id'].astype(str)\n",
    "df_cit.dtypes"
   ]
  },
  {
   "cell_type": "code",
   "execution_count": 8,
   "metadata": {
    "collapsed": false
   },
   "outputs": [],
   "source": [
    "df_cit.set_index('patent_id', inplace=True)"
   ]
  },
  {
   "cell_type": "code",
   "execution_count": 9,
   "metadata": {
    "collapsed": false
   },
   "outputs": [
    {
     "data": {
      "text/html": [
       "<div>\n",
       "<table border=\"1\" class=\"dataframe\">\n",
       "  <thead>\n",
       "    <tr style=\"text-align: right;\">\n",
       "      <th></th>\n",
       "      <th>uuid</th>\n",
       "      <th>citation_id</th>\n",
       "      <th>assignee_id</th>\n",
       "    </tr>\n",
       "    <tr>\n",
       "      <th>patent_id</th>\n",
       "      <th></th>\n",
       "      <th></th>\n",
       "      <th></th>\n",
       "    </tr>\n",
       "  </thead>\n",
       "  <tbody>\n",
       "    <tr>\n",
       "      <th>3930271</th>\n",
       "      <td>mok3net9ll9apdxvjvf7r0mjb</td>\n",
       "      <td>2379430</td>\n",
       "      <td>bcf0b846ec7ed3ec910ba7f5e0ced463</td>\n",
       "    </tr>\n",
       "    <tr>\n",
       "      <th>3930271</th>\n",
       "      <td>zvlxv3wtw969uvcd9azanhlwr</td>\n",
       "      <td>2782422</td>\n",
       "      <td>bcf0b846ec7ed3ec910ba7f5e0ced463</td>\n",
       "    </tr>\n",
       "    <tr>\n",
       "      <th>3930272</th>\n",
       "      <td>6ddwoi89ailxhwrmj0ehi1z51</td>\n",
       "      <td>2560109</td>\n",
       "      <td>e4192be1da37ca88485fcd2c03ed6848</td>\n",
       "    </tr>\n",
       "    <tr>\n",
       "      <th>3930272</th>\n",
       "      <td>77qebcired4jpt5gc24ynddl1</td>\n",
       "      <td>2545289</td>\n",
       "      <td>e4192be1da37ca88485fcd2c03ed6848</td>\n",
       "    </tr>\n",
       "    <tr>\n",
       "      <th>3930272</th>\n",
       "      <td>af2k64rnid999g4g0hdutm75o</td>\n",
       "      <td>1549144</td>\n",
       "      <td>e4192be1da37ca88485fcd2c03ed6848</td>\n",
       "    </tr>\n",
       "  </tbody>\n",
       "</table>\n",
       "</div>"
      ],
      "text/plain": [
       "                                uuid citation_id  \\\n",
       "patent_id                                          \n",
       "3930271    mok3net9ll9apdxvjvf7r0mjb     2379430   \n",
       "3930271    zvlxv3wtw969uvcd9azanhlwr     2782422   \n",
       "3930272    6ddwoi89ailxhwrmj0ehi1z51     2560109   \n",
       "3930272    77qebcired4jpt5gc24ynddl1     2545289   \n",
       "3930272    af2k64rnid999g4g0hdutm75o     1549144   \n",
       "\n",
       "                                assignee_id  \n",
       "patent_id                                    \n",
       "3930271    bcf0b846ec7ed3ec910ba7f5e0ced463  \n",
       "3930271    bcf0b846ec7ed3ec910ba7f5e0ced463  \n",
       "3930272    e4192be1da37ca88485fcd2c03ed6848  \n",
       "3930272    e4192be1da37ca88485fcd2c03ed6848  \n",
       "3930272    e4192be1da37ca88485fcd2c03ed6848  "
      ]
     },
     "execution_count": 9,
     "metadata": {},
     "output_type": "execute_result"
    }
   ],
   "source": [
    "df_cit=df_cit.join(df_asg)\n",
    "df_cit.head()"
   ]
  },
  {
   "cell_type": "code",
   "execution_count": 10,
   "metadata": {
    "collapsed": true
   },
   "outputs": [],
   "source": [
    "df_cit.rename(columns={'assignee_id': 'pat_asg'}, inplace=True)"
   ]
  },
  {
   "cell_type": "code",
   "execution_count": 11,
   "metadata": {
    "collapsed": true
   },
   "outputs": [],
   "source": [
    "df_cit.reset_index(inplace=True)"
   ]
  },
  {
   "cell_type": "code",
   "execution_count": 12,
   "metadata": {
    "collapsed": true
   },
   "outputs": [],
   "source": [
    "df_cit=df_cit.set_index('citation_id')"
   ]
  },
  {
   "cell_type": "code",
   "execution_count": 13,
   "metadata": {
    "collapsed": false
   },
   "outputs": [
    {
     "name": "stdout",
     "output_type": "stream",
     "text": [
      "CPU times: user 3min 49s, sys: 4.84 s, total: 3min 54s\n",
      "Wall time: 3min 53s\n"
     ]
    }
   ],
   "source": [
    "%%time\n",
    "df_cit=df_cit.join(df_asg)"
   ]
  },
  {
   "cell_type": "code",
   "execution_count": 14,
   "metadata": {
    "collapsed": false
   },
   "outputs": [
    {
     "data": {
      "text/html": [
       "<div>\n",
       "<table border=\"1\" class=\"dataframe\">\n",
       "  <thead>\n",
       "    <tr style=\"text-align: right;\">\n",
       "      <th></th>\n",
       "      <th>patent_id</th>\n",
       "      <th>uuid</th>\n",
       "      <th>pat_asg</th>\n",
       "      <th>assignee_id</th>\n",
       "    </tr>\n",
       "  </thead>\n",
       "  <tbody>\n",
       "    <tr>\n",
       "      <th>0</th>\n",
       "      <td>5351803</td>\n",
       "      <td>eeggwd3pnsfcara1i60o42hdu</td>\n",
       "      <td>4faa4527c1ea79654e1aa3052885ad68</td>\n",
       "      <td>NaN</td>\n",
       "    </tr>\n",
       "    <tr>\n",
       "      <th>0000000</th>\n",
       "      <td>5489070</td>\n",
       "      <td>xjdvdj2y0lgdas51rewjzn405</td>\n",
       "      <td>baf5f84b9904d5c1912a36c26bb43a88</td>\n",
       "      <td>NaN</td>\n",
       "    </tr>\n",
       "    <tr>\n",
       "      <th>000004</th>\n",
       "      <td>7017481</td>\n",
       "      <td>e89bsa3x0yen50dcp9yogj3wp</td>\n",
       "      <td>94cbbb234cd2e7d83486e4cc2412a7d0</td>\n",
       "      <td>NaN</td>\n",
       "    </tr>\n",
       "    <tr>\n",
       "      <th>000006</th>\n",
       "      <td>6813147</td>\n",
       "      <td>a6crepaxejht8e16czfm0kytd</td>\n",
       "      <td>38a2bad6e891da08a65fa214234450c9</td>\n",
       "      <td>NaN</td>\n",
       "    </tr>\n",
       "    <tr>\n",
       "      <th>0000482</th>\n",
       "      <td>5054020</td>\n",
       "      <td>olkyv8qnteatjed767vodhmlz</td>\n",
       "      <td>6477bd49cdf525dbb8e2760c24189e24</td>\n",
       "      <td>NaN</td>\n",
       "    </tr>\n",
       "  </tbody>\n",
       "</table>\n",
       "</div>"
      ],
      "text/plain": [
       "        patent_id                       uuid  \\\n",
       "0         5351803  eeggwd3pnsfcara1i60o42hdu   \n",
       "0000000   5489070  xjdvdj2y0lgdas51rewjzn405   \n",
       "000004    7017481  e89bsa3x0yen50dcp9yogj3wp   \n",
       "000006    6813147  a6crepaxejht8e16czfm0kytd   \n",
       "0000482   5054020  olkyv8qnteatjed767vodhmlz   \n",
       "\n",
       "                                  pat_asg assignee_id  \n",
       "0        4faa4527c1ea79654e1aa3052885ad68         NaN  \n",
       "0000000  baf5f84b9904d5c1912a36c26bb43a88         NaN  \n",
       "000004   94cbbb234cd2e7d83486e4cc2412a7d0         NaN  \n",
       "000006   38a2bad6e891da08a65fa214234450c9         NaN  \n",
       "0000482  6477bd49cdf525dbb8e2760c24189e24         NaN  "
      ]
     },
     "execution_count": 14,
     "metadata": {},
     "output_type": "execute_result"
    }
   ],
   "source": [
    "df_cit.head()"
   ]
  },
  {
   "cell_type": "code",
   "execution_count": 15,
   "metadata": {
    "collapsed": true
   },
   "outputs": [],
   "source": [
    "df_cit.rename(columns={'assignee_id':'cit_asg'}, inplace=True)\n",
    "\n",
    "df_cit['self_cit']=np.where(df_cit['cit_asg'] == df_cit['pat_asg'], 1, 0)"
   ]
  },
  {
   "cell_type": "code",
   "execution_count": 16,
   "metadata": {
    "collapsed": false
   },
   "outputs": [
    {
     "data": {
      "text/html": [
       "<div>\n",
       "<table border=\"1\" class=\"dataframe\">\n",
       "  <thead>\n",
       "    <tr style=\"text-align: right;\">\n",
       "      <th></th>\n",
       "      <th>patent_id</th>\n",
       "      <th>uuid</th>\n",
       "      <th>pat_asg</th>\n",
       "      <th>cit_asg</th>\n",
       "      <th>self_cit</th>\n",
       "    </tr>\n",
       "  </thead>\n",
       "  <tbody>\n",
       "    <tr>\n",
       "      <th>0</th>\n",
       "      <td>5351803</td>\n",
       "      <td>eeggwd3pnsfcara1i60o42hdu</td>\n",
       "      <td>4faa4527c1ea79654e1aa3052885ad68</td>\n",
       "      <td>NaN</td>\n",
       "      <td>0</td>\n",
       "    </tr>\n",
       "    <tr>\n",
       "      <th>0000000</th>\n",
       "      <td>5489070</td>\n",
       "      <td>xjdvdj2y0lgdas51rewjzn405</td>\n",
       "      <td>baf5f84b9904d5c1912a36c26bb43a88</td>\n",
       "      <td>NaN</td>\n",
       "      <td>0</td>\n",
       "    </tr>\n",
       "    <tr>\n",
       "      <th>000004</th>\n",
       "      <td>7017481</td>\n",
       "      <td>e89bsa3x0yen50dcp9yogj3wp</td>\n",
       "      <td>94cbbb234cd2e7d83486e4cc2412a7d0</td>\n",
       "      <td>NaN</td>\n",
       "      <td>0</td>\n",
       "    </tr>\n",
       "    <tr>\n",
       "      <th>000006</th>\n",
       "      <td>6813147</td>\n",
       "      <td>a6crepaxejht8e16czfm0kytd</td>\n",
       "      <td>38a2bad6e891da08a65fa214234450c9</td>\n",
       "      <td>NaN</td>\n",
       "      <td>0</td>\n",
       "    </tr>\n",
       "    <tr>\n",
       "      <th>0000482</th>\n",
       "      <td>5054020</td>\n",
       "      <td>olkyv8qnteatjed767vodhmlz</td>\n",
       "      <td>6477bd49cdf525dbb8e2760c24189e24</td>\n",
       "      <td>NaN</td>\n",
       "      <td>0</td>\n",
       "    </tr>\n",
       "  </tbody>\n",
       "</table>\n",
       "</div>"
      ],
      "text/plain": [
       "        patent_id                       uuid  \\\n",
       "0         5351803  eeggwd3pnsfcara1i60o42hdu   \n",
       "0000000   5489070  xjdvdj2y0lgdas51rewjzn405   \n",
       "000004    7017481  e89bsa3x0yen50dcp9yogj3wp   \n",
       "000006    6813147  a6crepaxejht8e16czfm0kytd   \n",
       "0000482   5054020  olkyv8qnteatjed767vodhmlz   \n",
       "\n",
       "                                  pat_asg cit_asg  self_cit  \n",
       "0        4faa4527c1ea79654e1aa3052885ad68     NaN         0  \n",
       "0000000  baf5f84b9904d5c1912a36c26bb43a88     NaN         0  \n",
       "000004   94cbbb234cd2e7d83486e4cc2412a7d0     NaN         0  \n",
       "000006   38a2bad6e891da08a65fa214234450c9     NaN         0  \n",
       "0000482  6477bd49cdf525dbb8e2760c24189e24     NaN         0  "
      ]
     },
     "execution_count": 16,
     "metadata": {},
     "output_type": "execute_result"
    }
   ],
   "source": [
    "df_cit.head()"
   ]
  },
  {
   "cell_type": "code",
   "execution_count": 17,
   "metadata": {
    "collapsed": false
   },
   "outputs": [
    {
     "name": "stdout",
     "output_type": "stream",
     "text": [
      "<class 'pandas.core.frame.DataFrame'>\n",
      "Index: 94964697 entries, 0 to nan\n",
      "Data columns (total 5 columns):\n",
      "patent_id    object\n",
      "uuid         object\n",
      "pat_asg      object\n",
      "cit_asg      object\n",
      "self_cit     int64\n",
      "dtypes: int64(1), object(4)\n",
      "memory usage: 4.2+ GB\n"
     ]
    }
   ],
   "source": [
    "df_cit.info()"
   ]
  },
  {
   "cell_type": "code",
   "execution_count": 18,
   "metadata": {
    "collapsed": true
   },
   "outputs": [],
   "source": [
    "# df_cit[['patent_id', 'self_cit']].to_csv(dst, index_label='citation_id')\n",
    "df_cit[['uuid','self_cit']].to_csv(dst, index=False, compression='gzip')"
   ]
  }
 ],
 "metadata": {
  "anaconda-cloud": {},
  "kernelspec": {
   "display_name": "Python [default]",
   "language": "python",
   "name": "python3"
  },
  "language_info": {
   "codemirror_mode": {
    "name": "ipython",
    "version": 3
   },
   "file_extension": ".py",
   "mimetype": "text/x-python",
   "name": "python",
   "nbconvert_exporter": "python",
   "pygments_lexer": "ipython3",
   "version": "3.5.2"
  }
 },
 "nbformat": 4,
 "nbformat_minor": 1
}
