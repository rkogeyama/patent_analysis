{
 "cells": [
  {
   "cell_type": "code",
   "execution_count": 1,
   "metadata": {
    "collapsed": false
   },
   "outputs": [
    {
     "name": "stderr",
     "output_type": "stream",
     "text": [
      "/home/rkogeyam/.conda/envs/m-env/lib/python2.7/site-packages/graph_tool/draw/cairo_draw.py:67: RuntimeWarning: Error importing matplotlib module. Graph drawing will not work.\n",
      "  warnings.warn(msg, RuntimeWarning)\n",
      "/home/rkogeyam/.conda/envs/m-env/lib/python2.7/site-packages/graph_tool/draw/cairo_draw.py:67: RuntimeWarning: Error importing matplotlib module. Graph drawing will not work.\n",
      "  warnings.warn(msg, RuntimeWarning)\n",
      "/home/rkogeyam/.conda/envs/m-env/lib/python2.7/site-packages/graph_tool/all.py:40: RuntimeWarning: Error importing draw module, proceeding nevertheless: No module named matplotlib.cm\n",
      "  warnings.warn(msg, RuntimeWarning)\n"
     ]
    }
   ],
   "source": [
    "import graph_tool.all as gt\n",
    "import numpy as np\n",
    "g = gt.collection.data[\"polblogs\"]\n",
    "g = gt.GraphView(g, vfilt=gt.label_largest_component(g))\n",
    "w = g.new_edge_property(\"double\")"
   ]
  },
  {
   "cell_type": "code",
   "execution_count": 2,
   "metadata": {
    "collapsed": true
   },
   "outputs": [],
   "source": [
    "import os"
   ]
  },
  {
   "cell_type": "code",
   "execution_count": 6,
   "metadata": {
    "collapsed": false
   },
   "outputs": [
    {
     "name": "stdout",
     "output_type": "stream",
     "text": [
      "__file__\n"
     ]
    }
   ],
   "source": [
    "print(\"__file__\")"
   ]
  },
  {
   "cell_type": "code",
   "execution_count": 5,
   "metadata": {
    "collapsed": false
   },
   "outputs": [
    {
     "data": {
      "text/plain": [
       "'/home/rkogeyam/PATENT_CITATION'"
      ]
     },
     "execution_count": 5,
     "metadata": {},
     "output_type": "execute_result"
    }
   ],
   "source": [
    "os.path.dirname(os.path.abspath(\"__file__\"))"
   ]
  },
  {
   "cell_type": "code",
   "execution_count": 3,
   "metadata": {
    "collapsed": false
   },
   "outputs": [
    {
     "data": {
      "text/plain": [
       "PropertyArray([0., 0., 0., ..., 0., 0., 0.])"
      ]
     },
     "execution_count": 3,
     "metadata": {},
     "output_type": "execute_result"
    }
   ],
   "source": [
    "w.a"
   ]
  },
  {
   "cell_type": "code",
   "execution_count": 2,
   "metadata": {
    "collapsed": false
   },
   "outputs": [
    {
     "name": "stderr",
     "output_type": "stream",
     "text": [
      "/home/rkogeyam/.conda/envs/m-env/lib/python2.7/site-packages/graph_tool/draw/cairo_draw.py:67: RuntimeWarning: Error importing matplotlib module. Graph drawing will not work.\n",
      "  warnings.warn(msg, RuntimeWarning)\n",
      "/home/rkogeyam/.conda/envs/m-env/lib/python2.7/site-packages/graph_tool/draw/cairo_draw.py:67: RuntimeWarning: Error importing matplotlib module. Graph drawing will not work.\n",
      "  warnings.warn(msg, RuntimeWarning)\n",
      "/home/rkogeyam/.conda/envs/m-env/lib/python2.7/site-packages/graph_tool/all.py:40: RuntimeWarning: Error importing draw module, proceeding nevertheless: No module named matplotlib.cm\n",
      "  warnings.warn(msg, RuntimeWarning)\n"
     ]
    },
    {
     "name": "stdout",
     "output_type": "stream",
     "text": [
      "[0.00794111 0.00024525 0.         ... 0.         0.00152283 0.        ]\n"
     ]
    }
   ],
   "source": [
    "w.a = np.random.random(len(w.a)) * 42\n",
    "ee, x = gt.eigenvector(g, w)\n",
    "print(x.a)"
   ]
  },
  {
   "cell_type": "code",
   "execution_count": 3,
   "metadata": {
    "collapsed": false
   },
   "outputs": [
    {
     "data": {
      "text/plain": [
       "<EdgePropertyMap object with value type 'double', for Graph 0x7fd894096550, at 0x7fd853290bd0>"
      ]
     },
     "execution_count": 3,
     "metadata": {},
     "output_type": "execute_result"
    }
   ],
   "source": [
    "w"
   ]
  },
  {
   "cell_type": "code",
   "execution_count": 4,
   "metadata": {
    "collapsed": false
   },
   "outputs": [
    {
     "data": {
      "text/plain": [
       "PropertyArray([16.1899437 , 10.00382671, 29.17052344, ..., 10.09325225,\n",
       "                5.48059691, 38.59357365])"
      ]
     },
     "execution_count": 4,
     "metadata": {},
     "output_type": "execute_result"
    }
   ],
   "source": [
    "w.a\n"
   ]
  },
  {
   "cell_type": "code",
   "execution_count": 1,
   "metadata": {
    "collapsed": false
   },
   "outputs": [],
   "source": [
    "a=[('cit_received_delay', 0.01186264801084925), ('num_claims', 0.011712056820717317), ('wipo_sector_id_2', 0.011644875546558612), ('wipo_sector_id_1', 0.011552265695752562), ('cit_made', 0.011507837780579806), ('year', 0.011479830619280939), ('cit_made_delay', 0.011446475788336487), ('wipo_sector_id_4', 0.011443970056290664), ('decade', 0.011443626443882773), ('originality', 0.01144344215261313), ('wipo_sector_id_0', 0.011443376319769119), ('generality', 0.011443373876874316), ('wipo_sector_id_3', 0.011443373253911954)]"
   ]
  },
  {
   "cell_type": "code",
   "execution_count": 14,
   "metadata": {
    "collapsed": false
   },
   "outputs": [],
   "source": [
    "namesList=[i[0] for i in a]\n",
    "errorList=[i[1] for i in a]"
   ]
  },
  {
   "cell_type": "code",
   "execution_count": 3,
   "metadata": {
    "collapsed": true
   },
   "outputs": [],
   "source": [
    "import csv"
   ]
  },
  {
   "cell_type": "code",
   "execution_count": 4,
   "metadata": {
    "collapsed": true
   },
   "outputs": [],
   "source": [
    "csvfile='test.csv'\n",
    "with open(csvfile, \"w\") as output:\n",
    "  writer = csv.writer(output, lineterminator='\\n')\n",
    "  for line in a:\n",
    "    writer.writerow([line[0], line[1]])"
   ]
  },
  {
   "cell_type": "code",
   "execution_count": 20,
   "metadata": {
    "collapsed": false
   },
   "outputs": [
    {
     "ename": "ImportError",
     "evalue": "No module named tabulate",
     "output_type": "error",
     "traceback": [
      "\u001b[0;31m---------------------------------------------------------------------------\u001b[0m",
      "\u001b[0;31mImportError\u001b[0m                               Traceback (most recent call last)",
      "\u001b[0;32m<ipython-input-20-e74d2f9dd7ca>\u001b[0m in \u001b[0;36m<module>\u001b[0;34m()\u001b[0m\n\u001b[0;32m----> 1\u001b[0;31m \u001b[0;32mfrom\u001b[0m \u001b[0mtabulate\u001b[0m \u001b[0;32mimport\u001b[0m \u001b[0mtabulate\u001b[0m\u001b[0;34m\u001b[0m\u001b[0m\n\u001b[0m\u001b[1;32m      2\u001b[0m \u001b[0;32mprint\u001b[0m\u001b[0;34m(\u001b[0m\u001b[0mtabulate\u001b[0m\u001b[0;34m(\u001b[0m\u001b[0ma\u001b[0m\u001b[0;34m)\u001b[0m\u001b[0;34m)\u001b[0m\u001b[0;34m\u001b[0m\u001b[0m\n",
      "\u001b[0;31mImportError\u001b[0m: No module named tabulate"
     ]
    }
   ],
   "source": [
    "from tabulate import tabulate\n",
    "print(tabulate(a))"
   ]
  },
  {
   "cell_type": "code",
   "execution_count": 27,
   "metadata": {
    "collapsed": false
   },
   "outputs": [
    {
     "name": "stdout",
     "output_type": "stream",
     "text": [
      "  cit_received_delay 0.0118626480108\n",
      "          num_claims 0.0117120568207\n",
      "    wipo_sector_id_2 0.0116448755466\n",
      "    wipo_sector_id_1 0.0115522656958\n",
      "            cit_made 0.0115078377806\n",
      "                year 0.0114798306193\n",
      "      cit_made_delay 0.0114464757883\n",
      "    wipo_sector_id_4 0.0114439700563\n",
      "              decade 0.0114436264439\n",
      "         originality 0.0114434421526\n",
      "    wipo_sector_id_0 0.0114433763198\n",
      "          generality 0.0114433738769\n",
      "    wipo_sector_id_3 0.0114433732539\n"
     ]
    }
   ],
   "source": [
    "# row_format =\"{:>15}\" * (len(namesList))\n",
    "# print(row_format.format(\"\", *namesList))\n",
    "for team, row in zip(namesList, errorList):\n",
    "    print(\"{:>20} {:>15}\".format(team, row))"
   ]
  },
  {
   "cell_type": "code",
   "execution_count": null,
   "metadata": {
    "collapsed": true
   },
   "outputs": [],
   "source": []
  }
 ],
 "metadata": {
  "anaconda-cloud": {},
  "kernelspec": {
   "display_name": "m-env",
   "language": "python",
   "name": "m-env"
  },
  "language_info": {
   "codemirror_mode": {
    "name": "ipython",
    "version": 2
   },
   "file_extension": ".py",
   "mimetype": "text/x-python",
   "name": "python",
   "nbconvert_exporter": "python",
   "pygments_lexer": "ipython2",
   "version": "2.7.15"
  }
 },
 "nbformat": 4,
 "nbformat_minor": 1
}
