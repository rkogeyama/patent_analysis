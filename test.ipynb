{
 "cells": [
  {
   "cell_type": "code",
   "execution_count": 27,
   "metadata": {
    "collapsed": false
   },
   "outputs": [
    {
     "ename": "ImportError",
     "evalue": "cannot import name 'dtypes'",
     "output_type": "error",
     "traceback": [
      "\u001b[0;31m---------------------------------------------------------------------------\u001b[0m",
      "\u001b[0;31mImportError\u001b[0m                               Traceback (most recent call last)",
      "\u001b[0;32m<ipython-input-27-7eb9ffa8458b>\u001b[0m in \u001b[0;36m<module>\u001b[0;34m()\u001b[0m\n\u001b[1;32m      4\u001b[0m \u001b[0;32mimport\u001b[0m \u001b[0mseaborn\u001b[0m \u001b[0;32mas\u001b[0m \u001b[0msns\u001b[0m\u001b[0;34m\u001b[0m\u001b[0m\n\u001b[1;32m      5\u001b[0m \u001b[0;34m\u001b[0m\u001b[0m\n\u001b[0;32m----> 6\u001b[0;31m \u001b[0;32mfrom\u001b[0m \u001b[0mdeterminants_scripts\u001b[0m \u001b[0;32mimport\u001b[0m \u001b[0mclasses\u001b[0m\u001b[0;34m,\u001b[0m \u001b[0mdtypes\u001b[0m\u001b[0;34m\u001b[0m\u001b[0m\n\u001b[0m\u001b[1;32m      7\u001b[0m \u001b[0;34m\u001b[0m\u001b[0m\n\u001b[1;32m      8\u001b[0m \u001b[0msrc\u001b[0m\u001b[0;34m=\u001b[0m\u001b[0;34m'data/dataset.csv'\u001b[0m\u001b[0;34m\u001b[0m\u001b[0m\n",
      "\u001b[0;31mImportError\u001b[0m: cannot import name 'dtypes'"
     ]
    }
   ],
   "source": [
    "import pandas as pd\n",
    "import numpy as np\n",
    "import itertools\n",
    "import seaborn as sns\n",
    "\n",
    "from determinants_scripts import classes, dtypes\n",
    "\n",
    "src='data/dataset.csv'\n",
    "# names=['index', 'id', 'cit_received']\n",
    "# usecols=['id', 'cit_received']\n",
    "# dtype={'main_group':'int64', 'subgroup':'int64'}\n",
    "# cols=['patent_id','citation_id', 'cit_delay']\n",
    "\n",
    "df = pd.read_csv(src, chunksize=1000)\n",
    "\n",
    "# df = pd.read_csv(src, chunksize=1000,  parse_dates=['date'], error_bad_lines=False)\n",
    "# df = pd.read_csv(src, usecols=usecols, names=names, chunksize=1000, dtype=dtype, index_col='id')\n",
    "# df=pd.read_csv(src, usecols=[0, 1, 3], dtype={0:object}, index_col=0, chunksize=1000)"
   ]
  },
  {
   "cell_type": "code",
   "execution_count": 5,
   "metadata": {
    "collapsed": true
   },
   "outputs": [],
   "source": [
    "%matplotlib inline"
   ]
  },
  {
   "cell_type": "code",
   "execution_count": 180,
   "metadata": {
    "collapsed": false
   },
   "outputs": [
    {
     "data": {
      "text/plain": [
       "Index(['id', 'type', 'date', 'kind', 'num_claims', 'cit_received', 'cit_made',\n",
       "       'cit_received_delay', 'cit_made_delay', 'parent_citation',\n",
       "       'originality', 'generality', 'wipo_sector_id', 'ipcr_section',\n",
       "       'ipcr_ipc_class', 'ipcr_subclass', 'cpc_section_id',\n",
       "       'cpc_subsection_id', 'cpc_group_id', 'nber_category_id',\n",
       "       'nber_subcategory_id', 'uspc_mainclass_id', 'uspc_subclass_id'],\n",
       "      dtype='object')"
      ]
     },
     "execution_count": 180,
     "metadata": {},
     "output_type": "execute_result"
    }
   ],
   "source": [
    "df.get_chunk().columns"
   ]
  },
  {
   "cell_type": "code",
   "execution_count": 162,
   "metadata": {
    "collapsed": false
   },
   "outputs": [],
   "source": [
    "classes={'nber_category':{\n",
    "1:'Chemical',\n",
    "2:'Cmp&Cmm',\n",
    "3:'Drgs&Med',\n",
    "4:'Elec',\n",
    "5:'Mech',\n",
    "6:'Others'\n",
    "},\n",
    "'ipc_section':{\n",
    "'A':'Human Necessities',\n",
    "'B':'Performing Operations; Transporting',\n",
    "'C':'Chemistry; Metallurgy',\n",
    "'D':'Textiles; Paper',\n",
    "'E':'Fixed Constructions',\n",
    "'F':'Mechanical Engineering; Lighting; Heating; Weapons; Blasting',\n",
    "'G':'Physics',\n",
    "'H':'Electricity'\n",
    "},\n",
    "'cpc_group':{\n",
    "0 :'Chemistry',\n",
    "1 :'Electrical Eng',\n",
    "2 :'Instruments',\n",
    "3 :'Mechanical Eng',\n",
    "4 :'Other fields',\n",
    "5 :'Plant'\n",
    "}}"
   ]
  },
  {
   "cell_type": "code",
   "execution_count": 163,
   "metadata": {
    "collapsed": false
   },
   "outputs": [
    {
     "data": {
      "text/plain": [
       "{0: 'Chemistry',\n",
       " 1: 'Electrical Eng',\n",
       " 2: 'Instruments',\n",
       " 3: 'Mechanical Eng',\n",
       " 4: 'Other fields',\n",
       " 5: 'Plant'}"
      ]
     },
     "execution_count": 163,
     "metadata": {},
     "output_type": "execute_result"
    }
   ],
   "source": [
    "classes['cpc_group']"
   ]
  },
  {
   "cell_type": "code",
   "execution_count": 176,
   "metadata": {
    "collapsed": false
   },
   "outputs": [],
   "source": [
    "def plotbar(attribute, df, classes):\n",
    "    try:\n",
    "        print(classes[attribute])\n",
    "    except:\n",
    "        return"
   ]
  },
  {
   "cell_type": "code",
   "execution_count": 177,
   "metadata": {
    "collapsed": false
   },
   "outputs": [
    {
     "name": "stdout",
     "output_type": "stream",
     "text": [
      "{0: 'Chemistry', 1: 'Electrical Eng', 2: 'Instruments', 3: 'Mechanical Eng', 4: 'Other fields', 5: 'Plant'}\n"
     ]
    }
   ],
   "source": [
    "for element in obj_cols:\n",
    "    class_codes=element.replace('_id', '')\n",
    "#     print(class_codes)\n",
    "    plotbar(class_codes, df, classes)"
   ]
  },
  {
   "cell_type": "code",
   "execution_count": 3,
   "metadata": {
    "collapsed": false
   },
   "outputs": [],
   "source": [
    "df2 = pd.DataFrame(np.random.rand(10, 4), columns=['a', 'b', 'c', 'd'])"
   ]
  },
  {
   "cell_type": "code",
   "execution_count": 9,
   "metadata": {
    "collapsed": false
   },
   "outputs": [
    {
     "data": {
      "text/plain": [
       "a  0    0.402260\n",
       "   1    0.604449\n",
       "   2    0.768028\n",
       "   3    0.748052\n",
       "   4    0.104327\n",
       "   5    0.382501\n",
       "   6    0.564390\n",
       "   7    0.350467\n",
       "   8    0.148883\n",
       "   9    0.487459\n",
       "b  0    0.199641\n",
       "   1    0.132850\n",
       "   2    0.190199\n",
       "   3    0.155175\n",
       "   4    0.242461\n",
       "   5    0.265303\n",
       "   6    0.464284\n",
       "   7    0.967732\n",
       "   8    0.561493\n",
       "   9    0.911417\n",
       "c  0    0.631058\n",
       "   1    0.242525\n",
       "   2    0.524831\n",
       "   3    0.236251\n",
       "   4    0.882963\n",
       "   5    0.300894\n",
       "   6    0.177935\n",
       "   7    0.045714\n",
       "   8    0.791300\n",
       "   9    0.643062\n",
       "d  0    0.912014\n",
       "   1    0.163163\n",
       "   2    0.824419\n",
       "   3    0.135338\n",
       "   4    0.222833\n",
       "   5    0.944111\n",
       "   6    0.203547\n",
       "   7    0.875814\n",
       "   8    0.253536\n",
       "   9    0.233965\n",
       "dtype: float64"
      ]
     },
     "execution_count": 9,
     "metadata": {},
     "output_type": "execute_result"
    }
   ],
   "source": [
    "df2.unstack()"
   ]
  },
  {
   "cell_type": "code",
   "execution_count": 12,
   "metadata": {
    "collapsed": false
   },
   "outputs": [
    {
     "data": {
      "text/plain": [
       "<matplotlib.axes._subplots.AxesSubplot at 0x7fed88cf36d8>"
      ]
     },
     "execution_count": 12,
     "metadata": {},
     "output_type": "execute_result"
    },
    {
     "name": "stderr",
     "output_type": "stream",
     "text": [
      "/home/applications/anaconda3/4.2.0/lib/python3.5/site-packages/matplotlib/font_manager.py:1297: UserWarning: findfont: Font family ['sans-serif'] not found. Falling back to DejaVu Sans\n",
      "  (prop.get_family(), self.defaultFamily[fontext]))\n"
     ]
    },
    {
     "data": {
      "image/png": "[encoded data removed]",
      "text/plain": [
       "<matplotlib.figure.Figure at 0x7fed88d2e6d8>"
      ]
     },
     "metadata": {},
     "output_type": "display_data"
    }
   ],
   "source": [
    "df2.plot.bar()"
   ]
  },
  {
   "cell_type": "code",
   "execution_count": 13,
   "metadata": {
    "collapsed": true
   },
   "outputs": [],
   "source": [
    "filename='./img/'"
   ]
  },
  {
   "cell_type": "code",
   "execution_count": 14,
   "metadata": {
    "collapsed": false
   },
   "outputs": [
    {
     "data": {
      "text/plain": [
       "'b./img/a./img/r'"
      ]
     },
     "execution_count": 14,
     "metadata": {},
     "output_type": "execute_result"
    }
   ],
   "source": [
    "filename.join('bar')"
   ]
  },
  {
   "cell_type": "code",
   "execution_count": 19,
   "metadata": {
    "collapsed": false
   },
   "outputs": [],
   "source": [
    "filename=''.join([filename, 'bar'])"
   ]
  },
  {
   "cell_type": "code",
   "execution_count": 20,
   "metadata": {
    "collapsed": false
   },
   "outputs": [
    {
     "data": {
      "text/plain": [
       "'./img/bar'"
      ]
     },
     "execution_count": 20,
     "metadata": {},
     "output_type": "execute_result"
    }
   ],
   "source": [
    "filename"
   ]
  },
  {
   "cell_type": "code",
   "execution_count": null,
   "metadata": {
    "collapsed": true
   },
   "outputs": [],
   "source": []
  }
 ],
 "metadata": {
  "anaconda-cloud": {},
  "kernelspec": {
   "display_name": "Python [default]",
   "language": "python",
   "name": "python3"
  },
  "language_info": {
   "codemirror_mode": {
    "name": "ipython",
    "version": 3
   },
   "file_extension": ".py",
   "mimetype": "text/x-python",
   "name": "python",
   "nbconvert_exporter": "python",
   "pygments_lexer": "ipython3",
   "version": "3.5.2"
  }
 },
 "nbformat": 4,
 "nbformat_minor": 1
}
