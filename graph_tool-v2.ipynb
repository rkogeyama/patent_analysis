{
 "cells": [
  {
   "cell_type": "code",
   "execution_count": 1,
   "metadata": {
    "collapsed": true
   },
   "outputs": [],
   "source": [
    "# calculate centrality of patent citation\n",
    "# February 25th, 2020\n",
    "# Networkx proved too slow\n",
    "# Graph-tool is much faster\n",
    "# The steps to calculate centrality in graph-tools are\n",
    "# 1-create a graph\n",
    "# 2-read data and convert into a list of edges and a list of vertices\n",
    "\n",
    "\n",
    "# February 6th, 2020\n",
    "# Type: Graph\n",
    "# Number of nodes: 8527465\n",
    "# Number of edges: 91336922\n",
    "# Average degree:  21.4218"
   ]
  },
  {
   "cell_type": "code",
   "execution_count": 2,
   "metadata": {
    "collapsed": false
   },
   "outputs": [
    {
     "name": "stderr",
     "output_type": "stream",
     "text": [
      "/home/rkogeyam/.conda/envs/m-env/lib/python2.7/site-packages/graph_tool/draw/cairo_draw.py:67: RuntimeWarning: Error importing matplotlib module. Graph drawing will not work.\n",
      "  warnings.warn(msg, RuntimeWarning)\n",
      "/home/rkogeyam/.conda/envs/m-env/lib/python2.7/site-packages/graph_tool/draw/cairo_draw.py:67: RuntimeWarning: Error importing matplotlib module. Graph drawing will not work.\n",
      "  warnings.warn(msg, RuntimeWarning)\n",
      "/home/rkogeyam/.conda/envs/m-env/lib/python2.7/site-packages/graph_tool/all.py:40: RuntimeWarning: Error importing draw module, proceeding nevertheless: No module named matplotlib.cm\n",
      "  warnings.warn(msg, RuntimeWarning)\n"
     ]
    }
   ],
   "source": [
    "# import matplotlib\n",
    "import graph_tool.all as gt\n",
    "from random import randint\n",
    "import csv\n",
    "\n",
    "# import pandas as pd"
   ]
  },
  {
   "cell_type": "code",
   "execution_count": 3,
   "metadata": {
    "collapsed": true
   },
   "outputs": [],
   "source": [
    "# src='data/sample.csv'\n",
    "src='data/patcitonly2.csv'\n",
    "dst='data/centrality_eigen.csv'\n",
    "# src='data/sample.csv'"
   ]
  },
  {
   "cell_type": "code",
   "execution_count": 4,
   "metadata": {
    "collapsed": true
   },
   "outputs": [],
   "source": [
    "g=gt.Graph()"
   ]
  },
  {
   "cell_type": "code",
   "execution_count": 5,
   "metadata": {
    "collapsed": true
   },
   "outputs": [],
   "source": [
    "%timeit\n",
    "with open(src, 'r') as csvfile:\n",
    "    \n",
    "    list_of_edges = csv.reader(csvfile, delimiter=',')\n",
    "\n",
    "    vertices = {}\n",
    "\n",
    "    for e in list_of_edges:\n",
    "        if e[0] not in vertices:\n",
    "            vertices[e[0]] = True\n",
    "        if e[1] not in vertices:\n",
    "            vertices[e[1]] = True\n",
    "\n",
    "    for d in vertices:\n",
    "        vertices[d] = g.add_vertex()\n",
    "#         g.add_vertex(vertices[d])\n",
    "\n",
    "#    for edge in list_of_edges:\n",
    "#        print(vertices[edge[0]], vertices[edge[1]])\n",
    "#         g.add_edge(vertices[edge[0]], vertices[edge[1]])"
   ]
  },
  {
   "cell_type": "code",
   "execution_count": 6,
   "metadata": {
    "collapsed": true
   },
   "outputs": [],
   "source": [
    "%timeit\n",
    "with open(src, 'r') as csvfile:\n",
    "    \n",
    "    list_of_edges = csv.reader(csvfile, delimiter=',')\n",
    "\n",
    "    for edge in list_of_edges:\n",
    "#         print(vertices[edge[0]], vertices[edge[1]])\n",
    "        g.add_edge(vertices[edge[0]], vertices[edge[1]])"
   ]
  },
  {
   "cell_type": "code",
   "execution_count": 7,
   "metadata": {
    "collapsed": false
   },
   "outputs": [
    {
     "data": {
      "text/plain": [
       "8527463"
      ]
     },
     "execution_count": 7,
     "metadata": {},
     "output_type": "execute_result"
    }
   ],
   "source": [
    "g.num_vertices()"
   ]
  },
  {
   "cell_type": "code",
   "execution_count": 8,
   "metadata": {
    "collapsed": false,
    "scrolled": true
   },
   "outputs": [
    {
     "data": {
      "text/plain": [
       "91453274"
      ]
     },
     "execution_count": 8,
     "metadata": {},
     "output_type": "execute_result"
    }
   ],
   "source": [
    "g.num_edges()"
   ]
  },
  {
   "cell_type": "code",
   "execution_count": 9,
   "metadata": {
    "collapsed": true
   },
   "outputs": [],
   "source": [
    "# Initialize attribute\n",
    "eigen=g.new_vertex_property('float')"
   ]
  },
  {
   "cell_type": "code",
   "execution_count": 10,
   "metadata": {
    "collapsed": true
   },
   "outputs": [],
   "source": [
    "# Internalize attribute into the graph\n",
    "g.vertex_properties[\"eigen\"]=eigen"
   ]
  },
  {
   "cell_type": "code",
   "execution_count": 11,
   "metadata": {
    "collapsed": true
   },
   "outputs": [],
   "source": [
    "%timeit\n",
    "# Calculate centrality \n",
    "max_value, eigen_array = gt.graph_tool.centrality.eigenvector(g)\n",
    "# max_eigenvalue, eigen_matrix = gt.graph_tool.centrality.eigenvector(g, vprop=g.vp.eigen)"
   ]
  },
  {
   "cell_type": "code",
   "execution_count": 12,
   "metadata": {
    "collapsed": false
   },
   "outputs": [
    {
     "name": "stdout",
     "output_type": "stream",
     "text": [
      "[3.16023691e-08 2.29106763e-14 7.74200297e-14 ... 5.17212554e-13\n",
      " 1.09826682e-08 1.63733176e-07]\n"
     ]
    }
   ],
   "source": [
    "print(eigen_array.a)"
   ]
  },
  {
   "cell_type": "code",
   "execution_count": 13,
   "metadata": {
    "collapsed": true
   },
   "outputs": [],
   "source": [
    "# %timeit\n",
    "# pagerank=g.new_vertex_property('float')\n",
    "# g.vertex_properties[\"pagerank\"]=pagerank\n",
    "# pagerank=gt.graph_tool.centrality.pagerank(g, prop=g.vp.pagerank)"
   ]
  },
  {
   "cell_type": "code",
   "execution_count": 14,
   "metadata": {
    "collapsed": true
   },
   "outputs": [],
   "source": [
    "# %timeit\n",
    "# katz=g.new_vertex_property('float')\n",
    "# g.vertex_properties[\"katz\"]=katz\n",
    "# katz=gt.graph_tool.centrality.katz(g, vprop=g.vp.katz)"
   ]
  },
  {
   "cell_type": "code",
   "execution_count": 15,
   "metadata": {
    "collapsed": true
   },
   "outputs": [],
   "source": [
    "# # %time\n",
    "# betweenness=g.new_vertex_property('float')\n",
    "# g.vertex_properties[\"betweenness\"]=betweenness\n",
    "# betweenness=gt.graph_tool.centrality.betweenness(g, vprop=g.vp.betweenness)"
   ]
  },
  {
   "cell_type": "code",
   "execution_count": 16,
   "metadata": {
    "collapsed": true
   },
   "outputs": [],
   "source": [
    "# g.vertex_properties[\"eigen\"]=eigenvector_property_map"
   ]
  },
  {
   "cell_type": "code",
   "execution_count": 17,
   "metadata": {
    "collapsed": true
   },
   "outputs": [],
   "source": [
    "# g.get_vertices(vprops='eigen')"
   ]
  },
  {
   "cell_type": "code",
   "execution_count": 19,
   "metadata": {
    "collapsed": true
   },
   "outputs": [],
   "source": [
    "%timeit\n",
    "with open(dst, 'wb') as myfile:\n",
    "   wr = csv.writer(myfile, quoting=csv.QUOTE_ALL, lineterminator='\\n')\n",
    "   data=zip(vertices.keys(), eigen_array.a)\n",
    "   wr.writerow(['id', 'eigen'])\n",
    "#     data=zip(vertices.keys(), g.vp.eigen, g.vp.pagerank, g.vp.katz)\n",
    "#     wr.writerow(['id', 'eigen', 'pagerank', 'katz'])\n",
    "   for vertice in data:\n",
    "       wr.writerow(vertice)"
   ]
  },
  {
   "cell_type": "code",
   "execution_count": null,
   "metadata": {
    "collapsed": true
   },
   "outputs": [],
   "source": [
    "g.list_properties()"
   ]
  },
  {
   "cell_type": "code",
   "execution_count": 20,
   "metadata": {
    "collapsed": false
   },
   "outputs": [
    {
     "ename": "NameError",
     "evalue": "name 'vertex' is not defined",
     "output_type": "error",
     "traceback": [
      "\u001b[0;31m---------------------------------------------------------------------------\u001b[0m",
      "\u001b[0;31mNameError\u001b[0m                                 Traceback (most recent call last)",
      "\u001b[0;32m<ipython-input-20-a7b9c15e2321>\u001b[0m in \u001b[0;36m<module>\u001b[0;34m()\u001b[0m\n\u001b[0;32m----> 1\u001b[0;31m \u001b[0meigen_array\u001b[0m\u001b[0;34m[\u001b[0m\u001b[0mvertex\u001b[0m\u001b[0;34m]\u001b[0m\u001b[0;34m\u001b[0m\u001b[0m\n\u001b[0m",
      "\u001b[0;31mNameError\u001b[0m: name 'vertex' is not defined"
     ]
    }
   ],
   "source": [
    "eigen_array[vertex]"
   ]
  },
  {
   "cell_type": "code",
   "execution_count": null,
   "metadata": {
    "collapsed": true
   },
   "outputs": [],
   "source": [
    "# for i in range(0,len(vertices), 10000):\n",
    "#     print(eigenvector_property_map[i])"
   ]
  },
  {
   "cell_type": "code",
   "execution_count": null,
   "metadata": {
    "collapsed": true
   },
   "outputs": [],
   "source": [
    "# for i in range(0,len(vertices), 10):\n",
    "#     print(g.get_vertices())"
   ]
  },
  {
   "cell_type": "code",
   "execution_count": null,
   "metadata": {
    "collapsed": true
   },
   "outputs": [],
   "source": [
    "# g.vertex_properties['eigen']"
   ]
  },
  {
   "cell_type": "code",
   "execution_count": null,
   "metadata": {
    "collapsed": true
   },
   "outputs": [],
   "source": [
    "# with open(\"data/centrality.csv\", \"a\") as myfile:\n",
    "\n",
    "#     for i in range(1,len(vertices)):\n",
    "        \n",
    "#         output=[]\n",
    "#         output.append([i, eigenvector_property_map[i]]) \n",
    "#         myfile.write(str(output[0]))\n"
   ]
  },
  {
   "cell_type": "code",
   "execution_count": null,
   "metadata": {
    "collapsed": true
   },
   "outputs": [],
   "source": [
    "# output[0]"
   ]
  }
 ],
 "metadata": {
  "anaconda-cloud": {},
  "kernelspec": {
   "display_name": "m-env",
   "language": "python",
   "name": "m-env"
  },
  "language_info": {
   "codemirror_mode": {
    "name": "ipython",
    "version": 2
   },
   "file_extension": ".py",
   "mimetype": "text/x-python",
   "name": "python",
   "nbconvert_exporter": "python",
   "pygments_lexer": "ipython2",
   "version": "2.7.15"
  }
 },
 "nbformat": 4,
 "nbformat_minor": 1
}
