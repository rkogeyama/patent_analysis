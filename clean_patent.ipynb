{
 "cells": [
  {
   "cell_type": "code",
   "execution_count": 1,
   "metadata": {
    "collapsed": true
   },
   "outputs": [],
   "source": [
    "# Script to clean uspatentcitation.tsv\n",
    "\n",
    "# Jan 20th, 2020\n",
    "# There are citation_ids larger than 7 characters and smaller than 4\n",
    "# Larger are usually applications, smallers tend to be errors\n",
    "# I am keeping than so calculations on forward citations are accurate\n",
    "# When matching by citation_id, it must be previously filtered\n",
    "\n",
    "# as of Jan 9th, 2020, there are entries to be evaluated\n",
    "# for now, error_bad_lines=False skips those entries\n"
   ]
  },
  {
   "cell_type": "code",
   "execution_count": 2,
   "metadata": {
    "collapsed": true
   },
   "outputs": [],
   "source": [
    "import sys\n",
    "sys.path.append('/home/rkogeyam/scripts/')\n",
    "from sampler import sampler\n",
    "\n",
    "import pandas as pd\n",
    "import numpy as np\n",
    "import re"
   ]
  },
  {
   "cell_type": "code",
   "execution_count": 3,
   "metadata": {
    "collapsed": true
   },
   "outputs": [],
   "source": [
    "# patent.csv\n",
    "# id:       patent this record corresponds to \n",
    "# type:     category of patent. Usually \"Design\", \"reissue\", etc.\n",
    "# number:   patent number\n",
    "# country:  country in which patent was granted (always US)\n",
    "# date:     date when patent was granted\n",
    "# abstract: abstract text of patent\n",
    "# title:    title of patent\n",
    "# kind:     WIPO document kind codes (http://www.uspto.gov/learning-and-resources/support-centers/electronic-business-center/kind-codes-included-uspto-patent)\n",
    "# num_claims:number of claims\n",
    "# filename: name of the raw data file where patent information is parsed from"
   ]
  },
  {
   "cell_type": "code",
   "execution_count": 4,
   "metadata": {
    "collapsed": true
   },
   "outputs": [],
   "source": [
    "src= r'/home/rkogeyam/PATENT_CITATION/data/patent.csv'\n",
    "dst= '/home/rkogeyam/PATENT_CITATION/data/cleanpatent.csv'\n",
    "\n",
    "wipo_first_class= '/home/rkogeyam/PATENT_CITATION/data/wipo_first_class.csv'"
   ]
  },
  {
   "cell_type": "code",
   "execution_count": 5,
   "metadata": {
    "collapsed": true
   },
   "outputs": [],
   "source": [
    "cols=['id', 'num_claims', 'date', 'type', 'kind']"
   ]
  },
  {
   "cell_type": "code",
   "execution_count": 6,
   "metadata": {
    "collapsed": true
   },
   "outputs": [],
   "source": [
    "df = pd.read_csv(src, sep='\\t', usecols=cols, error_bad_lines=False, dtype=object)"
   ]
  },
  {
   "cell_type": "code",
   "execution_count": 7,
   "metadata": {
    "collapsed": true
   },
   "outputs": [
    {
     "name": "stdout",
     "output_type": "stream",
     "text": [
      "<class 'pandas.core.frame.DataFrame'>\n",
      "RangeIndex: 6488267 entries, 0 to 6488266\n",
      "Data columns (total 5 columns):\n",
      "id            object\n",
      "type          object\n",
      "date          object\n",
      "kind          object\n",
      "num_claims    object\n",
      "dtypes: object(5)\n",
      "memory usage: 247.5+ MB\n"
     ]
    }
   ],
   "source": [
    "df.info()"
   ]
  },
  {
   "cell_type": "code",
   "execution_count": 8,
   "metadata": {
    "collapsed": false,
    "scrolled": true
   },
   "outputs": [
    {
     "data": {
      "text/plain": [
       "id            object\n",
       "type          object\n",
       "date          object\n",
       "kind          object\n",
       "num_claims    object\n",
       "dtype: object"
      ]
     },
     "execution_count": 8,
     "metadata": {},
     "output_type": "execute_result"
    }
   ],
   "source": [
    "df.dtypes"
   ]
  },
  {
   "cell_type": "code",
   "execution_count": 9,
   "metadata": {
    "collapsed": false
   },
   "outputs": [
    {
     "name": "stdout",
     "output_type": "stream",
     "text": [
      "CPU times: user 17.3 s, sys: 1 ms, total: 17.3 s\n",
      "Wall time: 17.3 s\n"
     ]
    }
   ],
   "source": [
    "%%time\n",
    "# Keep this for reference!\n",
    "# As of Dec 31st, 2019, I compared the clean to the raw version of citation and patent ids\n",
    "\n",
    "# stripping non-desired characters but keeping the originals for later check - only three changes in citation_id\n",
    "\n",
    "cleaning_patent=lambda x:re.sub('([^a-zA-Z0-9]+)', \"\", x)\n",
    "df['id']=df['id'].apply(cleaning_patent)"
   ]
  },
  {
   "cell_type": "code",
   "execution_count": 10,
   "metadata": {
    "collapsed": true
   },
   "outputs": [],
   "source": [
    "df.date.replace({'-00':'-01'}, regex=True, inplace=True)"
   ]
  },
  {
   "cell_type": "code",
   "execution_count": 11,
   "metadata": {
    "collapsed": true
   },
   "outputs": [],
   "source": []
  },
  {
   "cell_type": "code",
   "execution_count": 11,
   "metadata": {
    "collapsed": true
   },
   "outputs": [
    {
     "data": {
      "text/plain": [
       "7      6480301\n",
       "6         5995\n",
       "8         1966\n",
       "433          1\n",
       "136          1\n",
       "56           1\n",
       "52           1\n",
       "47           1\n",
       "Name: id, dtype: int64"
      ]
     },
     "execution_count": 11,
     "metadata": {},
     "output_type": "execute_result"
    }
   ],
   "source": [
    "df.id.str.len().value_counts()"
   ]
  },
  {
   "cell_type": "code",
   "execution_count": 12,
   "metadata": {
    "collapsed": true
   },
   "outputs": [
    {
     "data": {
      "text/html": [
       "<div>\n",
       "<table border=\"1\" class=\"dataframe\">\n",
       "  <thead>\n",
       "    <tr style=\"text-align: right;\">\n",
       "      <th></th>\n",
       "      <th>id</th>\n",
       "      <th>type</th>\n",
       "      <th>date</th>\n",
       "      <th>kind</th>\n",
       "      <th>num_claims</th>\n",
       "    </tr>\n",
       "  </thead>\n",
       "  <tbody>\n",
       "  </tbody>\n",
       "</table>\n",
       "</div>"
      ],
      "text/plain": [
       "Empty DataFrame\n",
       "Columns: [id, type, date, kind, num_claims]\n",
       "Index: []"
      ]
     },
     "execution_count": 12,
     "metadata": {},
     "output_type": "execute_result"
    }
   ],
   "source": [
    "df[\n",
    "df['id'].apply(lambda x: len(x)<4)\n",
    "  ]"
   ]
  },
  {
   "cell_type": "code",
   "execution_count": 13,
   "metadata": {
    "collapsed": true
   },
   "outputs": [
    {
     "data": {
      "text/html": [
       "<div>\n",
       "<table border=\"1\" class=\"dataframe\">\n",
       "  <thead>\n",
       "    <tr style=\"text-align: right;\">\n",
       "      <th></th>\n",
       "      <th>id</th>\n",
       "      <th>type</th>\n",
       "      <th>date</th>\n",
       "      <th>kind</th>\n",
       "      <th>num_claims</th>\n",
       "    </tr>\n",
       "  </thead>\n",
       "  <tbody>\n",
       "    <tr>\n",
       "      <th>2640192</th>\n",
       "      <td>eceptionunitsSequentiallyduringdatatransmission</td>\n",
       "      <td>NaN</td>\n",
       "      <td>NaN</td>\n",
       "      <td>NaN</td>\n",
       "      <td>NaN</td>\n",
       "    </tr>\n",
       "    <tr>\n",
       "      <th>2640193</th>\n",
       "      <td>eceptionwhetherornotatransmissionsignalhasbeen...</td>\n",
       "      <td>NaN</td>\n",
       "      <td>NaN</td>\n",
       "      <td>NaN</td>\n",
       "      <td>NaN</td>\n",
       "    </tr>\n",
       "    <tr>\n",
       "      <th>2640194</th>\n",
       "      <td>eceptionunitreceivingsaidsignalisusedfordatatr...</td>\n",
       "      <td>NaN</td>\n",
       "      <td>NaN</td>\n",
       "      <td>NaN</td>\n",
       "      <td>NaN</td>\n",
       "    </tr>\n",
       "    <tr>\n",
       "      <th>2640195</th>\n",
       "      <td>eceptionviaopticalcommunicationswithanexternal...</td>\n",
       "      <td>Device provided with an optical communications...</td>\n",
       "      <td>pg030624.zip</td>\n",
       "      <td>NaN</td>\n",
       "      <td>NaN</td>\n",
       "    </tr>\n",
       "    <tr>\n",
       "      <th>3724933</th>\n",
       "      <td>nendofmessageindicatorandusesthevarioustestres...</td>\n",
       "      <td>Unsolicited message intercepting communication...</td>\n",
       "      <td>ipg100302.xml</td>\n",
       "      <td>NaN</td>\n",
       "      <td>NaN</td>\n",
       "    </tr>\n",
       "  </tbody>\n",
       "</table>\n",
       "</div>"
      ],
      "text/plain": [
       "                                                        id  \\\n",
       "2640192    eceptionunitsSequentiallyduringdatatransmission   \n",
       "2640193  eceptionwhetherornotatransmissionsignalhasbeen...   \n",
       "2640194  eceptionunitreceivingsaidsignalisusedfordatatr...   \n",
       "2640195  eceptionviaopticalcommunicationswithanexternal...   \n",
       "3724933  nendofmessageindicatorandusesthevarioustestres...   \n",
       "\n",
       "                                                      type           date  \\\n",
       "2640192                                                NaN            NaN   \n",
       "2640193                                                NaN            NaN   \n",
       "2640194                                                NaN            NaN   \n",
       "2640195  Device provided with an optical communications...   pg030624.zip   \n",
       "3724933  Unsolicited message intercepting communication...  ipg100302.xml   \n",
       "\n",
       "        kind num_claims  \n",
       "2640192  NaN        NaN  \n",
       "2640193  NaN        NaN  \n",
       "2640194  NaN        NaN  \n",
       "2640195  NaN        NaN  \n",
       "3724933  NaN        NaN  "
      ]
     },
     "execution_count": 13,
     "metadata": {},
     "output_type": "execute_result"
    }
   ],
   "source": [
    "df[\n",
    "df['id'].apply(lambda x: len(x)>13)\n",
    "  ]"
   ]
  },
  {
   "cell_type": "code",
   "execution_count": 14,
   "metadata": {
    "collapsed": false
   },
   "outputs": [],
   "source": [
    "df.to_csv(dst)"
   ]
  },
  {
   "cell_type": "code",
   "execution_count": 15,
   "metadata": {
    "collapsed": true
   },
   "outputs": [],
   "source": [
    "# df =df.merge(pd.read_csv(wipo_first_class, sep='\\t', usecols=cols, error_bad_lines=False, index_col=0, dtype=object))"
   ]
  }
 ],
 "metadata": {
  "anaconda-cloud": {},
  "kernelspec": {
   "display_name": "Python [default]",
   "language": "python",
   "name": "python3"
  },
  "language_info": {
   "codemirror_mode": {
    "name": "ipython",
    "version": 3
   },
   "file_extension": ".py",
   "mimetype": "text/x-python",
   "name": "python",
   "nbconvert_exporter": "python",
   "pygments_lexer": "ipython3",
   "version": "3.5.2"
  }
 },
 "nbformat": 4,
 "nbformat_minor": 1
}
