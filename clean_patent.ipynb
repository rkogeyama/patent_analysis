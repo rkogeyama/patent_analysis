{
 "cells": [
  {
   "cell_type": "code",
   "execution_count": 1,
   "metadata": {},
   "outputs": [],
   "source": [
    "#!/usr/bin/env python\n",
    "# coding: utf-8\n",
    "\n",
    "# In[1]:\n",
    "\n",
    "\n",
    "# Script to clean patent.tsv\n",
    "\n",
    "#Aug 18st, 2020\n",
    "#convert to gzip input and output\n",
    "\n",
    "# Jan 20th, 2020\n",
    "# There are citation_ids larger than 7 characters and smaller than 4\n",
    "# Larger are usually applications, smallers tend to be errors\n",
    "# I am keeping than so calculations on forward citations are accurate\n",
    "# When matching by citation_id, it must be previously filtered\n",
    "\n",
    "# as of Jan 9th, 2020, there are entries to be evaluated\n",
    "# for now, error_bad_lines=False skips those entries\n",
    "\n",
    "\n",
    "import pandas as pd\n",
    "import numpy as np\n",
    "import re\n",
    "import gzip\n",
    "import datetime\n",
    "\n",
    "import dask.dataframe as dd\n",
    "from dask.delayed import delayed\n",
    "from fastparquet import ParquetFile\n",
    "\n",
    "# patent.csv\n",
    "# id:       patent this record corresponds to \n",
    "# type:     category of patent. Usually \"Design\", \"reissue\", etc.\n",
    "# number:   patent number\n",
    "# country:  country in which patent was granted (always US)\n",
    "# date:     date when patent was granted\n",
    "# abstract: abstract text of patent\n",
    "# title:    title of patent\n",
    "# kind:     WIPO document kind codes (http://www.uspto.gov/learning-and-resources/support-centers/electronic-business-center/kind-codes-included-uspto-patent)\n",
    "# num_claims:number of claims\n",
    "# filename: name of the raw data file where patent information is parsed from\n",
    "\n",
    "def clean_patent(df):\n",
    "    \n",
    "    df.date.replace({'-00':'-01'}, regex=True, inplace=True)\n",
    "    df['num_claims']=pd.to_numeric(df['num_claims'], errors='coerce')\n",
    "    df.dropna(inplace=True)\n",
    "    cleaning_patent=lambda x:re.sub('([^a-zA-Z0-9]+)', \"\", x)\n",
    "    df['id']=df['id'].apply(cleaning_patent)\n",
    "\n",
    "    return df\n",
    "    \n",
    "def date_within_boundaries(df):\n",
    "    # Avoid TimeStamp limitations:\n",
    "    # https://stackoverflow.com/questions/50265288/how-to-work-around-python-pandas-dataframes-out-of-bounds-nanosecond-timestamp\n",
    "    df['date']=df['date'].str[:4].astype(int)\n",
    "    #pd.Timestamp.min: Timestamp('1677-09-21 00:12:43.145225')\n",
    "    df['date']=df['date'].apply(lambda x: x if x > 1677 else np.nan)\n",
    "    #pd.Timestamp.max: Timestamp('2262-04-11 23:47:16.854775807')\n",
    "    df['date']=df['date'].apply(lambda x: x if x < 2021 else np.nan)\n",
    "    return df"
   ]
  },
  {
   "cell_type": "code",
   "execution_count": 2,
   "metadata": {},
   "outputs": [],
   "source": [
    "src= 'parquet/patent_000.parquet.gz'\n",
    "dst= 'data/cleanpatent.parquet.gz'\n",
    "df = dd.read_parquet(src)\n",
    "report_dst='clean_patent.tex'\n",
    "\n",
    "report=[] #file to export report\n",
    "\n",
    "#df.info()  \n",
    "#df.dtypes\n",
    "# Keep this for reference!\\n\n",
    "# As of Dec 31st, 2019, I compared the clean to the raw version of citation and patent ids\n",
    "# stripping non-desired characters but keeping the originals for later check - only three changes in citation_id\n",
    "# df[\\id\\]=df[\\id\\].astype(object)\n",
    "\n",
    "df=delayed(clean_patent)(df)\n",
    "df=delayed(date_within_boundaries)(df)\n",
    "df=df.compute(num_workers=8)"
   ]
  },
  {
   "cell_type": "code",
   "execution_count": 3,
   "metadata": {},
   "outputs": [
    {
     "name": "stdout",
     "output_type": "stream",
     "text": [
      "<class 'pandas.core.frame.DataFrame'>\n",
      "Int64Index: 7430873 entries, 0 to 7430872\n",
      "Data columns (total 3 columns):\n",
      " #   Column      Dtype \n",
      "---  ------      ----- \n",
      " 0   id          object\n",
      " 1   date        int64 \n",
      " 2   num_claims  int64 \n",
      "dtypes: int64(2), object(1)\n",
      "memory usage: 226.8+ MB\n"
     ]
    }
   ],
   "source": [
    "df.info()"
   ]
  },
  {
   "cell_type": "code",
   "execution_count": 4,
   "metadata": {},
   "outputs": [],
   "source": [
    "df.dropna(inplace=True)"
   ]
  },
  {
   "cell_type": "code",
   "execution_count": 5,
   "metadata": {},
   "outputs": [
    {
     "name": "stdout",
     "output_type": "stream",
     "text": [
      "<class 'pandas.core.frame.DataFrame'>\n",
      "Int64Index: 7430873 entries, 0 to 7430872\n",
      "Data columns (total 3 columns):\n",
      " #   Column      Dtype \n",
      "---  ------      ----- \n",
      " 0   id          object\n",
      " 1   date        int64 \n",
      " 2   num_claims  int64 \n",
      "dtypes: int64(2), object(1)\n",
      "memory usage: 226.8+ MB\n"
     ]
    }
   ],
   "source": [
    "df.info()"
   ]
  },
  {
   "cell_type": "code",
   "execution_count": 6,
   "metadata": {},
   "outputs": [
    {
     "name": "stdout",
     "output_type": "stream",
     "text": [
      "<class 'pandas.core.frame.DataFrame'>\n",
      "Int64Index: 7430873 entries, 0 to 7430872\n",
      "Data columns (total 3 columns):\n",
      " #   Column      Dtype \n",
      "---  ------      ----- \n",
      " 0   id          object\n",
      " 1   date        int64 \n",
      " 2   num_claims  int64 \n",
      "dtypes: int64(2), object(1)\n",
      "memory usage: 226.8+ MB\n",
      "<class 'pandas.core.frame.DataFrame'>\n",
      "Int64Index: 7430873 entries, 0 to 7430872\n",
      "Data columns (total 3 columns):\n",
      " #   Column      Dtype \n",
      "---  ------      ----- \n",
      " 0   id          object\n",
      " 1   date        int64 \n",
      " 2   num_claims  int64 \n",
      "dtypes: int64(2), object(1)\n",
      "memory usage: 226.8+ MB\n"
     ]
    }
   ],
   "source": [
    "report.append(\"Dataframe Description \\n\")\n",
    "report.append(df.describe())\n",
    "\n",
    "report.append(\"Dataframe info with NAN \\n\")\n",
    "report.append(df.info())\n",
    "df.dropna(inplace=True)\n",
    "report.append(\"Dataframe info without NAN \\n\")\n",
    "report.append(df.info())\n",
    "report.append(\"HEAD \\n\")\n",
    "report.append(df.head())\n",
    "report.append(\"TAIL \\n\")\n",
    "report.append(df.tail())\n",
    "\n",
    "df.set_index('id').to_parquet(dst, compression='gzip')\n",
    "\n",
    "with open(report_dst, 'a') as f:\n",
    "    f.write(str(datetime.datetime.now()) + \"\\n\")\n",
    "    f.writelines([str(x) + \"\\n\" for x in report])"
   ]
  },
  {
   "cell_type": "code",
   "execution_count": 7,
   "metadata": {},
   "outputs": [
    {
     "data": {
      "text/html": [
       "<div>\n",
       "<style scoped>\n",
       "    .dataframe tbody tr th:only-of-type {\n",
       "        vertical-align: middle;\n",
       "    }\n",
       "\n",
       "    .dataframe tbody tr th {\n",
       "        vertical-align: top;\n",
       "    }\n",
       "\n",
       "    .dataframe thead th {\n",
       "        text-align: right;\n",
       "    }\n",
       "</style>\n",
       "<table border=\"1\" class=\"dataframe\">\n",
       "  <thead>\n",
       "    <tr style=\"text-align: right;\">\n",
       "      <th></th>\n",
       "      <th>id</th>\n",
       "      <th>date</th>\n",
       "      <th>num_claims</th>\n",
       "    </tr>\n",
       "  </thead>\n",
       "  <tbody>\n",
       "    <tr>\n",
       "      <th>0</th>\n",
       "      <td>10000000</td>\n",
       "      <td>2018</td>\n",
       "      <td>20</td>\n",
       "    </tr>\n",
       "    <tr>\n",
       "      <th>1</th>\n",
       "      <td>10000001</td>\n",
       "      <td>2018</td>\n",
       "      <td>12</td>\n",
       "    </tr>\n",
       "    <tr>\n",
       "      <th>2</th>\n",
       "      <td>10000002</td>\n",
       "      <td>2018</td>\n",
       "      <td>9</td>\n",
       "    </tr>\n",
       "    <tr>\n",
       "      <th>3</th>\n",
       "      <td>10000003</td>\n",
       "      <td>2018</td>\n",
       "      <td>18</td>\n",
       "    </tr>\n",
       "    <tr>\n",
       "      <th>4</th>\n",
       "      <td>10000004</td>\n",
       "      <td>2018</td>\n",
       "      <td>6</td>\n",
       "    </tr>\n",
       "  </tbody>\n",
       "</table>\n",
       "</div>"
      ],
      "text/plain": [
       "         id  date  num_claims\n",
       "0  10000000  2018          20\n",
       "1  10000001  2018          12\n",
       "2  10000002  2018           9\n",
       "3  10000003  2018          18\n",
       "4  10000004  2018           6"
      ]
     },
     "execution_count": 7,
     "metadata": {},
     "output_type": "execute_result"
    }
   ],
   "source": [
    "df.head()"
   ]
  },
  {
   "cell_type": "code",
   "execution_count": null,
   "metadata": {},
   "outputs": [],
   "source": []
  }
 ],
 "metadata": {
  "kernelspec": {
   "display_name": "Python 3",
   "language": "python",
   "name": "python3"
  },
  "language_info": {
   "codemirror_mode": {
    "name": "ipython",
    "version": 3
   },
   "file_extension": ".py",
   "mimetype": "text/x-python",
   "name": "python",
   "nbconvert_exporter": "python",
   "pygments_lexer": "ipython3",
   "version": "3.8.5"
  }
 },
 "nbformat": 4,
 "nbformat_minor": 4
}
