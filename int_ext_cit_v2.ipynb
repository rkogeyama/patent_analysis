{
 "cells": [
  {
   "cell_type": "code",
   "execution_count": 1,
   "metadata": {
    "collapsed": true
   },
   "outputs": [],
   "source": [
    "# February 12st, 2020\n",
    "# This script compares classification in each classification system\n",
    "# Second level matches specifications of Nemet and Johnson 2012\n"
   ]
  },
  {
   "cell_type": "code",
   "execution_count": 2,
   "metadata": {
    "collapsed": false
   },
   "outputs": [],
   "source": [
    "import pandas as pd\n",
    "import numpy as np\n",
    "import matplotlib.pyplot as plt\n",
    "import datetime\n",
    "import seaborn as sns\n",
    "\n",
    "import sys\n",
    "sys.path.append('/home/rkogeyam/scripts/')\n",
    "sys.path.append('scripts/')\n",
    "\n",
    "from determinants_scripts import classes, dtypes\n",
    "\n",
    "from classification import preprocessing\n",
    "\n",
    "citation='data/cleanuspatentcitation.csv'\n",
    "\n",
    "usecols=['uuid', 'patent_id', 'citation_id']\n",
    "df=pd.read_csv(citation, usecols=usecols)\n"
   ]
  },
  {
   "cell_type": "code",
   "execution_count": 3,
   "metadata": {
    "collapsed": true
   },
   "outputs": [],
   "source": [
    "%matplotlib inline"
   ]
  },
  {
   "cell_type": "code",
   "execution_count": 4,
   "metadata": {
    "collapsed": true
   },
   "outputs": [],
   "source": [
    "sns.set()"
   ]
  },
  {
   "cell_type": "code",
   "execution_count": 5,
   "metadata": {
    "collapsed": true
   },
   "outputs": [],
   "source": [
    "# class_systems=['wipo']\n",
    "class_systems=['ipcr', 'cpc', 'nber']"
   ]
  },
  {
   "cell_type": "code",
   "execution_count": 6,
   "metadata": {
    "collapsed": false
   },
   "outputs": [],
   "source": [
    "#create classes dataset\n",
    "class_df=pd.read_csv('data/wipo.csv', dtype=object, usecols=[0,1,2])\n",
    "class_df=class_df.astype(str)\n",
    "class_df=class_df.set_index('id')\n",
    "\n",
    "for class_system in class_systems:\n",
    "    classification = 'data/'+class_system+'.csv'\n",
    "    class_x=pd.read_csv(classification, dtype=object, usecols=[0,1,2])\n",
    "    class_x=class_x.astype(str)\n",
    "    class_x=class_x.set_index('id')\n",
    "    class_df=class_df.join(class_x)\n"
   ]
  },
  {
   "cell_type": "code",
   "execution_count": 7,
   "metadata": {
    "collapsed": false
   },
   "outputs": [
    {
     "data": {
      "text/plain": [
       "wipo_sector_id         object\n",
       "wipo_field_id          object\n",
       "ipcr_section           object\n",
       "ipcr_ipc_class         object\n",
       "cpc_section_id         object\n",
       "cpc_subsection_id      object\n",
       "nber_category_id       object\n",
       "nber_subcategory_id    object\n",
       "dtype: object"
      ]
     },
     "execution_count": 7,
     "metadata": {},
     "output_type": "execute_result"
    }
   ],
   "source": [
    "class_df.dtypes"
   ]
  },
  {
   "cell_type": "code",
   "execution_count": 8,
   "metadata": {
    "collapsed": true
   },
   "outputs": [],
   "source": [
    "df=df.astype(str)\n",
    "df=df.set_index('patent_id')"
   ]
  },
  {
   "cell_type": "code",
   "execution_count": 9,
   "metadata": {
    "collapsed": false
   },
   "outputs": [
    {
     "data": {
      "text/plain": [
       "uuid           object\n",
       "citation_id    object\n",
       "dtype: object"
      ]
     },
     "execution_count": 9,
     "metadata": {},
     "output_type": "execute_result"
    }
   ],
   "source": [
    "df.dtypes"
   ]
  },
  {
   "cell_type": "code",
   "execution_count": 10,
   "metadata": {
    "collapsed": false
   },
   "outputs": [],
   "source": [
    "df=df.join(class_df)"
   ]
  },
  {
   "cell_type": "code",
   "execution_count": 11,
   "metadata": {
    "collapsed": false
   },
   "outputs": [
    {
     "name": "stdout",
     "output_type": "stream",
     "text": [
      "                              uuid citation_id wipo_sector_id wipo_field_id  \\\n",
      "3930271  mok3net9ll9apdxvjvf7r0mjb     2379430              4            33   \n",
      "3930271  zvlxv3wtw969uvcd9azanhlwr     2782422              4            33   \n",
      "3930272  6ddwoi89ailxhwrmj0ehi1z51     2560109              4            33   \n",
      "3930272  77qebcired4jpt5gc24ynddl1     2545289              4            33   \n",
      "3930272  af2k64rnid999g4g0hdutm75o     1549144              4            33   \n",
      "\n",
      "        ipcr_section ipcr_ipc_class cpc_section_id cpc_subsection_id  \\\n",
      "3930271            A             41              A               A63   \n",
      "3930271            A             41              A               A63   \n",
      "3930272            A             47              A               A47   \n",
      "3930272            A             47              A               A47   \n",
      "3930272            A             47              A               A47   \n",
      "\n",
      "        nber_category_id nber_subcategory_id  \n",
      "3930271              NaN                 NaN  \n",
      "3930271              NaN                 NaN  \n",
      "3930272                6                  65  \n",
      "3930272                6                  65  \n",
      "3930272                6                  65  \n"
     ]
    }
   ],
   "source": [
    "print(df.head())\n",
    "dimensions=list(df.columns)\n",
    "dimensions.remove('uuid')\n",
    "dimensions.remove('citation_id')\n",
    "dimensions = [sub.replace('_id', '') for sub in dimensions] "
   ]
  },
  {
   "cell_type": "code",
   "execution_count": 12,
   "metadata": {
    "collapsed": false
   },
   "outputs": [],
   "source": [
    "ext_list = [sub + '_ext' for sub in dimensions] "
   ]
  },
  {
   "cell_type": "code",
   "execution_count": 13,
   "metadata": {
    "collapsed": false
   },
   "outputs": [
    {
     "data": {
      "text/plain": [
       "['wipo_sector_ext',\n",
       " 'wipo_field_ext',\n",
       " 'ipcr_section_ext',\n",
       " 'ipcr_ipc_class_ext',\n",
       " 'cpc_section_ext',\n",
       " 'cpc_subsection_ext',\n",
       " 'nber_category_ext',\n",
       " 'nber_subcategory_ext']"
      ]
     },
     "execution_count": 13,
     "metadata": {},
     "output_type": "execute_result"
    }
   ],
   "source": [
    "ext_list"
   ]
  },
  {
   "cell_type": "code",
   "execution_count": 14,
   "metadata": {
    "collapsed": false
   },
   "outputs": [],
   "source": [
    "df = df.add_suffix('_pat')\n",
    "df.rename(columns={'uuid_pat':'uuid', 'citation_id_pat':'citation_id'}, inplace=True)"
   ]
  },
  {
   "cell_type": "code",
   "execution_count": 15,
   "metadata": {
    "collapsed": false
   },
   "outputs": [
    {
     "data": {
      "text/plain": [
       "Index(['uuid', 'citation_id', 'wipo_sector_id_pat', 'wipo_field_id_pat',\n",
       "       'ipcr_section_pat', 'ipcr_ipc_class_pat', 'cpc_section_id_pat',\n",
       "       'cpc_subsection_id_pat', 'nber_category_id_pat',\n",
       "       'nber_subcategory_id_pat'],\n",
       "      dtype='object')"
      ]
     },
     "execution_count": 15,
     "metadata": {},
     "output_type": "execute_result"
    }
   ],
   "source": [
    "df.columns"
   ]
  },
  {
   "cell_type": "code",
   "execution_count": 16,
   "metadata": {
    "collapsed": false
   },
   "outputs": [],
   "source": [
    "df=df.set_index('citation_id')\n",
    "df=df.join(class_df)"
   ]
  },
  {
   "cell_type": "code",
   "execution_count": 17,
   "metadata": {
    "collapsed": false
   },
   "outputs": [
    {
     "name": "stdout",
     "output_type": "stream",
     "text": [
      "wipo_field_id_pat wipo_field_id\n",
      "ipcr_section_pat ipcr_section\n",
      "ipcr_ipc_class_pat ipcr_ipc_class\n",
      "cpc_section_id_pat cpc_section_id\n",
      "cpc_subsection_id_pat cpc_subsection_id\n",
      "nber_category_id_pat nber_category_id\n",
      "nber_subcategory_id_pat nber_subcategory_id\n",
      "wipo_sector_id wipo_sector_ext\n"
     ]
    }
   ],
   "source": [
    "x_1=2\n",
    "x_2=10\n",
    "for dimension in ext_list:\n",
    "    print(list(df.columns)[x_1],list(df.columns)[x_2])\n",
    "    df[dimension]=np.where(df.iloc[:,x_1] != df.iloc[:,x_2], 1, 0)\n",
    "    df.loc[df.iloc[:,x_1].isnull(), dimension] = np.nan\n",
    "    df.loc[df.iloc[:,x_2].isnull(), dimension] = np.nan \n",
    "    x_1+=1\n",
    "    x_2+=1\n"
   ]
  },
  {
   "cell_type": "code",
   "execution_count": 18,
   "metadata": {
    "collapsed": false
   },
   "outputs": [
    {
     "data": {
      "text/plain": [
       "uuid                              0\n",
       "wipo_sector_id_pat          8854845\n",
       "wipo_field_id_pat           8854845\n",
       "ipcr_section_pat           11030867\n",
       "ipcr_ipc_class_pat         11030867\n",
       "cpc_section_id_pat          9304816\n",
       "cpc_subsection_id_pat       9304816\n",
       "nber_category_id_pat       23992622\n",
       "nber_subcategory_id_pat    23992622\n",
       "wipo_sector_id             18111089\n",
       "wipo_field_id              18111089\n",
       "ipcr_section               20186335\n",
       "ipcr_ipc_class             20186335\n",
       "cpc_section_id             18113386\n",
       "cpc_subsection_id          18113386\n",
       "nber_category_id           18355546\n",
       "nber_subcategory_id        18355546\n",
       "wipo_sector_ext            20696984\n",
       "wipo_field_ext             24626201\n",
       "ipcr_section_ext           24626201\n",
       "ipcr_ipc_class_ext         21117545\n",
       "cpc_section_ext            21117545\n",
       "cpc_subsection_ext         34734596\n",
       "nber_category_ext          34734596\n",
       "nber_subcategory_ext       20696984\n",
       "dtype: int64"
      ]
     },
     "execution_count": 18,
     "metadata": {},
     "output_type": "execute_result"
    }
   ],
   "source": [
    "df.isnull().sum()"
   ]
  },
  {
   "cell_type": "code",
   "execution_count": 19,
   "metadata": {
    "collapsed": false
   },
   "outputs": [
    {
     "data": {
      "text/html": [
       "<div>\n",
       "<table border=\"1\" class=\"dataframe\">\n",
       "  <thead>\n",
       "    <tr style=\"text-align: right;\">\n",
       "      <th></th>\n",
       "      <th>uuid</th>\n",
       "      <th>wipo_sector_id_pat</th>\n",
       "      <th>wipo_field_id_pat</th>\n",
       "      <th>ipcr_section_pat</th>\n",
       "      <th>ipcr_ipc_class_pat</th>\n",
       "      <th>cpc_section_id_pat</th>\n",
       "      <th>cpc_subsection_id_pat</th>\n",
       "      <th>nber_category_id_pat</th>\n",
       "      <th>nber_subcategory_id_pat</th>\n",
       "      <th>wipo_sector_id</th>\n",
       "      <th>...</th>\n",
       "      <th>nber_category_id</th>\n",
       "      <th>nber_subcategory_id</th>\n",
       "      <th>wipo_sector_ext</th>\n",
       "      <th>wipo_field_ext</th>\n",
       "      <th>ipcr_section_ext</th>\n",
       "      <th>ipcr_ipc_class_ext</th>\n",
       "      <th>cpc_section_ext</th>\n",
       "      <th>cpc_subsection_ext</th>\n",
       "      <th>nber_category_ext</th>\n",
       "      <th>nber_subcategory_ext</th>\n",
       "    </tr>\n",
       "  </thead>\n",
       "  <tbody>\n",
       "    <tr>\n",
       "      <th>0</th>\n",
       "      <td>eeggwd3pnsfcara1i60o42hdu</td>\n",
       "      <td>3</td>\n",
       "      <td>25</td>\n",
       "      <td>B</td>\n",
       "      <td>65</td>\n",
       "      <td>B</td>\n",
       "      <td>B65</td>\n",
       "      <td>5</td>\n",
       "      <td>59</td>\n",
       "      <td>NaN</td>\n",
       "      <td>...</td>\n",
       "      <td>NaN</td>\n",
       "      <td>NaN</td>\n",
       "      <td>NaN</td>\n",
       "      <td>NaN</td>\n",
       "      <td>NaN</td>\n",
       "      <td>NaN</td>\n",
       "      <td>NaN</td>\n",
       "      <td>NaN</td>\n",
       "      <td>NaN</td>\n",
       "      <td>NaN</td>\n",
       "    </tr>\n",
       "    <tr>\n",
       "      <th>0000000</th>\n",
       "      <td>xjdvdj2y0lgdas51rewjzn405</td>\n",
       "      <td>3</td>\n",
       "      <td>29</td>\n",
       "      <td>A</td>\n",
       "      <td>01</td>\n",
       "      <td>A</td>\n",
       "      <td>A01</td>\n",
       "      <td>5</td>\n",
       "      <td>51</td>\n",
       "      <td>NaN</td>\n",
       "      <td>...</td>\n",
       "      <td>NaN</td>\n",
       "      <td>NaN</td>\n",
       "      <td>NaN</td>\n",
       "      <td>NaN</td>\n",
       "      <td>NaN</td>\n",
       "      <td>NaN</td>\n",
       "      <td>NaN</td>\n",
       "      <td>NaN</td>\n",
       "      <td>NaN</td>\n",
       "      <td>NaN</td>\n",
       "    </tr>\n",
       "    <tr>\n",
       "      <th>000004</th>\n",
       "      <td>e89bsa3x0yen50dcp9yogj3wp</td>\n",
       "      <td>3</td>\n",
       "      <td>28</td>\n",
       "      <td>B</td>\n",
       "      <td>41</td>\n",
       "      <td>B</td>\n",
       "      <td>B41</td>\n",
       "      <td>6</td>\n",
       "      <td>69</td>\n",
       "      <td>NaN</td>\n",
       "      <td>...</td>\n",
       "      <td>NaN</td>\n",
       "      <td>NaN</td>\n",
       "      <td>NaN</td>\n",
       "      <td>NaN</td>\n",
       "      <td>NaN</td>\n",
       "      <td>NaN</td>\n",
       "      <td>NaN</td>\n",
       "      <td>NaN</td>\n",
       "      <td>NaN</td>\n",
       "      <td>NaN</td>\n",
       "    </tr>\n",
       "    <tr>\n",
       "      <th>000006</th>\n",
       "      <td>a6crepaxejht8e16czfm0kytd</td>\n",
       "      <td>1</td>\n",
       "      <td>02</td>\n",
       "      <td>G</td>\n",
       "      <td>6</td>\n",
       "      <td>G</td>\n",
       "      <td>G11</td>\n",
       "      <td>4</td>\n",
       "      <td>45</td>\n",
       "      <td>NaN</td>\n",
       "      <td>...</td>\n",
       "      <td>NaN</td>\n",
       "      <td>NaN</td>\n",
       "      <td>NaN</td>\n",
       "      <td>NaN</td>\n",
       "      <td>NaN</td>\n",
       "      <td>NaN</td>\n",
       "      <td>NaN</td>\n",
       "      <td>NaN</td>\n",
       "      <td>NaN</td>\n",
       "      <td>NaN</td>\n",
       "    </tr>\n",
       "    <tr>\n",
       "      <th>0000482</th>\n",
       "      <td>olkyv8qnteatjed767vodhmlz</td>\n",
       "      <td>1</td>\n",
       "      <td>04</td>\n",
       "      <td>H</td>\n",
       "      <td>04</td>\n",
       "      <td>H</td>\n",
       "      <td>H04</td>\n",
       "      <td>2</td>\n",
       "      <td>21</td>\n",
       "      <td>NaN</td>\n",
       "      <td>...</td>\n",
       "      <td>NaN</td>\n",
       "      <td>NaN</td>\n",
       "      <td>NaN</td>\n",
       "      <td>NaN</td>\n",
       "      <td>NaN</td>\n",
       "      <td>NaN</td>\n",
       "      <td>NaN</td>\n",
       "      <td>NaN</td>\n",
       "      <td>NaN</td>\n",
       "      <td>NaN</td>\n",
       "    </tr>\n",
       "  </tbody>\n",
       "</table>\n",
       "<p>5 rows × 25 columns</p>\n",
       "</div>"
      ],
      "text/plain": [
       "                              uuid wipo_sector_id_pat wipo_field_id_pat  \\\n",
       "0        eeggwd3pnsfcara1i60o42hdu                  3                25   \n",
       "0000000  xjdvdj2y0lgdas51rewjzn405                  3                29   \n",
       "000004   e89bsa3x0yen50dcp9yogj3wp                  3                28   \n",
       "000006   a6crepaxejht8e16czfm0kytd                  1                02   \n",
       "0000482  olkyv8qnteatjed767vodhmlz                  1                04   \n",
       "\n",
       "        ipcr_section_pat ipcr_ipc_class_pat cpc_section_id_pat  \\\n",
       "0                      B                 65                  B   \n",
       "0000000                A                 01                  A   \n",
       "000004                 B                 41                  B   \n",
       "000006                 G                  6                  G   \n",
       "0000482                H                 04                  H   \n",
       "\n",
       "        cpc_subsection_id_pat nber_category_id_pat nber_subcategory_id_pat  \\\n",
       "0                         B65                    5                      59   \n",
       "0000000                   A01                    5                      51   \n",
       "000004                    B41                    6                      69   \n",
       "000006                    G11                    4                      45   \n",
       "0000482                   H04                    2                      21   \n",
       "\n",
       "        wipo_sector_id          ...          nber_category_id  \\\n",
       "0                  NaN          ...                       NaN   \n",
       "0000000            NaN          ...                       NaN   \n",
       "000004             NaN          ...                       NaN   \n",
       "000006             NaN          ...                       NaN   \n",
       "0000482            NaN          ...                       NaN   \n",
       "\n",
       "        nber_subcategory_id wipo_sector_ext wipo_field_ext ipcr_section_ext  \\\n",
       "0                       NaN             NaN            NaN              NaN   \n",
       "0000000                 NaN             NaN            NaN              NaN   \n",
       "000004                  NaN             NaN            NaN              NaN   \n",
       "000006                  NaN             NaN            NaN              NaN   \n",
       "0000482                 NaN             NaN            NaN              NaN   \n",
       "\n",
       "        ipcr_ipc_class_ext cpc_section_ext  cpc_subsection_ext  \\\n",
       "0                      NaN             NaN                 NaN   \n",
       "0000000                NaN             NaN                 NaN   \n",
       "000004                 NaN             NaN                 NaN   \n",
       "000006                 NaN             NaN                 NaN   \n",
       "0000482                NaN             NaN                 NaN   \n",
       "\n",
       "         nber_category_ext  nber_subcategory_ext  \n",
       "0                      NaN                   NaN  \n",
       "0000000                NaN                   NaN  \n",
       "000004                 NaN                   NaN  \n",
       "000006                 NaN                   NaN  \n",
       "0000482                NaN                   NaN  \n",
       "\n",
       "[5 rows x 25 columns]"
      ]
     },
     "execution_count": 19,
     "metadata": {},
     "output_type": "execute_result"
    }
   ],
   "source": [
    "df.head()"
   ]
  },
  {
   "cell_type": "code",
   "execution_count": 20,
   "metadata": {
    "collapsed": false
   },
   "outputs": [
    {
     "name": "stdout",
     "output_type": "stream",
     "text": [
      "<class 'pandas.core.frame.DataFrame'>\n",
      "Index: 91453297 entries, 0 to re25727\n",
      "Data columns (total 25 columns):\n",
      "uuid                       object\n",
      "wipo_sector_id_pat         object\n",
      "wipo_field_id_pat          object\n",
      "ipcr_section_pat           object\n",
      "ipcr_ipc_class_pat         object\n",
      "cpc_section_id_pat         object\n",
      "cpc_subsection_id_pat      object\n",
      "nber_category_id_pat       object\n",
      "nber_subcategory_id_pat    object\n",
      "wipo_sector_id             object\n",
      "wipo_field_id              object\n",
      "ipcr_section               object\n",
      "ipcr_ipc_class             object\n",
      "cpc_section_id             object\n",
      "cpc_subsection_id          object\n",
      "nber_category_id           object\n",
      "nber_subcategory_id        object\n",
      "wipo_sector_ext            float64\n",
      "wipo_field_ext             float64\n",
      "ipcr_section_ext           float64\n",
      "ipcr_ipc_class_ext         float64\n",
      "cpc_section_ext            float64\n",
      "cpc_subsection_ext         float64\n",
      "nber_category_ext          float64\n",
      "nber_subcategory_ext       float64\n",
      "dtypes: float64(8), object(17)\n",
      "memory usage: 17.7+ GB\n"
     ]
    }
   ],
   "source": [
    "df.info()"
   ]
  },
  {
   "cell_type": "code",
   "execution_count": 21,
   "metadata": {
    "collapsed": false
   },
   "outputs": [
    {
     "name": "stderr",
     "output_type": "stream",
     "text": [
      "/home/applications/anaconda3/4.2.0/lib/python3.5/site-packages/numpy/lib/function_base.py:4269: RuntimeWarning: Invalid value encountered in percentile\n",
      "  interpolation=interpolation)\n"
     ]
    },
    {
     "data": {
      "text/html": [
       "<div>\n",
       "<table border=\"1\" class=\"dataframe\">\n",
       "  <thead>\n",
       "    <tr style=\"text-align: right;\">\n",
       "      <th></th>\n",
       "      <th>wipo_sector_ext</th>\n",
       "      <th>wipo_field_ext</th>\n",
       "      <th>ipcr_section_ext</th>\n",
       "      <th>ipcr_ipc_class_ext</th>\n",
       "      <th>cpc_section_ext</th>\n",
       "      <th>cpc_subsection_ext</th>\n",
       "      <th>nber_category_ext</th>\n",
       "      <th>nber_subcategory_ext</th>\n",
       "    </tr>\n",
       "  </thead>\n",
       "  <tbody>\n",
       "    <tr>\n",
       "      <th>count</th>\n",
       "      <td>7.075631e+07</td>\n",
       "      <td>6.682710e+07</td>\n",
       "      <td>6.682710e+07</td>\n",
       "      <td>7.033575e+07</td>\n",
       "      <td>7.033575e+07</td>\n",
       "      <td>5.671870e+07</td>\n",
       "      <td>5.671870e+07</td>\n",
       "      <td>70756313.0</td>\n",
       "    </tr>\n",
       "    <tr>\n",
       "      <th>mean</th>\n",
       "      <td>3.719768e-01</td>\n",
       "      <td>2.943838e-01</td>\n",
       "      <td>5.659414e-01</td>\n",
       "      <td>2.807416e-01</td>\n",
       "      <td>3.861809e-01</td>\n",
       "      <td>2.500893e-01</td>\n",
       "      <td>4.069355e-01</td>\n",
       "      <td>1.0</td>\n",
       "    </tr>\n",
       "    <tr>\n",
       "      <th>std</th>\n",
       "      <td>4.833322e-01</td>\n",
       "      <td>4.557653e-01</td>\n",
       "      <td>4.956327e-01</td>\n",
       "      <td>4.493615e-01</td>\n",
       "      <td>4.868729e-01</td>\n",
       "      <td>4.330643e-01</td>\n",
       "      <td>4.912627e-01</td>\n",
       "      <td>0.0</td>\n",
       "    </tr>\n",
       "    <tr>\n",
       "      <th>min</th>\n",
       "      <td>0.000000e+00</td>\n",
       "      <td>0.000000e+00</td>\n",
       "      <td>0.000000e+00</td>\n",
       "      <td>0.000000e+00</td>\n",
       "      <td>0.000000e+00</td>\n",
       "      <td>0.000000e+00</td>\n",
       "      <td>0.000000e+00</td>\n",
       "      <td>1.0</td>\n",
       "    </tr>\n",
       "    <tr>\n",
       "      <th>25%</th>\n",
       "      <td>NaN</td>\n",
       "      <td>NaN</td>\n",
       "      <td>NaN</td>\n",
       "      <td>NaN</td>\n",
       "      <td>NaN</td>\n",
       "      <td>NaN</td>\n",
       "      <td>NaN</td>\n",
       "      <td>NaN</td>\n",
       "    </tr>\n",
       "    <tr>\n",
       "      <th>50%</th>\n",
       "      <td>NaN</td>\n",
       "      <td>NaN</td>\n",
       "      <td>NaN</td>\n",
       "      <td>NaN</td>\n",
       "      <td>NaN</td>\n",
       "      <td>NaN</td>\n",
       "      <td>NaN</td>\n",
       "      <td>NaN</td>\n",
       "    </tr>\n",
       "    <tr>\n",
       "      <th>75%</th>\n",
       "      <td>NaN</td>\n",
       "      <td>NaN</td>\n",
       "      <td>NaN</td>\n",
       "      <td>NaN</td>\n",
       "      <td>NaN</td>\n",
       "      <td>NaN</td>\n",
       "      <td>NaN</td>\n",
       "      <td>NaN</td>\n",
       "    </tr>\n",
       "    <tr>\n",
       "      <th>max</th>\n",
       "      <td>1.000000e+00</td>\n",
       "      <td>1.000000e+00</td>\n",
       "      <td>1.000000e+00</td>\n",
       "      <td>1.000000e+00</td>\n",
       "      <td>1.000000e+00</td>\n",
       "      <td>1.000000e+00</td>\n",
       "      <td>1.000000e+00</td>\n",
       "      <td>1.0</td>\n",
       "    </tr>\n",
       "  </tbody>\n",
       "</table>\n",
       "</div>"
      ],
      "text/plain": [
       "       wipo_sector_ext  wipo_field_ext  ipcr_section_ext  ipcr_ipc_class_ext  \\\n",
       "count     7.075631e+07    6.682710e+07      6.682710e+07        7.033575e+07   \n",
       "mean      3.719768e-01    2.943838e-01      5.659414e-01        2.807416e-01   \n",
       "std       4.833322e-01    4.557653e-01      4.956327e-01        4.493615e-01   \n",
       "min       0.000000e+00    0.000000e+00      0.000000e+00        0.000000e+00   \n",
       "25%                NaN             NaN               NaN                 NaN   \n",
       "50%                NaN             NaN               NaN                 NaN   \n",
       "75%                NaN             NaN               NaN                 NaN   \n",
       "max       1.000000e+00    1.000000e+00      1.000000e+00        1.000000e+00   \n",
       "\n",
       "       cpc_section_ext  cpc_subsection_ext  nber_category_ext  \\\n",
       "count     7.033575e+07        5.671870e+07       5.671870e+07   \n",
       "mean      3.861809e-01        2.500893e-01       4.069355e-01   \n",
       "std       4.868729e-01        4.330643e-01       4.912627e-01   \n",
       "min       0.000000e+00        0.000000e+00       0.000000e+00   \n",
       "25%                NaN                 NaN                NaN   \n",
       "50%                NaN                 NaN                NaN   \n",
       "75%                NaN                 NaN                NaN   \n",
       "max       1.000000e+00        1.000000e+00       1.000000e+00   \n",
       "\n",
       "       nber_subcategory_ext  \n",
       "count            70756313.0  \n",
       "mean                    1.0  \n",
       "std                     0.0  \n",
       "min                     1.0  \n",
       "25%                     NaN  \n",
       "50%                     NaN  \n",
       "75%                     NaN  \n",
       "max                     1.0  "
      ]
     },
     "execution_count": 21,
     "metadata": {},
     "output_type": "execute_result"
    }
   ],
   "source": [
    "df.describe()"
   ]
  },
  {
   "cell_type": "code",
   "execution_count": 22,
   "metadata": {
    "collapsed": false
   },
   "outputs": [],
   "source": [
    "df.set_index('uuid', inplace=True)\n",
    "df.select_dtypes(include=[np.number]).to_csv('data/int_ext_cit_v2.csv')"
   ]
  }
 ],
 "metadata": {
  "anaconda-cloud": {},
  "kernelspec": {
   "display_name": "Python [default]",
   "language": "python",
   "name": "python3"
  },
  "language_info": {
   "codemirror_mode": {
    "name": "ipython",
    "version": 3
   },
   "file_extension": ".py",
   "mimetype": "text/x-python",
   "name": "python",
   "nbconvert_exporter": "python",
   "pygments_lexer": "ipython3",
   "version": "3.5.2"
  }
 },
 "nbformat": 4,
 "nbformat_minor": 1
}
