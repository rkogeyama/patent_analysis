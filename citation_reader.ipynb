{
 "cells": [
  {
   "cell_type": "code",
   "execution_count": 1,
   "metadata": {
    "collapsed": true
   },
   "outputs": [],
   "source": [
    "#This script opens the citation dataset and perform calculations in patent level\n",
    "#Renato Kogeyama\n",
    "\n",
    "\n",
    "#Miami, December 29th, 2019\n",
    "# The script runs in about 20 min with the full dataset - excellent!\n",
    "# The main change was in the philosophy of the code - ditching for loops\n",
    "# This version includes application data calculate time variables \n",
    "# The idea is to evaluate changes in patent policy and evaluate time to citation\n",
    "\n",
    "#Miami, December 27th, 2019\n",
    "# Due bad performance, I am updating the script to more efficient coding\n",
    "\n",
    "# This script generates a citation ouput with patent|backward citation|cumulated backward citation | year\n",
    "# The output generates a citation record by year, considering direct and indirect citation\n"
   ]
  },
  {
   "cell_type": "code",
   "execution_count": 2,
   "metadata": {
    "collapsed": true
   },
   "outputs": [],
   "source": [
    "import pandas as pd\n",
    "import re\n",
    "\n",
    "import sys\n",
    "sys.path.append('/home/rkogeyam/scripts/')\n",
    "from sampler import sampler\n"
   ]
  },
  {
   "cell_type": "code",
   "execution_count": 3,
   "metadata": {
    "collapsed": true
   },
   "outputs": [],
   "source": [
    "%matplotlib inline"
   ]
  },
  {
   "cell_type": "code",
   "execution_count": 4,
   "metadata": {
    "collapsed": true
   },
   "outputs": [],
   "source": [
    "fname = r'/home/rkogeyam/PATENT_CITATION/data/uspatentcitation.tsv'\n",
    "dst = '/home/rkogeyam/PATENT_CITATION/data/cit_tree.csv'"
   ]
  },
  {
   "cell_type": "code",
   "execution_count": 5,
   "metadata": {
    "collapsed": false
   },
   "outputs": [
    {
     "name": "stdout",
     "output_type": "stream",
     "text": [
      "CPU times: user 3min 44s, sys: 15.6 s, total: 4min\n",
      "Wall time: 4min\n"
     ]
    }
   ],
   "source": [
    "%%time\n",
    "df=pd.read_csv(fname)\n",
    "\n",
    "# sample_size=100\n",
    "# df=sampler(fname, sample_size, sep='\\t')"
   ]
  },
  {
   "cell_type": "code",
   "execution_count": 6,
   "metadata": {
    "collapsed": false
   },
   "outputs": [
    {
     "data": {
      "text/html": [
       "<div>\n",
       "<table border=\"1\" class=\"dataframe\">\n",
       "  <thead>\n",
       "    <tr style=\"text-align: right;\">\n",
       "      <th></th>\n",
       "      <th>uuid</th>\n",
       "      <th>patent_id</th>\n",
       "      <th>citation_id</th>\n",
       "      <th>date</th>\n",
       "      <th>name</th>\n",
       "      <th>kind</th>\n",
       "      <th>country</th>\n",
       "      <th>category</th>\n",
       "      <th>sequence</th>\n",
       "    </tr>\n",
       "  </thead>\n",
       "  <tbody>\n",
       "    <tr>\n",
       "      <th>0</th>\n",
       "      <td>000007b7c0x3n9iy1othb9hz7</td>\n",
       "      <td>9009250</td>\n",
       "      <td>8127342</td>\n",
       "      <td>2012-02-01</td>\n",
       "      <td>Boynton et al.</td>\n",
       "      <td>B2</td>\n",
       "      <td>US</td>\n",
       "      <td>cited by applicant</td>\n",
       "      <td>622</td>\n",
       "    </tr>\n",
       "    <tr>\n",
       "      <th>1</th>\n",
       "      <td>000007obbnxmqc6v43t1c00dw</td>\n",
       "      <td>9643605</td>\n",
       "      <td>5471515</td>\n",
       "      <td>1995-11-01</td>\n",
       "      <td>Fossum et al.</td>\n",
       "      <td>A</td>\n",
       "      <td>US</td>\n",
       "      <td>cited by applicant</td>\n",
       "      <td>413</td>\n",
       "    </tr>\n",
       "    <tr>\n",
       "      <th>2</th>\n",
       "      <td>00000jd7thmiucpaol1hm1835</td>\n",
       "      <td>5354551</td>\n",
       "      <td>4875247</td>\n",
       "      <td>1989-10-01</td>\n",
       "      <td>Berg</td>\n",
       "      <td>NaN</td>\n",
       "      <td>US</td>\n",
       "      <td>NaN</td>\n",
       "      <td>11</td>\n",
       "    </tr>\n",
       "    <tr>\n",
       "      <th>3</th>\n",
       "      <td>00000oohcwply47niwhm5i42l</td>\n",
       "      <td>D786922</td>\n",
       "      <td>D718330</td>\n",
       "      <td>2014-11-01</td>\n",
       "      <td>Shin</td>\n",
       "      <td>S</td>\n",
       "      <td>US</td>\n",
       "      <td>cited by examiner</td>\n",
       "      <td>11</td>\n",
       "    </tr>\n",
       "    <tr>\n",
       "      <th>4</th>\n",
       "      <td>00002ghv7v87txbmryocp9i60</td>\n",
       "      <td>D490798</td>\n",
       "      <td>D190749</td>\n",
       "      <td>1961-06-01</td>\n",
       "      <td>Matri et al.</td>\n",
       "      <td>S</td>\n",
       "      <td>US</td>\n",
       "      <td>cited by examiner</td>\n",
       "      <td>1</td>\n",
       "    </tr>\n",
       "  </tbody>\n",
       "</table>\n",
       "</div>"
      ],
      "text/plain": [
       "                        uuid patent_id citation_id        date  \\\n",
       "0  000007b7c0x3n9iy1othb9hz7   9009250     8127342  2012-02-01   \n",
       "1  000007obbnxmqc6v43t1c00dw   9643605     5471515  1995-11-01   \n",
       "2  00000jd7thmiucpaol1hm1835   5354551     4875247  1989-10-01   \n",
       "3  00000oohcwply47niwhm5i42l   D786922     D718330  2014-11-01   \n",
       "4  00002ghv7v87txbmryocp9i60   D490798     D190749  1961-06-01   \n",
       "\n",
       "             name kind country            category  sequence  \n",
       "0  Boynton et al.   B2      US  cited by applicant       622  \n",
       "1   Fossum et al.    A      US  cited by applicant       413  \n",
       "2            Berg  NaN      US                 NaN        11  \n",
       "3            Shin    S      US   cited by examiner        11  \n",
       "4    Matri et al.    S      US   cited by examiner         1  "
      ]
     },
     "execution_count": 6,
     "metadata": {},
     "output_type": "execute_result"
    }
   ],
   "source": [
    "df.head()"
   ]
  },
  {
   "cell_type": "code",
   "execution_count": 7,
   "metadata": {
    "collapsed": false
   },
   "outputs": [],
   "source": [
    "df['patent_id']=df['patent_id'].astype(str)\n",
    "df['citation_id']=df['citation_id'].astype(str)"
   ]
  },
  {
   "cell_type": "code",
   "execution_count": 8,
   "metadata": {
    "collapsed": false
   },
   "outputs": [
    {
     "data": {
      "text/plain": [
       "uuid           object\n",
       "patent_id      object\n",
       "citation_id    object\n",
       "date           object\n",
       "name           object\n",
       "kind           object\n",
       "country        object\n",
       "category       object\n",
       "sequence        int64\n",
       "dtype: object"
      ]
     },
     "execution_count": 8,
     "metadata": {},
     "output_type": "execute_result"
    }
   ],
   "source": [
    "df.dtypes"
   ]
  },
  {
   "cell_type": "code",
   "execution_count": 9,
   "metadata": {
    "collapsed": true
   },
   "outputs": [
    {
     "data": {
      "text/plain": [
       "(91453297, 9)"
      ]
     },
     "execution_count": 9,
     "metadata": {},
     "output_type": "execute_result"
    }
   ],
   "source": [
    "df.shape"
   ]
  },
  {
   "cell_type": "code",
   "execution_count": 10,
   "metadata": {
    "collapsed": false
   },
   "outputs": [],
   "source": [
    "# some data cleaning\n",
    "\n",
    "# here I should keep the information for further analysis\n",
    "\n",
    "# drop rows in which column citation_id has a length smaller than 5\n",
    "indexNames = df[df['citation_id'].map(len) < 5].index\n",
    "df.drop(indexNames , inplace=True)\n",
    "\n",
    "# drop rows for which column patent_id has a length smaller than 5\n",
    "indexNames = df[df['patent_id'].map(len) < 5].index\n",
    "df.drop(indexNames , inplace=True)"
   ]
  },
  {
   "cell_type": "code",
   "execution_count": 11,
   "metadata": {
    "collapsed": true
   },
   "outputs": [
    {
     "data": {
      "text/plain": [
       "(91445558, 9)"
      ]
     },
     "execution_count": 11,
     "metadata": {},
     "output_type": "execute_result"
    }
   ],
   "source": [
    "df.shape"
   ]
  },
  {
   "cell_type": "code",
   "execution_count": 12,
   "metadata": {
    "collapsed": true
   },
   "outputs": [
    {
     "name": "stdout",
     "output_type": "stream",
     "text": [
      "                               uuid patent_id  citation_id        date  \\\n",
      "1115      000l397rmcu1p9fxvegt75gd8   6834474  20020090489  2002-07-01   \n",
      "1124      000l6y5a355o1xp8kw12zat2q   6854492  20010025668  2001-10-01   \n",
      "3978      0021zkyqbzv8dp89k0e9i5pvn   D474084  20010013500  2001-08-01   \n",
      "4915      002jwbj8ch96kavoxjhkw8czo   6738820  20020031120  2002-03-01   \n",
      "4990      002ld67k6ty2it7oo6legcqh5   6862552  20020034191  2002-03-01   \n",
      "5011      002lpkh2rawkxxp7gm2q3ye8u   6679612  20030002180  2003-01-01   \n",
      "5183      002omicihgubu2nt4x2kpzakb   6614073  20020053696  2002-05-01   \n",
      "6217      0037xjdpdapjlidqzlgh9gqop   6622391  20020153479  2002-10-01   \n",
      "7691      003zfsqsbkkitu3ccrb94glu8   6809520  20020030492  2002-03-01   \n",
      "10455     005dy0m3n9516z5eepmi2crm3   6822677  20010009438  2001-07-01   \n",
      "10735     005izkfzlac5jfgtfbqid3ybb   6739551  20030127562  2003-07-01   \n",
      "11196     005shkiewmjkql7i9jf1litjy   6868406  20010055388  2001-12-01   \n",
      "11610     006150t0ybq0jq8glp95epfa8   6821285  20020063143  2002-05-01   \n",
      "12095     006a6re9yexqgjqn6cnpucf69   6759098  20020182891  2002-12-01   \n",
      "12349     006eytaz0y2lwdy7qy1qmi7jx   6841954  20020141102  2002-10-01   \n",
      "12546     006ivb4thgd6ifrcy7s5uiazh   6861977  20030052814  2003-03-01   \n",
      "12911     006pp4tvfaotg3mum8peqo3si   6752082  20020118380  2002-08-01   \n",
      "13453     00700791v68tprdlch1zc71z7   6787824  20020079491  2002-06-01   \n",
      "13597     0072lbbeje539j8sc3kkz4c3c   6875124  20030078112  2003-04-01   \n",
      "13716     0075567v76jed3vdavook8f3l   6704433  20030091225  2003-05-01   \n",
      "14006     007agssbo7sb0xl1uvyz2p85o   6733521  20030009211  2003-01-01   \n",
      "14351     007gz8ve1kmtyj8d8yadfuaw1   6824187  20030010560  2003-01-01   \n",
      "14539     007kkw78e9uwdx8255j5yp5vq   6713336  20020033517  2002-03-01   \n",
      "14608     007lt2vl4uut2dxa2fbdcjvz6   6660126  20030075273  2003-04-01   \n",
      "17126     008wc4r8b8sit2can8exdkxcg   6641525  20020151909  2002-10-01   \n",
      "17134     008wkutnq8pm1l96dj2iajmtm   6837425  20010011247  2001-08-01   \n",
      "17589     00958aye32klqo7gka3s0fdkv   6786305  20030024772  2003-02-01   \n",
      "18730     009q8r9nzalwyeusq8935y4rt   6869594  20020141958  2002-10-01   \n",
      "20146     00agq78n80bt0xw3bowpuk6p7   6831391  20020044718  2002-04-01   \n",
      "20192     00ahluby4q640szrq0d0io2hn   6785834  20030139975  2003-07-01   \n",
      "...                             ...       ...          ...         ...   \n",
      "88687140  zzp8pjpp0zb0m2q6fb9mqpr76   6879292  20040021606  2004-02-01   \n",
      "88687423  zzpe5wspkufc35gouk60r6r1h   6846958  20040006224  2004-01-01   \n",
      "88687763  zzpl8ufrjc4pbzggxpji3ndjs   6874971  20030063949  2003-04-01   \n",
      "88688783  zzq3mbja3bxztrm63grzb19cl   6740640  20020173471  2002-11-01   \n",
      "88691748  zzrocw34jlob2oru3f64rglxk   6713545  20010049424  2001-12-01   \n",
      "88692491  zzs2mgu3t3ps4kvr7kbpcb335   6670361  20020028777  2002-03-01   \n",
      "88692793  zzs8fqgj5u3bn9pbz67sdsk7g   6846374  20020003021  2002-01-01   \n",
      "88694163  zzsy79ymc319gg777g9l7bhgh   6835203  20010029396  2001-10-01   \n",
      "88694602  zzt67n26dadgurpl20iyt3xj8   6758835  20010001125  2001-05-01   \n",
      "88695214  zzthq7tkh0buq4swrk8mq8374   6850677  20030031440  2003-02-01   \n",
      "88696472  zzu3v1h4tlsl92n0lzqspwscr   6826164  20040018018  2004-01-01   \n",
      "88697192  zzui5tfird6bjh2uhljop3oca   6750324  20030068325  2003-04-01   \n",
      "88698442  zzv3y7r1r5xd3a7g54ip7usqc   6791885  20030047772  2003-03-01   \n",
      "88699077  zzvgrdalbtws0gcbu4o3sm1gs   6652508  20010037085  2001-11-01   \n",
      "88699185  zzvil2vs2my9h0favk2kmb7u3   6791694  20010021053  2001-09-01   \n",
      "88699677  zzvse5pii5o2l39jpzr2dvt5j   6527324  20020074816  2002-06-01   \n",
      "88700021  zzvyht4ijpu3zsqyqonip7bwr   6863089  20040046065  2004-03-01   \n",
      "88700129  zzw0nf79acavftsl4vka848xe   6231590    B14739768  1994-11-01   \n",
      "88702486  zzx724sbhbopsg21mlrdzxr8j   6687603  20020112902  2002-08-01   \n",
      "88703416  zzxodop421yted29vfgxjlx10   6837966  20040060657  2004-04-01   \n",
      "88704615  zzyb8at2jxwvcrz40r7uswj79   6853587  20010011755  2001-08-01   \n",
      "88705416  zzyrpe50f5gybsudhk37u3m2p   6700647  20020186358  2002-12-01   \n",
      "88705422  zzyrs6de6ucr2gbf62ka46o9l   6873868  20030100824  2003-05-01   \n",
      "88705717  zzyx7hghxdzeun6lfk0kjgogs   6699396  20020137337  2002-09-01   \n",
      "88705897  zzz07za8x1yp48dmh5iwwv2ek   6819324  20020180747  2002-12-01   \n",
      "88706430  zzz9prjit6jlvaj990qfk9vbw   6830824  20020192506  2002-12-01   \n",
      "88706529  zzzbl0uiikr3e3mbxlo9dcip4   6704475  20020105725  2002-08-01   \n",
      "88706795  zzzglqbmuf48yxwuhbscic674   6889726  20020053286  2002-05-01   \n",
      "88707000  zzzkyu9hv3yialozqu5hy9exg   6848698  20030111308  2003-06-01   \n",
      "91242010  valyo2sa21l4mawksvcz9qfsv   9814251    T86300914  1969-06-01   \n",
      "\n",
      "                           name kind country            category  sequence  \\\n",
      "1115            Dobreski et al.   A1      US      cited by other       192   \n",
      "1124                       Enge   A1      US      cited by other         5   \n",
      "3978              Gilley et al.   A1      US   cited by examiner        26   \n",
      "4915                      Rakib   A1      US   cited by examiner         5   \n",
      "4990                    Shattil   A1      US   cited by examiner         0   \n",
      "5011             Nielsen et al.   A1      US   cited by examiner        11   \n",
      "5183             Iwamuro et al.   A1      US   cited by examiner        18   \n",
      "6217               Kenjo et al.   A1      US   cited by examiner        29   \n",
      "7691                 Guo et al.   A1      US      cited by other        13   \n",
      "10455            Kihara et al .   A1      US   cited by examiner         9   \n",
      "10735            Pereira et al.   A1      US   cited by examiner        11   \n",
      "11196              Kaliski, Jr.   A1      US      cited by other        88   \n",
      "11610              Adams et al.   A1      US      cited by other       119   \n",
      "12095                  Matsuura   A1      US   cited by examiner        38   \n",
      "12349                  Kusumoto   A1      US   cited by examiner         7   \n",
      "12546           Corbrion et al.   A1      US   cited by examiner         2   \n",
      "12911            Krueger et al.   A1      US   cited by examiner        21   \n",
      "13453                    Raynor   A1      US   cited by examiner         2   \n",
      "13597                  Sugimoto   A1      US   cited by examiner        21   \n",
      "13716                      Chen   A1      US   cited by examiner         8   \n",
      "14006                   DiCarlo   A1      US      cited by other       206   \n",
      "14351                  Motozawa   A1      US      cited by other        25   \n",
      "14539                     Lojek   A1      US   cited by examiner        19   \n",
      "14608            Kilpela et al.   A1      US      cited by other       195   \n",
      "17126            Gellman et al.   A1      US      cited by other        99   \n",
      "17134         O'Flaherty et al.   A1      US      cited by other       105   \n",
      "17589                    Naitoh   A1      US   cited by examiner         5   \n",
      "18730               Maio et al.   A1      US      cited by other       177   \n",
      "20146              Nishi et al.   A1      US      cited by other        38   \n",
      "20192                 Perkowski   A1      US      cited by other        12   \n",
      "...                         ...  ...     ...                 ...       ...   \n",
      "88687140              Shigihara   A1      US   cited by examiner         5   \n",
      "88687423       Chorghade et al.   A1      US      cited by other        20   \n",
      "88687763             Hohenocker   A1      US   cited by examiner        13   \n",
      "88688783        Yamazaki et al.   A1      US   cited by examiner         9   \n",
      "88691748        Petiniot et al.   A1      US   cited by examiner        22   \n",
      "88692491        Yamazaki et al.   A1      US      cited by other         9   \n",
      "88692793          Maxton et al.   A1      US      cited by other       124   \n",
      "88694163          Wilson et al.   A1      US      cited by other       288   \n",
      "88694602        Schulman et al.   A1      US      cited by other        29   \n",
      "88695214          Dennis et al.   A1      US   cited by examiner        21   \n",
      "88696472              Izadpanah   A1      US      cited by other        53   \n",
      "88697192                   Wang   A1      US      cited by other        77   \n",
      "88698442                     Li   A1      US      cited by other       196   \n",
      "88699077           Keith et al.   A1      US      cited by other        88   \n",
      "88699185       Colbourne et al.   A1      US      cited by other        54   \n",
      "88699677         McManus et al.   A1      US   cited by examiner        34   \n",
      "88700021                  Jeong   A1      US   cited by examiner        14   \n",
      "88700129               Engelson  NaN      US                 NaN        71   \n",
      "88702486       Wakashiro et al.   A1      US   cited by examiner         3   \n",
      "88703416         Saigusa et al.   A1      US   cited by examiner        25   \n",
      "88704615                 Tasaka   A1      US      cited by other        90   \n",
      "88705416          Toprac et al.   A1      US   cited by examiner         2   \n",
      "88705422          Warren et al.   A1      US   cited by examiner        30   \n",
      "88705717              Lu et al.   A1      US   cited by examiner         0   \n",
      "88705897         Lavelle et al.   A1      US      cited by other         9   \n",
      "88706430          Coffey et al.   A1      US   cited by examiner         9   \n",
      "88706529          Sweatt et al.   A1      US      cited by other        11   \n",
      "88706795                Czabala   A1      US      cited by other         5   \n",
      "88707000  VanValkenburgh et al.   A1      US   cited by examiner         8   \n",
      "91242010          Colley et al.  NaN      US  cited by applicant         7   \n",
      "\n",
      "         citation_id_raw patent_id_raw  \n",
      "1115        2002/0090489       6834474  \n",
      "1124         20010025668       6854492  \n",
      "3978        2001/0013500       D474084  \n",
      "4915        2002/0031120       6738820  \n",
      "4990         20020034191       6862552  \n",
      "5011        2003/0002180       6679612  \n",
      "5183        2002/0053696       6614073  \n",
      "6217        2002/0153479       6622391  \n",
      "7691        2002/0030492       6809520  \n",
      "10455       2001/0009438       6822677  \n",
      "10735       2003/0127562       6739551  \n",
      "11196        20010055388       6868406  \n",
      "11610       2002/0063143       6821285  \n",
      "12095       2002/0182891       6759098  \n",
      "12349        20020141102       6841954  \n",
      "12546        20030052814       6861977  \n",
      "12911       2002/0118380       6752082  \n",
      "13453       2002/0079491       6787824  \n",
      "13597        20030078112       6875124  \n",
      "13716       2003/0091225       6704433  \n",
      "14006       2003/0009211       6733521  \n",
      "14351       2003/0010560       6824187  \n",
      "14539       2002/0033517       6713336  \n",
      "14608       2003/0075273       6660126  \n",
      "17126       2002/0151909       6641525  \n",
      "17134        20010011247       6837425  \n",
      "17589       2003/0024772       6786305  \n",
      "18730        20020141958       6869594  \n",
      "20146       2002/0044718       6831391  \n",
      "20192       2003/0139975       6785834  \n",
      "...                  ...           ...  \n",
      "88687140     20040021606       6879292  \n",
      "88687423     20040006224       6846958  \n",
      "88687763     20030063949       6874971  \n",
      "88688783    2002/0173471       6740640  \n",
      "88691748    2001/0049424       6713545  \n",
      "88692491    2002/0028777       6670361  \n",
      "88692793     20020003021       6846374  \n",
      "88694163    2001/0029396       6835203  \n",
      "88694602    2001/0001125       6758835  \n",
      "88695214     20030031440       6850677  \n",
      "88696472    2004/0018018       6826164  \n",
      "88697192    2003/0068325       6750324  \n",
      "88698442    2003/0047772       6791885  \n",
      "88699077    2001/0037085       6652508  \n",
      "88699185    2001/0021053       6791694  \n",
      "88699677    2002/0074816       6527324  \n",
      "88700021     20040046065       6863089  \n",
      "88700129      B1 4739768       6231590  \n",
      "88702486    2002/0112902       6687603  \n",
      "88703416     20040060657       6837966  \n",
      "88704615     20010011755       6853587  \n",
      "88705416    2002/0186358       6700647  \n",
      "88705422     20030100824       6873868  \n",
      "88705717    2002/0137337       6699396  \n",
      "88705897    2002/0180747       6819324  \n",
      "88706430    2002/0192506       6830824  \n",
      "88706529    2002/0105725       6704475  \n",
      "88706795     20020053286       6889726  \n",
      "88707000     20030111308       6848698  \n",
      "91242010       T86300914       9814251  \n",
      "\n",
      "[124897 rows x 11 columns]\n",
      "CPU times: user 8min 26s, sys: 5.42 s, total: 8min 31s\n",
      "Wall time: 8min 32s\n"
     ]
    }
   ],
   "source": [
    "%%time\n",
    "# # Keep this for reference!\n",
    "# # As of Dec 31st, 2019, I compared the clean to the raw version of citation and patent ids\n",
    "\n",
    "# #stripping non-desired characters but keeping the originals for later check - only three changes in citation_id\n",
    "\n",
    "df['citation_id_raw']=df['citation_id']\n",
    "df['patent_id_raw']=df['patent_id']\n",
    "\n",
    "cleaning_patent=lambda x:re.sub('([^a-zA-Z0-9]+)', \"\", x)\n",
    "df['citation_id']=df['citation_id'].apply(cleaning_patent)\n",
    "df['patent_id']=df['patent_id'].apply(cleaning_patent)\n",
    "\n",
    "# #stripping trailing white spaces - no changes\n",
    "# df['patent_id'] = df['patent_id'].str.strip()\n",
    "# df['citation_id'] = df['citation_id'].str.strip()\n",
    "\n",
    "# #this is taking a lot of time, evaluate alternatives\n",
    "\n",
    "print(df[df['citation_id'].map(len) > 8])"
   ]
  },
  {
   "cell_type": "code",
   "execution_count": 13,
   "metadata": {
    "collapsed": false
   },
   "outputs": [
    {
     "name": "stdout",
     "output_type": "stream",
     "text": [
      "Empty DataFrame\n",
      "Columns: [uuid, patent_id, citation_id, date, name, kind, country, category, sequence, citation_id_raw, patent_id_raw]\n",
      "Index: []\n"
     ]
    }
   ],
   "source": [
    "print(df[df['patent_id'].map(len) > 8])"
   ]
  },
  {
   "cell_type": "code",
   "execution_count": 14,
   "metadata": {
    "collapsed": false
   },
   "outputs": [
    {
     "name": "stdout",
     "output_type": "stream",
     "text": [
      "Empty DataFrame\n",
      "Columns: [uuid, patent_id, citation_id, date, name, kind, country, category, sequence, citation_id_raw, patent_id_raw]\n",
      "Index: []\n"
     ]
    }
   ],
   "source": [
    "print(df[df['patent_id']!=df['patent_id']])"
   ]
  },
  {
   "cell_type": "code",
   "execution_count": 15,
   "metadata": {
    "collapsed": false
   },
   "outputs": [
    {
     "name": "stdout",
     "output_type": "stream",
     "text": [
      "CPU times: user 1min 12s, sys: 80 ms, total: 1min 12s\n",
      "Wall time: 1min 12s\n"
     ]
    }
   ],
   "source": [
    "%%time\n",
    "#Non-conforming dates\n",
    "#this corrects days or months registered as 00\n",
    "df.date.replace({'-00':'-01'}, regex=True, inplace=True)\n",
    "\n",
    "#replacing day or month would not affect the output\n",
    "#replacing the year could be more problematic\n",
    "\n",
    "#Ditch month and day altogether, since it is not a reliable source of information"
   ]
  },
  {
   "cell_type": "code",
   "execution_count": 16,
   "metadata": {
    "collapsed": false
   },
   "outputs": [
    {
     "name": "stdout",
     "output_type": "stream",
     "text": [
      "CPU times: user 35.5 s, sys: 1.65 s, total: 37.1 s\n",
      "Wall time: 37 s\n"
     ]
    }
   ],
   "source": [
    "%%time\n",
    "#attention to date format - original data is year-month-day\n",
    "df['date']=pd.to_datetime(df.date,format='%Y-%m-%d', errors='coerce') "
   ]
  },
  {
   "cell_type": "code",
   "execution_count": 17,
   "metadata": {
    "collapsed": false
   },
   "outputs": [
    {
     "name": "stdout",
     "output_type": "stream",
     "text": [
      "CPU times: user 1min 54s, sys: 3.81 s, total: 1min 57s\n",
      "Wall time: 1min 57s\n"
     ]
    }
   ],
   "source": [
    "%%time\n",
    "#cited patents registers total citations received \n",
    "\n",
    "cited_patents=df.groupby(['citation_id']).count().iloc[:, 1].reset_index() #Series, patent-level\n",
    "# cited_patents.dropna(0, inplace=True) #Series, '0' implies that rows are dropped\n",
    "\n",
    "#I should check this, because later I make citation back as index for merging purposes\n",
    "# cited_patents=cited_patents.reset_index() #Dataframe"
   ]
  },
  {
   "cell_type": "code",
   "execution_count": 18,
   "metadata": {
    "collapsed": true
   },
   "outputs": [],
   "source": [
    "cited_patents.rename(columns={'patent_id': 'back_citation'}, inplace=True)"
   ]
  },
  {
   "cell_type": "code",
   "execution_count": 19,
   "metadata": {
    "collapsed": false
   },
   "outputs": [
    {
     "data": {
      "text/html": [
       "<div>\n",
       "<table border=\"1\" class=\"dataframe\">\n",
       "  <thead>\n",
       "    <tr style=\"text-align: right;\">\n",
       "      <th></th>\n",
       "      <th>uuid</th>\n",
       "      <th>patent_id</th>\n",
       "      <th>citation_id</th>\n",
       "      <th>date</th>\n",
       "      <th>name</th>\n",
       "      <th>kind</th>\n",
       "      <th>country</th>\n",
       "      <th>category</th>\n",
       "      <th>sequence</th>\n",
       "      <th>citation_id_raw</th>\n",
       "      <th>patent_id_raw</th>\n",
       "    </tr>\n",
       "  </thead>\n",
       "  <tbody>\n",
       "    <tr>\n",
       "      <th>0</th>\n",
       "      <td>000007b7c0x3n9iy1othb9hz7</td>\n",
       "      <td>9009250</td>\n",
       "      <td>8127342</td>\n",
       "      <td>2012-02-01</td>\n",
       "      <td>Boynton et al.</td>\n",
       "      <td>B2</td>\n",
       "      <td>US</td>\n",
       "      <td>cited by applicant</td>\n",
       "      <td>622</td>\n",
       "      <td>8127342</td>\n",
       "      <td>9009250</td>\n",
       "    </tr>\n",
       "    <tr>\n",
       "      <th>1</th>\n",
       "      <td>000007obbnxmqc6v43t1c00dw</td>\n",
       "      <td>9643605</td>\n",
       "      <td>5471515</td>\n",
       "      <td>1995-11-01</td>\n",
       "      <td>Fossum et al.</td>\n",
       "      <td>A</td>\n",
       "      <td>US</td>\n",
       "      <td>cited by applicant</td>\n",
       "      <td>413</td>\n",
       "      <td>5471515</td>\n",
       "      <td>9643605</td>\n",
       "    </tr>\n",
       "    <tr>\n",
       "      <th>2</th>\n",
       "      <td>00000jd7thmiucpaol1hm1835</td>\n",
       "      <td>5354551</td>\n",
       "      <td>4875247</td>\n",
       "      <td>1989-10-01</td>\n",
       "      <td>Berg</td>\n",
       "      <td>NaN</td>\n",
       "      <td>US</td>\n",
       "      <td>NaN</td>\n",
       "      <td>11</td>\n",
       "      <td>4875247</td>\n",
       "      <td>5354551</td>\n",
       "    </tr>\n",
       "    <tr>\n",
       "      <th>3</th>\n",
       "      <td>00000oohcwply47niwhm5i42l</td>\n",
       "      <td>D786922</td>\n",
       "      <td>D718330</td>\n",
       "      <td>2014-11-01</td>\n",
       "      <td>Shin</td>\n",
       "      <td>S</td>\n",
       "      <td>US</td>\n",
       "      <td>cited by examiner</td>\n",
       "      <td>11</td>\n",
       "      <td>D718330</td>\n",
       "      <td>D786922</td>\n",
       "    </tr>\n",
       "    <tr>\n",
       "      <th>4</th>\n",
       "      <td>00002ghv7v87txbmryocp9i60</td>\n",
       "      <td>D490798</td>\n",
       "      <td>D190749</td>\n",
       "      <td>1961-06-01</td>\n",
       "      <td>Matri et al.</td>\n",
       "      <td>S</td>\n",
       "      <td>US</td>\n",
       "      <td>cited by examiner</td>\n",
       "      <td>1</td>\n",
       "      <td>D190749</td>\n",
       "      <td>D490798</td>\n",
       "    </tr>\n",
       "  </tbody>\n",
       "</table>\n",
       "</div>"
      ],
      "text/plain": [
       "                        uuid patent_id citation_id       date            name  \\\n",
       "0  000007b7c0x3n9iy1othb9hz7   9009250     8127342 2012-02-01  Boynton et al.   \n",
       "1  000007obbnxmqc6v43t1c00dw   9643605     5471515 1995-11-01   Fossum et al.   \n",
       "2  00000jd7thmiucpaol1hm1835   5354551     4875247 1989-10-01            Berg   \n",
       "3  00000oohcwply47niwhm5i42l   D786922     D718330 2014-11-01            Shin   \n",
       "4  00002ghv7v87txbmryocp9i60   D490798     D190749 1961-06-01    Matri et al.   \n",
       "\n",
       "  kind country            category  sequence citation_id_raw patent_id_raw  \n",
       "0   B2      US  cited by applicant       622         8127342       9009250  \n",
       "1    A      US  cited by applicant       413         5471515       9643605  \n",
       "2  NaN      US                 NaN        11         4875247       5354551  \n",
       "3    S      US   cited by examiner        11         D718330       D786922  \n",
       "4    S      US   cited by examiner         1         D190749       D490798  "
      ]
     },
     "execution_count": 19,
     "metadata": {},
     "output_type": "execute_result"
    }
   ],
   "source": [
    "df.head()"
   ]
  },
  {
   "cell_type": "code",
   "execution_count": 20,
   "metadata": {
    "collapsed": true
   },
   "outputs": [],
   "source": [
    "#forward citation\n",
    "forward_citation=df.groupby(['patent_id']).count().iloc[:, 1].reset_index()\n",
    "forward_citation.rename(columns={'citation_id': 'forw_citation'}, inplace=True)\n",
    "\n"
   ]
  },
  {
   "cell_type": "code",
   "execution_count": 21,
   "metadata": {
    "collapsed": false
   },
   "outputs": [
    {
     "data": {
      "text/html": [
       "<div>\n",
       "<table border=\"1\" class=\"dataframe\">\n",
       "  <thead>\n",
       "    <tr style=\"text-align: right;\">\n",
       "      <th></th>\n",
       "      <th>patent_id</th>\n",
       "      <th>forw_citation</th>\n",
       "    </tr>\n",
       "  </thead>\n",
       "  <tbody>\n",
       "    <tr>\n",
       "      <th>0</th>\n",
       "      <td>3930271</td>\n",
       "      <td>2</td>\n",
       "    </tr>\n",
       "    <tr>\n",
       "      <th>1</th>\n",
       "      <td>3930272</td>\n",
       "      <td>11</td>\n",
       "    </tr>\n",
       "    <tr>\n",
       "      <th>2</th>\n",
       "      <td>3930273</td>\n",
       "      <td>8</td>\n",
       "    </tr>\n",
       "    <tr>\n",
       "      <th>3</th>\n",
       "      <td>3930274</td>\n",
       "      <td>3</td>\n",
       "    </tr>\n",
       "    <tr>\n",
       "      <th>4</th>\n",
       "      <td>3930275</td>\n",
       "      <td>2</td>\n",
       "    </tr>\n",
       "  </tbody>\n",
       "</table>\n",
       "</div>"
      ],
      "text/plain": [
       "  patent_id  forw_citation\n",
       "0   3930271              2\n",
       "1   3930272             11\n",
       "2   3930273              8\n",
       "3   3930274              3\n",
       "4   3930275              2"
      ]
     },
     "execution_count": 21,
     "metadata": {},
     "output_type": "execute_result"
    }
   ],
   "source": [
    "forward_citation.head()"
   ]
  },
  {
   "cell_type": "code",
   "execution_count": 22,
   "metadata": {
    "collapsed": false
   },
   "outputs": [
    {
     "name": "stdout",
     "output_type": "stream",
     "text": [
      "CPU times: user 5min 13s, sys: 9.32 s, total: 5min 22s\n",
      "Wall time: 5min 22s\n"
     ]
    }
   ],
   "source": [
    "%%time\n",
    "#this is the trick code\n",
    "#I match the total of citations received by the citing patent (identified by patent_id)\n",
    "#Then I sum all citations received by the citing patents\n",
    "\n",
    "df=df.merge(cited_patents, how='inner', left_on='patent_id', right_on='citation_id')\n",
    "df.rename(columns={'back_citation': 'parent_back_citation'}, inplace=True)"
   ]
  },
  {
   "cell_type": "code",
   "execution_count": 23,
   "metadata": {
    "collapsed": false
   },
   "outputs": [
    {
     "name": "stdout",
     "output_type": "stream",
     "text": [
      "CPU times: user 2min 40s, sys: 3.16 s, total: 2min 43s\n",
      "Wall time: 2min 43s\n"
     ]
    }
   ],
   "source": [
    "%%time\n",
    "#merging generates new NaNs\n",
    "#NaN in citations means no citation\n",
    "df.fillna(0, inplace=True)"
   ]
  },
  {
   "cell_type": "code",
   "execution_count": 24,
   "metadata": {
    "collapsed": false
   },
   "outputs": [
    {
     "name": "stdout",
     "output_type": "stream",
     "text": [
      "CPU times: user 1min 45s, sys: 2.65 s, total: 1min 48s\n",
      "Wall time: 1min 48s\n"
     ]
    }
   ],
   "source": [
    "%%time\n",
    "#now I collapse df to become a patent level dataframe\n",
    "#citation_id_x is the original cited patent\n",
    "patent_level_df=df.groupby('citation_id_x').sum()"
   ]
  },
  {
   "cell_type": "code",
   "execution_count": 25,
   "metadata": {
    "collapsed": false
   },
   "outputs": [],
   "source": [
    "# now i merge the number of citations to patent_level_df\n",
    "# patent_level has the information about the citing patent\n",
    "\n",
    "outcome=cited_patents.merge(patent_level_df, how='outer', left_on='citation_id', right_index=True)"
   ]
  },
  {
   "cell_type": "code",
   "execution_count": 26,
   "metadata": {
    "collapsed": true
   },
   "outputs": [
    {
     "data": {
      "text/html": [
       "<div>\n",
       "<table border=\"1\" class=\"dataframe\">\n",
       "  <thead>\n",
       "    <tr style=\"text-align: right;\">\n",
       "      <th></th>\n",
       "      <th>citation_id</th>\n",
       "      <th>back_citation</th>\n",
       "      <th>sequence</th>\n",
       "      <th>parent_back_citation</th>\n",
       "    </tr>\n",
       "  </thead>\n",
       "  <tbody>\n",
       "    <tr>\n",
       "      <th>0</th>\n",
       "      <td>0000000</td>\n",
       "      <td>1</td>\n",
       "      <td>0.0</td>\n",
       "      <td>10.0</td>\n",
       "    </tr>\n",
       "    <tr>\n",
       "      <th>1</th>\n",
       "      <td>000004</td>\n",
       "      <td>1</td>\n",
       "      <td>0.0</td>\n",
       "      <td>1.0</td>\n",
       "    </tr>\n",
       "    <tr>\n",
       "      <th>2</th>\n",
       "      <td>000006</td>\n",
       "      <td>1</td>\n",
       "      <td>0.0</td>\n",
       "      <td>11.0</td>\n",
       "    </tr>\n",
       "    <tr>\n",
       "      <th>3</th>\n",
       "      <td>0000482</td>\n",
       "      <td>1</td>\n",
       "      <td>0.0</td>\n",
       "      <td>30.0</td>\n",
       "    </tr>\n",
       "    <tr>\n",
       "      <th>4</th>\n",
       "      <td>0000H94</td>\n",
       "      <td>1</td>\n",
       "      <td>0.0</td>\n",
       "      <td>14.0</td>\n",
       "    </tr>\n",
       "  </tbody>\n",
       "</table>\n",
       "</div>"
      ],
      "text/plain": [
       "  citation_id  back_citation  sequence  parent_back_citation\n",
       "0     0000000              1       0.0                  10.0\n",
       "1      000004              1       0.0                   1.0\n",
       "2      000006              1       0.0                  11.0\n",
       "3     0000482              1       0.0                  30.0\n",
       "4     0000H94              1       0.0                  14.0"
      ]
     },
     "execution_count": 26,
     "metadata": {},
     "output_type": "execute_result"
    }
   ],
   "source": [
    "outcome.head()"
   ]
  },
  {
   "cell_type": "code",
   "execution_count": 27,
   "metadata": {
    "collapsed": true
   },
   "outputs": [],
   "source": [
    "outcome=outcome.merge(forward_citation, how='outer', left_on='citation_id', right_on='patent_id')"
   ]
  },
  {
   "cell_type": "code",
   "execution_count": 28,
   "metadata": {
    "collapsed": true
   },
   "outputs": [
    {
     "data": {
      "text/html": [
       "<div>\n",
       "<table border=\"1\" class=\"dataframe\">\n",
       "  <thead>\n",
       "    <tr style=\"text-align: right;\">\n",
       "      <th></th>\n",
       "      <th>citation_id</th>\n",
       "      <th>back_citation</th>\n",
       "      <th>sequence</th>\n",
       "      <th>parent_back_citation</th>\n",
       "      <th>patent_id</th>\n",
       "      <th>forw_citation</th>\n",
       "    </tr>\n",
       "  </thead>\n",
       "  <tbody>\n",
       "    <tr>\n",
       "      <th>0</th>\n",
       "      <td>0000000</td>\n",
       "      <td>1.0</td>\n",
       "      <td>0.0</td>\n",
       "      <td>10.0</td>\n",
       "      <td>NaN</td>\n",
       "      <td>NaN</td>\n",
       "    </tr>\n",
       "    <tr>\n",
       "      <th>1</th>\n",
       "      <td>000004</td>\n",
       "      <td>1.0</td>\n",
       "      <td>0.0</td>\n",
       "      <td>1.0</td>\n",
       "      <td>NaN</td>\n",
       "      <td>NaN</td>\n",
       "    </tr>\n",
       "    <tr>\n",
       "      <th>2</th>\n",
       "      <td>000006</td>\n",
       "      <td>1.0</td>\n",
       "      <td>0.0</td>\n",
       "      <td>11.0</td>\n",
       "      <td>NaN</td>\n",
       "      <td>NaN</td>\n",
       "    </tr>\n",
       "    <tr>\n",
       "      <th>3</th>\n",
       "      <td>0000482</td>\n",
       "      <td>1.0</td>\n",
       "      <td>0.0</td>\n",
       "      <td>30.0</td>\n",
       "      <td>NaN</td>\n",
       "      <td>NaN</td>\n",
       "    </tr>\n",
       "    <tr>\n",
       "      <th>4</th>\n",
       "      <td>0000H94</td>\n",
       "      <td>1.0</td>\n",
       "      <td>0.0</td>\n",
       "      <td>14.0</td>\n",
       "      <td>NaN</td>\n",
       "      <td>NaN</td>\n",
       "    </tr>\n",
       "  </tbody>\n",
       "</table>\n",
       "</div>"
      ],
      "text/plain": [
       "  citation_id  back_citation  sequence  parent_back_citation patent_id  \\\n",
       "0     0000000            1.0       0.0                  10.0       NaN   \n",
       "1      000004            1.0       0.0                   1.0       NaN   \n",
       "2      000006            1.0       0.0                  11.0       NaN   \n",
       "3     0000482            1.0       0.0                  30.0       NaN   \n",
       "4     0000H94            1.0       0.0                  14.0       NaN   \n",
       "\n",
       "   forw_citation  \n",
       "0            NaN  \n",
       "1            NaN  \n",
       "2            NaN  \n",
       "3            NaN  \n",
       "4            NaN  "
      ]
     },
     "execution_count": 28,
     "metadata": {},
     "output_type": "execute_result"
    }
   ],
   "source": [
    "outcome.head()"
   ]
  },
  {
   "cell_type": "code",
   "execution_count": 29,
   "metadata": {
    "collapsed": true
   },
   "outputs": [],
   "source": [
    "outcome.fillna(0, inplace=True)"
   ]
  },
  {
   "cell_type": "code",
   "execution_count": 30,
   "metadata": {
    "collapsed": false
   },
   "outputs": [
    {
     "data": {
      "text/html": [
       "<div>\n",
       "<table border=\"1\" class=\"dataframe\">\n",
       "  <thead>\n",
       "    <tr style=\"text-align: right;\">\n",
       "      <th></th>\n",
       "      <th>citation_id</th>\n",
       "      <th>back_citation</th>\n",
       "      <th>sequence</th>\n",
       "      <th>parent_back_citation</th>\n",
       "      <th>patent_id</th>\n",
       "      <th>forw_citation</th>\n",
       "    </tr>\n",
       "  </thead>\n",
       "  <tbody>\n",
       "    <tr>\n",
       "      <th>0</th>\n",
       "      <td>0000000</td>\n",
       "      <td>1.0</td>\n",
       "      <td>0.0</td>\n",
       "      <td>10.0</td>\n",
       "      <td>0</td>\n",
       "      <td>0.0</td>\n",
       "    </tr>\n",
       "    <tr>\n",
       "      <th>1</th>\n",
       "      <td>000004</td>\n",
       "      <td>1.0</td>\n",
       "      <td>0.0</td>\n",
       "      <td>1.0</td>\n",
       "      <td>0</td>\n",
       "      <td>0.0</td>\n",
       "    </tr>\n",
       "    <tr>\n",
       "      <th>2</th>\n",
       "      <td>000006</td>\n",
       "      <td>1.0</td>\n",
       "      <td>0.0</td>\n",
       "      <td>11.0</td>\n",
       "      <td>0</td>\n",
       "      <td>0.0</td>\n",
       "    </tr>\n",
       "    <tr>\n",
       "      <th>3</th>\n",
       "      <td>0000482</td>\n",
       "      <td>1.0</td>\n",
       "      <td>0.0</td>\n",
       "      <td>30.0</td>\n",
       "      <td>0</td>\n",
       "      <td>0.0</td>\n",
       "    </tr>\n",
       "    <tr>\n",
       "      <th>4</th>\n",
       "      <td>0000H94</td>\n",
       "      <td>1.0</td>\n",
       "      <td>0.0</td>\n",
       "      <td>14.0</td>\n",
       "      <td>0</td>\n",
       "      <td>0.0</td>\n",
       "    </tr>\n",
       "  </tbody>\n",
       "</table>\n",
       "</div>"
      ],
      "text/plain": [
       "  citation_id  back_citation  sequence  parent_back_citation patent_id  \\\n",
       "0     0000000            1.0       0.0                  10.0         0   \n",
       "1      000004            1.0       0.0                   1.0         0   \n",
       "2      000006            1.0       0.0                  11.0         0   \n",
       "3     0000482            1.0       0.0                  30.0         0   \n",
       "4     0000H94            1.0       0.0                  14.0         0   \n",
       "\n",
       "   forw_citation  \n",
       "0            0.0  \n",
       "1            0.0  \n",
       "2            0.0  \n",
       "3            0.0  \n",
       "4            0.0  "
      ]
     },
     "execution_count": 30,
     "metadata": {},
     "output_type": "execute_result"
    }
   ],
   "source": [
    "outcome.head()"
   ]
  },
  {
   "cell_type": "code",
   "execution_count": 31,
   "metadata": {
    "collapsed": false
   },
   "outputs": [],
   "source": [
    "outcome.drop(['sequence', 'patent_id'], axis=1, inplace=True)"
   ]
  },
  {
   "cell_type": "code",
   "execution_count": null,
   "metadata": {
    "collapsed": true
   },
   "outputs": [],
   "source": [
    "outcome.set_index('citation_id')"
   ]
  },
  {
   "cell_type": "code",
   "execution_count": 32,
   "metadata": {
    "collapsed": false,
    "scrolled": true
   },
   "outputs": [
    {
     "data": {
      "text/html": [
       "<div>\n",
       "<table border=\"1\" class=\"dataframe\">\n",
       "  <thead>\n",
       "    <tr style=\"text-align: right;\">\n",
       "      <th></th>\n",
       "      <th>back_citation</th>\n",
       "      <th>parent_back_citation</th>\n",
       "      <th>forw_citation</th>\n",
       "    </tr>\n",
       "  </thead>\n",
       "  <tbody>\n",
       "    <tr>\n",
       "      <th>count</th>\n",
       "      <td>8.525072e+06</td>\n",
       "      <td>8.525072e+06</td>\n",
       "      <td>8.525072e+06</td>\n",
       "    </tr>\n",
       "    <tr>\n",
       "      <th>mean</th>\n",
       "      <td>1.072666e+01</td>\n",
       "      <td>1.814898e+02</td>\n",
       "      <td>1.072666e+01</td>\n",
       "    </tr>\n",
       "    <tr>\n",
       "      <th>std</th>\n",
       "      <td>2.819247e+01</td>\n",
       "      <td>1.365067e+03</td>\n",
       "      <td>3.634551e+01</td>\n",
       "    </tr>\n",
       "    <tr>\n",
       "      <th>min</th>\n",
       "      <td>0.000000e+00</td>\n",
       "      <td>0.000000e+00</td>\n",
       "      <td>0.000000e+00</td>\n",
       "    </tr>\n",
       "    <tr>\n",
       "      <th>25%</th>\n",
       "      <td>1.000000e+00</td>\n",
       "      <td>0.000000e+00</td>\n",
       "      <td>0.000000e+00</td>\n",
       "    </tr>\n",
       "    <tr>\n",
       "      <th>50%</th>\n",
       "      <td>3.000000e+00</td>\n",
       "      <td>1.400000e+01</td>\n",
       "      <td>4.000000e+00</td>\n",
       "    </tr>\n",
       "    <tr>\n",
       "      <th>75%</th>\n",
       "      <td>1.000000e+01</td>\n",
       "      <td>7.900000e+01</td>\n",
       "      <td>1.000000e+01</td>\n",
       "    </tr>\n",
       "    <tr>\n",
       "      <th>max</th>\n",
       "      <td>3.922000e+03</td>\n",
       "      <td>2.274790e+05</td>\n",
       "      <td>5.811000e+03</td>\n",
       "    </tr>\n",
       "  </tbody>\n",
       "</table>\n",
       "</div>"
      ],
      "text/plain": [
       "       back_citation  parent_back_citation  forw_citation\n",
       "count   8.525072e+06          8.525072e+06   8.525072e+06\n",
       "mean    1.072666e+01          1.814898e+02   1.072666e+01\n",
       "std     2.819247e+01          1.365067e+03   3.634551e+01\n",
       "min     0.000000e+00          0.000000e+00   0.000000e+00\n",
       "25%     1.000000e+00          0.000000e+00   0.000000e+00\n",
       "50%     3.000000e+00          1.400000e+01   4.000000e+00\n",
       "75%     1.000000e+01          7.900000e+01   1.000000e+01\n",
       "max     3.922000e+03          2.274790e+05   5.811000e+03"
      ]
     },
     "execution_count": 32,
     "metadata": {},
     "output_type": "execute_result"
    }
   ],
   "source": [
    "outcome.describe()"
   ]
  },
  {
   "cell_type": "code",
   "execution_count": 33,
   "metadata": {
    "collapsed": false
   },
   "outputs": [
    {
     "name": "stdout",
     "output_type": "stream",
     "text": [
      "CPU times: user 1min 9s, sys: 388 ms, total: 1min 10s\n",
      "Wall time: 1min 10s\n"
     ]
    }
   ],
   "source": [
    "%%time\n",
    "outcome.to_csv(dst)"
   ]
  },
  {
   "cell_type": "code",
   "execution_count": 34,
   "metadata": {
    "collapsed": true
   },
   "outputs": [],
   "source": [
    "# I should introduce a test to see if the script is calculating correctly\n",
    "# I should search for the information of one specfic patent and compare with the output generated by the script"
   ]
  }
 ],
 "metadata": {
  "anaconda-cloud": {},
  "kernelspec": {
   "display_name": "Python [default]",
   "language": "python",
   "name": "python3"
  },
  "language_info": {
   "codemirror_mode": {
    "name": "ipython",
    "version": 3
   },
   "file_extension": ".py",
   "mimetype": "text/x-python",
   "name": "python",
   "nbconvert_exporter": "python",
   "pygments_lexer": "ipython3",
   "version": "3.5.2"
  }
 },
 "nbformat": 4,
 "nbformat_minor": 1
}
