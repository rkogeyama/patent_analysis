{
 "cells": [
  {
   "cell_type": "code",
   "execution_count": 1,
   "metadata": {
    "collapsed": true
   },
   "outputs": [],
   "source": [
    "# Script to calculate originality and  application data\n",
    "# This script prepares the classification data before merging\n",
    "# Jan 16th, 2020\n",
    "# Multiple classifications generate an error into the Generality calculation\n",
    "# I am creating a version with the first class only \n",
    "\n",
    "# Jan 7th, 2020\n"
   ]
  },
  {
   "cell_type": "code",
   "execution_count": 2,
   "metadata": {
    "collapsed": true
   },
   "outputs": [],
   "source": [
    "import sys\n",
    "sys.path.append('/home/rkogeyam/scripts/')\n",
    "from sampler import sampler\n",
    "\n",
    "import pandas as pd\n",
    "import numpy as np\n",
    "import re\n",
    "\n"
   ]
  },
  {
   "cell_type": "code",
   "execution_count": 3,
   "metadata": {
    "collapsed": true
   },
   "outputs": [],
   "source": [
    "# from the data dictionary\n",
    "\n",
    "# patent_id: patent number\n",
    "# field_id:  WIPO technology field ID as derived from crosswalk \n",
    "#            http://www.wipo.int/export/sites/www/ipstats/en/statistics/patents/xls/ipc_technology.xls\n",
    "# sequence:  order in which WIPO technology field appears on patent\n"
   ]
  },
  {
   "cell_type": "code",
   "execution_count": 4,
   "metadata": {
    "collapsed": true
   },
   "outputs": [],
   "source": [
    "citation= 'data/cleanuspatentcitation.csv'\n",
    "wipo = 'data/wipo.tsv'\n",
    "dst= 'data/wipo_horiz.csv'\n",
    "dst_first_class= 'data/wipo_first_class.csv'"
   ]
  },
  {
   "cell_type": "code",
   "execution_count": 5,
   "metadata": {
    "collapsed": false
   },
   "outputs": [],
   "source": [
    "# \n",
    "wipo_df=pd.read_csv(wipo, sep='\\t', dtype='object')\n",
    "\n",
    "# sample_size=1000\n",
    "# wipo_df=sampler(wipo, sample_size, sep='\\t')\n"
   ]
  },
  {
   "cell_type": "code",
   "execution_count": 6,
   "metadata": {
    "collapsed": true
   },
   "outputs": [],
   "source": [
    "# # Keep this for reference!\n",
    "# # As of Dec 31st, 2019, I compared the clean to the raw version of citation and patent ids\n",
    "\n",
    "# #stripping non-desired characters but keeping the originals for later check - only three changes in citation_id\n",
    "\n",
    "wipo_df['patent_id_raw']=wipo_df['patent_id']\n",
    "\n",
    "cleaning_patent=lambda x:re.sub('([^a-zA-Z0-9]+)', \"\", x)\n",
    "wipo_df['patent_id']=wipo_df['patent_id'].apply(cleaning_patent)"
   ]
  },
  {
   "cell_type": "code",
   "execution_count": 7,
   "metadata": {
    "collapsed": true
   },
   "outputs": [],
   "source": [
    "#first, construct a table with wipo categories in columns, patent level\n",
    "#second, "
   ]
  },
  {
   "cell_type": "code",
   "execution_count": 8,
   "metadata": {
    "collapsed": false
   },
   "outputs": [
    {
     "data": {
      "text/plain": [
       "patent_id        object\n",
       "field_id         object\n",
       "sequence         object\n",
       "patent_id_raw    object\n",
       "dtype: object"
      ]
     },
     "execution_count": 8,
     "metadata": {},
     "output_type": "execute_result"
    }
   ],
   "source": [
    "wipo_df.dtypes"
   ]
  },
  {
   "cell_type": "code",
   "execution_count": 9,
   "metadata": {
    "collapsed": false
   },
   "outputs": [
    {
     "data": {
      "text/html": [
       "<div>\n",
       "<table border=\"1\" class=\"dataframe\">\n",
       "  <thead>\n",
       "    <tr style=\"text-align: right;\">\n",
       "      <th></th>\n",
       "      <th>patent_id</th>\n",
       "      <th>field_id</th>\n",
       "      <th>patent_id_raw</th>\n",
       "    </tr>\n",
       "    <tr>\n",
       "      <th>sequence</th>\n",
       "      <th></th>\n",
       "      <th></th>\n",
       "      <th></th>\n",
       "    </tr>\n",
       "  </thead>\n",
       "  <tbody>\n",
       "    <tr>\n",
       "      <th>0</th>\n",
       "      <td>6441314</td>\n",
       "      <td>6441314</td>\n",
       "      <td>6441314</td>\n",
       "    </tr>\n",
       "    <tr>\n",
       "      <th>1</th>\n",
       "      <td>2032186</td>\n",
       "      <td>2032186</td>\n",
       "      <td>2032186</td>\n",
       "    </tr>\n",
       "    <tr>\n",
       "      <th>10</th>\n",
       "      <td>95</td>\n",
       "      <td>95</td>\n",
       "      <td>95</td>\n",
       "    </tr>\n",
       "    <tr>\n",
       "      <th>11</th>\n",
       "      <td>26</td>\n",
       "      <td>26</td>\n",
       "      <td>26</td>\n",
       "    </tr>\n",
       "    <tr>\n",
       "      <th>12</th>\n",
       "      <td>26</td>\n",
       "      <td>26</td>\n",
       "      <td>26</td>\n",
       "    </tr>\n",
       "    <tr>\n",
       "      <th>13</th>\n",
       "      <td>12</td>\n",
       "      <td>12</td>\n",
       "      <td>12</td>\n",
       "    </tr>\n",
       "    <tr>\n",
       "      <th>2</th>\n",
       "      <td>449147</td>\n",
       "      <td>449147</td>\n",
       "      <td>449147</td>\n",
       "    </tr>\n",
       "    <tr>\n",
       "      <th>3</th>\n",
       "      <td>96764</td>\n",
       "      <td>96764</td>\n",
       "      <td>96764</td>\n",
       "    </tr>\n",
       "    <tr>\n",
       "      <th>4</th>\n",
       "      <td>22529</td>\n",
       "      <td>22529</td>\n",
       "      <td>22529</td>\n",
       "    </tr>\n",
       "    <tr>\n",
       "      <th>5</th>\n",
       "      <td>6794</td>\n",
       "      <td>6794</td>\n",
       "      <td>6794</td>\n",
       "    </tr>\n",
       "    <tr>\n",
       "      <th>6</th>\n",
       "      <td>2401</td>\n",
       "      <td>2401</td>\n",
       "      <td>2401</td>\n",
       "    </tr>\n",
       "    <tr>\n",
       "      <th>7</th>\n",
       "      <td>1053</td>\n",
       "      <td>1053</td>\n",
       "      <td>1053</td>\n",
       "    </tr>\n",
       "    <tr>\n",
       "      <th>8</th>\n",
       "      <td>554</td>\n",
       "      <td>554</td>\n",
       "      <td>554</td>\n",
       "    </tr>\n",
       "    <tr>\n",
       "      <th>9</th>\n",
       "      <td>178</td>\n",
       "      <td>178</td>\n",
       "      <td>178</td>\n",
       "    </tr>\n",
       "  </tbody>\n",
       "</table>\n",
       "</div>"
      ],
      "text/plain": [
       "          patent_id  field_id  patent_id_raw\n",
       "sequence                                    \n",
       "0           6441314   6441314        6441314\n",
       "1           2032186   2032186        2032186\n",
       "10               95        95             95\n",
       "11               26        26             26\n",
       "12               26        26             26\n",
       "13               12        12             12\n",
       "2            449147    449147         449147\n",
       "3             96764     96764          96764\n",
       "4             22529     22529          22529\n",
       "5              6794      6794           6794\n",
       "6              2401      2401           2401\n",
       "7              1053      1053           1053\n",
       "8               554       554            554\n",
       "9               178       178            178"
      ]
     },
     "execution_count": 9,
     "metadata": {},
     "output_type": "execute_result"
    }
   ],
   "source": [
    "wipo_df.groupby('sequence').patent_id.count()"
   ]
  },
  {
   "cell_type": "code",
   "execution_count": null,
   "metadata": {
    "collapsed": true
   },
   "outputs": [],
   "source": [
    "wipo_first_class=wipo_df[wipo_df['sequence']=='0'][['patent_id', 'field_id']]"
   ]
  },
  {
   "cell_type": "code",
   "execution_count": null,
   "metadata": {
    "collapsed": true
   },
   "outputs": [],
   "source": [
    "wipo_first_class.field_id.value_counts()"
   ]
  },
  {
   "cell_type": "code",
   "execution_count": 10,
   "metadata": {
    "collapsed": true
   },
   "outputs": [],
   "source": [
    "wipo_first_class.to_csv(dst_first_class)"
   ]
  },
  {
   "cell_type": "code",
   "execution_count": 11,
   "metadata": {
    "collapsed": false
   },
   "outputs": [],
   "source": [
    "# wipo_df = pd.get_dummies(wipo_df, columns=['field_id'])"
   ]
  },
  {
   "cell_type": "code",
   "execution_count": 12,
   "metadata": {
    "collapsed": true
   },
   "outputs": [],
   "source": [
    "# wipo_df=wipo_df.groupby('patent_id').sum()"
   ]
  },
  {
   "cell_type": "code",
   "execution_count": 13,
   "metadata": {
    "collapsed": true
   },
   "outputs": [],
   "source": [
    "# wipo_df.to_csv(dst)"
   ]
  }
 ],
 "metadata": {
  "anaconda-cloud": {},
  "kernelspec": {
   "display_name": "Python [default]",
   "language": "python",
   "name": "python3"
  },
  "language_info": {
   "codemirror_mode": {
    "name": "ipython",
    "version": 3
   },
   "file_extension": ".py",
   "mimetype": "text/x-python",
   "name": "python",
   "nbconvert_exporter": "python",
   "pygments_lexer": "ipython3",
   "version": "3.5.2"
  }
 },
 "nbformat": 4,
 "nbformat_minor": 1
}
