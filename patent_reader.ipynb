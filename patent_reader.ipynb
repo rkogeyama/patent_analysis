{
 "cells": [
  {
   "cell_type": "code",
   "execution_count": 1,
   "metadata": {
    "collapsed": true
   },
   "outputs": [],
   "source": [
    "# Script to read patent data"
   ]
  },
  {
   "cell_type": "code",
   "execution_count": 2,
   "metadata": {
    "collapsed": true
   },
   "outputs": [],
   "source": [
    "import sys\n",
    "sys.path.append('/home/rkogeyam/scripts/')\n",
    "from sampler import sampler\n",
    "\n",
    "import pandas as pd\n"
   ]
  },
  {
   "cell_type": "code",
   "execution_count": 3,
   "metadata": {
    "collapsed": true
   },
   "outputs": [],
   "source": [
    "# from the data dictionary\n",
    "\n"
   ]
  },
  {
   "cell_type": "code",
   "execution_count": 4,
   "metadata": {
    "collapsed": true
   },
   "outputs": [],
   "source": [
    "fname = r'/home/rkogeyam/PATENT_CITATION/data/patent.csv'"
   ]
  },
  {
   "cell_type": "code",
   "execution_count": 5,
   "metadata": {
    "collapsed": true
   },
   "outputs": [],
   "source": [
    "sample_size=100\n",
    "    df=sampler(fname, sample_size, sep='\\t')"
   ]
  },
  {
   "cell_type": "code",
   "execution_count": 6,
   "metadata": {
    "collapsed": false
   },
   "outputs": [
    {
     "data": {
      "text/html": [
       "<div>\n",
       "<table border=\"1\" class=\"dataframe\">\n",
       "  <thead>\n",
       "    <tr style=\"text-align: right;\">\n",
       "      <th></th>\n",
       "      <th>id</th>\n",
       "      <th>type</th>\n",
       "      <th>number</th>\n",
       "      <th>country</th>\n",
       "      <th>date</th>\n",
       "      <th>abstract</th>\n",
       "      <th>title</th>\n",
       "      <th>num_claims</th>\n",
       "      <th>filename</th>\n",
       "    </tr>\n",
       "    <tr>\n",
       "      <th>kind</th>\n",
       "      <th></th>\n",
       "      <th></th>\n",
       "      <th></th>\n",
       "      <th></th>\n",
       "      <th></th>\n",
       "      <th></th>\n",
       "      <th></th>\n",
       "      <th></th>\n",
       "      <th></th>\n",
       "    </tr>\n",
       "  </thead>\n",
       "  <tbody>\n",
       "    <tr>\n",
       "      <th>A</th>\n",
       "      <td>39</td>\n",
       "      <td>39</td>\n",
       "      <td>39</td>\n",
       "      <td>39</td>\n",
       "      <td>39</td>\n",
       "      <td>39</td>\n",
       "      <td>39</td>\n",
       "      <td>39</td>\n",
       "      <td>39</td>\n",
       "    </tr>\n",
       "    <tr>\n",
       "      <th>B1</th>\n",
       "      <td>10</td>\n",
       "      <td>10</td>\n",
       "      <td>10</td>\n",
       "      <td>10</td>\n",
       "      <td>10</td>\n",
       "      <td>10</td>\n",
       "      <td>10</td>\n",
       "      <td>10</td>\n",
       "      <td>10</td>\n",
       "    </tr>\n",
       "    <tr>\n",
       "      <th>B2</th>\n",
       "      <td>35</td>\n",
       "      <td>35</td>\n",
       "      <td>35</td>\n",
       "      <td>35</td>\n",
       "      <td>35</td>\n",
       "      <td>35</td>\n",
       "      <td>35</td>\n",
       "      <td>35</td>\n",
       "      <td>35</td>\n",
       "    </tr>\n",
       "    <tr>\n",
       "      <th>E</th>\n",
       "      <td>1</td>\n",
       "      <td>1</td>\n",
       "      <td>1</td>\n",
       "      <td>1</td>\n",
       "      <td>1</td>\n",
       "      <td>1</td>\n",
       "      <td>1</td>\n",
       "      <td>1</td>\n",
       "      <td>1</td>\n",
       "    </tr>\n",
       "    <tr>\n",
       "      <th>P</th>\n",
       "      <td>1</td>\n",
       "      <td>1</td>\n",
       "      <td>1</td>\n",
       "      <td>1</td>\n",
       "      <td>1</td>\n",
       "      <td>1</td>\n",
       "      <td>1</td>\n",
       "      <td>1</td>\n",
       "      <td>1</td>\n",
       "    </tr>\n",
       "    <tr>\n",
       "      <th>S</th>\n",
       "      <td>4</td>\n",
       "      <td>4</td>\n",
       "      <td>4</td>\n",
       "      <td>4</td>\n",
       "      <td>4</td>\n",
       "      <td>0</td>\n",
       "      <td>4</td>\n",
       "      <td>4</td>\n",
       "      <td>4</td>\n",
       "    </tr>\n",
       "    <tr>\n",
       "      <th>S1</th>\n",
       "      <td>7</td>\n",
       "      <td>7</td>\n",
       "      <td>7</td>\n",
       "      <td>7</td>\n",
       "      <td>7</td>\n",
       "      <td>0</td>\n",
       "      <td>7</td>\n",
       "      <td>7</td>\n",
       "      <td>7</td>\n",
       "    </tr>\n",
       "  </tbody>\n",
       "</table>\n",
       "</div>"
      ],
      "text/plain": [
       "      id  type  number  country  date  abstract  title  num_claims  filename\n",
       "kind                                                                        \n",
       "A     39    39      39       39    39        39     39          39        39\n",
       "B1    10    10      10       10    10        10     10          10        10\n",
       "B2    35    35      35       35    35        35     35          35        35\n",
       "E      1     1       1        1     1         1      1           1         1\n",
       "P      1     1       1        1     1         1      1           1         1\n",
       "S      4     4       4        4     4         0      4           4         4\n",
       "S1     7     7       7        7     7         0      7           7         7"
      ]
     },
     "execution_count": 6,
     "metadata": {},
     "output_type": "execute_result"
    }
   ],
   "source": [
    "df.groupby('kind').count()"
   ]
  },
  {
   "cell_type": "code",
   "execution_count": 7,
   "metadata": {
    "collapsed": false
   },
   "outputs": [
    {
     "data": {
      "text/html": [
       "<div>\n",
       "<table border=\"1\" class=\"dataframe\">\n",
       "  <thead>\n",
       "    <tr style=\"text-align: right;\">\n",
       "      <th></th>\n",
       "      <th>id</th>\n",
       "      <th>type</th>\n",
       "      <th>number</th>\n",
       "      <th>country</th>\n",
       "      <th>date</th>\n",
       "      <th>abstract</th>\n",
       "      <th>title</th>\n",
       "      <th>kind</th>\n",
       "      <th>num_claims</th>\n",
       "      <th>filename</th>\n",
       "    </tr>\n",
       "  </thead>\n",
       "  <tbody>\n",
       "    <tr>\n",
       "      <th>0</th>\n",
       "      <td>3945679</td>\n",
       "      <td>utility</td>\n",
       "      <td>3945679</td>\n",
       "      <td>US</td>\n",
       "      <td>1976-03-23</td>\n",
       "      <td>In producing shale oil by circulating hot flu...</td>\n",
       "      <td>Subterranean oil shale pyrolysis with permeati...</td>\n",
       "      <td>A</td>\n",
       "      <td>4</td>\n",
       "      <td>pftaps19760323_wk12.zip</td>\n",
       "    </tr>\n",
       "    <tr>\n",
       "      <th>1</th>\n",
       "      <td>4130317</td>\n",
       "      <td>utility</td>\n",
       "      <td>4130317</td>\n",
       "      <td>US</td>\n",
       "      <td>1978-12-19</td>\n",
       "      <td>Disclosed herein is a structure for the holdi...</td>\n",
       "      <td>Sun-cut glass clamping device for automobiles</td>\n",
       "      <td>A</td>\n",
       "      <td>3</td>\n",
       "      <td>pftaps19781219_wk51.zip</td>\n",
       "    </tr>\n",
       "    <tr>\n",
       "      <th>2</th>\n",
       "      <td>4220934</td>\n",
       "      <td>utility</td>\n",
       "      <td>4220934</td>\n",
       "      <td>US</td>\n",
       "      <td>1980-09-02</td>\n",
       "      <td>A current limiting circuit interrupter compri...</td>\n",
       "      <td>Current limiting circuit breaker with integral...</td>\n",
       "      <td>A</td>\n",
       "      <td>6</td>\n",
       "      <td>pftaps19800902_wk36.zip</td>\n",
       "    </tr>\n",
       "    <tr>\n",
       "      <th>3</th>\n",
       "      <td>4305296</td>\n",
       "      <td>utility</td>\n",
       "      <td>4305296</td>\n",
       "      <td>US</td>\n",
       "      <td>1981-12-15</td>\n",
       "      <td>Method and apparatus for pulsed ultrasonic im...</td>\n",
       "      <td>Ultrasonic imaging method and apparatus with e...</td>\n",
       "      <td>A</td>\n",
       "      <td>28</td>\n",
       "      <td>pftaps19811215_wk50.zip</td>\n",
       "    </tr>\n",
       "    <tr>\n",
       "      <th>4</th>\n",
       "      <td>4324152</td>\n",
       "      <td>utility</td>\n",
       "      <td>4324152</td>\n",
       "      <td>US</td>\n",
       "      <td>1982-04-13</td>\n",
       "      <td>Disclosed herein is a sealing device for a ma...</td>\n",
       "      <td>Sealing device for a manual transmission for a...</td>\n",
       "      <td>A</td>\n",
       "      <td>7</td>\n",
       "      <td>pftaps19820413_wk15.zip</td>\n",
       "    </tr>\n",
       "  </tbody>\n",
       "</table>\n",
       "</div>"
      ],
      "text/plain": [
       "        id     type   number country        date  \\\n",
       "0  3945679  utility  3945679      US  1976-03-23   \n",
       "1  4130317  utility  4130317      US  1978-12-19   \n",
       "2  4220934  utility  4220934      US  1980-09-02   \n",
       "3  4305296  utility  4305296      US  1981-12-15   \n",
       "4  4324152  utility  4324152      US  1982-04-13   \n",
       "\n",
       "                                            abstract  \\\n",
       "0   In producing shale oil by circulating hot flu...   \n",
       "1   Disclosed herein is a structure for the holdi...   \n",
       "2   A current limiting circuit interrupter compri...   \n",
       "3   Method and apparatus for pulsed ultrasonic im...   \n",
       "4   Disclosed herein is a sealing device for a ma...   \n",
       "\n",
       "                                               title kind  num_claims  \\\n",
       "0  Subterranean oil shale pyrolysis with permeati...    A           4   \n",
       "1      Sun-cut glass clamping device for automobiles    A           3   \n",
       "2  Current limiting circuit breaker with integral...    A           6   \n",
       "3  Ultrasonic imaging method and apparatus with e...    A          28   \n",
       "4  Sealing device for a manual transmission for a...    A           7   \n",
       "\n",
       "                  filename  \n",
       "0  pftaps19760323_wk12.zip  \n",
       "1  pftaps19781219_wk51.zip  \n",
       "2  pftaps19800902_wk36.zip  \n",
       "3  pftaps19811215_wk50.zip  \n",
       "4  pftaps19820413_wk15.zip  "
      ]
     },
     "execution_count": 7,
     "metadata": {},
     "output_type": "execute_result"
    }
   ],
   "source": [
    "df.head()"
   ]
  },
  {
   "cell_type": "code",
   "execution_count": null,
   "metadata": {
    "collapsed": true
   },
   "outputs": [],
   "source": []
  }
 ],
 "metadata": {
  "anaconda-cloud": {},
  "kernelspec": {
   "display_name": "Python [default]",
   "language": "python",
   "name": "python3"
  },
  "language_info": {
   "codemirror_mode": {
    "name": "ipython",
    "version": 3
   },
   "file_extension": ".py",
   "mimetype": "text/x-python",
   "name": "python",
   "nbconvert_exporter": "python",
   "pygments_lexer": "ipython3",
   "version": "3.5.2"
  }
 },
 "nbformat": 4,
 "nbformat_minor": 1
}
