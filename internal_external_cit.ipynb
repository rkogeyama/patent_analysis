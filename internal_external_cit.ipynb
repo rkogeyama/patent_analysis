{
 "cells": [
  {
   "cell_type": "code",
   "execution_count": 1,
   "metadata": {
    "collapsed": true
   },
   "outputs": [],
   "source": [
    "# February 12st, 2020\n",
    "# This script compares classification in each classification system\n",
    "# Second level matches specifications of Nemet and Johnson 2012\n"
   ]
  },
  {
   "cell_type": "code",
   "execution_count": 2,
   "metadata": {
    "collapsed": false
   },
   "outputs": [],
   "source": [
    "import pandas as pd\n",
    "import numpy as np\n",
    "import matplotlib.pyplot as plt\n",
    "import datetime\n",
    "import seaborn as sns\n",
    "\n",
    "import sys\n",
    "sys.path.append('/home/rkogeyam/scripts/')\n",
    "sys.path.append('scripts/')\n",
    "\n",
    "# from determinants_scripts import classes, dtypes\n",
    "\n",
    "from classification import preprocessing\n",
    "\n",
    "import gzip\n",
    "\n",
    "citation='data/cleanuspatentcitation.csv.gz'\n",
    "\n",
    "usecols=['uuid', 'patent_id', 'citation_id']\n",
    "\n",
    "file_cit=gzip.open(citation, 'rt')\n",
    "# citation_df=pd.read_csv(file_cit, usecols=usecols, nrows=100000)\n",
    "citation_df=pd.read_csv(file_cit, usecols=usecols)\n"
   ]
  },
  {
   "cell_type": "code",
   "execution_count": 3,
   "metadata": {
    "collapsed": true
   },
   "outputs": [],
   "source": [
    "# class_systems=['wipo']\n",
    "# class_systems=['wipo', 'ipcr', 'cpc', 'nber']"
   ]
  },
  {
   "cell_type": "code",
   "execution_count": 4,
   "metadata": {
    "collapsed": false
   },
   "outputs": [
    {
     "name": "stdout",
     "output_type": "stream",
     "text": [
      "CPU times: user 6min 20s, sys: 6.79 s, total: 6min 26s\n",
      "Wall time: 6min 26s\n"
     ]
    }
   ],
   "source": [
    "%%time\n",
    "# This approach uses too much memory\n",
    "# Try something else\n",
    "\n",
    "class_system='wipo'\n",
    "    \n",
    "classification = 'data/'+class_system+'.csv.gz'\n",
    "file_class=gzip.open(classification, 'rt')\n",
    "class_df=pd.read_csv(file_class, dtype=object, usecols=[0,1,2])\n",
    "\n",
    "#join class to patent_id\n",
    "df=preprocessing(class_df, citation_df)\n",
    "df.rename(columns={df.columns[2]:'level1_pat', df.columns[3]:'level2_pat'}, inplace=True)"
   ]
  },
  {
   "cell_type": "code",
   "execution_count": 5,
   "metadata": {
    "collapsed": false
   },
   "outputs": [],
   "source": [
    "class_df.reset_index(inplace=True)"
   ]
  },
  {
   "cell_type": "code",
   "execution_count": 6,
   "metadata": {
    "collapsed": false
   },
   "outputs": [],
   "source": [
    "#join class to citation_id\n",
    "df=preprocessing(class_df, df, generality=False)"
   ]
  },
  {
   "cell_type": "code",
   "execution_count": 7,
   "metadata": {
    "collapsed": true
   },
   "outputs": [],
   "source": [
    "#classify far external \n",
    "far_ext=class_system+'_far_ext'\n",
    "df[far_ext]=np.where(df['level1_pat'] != df[df.columns[3]], 1, 0)\n",
    "\n",
    "#classify external\n",
    "ext=class_system+'_ext'\n",
    "df[ext]=np.where(df['level2_pat'] != df[df.columns[4]], 1, 0)"
   ]
  },
  {
   "cell_type": "code",
   "execution_count": 8,
   "metadata": {
    "collapsed": false
   },
   "outputs": [
    {
     "name": "stdout",
     "output_type": "stream",
     "text": [
      "<class 'pandas.core.frame.DataFrame'>\n",
      "RangeIndex: 84611970 entries, 0 to 84611969\n",
      "Data columns (total 8 columns):\n",
      "index             object\n",
      "uuid              object\n",
      "level1_pat        object\n",
      "level2_pat        object\n",
      "wipo_sector_id    object\n",
      "wipo_field_id     object\n",
      "wipo_far_ext      int64\n",
      "wipo_ext          int64\n",
      "dtypes: int64(2), object(6)\n",
      "memory usage: 5.0+ GB\n"
     ]
    }
   ],
   "source": [
    "df.reset_index(inplace=True)\n",
    "df.info()"
   ]
  },
  {
   "cell_type": "code",
   "execution_count": 9,
   "metadata": {
    "collapsed": false
   },
   "outputs": [],
   "source": [
    "df=df.groupby(['index'])['wipo_far_ext','wipo_ext'].sum()\n",
    "# df=df[['uuid', far_ext, ext]].set_index('uuid')\n",
    "# print(df.head())\n",
    "\n",
    "# #generate the output df if wipo, join if others\n",
    "# if class_system=='wipo':\n",
    "#     output=df\n",
    "# else:\n",
    "#     output=output.join(df)\n",
    "        "
   ]
  },
  {
   "cell_type": "code",
   "execution_count": 10,
   "metadata": {
    "collapsed": false
   },
   "outputs": [],
   "source": [
    "# %%time\n",
    "# # This approach uses too much memory\n",
    "# # Try something else\n",
    "\n",
    "# for class_system in class_systems:\n",
    "    \n",
    "#     classification = 'data/'+class_system+'.csv.gz'\n",
    "#     file_class=gzip.open(classification, 'rt')\n",
    "#     class_df=pd.read_csv(file_class, dtype=object, usecols=[0,1,2])\n",
    "    \n",
    "#     #join class to patent_id\n",
    "#     df=preprocessing(class_df, citation_df)\n",
    "#     df.rename(columns={df.columns[2]:'level1_pat', df.columns[3]:'level2_pat'}, inplace=True)\n",
    "    \n",
    "#     #join class to citation_id\n",
    "#     df=preprocessing(class_df, df, generality=False)\n",
    "    \n",
    "    \n",
    "#     #classify far external \n",
    "#     far_ext=class_system+'_far_ext'\n",
    "#     df[far_ext]=np.where(df['level1_pat'] != df[df.columns[3]], 1, 0)\n",
    "    \n",
    "#     #classify external\n",
    "#     ext=class_system+'_ext'\n",
    "#     df[ext]=np.where(df['level2_pat'] != df[df.columns[4]], 1, 0)\n",
    "    \n",
    "#     df=df[['uuid', far_ext, ext]].set_index('uuid')\n",
    "#     print(df.head())\n",
    "\n",
    "#     #generate the output df if wipo, join if others\n",
    "#     if class_system=='wipo':\n",
    "#         output=df\n",
    "#     else:\n",
    "#         output=output.join(df)\n",
    "        "
   ]
  },
  {
   "cell_type": "code",
   "execution_count": 11,
   "metadata": {
    "collapsed": false
   },
   "outputs": [
    {
     "name": "stdout",
     "output_type": "stream",
     "text": [
      "<class 'pandas.core.frame.DataFrame'>\n",
      "Index: 4788367 entries, 10000006 to 9999986\n",
      "Data columns (total 2 columns):\n",
      "wipo_far_ext    int64\n",
      "wipo_ext        int64\n",
      "dtypes: int64(2)\n",
      "memory usage: 109.6+ MB\n"
     ]
    }
   ],
   "source": [
    "# output.info()\n",
    "df.info()"
   ]
  },
  {
   "cell_type": "code",
   "execution_count": 12,
   "metadata": {
    "collapsed": false
   },
   "outputs": [],
   "source": [
    "# output.describe()"
   ]
  },
  {
   "cell_type": "code",
   "execution_count": 13,
   "metadata": {
    "collapsed": false
   },
   "outputs": [],
   "source": [
    "df.to_csv('data/internal_external_citation.csv.gz', compression='gzip')"
   ]
  }
 ],
 "metadata": {
  "anaconda-cloud": {},
  "kernelspec": {
   "display_name": "Python [default]",
   "language": "python",
   "name": "python3"
  },
  "language_info": {
   "codemirror_mode": {
    "name": "ipython",
    "version": 3
   },
   "file_extension": ".py",
   "mimetype": "text/x-python",
   "name": "python",
   "nbconvert_exporter": "python",
   "pygments_lexer": "ipython3",
   "version": "3.5.2"
  }
 },
 "nbformat": 4,
 "nbformat_minor": 1
}
