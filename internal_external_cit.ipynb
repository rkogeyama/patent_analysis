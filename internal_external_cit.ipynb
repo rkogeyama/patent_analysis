{
 "cells": [
  {
   "cell_type": "code",
   "execution_count": 1,
   "metadata": {
    "collapsed": true
   },
   "outputs": [],
   "source": [
    "# February 12st, 2020\n",
    "# This script compares classification in each classification system\n",
    "# Second level matches specifications of Nemet and Johnson 2012\n"
   ]
  },
  {
   "cell_type": "code",
   "execution_count": 2,
   "metadata": {
    "collapsed": false
   },
   "outputs": [],
   "source": [
    "import pandas as pd\n",
    "import numpy as np\n",
    "import matplotlib.pyplot as plt\n",
    "import datetime\n",
    "import seaborn as sns\n",
    "\n",
    "import sys\n",
    "sys.path.append('/home/rkogeyam/scripts/')\n",
    "sys.path.append('scripts/')\n",
    "\n",
    "# from determinants_scripts import classes, dtypes\n",
    "\n",
    "from classification import preprocessing\n",
    "\n",
    "import gzip\n",
    "\n",
    "citation='data/cleanuspatentcitation.csv.gz'\n",
    "\n",
    "usecols=['uuid', 'patent_id', 'citation_id']\n",
    "\n",
    "file_cit=gzip.open(citation, 'rt')\n",
    "# citation_df=pd.read_csv(file_cit, usecols=usecols, nrows=100000)\n",
    "citation_df=pd.read_csv(file_cit, usecols=usecols)\n"
   ]
  },
  {
   "cell_type": "code",
   "execution_count": 3,
   "metadata": {
    "collapsed": true
   },
   "outputs": [],
   "source": [
    "# class_systems=['wipo']\n",
    "# class_systems=['wipo', 'ipcr', 'cpc', 'nber']"
   ]
  },
  {
   "cell_type": "code",
   "execution_count": 4,
   "metadata": {
    "collapsed": false
   },
   "outputs": [
    {
     "name": "stdout",
     "output_type": "stream",
     "text": [
      "CPU times: user 29.1 s, sys: 861 ms, total: 30 s\n",
      "Wall time: 29.9 s\n"
     ]
    }
   ],
   "source": [
    "%%time\n",
    "# This approach uses too much memory\n",
    "# Try something else\n",
    "\n",
    "class_system='wipo'\n",
    "    \n",
    "classification = 'data/'+class_system+'.csv.gz'\n",
    "file_class=gzip.open(classification, 'rt')\n",
    "class_df=pd.read_csv(file_class, dtype=object, usecols=[0,1,2])\n",
    "\n",
    "#join class to patent_id\n",
    "df=preprocessing(class_df, citation_df)\n",
    "df.rename(columns={df.columns[2]:'level1_pat', df.columns[3]:'level2_pat'}, inplace=True)"
   ]
  },
  {
   "cell_type": "code",
   "execution_count": 5,
   "metadata": {
    "collapsed": false
   },
   "outputs": [],
   "source": [
    "class_df.reset_index(inplace=True)"
   ]
  },
  {
   "cell_type": "code",
   "execution_count": 6,
   "metadata": {
    "collapsed": false
   },
   "outputs": [],
   "source": [
    "#join class to citation_id\n",
    "df=preprocessing(class_df, df, generality=False)"
   ]
  },
  {
   "cell_type": "code",
   "execution_count": 7,
   "metadata": {
    "collapsed": false
   },
   "outputs": [
    {
     "name": "stdout",
     "output_type": "stream",
     "text": [
      "                           wipo_far_ext  wipo_ext\n",
      "uuid                                             \n",
      "0039pu9re4ynfr27uoqzn0i9b             0         0\n",
      "00l0w5x2m3iw3h9l951t67lr4             0         0\n",
      "00l8rnm5yieddwgbuam780gok             0         1\n",
      "00ypbyofc9vkv4lx28dbpu1ao             0         0\n",
      "0110d1ffwdqtnoe6rpujbbsk4             0         1\n"
     ]
    }
   ],
   "source": [
    "#classify far external \n",
    "far_ext=class_system+'_far_ext'\n",
    "df[far_ext]=np.where(df['level1_pat'] != df[df.columns[3]], 1, 0)\n",
    "\n",
    "#classify external\n",
    "ext=class_system+'_ext'\n",
    "df[ext]=np.where(df['level2_pat'] != df[df.columns[4]], 1, 0)\n",
    "\n",
    "df=df[['uuid', far_ext, ext]].set_index('uuid')\n",
    "print(df.head())\n",
    "\n",
    "#generate the output df if wipo, join if others\n",
    "if class_system=='wipo':\n",
    "    output=df\n",
    "else:\n",
    "    output=output.join(df)\n",
    "        "
   ]
  },
  {
   "cell_type": "code",
   "execution_count": 8,
   "metadata": {
    "collapsed": false
   },
   "outputs": [],
   "source": [
    "# %%time\n",
    "# # This approach uses too much memory\n",
    "# # Try something else\n",
    "\n",
    "# for class_system in class_systems:\n",
    "    \n",
    "#     classification = 'data/'+class_system+'.csv.gz'\n",
    "#     file_class=gzip.open(classification, 'rt')\n",
    "#     class_df=pd.read_csv(file_class, dtype=object, usecols=[0,1,2])\n",
    "    \n",
    "#     #join class to patent_id\n",
    "#     df=preprocessing(class_df, citation_df)\n",
    "#     df.rename(columns={df.columns[2]:'level1_pat', df.columns[3]:'level2_pat'}, inplace=True)\n",
    "    \n",
    "#     #join class to citation_id\n",
    "#     df=preprocessing(class_df, df, generality=False)\n",
    "    \n",
    "    \n",
    "#     #classify far external \n",
    "#     far_ext=class_system+'_far_ext'\n",
    "#     df[far_ext]=np.where(df['level1_pat'] != df[df.columns[3]], 1, 0)\n",
    "    \n",
    "#     #classify external\n",
    "#     ext=class_system+'_ext'\n",
    "#     df[ext]=np.where(df['level2_pat'] != df[df.columns[4]], 1, 0)\n",
    "    \n",
    "#     df=df[['uuid', far_ext, ext]].set_index('uuid')\n",
    "#     print(df.head())\n",
    "\n",
    "#     #generate the output df if wipo, join if others\n",
    "#     if class_system=='wipo':\n",
    "#         output=df\n",
    "#     else:\n",
    "#         output=output.join(df)\n",
    "        "
   ]
  },
  {
   "cell_type": "code",
   "execution_count": 9,
   "metadata": {
    "collapsed": false
   },
   "outputs": [
    {
     "name": "stdout",
     "output_type": "stream",
     "text": [
      "<class 'pandas.core.frame.DataFrame'>\n",
      "Index: 77667 entries, 0039pu9re4ynfr27uoqzn0i9b to 00t6izymo7jy6kj4znwvkkuoq\n",
      "Data columns (total 2 columns):\n",
      "wipo_far_ext    77667 non-null int64\n",
      "wipo_ext        77667 non-null int64\n",
      "dtypes: int64(2)\n",
      "memory usage: 1.8+ MB\n"
     ]
    }
   ],
   "source": [
    "output.info()"
   ]
  },
  {
   "cell_type": "code",
   "execution_count": 10,
   "metadata": {
    "collapsed": false
   },
   "outputs": [
    {
     "data": {
      "text/html": [
       "<div>\n",
       "<table border=\"1\" class=\"dataframe\">\n",
       "  <thead>\n",
       "    <tr style=\"text-align: right;\">\n",
       "      <th></th>\n",
       "      <th>wipo_far_ext</th>\n",
       "      <th>wipo_ext</th>\n",
       "    </tr>\n",
       "  </thead>\n",
       "  <tbody>\n",
       "    <tr>\n",
       "      <th>count</th>\n",
       "      <td>77667.000000</td>\n",
       "      <td>77667.000000</td>\n",
       "    </tr>\n",
       "    <tr>\n",
       "      <th>mean</th>\n",
       "      <td>0.200227</td>\n",
       "      <td>0.374419</td>\n",
       "    </tr>\n",
       "    <tr>\n",
       "      <th>std</th>\n",
       "      <td>0.400172</td>\n",
       "      <td>0.483976</td>\n",
       "    </tr>\n",
       "    <tr>\n",
       "      <th>min</th>\n",
       "      <td>0.000000</td>\n",
       "      <td>0.000000</td>\n",
       "    </tr>\n",
       "    <tr>\n",
       "      <th>25%</th>\n",
       "      <td>0.000000</td>\n",
       "      <td>0.000000</td>\n",
       "    </tr>\n",
       "    <tr>\n",
       "      <th>50%</th>\n",
       "      <td>0.000000</td>\n",
       "      <td>0.000000</td>\n",
       "    </tr>\n",
       "    <tr>\n",
       "      <th>75%</th>\n",
       "      <td>0.000000</td>\n",
       "      <td>1.000000</td>\n",
       "    </tr>\n",
       "    <tr>\n",
       "      <th>max</th>\n",
       "      <td>1.000000</td>\n",
       "      <td>1.000000</td>\n",
       "    </tr>\n",
       "  </tbody>\n",
       "</table>\n",
       "</div>"
      ],
      "text/plain": [
       "       wipo_far_ext      wipo_ext\n",
       "count  77667.000000  77667.000000\n",
       "mean       0.200227      0.374419\n",
       "std        0.400172      0.483976\n",
       "min        0.000000      0.000000\n",
       "25%        0.000000      0.000000\n",
       "50%        0.000000      0.000000\n",
       "75%        0.000000      1.000000\n",
       "max        1.000000      1.000000"
      ]
     },
     "execution_count": 10,
     "metadata": {},
     "output_type": "execute_result"
    }
   ],
   "source": [
    "output.describe()"
   ]
  },
  {
   "cell_type": "code",
   "execution_count": 11,
   "metadata": {
    "collapsed": false
   },
   "outputs": [],
   "source": [
    "output.to_csv('data/internal_external_citation.csv.gz', compression='gzip')"
   ]
  }
 ],
 "metadata": {
  "anaconda-cloud": {},
  "kernelspec": {
   "display_name": "Python [default]",
   "language": "python",
   "name": "python3"
  },
  "language_info": {
   "codemirror_mode": {
    "name": "ipython",
    "version": 3
   },
   "file_extension": ".py",
   "mimetype": "text/x-python",
   "name": "python",
   "nbconvert_exporter": "python",
   "pygments_lexer": "ipython3",
   "version": "3.5.2"
  }
 },
 "nbformat": 4,
 "nbformat_minor": 1
}
