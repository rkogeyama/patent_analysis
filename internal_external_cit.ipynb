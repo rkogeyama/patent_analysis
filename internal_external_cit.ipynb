{
 "cells": [
  {
   "cell_type": "code",
   "execution_count": 1,
   "metadata": {
    "collapsed": true
   },
   "outputs": [],
   "source": [
    "# February 12st, 2020\n",
    "# This script compares classification in each classification system\n",
    "# Second level matches specifications of Nemet and Johnson 2012\n"
   ]
  },
  {
   "cell_type": "code",
   "execution_count": 2,
   "metadata": {
    "collapsed": false
   },
   "outputs": [],
   "source": [
    "import pandas as pd\n",
    "import numpy as np\n",
    "import matplotlib.pyplot as plt\n",
    "import datetime\n",
    "import seaborn as sns\n",
    "\n",
    "import sys\n",
    "sys.path.append('/home/rkogeyam/scripts/')\n",
    "sys.path.append('scripts/')\n",
    "\n",
    "from determinants_scripts import classes, dtypes\n",
    "\n",
    "from classification import preprocessing\n",
    "\n",
    "citation='data/cleanuspatentcitation.csv'\n",
    "\n",
    "usecols=['uuid', 'patent_id', 'citation_id']\n",
    "citation_df=pd.read_csv(citation, usecols=usecols)\n"
   ]
  },
  {
   "cell_type": "code",
   "execution_count": 3,
   "metadata": {
    "collapsed": true
   },
   "outputs": [],
   "source": [
    "%matplotlib inline"
   ]
  },
  {
   "cell_type": "code",
   "execution_count": 4,
   "metadata": {
    "collapsed": true
   },
   "outputs": [],
   "source": [
    "sns.set()"
   ]
  },
  {
   "cell_type": "code",
   "execution_count": 5,
   "metadata": {
    "collapsed": true
   },
   "outputs": [],
   "source": [
    "# class_systems=['wipo']\n",
    "class_systems=['wipo', 'ipcr', 'cpc', 'nber']"
   ]
  },
  {
   "cell_type": "code",
   "execution_count": 6,
   "metadata": {
    "collapsed": false
   },
   "outputs": [
    {
     "name": "stdout",
     "output_type": "stream",
     "text": [
      "                               uuid wipolevel_1_pat wipolevel_2_pat  \\\n",
      "10001951  jskw4d0xoqe3929xt8wh5clrd               3              29   \n",
      "10049948  gnj3nv25xw7tqd6b1ge3fite1               3              29   \n",
      "3930271   b4h1nhpv805nbcft39sk2pmo4               4              33   \n",
      "3930271   pt582ia7vdx6rmr9yqi4ewall               4              33   \n",
      "3930271   owlcbgprjwhepmmlve0q1iuqc               4              33   \n",
      "\n",
      "         wipo_sector_id wipo_field_id  wipo_far_external  wipo_external  \n",
      "10001951              1            06                  0              0  \n",
      "10049948              1            08                  0              0  \n",
      "3930271               4            33                  1              1  \n",
      "3930271               4            33                  1              1  \n",
      "3930271               4            33                  1              1  \n"
     ]
    }
   ],
   "source": [
    "# This approach uses too much memory\n",
    "# Try something else\n",
    "\n",
    "for class_system in class_systems:\n",
    "    \n",
    "    classification = 'data/'+class_system+'.csv'\n",
    "    \n",
    "    class_df=pd.read_csv(classification, dtype=object, usecols=[0,1,2])\n",
    "    df=preprocessing(class_df, citation_df)\n",
    "    df.rename(columns={df.columns[2]:'level1_pat', df.columns[3]:'level2_pat'}, inplace=True)\n",
    "    \n",
    "    df=preprocessing(class_df, df, generality=False)\n",
    "   \n",
    "    far_ext=class_system+'_far_ext'\n",
    "    ext=class_system+'_ext'\n",
    "    df[far_ext]=np.where(df['level1_pat'] == df['wipo_sector_id'], 1, 0)\n",
    "    df[ext]=np.where(df['level2_pat'] == df['wipo_field_id'], 1, 0)\n",
    "    \n",
    "    if class_system=='wipo':\n",
    "        output=df['uuid', far_ext, ext].set_index('uuid')\n",
    "    else:\n",
    "        output=output.join(df['uuid', far_ext, far_ext].set_index('uuid'))\n",
    "        \n",
    "print(output.head())"
   ]
  }
 ],
 "metadata": {
  "anaconda-cloud": {},
  "kernelspec": {
   "display_name": "Python [default]",
   "language": "python",
   "name": "python3"
  },
  "language_info": {
   "codemirror_mode": {
    "name": "ipython",
    "version": 3
   },
   "file_extension": ".py",
   "mimetype": "text/x-python",
   "name": "python",
   "nbconvert_exporter": "python",
   "pygments_lexer": "ipython3",
   "version": "3.5.2"
  }
 },
 "nbformat": 4,
 "nbformat_minor": 1
}
