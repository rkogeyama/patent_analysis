{
 "cells": [
  {
   "cell_type": "code",
   "execution_count": 1,
   "metadata": {},
   "outputs": [
    {
     "name": "stdout",
     "output_type": "stream",
     "text": [
      "Hello World\n"
     ]
    }
   ],
   "source": [
    "print(\"Hello World\")"
   ]
  },
  {
   "cell_type": "code",
   "execution_count": 2,
   "metadata": {},
   "outputs": [],
   "source": [
    "import glob\n",
    "file_list=glob.glob(\"parquet/uspatentcitation*.gz\")\n"
   ]
  },
  {
   "cell_type": "code",
   "execution_count": 3,
   "metadata": {},
   "outputs": [
    {
     "data": {
      "text/plain": [
       "['parquet/uspatentcitation009.parquet.gz',\n",
       " 'parquet/uspatentcitation006.parquet.gz',\n",
       " 'parquet/uspatentcitation001.parquet.gz',\n",
       " 'parquet/uspatentcitation010.parquet.gz',\n",
       " 'parquet/uspatentcitation008.parquet.gz',\n",
       " 'parquet/uspatentcitation005.parquet.gz',\n",
       " 'parquet/uspatentcitation007.parquet.gz',\n",
       " 'parquet/uspatentcitation002.parquet.gz',\n",
       " 'parquet/uspatentcitation000.parquet.gz',\n",
       " 'parquet/uspatentcitation004.parquet.gz',\n",
       " 'parquet/uspatentcitation003.parquet.gz']"
      ]
     },
     "execution_count": 3,
     "metadata": {},
     "output_type": "execute_result"
    }
   ],
   "source": [
    "file_list\n"
   ]
  },
  {
   "cell_type": "code",
   "execution_count": null,
   "metadata": {},
   "outputs": [],
   "source": []
  }
 ],
 "metadata": {
  "kernelspec": {
   "display_name": "Python 3",
   "language": "python",
   "name": "python3"
  },
  "language_info": {
   "codemirror_mode": {
    "name": "ipython",
    "version": 3
   },
   "file_extension": ".py",
   "mimetype": "text/x-python",
   "name": "python",
   "nbconvert_exporter": "python",
   "pygments_lexer": "ipython3",
   "version": "3.8.3"
  }
 },
 "nbformat": 4,
 "nbformat_minor": 4
}
