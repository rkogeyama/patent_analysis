{
 "cells": [
  {
   "cell_type": "code",
   "execution_count": 1,
   "metadata": {},
   "outputs": [],
   "source": [
    "# Nov 20th, 2020\n",
    "# I could not use dask here due to an error with metadata\n",
    "# I'll move on for now but I could find the issue later\n",
    "\n",
    "# February 12st, 2020\n",
    "# This script compares classification in each classification system\n",
    "# Second level matches specifications of Nemet and Johnson 2012"
   ]
  },
  {
   "cell_type": "code",
   "execution_count": null,
   "metadata": {},
   "outputs": [],
   "source": [
    "import pandas as pd\n",
    "import numpy as np\n",
    "import dask.dataframe as dd\n",
    "import glob\n",
    "import graphviz\n",
    "\n",
    "file_list=glob.glob(\"data/citation/*\")\n",
    "dfs = [pd.read_parquet(f, columns=['patent_id']) for f in file_list]"
   ]
  },
  {
   "cell_type": "code",
   "execution_count": null,
   "metadata": {},
   "outputs": [],
   "source": [
    "df=dfs[0]"
   ]
  },
  {
   "cell_type": "code",
   "execution_count": null,
   "metadata": {},
   "outputs": [],
   "source": [
    "df.head()"
   ]
  },
  {
   "cell_type": "code",
   "execution_count": null,
   "metadata": {},
   "outputs": [],
   "source": [
    "class_df=pd.read_parquet('data/wipo.parquet.gz')\n",
    "df=df.merge(class_df, right_index=True, left_index=True)"
   ]
  },
  {
   "cell_type": "code",
   "execution_count": null,
   "metadata": {},
   "outputs": [],
   "source": [
    "df=df.reset_index().set_index('patent_id') #reset_index avoid losing citation_id\n",
    "df=df.merge(class_df, suffixes=['_citing', ''], right_index=True, left_index=True)"
   ]
  },
  {
   "cell_type": "code",
   "execution_count": null,
   "metadata": {},
   "outputs": [],
   "source": [
    "df"
   ]
  },
  {
   "cell_type": "code",
   "execution_count": null,
   "metadata": {},
   "outputs": [],
   "source": [
    "# class_df=dd.read_parquet('data/wipo.parquet.gz')\n",
    "\n",
    "for i, df in enumerate(dfs):\n",
    "#     df=element.compute()\n",
    "#     class_df=class_df.compute()\n",
    "    df=df.merge(class_df, right_index=True, left_index=True)\n",
    "    df=df.reset_index().set_index('patent_id') #reset_index avoid losing citation_id\n",
    "    df=df.merge(class_df, suffixes=['_citing', ''], right_index=True, left_index=True)\n",
    "    df['external']=df['wipo_field_id_citing']==df['wipo_field_id']    \n",
    "    df['far_external']=df['wipo_sector_id_citing']==df['wipo_sector_id']    \n",
    "    if i==0:\n",
    "        output=df.groupby(df.index).sum()\n",
    "    else:\n",
    "        output=pd.concat([output, df.groupby(df.index).sum()]) # following Nemet and Johson, this variable is relevant for citations made"
   ]
  },
  {
   "cell_type": "code",
   "execution_count": null,
   "metadata": {},
   "outputs": [],
   "source": [
    "output.head()"
   ]
  },
  {
   "cell_type": "code",
   "execution_count": null,
   "metadata": {},
   "outputs": [],
   "source": [
    "# df.isnull().sum()\n",
    "# df.set_index('uuid', inplace=True)\n",
    "output.to_parquet('data/int_ext_cit.parquet.gz', compression='gzip')"
   ]
  }
 ],
 "metadata": {
  "kernelspec": {
   "display_name": "Python 3",
   "language": "python",
   "name": "python3"
  },
  "language_info": {
   "codemirror_mode": {
    "name": "ipython",
    "version": 3
   },
   "file_extension": ".py",
   "mimetype": "text/x-python",
   "name": "python",
   "nbconvert_exporter": "python",
   "pygments_lexer": "ipython3",
   "version": "3.7.7"
  }
 },
 "nbformat": 4,
 "nbformat_minor": 4
}
