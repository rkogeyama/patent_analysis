{
 "cells": [
  {
   "cell_type": "code",
   "execution_count": 1,
   "metadata": {
    "collapsed": true
   },
   "outputs": [],
   "source": [
    "# Script to calculate total citation each patent made and received\n",
    "# Backward citation - citation made by a patent\n",
    "# Forward citation - citation received by a patent\n",
    "\n",
    "# Renato Kogeyama\n",
    "\n",
    "# Oct 12 2019\n",
    "# Miami\n",
    "\n",
    "# Maybe some additional analysis of citation can be useful\n",
    "# Let's see how citations happen  throughout  the years\n",
    "\n",
    "\n",
    "# Oct 08 2019\n",
    "# Miami\n",
    "\n",
    "#From 91,453,297 citations ids, 178,514 are larger or smaller than the majority 7-digit ids\n",
    "#This represent less than 0.2% of total citations\n",
    "#Two main reasons - citation_id is old (thus patents had less than 7 digits) \n",
    "#or citation is represented by the application number (typically much larger)\n",
    "#As the number is small, I will go on with the current set and if necessary I'll come back later.\n",
    "#This file is being renamed from 'uspto_citations_clean-sandbox-Copy1' to 'patent_citation'\n",
    "\n",
    "\n",
    "# Oct 03 2019\n",
    "# New York\n",
    "\n",
    "# The function group_values do not work because it only counts the occurrences of the patents\n",
    "# The correction is to groupby and sum\n",
    "# Histograms of forward and should be different, but the number of occurrences should be the same\n",
    "# Also, averages should be the same (avg_fwr==avg_back=sum(x)/num(x) and standard deviations should be different (due sum(x^2)/num)\n",
    "\n",
    "# Oct 02 2019\n",
    "# Syracuse\n",
    "\n",
    "#This is a sandbox version for the citations update\n",
    "#I identified an issue with the citations, and now I am working in a new citations dataset\n",
    "#I included backward citations and I am planning some basic stats \n",
    "\n",
    "\n",
    "# Sep 28 2019\n",
    "# Miami\n",
    "\n",
    "# Original:testing_csv_chunk_read-Copy1.ipynb\n",
    "\n",
    "# When working on the determinants of patent citation, I found a weird concentration of 14 citations in patents from 2003\n",
    "# Most likely there is some issue with the 'join' statement\n",
    "# This code is helping me debbuggin the issue\n",
    "# The idea is to isolate the patents who had this number of citations\n",
    "# To do that, I face an issue of memory size, the file is too large and memory runs out\n",
    "# I use the iterator option from pandas.read_csv, what gives me an iterator in the place of the dataframe\n",
    "\n",
    "\n",
    "# update: as I read the files, I find many whitespaces\n",
    "# usually i would clean with .str.strip(), but I am using an iterator.\n",
    "\n",
    "# Ha um problema no arquivo de citacoes. Estou reescrevendo o codigo que junta as citacoes a tabela base de patentes\n",
    "# Estou tambem acrescentando backward citation - a intencao eh usar da mesma forma que claims e tambem para salientar o significado das forward citations\n",
    "# Porem carregar o arquivo inteiro na memoria nao esta funcionado\n",
    "\n",
    "# Quando o Marcelo escreveu o codig lxml, tudo foi feito com iterators\n",
    "# Nao estou conseguindo testar por algum problema no servidor\n",
    "\n",
    "# Assim, o que vou fazer agora eh selecionar um chunk para trabalhar localmente\n"
   ]
  },
  {
   "cell_type": "code",
   "execution_count": 2,
   "metadata": {
    "collapsed": true
   },
   "outputs": [],
   "source": [
    "import pandas as pd\n",
    "import numpy as np\n",
    "import random\n",
    "# from collections import Counter\n",
    "import matplotlib.pyplot as plt\n",
    "# import json\n",
    "\n",
    "# import csv"
   ]
  },
  {
   "cell_type": "code",
   "execution_count": 3,
   "metadata": {
    "collapsed": false
   },
   "outputs": [],
   "source": [
    "# class ItemLoader(ItemLoader):\n",
    "\n",
    "#     default_output_processor = MapCompose(unicode.strip)"
   ]
  },
  {
   "cell_type": "code",
   "execution_count": 4,
   "metadata": {
    "collapsed": false
   },
   "outputs": [],
   "source": [
    "%matplotlib inline"
   ]
  },
  {
   "cell_type": "code",
   "execution_count": null,
   "metadata": {
    "collapsed": true
   },
   "outputs": [],
   "source": [
    "fname = r'/home/rkogeyam/PATENT_CITATION/uspatentcitation.tsv'\n",
    "dst = '/home/rkogeyam/PATENT_CITATION/fwd_back_cit.csv'"
   ]
  },
  {
   "cell_type": "code",
   "execution_count": null,
   "metadata": {
    "collapsed": false
   },
   "outputs": [],
   "source": [
    "# # To run a sample\n",
    "\n",
    "# # n = sum(1 for line in open(fname)) - 1 #number of records in file (excludes header)\n",
    "# n=91867780\n",
    "\n",
    "# s = 10000 #desired sample size\n",
    "# skip = sorted(random.sample(range(1,n+1),n-s)) #the 0-indexed header will not be included in the skip list\n",
    "# df = pd.read_csv(fname, skiprows=skip, sep='\\t', lineterminator='\\n', na_values='-')"
   ]
  },
  {
   "cell_type": "code",
   "execution_count": null,
   "metadata": {
    "collapsed": true
   },
   "outputs": [],
   "source": [
    "%%time\n",
    "#To run complete\n",
    "df = pd.read_csv(fname, sep='\\t', lineterminator='\\n', na_values='-')"
   ]
  },
  {
   "cell_type": "code",
   "execution_count": null,
   "metadata": {
    "collapsed": false
   },
   "outputs": [],
   "source": [
    "# asg = pd.read_csv(r'/home/rkogeyam/PATENT_CITATION/uspatentcitation.tsv', sep='\\t', lineterminator='\\n', na_values='-')"
   ]
  },
  {
   "cell_type": "code",
   "execution_count": null,
   "metadata": {
    "collapsed": false
   },
   "outputs": [],
   "source": [
    "# df.to_csv('/home/rkogeyam/PATENT_CITATION/fwd_back_cit.csv')"
   ]
  },
  {
   "cell_type": "code",
   "execution_count": null,
   "metadata": {
    "collapsed": false
   },
   "outputs": [],
   "source": [
    "# df=pd.read_csv('/home/rkogeyam/PATENT_CITATION/sample_fwd_back_cit.csv')"
   ]
  },
  {
   "cell_type": "code",
   "execution_count": null,
   "metadata": {
    "collapsed": false
   },
   "outputs": [],
   "source": [
    "%%time\n",
    "df=df.iloc[:,1:]"
   ]
  },
  {
   "cell_type": "code",
   "execution_count": null,
   "metadata": {
    "collapsed": false
   },
   "outputs": [],
   "source": [
    "%%time\n",
    "df.describe()"
   ]
  },
  {
   "cell_type": "code",
   "execution_count": null,
   "metadata": {
    "collapsed": false
   },
   "outputs": [],
   "source": [
    "%%time\n",
    "df.head()"
   ]
  },
  {
   "cell_type": "code",
   "execution_count": null,
   "metadata": {
    "collapsed": true
   },
   "outputs": [],
   "source": [
    "#stripping white spaces\n",
    "# df['patent_id'] = df1['patent_id'].str.strip()\n",
    "# df['citation_id'] = df1['citation_id'].str.strip()"
   ]
  },
  {
   "cell_type": "code",
   "execution_count": null,
   "metadata": {
    "collapsed": true
   },
   "outputs": [],
   "source": [
    "# df1=df"
   ]
  },
  {
   "cell_type": "code",
   "execution_count": null,
   "metadata": {
    "collapsed": false
   },
   "outputs": [],
   "source": [
    "df.shape"
   ]
  },
  {
   "cell_type": "code",
   "execution_count": null,
   "metadata": {
    "collapsed": true
   },
   "outputs": [],
   "source": [
    "%%time\n",
    "#stripping non desired characters\n",
    "df['patent_id'] = df['patent_id'].str.extract('([a-zA-Z0-9]+)', expand=False)\n",
    "df['citation_id'] = df['citation_id'].str.extract('([a-zA-Z0-9]+)', expand=False)"
   ]
  },
  {
   "cell_type": "code",
   "execution_count": null,
   "metadata": {
    "collapsed": false
   },
   "outputs": [],
   "source": [
    "%%time\n",
    "df['patent_id'] = df['patent_id'].str.strip()\n",
    "df['citation_id'] = df['citation_id'].str.strip()\n",
    "# [a-fA-F0-9]"
   ]
  },
  {
   "cell_type": "code",
   "execution_count": null,
   "metadata": {
    "collapsed": true
   },
   "outputs": [],
   "source": [
    "# ne = (df != df1).any(1)\n",
    "# ne_stacked = (df != df1).stack()\n",
    "# changed = ne_stacked[ne_stacked]\n",
    "# changed.index.names = ['id', 'col']\n",
    "# changed"
   ]
  },
  {
   "cell_type": "code",
   "execution_count": null,
   "metadata": {
    "collapsed": false
   },
   "outputs": [],
   "source": [
    "df.head()"
   ]
  },
  {
   "cell_type": "code",
   "execution_count": null,
   "metadata": {
    "collapsed": false
   },
   "outputs": [],
   "source": [
    "df.tail()"
   ]
  },
  {
   "cell_type": "code",
   "execution_count": null,
   "metadata": {
    "collapsed": false
   },
   "outputs": [],
   "source": [
    "%%time\n",
    "df.sort_values('patent_id').head()"
   ]
  },
  {
   "cell_type": "code",
   "execution_count": null,
   "metadata": {
    "collapsed": true
   },
   "outputs": [],
   "source": [
    "# df1.tail()"
   ]
  },
  {
   "cell_type": "code",
   "execution_count": null,
   "metadata": {
    "collapsed": false
   },
   "outputs": [],
   "source": [
    "%%time\n",
    "# forward_citation=df.groupby(['patent_id']).count().reset_index()\n",
    "forward_citation=df.groupby(['patent_id']).count().iloc[:, 1]"
   ]
  },
  {
   "cell_type": "code",
   "execution_count": null,
   "metadata": {
    "collapsed": false,
    "scrolled": true
   },
   "outputs": [],
   "source": [
    "# forward_citation"
   ]
  },
  {
   "cell_type": "code",
   "execution_count": null,
   "metadata": {
    "collapsed": true
   },
   "outputs": [],
   "source": [
    "%%time\n",
    "forward_citation=forward_citation.fillna(0)"
   ]
  },
  {
   "cell_type": "code",
   "execution_count": null,
   "metadata": {
    "collapsed": false
   },
   "outputs": [],
   "source": [
    "%%time\n",
    "forward_citation.describe()"
   ]
  },
  {
   "cell_type": "code",
   "execution_count": null,
   "metadata": {
    "collapsed": false
   },
   "outputs": [],
   "source": [
    "%%time\n",
    "backward_citation=df.groupby(['citation_id']).count().iloc[:, 1]"
   ]
  },
  {
   "cell_type": "code",
   "execution_count": null,
   "metadata": {
    "collapsed": false
   },
   "outputs": [],
   "source": [
    "#to find weird ids - backward citation only\n",
    "\n",
    "#bigger citation ids are generally application numbers\n",
    "# backward_citation_big=df[df['citation_id'].str.len() > 8 ]\n",
    "\n",
    "#many small citation id are citation of very old patents\n",
    "# backward_citation_small=df[df['citation_id'].str.len() < 6 ]\n"
   ]
  },
  {
   "cell_type": "code",
   "execution_count": null,
   "metadata": {
    "collapsed": false
   },
   "outputs": [],
   "source": [
    "# backward_citation_big"
   ]
  },
  {
   "cell_type": "code",
   "execution_count": null,
   "metadata": {
    "collapsed": false
   },
   "outputs": [],
   "source": [
    "# backward_citation_small"
   ]
  },
  {
   "cell_type": "code",
   "execution_count": null,
   "metadata": {
    "collapsed": true
   },
   "outputs": [],
   "source": [
    "#41579 small and 136935 large citation_ids (total=178514 citations) from 91453297 citations represent 0.2% of citations\n",
    "#for this reason, I am ignoring these errors for now"
   ]
  },
  {
   "cell_type": "code",
   "execution_count": null,
   "metadata": {
    "collapsed": false
   },
   "outputs": [],
   "source": [
    "# result = pd.concat([forward_citation, backward_citation], axis=1, join='outer')\n",
    "\n",
    "# result.columns=['forward_citation', 'backward_citation']\n",
    "\n",
    "# result=result.fillna(0)"
   ]
  },
  {
   "cell_type": "code",
   "execution_count": null,
   "metadata": {
    "collapsed": false
   },
   "outputs": [],
   "source": [
    "# result"
   ]
  },
  {
   "cell_type": "code",
   "execution_count": null,
   "metadata": {
    "collapsed": false
   },
   "outputs": [],
   "source": [
    "# result.head()"
   ]
  },
  {
   "cell_type": "code",
   "execution_count": null,
   "metadata": {
    "collapsed": false
   },
   "outputs": [],
   "source": [
    "# result.describe()"
   ]
  },
  {
   "cell_type": "code",
   "execution_count": null,
   "metadata": {
    "collapsed": false
   },
   "outputs": [],
   "source": [
    "# plt.figure()\n",
    "# result.hist()"
   ]
  },
  {
   "cell_type": "code",
   "execution_count": null,
   "metadata": {
    "collapsed": false
   },
   "outputs": [],
   "source": [
    "# result.boxplot()"
   ]
  },
  {
   "cell_type": "code",
   "execution_count": null,
   "metadata": {
    "collapsed": true
   },
   "outputs": [],
   "source": [
    "# result.to_csv(dst) #the file is frozen as of Oct 10 2019"
   ]
  },
  {
   "cell_type": "code",
   "execution_count": null,
   "metadata": {
    "collapsed": true
   },
   "outputs": [],
   "source": [
    "# Some additional analysis"
   ]
  },
  {
   "cell_type": "code",
   "execution_count": null,
   "metadata": {
    "collapsed": false
   },
   "outputs": [],
   "source": [
    "%%time\n",
    "pt_df = pd.read_csv('patent.csv', sep='\\t', na_values='-', usecols=[0,4], error_bad_lines=False, index_col=0, dtype={0: object})\n",
    "# pt_df.columns=['patent_date']"
   ]
  },
  {
   "cell_type": "code",
   "execution_count": null,
   "metadata": {
    "collapsed": false
   },
   "outputs": [],
   "source": [
    "# pt_df"
   ]
  },
  {
   "cell_type": "code",
   "execution_count": null,
   "metadata": {
    "collapsed": true
   },
   "outputs": [],
   "source": [
    "%%time\n",
    "df=df.rename(columns = {'date':'citation_date'})\n",
    "df['citation_date']=pd.to_datetime(df['citation_date'], format=\"%Y-%m-%d\", errors='coerce') #conversao de string para data\n",
    "# df['cit_year']=df['citation_date'].dt.year\n",
    "# df['cit_month']=df['citation_date'].dt.month\n",
    "# df['cit_day']=df['citation_date'].dt.day"
   ]
  },
  {
   "cell_type": "code",
   "execution_count": null,
   "metadata": {
    "collapsed": false
   },
   "outputs": [],
   "source": [
    "%%time\n",
    "# df is the citation dataset\n",
    "# pt_df is the patent dataset\n",
    "df=pd.merge(df, pt_df, how='left', left_on='patent_id', right_index=True)"
   ]
  },
  {
   "cell_type": "code",
   "execution_count": null,
   "metadata": {
    "collapsed": false
   },
   "outputs": [],
   "source": [
    "df.shape"
   ]
  },
  {
   "cell_type": "code",
   "execution_count": null,
   "metadata": {
    "collapsed": true
   },
   "outputs": [],
   "source": [
    "%%time\n",
    "df=df.rename(columns = {'date':'patent_date'})\n",
    "df['patent_date']=pd.to_datetime(df['patent_date'], format=\"%Y-%m-%d\", errors='coerce') #conversao de string para data\n",
    "# df['patt_year']=df['patent_date'].dt.year\n",
    "# df['pat_month']=df['patent_date'].dt.month\n",
    "# df['pat_day']=df['patent_date'].dt.day"
   ]
  },
  {
   "cell_type": "code",
   "execution_count": null,
   "metadata": {
    "collapsed": true
   },
   "outputs": [],
   "source": [
    "%%time\n",
    "df=df.dropna()"
   ]
  },
  {
   "cell_type": "code",
   "execution_count": null,
   "metadata": {
    "collapsed": false
   },
   "outputs": [],
   "source": [
    "%%time\n",
    "df.sort_values('citation_id').head()"
   ]
  },
  {
   "cell_type": "code",
   "execution_count": null,
   "metadata": {
    "collapsed": true
   },
   "outputs": [],
   "source": [
    "%%time\n",
    "df['cit_delay']=df['patent_date'].sub(df['citation_date'], axis=0)"
   ]
  },
  {
   "cell_type": "code",
   "execution_count": null,
   "metadata": {
    "collapsed": true
   },
   "outputs": [],
   "source": [
    "%%time\n",
    "df['cit_delay']=pd.to_timedelta(df['cit_delay'])"
   ]
  },
  {
   "cell_type": "code",
   "execution_count": null,
   "metadata": {
    "collapsed": false
   },
   "outputs": [],
   "source": [
    "%%time\n",
    "df.describe()"
   ]
  },
  {
   "cell_type": "code",
   "execution_count": null,
   "metadata": {
    "collapsed": false
   },
   "outputs": [],
   "source": [
    "%%time\n",
    "delayyears=df['cit_delay'].dt.days/360\n",
    "# "
   ]
  },
  {
   "cell_type": "code",
   "execution_count": null,
   "metadata": {
    "collapsed": false
   },
   "outputs": [],
   "source": [
    "%%time\n",
    "delayyears.hist()"
   ]
  },
  {
   "cell_type": "code",
   "execution_count": null,
   "metadata": {
    "collapsed": false
   },
   "outputs": [],
   "source": [
    "%%time\n",
    "delayyears.plot.box()"
   ]
  },
  {
   "cell_type": "code",
   "execution_count": null,
   "metadata": {
    "collapsed": false
   },
   "outputs": [],
   "source": [
    "%%time\n",
    "avg_delay=df.cit_delay.dt.days.mean()/360\n",
    "median_delay=df.cit_delay.dt.days.median()/360"
   ]
  },
  {
   "cell_type": "code",
   "execution_count": null,
   "metadata": {
    "collapsed": false
   },
   "outputs": [],
   "source": [
    "print(\"Average citation delay in years: %.2f\" % avg_delay)\n",
    "print(\"Median citation delay in years: %.2f\" % median_delay)"
   ]
  },
  {
   "cell_type": "code",
   "execution_count": null,
   "metadata": {
    "collapsed": true
   },
   "outputs": [],
   "source": [
    "%%time\n",
    "#This is a series to include in the results output\n",
    "#It is the average time for receiving a citation\n",
    "# avg_cit_delay=df.groupby(['citation_id']).mean().iloc[:, 1]\n",
    "avg_cit_delay=df.groupby(['citation_id']).agg(['mean','np.std']).iloc[:, 1]\n",
    "# df.groupby('Company Name')['Amount'].agg(['sum','count'])"
   ]
  }
 ],
 "metadata": {
  "anaconda-cloud": {},
  "kernelspec": {
   "display_name": "Python [default]",
   "language": "python",
   "name": "python3"
  },
  "language_info": {
   "codemirror_mode": {
    "name": "ipython",
    "version": 3
   },
   "file_extension": ".py",
   "mimetype": "text/x-python",
   "name": "python",
   "nbconvert_exporter": "python",
   "pygments_lexer": "ipython3",
   "version": "3.5.2"
  }
 },
 "nbformat": 4,
 "nbformat_minor": 1
}
