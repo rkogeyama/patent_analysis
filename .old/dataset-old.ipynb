{
 "cells": [
  {
   "cell_type": "code",
   "execution_count": 1,
   "metadata": {
    "collapsed": true
   },
   "outputs": [],
   "source": [
    "# Jan 29, 2020\n",
    "# many errors appeared after joining the dataset \n",
    "# i rewritten code into simpler scripts\n",
    "# this script joins variables together to be processed later\n",
    "\n",
    "# they are:\n",
    "#     - cit_delay - reads clean_patent and clean_uspatentcitation and calculates delay by patent\n",
    "#     - cit_made - reads clean_uspatentcitation and calculates citations made \n",
    "#     - cit_received - reads clean_uspatentcitation and calculates citations received\n",
    "#     - cit_tree - reads clean_uspatentcitation and cit_made and calculates parent_citation\n",
    "#     - generalit - reads wipo and clean_uspatentcitation and calculates generality\n",
    "#     - originality - reads wipo and clean_uspatentcitation and calculates originality\n",
    "#     - wipo_horiz - reads wipo and generates wipo_first_class\n",
    "\n",
    "# now I'm merging these files \n",
    "\n",
    "# Jan, 20th 2020\n",
    "# join delay and tree data to form the analysis dataset\n"
   ]
  },
  {
   "cell_type": "code",
   "execution_count": 2,
   "metadata": {
    "collapsed": true
   },
   "outputs": [],
   "source": [
    "import pandas as pd\n",
    "import numpy as np"
   ]
  },
  {
   "cell_type": "code",
   "execution_count": 3,
   "metadata": {
    "collapsed": true
   },
   "outputs": [],
   "source": [
    "received='data/cit_received.csv'\n",
    "made='data/cit_made.csv'\n",
    "received_delay='data/cit_received_delay.csv'\n",
    "made_delay='data/cit_made_delay.csv'\n",
    "cit_tree = 'data/cit_tree.csv'\n",
    "originality = 'data/originality.csv'\n",
    "generality = 'data/generality.csv'\n",
    "dst='data/dataset.csv'"
   ]
  },
  {
   "cell_type": "code",
   "execution_count": 4,
   "metadata": {
    "collapsed": true
   },
   "outputs": [],
   "source": [
    "dfs=[]"
   ]
  },
  {
   "cell_type": "code",
   "execution_count": 5,
   "metadata": {
    "collapsed": true
   },
   "outputs": [],
   "source": [
    "def data_read(file, names, usecols, dtype):\n",
    "    df = pd.read_csv(file, names=names, usecols=usecols, dtype=dtype, index_col='id')\n",
    "    dfs.append(df)\n"
   ]
  },
  {
   "cell_type": "code",
   "execution_count": 6,
   "metadata": {
    "collapsed": false,
    "scrolled": true
   },
   "outputs": [
    {
     "name": "stderr",
     "output_type": "stream",
     "text": [
      "/home/applications/anaconda3/4.2.0/lib/python3.5/site-packages/IPython/core/interactiveshell.py:2827: DtypeWarning: Columns (2) have mixed types. Specify dtype option on import or set low_memory=False.\n",
      "  if self.run_code(code, result):\n"
     ]
    }
   ],
   "source": [
    "names=['index', 'id', 'cit_received']\n",
    "usecols=['id', 'cit_received']\n",
    "dtype={'id':object}\n",
    "data_read(received, names, usecols, dtype)\n",
    "# df = pd.read_csv(received, names=names, usecols=usecols, dtype=dtype, index_col='id')\n",
    "# dfs.append(df)\n",
    "\n",
    "# df.info()"
   ]
  },
  {
   "cell_type": "code",
   "execution_count": 7,
   "metadata": {
    "collapsed": false
   },
   "outputs": [
    {
     "name": "stdout",
     "output_type": "stream",
     "text": [
      "<class 'pandas.core.frame.DataFrame'>\n",
      "Index: 6188753 entries, patent_id to RE46653\n",
      "Data columns (total 1 columns):\n",
      "cit_made    object\n",
      "dtypes: object(1)\n",
      "memory usage: 94.4+ MB\n"
     ]
    },
    {
     "name": "stderr",
     "output_type": "stream",
     "text": [
      "/home/applications/anaconda3/4.2.0/lib/python3.5/site-packages/IPython/core/interactiveshell.py:2717: DtypeWarning: Columns (2) have mixed types. Specify dtype option on import or set low_memory=False.\n",
      "  interactivity=interactivity, compiler=compiler, result=result)\n"
     ]
    }
   ],
   "source": [
    "names=['index', 'id', 'cit_made']\n",
    "usecols=['id', 'cit_made']\n",
    "dtype={'id':object}\n",
    "data_read(made, names, usecols, dtype)\n",
    "\n",
    "# df_made=pd.read_csv(made, names=names, usecols=usecols, index_col='id', dtype=dtype )\n",
    "# dfs.append(df_made)\n",
    "\n",
    "# df_made.info()"
   ]
  },
  {
   "cell_type": "code",
   "execution_count": 8,
   "metadata": {
    "collapsed": false
   },
   "outputs": [
    {
     "name": "stdout",
     "output_type": "stream",
     "text": [
      "<class 'pandas.core.frame.DataFrame'>\n",
      "Index: 7020621 entries, citation_id to re25727\n",
      "Data columns (total 1 columns):\n",
      "cit_received_delay    object\n",
      "dtypes: object(1)\n",
      "memory usage: 107.1+ MB\n"
     ]
    },
    {
     "name": "stderr",
     "output_type": "stream",
     "text": [
      "/home/applications/anaconda3/4.2.0/lib/python3.5/site-packages/IPython/core/interactiveshell.py:2717: DtypeWarning: Columns (1) have mixed types. Specify dtype option on import or set low_memory=False.\n",
      "  interactivity=interactivity, compiler=compiler, result=result)\n"
     ]
    }
   ],
   "source": [
    "names=['id', 'cit_received_delay']\n",
    "dtype={'id':object}\n",
    "usecols=['id', 'cit_received_delay']\n",
    "data_read(received_delay, names, usecols, dtype)\n",
    "\n",
    "# df_received_delay=pd.read_csv(received_delay, names=names, usecols=usecols, index_col='id', dtype=dtype )\n",
    "# dfs.append(df_received_delay)\n",
    "\n",
    "# df_received_delay.info()"
   ]
  },
  {
   "cell_type": "code",
   "execution_count": 9,
   "metadata": {
    "collapsed": true
   },
   "outputs": [
    {
     "name": "stdout",
     "output_type": "stream",
     "text": [
      "<class 'pandas.core.frame.DataFrame'>\n",
      "Index: 5972160 entries, patent_id to RE46653\n",
      "Data columns (total 1 columns):\n",
      "cit_made_delay    object\n",
      "dtypes: object(1)\n",
      "memory usage: 91.1+ MB\n"
     ]
    },
    {
     "name": "stderr",
     "output_type": "stream",
     "text": [
      "/home/applications/anaconda3/4.2.0/lib/python3.5/site-packages/IPython/core/interactiveshell.py:2717: DtypeWarning: Columns (1) have mixed types. Specify dtype option on import or set low_memory=False.\n",
      "  interactivity=interactivity, compiler=compiler, result=result)\n"
     ]
    }
   ],
   "source": [
    "names=['id', 'cit_made_delay']\n",
    "dtype={'id':object}\n",
    "usecols=['id', 'cit_made_delay']\n",
    "\n",
    "data_read(made_delay, names, usecols, dtype)\n",
    "\n",
    "# df_made_delay=pd.read_csv(made_delay, names=names, usecols=usecols, index_col='id', dtype=dtype )\n",
    "# dfs.append(df_made_delay)\n",
    "\n",
    "# df_made_delay.info()"
   ]
  },
  {
   "cell_type": "code",
   "execution_count": 10,
   "metadata": {
    "collapsed": true
   },
   "outputs": [
    {
     "name": "stdout",
     "output_type": "stream",
     "text": [
      "CPU times: user 0 ns, sys: 0 ns, total: 0 ns\n",
      "Wall time: 5.01 µs\n"
     ]
    }
   ],
   "source": [
    "%time\n",
    "# dfs = [df, df_made, df_received_delay]\n",
    "# dfs = [df.set_index('id') for df in dfs]\n",
    "df=dfs[0].join(dfs[1:])"
   ]
  },
  {
   "cell_type": "code",
   "execution_count": 11,
   "metadata": {
    "collapsed": false
   },
   "outputs": [
    {
     "name": "stdout",
     "output_type": "stream",
     "text": [
      "<class 'pandas.core.frame.DataFrame'>\n",
      "Index: 7048985 entries, citation_id to re25727\n",
      "Data columns (total 4 columns):\n",
      "cit_received          object\n",
      "cit_made              object\n",
      "cit_received_delay    object\n",
      "cit_made_delay        object\n",
      "dtypes: object(4)\n",
      "memory usage: 268.9+ MB\n"
     ]
    }
   ],
   "source": [
    "df.info()"
   ]
  },
  {
   "cell_type": "code",
   "execution_count": 12,
   "metadata": {
    "collapsed": false
   },
   "outputs": [
    {
     "data": {
      "text/html": [
       "<div>\n",
       "<table border=\"1\" class=\"dataframe\">\n",
       "  <thead>\n",
       "    <tr style=\"text-align: right;\">\n",
       "      <th></th>\n",
       "      <th>cit_received</th>\n",
       "      <th>cit_made</th>\n",
       "      <th>cit_received_delay</th>\n",
       "      <th>cit_made_delay</th>\n",
       "    </tr>\n",
       "  </thead>\n",
       "  <tbody>\n",
       "    <tr>\n",
       "      <th>count</th>\n",
       "      <td>7048985</td>\n",
       "      <td>4712934</td>\n",
       "      <td>7.018035e+06</td>\n",
       "      <td>4.509640e+06</td>\n",
       "    </tr>\n",
       "    <tr>\n",
       "      <th>unique</th>\n",
       "      <td>1336</td>\n",
       "      <td>1576</td>\n",
       "      <td>2.101920e+06</td>\n",
       "      <td>1.803435e+06</td>\n",
       "    </tr>\n",
       "    <tr>\n",
       "      <th>top</th>\n",
       "      <td>1</td>\n",
       "      <td>4</td>\n",
       "      <td>1.706849e+00</td>\n",
       "      <td>4.276712e+00</td>\n",
       "    </tr>\n",
       "    <tr>\n",
       "      <th>freq</th>\n",
       "      <td>1234241</td>\n",
       "      <td>376830</td>\n",
       "      <td>8.080000e+02</td>\n",
       "      <td>2.090000e+02</td>\n",
       "    </tr>\n",
       "  </tbody>\n",
       "</table>\n",
       "</div>"
      ],
      "text/plain": [
       "        cit_received  cit_made  cit_received_delay  cit_made_delay\n",
       "count        7048985   4712934        7.018035e+06    4.509640e+06\n",
       "unique          1336      1576        2.101920e+06    1.803435e+06\n",
       "top                1         4        1.706849e+00    4.276712e+00\n",
       "freq         1234241    376830        8.080000e+02    2.090000e+02"
      ]
     },
     "execution_count": 12,
     "metadata": {},
     "output_type": "execute_result"
    }
   ],
   "source": [
    "df.describe()"
   ]
  },
  {
   "cell_type": "code",
   "execution_count": 13,
   "metadata": {
    "collapsed": false
   },
   "outputs": [
    {
     "name": "stdout",
     "output_type": "stream",
     "text": [
      "CPU times: user 0 ns, sys: 0 ns, total: 0 ns\n",
      "Wall time: 4.77 µs\n"
     ]
    }
   ],
   "source": [
    "%time\n",
    "# dfs2=df.join(df_made).join(df_received_delay).join(df_made_delay)"
   ]
  },
  {
   "cell_type": "code",
   "execution_count": 14,
   "metadata": {
    "collapsed": false
   },
   "outputs": [],
   "source": [
    "# dfs2.info()"
   ]
  },
  {
   "cell_type": "code",
   "execution_count": 15,
   "metadata": {
    "collapsed": false
   },
   "outputs": [],
   "source": [
    "# dfs2.describe()"
   ]
  },
  {
   "cell_type": "code",
   "execution_count": 16,
   "metadata": {
    "collapsed": true
   },
   "outputs": [],
   "source": [
    "# dfs.to_csv(dst)"
   ]
  }
 ],
 "metadata": {
  "anaconda-cloud": {},
  "kernelspec": {
   "display_name": "Python [default]",
   "language": "python",
   "name": "python3"
  },
  "language_info": {
   "codemirror_mode": {
    "name": "ipython",
    "version": 3
   },
   "file_extension": ".py",
   "mimetype": "text/x-python",
   "name": "python",
   "nbconvert_exporter": "python",
   "pygments_lexer": "ipython3",
   "version": "3.5.2"
  }
 },
 "nbformat": 4,
 "nbformat_minor": 1
}
