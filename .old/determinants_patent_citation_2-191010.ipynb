{
 "cells": [
  {
   "cell_type": "code",
   "execution_count": 1,
   "metadata": {
    "collapsed": false
   },
   "outputs": [],
   "source": [
    "#Script para identificar determinantes de citações na base USPTO\n",
    "#Renato Kogeyama\n",
    "\n",
    "#10-10-2019\n",
    "# This is a sample version from determinants_patent_citation_2\n",
    "# The goal is to create additional graphs from data\n",
    "\n",
    "#09-15-2019\n",
    "#O naive bayes tem algum problema com distribuicoes desbalanceadas\n",
    "#o scikit learn tem um modulo que corrige count distributions com muitos zeros, o complementNB\n",
    "#porem este nao esta disponivel na atual versao disponibilizada no HPC da FIU\n",
    "\n",
    "#09-10-2019\n",
    "#o trabalho pede uma abordagem mais sistematica e cuidadosa\n",
    "#estou agrupando o codigo antigo comentado e vou comecar um novo codigo\n",
    "\n",
    "#09-17-2018\n",
    "\n",
    "#Alto uso de memoria - rodar no Amazon AWS \n",
    "#Notebook 2"
   ]
  },
  {
   "cell_type": "code",
   "execution_count": 2,
   "metadata": {
    "collapsed": true
   },
   "outputs": [],
   "source": [
    "import pandas as pd\n",
    "import numpy as np\n",
    "\n",
    "from sklearn import linear_model\n",
    "from sklearn import naive_bayes\n",
    "from sklearn.neighbors import KNeighborsClassifier\n",
    "from sklearn.model_selection import train_test_split\n",
    "import matplotlib.pyplot as plot\n",
    "from sklearn.metrics import roc_curve, auc\n",
    "from scipy import stats\n",
    "import datetime\n",
    "import pylab\n",
    "\n",
    "import random"
   ]
  },
  {
   "cell_type": "code",
   "execution_count": 3,
   "metadata": {
    "collapsed": false
   },
   "outputs": [],
   "source": [
    "%matplotlib inline"
   ]
  },
  {
   "cell_type": "code",
   "execution_count": 4,
   "metadata": {
    "collapsed": false
   },
   "outputs": [],
   "source": [
    "# #sampling the file\n",
    "# fname='df_w_pat_cit_191003.csv'\n",
    "# # sample_df='sample_df_w_pat_cit_190926.csv'\n",
    "# n = sum(1 for line in open(fname)) - 1 #number of records in file (excludes header)\n",
    "# s = 100000 #desired sample size\n",
    "# skip = sorted(random.sample(range(1,n+1),n-s)) #the 0-indexed header will not be included in the skip list\n",
    "# df = pd.read_csv(fname, skiprows=skip, dtype={\"id\": object, \"number\": object}, index_col=0)"
   ]
  },
  {
   "cell_type": "code",
   "execution_count": 5,
   "metadata": {
    "collapsed": false
   },
   "outputs": [
    {
     "name": "stderr",
     "output_type": "stream",
     "text": [
      "/home/applications/anaconda3/4.2.0/lib/python3.5/site-packages/IPython/core/interactiveshell.py:2717: DtypeWarning: Columns (1,3) have mixed types. Specify dtype option on import or set low_memory=False.\n",
      "  interactivity=interactivity, compiler=compiler, result=result)\n"
     ]
    },
    {
     "data": {
      "text/plain": [
       "type                  True\n",
       "number                True\n",
       "date                  True\n",
       "kind                  True\n",
       "num_claims            True\n",
       "forward_citation     False\n",
       "backward_citation    False\n",
       "year                  True\n",
       "month                 True\n",
       "day                   True\n",
       "dtype: bool"
      ]
     },
     "execution_count": 5,
     "metadata": {},
     "output_type": "execute_result"
    }
   ],
   "source": [
    "# Read the file\n",
    "# df=pd.read_table(r'/home/rkogeyam/PATENT_CITATION/df_w_pat_cit.csv', sep=',')\n",
    "\n",
    "# o arquivo gerado em 190926 categoriza as variaveis type e kind, alem de trazer a data ja separada em dia, mes e ano\n",
    "# df=pd.read_csv(r'/home/rkogeyam/aPATENT_CITATION/df_w_pat_cit_191003.csv', sep=',', index_col=0 )\n",
    "\n",
    "df=pd.read_csv('/home/rkogeyam/PATENT_CITATION/df_w_pat_cit_191003.csv', sep=',', index_col=0, usecols=[1,2,3,5,8,9,11,12,13,14,15])\n",
    "\n",
    "# Identify null variables\n",
    "pd.isnull(df).sum() > 0"
   ]
  },
  {
   "cell_type": "code",
   "execution_count": 6,
   "metadata": {
    "collapsed": false
   },
   "outputs": [],
   "source": [
    "# print(df[df.isnull().any(axis=1)])"
   ]
  },
  {
   "cell_type": "code",
   "execution_count": 7,
   "metadata": {
    "collapsed": true
   },
   "outputs": [],
   "source": [
    "df=df.dropna()"
   ]
  },
  {
   "cell_type": "code",
   "execution_count": 8,
   "metadata": {
    "collapsed": false
   },
   "outputs": [
    {
     "data": {
      "text/html": [
       "<div>\n",
       "<table border=\"1\" class=\"dataframe\">\n",
       "  <thead>\n",
       "    <tr style=\"text-align: right;\">\n",
       "      <th></th>\n",
       "      <th>num_claims</th>\n",
       "      <th>forward_citation</th>\n",
       "      <th>backward_citation</th>\n",
       "      <th>year</th>\n",
       "      <th>month</th>\n",
       "      <th>day</th>\n",
       "    </tr>\n",
       "  </thead>\n",
       "  <tbody>\n",
       "    <tr>\n",
       "      <th>count</th>\n",
       "      <td>6.488250e+06</td>\n",
       "      <td>6.488250e+06</td>\n",
       "      <td>6.488250e+06</td>\n",
       "      <td>6.488250e+06</td>\n",
       "      <td>6.488250e+06</td>\n",
       "      <td>6.488250e+06</td>\n",
       "    </tr>\n",
       "    <tr>\n",
       "      <th>mean</th>\n",
       "      <td>1.414322e+01</td>\n",
       "      <td>2.184880e+00</td>\n",
       "      <td>1.121036e+00</td>\n",
       "      <td>2.002723e+03</td>\n",
       "      <td>6.590932e+00</td>\n",
       "      <td>1.564228e+01</td>\n",
       "    </tr>\n",
       "    <tr>\n",
       "      <th>std</th>\n",
       "      <td>1.200423e+01</td>\n",
       "      <td>1.755111e+01</td>\n",
       "      <td>7.449018e+00</td>\n",
       "      <td>1.132268e+01</td>\n",
       "      <td>3.402092e+00</td>\n",
       "      <td>8.827000e+00</td>\n",
       "    </tr>\n",
       "    <tr>\n",
       "      <th>min</th>\n",
       "      <td>0.000000e+00</td>\n",
       "      <td>0.000000e+00</td>\n",
       "      <td>0.000000e+00</td>\n",
       "      <td>1.976000e+03</td>\n",
       "      <td>1.000000e+00</td>\n",
       "      <td>1.000000e+00</td>\n",
       "    </tr>\n",
       "    <tr>\n",
       "      <th>25%</th>\n",
       "      <td>6.000000e+00</td>\n",
       "      <td>0.000000e+00</td>\n",
       "      <td>0.000000e+00</td>\n",
       "      <td>1.995000e+03</td>\n",
       "      <td>4.000000e+00</td>\n",
       "      <td>8.000000e+00</td>\n",
       "    </tr>\n",
       "    <tr>\n",
       "      <th>50%</th>\n",
       "      <td>1.200000e+01</td>\n",
       "      <td>0.000000e+00</td>\n",
       "      <td>0.000000e+00</td>\n",
       "      <td>2.005000e+03</td>\n",
       "      <td>7.000000e+00</td>\n",
       "      <td>1.600000e+01</td>\n",
       "    </tr>\n",
       "    <tr>\n",
       "      <th>75%</th>\n",
       "      <td>2.000000e+01</td>\n",
       "      <td>0.000000e+00</td>\n",
       "      <td>0.000000e+00</td>\n",
       "      <td>2.013000e+03</td>\n",
       "      <td>1.000000e+01</td>\n",
       "      <td>2.300000e+01</td>\n",
       "    </tr>\n",
       "    <tr>\n",
       "      <th>max</th>\n",
       "      <td>8.870000e+02</td>\n",
       "      <td>2.914000e+03</td>\n",
       "      <td>2.592000e+03</td>\n",
       "      <td>2.017000e+03</td>\n",
       "      <td>1.200000e+01</td>\n",
       "      <td>3.100000e+01</td>\n",
       "    </tr>\n",
       "  </tbody>\n",
       "</table>\n",
       "</div>"
      ],
      "text/plain": [
       "         num_claims  forward_citation  backward_citation          year  \\\n",
       "count  6.488250e+06      6.488250e+06       6.488250e+06  6.488250e+06   \n",
       "mean   1.414322e+01      2.184880e+00       1.121036e+00  2.002723e+03   \n",
       "std    1.200423e+01      1.755111e+01       7.449018e+00  1.132268e+01   \n",
       "min    0.000000e+00      0.000000e+00       0.000000e+00  1.976000e+03   \n",
       "25%    6.000000e+00      0.000000e+00       0.000000e+00  1.995000e+03   \n",
       "50%    1.200000e+01      0.000000e+00       0.000000e+00  2.005000e+03   \n",
       "75%    2.000000e+01      0.000000e+00       0.000000e+00  2.013000e+03   \n",
       "max    8.870000e+02      2.914000e+03       2.592000e+03  2.017000e+03   \n",
       "\n",
       "              month           day  \n",
       "count  6.488250e+06  6.488250e+06  \n",
       "mean   6.590932e+00  1.564228e+01  \n",
       "std    3.402092e+00  8.827000e+00  \n",
       "min    1.000000e+00  1.000000e+00  \n",
       "25%    4.000000e+00  8.000000e+00  \n",
       "50%    7.000000e+00  1.600000e+01  \n",
       "75%    1.000000e+01  2.300000e+01  \n",
       "max    1.200000e+01  3.100000e+01  "
      ]
     },
     "execution_count": 8,
     "metadata": {},
     "output_type": "execute_result"
    }
   ],
   "source": [
    "# Generate a binary output for simpler tests\n",
    "#df['citation_bi']=0\n",
    "#df.loc[df.backward_citation>0, 'citation_bi']=1\n",
    "\n",
    "# Convert categorical to binary\n",
    "# df=pd.get_dummies(df, columns=['type', 'kind', 'country'])\n",
    "# df=pd.get_dummies(df, columns=['type', 'kind'])\n",
    "\n",
    "df.describe()"
   ]
  },
  {
   "cell_type": "code",
   "execution_count": 9,
   "metadata": {
    "collapsed": false
   },
   "outputs": [],
   "source": [
    "# df.columns.values"
   ]
  },
  {
   "cell_type": "code",
   "execution_count": 10,
   "metadata": {
    "collapsed": false
   },
   "outputs": [
    {
     "data": {
      "text/plain": [
       "(6488250, 10)"
      ]
     },
     "execution_count": 10,
     "metadata": {},
     "output_type": "execute_result"
    }
   ],
   "source": [
    "df.shape"
   ]
  },
  {
   "cell_type": "code",
   "execution_count": 11,
   "metadata": {
    "collapsed": true
   },
   "outputs": [],
   "source": [
    "# df=df.fillna(0)"
   ]
  },
  {
   "cell_type": "code",
   "execution_count": 12,
   "metadata": {
    "collapsed": false
   },
   "outputs": [
    {
     "data": {
      "text/plain": [
       "(6488250, 10)"
      ]
     },
     "execution_count": 12,
     "metadata": {},
     "output_type": "execute_result"
    }
   ],
   "source": [
    "df.shape"
   ]
  },
  {
   "cell_type": "code",
   "execution_count": 13,
   "metadata": {
    "collapsed": false
   },
   "outputs": [
    {
     "data": {
      "text/plain": [
       "(528734, 10)"
      ]
     },
     "execution_count": 13,
     "metadata": {},
     "output_type": "execute_result"
    }
   ],
   "source": [
    "# data exploration\n",
    "\n",
    "# outcome: citation count\n",
    "\n",
    "# data with more than one citation\n",
    "# exclude zeroes and ones\n",
    "df2=df[df.backward_citation>1]\n",
    "df2.shape"
   ]
  },
  {
   "cell_type": "code",
   "execution_count": 14,
   "metadata": {
    "collapsed": false
   },
   "outputs": [
    {
     "name": "stdout",
     "output_type": "stream",
     "text": [
      "df3.shape\n",
      "(6488250, 6)\n"
     ]
    }
   ],
   "source": [
    "# dealing with outliers \n",
    "\n",
    "df3=df._get_numeric_data()\n",
    "\n",
    "print(\"df3.shape\")\n",
    "print(df3.shape)\n",
    "\n",
    "mean=df3.mean(axis=0)\n",
    "std_dev=df3.std(axis=0)\n",
    "\n",
    "threshold=3*std_dev\n",
    "\n",
    "df3=df3[df3.backward_citation-mean.backward_citation<threshold.backward_citation]\n",
    "df3=df3[df3.num_claims-mean.num_claims<threshold.num_claims]"
   ]
  },
  {
   "cell_type": "code",
   "execution_count": 15,
   "metadata": {
    "collapsed": false
   },
   "outputs": [
    {
     "data": {
      "text/plain": [
       "<matplotlib.axes._subplots.AxesSubplot at 0x7ff7a4c717f0>"
      ]
     },
     "execution_count": 15,
     "metadata": {},
     "output_type": "execute_result"
    },
    {
     "data": {
      "image/png": "[encoded data removed]",
      "text/plain": [
       "<matplotlib.figure.Figure at 0x7ff7c12dfc50>"
      ]
     },
     "metadata": {},
     "output_type": "display_data"
    }
   ],
   "source": [
    "df.backward_citation.hist()"
   ]
  },
  {
   "cell_type": "code",
   "execution_count": 16,
   "metadata": {
    "collapsed": false
   },
   "outputs": [
    {
     "data": {
      "text/plain": [
       "array([[<matplotlib.axes._subplots.AxesSubplot object at 0x7ff7c0f9a828>,\n",
       "        <matplotlib.axes._subplots.AxesSubplot object at 0x7ff7c0f56048>,\n",
       "        <matplotlib.axes._subplots.AxesSubplot object at 0x7ff7c0e9af28>],\n",
       "       [<matplotlib.axes._subplots.AxesSubplot object at 0x7ff7c0e60be0>,\n",
       "        <matplotlib.axes._subplots.AxesSubplot object at 0x7ff7c0e2ddd8>,\n",
       "        <matplotlib.axes._subplots.AxesSubplot object at 0x7ff7c0df0710>],\n",
       "       [<matplotlib.axes._subplots.AxesSubplot object at 0x7ff7c0dbe630>,\n",
       "        <matplotlib.axes._subplots.AxesSubplot object at 0x7ff7c0d82320>,\n",
       "        <matplotlib.axes._subplots.AxesSubplot object at 0x7ff7c0d4e470>]], dtype=object)"
      ]
     },
     "execution_count": 16,
     "metadata": {},
     "output_type": "execute_result"
    },
    {
     "data": {
      "image/png": "[encoded data removed]",
      "text/plain": [
       "<matplotlib.figure.Figure at 0x7ff7c0ff4b38>"
      ]
     },
     "metadata": {},
     "output_type": "display_data"
    }
   ],
   "source": [
    "df['backward_citation'].hist(by=df['type'], figsize=[12,6], sharex=True)\n",
    "#option figsize establishes the total size of the figure\n",
    "#option sharex makes all figures share the same x axis"
   ]
  },
  {
   "cell_type": "code",
   "execution_count": 17,
   "metadata": {
    "collapsed": false
   },
   "outputs": [
    {
     "data": {
      "text/plain": [
       "array([[<matplotlib.axes._subplots.AxesSubplot object at 0x7ff7c0c77c18>,\n",
       "        <matplotlib.axes._subplots.AxesSubplot object at 0x7ff78f100240>,\n",
       "        <matplotlib.axes._subplots.AxesSubplot object at 0x7ff78f0c7828>,\n",
       "        <matplotlib.axes._subplots.AxesSubplot object at 0x7ff78f064198>],\n",
       "       [<matplotlib.axes._subplots.AxesSubplot object at 0x7ff78f032978>,\n",
       "        <matplotlib.axes._subplots.AxesSubplot object at 0x7ff78eff8518>,\n",
       "        <matplotlib.axes._subplots.AxesSubplot object at 0x7ff78efc3908>,\n",
       "        <matplotlib.axes._subplots.AxesSubplot object at 0x7ff78ef88128>],\n",
       "       [<matplotlib.axes._subplots.AxesSubplot object at 0x7ff78ef54400>,\n",
       "        <matplotlib.axes._subplots.AxesSubplot object at 0x7ff78ef0ecf8>,\n",
       "        <matplotlib.axes._subplots.AxesSubplot object at 0x7ff78ee66128>,\n",
       "        <matplotlib.axes._subplots.AxesSubplot object at 0x7ff78ee798d0>],\n",
       "       [<matplotlib.axes._subplots.AxesSubplot object at 0x7ff78edf0cf8>,\n",
       "        <matplotlib.axes._subplots.AxesSubplot object at 0x7ff78edbfef0>,\n",
       "        <matplotlib.axes._subplots.AxesSubplot object at 0x7ff78ed83710>,\n",
       "        <matplotlib.axes._subplots.AxesSubplot object at 0x7ff78ed4eb38>]], dtype=object)"
      ]
     },
     "execution_count": 17,
     "metadata": {},
     "output_type": "execute_result"
    },
    {
     "data": {
      "image/png": "[encoded data removed]",
      "text/plain": [
       "<matplotlib.figure.Figure at 0x7ff7c1010dd8>"
      ]
     },
     "metadata": {},
     "output_type": "display_data"
    }
   ],
   "source": [
    "df['backward_citation'].hist(by=df['kind'], figsize=[16,12], sharex=True)"
   ]
  },
  {
   "cell_type": "code",
   "execution_count": 18,
   "metadata": {
    "collapsed": false
   },
   "outputs": [
    {
     "data": {
      "image/png": "[encoded data removed]",
      "text/plain": [
       "<matplotlib.figure.Figure at 0x7ff7c0fb92e8>"
      ]
     },
     "metadata": {},
     "output_type": "display_data"
    }
   ],
   "source": [
    "f, axs = plot.subplots(1,3,figsize=(12,4))\n",
    "\n",
    "plot.subplot(1, 3, 1)\n",
    "plot.title('# of citations \\n with outliers')\n",
    "plot.xlabel('citations') \n",
    "plot.ylabel('claims') \n",
    "plot.scatter(df2['backward_citation'], df2['num_claims'], s=12)\n",
    "\n",
    "plot.subplot(1, 3, 2)\n",
    "plot.title('# of citations \\n no outliers')\n",
    "plot.xlabel('citations') \n",
    "plot.ylabel('claims') \n",
    "plot.scatter(df3['backward_citation'], df3['num_claims'], s=1)\n",
    "\n",
    "plot.subplot(1, 3, 3)\n",
    "plot.title('# of citations \\n 2 or more citations')\n",
    "df2.backward_citation.hist()\n",
    "\n",
    "plot.tight_layout() #diminui o overlap entre os graficos"
   ]
  },
  {
   "cell_type": "code",
   "execution_count": 19,
   "metadata": {
    "collapsed": false
   },
   "outputs": [
    {
     "data": {
      "text/plain": [
       "array([[<matplotlib.axes._subplots.AxesSubplot object at 0x7ff7c0712550>,\n",
       "        <matplotlib.axes._subplots.AxesSubplot object at 0x7ff7c066e0f0>],\n",
       "       [<matplotlib.axes._subplots.AxesSubplot object at 0x7ff7c063b3c8>,\n",
       "        <matplotlib.axes._subplots.AxesSubplot object at 0x7ff7c05f8978>],\n",
       "       [<matplotlib.axes._subplots.AxesSubplot object at 0x7ff7c05c5b70>,\n",
       "        <matplotlib.axes._subplots.AxesSubplot object at 0x7ff7c058a4a8>]], dtype=object)"
      ]
     },
     "execution_count": 19,
     "metadata": {},
     "output_type": "execute_result"
    },
    {
     "data": {
      "image/png": "[encoded data removed]",
      "text/plain": [
       "<matplotlib.figure.Figure at 0x7ff78efdcc18>"
      ]
     },
     "metadata": {},
     "output_type": "display_data"
    }
   ],
   "source": [
    "df2.hist(figsize=[12,6], sharey=True)"
   ]
  },
  {
   "cell_type": "code",
   "execution_count": 20,
   "metadata": {
    "collapsed": false
   },
   "outputs": [
    {
     "data": {
      "text/plain": [
       "array([[<matplotlib.axes._subplots.AxesSubplot object at 0x7ff7c0695978>,\n",
       "        <matplotlib.axes._subplots.AxesSubplot object at 0x7ff7c03d77b8>],\n",
       "       [<matplotlib.axes._subplots.AxesSubplot object at 0x7ff7c0323978>,\n",
       "        <matplotlib.axes._subplots.AxesSubplot object at 0x7ff7c02e0e80>],\n",
       "       [<matplotlib.axes._subplots.AxesSubplot object at 0x7ff7c02b40b8>,\n",
       "        <matplotlib.axes._subplots.AxesSubplot object at 0x7ff7c02719b0>]], dtype=object)"
      ]
     },
     "execution_count": 20,
     "metadata": {},
     "output_type": "execute_result"
    },
    {
     "data": {
      "image/png": "[encoded data removed]",
      "text/plain": [
       "<matplotlib.figure.Figure at 0x7ff7c0674978>"
      ]
     },
     "metadata": {},
     "output_type": "display_data"
    }
   ],
   "source": [
    "df3.hist(figsize=[12,6], sharey=True)"
   ]
  },
  {
   "cell_type": "code",
   "execution_count": 22,
   "metadata": {
    "collapsed": true
   },
   "outputs": [],
   "source": [
    "df['num_claims']=df['num_claims'].astype(str).astype(float)"
   ]
  },
  {
   "cell_type": "code",
   "execution_count": 23,
   "metadata": {
    "collapsed": false
   },
   "outputs": [
    {
     "name": "stdout",
     "output_type": "stream",
     "text": [
      "type | 6 | object\n",
      "number | 528734 | object\n",
      "date | 2185 | object\n",
      "kind | 12 | object\n",
      "num_claims | 212 | float64\n",
      "forward_citation | 632 | float64\n",
      "backward_citation | 518 | float64\n",
      "year | 42 | float64\n",
      "month | 12 | float64\n",
      "day | 31 | float64\n"
     ]
    }
   ],
   "source": [
    "# Check the Dataset\n",
    "def uniqueColValues(auxdf):\n",
    "    for column in auxdf:\n",
    "        print(\"{} | {} | {}\".format(\n",
    "            auxdf[column].name, len(auxdf[column].unique()), auxdf[column].dtype\n",
    "        ))\n",
    "        \n",
    "uniqueColValues(df2)"
   ]
  },
  {
   "cell_type": "code",
   "execution_count": 24,
   "metadata": {
    "collapsed": false
   },
   "outputs": [
    {
     "data": {
      "text/plain": [
       "Index(['type', 'number', 'date', 'kind', 'num_claims', 'forward_citation',\n",
       "       'backward_citation', 'year', 'month', 'day'],\n",
       "      dtype='object')"
      ]
     },
     "execution_count": 24,
     "metadata": {},
     "output_type": "execute_result"
    }
   ],
   "source": [
    "df.columns"
   ]
  },
  {
   "cell_type": "code",
   "execution_count": 25,
   "metadata": {
    "collapsed": false
   },
   "outputs": [],
   "source": [
    "# # # Naive Bayes\n",
    "\n",
    "# chosenColumns = ['num_claims','year']\n",
    "\n",
    "# myX = df2.as_matrix(columns=chosenColumns)\n",
    "# # myY = df2.as_matrix(columns=['backward_citation'])\n",
    "# myY = df2.as_matrix(columns=['backward_citation'])\n",
    "\n",
    "# xTrain, xTest, yTrain, yTest = train_test_split(myX, myY, train_size=0.7, random_state=3)\n",
    "# testSize = yTest.shape[0]\n",
    "\n",
    "\n",
    "# # nb = naive_bayes.GaussianNB()\n",
    "\n",
    "# # dado que o output eh count, uma distribuicao multinomial se adapta melhor\n",
    "# nb = naive_bayes.MultinomialNB()\n",
    "\n",
    "# # complementNB adapta o MultinomialNB para datasets muito desbalanceados\n",
    "# # porem nao esta disponivel para a versao 0.19 do scikit-learn\n",
    "# # nb = naive_bayes.ComplementNB()\n",
    "\n",
    "# nb.fit(xTrain, yTrain.ravel())\n",
    "\n",
    "# yPredNB = nb.predict(xTest) # predicting test data\n",
    "\n",
    "# # computing error\n",
    "# errorNB = np.sum((yPredNB[i] != yTest[i]) for i in range(0, testSize))\n",
    "# errorNBPCT = int(100*errorNB/testSize)\n",
    "# hitRateNBPCT = 100 - errorNBPCT\n",
    "\n",
    "# print(\"----------Naive Bayes----------\")\n",
    "# print(int(errorNB), \"misclassified data out of\", testSize)\n",
    "# print(\"Error PCT: \",errorNBPCT,'%')\n",
    "# print(\"Hit Rate:  \",hitRateNBPCT,'%')"
   ]
  },
  {
   "cell_type": "code",
   "execution_count": 26,
   "metadata": {
    "collapsed": true
   },
   "outputs": [],
   "source": [
    "# # Naive Bayes\n",
    "def test_naive_bayes(dataset):\n",
    "\n",
    "    chosenColumns = ['num_claims','year', 'month', 'day', 'type_plant',\n",
    "           'type_reissue', 'type_statutory invention registration', 'type_utility',\n",
    "           'kind_A', 'kind_B1', 'kind_B2', 'kind_E', 'kind_E1', 'kind_H', 'kind_P',\n",
    "           'kind_P2', 'kind_P3', 'forward_citation']\n",
    "#     chosenColumns = ['num_claims','year']\n",
    "\n",
    "    myX = dataset.as_matrix(columns=chosenColumns)\n",
    "    # myY = df2.as_matrix(columns=['backward_citation'])\n",
    "    myY = dataset.as_matrix(columns=['backward_citation'])\n",
    "\n",
    "    xTrain, xTest, yTrain, yTest = train_test_split(myX, myY, train_size=0.7, random_state=3)\n",
    "    testSize = yTest.shape[0]\n",
    "\n",
    "\n",
    "    # nb = naive_bayes.GaussianNB()\n",
    "\n",
    "    # dado que o output eh count, uma distribuicao multinomial se adapta melhor\n",
    "    nb = naive_bayes.MultinomialNB()\n",
    "\n",
    "    # complementNB adapta o MultinomialNB para datasets muito desbalanceados\n",
    "    # porem nao esta disponivel para a versao 0.19 do scikit-learn\n",
    "    # nb = naive_bayes.ComplementNB()\n",
    "\n",
    "    nb.fit(xTrain, yTrain.ravel())\n",
    "\n",
    "    yPredNB = nb.predict(xTest) # predicting test data\n",
    "\n",
    "    # computing error\n",
    "    errorNB = np.sum((yPredNB[i] != yTest[i]) for i in range(0, testSize))\n",
    "    errorNBPCT = int(100*errorNB/testSize)\n",
    "    hitRateNBPCT = 100 - errorNBPCT\n",
    "    return(testSize, errorNB, errorNBPCT, hitRateNBPCT)\n",
    "   "
   ]
  },
  {
   "cell_type": "code",
   "execution_count": 27,
   "metadata": {
    "collapsed": false
   },
   "outputs": [],
   "source": [
    "# #naive bayes with complete dataset\n",
    "\n",
    "# testSize, errorNB, errorNBPCT, hitRateNBPCT=test_naive_bayes(df)\n",
    "\n",
    "# print(\"----------Naive Bayes----------\")\n",
    "# print(int(errorNB), \"misclassified data out of\", testSize)\n",
    "# print(\"Error PCT: \",errorNBPCT,'%')\n",
    "# print(\"Hit Rate:  \",hitRateNBPCT,'%')"
   ]
  },
  {
   "cell_type": "code",
   "execution_count": 28,
   "metadata": {
    "collapsed": false
   },
   "outputs": [],
   "source": [
    "# #naive bayes without outliers\n",
    "\n",
    "# testSize, errorNB, errorNBPCT, hitRateNBPCT=test_naive_bayes(df3)\n",
    "\n",
    "# print(\"----------Naive Bayes----------\")\n",
    "# print(int(errorNB), \"misclassified data out of\", testSize)\n",
    "# print(\"Error PCT: \",errorNBPCT,'%')\n",
    "# print(\"Hit Rate:  \",hitRateNBPCT,'%')"
   ]
  },
  {
   "cell_type": "code",
   "execution_count": 29,
   "metadata": {
    "collapsed": true
   },
   "outputs": [],
   "source": [
    "# K Nearest Neighbors\n",
    "def test_knn(dataset):\n",
    "    chosenColumns = ['num_claims','year', 'month', 'day', 'type_plant',\n",
    "           'type_reissue', 'type_statutory invention registration', 'type_utility',\n",
    "           'kind_A', 'kind_B1', 'kind_B2', 'kind_E', 'kind_E1', 'kind_H', 'kind_P',\n",
    "           'kind_P2', 'kind_P3', 'forward_citation']\n",
    "\n",
    "    myX = dataset.as_matrix(columns=chosenColumns)\n",
    "    myY = dataset.as_matrix(columns=['backward_citation'])\n",
    "\n",
    "    xTrain, xTest, yTrain, yTest = train_test_split(myX, myY, train_size=0.7, random_state=3)\n",
    "    testSize = yTest.shape[0]\n",
    "\n",
    "    myK = 5\n",
    "\n",
    "    knn =  KNeighborsClassifier(n_neighbors=myK)\n",
    "    knn.fit(xTrain, yTrain.ravel())\n",
    "    yPredKNN = knn.predict(xTest) # predicting test data\n",
    "\n",
    "    # computing error\n",
    "    errorKNN = np.sum((yPredKNN[i] != yTest[i]) for i in range(0, testSize))\n",
    "    errorKNNPCT = int(100*errorKNN/testSize)\n",
    "    hitRateKNNPCT = 100 - errorKNNPCT\n",
    "\n",
    "    print(\"----------K Nearest Neighbors----------\")\n",
    "    print(int(errorKNN), \"misclassified data out of\", testSize)\n",
    "    print(\"Error PCT: \",errorKNNPCT,'%')\n",
    "    print(\"Hit Rate:  \",hitRateKNNPCT,'%')\n",
    "    \n",
    "    \n",
    "    fpr, tpr, thresh = roc_curve(yTest.ravel(), yPredKNN.ravel())\n",
    "#     rocAuc = auc(fpr, tpr)\n",
    "    return(testSize, errorNB, errorNBPCT, hitRateNBPCT, fpr, tpr, thresh)"
   ]
  },
  {
   "cell_type": "code",
   "execution_count": 30,
   "metadata": {
    "collapsed": true
   },
   "outputs": [],
   "source": [
    "# # Constructing the ROC curve and AUC\n",
    "# testSize, errorNB, errorNBPCT, hitRateNBPCT, fpr, tpr, thresh=test_naive_bayes(df)\n",
    "# rocAuc = auc(fpr, tpr)"
   ]
  },
  {
   "cell_type": "code",
   "execution_count": 31,
   "metadata": {
    "collapsed": true
   },
   "outputs": [],
   "source": [
    "# codigo descontinuado em 09-10-2019\n",
    "\n",
    "# import pandas as pd\n",
    "# import numpy as np\n",
    "\n",
    "# from sklearn import naive_bayes\n",
    "# # from sklearn.naive_bayes import ComplementNB\n",
    "# from sklearn.neighbors import KNeighborsClassifier\n",
    "# from sklearn.model_selection import train_test_split\n",
    "# import matplotlib.pyplot as plot\n",
    "# from sklearn.metrics import roc_curve, auc\n",
    "# import time\n",
    "\n",
    "\n",
    "# # Este codigo foi parado em 09-16-2019. Serve para futura referencia.\n",
    "\n",
    "# #To check when the script was last run\n",
    "# localtime = time.localtime(time.time())\n",
    "# print (\"Local current time :\", localtime)\n",
    "\n",
    "# df=pd.read_table(r'/home/rkogeyam/PATENT_CITATION/df_w_pat_cit.csv', sep=',')\n",
    "\n",
    "# # Just to adjust our plots inside Jupyter\n",
    "# % matplotlib inline\n",
    "\n",
    "# # df.describe()\n",
    "# # np.any(np.isnan(df))\n",
    "\n",
    "# # np.all(np.isfinite(mat))\n",
    "\n",
    "# # df=df.dropna()\n",
    "\n",
    "\n",
    "# # inds = np.where(np.isnan(df))\n",
    "\n",
    "# #preciso cortar a base pq esta enorme e a memoria nao eh suficiente.\n",
    "# # df2=df.sample(frac=0.1, random_state=1) #random_state permite reprodutibilidade\n",
    "\n",
    "# #tentativa de resolver o NaN, infinite or too large value error.\n",
    "# # df2=df.reset_index()\n",
    "# # df2=df.replace([np.inf, -np.inf], np.nan)\n",
    "# # df2=df2.dropna()\n",
    "# # np.argwhere(np.isnan(df))\n",
    "# # df.isnull().values.any()\n",
    "\n",
    "# df.isnull().any().any()\n",
    "\n",
    "# pd.isnull(df).sum() > 0\n",
    "\n",
    "# df2=df.dropna()\n",
    "\n",
    "# # df2=df2.drop(['type_statutory invention registration'], axis=1)\n",
    "\n",
    "# df2.dtypes\n",
    "\n",
    "# # #vamos procurar o ofensor, estilo calculo numerico\n",
    "# # df2=df2.loc[:, 'id':'backward_citation']\n",
    "# #talvez o problema nao seja os dados, e sim o uso do script\n",
    "# #vou examinar os dados mais de perto\n",
    "\n",
    "# #plot simple correlation\n",
    "# # plot.scatter(df['backward_citation'], df['num_claims'])\n",
    "\n",
    "# # df.hist()\n",
    "# # plot.show()\n",
    "\n",
    "# # corMat=df.corr()\n",
    "# # plot.pcolor(corMat)\n",
    "# # plot.show()\n",
    "\n",
    "# # let's try a simplifying hypothesis\n",
    "# # let the output become binary\n",
    "\n",
    "# df2['citation_bi']=0\n",
    "# df2.loc[df2.backward_citation>0, 'citation_bi']=1\n",
    "\n",
    "# df2.describe()\n",
    "\n",
    "# chosenColumns = ['num_claims','year','month','day','type_TVPP','type_defensive publication','type_design','type_plant','type_reissue','kind_H','kind_H1','kind_H2','kind_I4','kind_I5','kind_P','kind_P2','kind_P3','kind_S','kind_S1']\n",
    "# # chosenColumns = ['num_claims','year','month','day','type_TVPP']\n",
    "\n",
    "# myX = df2.as_matrix(columns=chosenColumns)\n",
    "# # myY = df2.as_matrix(columns=['backward_citation'])\n",
    "# myY = df2.as_matrix(columns=['citation_bi'])\n",
    "\n",
    "# xTrain, xTest, yTrain, yTest = train_test_split(myX, myY, train_size=0.7, random_state=3)\n",
    "# testSize = yTest.shape[0]\n",
    "\n",
    "# # # Naive Bayes\n",
    "\n",
    "# # nb = naive_bayes.GaussianNB()\n",
    "# # dado que o output eh count, uma distribuicao multinomial se adapta melhor\n",
    "# nb = naive_bayes.MultinomialNB()\n",
    "# # complementNB adapta o MultinomialNB para datasets muito desbalanceados\n",
    "# # porem nao esta disponivel para a versao 0.19 do scikit-learn\n",
    "# # nb = naive_bayes.ComplementNB()\n",
    "\n",
    "# nb.fit(xTrain, yTrain.ravel())\n",
    "\n",
    "# yPredNB = nb.predict(xTest) # predicting test data\n",
    "\n",
    "# # computing error\n",
    "# errorNB = np.sum((yPredNB[i] != yTest[i]) for i in range(0, testSize))\n",
    "# errorNBPCT = int(100*errorNB/testSize)\n",
    "# hitRateNBPCT = 100 - errorNBPCT\n",
    "\n",
    "# print(\"----------Naive Bayes----------\")\n",
    "# print(int(errorNB), \"misclassified data out of\", testSize)\n",
    "# print(\"Error PCT: \",errorNBPCT,'%')\n",
    "# print(\"Hit Rate:  \",hitRateNBPCT,'%')\n",
    "\n",
    "# # # K Nearest Neighbors\n",
    "\n",
    "# # myK = 5\n",
    "    \n",
    "# # knn =  KNeighborsClassifier(n_neighbors=myK)\n",
    "# # knn.fit(xTrain, yTrain.ravel())\n",
    "# # yPredKNN = knn.predict(xTest) # predicting test data\n",
    "\n",
    "# # # computing error\n",
    "# # errorKNN = np.sum((yPredKNN[i] != yTest[i]) for i in range(0, testSize))\n",
    "# # errorKNNPCT = int(100*errorKNN/testSize)\n",
    "# # hitRateKNNPCT = 100 - errorKNNPCT\n",
    "\n",
    "# # print(\"----------K Nearest Neighbors----------\")\n",
    "# # print(int(errorKNN), \"misclassified data out of\", testSize)\n",
    "# # print(\"Error PCT: \",errorKNNPCT,'%')\n",
    "# # print(\"Hit Rate:  \",hitRateKNNPCT,'%')\n",
    "\n",
    "# # Constructing the ROC curve and AUC\n",
    "\n",
    "# fpr, tpr, thresh = roc_curve(yTest.ravel(), yPredKNN.ravel())\n",
    "# rocAuc = auc(fpr, tpr)"
   ]
  }
 ],
 "metadata": {
  "anaconda-cloud": {},
  "kernelspec": {
   "display_name": "Python [default]",
   "language": "python",
   "name": "python3"
  },
  "language_info": {
   "codemirror_mode": {
    "name": "ipython",
    "version": 3
   },
   "file_extension": ".py",
   "mimetype": "text/x-python",
   "name": "python",
   "nbconvert_exporter": "python",
   "pygments_lexer": "ipython3",
   "version": "3.5.2"
  }
 },
 "nbformat": 4,
 "nbformat_minor": 2
}
