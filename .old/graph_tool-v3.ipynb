{
 "cells": [
  {
   "cell_type": "code",
   "execution_count": 1,
   "metadata": {
    "collapsed": true
   },
   "outputs": [],
   "source": [
    "\"\"\"\n",
    "DO NOT USE THIS SCRIPT, ONLY FOR DOCUMENTATION PURPOSES\n",
    "\n",
    "August 17th, 2020\n",
    "As of this date, this script is not being used.\n",
    "The difference between this and graph_tool-v2.ipynb is that in this script, \n",
    "I calculate network centrality with different measures such as eigen and katz.\n",
    "Upon the choice for pagerank, this script is no longer necessary.\n",
    "\n",
    "# calculate centrality of patent citation\n",
    "# February 25th, 2020\n",
    "# Networkx proved too slow\n",
    "# Graph-tool is much faster\n",
    "# The steps to calculate centrality in graph-tools are\n",
    "# 1-create a graph\n",
    "# 2-read data and convert into a list of edges and a list of vertices\n",
    "\n",
    "\n",
    "# February 6th, 2020\n",
    "# Type: Graph\n",
    "# Number of nodes: 8527465\n",
    "# Number of edges: 91336922\n",
    "# Average degree:  21.4218\n",
    "\"\"\""
   ]
  },
  {
   "cell_type": "code",
   "execution_count": 2,
   "metadata": {
    "collapsed": false
   },
   "outputs": [
    {
     "name": "stderr",
     "output_type": "stream",
     "text": [
      "/home/rkogeyam/.conda/envs/n-env/lib/python2.7/site-packages/graph_tool/draw/cairo_draw.py:1494: RuntimeWarning: Error importing Gtk module: No module named gi; GTK+ drawing will not work.\n",
      "  warnings.warn(msg, RuntimeWarning)\n"
     ]
    }
   ],
   "source": [
    "import matplotlib\n",
    "import graph_tool.all as gt\n",
    "from random import randint\n",
    "import csv\n",
    "\n",
    "# import pandas as pd"
   ]
  },
  {
   "cell_type": "code",
   "execution_count": 3,
   "metadata": {
    "collapsed": true
   },
   "outputs": [],
   "source": [
    "# src='data/sample.csv'\n",
    "src='data/uspatclean_joinselfcit.csv'\n",
    "dst='data/centralit_noselfcit.csv'"
   ]
  },
  {
   "cell_type": "code",
   "execution_count": 4,
   "metadata": {
    "collapsed": true
   },
   "outputs": [],
   "source": [
    "g=gt.Graph()"
   ]
  },
  {
   "cell_type": "code",
   "execution_count": 5,
   "metadata": {
    "collapsed": false
   },
   "outputs": [
    {
     "name": "stdout",
     "output_type": "stream",
     "text": [
      "CPU times: user 3 µs, sys: 1e+03 ns, total: 4 µs\n",
      "Wall time: 5.96 µs\n"
     ]
    }
   ],
   "source": [
    "%time\n",
    "with open(src, 'r') as csvfile:\n",
    "    \n",
    "    list_of_edges = csv.reader(csvfile, delimiter=',')\n",
    "\n",
    "    vertices = {}\n",
    "\n",
    "    for e in list_of_edges:\n",
    "        if e[0] not in vertices:\n",
    "            vertices[e[0]] = True\n",
    "        if e[1] not in vertices:\n",
    "            vertices[e[1]] = True\n",
    "\n",
    "    for d in vertices:\n",
    "        vertices[d] = g.add_vertex()\n",
    "#         g.add_vertex(vertices[d])\n",
    "\n",
    "#    for edge in list_of_edges:\n",
    "#        print(vertices[edge[0]], vertices[edge[1]])\n",
    "#         g.add_edge(vertices[edge[0]], vertices[edge[1]])"
   ]
  },
  {
   "cell_type": "code",
   "execution_count": null,
   "metadata": {
    "collapsed": false
   },
   "outputs": [
    {
     "name": "stdout",
     "output_type": "stream",
     "text": [
      "CPU times: user 3 µs, sys: 0 ns, total: 3 µs\n",
      "Wall time: 5.96 µs\n"
     ]
    }
   ],
   "source": [
    "%time\n",
    "with open(src, 'r') as csvfile:\n",
    "    \n",
    "    list_of_edges = csv.reader(csvfile, delimiter=',')\n",
    "\n",
    "    for edge in list_of_edges:\n",
    "#         print(vertices[edge[0]], vertices[edge[1]])\n",
    "        g.add_edge(vertices[edge[0]], vertices[edge[1]])"
   ]
  },
  {
   "cell_type": "code",
   "execution_count": null,
   "metadata": {
    "collapsed": true
   },
   "outputs": [],
   "source": [
    "g.num_vertices()"
   ]
  },
  {
   "cell_type": "code",
   "execution_count": null,
   "metadata": {
    "collapsed": true,
    "scrolled": true
   },
   "outputs": [],
   "source": [
    "g.num_edges()"
   ]
  },
  {
   "cell_type": "code",
   "execution_count": null,
   "metadata": {
    "collapsed": true
   },
   "outputs": [],
   "source": [
    "# Initialize attribute\n",
    "eigen=g.new_vertex_property('float')"
   ]
  },
  {
   "cell_type": "code",
   "execution_count": null,
   "metadata": {
    "collapsed": true
   },
   "outputs": [],
   "source": [
    "# Internalize attribute into the graph\n",
    "g.vertex_properties[\"eigen\"]=eigen"
   ]
  },
  {
   "cell_type": "code",
   "execution_count": null,
   "metadata": {
    "collapsed": true
   },
   "outputs": [],
   "source": [
    "%time\n",
    "# Calculate centrality \n",
    "# max_eigenvalue, eigen = gt.graph_tool.centrality.eigenvector(g, vprop=g.vp.eigen)\n",
    "max_eigenvalue, eigen_matrix = gt.graph_tool.centrality.eigenvector(g, vprop=g.vp.eigen)"
   ]
  },
  {
   "cell_type": "code",
   "execution_count": null,
   "metadata": {
    "collapsed": true
   },
   "outputs": [],
   "source": [
    "%time\n",
    "pagerank=g.new_vertex_property('float')\n",
    "g.vertex_properties[\"pagerank\"]=pagerank\n",
    "pagerank=gt.graph_tool.centrality.pagerank(g, prop=g.vp.pagerank)"
   ]
  },
  {
   "cell_type": "code",
   "execution_count": null,
   "metadata": {
    "collapsed": true
   },
   "outputs": [],
   "source": [
    "%time\n",
    "katz=g.new_vertex_property('float')\n",
    "g.vertex_properties[\"katz\"]=katz\n",
    "katz=gt.graph_tool.centrality.katz(g, vprop=g.vp.katz)"
   ]
  },
  {
   "cell_type": "code",
   "execution_count": null,
   "metadata": {
    "collapsed": true
   },
   "outputs": [],
   "source": [
    "# %time\n",
    "betweenness=g.new_vertex_property('float')\n",
    "g.vertex_properties[\"betweenness\"]=betweenness\n",
    "betweenness=gt.graph_tool.centrality.betweenness(g, vprop=g.vp.betweenness)"
   ]
  },
  {
   "cell_type": "code",
   "execution_count": null,
   "metadata": {
    "collapsed": true
   },
   "outputs": [],
   "source": [
    "# g.vertex_properties[\"eigen\"]=eigenvector_property_map"
   ]
  },
  {
   "cell_type": "code",
   "execution_count": null,
   "metadata": {
    "collapsed": true
   },
   "outputs": [],
   "source": [
    "# g.get_vertices(vprops='eigen')"
   ]
  },
  {
   "cell_type": "code",
   "execution_count": null,
   "metadata": {
    "collapsed": true
   },
   "outputs": [],
   "source": [
    "%time\n",
    "with open(dst, 'wb') as myfile:\n",
    "    wr = csv.writer(myfile, quoting=csv.QUOTE_ALL, lineterminator='\\n')\n",
    "    data=zip(vertices.keys(), g.vp.eigen, g.vp.pagerank, g.vp.katz, g.vp.betweenness)\n",
    "    wr.writerow(['id', 'eigen', 'pagerank', 'katz', 'betweenness'])\n",
    "    for vertice in data:\n",
    "        wr.writerow(vertice)"
   ]
  },
  {
   "cell_type": "code",
   "execution_count": null,
   "metadata": {
    "collapsed": true
   },
   "outputs": [],
   "source": [
    "g.list_properties()"
   ]
  },
  {
   "cell_type": "code",
   "execution_count": null,
   "metadata": {
    "collapsed": true
   },
   "outputs": [],
   "source": [
    "# for i in range(0,len(vertices), 10000):\n",
    "#     print(eigenvector_property_map[i])"
   ]
  },
  {
   "cell_type": "code",
   "execution_count": null,
   "metadata": {
    "collapsed": true
   },
   "outputs": [],
   "source": [
    "# for i in range(0,len(vertices), 10):\n",
    "#     print(g.get_vertices())"
   ]
  },
  {
   "cell_type": "code",
   "execution_count": null,
   "metadata": {
    "collapsed": true
   },
   "outputs": [],
   "source": [
    "# g.vertex_properties['eigen']"
   ]
  },
  {
   "cell_type": "code",
   "execution_count": null,
   "metadata": {
    "collapsed": true
   },
   "outputs": [],
   "source": [
    "# with open(\"data/centrality.csv\", \"a\") as myfile:\n",
    "\n",
    "#     for i in range(1,len(vertices)):\n",
    "        \n",
    "#         output=[]\n",
    "#         output.append([i, eigenvector_property_map[i]]) \n",
    "#         myfile.write(str(output[0]))\n"
   ]
  },
  {
   "cell_type": "code",
   "execution_count": null,
   "metadata": {
    "collapsed": true
   },
   "outputs": [],
   "source": [
    "# output[0]"
   ]
  }
 ],
 "metadata": {
  "anaconda-cloud": {},
  "kernelspec": {
   "display_name": "Python [conda env:m-env]",
   "language": "python",
   "name": "conda-env-m-env-py"
  },
  "language_info": {
   "codemirror_mode": {
    "name": "ipython",
    "version": 2
   },
   "file_extension": ".py",
   "mimetype": "text/x-python",
   "name": "python",
   "nbconvert_exporter": "python",
   "pygments_lexer": "ipython2",
   "version": "2.7.15"
  }
 },
 "nbformat": 4,
 "nbformat_minor": 1
}
