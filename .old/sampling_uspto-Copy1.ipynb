{
 "cells": [
  {
   "cell_type": "code",
   "execution_count": 1,
   "metadata": {
    "collapsed": true
   },
   "outputs": [],
   "source": [
    "# Sample USPTO to test coding with limited memory\n",
    "\n",
    "# 09-23-19\n",
    "# Marcelo sugeriu Reservoir Sampling\n",
    "\n",
    "# 09-18-19\n",
    "# Renato Kogeyama"
   ]
  },
  {
   "cell_type": "code",
   "execution_count": 2,
   "metadata": {
    "collapsed": true
   },
   "outputs": [],
   "source": [
    "import csv\n",
    "import pandas as pd\n",
    "import random\n",
    "import itertools\n",
    "import sys\n",
    "import numpy as np\n",
    "\n",
    "\n",
    "from sklearn import linear_model\n",
    "from sklearn import naive_bayes\n",
    "from sklearn.neighbors import KNeighborsClassifier\n",
    "from sklearn.model_selection import train_test_split\n",
    "import matplotlib.pyplot as plot\n",
    "from sklearn.metrics import roc_curve, auc\n",
    "from scipy import stats\n",
    "import datetime"
   ]
  },
  {
   "cell_type": "code",
   "execution_count": 3,
   "metadata": {
    "collapsed": true
   },
   "outputs": [],
   "source": [
    "# citation_file=r\"patent_citation.csv\"\n",
    "# patents_file=\"patent.csv\"\n",
    "fname='df_w_pat_cit_190926.csv'\n",
    "sample_df='sample_df_w_pat_cit_190926.csv'"
   ]
  },
  {
   "cell_type": "code",
   "execution_count": 4,
   "metadata": {
    "collapsed": false
   },
   "outputs": [
    {
     "name": "stderr",
     "output_type": "stream",
     "text": [
      "/home/applications/anaconda3/4.2.0/lib/python3.5/site-packages/IPython/core/interactiveshell.py:2717: DtypeWarning: Columns (0,2) have mixed types. Specify dtype option on import or set low_memory=False.\n",
      "  interactivity=interactivity, compiler=compiler, result=result)\n"
     ]
    }
   ],
   "source": [
    "# dataset sample\n",
    "# inverte a logica: ao inves de dizer quais linhas deseja, indica quais nao deseja ver (skip)\n",
    "# informa essas linhas ao pd.read_csv\n",
    "\n",
    "n = sum(1 for line in open(fname)) - 1 #number of records in file (excludes header)\n",
    "s = 1000000 #desired sample size\n",
    "skip = sorted(random.sample(range(1,n+1),n-s)) #the 0-indexed header will not be included in the skip list\n",
    "df = pd.read_csv(fname, skiprows=skip)"
   ]
  },
  {
   "cell_type": "code",
   "execution_count": 5,
   "metadata": {
    "collapsed": false
   },
   "outputs": [],
   "source": [
    "# converte categorias em dummies\n",
    "\n",
    "df=pd.get_dummies(df, columns=['type', 'kind', 'country'])"
   ]
  },
  {
   "cell_type": "code",
   "execution_count": null,
   "metadata": {
    "collapsed": false
   },
   "outputs": [
    {
     "name": "stdout",
     "output_type": "stream",
     "text": [
      "# of rows: 999899\n",
      "# of columns: 28\n"
     ]
    }
   ],
   "source": [
    "# tamanho do dataset\n",
    "\n",
    "nrow = len(df)\n",
    "ncol = len(df.columns)\n",
    "\n",
    "print('# of rows:', nrow)\n",
    "print('# of columns:', ncol)"
   ]
  },
  {
   "cell_type": "code",
   "execution_count": null,
   "metadata": {
    "collapsed": false
   },
   "outputs": [],
   "source": [
    "# df3 - retirada dos outliers\n",
    "\n",
    "df3=df\n",
    "\n",
    "# preparacao para retirar outliers\n",
    "mean=df3.mean(axis=0)\n",
    "std_dev=df3.std(axis=0)\n",
    "\n",
    "# threshold=3*std_dev.citation_id\n",
    "threshold=3*std_dev\n",
    "\n",
    "df3=df3[df3.citation_id-mean.citation_id<threshold.citation_id]\n",
    "df3=df3[df3.num_claims-mean.num_claims<threshold.num_claims]\n",
    "\n",
    "df3.shape"
   ]
  },
  {
   "cell_type": "code",
   "execution_count": null,
   "metadata": {
    "collapsed": false
   },
   "outputs": [],
   "source": [
    "# Check the Dataset\n",
    "def uniqueColValues(auxdf):\n",
    "    for column in auxdf:\n",
    "        print(\"{} | {} | {}\".format(\n",
    "            auxdf[column].name, len(auxdf[column].unique()), auxdf[column].dtype\n",
    "        ))\n",
    "        \n",
    "uniqueColValues(df)"
   ]
  },
  {
   "cell_type": "code",
   "execution_count": null,
   "metadata": {
    "collapsed": false
   },
   "outputs": [],
   "source": [
    "matplotlib inline #exibe os graficos\n",
    "\n",
    "plot.subplot(1, 3, 1)\n",
    "plot.title('# of citations \\n with outliers')\n",
    "plot.xlabel('citations') \n",
    "plot.ylabel('claims') \n",
    "plot.scatter(df['citation_id'], df['num_claims'], s=12)\n",
    "\n",
    "plot.subplot(1, 3, 2)\n",
    "plot.title('# of citations \\n no outliers')\n",
    "plot.xlabel('citations') \n",
    "plot.ylabel('claims') \n",
    "plot.scatter(df3['citation_id'], df3['num_claims'], s=1)\n",
    "\n",
    "plot.subplot(1, 3, 3)\n",
    "plot.title('# of citations \\n histogram \\n no outliers')\n",
    "df3.citation_id.hist()\n",
    "\n",
    "plot.tight_layout()"
   ]
  },
  {
   "cell_type": "code",
   "execution_count": null,
   "metadata": {
    "collapsed": false
   },
   "outputs": [],
   "source": [
    "# # Naive Bayes\n",
    "def test_naive_bayes(dataset):\n",
    "\n",
    "    chosenColumns = ['num_claims','year', 'type_plant',\n",
    "           'type_reissue', 'type_statutory invention registration', 'type_utility',\n",
    "           'kind_A', 'kind_B1', 'kind_B2', 'kind_E', 'kind_E1', 'kind_H', 'kind_P',\n",
    "           'kind_P2', 'kind_P3']\n",
    "\n",
    "    myX = dataset.as_matrix(columns=chosenColumns)\n",
    "    # myY = df2.as_matrix(columns=['citation_id'])\n",
    "    myY = dataset.as_matrix(columns=['citation_id'])\n",
    "\n",
    "    xTrain, xTest, yTrain, yTest = train_test_split(myX, myY, train_size=0.7, random_state=3)\n",
    "    testSize = yTest.shape[0]\n",
    "\n",
    "\n",
    "    # nb = naive_bayes.GaussianNB()\n",
    "\n",
    "    # dado que o output eh count, uma distribuicao multinomial se adapta melhor\n",
    "    nb = naive_bayes.MultinomialNB()\n",
    "\n",
    "    # complementNB adapta o MultinomialNB para datasets muito desbalanceados\n",
    "    # porem nao esta disponivel para a versao 0.19 do scikit-learn\n",
    "    # nb = naive_bayes.ComplementNB()\n",
    "\n",
    "    nb.fit(xTrain, yTrain.ravel())\n",
    "\n",
    "    yPredNB = nb.predict(xTest) # predicting test data\n",
    "\n",
    "    # computing error\n",
    "    errorNB = np.sum((yPredNB[i] != yTest[i]) for i in range(0, testSize))\n",
    "    errorNBPCT = int(100*errorNB/testSize)\n",
    "    hitRateNBPCT = 100 - errorNBPCT\n",
    "    return(testSize, errorNB, errorNBPCT, hitRateNBPCT)\n",
    "   "
   ]
  },
  {
   "cell_type": "code",
   "execution_count": null,
   "metadata": {
    "collapsed": false
   },
   "outputs": [],
   "source": [
    "#naive bayes with complete dataset\n",
    "\n",
    "testSize, errorNB, errorNBPCT, hitRateNBPCT=test_naive_bayes(df)\n",
    "\n",
    "print(\"----------Naive Bayes----------\")\n",
    "print(int(errorNB), \"misclassified data out of\", testSize)\n",
    "print(\"Error PCT: \",errorNBPCT,'%')\n",
    "print(\"Hit Rate:  \",hitRateNBPCT,'%')"
   ]
  },
  {
   "cell_type": "code",
   "execution_count": null,
   "metadata": {
    "collapsed": false
   },
   "outputs": [],
   "source": [
    "#naive bayes without outliers\n",
    "\n",
    "testSize, errorNB, errorNBPCT, hitRateNBPCT=test_naive_bayes(df3)\n",
    "\n",
    "print(\"----------Naive Bayes----------\")\n",
    "print(int(errorNB), \"misclassified data out of\", testSize)\n",
    "print(\"Error PCT: \",errorNBPCT,'%')\n",
    "print(\"Hit Rate:  \",hitRateNBPCT,'%')"
   ]
  },
  {
   "cell_type": "code",
   "execution_count": null,
   "metadata": {
    "collapsed": true
   },
   "outputs": [],
   "source": []
  }
 ],
 "metadata": {
  "anaconda-cloud": {},
  "kernelspec": {
   "display_name": "Python [default]",
   "language": "python",
   "name": "python3"
  },
  "language_info": {
   "codemirror_mode": {
    "name": "ipython",
    "version": 3
   },
   "file_extension": ".py",
   "mimetype": "text/x-python",
   "name": "python",
   "nbconvert_exporter": "python",
   "pygments_lexer": "ipython3",
   "version": "3.5.2"
  }
 },
 "nbformat": 4,
 "nbformat_minor": 2
}
