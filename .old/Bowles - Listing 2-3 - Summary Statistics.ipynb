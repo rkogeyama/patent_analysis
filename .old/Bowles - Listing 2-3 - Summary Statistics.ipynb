{
 "cells": [
  {
   "cell_type": "code",
   "execution_count": 2,
   "metadata": {
    "collapsed": false
   },
   "outputs": [
    {
     "name": "stdout",
     "output_type": "stream",
     "text": [
      "Mean = \t0.053892307692307684\t\tStandard Deviation = \t 0.04641598322260027\n",
      "\n",
      "Boundaries for 4 Equal Percentiles \n",
      "[0.0058, 0.024375, 0.04405, 0.0645, 0.4264]\n",
      " \n",
      "Boundaries for 10 Equal Percentiles \n",
      "[0.0058, 0.0141, 0.022740000000000003, 0.027869999999999995, 0.03622, 0.04405, 0.05071999999999999, 0.059959999999999986, 0.07794000000000001, 0.10836, 0.4264]\n",
      " \n",
      "Unique Label Values \n",
      "set(['R', 'M'])\n"
     ]
    }
   ],
   "source": [
    "__author__ = 'mike_bowles'\n",
    "import urllib2\n",
    "import sys\n",
    "import numpy as np\n",
    "#read data from uci data repository\n",
    "target_url = (\"https://archive.ics.uci.edu/ml/machine-learning-\"\n",
    "\"databases/undocumented/connectionist-bench/sonar/sonar.all-data\")\n",
    "data = urllib2.urlopen(target_url)\n",
    "#arrange data into list for labels and list of lists for attributes\n",
    "xList = []\n",
    "labels = []\n",
    "for line in data:\n",
    "    #split on comma\n",
    "    row = line.strip().split(\",\")\n",
    "    xList.append(row)\n",
    "nrow = len(xList)\n",
    "ncol = len(xList[1])\n",
    "\n",
    "type = [0]*3\n",
    "colCounts = []\n",
    "\n",
    "#generate summary statistics for column 3 (e.g.)\n",
    "col = 3\n",
    "colData = []\n",
    "for row in xList:\n",
    "    colData.append(float(row[col]))\n",
    "colArray = np.array(colData)\n",
    "\n",
    "colMean = np.mean(colArray)\n",
    "colsd = np.std(colArray)\n",
    "sys.stdout.write(\"Mean = \" + '\\t' + str(colMean) + '\\t\\t' +\n",
    "    \"Standard Deviation = \" + '\\t ' + str(colsd) + \"\\n\")\n",
    "#calculate quantile boundaries\n",
    "ntiles = 4\n",
    "percentBdry = []\n",
    "for i in range(ntiles+1):\n",
    "    percentBdry.append(np.percentile(colArray, i*(100)/ntiles))\n",
    "sys.stdout.write(\"\\nBoundaries for 4 Equal Percentiles \\n\")\n",
    "print(percentBdry)\n",
    "sys.stdout.write(\" \\n\")\n",
    "#run again with 10 equal intervals\n",
    "ntiles = 10\n",
    "percentBdry = []\n",
    "for i in range(ntiles+1):\n",
    "    percentBdry.append(np.percentile(colArray, i*(100)/ntiles))\n",
    "sys.stdout.write(\"Boundaries for 10 Equal Percentiles \\n\")\n",
    "print(percentBdry)\n",
    "sys.stdout.write(\" \\n\")\n",
    "#The last column contains categorical variables\n",
    "col = 60\n",
    "colData = []\n",
    "for row in xList:\n",
    "    colData.append(row[col])\n",
    "unique = set(colData)\n",
    "sys.stdout.write(\"Unique Label Values \\n\")\n",
    "print(unique)\n",
    "#count up the number of elements having each value\n",
    "catDict = dict(zip(list(unique),range(len(unique))))\n",
    "catCount = [0]*2\n",
    "for elt in colData:\n",
    "    catCount[catDict[elt]] += 1"
   ]
  },
  {
   "cell_type": "code",
   "execution_count": 3,
   "metadata": {
    "collapsed": false
   },
   "outputs": [
    {
     "name": "stdout",
     "output_type": "stream",
     "text": [
      "\n",
      "Counts for Each Value of Categorical Label \n",
      "['R', 'M']\n",
      "[97, 111]\n"
     ]
    }
   ],
   "source": [
    "sys.stdout.write(\"\\nCounts for Each Value of Categorical Label \\n\")\n",
    "print(list(unique))\n",
    "print(catCount)"
   ]
  },
  {
   "cell_type": "code",
   "execution_count": null,
   "metadata": {
    "collapsed": true
   },
   "outputs": [],
   "source": []
  }
 ],
 "metadata": {
  "anaconda-cloud": {},
  "kernelspec": {
   "display_name": "Python [conda env:4.2.0]",
   "language": "python",
   "name": "conda-env-4.2.0-py"
  },
  "language_info": {
   "codemirror_mode": {
    "name": "ipython",
    "version": 3
   },
   "file_extension": ".py",
   "mimetype": "text/x-python",
   "name": "python",
   "nbconvert_exporter": "python",
   "pygments_lexer": "ipython3",
   "version": "3.5.2"
  }
 },
 "nbformat": 4,
 "nbformat_minor": 2
}
