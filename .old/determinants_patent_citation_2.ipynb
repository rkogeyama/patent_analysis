{
 "cells": [
  {
   "cell_type": "code",
   "execution_count": 1,
   "metadata": {
    "collapsed": true
   },
   "outputs": [],
   "source": [
    "#Script para identificar determinantes de citações na base USPTO\n",
    "#Renato Kogeyama\n",
    "\n",
    "#10-11-2019\n",
    "#I introduced log backward citation, what corrects for very dispersed results\n",
    "#but the major problem is that few patents receive citations\n",
    "#bring back binary output\n",
    "\n",
    "#10-10-2019\n",
    "#Added graphics and new distributions\n",
    "\n",
    "#09-15-2019\n",
    "#O naive bayes tem algum problema com distribuicoes desbalanceadas\n",
    "#o scikit learn tem um modulo que corrige count distributions com muitos zeros, o complementNB\n",
    "#porem este nao esta disponivel na atual versao disponibilizada no HPC da FIU\n",
    "\n",
    "#09-10-2019\n",
    "#o trabalho pede uma abordagem mais sistematica e cuidadosa\n",
    "#estou agrupando o codigo antigo comentado e vou comecar um novo codigo\n",
    "\n",
    "#09-17-2018\n",
    "\n",
    "#Alto uso de memoria - rodar no Amazon AWS \n",
    "#Notebook 2"
   ]
  },
  {
   "cell_type": "code",
   "execution_count": 2,
   "metadata": {
    "collapsed": true
   },
   "outputs": [],
   "source": [
    "import sys\n",
    "sys.path.append('/home/rkogeyam/scripts/')\n",
    "\n",
    "import pandas as pd\n",
    "import numpy as np\n",
    "\n",
    "# import math\n",
    "# from IPython.display import display\n",
    "\n",
    "from sklearn import preprocessing\n",
    "from sklearn import linear_model, datasets\n",
    "from sklearn import naive_bayes\n",
    "from sklearn.neighbors import KNeighborsClassifier\n",
    "from sklearn.model_selection import train_test_split\n",
    "from sklearn.metrics import roc_curve, auc\n",
    "\n",
    "from scipy import stats\n",
    "import datetime\n",
    "import matplotlib.pyplot as plot\n",
    "import pylab as pl\n",
    "from math import sqrt\n",
    "\n",
    "import random\n",
    "\n",
    "# from best_num_attr import best_num_attr \n",
    "# from xattrSelect import xattrSelect"
   ]
  },
  {
   "cell_type": "code",
   "execution_count": 3,
   "metadata": {
    "collapsed": false
   },
   "outputs": [],
   "source": [
    "#script for discovering the best number of attributes\n",
    "\n",
    "\n",
    "def best_num_attr(xList, xListTrain, xListTest, labelsTrain, labelsTest, names):\n",
    "    #build list of attributes one-at-a-time - starting with empty\n",
    "    attributeList = []\n",
    "    index = range(len(xList[1]))\n",
    "    indexSet = set(index)\n",
    "    indexSeq = []\n",
    "    oosError = []\n",
    "\n",
    "    for i in index:\n",
    "        attSet = set(attributeList) #set creates a list of unordered collection of unique items\n",
    "        #attributes not in list already\n",
    "        attTrySet = indexSet - attSet\n",
    "        #form into list\n",
    "        attTry = [ii for ii in attTrySet]\n",
    "        errorList = []\n",
    "        attTemp = []\n",
    "        #try each attribute not in set to see which\n",
    "        #one gives least oos error\n",
    "        for iTry in attTry:\n",
    "            attTemp = [] + attributeList\n",
    "            attTemp.append(iTry)\n",
    "            #use attTemp to form training and testing sub matrices\n",
    "            #as list of lists\n",
    "            xTrainTemp = xattrSelect(xListTrain, attTemp)\n",
    "            xTestTemp = xattrSelect(xListTest, attTemp)\n",
    "            #form into np arrays\n",
    "            xTrain = np.array(xTrainTemp)\n",
    "            yTrain = np.array(labelsTrain)\n",
    "            xTest = np.array(xTestTemp)\n",
    "            yTest = np.array(labelsTest)\n",
    "            #use sci-kit learn linear regression\n",
    "            wineQModel = linear_model.LinearRegression()\n",
    "            wineQModel.fit(xTrain,yTrain)\n",
    "            #use trained model to generate prediction and calculate rmsError\n",
    "            rmsError = np.linalg.norm((yTest-wineQModel.predict(xTest)),2)/sqrt(len(yTest))\n",
    "            errorList.append(rmsError)\n",
    "            attTemp = []\n",
    "        iBest = np.argmin(errorList)\n",
    "        attributeList.append(attTry[iBest])\n",
    "        oosError.append(errorList[iBest])\n",
    "    print(\"Out of sample error versus attribute set size\" )\n",
    "    print(oosError)\n",
    "    print(\"\\n\" + \"Best attribute indices\")\n",
    "    print(attributeList)\n",
    "    namesList = [names[i] for i in attributeList]\n",
    "    print(\"\\n\" + \"Best attribute names\")\n",
    "    print(namesList)\n",
    "\n",
    "    #Plot error versus number of attributes\n",
    "    x = range(len(oosError))\n",
    "    plot.plot(x, oosError, 'k')\n",
    "    plot.xlabel('Number of Attributes')\n",
    "    plot.ylabel('Error (RMS)')\n",
    "    plot.show()\n",
    "   "
   ]
  },
  {
   "cell_type": "code",
   "execution_count": 4,
   "metadata": {
    "collapsed": false
   },
   "outputs": [],
   "source": [
    "def xattrSelect(x, idxSet):\n",
    "    #takes X matrix as list of list and returns subset containing\n",
    "    #columns in idxSet\n",
    "    xOut = []\n",
    "    for row in x:\n",
    "        xOut.append([row[i] for i in idxSet])\n",
    "    return(xOut)"
   ]
  },
  {
   "cell_type": "code",
   "execution_count": 5,
   "metadata": {
    "collapsed": false
   },
   "outputs": [],
   "source": [
    "#regression\n",
    "\n",
    "def linear_reg(df, chosenColumns):\n",
    "    myX = df.as_matrix(columns=chosenColumns)\n",
    "    myY = df.as_matrix(columns=['citation_bi'])\n",
    "\n",
    "    xTrain, xTest, yTrain, yTest = train_test_split(myX, myY, train_size=0.7, random_state=3) \n",
    "    testSize = yTest.shape[0]\n",
    "    trainSize = yTrain.shape[0]\n",
    "\n",
    "    print(\"Test Size:\", testSize)\n",
    "    print(\"Train Size:\", trainSize)\n",
    "    print(\"\\n\")\n",
    "\n",
    "    linear=linear_model.LinearRegression()\n",
    "    linear.fit(xTrain, yTrain)\n",
    "\n",
    "    trainingPredictions=linear.predict(xTrain)\n",
    "#     print(\"Some values predicted by model\", trainingPredictions[0:5], trainingPredictions[-6:-1])\n",
    "\n",
    "    confusionMatTrain=confusionMatrix(trainingPredictions, yTrain, 0.5)\n",
    "    tp=confusionMatTrain[0];fn=confusionMatTrain[1]\n",
    "    fp=confusionMatTrain[2];tn=confusionMatTrain[3]\n",
    "\n",
    "    print('Confusion Matrix for Training data')\n",
    "    print(\"tp=\"+str(tp)+\"\\tfn=\"+str(fn)+\"\\n\"+'fp='+str(fp)+'\\ttn='+str(tn)+'\\n')\n",
    "\n",
    "    testPredictions=linear.predict(xTest)\n",
    "\n",
    "    confusionMatTest=confusionMatrix(testPredictions, yTest, 0.5)\n",
    "    tp=confusionMatTest[0];fn=confusionMatTest[1]\n",
    "    fp=confusionMatTest[2];tn=confusionMatTest[3]\n",
    "\n",
    "    print('Confusion Matrix for Test data')\n",
    "    print(\"tp=\"+str(tp)+\"\\tfn=\"+str(fn)+\"\\n\"+'fp='+str(fp)+\"\\ttn=\"+str(tn)+'\\n')\n",
    "\n",
    "    fpr, tpr, thresholds=roc_curve(yTrain, trainingPredictions)\n",
    "    roc_auc=auc(fpr, tpr)\n",
    "\n",
    "    print('AUC for in-sample ROC curve: %f' % roc_auc)\n",
    "\n",
    "    pl.clf()\n",
    "    pl.plot(fpr, tpr, label='ROC curve (area=%0.2f)' % roc_auc)\n",
    "    pl.plot([0,1], [0,1], 'k-')\n",
    "    # pl.xlim([0.0,1.0])\n",
    "    pl.xlabel('False Positive Rate')\n",
    "    pl.ylabel('True Positive Rate')\n",
    "    pl.title('In sample ROC')\n",
    "    pl.legend(loc='lower right')\n",
    "    pl.show()\n",
    "\n",
    "    return"
   ]
  },
  {
   "cell_type": "code",
   "execution_count": 6,
   "metadata": {
    "collapsed": false
   },
   "outputs": [],
   "source": [
    "# # Naive Bayes\n",
    "def test_naive_bayes(dataset, chosenColumns):\n",
    "\n",
    "#     chosenColumns = ['num_claims', 'forward_citation','year', 'month', 'day']\n",
    "\n",
    "    myX = dataset.as_matrix(columns=chosenColumns)\n",
    "    # myY = df2.as_matrix(columns=['backward_citation'])\n",
    "    myY = dataset.as_matrix(columns=['citation_bi'])\n",
    "#     myY = dataset.as_matrix(columns=['log_back_cit'])\n",
    "\n",
    "    xTrain, xTest, yTrain, yTest = train_test_split(myX, myY, train_size=0.7, random_state=3)\n",
    "    testSize = yTest.shape[0]\n",
    "\n",
    "\n",
    "    # nb = naive_bayes.GaussianNB()\n",
    "\n",
    "    # dado que o output eh count, uma distribuicao multinomial se adapta melhor\n",
    "    nb = naive_bayes.MultinomialNB()\n",
    "\n",
    "    # complementNB adapta o MultinomialNB para datasets muito desbalanceados\n",
    "    # porem nao esta disponivel para a versao 0.19 do scikit-learn\n",
    "    # nb = naive_bayes.ComplementNB()\n",
    "\n",
    "    nb.fit(xTrain, yTrain.ravel())\n",
    "    \n",
    "    trainingPredict = nb.predict(xTrain) # predicting test data\n",
    "\n",
    "    yPredNB = nb.predict(xTest) # predicting test data\n",
    "\n",
    "    # computing error\n",
    "    errorNB = np.sum((yPredNB[i] != yTest[i]) for i in range(0, testSize))\n",
    "    errorNBPCT = int(100*errorNB/testSize)\n",
    "    hitRateNBPCT = 100 - errorNBPCT\n",
    "    \n",
    "    fpr, tpr, thresholds=roc_curve(yTrain, trainingPredict)\n",
    "    print(\"----------Naive Bayes----------\")\n",
    "    print(int(errorNB), \"misclassified data out of\", testSize)\n",
    "    print(\"Error PCT: \",errorNBPCT,'%')\n",
    "    print(\"Hit Rate:  \",hitRateNBPCT,'%')\n",
    "\n",
    "    roc_auc=auc(fpr, tpr)\n",
    "\n",
    "    print('AUC for in-sample ROC curve: %f' % roc_auc)\n",
    "\n",
    "    pl.clf()\n",
    "    pl.plot(fpr, tpr, label='ROC curve (area=%0.2f)' % roc_auc)\n",
    "    pl.plot([0,1], [0,1], 'k-')\n",
    "    # pl.xlim([0.0,1.0])\n",
    "    pl.xlabel('False Positive Rate')\n",
    "    pl.ylabel('True Positive Rate')\n",
    "    pl.title('In sample ROC')\n",
    "    pl.legend(loc='lower right')\n",
    "    pl.show()\n",
    "\n",
    "    return\n",
    "   "
   ]
  },
  {
   "cell_type": "code",
   "execution_count": 7,
   "metadata": {
    "collapsed": false
   },
   "outputs": [],
   "source": [
    "# K Nearest Neighbors\n",
    "def test_knn(dataset,chosenColumns):\n",
    "#     chosenColumns = ['num_claims','year', 'month', 'day', 'type_plant',\n",
    "#            'type_reissue', 'type_statutory invention registration', 'type_utility',\n",
    "#            'kind_A', 'kind_B1', 'kind_B2', 'kind_E', 'kind_E1', 'kind_H', 'kind_P',\n",
    "#            'kind_P2', 'kind_P3', 'forward_citation']\n",
    "    \n",
    "\n",
    "    myX = dataset.as_matrix(columns=chosenColumns)\n",
    "    myY = dataset.as_matrix(columns=['citation_bi'])\n",
    "\n",
    "    xTrain, xTest, yTrain, yTest = train_test_split(myX, myY, train_size=0.7, random_state=3)\n",
    "    testSize = yTest.shape[0]\n",
    "\n",
    "    myK = 5\n",
    "\n",
    "    knn =  KNeighborsClassifier(n_neighbors=myK)\n",
    "    knn.fit(xTrain, yTrain.ravel())\n",
    "    yPredKNN = knn.predict(xTest) # predicting test data\n",
    "\n",
    "    # computing error\n",
    "    errorKNN = np.sum((yPredKNN[i] != yTest[i]) for i in range(0, testSize))\n",
    "    errorKNNPCT = int(100*errorKNN/testSize)\n",
    "    hitRateKNNPCT = 100 - errorKNNPCT\n",
    "\n",
    "    print(\"----------K Nearest Neighbors----------\")\n",
    "    print(int(errorKNN), \"misclassified data out of\", testSize)\n",
    "    print(\"Error PCT: \",errorKNNPCT,'%')\n",
    "    print(\"Hit Rate:  \",hitRateKNNPCT,'%')\n",
    "    \n",
    "    \n",
    "    fpr, tpr, thresh = roc_curve(yTest.ravel(), yPredKNN.ravel())\n",
    "\n",
    "    roc_auc=auc(fpr, tpr)\n",
    "\n",
    "    print('AUC for in-sample ROC curve: %f' % roc_auc)\n",
    "\n",
    "    pl.clf()\n",
    "    pl.plot(fpr, tpr, label='ROC curve (area=%0.2f)' % roc_auc)\n",
    "    pl.plot([0,1], [0,1], 'k-')\n",
    "    # pl.xlim([0.0,1.0])\n",
    "    pl.xlabel('False Positive Rate')\n",
    "    pl.ylabel('True Positive Rate')\n",
    "    pl.title('In sample ROC')\n",
    "    pl.legend(loc='lower right')\n",
    "    pl.show()\n",
    "\n",
    "#     rocAuc = auc(fpr, tpr)\n",
    "    return"
   ]
  },
  {
   "cell_type": "code",
   "execution_count": 8,
   "metadata": {
    "collapsed": true
   },
   "outputs": [],
   "source": [
    "def confusionMatrix(predicted, actual, threshold):\n",
    "    if len(predicted)!=len(actual): return -1\n",
    "    tp=0.0\n",
    "    fp=0.0\n",
    "    tn=0.0\n",
    "    fn=0.0\n",
    "    for i in range(len(actual)):\n",
    "        if actual[i]>0.5: #labels that are 1.0 (positive examples)\n",
    "            if predicted[i]>threshold:\n",
    "                tp+=1.0 #correctly predicted positive\n",
    "            else:\n",
    "                fn+=1.0 #incorrectly predicted negative\n",
    "        else: #labels that are 0.0 (negative examples)\n",
    "            if predicted[i]<threshold:\n",
    "                tn+=1.0 #correctly predicted negative\n",
    "            else:\n",
    "                fp+=1.0 #incorrectly predicted positive\n",
    "    rtn=[tp, fn, fp, tn]\n",
    "    return rtn"
   ]
  },
  {
   "cell_type": "code",
   "execution_count": 9,
   "metadata": {
    "collapsed": true
   },
   "outputs": [],
   "source": [
    "%matplotlib inline\n",
    "# %matplotlib notebook"
   ]
  },
  {
   "cell_type": "code",
   "execution_count": 10,
   "metadata": {
    "collapsed": true
   },
   "outputs": [],
   "source": [
    "# #sampling the file\n",
    "# fname='df_w_pat_cit_191003.csv'\n",
    "# # sample_df='sample_df_w_pat_cit_190926.csv'\n",
    "# n = sum(1 for line in open(fname)) - 1 #number of records in file (excludes header)\n",
    "# s = 100000 #desired sample size\n",
    "# skip = sorted(random.sample(range(1,n+1),n-s)) #the 0-indexed header will not be included in the skip list\n",
    "# df = pd.read_csv(fname, skiprows=skip, dtype={\"id\": object, \"number\": object}, index_col=0,usecols=[1,2,5,8,9,11,12,13,14,15])"
   ]
  },
  {
   "cell_type": "code",
   "execution_count": 11,
   "metadata": {
    "collapsed": true
   },
   "outputs": [
    {
     "name": "stderr",
     "output_type": "stream",
     "text": [
      "/home/applications/anaconda3/4.2.0/lib/python3.5/site-packages/IPython/core/interactiveshell.py:2717: DtypeWarning: Columns (1) have mixed types. Specify dtype option on import or set low_memory=False.\n",
      "  interactivity=interactivity, compiler=compiler, result=result)\n"
     ]
    },
    {
     "name": "stdout",
     "output_type": "stream",
     "text": [
      "Testing for null values\n"
     ]
    },
    {
     "data": {
      "text/plain": [
       "type                  True\n",
       "date                  True\n",
       "kind                  True\n",
       "num_claims            True\n",
       "forward_citation     False\n",
       "backward_citation    False\n",
       "year                  True\n",
       "month                 True\n",
       "day                   True\n",
       "dtype: bool"
      ]
     },
     "execution_count": 11,
     "metadata": {},
     "output_type": "execute_result"
    }
   ],
   "source": [
    "# Read the file\n",
    "\n",
    "df=pd.read_csv('/home/rkogeyam/PATENT_CITATION/df_w_pat_cit_191003.csv', sep=',', index_col=0, usecols=[1,2,5,8,9,11,12,13,14,15])\n",
    "\n",
    "print(\"Testing for null values\")\n",
    "# Identify null variables\n",
    "# pd.isnull(df).sum() > 0"
   ]
  },
  {
   "cell_type": "code",
   "execution_count": 12,
   "metadata": {
    "collapsed": true
   },
   "outputs": [
    {
     "name": "stdout",
     "output_type": "stream",
     "text": [
      "type | 10 | object\n",
      "date | 2219 | object\n",
      "kind | 16 | object\n",
      "num_claims | 392 | float64\n",
      "forward_citation | 986 | float64\n",
      "backward_citation | 520 | float64\n",
      "year | 43 | float64\n",
      "month | 13 | float64\n",
      "day | 32 | float64\n"
     ]
    }
   ],
   "source": [
    "# # Check the Dataset\n",
    "# def uniqueColValues(auxdf):\n",
    "#     for column in auxdf:\n",
    "#         print(\"{} | {} | {}\".format(\n",
    "#             auxdf[column].name, len(auxdf[column].unique()), auxdf[column].dtype\n",
    "#         ))\n",
    "        \n",
    "# uniqueColValues(df)"
   ]
  },
  {
   "cell_type": "code",
   "execution_count": 13,
   "metadata": {
    "collapsed": false
   },
   "outputs": [],
   "source": [
    "df['type'] = df['type'].astype('category')\n",
    "df['kind'] = df['kind'].astype('category')"
   ]
  },
  {
   "cell_type": "markdown",
   "metadata": {},
   "source": [
    "### Variables\n",
    "\n",
    "Original data: \n",
    "(PatentsView: patents.tsv)\n",
    "* type:\tcategory of patent. Usually \"Design\", \"reissue\", etc. | Categorical\n",
    "* number: patent number | Categorical\n",
    "* date:\tdate when patent was granted | Numerical/Date\n",
    "    * converted to year, month and day\n",
    "* kind:\tWIPO document kind codes | Categorical\n",
    "* num_claims: number of claims | Numerical\n",
    "\n",
    "(PatentsView: uspatentcitation.tsv)\n",
    "* forward_citation: citations made by a patent | Numerical\n",
    "\n",
    "#### Dependent Variable\n",
    "* backward_citation: citations received by a patent | Numerical \n",
    "* log_back_cit: log of backward citation\n",
    "* citation_bi: 1 if patent received any citation, 0 otherwise\n",
    "\n",
    "\n",
    "#### Dropped Variables\n",
    "* id: patent this record corresponds to (dropped)\n",
    "* country: country in which patent was granted (always US) (dropped)\n",
    "* abstract:\tabstract text of patent\n",
    "* title: title of patent\n",
    "* filename: name of the raw data file where patent information is parsed from\n"
   ]
  },
  {
   "cell_type": "code",
   "execution_count": 14,
   "metadata": {
    "collapsed": true
   },
   "outputs": [
    {
     "data": {
      "text/plain": [
       "(6488261, 9)"
      ]
     },
     "execution_count": 14,
     "metadata": {},
     "output_type": "execute_result"
    }
   ],
   "source": [
    "df.shape"
   ]
  },
  {
   "cell_type": "code",
   "execution_count": 15,
   "metadata": {
    "collapsed": true
   },
   "outputs": [
    {
     "data": {
      "text/plain": [
       "(6488250, 9)"
      ]
     },
     "execution_count": 15,
     "metadata": {},
     "output_type": "execute_result"
    }
   ],
   "source": [
    "df=df.dropna()\n",
    "df.shape"
   ]
  },
  {
   "cell_type": "code",
   "execution_count": 16,
   "metadata": {
    "collapsed": false
   },
   "outputs": [
    {
     "name": "stdout",
     "output_type": "stream",
     "text": [
      "type | 7 | category\n",
      "date | 2218 | object\n",
      "kind | 14 | category\n",
      "num_claims | 391 | float64\n",
      "forward_citation | 986 | float64\n",
      "backward_citation | 520 | float64\n",
      "year | 42 | float64\n",
      "month | 12 | float64\n",
      "day | 31 | float64\n"
     ]
    }
   ],
   "source": [
    "uniqueColValues(df)"
   ]
  },
  {
   "cell_type": "code",
   "execution_count": 17,
   "metadata": {
    "collapsed": false
   },
   "outputs": [],
   "source": [
    "# df2=df.loc[['num_claims', 'forward_citation', 'backward_citation', 'year', 'month', 'day']]\n",
    "# df2"
   ]
  },
  {
   "cell_type": "code",
   "execution_count": 18,
   "metadata": {
    "collapsed": true
   },
   "outputs": [],
   "source": [
    "# #normalization\n",
    "# #normalization is necessary to make processing better (and easier)\n",
    "\n",
    "# #select numeric columns\n",
    "# num_cols=list(df.select_dtypes(include=[np.number]).columns.values)\n",
    "# df_num=df.loc[:,num_cols]\n",
    "# df_num.columns\n",
    "\n",
    "# df_num=(df_num-df_num.mean())/(df_num.max()-df_num.min())\n",
    "# df_num = df.drop(df_num.columns, axis=1)\n",
    "# df = df.append(df_num)\n",
    "# df.shape"
   ]
  },
  {
   "cell_type": "code",
   "execution_count": 19,
   "metadata": {
    "collapsed": true
   },
   "outputs": [],
   "source": [
    "#log transformation of backward citation\n",
    "df['log_back_cit'] = np.log(df.backward_citation+1)\n",
    "\n",
    "#choose between backward citation or log back cit\n",
    "dependent_variable='backward_citation'\n",
    "# dependent_variable='log_back_cit'\n",
    "# dependent_variable='citation_bi'"
   ]
  },
  {
   "cell_type": "code",
   "execution_count": 20,
   "metadata": {
    "collapsed": false
   },
   "outputs": [
    {
     "name": "stdout",
     "output_type": "stream",
     "text": [
      "Summary Statistics\n"
     ]
    },
    {
     "data": {
      "text/html": [
       "<div>\n",
       "<table border=\"1\" class=\"dataframe\">\n",
       "  <thead>\n",
       "    <tr style=\"text-align: right;\">\n",
       "      <th></th>\n",
       "      <th>num_claims</th>\n",
       "      <th>forward_citation</th>\n",
       "      <th>backward_citation</th>\n",
       "      <th>year</th>\n",
       "      <th>month</th>\n",
       "      <th>day</th>\n",
       "      <th>log_back_cit</th>\n",
       "      <th>citation_bi</th>\n",
       "    </tr>\n",
       "  </thead>\n",
       "  <tbody>\n",
       "    <tr>\n",
       "      <th>count</th>\n",
       "      <td>6488250.00</td>\n",
       "      <td>6488250.00</td>\n",
       "      <td>6488250.00</td>\n",
       "      <td>6488250.00</td>\n",
       "      <td>6488250.00</td>\n",
       "      <td>6488250.00</td>\n",
       "      <td>6488250.00</td>\n",
       "      <td>6488250.00</td>\n",
       "    </tr>\n",
       "    <tr>\n",
       "      <th>mean</th>\n",
       "      <td>14.14</td>\n",
       "      <td>2.18</td>\n",
       "      <td>1.12</td>\n",
       "      <td>2002.72</td>\n",
       "      <td>6.59</td>\n",
       "      <td>15.64</td>\n",
       "      <td>0.19</td>\n",
       "      <td>0.09</td>\n",
       "    </tr>\n",
       "    <tr>\n",
       "      <th>std</th>\n",
       "      <td>12.00</td>\n",
       "      <td>17.55</td>\n",
       "      <td>7.45</td>\n",
       "      <td>11.32</td>\n",
       "      <td>3.40</td>\n",
       "      <td>8.83</td>\n",
       "      <td>0.66</td>\n",
       "      <td>0.29</td>\n",
       "    </tr>\n",
       "  </tbody>\n",
       "</table>\n",
       "</div>"
      ],
      "text/plain": [
       "       num_claims  forward_citation  backward_citation        year  \\\n",
       "count  6488250.00        6488250.00         6488250.00  6488250.00   \n",
       "mean        14.14              2.18               1.12     2002.72   \n",
       "std         12.00             17.55               7.45       11.32   \n",
       "\n",
       "            month         day  log_back_cit  citation_bi  \n",
       "count  6488250.00  6488250.00    6488250.00   6488250.00  \n",
       "mean         6.59       15.64          0.19         0.09  \n",
       "std          3.40        8.83          0.66         0.29  "
      ]
     },
     "execution_count": 20,
     "metadata": {},
     "output_type": "execute_result"
    }
   ],
   "source": [
    "# Generate a binary output for simpler tests\n",
    "df['citation_bi']=0\n",
    "df.loc[df.backward_citation>0, 'citation_bi']=1\n",
    "\n",
    "# Convert categorical to binary\n",
    "# df=pd.get_dummies(df, columns=['type', 'kind', 'country'])\n",
    "# df=pd.get_dummies(df, columns=['type', 'kind'])\n",
    "print(\"Summary Statistics\")\n",
    "df.describe()[:][:3].round(2) #to make the table more readable, round(2) and drop the quantile data"
   ]
  },
  {
   "cell_type": "code",
   "execution_count": 21,
   "metadata": {
    "collapsed": false
   },
   "outputs": [
    {
     "name": "stdout",
     "output_type": "stream",
     "text": [
      "Cross correlation table\n"
     ]
    },
    {
     "data": {
      "text/html": [
       "<div>\n",
       "<table border=\"1\" class=\"dataframe\">\n",
       "  <thead>\n",
       "    <tr style=\"text-align: right;\">\n",
       "      <th></th>\n",
       "      <th>num_claims</th>\n",
       "      <th>forward_citation</th>\n",
       "      <th>backward_citation</th>\n",
       "      <th>year</th>\n",
       "      <th>month</th>\n",
       "      <th>day</th>\n",
       "      <th>log_back_cit</th>\n",
       "      <th>citation_bi</th>\n",
       "    </tr>\n",
       "  </thead>\n",
       "  <tbody>\n",
       "    <tr>\n",
       "      <th>num_claims</th>\n",
       "      <td>1.00</td>\n",
       "      <td>-0.05</td>\n",
       "      <td>-0.09</td>\n",
       "      <td>0.15</td>\n",
       "      <td>0.00</td>\n",
       "      <td>-0.00</td>\n",
       "      <td>-0.22</td>\n",
       "      <td>-0.25</td>\n",
       "    </tr>\n",
       "    <tr>\n",
       "      <th>forward_citation</th>\n",
       "      <td>-0.05</td>\n",
       "      <td>1.00</td>\n",
       "      <td>0.15</td>\n",
       "      <td>0.08</td>\n",
       "      <td>0.02</td>\n",
       "      <td>0.00</td>\n",
       "      <td>0.23</td>\n",
       "      <td>0.23</td>\n",
       "    </tr>\n",
       "    <tr>\n",
       "      <th>backward_citation</th>\n",
       "      <td>-0.09</td>\n",
       "      <td>0.15</td>\n",
       "      <td>1.00</td>\n",
       "      <td>-0.00</td>\n",
       "      <td>0.00</td>\n",
       "      <td>-0.00</td>\n",
       "      <td>0.69</td>\n",
       "      <td>0.47</td>\n",
       "    </tr>\n",
       "    <tr>\n",
       "      <th>year</th>\n",
       "      <td>0.15</td>\n",
       "      <td>0.08</td>\n",
       "      <td>-0.00</td>\n",
       "      <td>1.00</td>\n",
       "      <td>0.00</td>\n",
       "      <td>-0.01</td>\n",
       "      <td>-0.00</td>\n",
       "      <td>0.01</td>\n",
       "    </tr>\n",
       "    <tr>\n",
       "      <th>month</th>\n",
       "      <td>0.00</td>\n",
       "      <td>0.02</td>\n",
       "      <td>0.00</td>\n",
       "      <td>0.00</td>\n",
       "      <td>1.00</td>\n",
       "      <td>0.00</td>\n",
       "      <td>-0.00</td>\n",
       "      <td>-0.01</td>\n",
       "    </tr>\n",
       "    <tr>\n",
       "      <th>day</th>\n",
       "      <td>-0.00</td>\n",
       "      <td>0.00</td>\n",
       "      <td>-0.00</td>\n",
       "      <td>-0.01</td>\n",
       "      <td>0.00</td>\n",
       "      <td>1.00</td>\n",
       "      <td>-0.00</td>\n",
       "      <td>-0.00</td>\n",
       "    </tr>\n",
       "    <tr>\n",
       "      <th>log_back_cit</th>\n",
       "      <td>-0.22</td>\n",
       "      <td>0.23</td>\n",
       "      <td>0.69</td>\n",
       "      <td>-0.00</td>\n",
       "      <td>-0.00</td>\n",
       "      <td>-0.00</td>\n",
       "      <td>1.00</td>\n",
       "      <td>0.90</td>\n",
       "    </tr>\n",
       "    <tr>\n",
       "      <th>citation_bi</th>\n",
       "      <td>-0.25</td>\n",
       "      <td>0.23</td>\n",
       "      <td>0.47</td>\n",
       "      <td>0.01</td>\n",
       "      <td>-0.01</td>\n",
       "      <td>-0.00</td>\n",
       "      <td>0.90</td>\n",
       "      <td>1.00</td>\n",
       "    </tr>\n",
       "  </tbody>\n",
       "</table>\n",
       "</div>"
      ],
      "text/plain": [
       "                   num_claims  forward_citation  backward_citation  year  \\\n",
       "num_claims               1.00             -0.05              -0.09  0.15   \n",
       "forward_citation        -0.05              1.00               0.15  0.08   \n",
       "backward_citation       -0.09              0.15               1.00 -0.00   \n",
       "year                     0.15              0.08              -0.00  1.00   \n",
       "month                    0.00              0.02               0.00  0.00   \n",
       "day                     -0.00              0.00              -0.00 -0.01   \n",
       "log_back_cit            -0.22              0.23               0.69 -0.00   \n",
       "citation_bi             -0.25              0.23               0.47  0.01   \n",
       "\n",
       "                   month   day  log_back_cit  citation_bi  \n",
       "num_claims          0.00 -0.00         -0.22        -0.25  \n",
       "forward_citation    0.02  0.00          0.23         0.23  \n",
       "backward_citation   0.00 -0.00          0.69         0.47  \n",
       "year                0.00 -0.01         -0.00         0.01  \n",
       "month               1.00  0.00         -0.00        -0.01  \n",
       "day                 0.00  1.00         -0.00        -0.00  \n",
       "log_back_cit       -0.00 -0.00          1.00         0.90  \n",
       "citation_bi        -0.01 -0.00          0.90         1.00  "
      ]
     },
     "execution_count": 21,
     "metadata": {},
     "output_type": "execute_result"
    }
   ],
   "source": [
    "print(\"Cross correlation table\")\n",
    "df.corr().round(2)"
   ]
  },
  {
   "cell_type": "code",
   "execution_count": 22,
   "metadata": {
    "collapsed": false
   },
   "outputs": [
    {
     "name": "stdout",
     "output_type": "stream",
     "text": [
      "Heat Map - Cross correlation\n"
     ]
    },
    {
     "data": {
      "image/png": "[encoded data removed]",
      "text/plain": [
       "<matplotlib.figure.Figure at 0x7f3171ad30b8>"
      ]
     },
     "metadata": {},
     "output_type": "display_data"
    }
   ],
   "source": [
    "print(\"Heat Map - Cross correlation\")\n",
    "plot.matshow(df.corr())\n",
    "plot.show()"
   ]
  },
  {
   "cell_type": "code",
   "execution_count": 23,
   "metadata": {
    "collapsed": true
   },
   "outputs": [],
   "source": [
    "# df.columns.values"
   ]
  },
  {
   "cell_type": "code",
   "execution_count": 24,
   "metadata": {
    "collapsed": true
   },
   "outputs": [],
   "source": [
    "# display.display(df)"
   ]
  },
  {
   "cell_type": "code",
   "execution_count": 25,
   "metadata": {
    "collapsed": false
   },
   "outputs": [],
   "source": [
    "# df=df.fillna(0)"
   ]
  },
  {
   "cell_type": "code",
   "execution_count": 26,
   "metadata": {
    "collapsed": true
   },
   "outputs": [
    {
     "data": {
      "text/plain": [
       "(6488250, 11)"
      ]
     },
     "execution_count": 26,
     "metadata": {},
     "output_type": "execute_result"
    }
   ],
   "source": [
    "df.shape"
   ]
  },
  {
   "cell_type": "code",
   "execution_count": 27,
   "metadata": {
    "collapsed": true
   },
   "outputs": [],
   "source": [
    "# dealing with outliers \n",
    "\n",
    "# df3=df._get_numeric_data()\n",
    "\n",
    "# print(\"df3.shape\")\n",
    "# print(df3.shape)\n",
    "\n",
    "# mean=df3.mean(axis=0)\n",
    "# std_dev=df3.std(axis=0)\n",
    "# threshold=3*std_dev\n",
    "\n",
    "# if dependent_variable=='backward_citation':\n",
    "#     df3=df3[df3.backward_citation-mean.backward_citation<threshold.backward_citation]\n",
    "# else:\n",
    "#     df3=df3[df3.log_back_cit-mean.log_back_cit<threshold.log_back_cit]\n"
   ]
  },
  {
   "cell_type": "code",
   "execution_count": 28,
   "metadata": {
    "collapsed": true
   },
   "outputs": [],
   "source": [
    "# patents with more than 3 citations\n",
    "\n",
    "# if dependent_variable=='backward_citation':\n",
    "#     df2=df3[df3.backward_citation>3]\n",
    "# else:\n",
    "#     df2=df3[df3.log_back_cit>np.log(3)]\n",
    "    \n",
    "# df2.shape"
   ]
  },
  {
   "cell_type": "code",
   "execution_count": 29,
   "metadata": {
    "collapsed": true
   },
   "outputs": [],
   "source": [
    "# df.backward_citation.hist()\n",
    "# pl.suptitle(\"Backward Citation Histogram\")"
   ]
  },
  {
   "cell_type": "code",
   "execution_count": 30,
   "metadata": {
    "collapsed": true
   },
   "outputs": [],
   "source": [
    "# f, axs = plot.subplots(1,3,figsize=(12,4), sharey=True)\n",
    "# title=dependent_variable+' histogram'\n",
    "# plot.suptitle(title, fontsize=18)\n",
    "\n",
    "# plot.subplot(1, 3, 1)\n",
    "# plot.title('with outliers')\n",
    "# plot.hist(df[dependent_variable])\n",
    "\n",
    "# plot.subplot(1, 3, 2)\n",
    "# plot.title('no outliers')\n",
    "# plot.hist(df3[dependent_variable])\n",
    "\n",
    "# plot.subplot(1, 3, 3)\n",
    "# plot.title('No Outliers \\n More than 3 citations')\n",
    "# plot.hist(df2[dependent_variable])\n",
    "\n",
    "# plot.tight_layout() #diminui o overlap entre os graficos\n",
    "# plot.subplots_adjust(top=0.76)"
   ]
  },
  {
   "cell_type": "code",
   "execution_count": 31,
   "metadata": {
    "collapsed": true
   },
   "outputs": [],
   "source": [
    "# f, axs = plot.subplots(1,3,figsize=(12,4))\n",
    "# title=dependent_variable+' boxplots'\n",
    "# plot.suptitle(title, fontsize=18)\n",
    "\n",
    "# plot.subplot(1, 3, 1)\n",
    "# plot.title('with outliers')\n",
    "# df.boxplot([dependent_variable],return_type='axes')\n",
    "\n",
    "# plot.subplot(1, 3, 2)\n",
    "# plot.title('no outliers')\n",
    "# df3.boxplot([dependent_variable],return_type='axes')\n",
    "\n",
    "# plot.subplot(1, 3, 3)\n",
    "# plot.title('No Outliers \\n More than 3 citations')\n",
    "# df2.boxplot([dependent_variable],return_type='axes')\n",
    "\n",
    "# plot.tight_layout() #diminui o overlap entre os graficos\n",
    "# plot.subplots_adjust(top=0.76)"
   ]
  },
  {
   "cell_type": "code",
   "execution_count": 32,
   "metadata": {
    "collapsed": false
   },
   "outputs": [
    {
     "data": {
      "text/html": [
       "<div>\n",
       "<table border=\"1\" class=\"dataframe\">\n",
       "  <thead>\n",
       "    <tr style=\"text-align: right;\">\n",
       "      <th></th>\n",
       "      <th>num_claims</th>\n",
       "      <th>forward_citation</th>\n",
       "      <th>backward_citation</th>\n",
       "      <th>year</th>\n",
       "      <th>month</th>\n",
       "      <th>day</th>\n",
       "      <th>log_back_cit</th>\n",
       "      <th>citation_bi</th>\n",
       "    </tr>\n",
       "    <tr>\n",
       "      <th>type</th>\n",
       "      <th></th>\n",
       "      <th></th>\n",
       "      <th></th>\n",
       "      <th></th>\n",
       "      <th></th>\n",
       "      <th></th>\n",
       "      <th></th>\n",
       "      <th></th>\n",
       "    </tr>\n",
       "  </thead>\n",
       "  <tbody>\n",
       "    <tr>\n",
       "      <th>Device provided with an optical communications function and optical communication system</th>\n",
       "      <td>NaN</td>\n",
       "      <td>NaN</td>\n",
       "      <td>NaN</td>\n",
       "      <td>NaN</td>\n",
       "      <td>NaN</td>\n",
       "      <td>NaN</td>\n",
       "      <td>NaN</td>\n",
       "      <td>NaN</td>\n",
       "    </tr>\n",
       "    <tr>\n",
       "      <th>TVPP</th>\n",
       "      <td>14.0</td>\n",
       "      <td>0.0</td>\n",
       "      <td>0.0</td>\n",
       "      <td>1982.7</td>\n",
       "      <td>7.7</td>\n",
       "      <td>9.7</td>\n",
       "      <td>0.0</td>\n",
       "      <td>0.0</td>\n",
       "    </tr>\n",
       "    <tr>\n",
       "      <th>Unsolicited message intercepting communications processor</th>\n",
       "      <td>NaN</td>\n",
       "      <td>NaN</td>\n",
       "      <td>NaN</td>\n",
       "      <td>NaN</td>\n",
       "      <td>NaN</td>\n",
       "      <td>NaN</td>\n",
       "      <td>NaN</td>\n",
       "      <td>NaN</td>\n",
       "    </tr>\n",
       "    <tr>\n",
       "      <th>defensive publication</th>\n",
       "      <td>7.6</td>\n",
       "      <td>0.0</td>\n",
       "      <td>2.1</td>\n",
       "      <td>1979.7</td>\n",
       "      <td>6.4</td>\n",
       "      <td>4.0</td>\n",
       "      <td>0.7</td>\n",
       "      <td>0.6</td>\n",
       "    </tr>\n",
       "    <tr>\n",
       "      <th>design</th>\n",
       "      <td>1.0</td>\n",
       "      <td>14.5</td>\n",
       "      <td>9.6</td>\n",
       "      <td>2003.7</td>\n",
       "      <td>6.6</td>\n",
       "      <td>15.7</td>\n",
       "      <td>1.8</td>\n",
       "      <td>0.8</td>\n",
       "    </tr>\n",
       "    <tr>\n",
       "      <th>plant</th>\n",
       "      <td>1.0</td>\n",
       "      <td>0.4</td>\n",
       "      <td>0.4</td>\n",
       "      <td>2003.7</td>\n",
       "      <td>6.6</td>\n",
       "      <td>15.8</td>\n",
       "      <td>0.2</td>\n",
       "      <td>0.2</td>\n",
       "    </tr>\n",
       "    <tr>\n",
       "      <th>reissue</th>\n",
       "      <td>24.6</td>\n",
       "      <td>22.7</td>\n",
       "      <td>7.1</td>\n",
       "      <td>1999.7</td>\n",
       "      <td>6.6</td>\n",
       "      <td>15.8</td>\n",
       "      <td>1.1</td>\n",
       "      <td>0.6</td>\n",
       "    </tr>\n",
       "    <tr>\n",
       "      <th>statutory invention registration</th>\n",
       "      <td>10.2</td>\n",
       "      <td>6.5</td>\n",
       "      <td>0.0</td>\n",
       "      <td>1993.8</td>\n",
       "      <td>6.5</td>\n",
       "      <td>4.1</td>\n",
       "      <td>0.0</td>\n",
       "      <td>0.0</td>\n",
       "    </tr>\n",
       "    <tr>\n",
       "      <th>utility</th>\n",
       "      <td>15.4</td>\n",
       "      <td>0.9</td>\n",
       "      <td>0.3</td>\n",
       "      <td>2002.6</td>\n",
       "      <td>6.6</td>\n",
       "      <td>15.6</td>\n",
       "      <td>0.0</td>\n",
       "      <td>0.0</td>\n",
       "    </tr>\n",
       "  </tbody>\n",
       "</table>\n",
       "</div>"
      ],
      "text/plain": [
       "                                                    num_claims  \\\n",
       "type                                                             \n",
       "Device provided with an optical communications ...         NaN   \n",
       "TVPP                                                      14.0   \n",
       "Unsolicited message intercepting communications...         NaN   \n",
       "defensive publication                                      7.6   \n",
       "design                                                     1.0   \n",
       "plant                                                      1.0   \n",
       "reissue                                                   24.6   \n",
       "statutory invention registration                          10.2   \n",
       "utility                                                   15.4   \n",
       "\n",
       "                                                    forward_citation  \\\n",
       "type                                                                   \n",
       "Device provided with an optical communications ...               NaN   \n",
       "TVPP                                                             0.0   \n",
       "Unsolicited message intercepting communications...               NaN   \n",
       "defensive publication                                            0.0   \n",
       "design                                                          14.5   \n",
       "plant                                                            0.4   \n",
       "reissue                                                         22.7   \n",
       "statutory invention registration                                 6.5   \n",
       "utility                                                          0.9   \n",
       "\n",
       "                                                    backward_citation    year  \\\n",
       "type                                                                            \n",
       "Device provided with an optical communications ...                NaN     NaN   \n",
       "TVPP                                                              0.0  1982.7   \n",
       "Unsolicited message intercepting communications...                NaN     NaN   \n",
       "defensive publication                                             2.1  1979.7   \n",
       "design                                                            9.6  2003.7   \n",
       "plant                                                             0.4  2003.7   \n",
       "reissue                                                           7.1  1999.7   \n",
       "statutory invention registration                                  0.0  1993.8   \n",
       "utility                                                           0.3  2002.6   \n",
       "\n",
       "                                                    month   day  log_back_cit  \\\n",
       "type                                                                            \n",
       "Device provided with an optical communications ...    NaN   NaN           NaN   \n",
       "TVPP                                                  7.7   9.7           0.0   \n",
       "Unsolicited message intercepting communications...    NaN   NaN           NaN   \n",
       "defensive publication                                 6.4   4.0           0.7   \n",
       "design                                                6.6  15.7           1.8   \n",
       "plant                                                 6.6  15.8           0.2   \n",
       "reissue                                               6.6  15.8           1.1   \n",
       "statutory invention registration                      6.5   4.1           0.0   \n",
       "utility                                               6.6  15.6           0.0   \n",
       "\n",
       "                                                    citation_bi  \n",
       "type                                                             \n",
       "Device provided with an optical communications ...          NaN  \n",
       "TVPP                                                        0.0  \n",
       "Unsolicited message intercepting communications...          NaN  \n",
       "defensive publication                                       0.6  \n",
       "design                                                      0.8  \n",
       "plant                                                       0.2  \n",
       "reissue                                                     0.6  \n",
       "statutory invention registration                            0.0  \n",
       "utility                                                     0.0  "
      ]
     },
     "execution_count": 32,
     "metadata": {},
     "output_type": "execute_result"
    }
   ],
   "source": [
    "df.groupby(['type']).mean().round(1)"
   ]
  },
  {
   "cell_type": "code",
   "execution_count": 33,
   "metadata": {
    "collapsed": true
   },
   "outputs": [
    {
     "data": {
      "image/png": "[encoded data removed]",
      "text/plain": [
       "<matplotlib.figure.Figure at 0x7f316947cba8>"
      ]
     },
     "metadata": {},
     "output_type": "display_data"
    }
   ],
   "source": [
    "df[dependent_variable].hist(by=df['type'], figsize=[12,10], sharex=True)\n",
    "title=dependent_variable+' Histogram by Type'\n",
    "pl.suptitle(title, fontsize=16)\n",
    "plot.subplots_adjust(top=0.88)\n",
    "#option figsize establishes the total size of the figure\n",
    "#option sharex makes all figures share the same x axis"
   ]
  },
  {
   "cell_type": "code",
   "execution_count": 34,
   "metadata": {
    "collapsed": true
   },
   "outputs": [],
   "source": [
    "# df.groupby(['kind']).mean().round(1)"
   ]
  },
  {
   "cell_type": "code",
   "execution_count": 35,
   "metadata": {
    "collapsed": true
   },
   "outputs": [
    {
     "data": {
      "text/plain": [
       "<matplotlib.text.Text at 0x7f3168f3ccc0>"
      ]
     },
     "execution_count": 35,
     "metadata": {},
     "output_type": "execute_result"
    },
    {
     "data": {
      "image/png": "[encoded data removed]",
      "text/plain": [
       "<matplotlib.figure.Figure at 0x7f3169434198>"
      ]
     },
     "metadata": {},
     "output_type": "display_data"
    }
   ],
   "source": [
    "df[dependent_variable].hist(by=df['kind'], figsize=[14,12], sharex=True)\n",
    "title=dependent_variable+\" Histogram by Kind\"\n",
    "pl.suptitle(title, fontsize=16)\n"
   ]
  },
  {
   "cell_type": "code",
   "execution_count": 36,
   "metadata": {
    "collapsed": true
   },
   "outputs": [],
   "source": [
    "# df3.hist(figsize=[14,10], sharey=True)\n",
    "# pl.suptitle(\"Patent Count Histogram \\n No Outliers\", fontsize=16)\n",
    "# plot.subplots_adjust(top=0.88)"
   ]
  },
  {
   "cell_type": "code",
   "execution_count": 37,
   "metadata": {
    "collapsed": true
   },
   "outputs": [],
   "source": [
    "# df2.hist(figsize=[14,10], sharey=True)\n",
    "# pl.suptitle(\"Patent Count Histogram \\n No Outliers \\n More than 3 citations\", fontsize=16)\n",
    "# plot.subplots_adjust(top=0.86)"
   ]
  },
  {
   "cell_type": "code",
   "execution_count": 38,
   "metadata": {
    "collapsed": false
   },
   "outputs": [],
   "source": [
    "# df['num_claims']=df['num_claims'].astype(str).astype(float)"
   ]
  },
  {
   "cell_type": "code",
   "execution_count": 39,
   "metadata": {
    "collapsed": true
   },
   "outputs": [
    {
     "data": {
      "text/plain": [
       "Index(['type', 'date', 'kind', 'num_claims', 'forward_citation',\n",
       "       'backward_citation', 'year', 'month', 'day', 'log_back_cit',\n",
       "       'citation_bi'],\n",
       "      dtype='object')"
      ]
     },
     "execution_count": 39,
     "metadata": {},
     "output_type": "execute_result"
    }
   ],
   "source": [
    "df.columns"
   ]
  },
  {
   "cell_type": "code",
   "execution_count": 40,
   "metadata": {
    "collapsed": true
   },
   "outputs": [],
   "source": [
    "# df3.columns"
   ]
  },
  {
   "cell_type": "code",
   "execution_count": 41,
   "metadata": {
    "collapsed": false
   },
   "outputs": [
    {
     "name": "stderr",
     "output_type": "stream",
     "text": [
      "/home/applications/anaconda3/4.2.0/lib/python3.5/site-packages/sklearn/model_selection/_split.py:2010: FutureWarning: From version 0.21, test_size will always complement train_size unless both are specified.\n",
      "  FutureWarning)\n"
     ]
    },
    {
     "name": "stdout",
     "output_type": "stream",
     "text": [
      "Test Size: 1946475\n",
      "Train Size: 4541775\n",
      "\n",
      "\n",
      "Confusion Matrix for Training data\n",
      "tp=5510.0\tfn=418927.0\n",
      "fp=4579.0\ttn=4112759.0\n",
      "\n",
      "Confusion Matrix for Test data\n",
      "tp=2409.0\tfn=179926.0\n",
      "fp=1949.0\ttn=1762191.0\n",
      "\n",
      "AUC for in-sample ROC curve: 0.911936\n"
     ]
    },
    {
     "data": {
      "image/png": "[encoded data removed]",
      "text/plain": [
       "<matplotlib.figure.Figure at 0x7f316943bd30>"
      ]
     },
     "metadata": {},
     "output_type": "display_data"
    }
   ],
   "source": [
    "# chosenColumns = ['num_claims','year']\n",
    "chosenColumns = ['num_claims', 'forward_citation','year', 'month', 'day']\n",
    "linear_reg(df, chosenColumns)\n"
   ]
  },
  {
   "cell_type": "code",
   "execution_count": 42,
   "metadata": {
    "collapsed": true
   },
   "outputs": [
    {
     "name": "stderr",
     "output_type": "stream",
     "text": [
      "/home/applications/anaconda3/4.2.0/lib/python3.5/site-packages/sklearn/model_selection/_split.py:2010: FutureWarning: From version 0.21, test_size will always complement train_size unless both are specified.\n",
      "  FutureWarning)\n"
     ]
    },
    {
     "name": "stdout",
     "output_type": "stream",
     "text": [
      "----------Naive Bayes----------\n",
      "417583 misclassified data out of 1946475\n",
      "Error PCT:  21 %\n",
      "Hit Rate:   79 %\n",
      "AUC for in-sample ROC curve: 0.802915\n"
     ]
    },
    {
     "data": {
      "image/png": "[encoded data removed]",
      "text/plain": [
       "<matplotlib.figure.Figure at 0x7f3168facf60>"
      ]
     },
     "metadata": {},
     "output_type": "display_data"
    }
   ],
   "source": [
    "#naive bayes with complete dataset\n",
    "\n",
    "chosenColumns = ['num_claims','year']\n",
    "test_naive_bayes(df, chosenColumns)\n"
   ]
  },
  {
   "cell_type": "code",
   "execution_count": 43,
   "metadata": {
    "collapsed": true
   },
   "outputs": [],
   "source": [
    "# #naive bayes without outliers\n",
    "# chosenColumns = ['num_claims','year']\n",
    "# test_naive_bayes(df3, chosenColumns)\n"
   ]
  },
  {
   "cell_type": "code",
   "execution_count": 44,
   "metadata": {
    "collapsed": true
   },
   "outputs": [
    {
     "name": "stderr",
     "output_type": "stream",
     "text": [
      "/home/applications/anaconda3/4.2.0/lib/python3.5/site-packages/sklearn/model_selection/_split.py:2010: FutureWarning: From version 0.21, test_size will always complement train_size unless both are specified.\n",
      "  FutureWarning)\n"
     ]
    },
    {
     "name": "stdout",
     "output_type": "stream",
     "text": [
      "----------K Nearest Neighbors----------\n",
      "99991 misclassified data out of 1946475\n",
      "Error PCT:  5 %\n",
      "Hit Rate:   95 %\n",
      "AUC for in-sample ROC curve: 0.878288\n"
     ]
    },
    {
     "data": {
      "image/png": "[encoded data removed]",
      "text/plain": [
       "<matplotlib.figure.Figure at 0x7f3168e1e0f0>"
      ]
     },
     "metadata": {},
     "output_type": "display_data"
    }
   ],
   "source": [
    "# Constructing the ROC curve and AUC\n",
    "chosenColumns = ['num_claims','year']\n",
    "test_knn(df, chosenColumns)\n"
   ]
  },
  {
   "cell_type": "code",
   "execution_count": 45,
   "metadata": {
    "collapsed": true
   },
   "outputs": [
    {
     "name": "stderr",
     "output_type": "stream",
     "text": [
      "/home/applications/anaconda3/4.2.0/lib/python3.5/site-packages/sklearn/model_selection/_split.py:2010: FutureWarning: From version 0.21, test_size will always complement train_size unless both are specified.\n",
      "  FutureWarning)\n"
     ]
    },
    {
     "name": "stdout",
     "output_type": "stream",
     "text": [
      "Out of sample error versus attribute set size\n",
      "[0.2817515458383128, 0.27422332013464085, 0.27409057140388465, 0.27407558006867844, 0.27407307268121706]\n",
      "\n",
      "Best attribute indices\n",
      "[0, 1, 2, 3, 4]\n",
      "\n",
      "Best attribute names\n",
      "['num_claims', 'forward_citation', 'year', 'month', 'day']\n"
     ]
    },
    {
     "data": {
      "image/png": "[encoded data removed]",
      "text/plain": [
       "<matplotlib.figure.Figure at 0x7f3160c069e8>"
      ]
     },
     "metadata": {},
     "output_type": "display_data"
    }
   ],
   "source": [
    "chosenColumns = ['num_claims', 'forward_citation','year', 'month', 'day']\n",
    "\n",
    "myX = df.as_matrix(columns=chosenColumns)\n",
    "myY = df.as_matrix(columns=['citation_bi'])\n",
    "\n",
    "xTrain, xTest, yTrain, yTest = train_test_split(myX, myY, train_size=0.7, random_state=3) \n",
    "testSize = yTest.shape[0]\n",
    "trainSize = yTrain.shape[0]\n",
    "\n",
    "best_num_attr(myX, xTrain, xTest, yTrain, yTest, chosenColumns)"
   ]
  },
  {
   "cell_type": "code",
   "execution_count": 46,
   "metadata": {
    "collapsed": false
   },
   "outputs": [
    {
     "name": "stdout",
     "output_type": "stream",
     "text": [
      "type | 7 | category\n",
      "date | 2218 | object\n",
      "kind | 14 | category\n",
      "num_claims | 391 | float64\n",
      "forward_citation | 986 | float64\n",
      "backward_citation | 520 | float64\n",
      "year | 42 | float64\n",
      "month | 12 | float64\n",
      "day | 31 | float64\n",
      "log_back_cit | 520 | float64\n",
      "citation_bi | 2 | int64\n"
     ]
    }
   ],
   "source": [
    "uniqueColValues(df)"
   ]
  },
  {
   "cell_type": "code",
   "execution_count": 47,
   "metadata": {
    "collapsed": false
   },
   "outputs": [],
   "source": [
    "# pd.get_dummies(obj_df, columns=[\"body_style\", \"drive_wheels\"], prefix=[\"body\", \"drive\"]).head()\n",
    "df=pd.get_dummies(df, columns=[\"type\", \"kind\"], prefix=[\"type\", \"kind\"])"
   ]
  },
  {
   "cell_type": "code",
   "execution_count": 48,
   "metadata": {
    "collapsed": false
   },
   "outputs": [
    {
     "data": {
      "text/plain": [
       "Index(['date', 'num_claims', 'forward_citation', 'backward_citation', 'year',\n",
       "       'month', 'day', 'log_back_cit', 'citation_bi',\n",
       "       'type_Device provided with an optical communications function and optical communication system',\n",
       "       'type_TVPP',\n",
       "       'type_Unsolicited message intercepting communications processor',\n",
       "       'type_defensive publication', 'type_design', 'type_plant',\n",
       "       'type_reissue', 'type_statutory invention registration', 'type_utility',\n",
       "       'kind_A', 'kind_B1', 'kind_B2', 'kind_E', 'kind_E1', 'kind_H',\n",
       "       'kind_H1', 'kind_H2', 'kind_I4', 'kind_I5', 'kind_P', 'kind_P2',\n",
       "       'kind_P3', 'kind_S', 'kind_S1'],\n",
       "      dtype='object')"
      ]
     },
     "execution_count": 48,
     "metadata": {},
     "output_type": "execute_result"
    }
   ],
   "source": [
    "df.columns"
   ]
  },
  {
   "cell_type": "code",
   "execution_count": 49,
   "metadata": {
    "collapsed": true
   },
   "outputs": [],
   "source": [
    "df=df.drop(['type_Device provided with an optical communications function and optical communication system', 'type_Unsolicited message intercepting communications processor'], axis=1)"
   ]
  },
  {
   "cell_type": "code",
   "execution_count": 50,
   "metadata": {
    "collapsed": false
   },
   "outputs": [
    {
     "data": {
      "text/plain": [
       "date                                     0\n",
       "num_claims                               0\n",
       "forward_citation                         0\n",
       "backward_citation                        0\n",
       "year                                     0\n",
       "month                                    0\n",
       "day                                      0\n",
       "log_back_cit                             0\n",
       "citation_bi                              0\n",
       "type_TVPP                                0\n",
       "type_defensive publication               0\n",
       "type_design                              0\n",
       "type_plant                               0\n",
       "type_reissue                             0\n",
       "type_statutory invention registration    0\n",
       "type_utility                             0\n",
       "kind_A                                   0\n",
       "kind_B1                                  0\n",
       "kind_B2                                  0\n",
       "kind_E                                   0\n",
       "kind_E1                                  0\n",
       "kind_H                                   0\n",
       "kind_H1                                  0\n",
       "kind_H2                                  0\n",
       "kind_I4                                  0\n",
       "kind_I5                                  0\n",
       "kind_P                                   0\n",
       "kind_P2                                  0\n",
       "kind_P3                                  0\n",
       "dtype: int64"
      ]
     },
     "execution_count": 50,
     "metadata": {},
     "output_type": "execute_result"
    }
   ],
   "source": [
    "df=df.drop(['kind_S', 'kind_S1'], axis=1)\n",
    "count_nan = len(df) - df.count()\n",
    "count_nan"
   ]
  },
  {
   "cell_type": "code",
   "execution_count": 51,
   "metadata": {
    "collapsed": false
   },
   "outputs": [],
   "source": [
    "# # chosenColumns = ['num_claims', 'forward_citation','year', 'month', 'day']\n",
    "# chosenColumns=['num_claims', 'forward_citation','year', 'month', 'day']\n",
    "# myX = df.as_matrix(columns=chosenColumns)\n",
    "# myY = df.as_matrix(columns=['citation_bi'])\n",
    "\n",
    "# xTrain, xTest, yTrain, yTest = train_test_split(myX, myY, train_size=0.7, random_state=3) \n",
    "# testSize = yTest.shape[0]\n",
    "# trainSize = yTrain.shape[0]\n",
    "\n",
    "# best_num_attr(myX, xTrain, xTest, yTrain, yTest, chosenColumns)"
   ]
  }
 ],
 "metadata": {
  "anaconda-cloud": {},
  "kernelspec": {
   "display_name": "Python [default]",
   "language": "python",
   "name": "python3"
  },
  "language_info": {
   "codemirror_mode": {
    "name": "ipython",
    "version": 3
   },
   "file_extension": ".py",
   "mimetype": "text/x-python",
   "name": "python",
   "nbconvert_exporter": "python",
   "pygments_lexer": "ipython3",
   "version": "3.5.2"
  }
 },
 "nbformat": 4,
 "nbformat_minor": 2
}
