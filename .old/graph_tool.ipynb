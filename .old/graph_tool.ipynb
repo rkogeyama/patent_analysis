{
 "cells": [
  {
   "cell_type": "code",
   "execution_count": 1,
   "metadata": {
    "collapsed": true
   },
   "outputs": [],
   "source": [
    "# calculate centrality of patent citation\n",
    "# February 6th, 2020\n",
    "# Type: Graph\n",
    "# Number of nodes: 8527465\n",
    "# Number of edges: 91336922\n",
    "# Average degree:  21.4218"
   ]
  },
  {
   "cell_type": "code",
   "execution_count": 2,
   "metadata": {
    "collapsed": false
   },
   "outputs": [
    {
     "name": "stderr",
     "output_type": "stream",
     "text": [
      "/home/rkogeyam/.conda/envs/n-env/lib/python2.7/site-packages/graph_tool/draw/cairo_draw.py:1494: RuntimeWarning: Error importing Gtk module: No module named gi; GTK+ drawing will not work.\n",
      "  warnings.warn(msg, RuntimeWarning)\n"
     ]
    }
   ],
   "source": [
    "import matplotlib\n",
    "import graph_tool.all as gt\n",
    "from random import randint\n",
    "# import pandas as pd"
   ]
  },
  {
   "cell_type": "code",
   "execution_count": 3,
   "metadata": {
    "collapsed": true
   },
   "outputs": [],
   "source": [
    "# src='data/sample.csv'\n",
    "src='data/patcitonly.csv'\n",
    "\n",
    "# src='data/sample.csv'"
   ]
  },
  {
   "cell_type": "code",
   "execution_count": 4,
   "metadata": {
    "collapsed": false
   },
   "outputs": [],
   "source": [
    "g=gt.Graph()"
   ]
  },
  {
   "cell_type": "code",
   "execution_count": 5,
   "metadata": {
    "collapsed": false
   },
   "outputs": [],
   "source": [
    "patent_id = g.new_vertex_property(\"string\")"
   ]
  },
  {
   "cell_type": "code",
   "execution_count": 6,
   "metadata": {
    "collapsed": false
   },
   "outputs": [],
   "source": [
    "import csv\n",
    "with open(src, 'r') as csvfile:\n",
    "    \n",
    "    list_of_edges = csv.reader(csvfile, delimiter=',')\n",
    "\n",
    "    vertices = {}\n",
    "\n",
    "    for e in list_of_edges:\n",
    "        if e[0] not in vertices:\n",
    "            vertices[e[0]] = True\n",
    "        if e[1] not in vertices:\n",
    "            vertices[e[1]] = True\n",
    "\n",
    "    for d in vertices:\n",
    "        vertices[d] = g.add_vertex()\n",
    "\n",
    "    for edge in list_of_edges:\n",
    "        g.add_edge(vertices[edge[0]], vertices[edge[1]])"
   ]
  },
  {
   "cell_type": "code",
   "execution_count": 7,
   "metadata": {
    "collapsed": false
   },
   "outputs": [],
   "source": [
    "# gt.graph_tool.centrality.pagerank(g, damping=0.85, pers=None, weight=None, prop=None, epsilon=1e-06, max_iter=None, ret_iter=False)"
   ]
  },
  {
   "cell_type": "code",
   "execution_count": 8,
   "metadata": {
    "collapsed": false
   },
   "outputs": [],
   "source": [
    "# Initialize attribute\n",
    "# max_eigen=g.new_vertex_property('float')\n",
    "eigen=g.new_vertex_property('float')"
   ]
  },
  {
   "cell_type": "code",
   "execution_count": 9,
   "metadata": {
    "collapsed": true
   },
   "outputs": [],
   "source": [
    "# Internalize attribute into the graph\n",
    "# g.vertex_properties[\"max_eigen\"] = max_eigen\n",
    "g.vertex_properties[\"eigen\"]=eigen"
   ]
  },
  {
   "cell_type": "code",
   "execution_count": 10,
   "metadata": {
    "collapsed": false
   },
   "outputs": [],
   "source": [
    "# Calculate graph\n",
    "# max_eigenvalue, eigenvector_property_map = gt.graph_tool.centrality.eigenvector(g)\n",
    "max_eigenvalue, eigenvector_property_map = gt.graph_tool.centrality.eigenvector(g, vprop=g.vp.eigen)\n"
   ]
  },
  {
   "cell_type": "code",
   "execution_count": 11,
   "metadata": {
    "collapsed": false
   },
   "outputs": [],
   "source": [
    "pagerank=g.new_vertex_property('float')\n",
    "g.vertex_properties[\"pagerank\"]=pagerank\n",
    "pagerank=gt.graph_tool.centrality.pagerank(g)"
   ]
  },
  {
   "cell_type": "code",
   "execution_count": 12,
   "metadata": {
    "collapsed": false
   },
   "outputs": [],
   "source": [
    "# g.vertex_properties[\"eigen\"]=eigenvector_property_map"
   ]
  },
  {
   "cell_type": "code",
   "execution_count": 13,
   "metadata": {
    "collapsed": false
   },
   "outputs": [],
   "source": [
    "# g.get_vertices(vprops='eigen')"
   ]
  },
  {
   "cell_type": "code",
   "execution_count": 14,
   "metadata": {
    "collapsed": false
   },
   "outputs": [
    {
     "name": "stdout",
     "output_type": "stream",
     "text": [
      "eigen          (vertex)  (type: double)\n",
      "pagerank       (vertex)  (type: double)\n"
     ]
    }
   ],
   "source": [
    "g.list_properties()"
   ]
  },
  {
   "cell_type": "code",
   "execution_count": 15,
   "metadata": {
    "collapsed": false
   },
   "outputs": [],
   "source": [
    "with open('data/eigen.csv', 'w') as myfile:\n",
    "     wr = csv.writer(myfile, quoting=csv.QUOTE_ALL)\n",
    "     wr.writerow(zip(vertices.keys(), g.vp.eigen))"
   ]
  },
  {
   "cell_type": "code",
   "execution_count": 16,
   "metadata": {
    "collapsed": false
   },
   "outputs": [
    {
     "name": "stdout",
     "output_type": "stream",
     "text": [
      "eigen          (vertex)  (type: double)\n",
      "pagerank       (vertex)  (type: double)\n"
     ]
    }
   ],
   "source": [
    "g.list_properties()"
   ]
  },
  {
   "cell_type": "code",
   "execution_count": 17,
   "metadata": {
    "collapsed": true
   },
   "outputs": [],
   "source": [
    "# for i in range(0,len(vertices), 10000):\n",
    "#     print(eigenvector_property_map[i])"
   ]
  },
  {
   "cell_type": "code",
   "execution_count": 18,
   "metadata": {
    "collapsed": true
   },
   "outputs": [],
   "source": [
    "# for i in range(0,len(vertices), 10000):\n",
    "#     print(g.vertex[i])"
   ]
  },
  {
   "cell_type": "code",
   "execution_count": 19,
   "metadata": {
    "collapsed": false
   },
   "outputs": [],
   "source": [
    "# g.vertex_properties['eigen']"
   ]
  },
  {
   "cell_type": "code",
   "execution_count": 20,
   "metadata": {
    "collapsed": false
   },
   "outputs": [],
   "source": [
    "# with open(\"data/centrality.csv\", \"a\") as myfile:\n",
    "\n",
    "#     for i in range(1,len(vertices)):\n",
    "        \n",
    "#         output=[]\n",
    "#         output.append([i, eigenvector_property_map[i]]) \n",
    "#         myfile.write(str(output[0]))\n"
   ]
  },
  {
   "cell_type": "code",
   "execution_count": 21,
   "metadata": {
    "collapsed": false
   },
   "outputs": [],
   "source": [
    "# output[0]"
   ]
  }
 ],
 "metadata": {
  "anaconda-cloud": {},
  "kernelspec": {
   "display_name": "Python [conda env:n-env]",
   "language": "python",
   "name": "conda-env-n-env-py"
  },
  "language_info": {
   "codemirror_mode": {
    "name": "ipython",
    "version": 2
   },
   "file_extension": ".py",
   "mimetype": "text/x-python",
   "name": "python",
   "nbconvert_exporter": "python",
   "pygments_lexer": "ipython2",
   "version": "2.7.15"
  }
 },
 "nbformat": 4,
 "nbformat_minor": 1
}
