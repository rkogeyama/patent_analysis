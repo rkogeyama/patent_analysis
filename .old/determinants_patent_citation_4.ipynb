{
 "cells": [
  {
   "cell_type": "code",
   "execution_count": 1,
   "metadata": {
    "collapsed": true
   },
   "outputs": [],
   "source": [
    "#Script to evaluate the determinants of patent citation \n",
    "#Renato Kogeyama\n",
    "\n",
    "#Syracuse, December 3rd, 2019\n",
    "\n",
    "#The original script is getting too complex\n",
    "#There was many tentative scripts to play with data\n",
    "#Here I am writing a script to show the relevance of variables to patent citation"
   ]
  },
  {
   "cell_type": "code",
   "execution_count": 2,
   "metadata": {
    "collapsed": false
   },
   "outputs": [],
   "source": [
    "import pandas as pd\n",
    "import numpy as np\n",
    "\n",
    "from sklearn import preprocessing\n",
    "from sklearn import linear_model, datasets\n",
    "from sklearn.model_selection import train_test_split\n",
    "\n",
    "from scipy import stats\n",
    "import datetime\n",
    "import matplotlib.pyplot as plot\n",
    "import pylab as pl\n",
    "\n",
    "from math import sqrt\n",
    "\n",
    "\n",
    "import sys\n",
    "sys.path.append('/home/rkogeyam/scripts/')\n",
    "\n",
    "from best_num_attr import best_num_attr\n",
    "from xattrSelect import xattrSelect\n",
    "from sampler import sampler\n",
    "from normalize import normalize\n"
   ]
  },
  {
   "cell_type": "code",
   "execution_count": 3,
   "metadata": {
    "collapsed": true
   },
   "outputs": [],
   "source": [
    "%matplotlib inline"
   ]
  },
  {
   "cell_type": "code",
   "execution_count": 4,
   "metadata": {
    "collapsed": false
   },
   "outputs": [
    {
     "name": "stderr",
     "output_type": "stream",
     "text": [
      "/home/applications/anaconda3/4.2.0/lib/python3.5/site-packages/IPython/core/interactiveshell.py:2717: DtypeWarning: Columns (1,3,6) have mixed types. Specify dtype option on import or set low_memory=False.\n",
      "  interactivity=interactivity, compiler=compiler, result=result)\n"
     ]
    }
   ],
   "source": [
    "fname='/home/rkogeyam/PATENT_CITATION/df_w_pat_cit_191003.csv'\n",
    "\n",
    "df=pd.read_csv(fname)\n",
    "\n",
    "# sample_size=1000\n",
    "# df=sampler(fname, sample_size)"
   ]
  },
  {
   "cell_type": "code",
   "execution_count": 5,
   "metadata": {
    "collapsed": false
   },
   "outputs": [],
   "source": [
    "df=df.iloc[:,[1,2,5,8,9,11,12,13,14,15]]"
   ]
  },
  {
   "cell_type": "code",
   "execution_count": 6,
   "metadata": {
    "collapsed": false
   },
   "outputs": [],
   "source": [
    "df=df.set_index('id')"
   ]
  },
  {
   "cell_type": "code",
   "execution_count": 7,
   "metadata": {
    "collapsed": false
   },
   "outputs": [],
   "source": [
    "#these entries are wrong \n",
    "# df=df.drop(['type_Device provided with an optical communications function and optical communication system', 'type_Unsolicited message intercepting communications processor'], axis=1)"
   ]
  },
  {
   "cell_type": "code",
   "execution_count": 8,
   "metadata": {
    "collapsed": false
   },
   "outputs": [],
   "source": [
    "# df.dtypes\n",
    "df=df.drop('date', axis=1)"
   ]
  },
  {
   "cell_type": "code",
   "execution_count": 9,
   "metadata": {
    "collapsed": true
   },
   "outputs": [],
   "source": [
    "df=df.dropna()"
   ]
  },
  {
   "cell_type": "code",
   "execution_count": 10,
   "metadata": {
    "collapsed": false
   },
   "outputs": [
    {
     "data": {
      "text/html": [
       "<div>\n",
       "<table border=\"1\" class=\"dataframe\">\n",
       "  <thead>\n",
       "    <tr style=\"text-align: right;\">\n",
       "      <th></th>\n",
       "      <th>count</th>\n",
       "      <th>mean</th>\n",
       "      <th>std</th>\n",
       "      <th>min</th>\n",
       "      <th>25%</th>\n",
       "      <th>50%</th>\n",
       "      <th>75%</th>\n",
       "      <th>max</th>\n",
       "    </tr>\n",
       "  </thead>\n",
       "  <tbody>\n",
       "    <tr>\n",
       "      <th>num_claims</th>\n",
       "      <td>6488250.0</td>\n",
       "      <td>14.143219</td>\n",
       "      <td>12.004228</td>\n",
       "      <td>0.0</td>\n",
       "      <td>6.0</td>\n",
       "      <td>12.0</td>\n",
       "      <td>20.0</td>\n",
       "      <td>887.0</td>\n",
       "    </tr>\n",
       "    <tr>\n",
       "      <th>forward_citation</th>\n",
       "      <td>6488250.0</td>\n",
       "      <td>2.184880</td>\n",
       "      <td>17.551109</td>\n",
       "      <td>0.0</td>\n",
       "      <td>0.0</td>\n",
       "      <td>0.0</td>\n",
       "      <td>0.0</td>\n",
       "      <td>2914.0</td>\n",
       "    </tr>\n",
       "    <tr>\n",
       "      <th>backward_citation</th>\n",
       "      <td>6488250.0</td>\n",
       "      <td>1.121036</td>\n",
       "      <td>7.449018</td>\n",
       "      <td>0.0</td>\n",
       "      <td>0.0</td>\n",
       "      <td>0.0</td>\n",
       "      <td>0.0</td>\n",
       "      <td>2592.0</td>\n",
       "    </tr>\n",
       "    <tr>\n",
       "      <th>year</th>\n",
       "      <td>6488250.0</td>\n",
       "      <td>2002.723440</td>\n",
       "      <td>11.322681</td>\n",
       "      <td>1976.0</td>\n",
       "      <td>1995.0</td>\n",
       "      <td>2005.0</td>\n",
       "      <td>2013.0</td>\n",
       "      <td>2017.0</td>\n",
       "    </tr>\n",
       "    <tr>\n",
       "      <th>month</th>\n",
       "      <td>6488250.0</td>\n",
       "      <td>6.590932</td>\n",
       "      <td>3.402092</td>\n",
       "      <td>1.0</td>\n",
       "      <td>4.0</td>\n",
       "      <td>7.0</td>\n",
       "      <td>10.0</td>\n",
       "      <td>12.0</td>\n",
       "    </tr>\n",
       "    <tr>\n",
       "      <th>day</th>\n",
       "      <td>6488250.0</td>\n",
       "      <td>15.642284</td>\n",
       "      <td>8.827000</td>\n",
       "      <td>1.0</td>\n",
       "      <td>8.0</td>\n",
       "      <td>16.0</td>\n",
       "      <td>23.0</td>\n",
       "      <td>31.0</td>\n",
       "    </tr>\n",
       "  </tbody>\n",
       "</table>\n",
       "</div>"
      ],
      "text/plain": [
       "                       count         mean        std     min     25%     50%  \\\n",
       "num_claims         6488250.0    14.143219  12.004228     0.0     6.0    12.0   \n",
       "forward_citation   6488250.0     2.184880  17.551109     0.0     0.0     0.0   \n",
       "backward_citation  6488250.0     1.121036   7.449018     0.0     0.0     0.0   \n",
       "year               6488250.0  2002.723440  11.322681  1976.0  1995.0  2005.0   \n",
       "month              6488250.0     6.590932   3.402092     1.0     4.0     7.0   \n",
       "day                6488250.0    15.642284   8.827000     1.0     8.0    16.0   \n",
       "\n",
       "                      75%     max  \n",
       "num_claims           20.0   887.0  \n",
       "forward_citation      0.0  2914.0  \n",
       "backward_citation     0.0  2592.0  \n",
       "year               2013.0  2017.0  \n",
       "month                10.0    12.0  \n",
       "day                  23.0    31.0  "
      ]
     },
     "execution_count": 10,
     "metadata": {},
     "output_type": "execute_result"
    }
   ],
   "source": [
    "df.describe().transpose()"
   ]
  },
  {
   "cell_type": "code",
   "execution_count": 11,
   "metadata": {
    "collapsed": false
   },
   "outputs": [
    {
     "name": "stdout",
     "output_type": "stream",
     "text": [
      "Total number of observations and attributes\n",
      "(6488250, 8)\n",
      "Number of numerical attributes: 6\n",
      "Number of non-numerical attributes: 2\n"
     ]
    }
   ],
   "source": [
    "# #normalization\n",
    "df=normalize(df)"
   ]
  },
  {
   "cell_type": "code",
   "execution_count": 12,
   "metadata": {
    "collapsed": false
   },
   "outputs": [
    {
     "data": {
      "text/html": [
       "<div>\n",
       "<table border=\"1\" class=\"dataframe\">\n",
       "  <thead>\n",
       "    <tr style=\"text-align: right;\">\n",
       "      <th></th>\n",
       "      <th>count</th>\n",
       "      <th>mean</th>\n",
       "      <th>std</th>\n",
       "      <th>min</th>\n",
       "      <th>25%</th>\n",
       "      <th>50%</th>\n",
       "      <th>75%</th>\n",
       "      <th>max</th>\n",
       "    </tr>\n",
       "  </thead>\n",
       "  <tbody>\n",
       "    <tr>\n",
       "      <th>num_claims</th>\n",
       "      <td>6488250.0</td>\n",
       "      <td>1.594500e-02</td>\n",
       "      <td>0.013534</td>\n",
       "      <td>0.0</td>\n",
       "      <td>0.006764</td>\n",
       "      <td>0.013529</td>\n",
       "      <td>0.022548</td>\n",
       "      <td>1.0</td>\n",
       "    </tr>\n",
       "    <tr>\n",
       "      <th>forward_citation</th>\n",
       "      <td>6488250.0</td>\n",
       "      <td>7.497872e-04</td>\n",
       "      <td>0.006023</td>\n",
       "      <td>0.0</td>\n",
       "      <td>0.000000</td>\n",
       "      <td>0.000000</td>\n",
       "      <td>0.000000</td>\n",
       "      <td>1.0</td>\n",
       "    </tr>\n",
       "    <tr>\n",
       "      <th>backward_citation</th>\n",
       "      <td>6488250.0</td>\n",
       "      <td>4.324985e-04</td>\n",
       "      <td>0.002874</td>\n",
       "      <td>0.0</td>\n",
       "      <td>0.000000</td>\n",
       "      <td>0.000000</td>\n",
       "      <td>0.000000</td>\n",
       "      <td>1.0</td>\n",
       "    </tr>\n",
       "    <tr>\n",
       "      <th>year</th>\n",
       "      <td>6488250.0</td>\n",
       "      <td>6.517912e-01</td>\n",
       "      <td>0.276163</td>\n",
       "      <td>0.0</td>\n",
       "      <td>0.463415</td>\n",
       "      <td>0.707317</td>\n",
       "      <td>0.902439</td>\n",
       "      <td>1.0</td>\n",
       "    </tr>\n",
       "    <tr>\n",
       "      <th>month</th>\n",
       "      <td>6488250.0</td>\n",
       "      <td>5.082666e-01</td>\n",
       "      <td>0.309281</td>\n",
       "      <td>0.0</td>\n",
       "      <td>0.272727</td>\n",
       "      <td>0.545455</td>\n",
       "      <td>0.818182</td>\n",
       "      <td>1.0</td>\n",
       "    </tr>\n",
       "    <tr>\n",
       "      <th>day</th>\n",
       "      <td>6488250.0</td>\n",
       "      <td>4.880761e-01</td>\n",
       "      <td>0.294233</td>\n",
       "      <td>0.0</td>\n",
       "      <td>0.233333</td>\n",
       "      <td>0.500000</td>\n",
       "      <td>0.733333</td>\n",
       "      <td>1.0</td>\n",
       "    </tr>\n",
       "    <tr>\n",
       "      <th>type_TVPP</th>\n",
       "      <td>6488250.0</td>\n",
       "      <td>4.623743e-07</td>\n",
       "      <td>0.000680</td>\n",
       "      <td>0.0</td>\n",
       "      <td>0.000000</td>\n",
       "      <td>0.000000</td>\n",
       "      <td>0.000000</td>\n",
       "      <td>1.0</td>\n",
       "    </tr>\n",
       "    <tr>\n",
       "      <th>type_defensive publication</th>\n",
       "      <td>6488250.0</td>\n",
       "      <td>7.844950e-05</td>\n",
       "      <td>0.008857</td>\n",
       "      <td>0.0</td>\n",
       "      <td>0.000000</td>\n",
       "      <td>0.000000</td>\n",
       "      <td>0.000000</td>\n",
       "      <td>1.0</td>\n",
       "    </tr>\n",
       "    <tr>\n",
       "      <th>type_design</th>\n",
       "      <td>6488250.0</td>\n",
       "      <td>8.677270e-02</td>\n",
       "      <td>0.281502</td>\n",
       "      <td>0.0</td>\n",
       "      <td>0.000000</td>\n",
       "      <td>0.000000</td>\n",
       "      <td>0.000000</td>\n",
       "      <td>1.0</td>\n",
       "    </tr>\n",
       "    <tr>\n",
       "      <th>type_plant</th>\n",
       "      <td>6488250.0</td>\n",
       "      <td>3.820753e-03</td>\n",
       "      <td>0.061694</td>\n",
       "      <td>0.0</td>\n",
       "      <td>0.000000</td>\n",
       "      <td>0.000000</td>\n",
       "      <td>0.000000</td>\n",
       "      <td>1.0</td>\n",
       "    </tr>\n",
       "    <tr>\n",
       "      <th>type_reissue</th>\n",
       "      <td>6488250.0</td>\n",
       "      <td>2.745270e-03</td>\n",
       "      <td>0.052323</td>\n",
       "      <td>0.0</td>\n",
       "      <td>0.000000</td>\n",
       "      <td>0.000000</td>\n",
       "      <td>0.000000</td>\n",
       "      <td>1.0</td>\n",
       "    </tr>\n",
       "    <tr>\n",
       "      <th>type_statutory invention registration</th>\n",
       "      <td>6488250.0</td>\n",
       "      <td>3.473972e-04</td>\n",
       "      <td>0.018635</td>\n",
       "      <td>0.0</td>\n",
       "      <td>0.000000</td>\n",
       "      <td>0.000000</td>\n",
       "      <td>0.000000</td>\n",
       "      <td>1.0</td>\n",
       "    </tr>\n",
       "    <tr>\n",
       "      <th>type_utility</th>\n",
       "      <td>6488250.0</td>\n",
       "      <td>9.062350e-01</td>\n",
       "      <td>0.291502</td>\n",
       "      <td>0.0</td>\n",
       "      <td>1.000000</td>\n",
       "      <td>1.000000</td>\n",
       "      <td>1.000000</td>\n",
       "      <td>1.0</td>\n",
       "    </tr>\n",
       "    <tr>\n",
       "      <th>kind_A</th>\n",
       "      <td>6488250.0</td>\n",
       "      <td>3.685707e-01</td>\n",
       "      <td>0.482417</td>\n",
       "      <td>0.0</td>\n",
       "      <td>0.000000</td>\n",
       "      <td>0.000000</td>\n",
       "      <td>1.000000</td>\n",
       "      <td>1.0</td>\n",
       "    </tr>\n",
       "    <tr>\n",
       "      <th>kind_B1</th>\n",
       "      <td>6488250.0</td>\n",
       "      <td>8.755566e-02</td>\n",
       "      <td>0.282648</td>\n",
       "      <td>0.0</td>\n",
       "      <td>0.000000</td>\n",
       "      <td>0.000000</td>\n",
       "      <td>0.000000</td>\n",
       "      <td>1.0</td>\n",
       "    </tr>\n",
       "    <tr>\n",
       "      <th>kind_B2</th>\n",
       "      <td>6488250.0</td>\n",
       "      <td>4.501086e-01</td>\n",
       "      <td>0.497505</td>\n",
       "      <td>0.0</td>\n",
       "      <td>0.000000</td>\n",
       "      <td>0.000000</td>\n",
       "      <td>1.000000</td>\n",
       "      <td>1.0</td>\n",
       "    </tr>\n",
       "    <tr>\n",
       "      <th>kind_E</th>\n",
       "      <td>6488250.0</td>\n",
       "      <td>1.339652e-03</td>\n",
       "      <td>0.036577</td>\n",
       "      <td>0.0</td>\n",
       "      <td>0.000000</td>\n",
       "      <td>0.000000</td>\n",
       "      <td>0.000000</td>\n",
       "      <td>1.0</td>\n",
       "    </tr>\n",
       "    <tr>\n",
       "      <th>kind_E1</th>\n",
       "      <td>6488250.0</td>\n",
       "      <td>1.405618e-03</td>\n",
       "      <td>0.037465</td>\n",
       "      <td>0.0</td>\n",
       "      <td>0.000000</td>\n",
       "      <td>0.000000</td>\n",
       "      <td>0.000000</td>\n",
       "      <td>1.0</td>\n",
       "    </tr>\n",
       "    <tr>\n",
       "      <th>kind_H</th>\n",
       "      <td>6488250.0</td>\n",
       "      <td>3.054753e-04</td>\n",
       "      <td>0.017475</td>\n",
       "      <td>0.0</td>\n",
       "      <td>0.000000</td>\n",
       "      <td>0.000000</td>\n",
       "      <td>0.000000</td>\n",
       "      <td>1.0</td>\n",
       "    </tr>\n",
       "    <tr>\n",
       "      <th>kind_H1</th>\n",
       "      <td>6488250.0</td>\n",
       "      <td>4.192194e-05</td>\n",
       "      <td>0.006475</td>\n",
       "      <td>0.0</td>\n",
       "      <td>0.000000</td>\n",
       "      <td>0.000000</td>\n",
       "      <td>0.000000</td>\n",
       "      <td>1.0</td>\n",
       "    </tr>\n",
       "    <tr>\n",
       "      <th>kind_I4</th>\n",
       "      <td>6488250.0</td>\n",
       "      <td>7.844950e-05</td>\n",
       "      <td>0.008857</td>\n",
       "      <td>0.0</td>\n",
       "      <td>0.000000</td>\n",
       "      <td>0.000000</td>\n",
       "      <td>0.000000</td>\n",
       "      <td>1.0</td>\n",
       "    </tr>\n",
       "    <tr>\n",
       "      <th>kind_I5</th>\n",
       "      <td>6488250.0</td>\n",
       "      <td>4.623743e-07</td>\n",
       "      <td>0.000680</td>\n",
       "      <td>0.0</td>\n",
       "      <td>0.000000</td>\n",
       "      <td>0.000000</td>\n",
       "      <td>0.000000</td>\n",
       "      <td>1.0</td>\n",
       "    </tr>\n",
       "    <tr>\n",
       "      <th>kind_P</th>\n",
       "      <td>6488250.0</td>\n",
       "      <td>1.276461e-03</td>\n",
       "      <td>0.035705</td>\n",
       "      <td>0.0</td>\n",
       "      <td>0.000000</td>\n",
       "      <td>0.000000</td>\n",
       "      <td>0.000000</td>\n",
       "      <td>1.0</td>\n",
       "    </tr>\n",
       "    <tr>\n",
       "      <th>kind_P2</th>\n",
       "      <td>6488250.0</td>\n",
       "      <td>1.757176e-03</td>\n",
       "      <td>0.041882</td>\n",
       "      <td>0.0</td>\n",
       "      <td>0.000000</td>\n",
       "      <td>0.000000</td>\n",
       "      <td>0.000000</td>\n",
       "      <td>1.0</td>\n",
       "    </tr>\n",
       "    <tr>\n",
       "      <th>kind_P3</th>\n",
       "      <td>6488250.0</td>\n",
       "      <td>7.871152e-04</td>\n",
       "      <td>0.028045</td>\n",
       "      <td>0.0</td>\n",
       "      <td>0.000000</td>\n",
       "      <td>0.000000</td>\n",
       "      <td>0.000000</td>\n",
       "      <td>1.0</td>\n",
       "    </tr>\n",
       "    <tr>\n",
       "      <th>kind_S</th>\n",
       "      <td>6488250.0</td>\n",
       "      <td>3.230178e-02</td>\n",
       "      <td>0.176800</td>\n",
       "      <td>0.0</td>\n",
       "      <td>0.000000</td>\n",
       "      <td>0.000000</td>\n",
       "      <td>0.000000</td>\n",
       "      <td>1.0</td>\n",
       "    </tr>\n",
       "    <tr>\n",
       "      <th>kind_S1</th>\n",
       "      <td>6488250.0</td>\n",
       "      <td>5.447093e-02</td>\n",
       "      <td>0.226945</td>\n",
       "      <td>0.0</td>\n",
       "      <td>0.000000</td>\n",
       "      <td>0.000000</td>\n",
       "      <td>0.000000</td>\n",
       "      <td>1.0</td>\n",
       "    </tr>\n",
       "  </tbody>\n",
       "</table>\n",
       "</div>"
      ],
      "text/plain": [
       "                                           count          mean       std  min  \\\n",
       "num_claims                             6488250.0  1.594500e-02  0.013534  0.0   \n",
       "forward_citation                       6488250.0  7.497872e-04  0.006023  0.0   \n",
       "backward_citation                      6488250.0  4.324985e-04  0.002874  0.0   \n",
       "year                                   6488250.0  6.517912e-01  0.276163  0.0   \n",
       "month                                  6488250.0  5.082666e-01  0.309281  0.0   \n",
       "day                                    6488250.0  4.880761e-01  0.294233  0.0   \n",
       "type_TVPP                              6488250.0  4.623743e-07  0.000680  0.0   \n",
       "type_defensive publication             6488250.0  7.844950e-05  0.008857  0.0   \n",
       "type_design                            6488250.0  8.677270e-02  0.281502  0.0   \n",
       "type_plant                             6488250.0  3.820753e-03  0.061694  0.0   \n",
       "type_reissue                           6488250.0  2.745270e-03  0.052323  0.0   \n",
       "type_statutory invention registration  6488250.0  3.473972e-04  0.018635  0.0   \n",
       "type_utility                           6488250.0  9.062350e-01  0.291502  0.0   \n",
       "kind_A                                 6488250.0  3.685707e-01  0.482417  0.0   \n",
       "kind_B1                                6488250.0  8.755566e-02  0.282648  0.0   \n",
       "kind_B2                                6488250.0  4.501086e-01  0.497505  0.0   \n",
       "kind_E                                 6488250.0  1.339652e-03  0.036577  0.0   \n",
       "kind_E1                                6488250.0  1.405618e-03  0.037465  0.0   \n",
       "kind_H                                 6488250.0  3.054753e-04  0.017475  0.0   \n",
       "kind_H1                                6488250.0  4.192194e-05  0.006475  0.0   \n",
       "kind_I4                                6488250.0  7.844950e-05  0.008857  0.0   \n",
       "kind_I5                                6488250.0  4.623743e-07  0.000680  0.0   \n",
       "kind_P                                 6488250.0  1.276461e-03  0.035705  0.0   \n",
       "kind_P2                                6488250.0  1.757176e-03  0.041882  0.0   \n",
       "kind_P3                                6488250.0  7.871152e-04  0.028045  0.0   \n",
       "kind_S                                 6488250.0  3.230178e-02  0.176800  0.0   \n",
       "kind_S1                                6488250.0  5.447093e-02  0.226945  0.0   \n",
       "\n",
       "                                            25%       50%       75%  max  \n",
       "num_claims                             0.006764  0.013529  0.022548  1.0  \n",
       "forward_citation                       0.000000  0.000000  0.000000  1.0  \n",
       "backward_citation                      0.000000  0.000000  0.000000  1.0  \n",
       "year                                   0.463415  0.707317  0.902439  1.0  \n",
       "month                                  0.272727  0.545455  0.818182  1.0  \n",
       "day                                    0.233333  0.500000  0.733333  1.0  \n",
       "type_TVPP                              0.000000  0.000000  0.000000  1.0  \n",
       "type_defensive publication             0.000000  0.000000  0.000000  1.0  \n",
       "type_design                            0.000000  0.000000  0.000000  1.0  \n",
       "type_plant                             0.000000  0.000000  0.000000  1.0  \n",
       "type_reissue                           0.000000  0.000000  0.000000  1.0  \n",
       "type_statutory invention registration  0.000000  0.000000  0.000000  1.0  \n",
       "type_utility                           1.000000  1.000000  1.000000  1.0  \n",
       "kind_A                                 0.000000  0.000000  1.000000  1.0  \n",
       "kind_B1                                0.000000  0.000000  0.000000  1.0  \n",
       "kind_B2                                0.000000  0.000000  1.000000  1.0  \n",
       "kind_E                                 0.000000  0.000000  0.000000  1.0  \n",
       "kind_E1                                0.000000  0.000000  0.000000  1.0  \n",
       "kind_H                                 0.000000  0.000000  0.000000  1.0  \n",
       "kind_H1                                0.000000  0.000000  0.000000  1.0  \n",
       "kind_I4                                0.000000  0.000000  0.000000  1.0  \n",
       "kind_I5                                0.000000  0.000000  0.000000  1.0  \n",
       "kind_P                                 0.000000  0.000000  0.000000  1.0  \n",
       "kind_P2                                0.000000  0.000000  0.000000  1.0  \n",
       "kind_P3                                0.000000  0.000000  0.000000  1.0  \n",
       "kind_S                                 0.000000  0.000000  0.000000  1.0  \n",
       "kind_S1                                0.000000  0.000000  0.000000  1.0  "
      ]
     },
     "execution_count": 12,
     "metadata": {},
     "output_type": "execute_result"
    }
   ],
   "source": [
    "df.describe().transpose()"
   ]
  },
  {
   "cell_type": "code",
   "execution_count": 13,
   "metadata": {
    "collapsed": false
   },
   "outputs": [
    {
     "data": {
      "text/plain": [
       "27"
      ]
     },
     "execution_count": 13,
     "metadata": {},
     "output_type": "execute_result"
    }
   ],
   "source": [
    "# List of IVs\n",
    "chosenColumns=df.columns.values.tolist()\n",
    "len(chosenColumns)"
   ]
  },
  {
   "cell_type": "code",
   "execution_count": 14,
   "metadata": {
    "collapsed": false,
    "scrolled": true
   },
   "outputs": [
    {
     "data": {
      "text/plain": [
       "26"
      ]
     },
     "execution_count": 14,
     "metadata": {},
     "output_type": "execute_result"
    }
   ],
   "source": [
    "chosenColumns.remove('backward_citation')\n",
    "len(chosenColumns)"
   ]
  },
  {
   "cell_type": "code",
   "execution_count": 15,
   "metadata": {
    "collapsed": true
   },
   "outputs": [],
   "source": [
    "# chosenColumns.remove('citation_bi')\n",
    "# chosenColumns.remove('log_back_cit')"
   ]
  },
  {
   "cell_type": "code",
   "execution_count": 16,
   "metadata": {
    "collapsed": true
   },
   "outputs": [],
   "source": [
    "myX = df.as_matrix(columns=chosenColumns)\n",
    "myY = df.as_matrix(columns=['backward_citation'])"
   ]
  },
  {
   "cell_type": "code",
   "execution_count": 17,
   "metadata": {
    "collapsed": false
   },
   "outputs": [
    {
     "name": "stderr",
     "output_type": "stream",
     "text": [
      "/home/applications/anaconda3/4.2.0/lib/python3.5/site-packages/sklearn/model_selection/_split.py:2010: FutureWarning: From version 0.21, test_size will always complement train_size unless both are specified.\n",
      "  FutureWarning)\n"
     ]
    }
   ],
   "source": [
    "xTrain, xTest, yTrain, yTest = train_test_split(myX, myY, train_size=0.7, random_state=3) \n",
    "testSize = yTest.shape[0]\n",
    "trainSize = yTrain.shape[0]"
   ]
  },
  {
   "cell_type": "code",
   "execution_count": 18,
   "metadata": {
    "collapsed": false
   },
   "outputs": [
    {
     "name": "stdout",
     "output_type": "stream",
     "text": [
      "Out of sample error versus attribute set size\n",
      "0.0027|0.0027|0.0027|0.0027|0.0027|0.0027|0.0027|0.0027|0.0027|0.0027|0.0027|0.0027|0.0027|0.0027|0.0027|0.0027|0.0027|0.0027|0.0027|0.0027|0.0027|0.0116|0.3394|0.5056|109.0161|922.2907\n",
      "['type_design', 'forward_citation', 'kind_S1', 'kind_B1', 'kind_E', 'num_claims', 'kind_E1', 'year', 'kind_A', 'type_statutory invention registration', 'day', 'kind_P', 'kind_P3', 'kind_H', 'kind_H1', 'type_TVPP', 'kind_I5', 'type_plant', 'type_reissue', 'kind_P2', 'kind_S', 'month', 'kind_I4', 'type_defensive publication', 'kind_B2', 'type_utility']\n"
     ]
    },
    {
     "data": {
      "image/png": "[encoded data removed]",
      "text/plain": [
       "<matplotlib.figure.Figure at 0x7f296398b2b0>"
      ]
     },
     "metadata": {},
     "output_type": "display_data"
    },
    {
     "data": {
      "image/png": "[encoded data removed]",
      "text/plain": [
       "<matplotlib.figure.Figure at 0x7f2964ebc588>"
      ]
     },
     "metadata": {},
     "output_type": "display_data"
    }
   ],
   "source": [
    "best_num_attr(myX, xTrain, xTest, yTrain, yTest, chosenColumns, regtype='linear')"
   ]
  },
  {
   "cell_type": "code",
   "execution_count": 19,
   "metadata": {
    "collapsed": true
   },
   "outputs": [],
   "source": []
  }
 ],
 "metadata": {
  "anaconda-cloud": {},
  "kernelspec": {
   "display_name": "Python [default]",
   "language": "python",
   "name": "python3"
  },
  "language_info": {
   "codemirror_mode": {
    "name": "ipython",
    "version": 3
   },
   "file_extension": ".py",
   "mimetype": "text/x-python",
   "name": "python",
   "nbconvert_exporter": "python",
   "pygments_lexer": "ipython3",
   "version": "3.5.2"
  }
 },
 "nbformat": 4,
 "nbformat_minor": 1
}
