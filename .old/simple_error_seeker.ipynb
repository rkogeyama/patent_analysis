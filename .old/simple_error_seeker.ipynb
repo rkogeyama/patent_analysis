{
 "cells": [
  {
   "cell_type": "code",
   "execution_count": null,
   "metadata": {
    "collapsed": true
   },
   "outputs": [],
   "source": [
    "# Oct 09, 2019\n",
    "# Miami\n",
    "# Renato Kogeyama\n",
    "\n",
    "#This script reads patents.csv and look for out of place '\\t' (tab spaces) \n",
    "#Is written with generators to avoid using memory"
   ]
  },
  {
   "cell_type": "code",
   "execution_count": 3,
   "metadata": {
    "collapsed": false
   },
   "outputs": [],
   "source": [
    "def parse_data(path):\n",
    "\n",
    "    # open file\n",
    "    f  = open(path, 'r')\n",
    "    i = 0\n",
    "    tabs = 0\n",
    "    previous=0\n",
    "    for row in f:\n",
    "        tabs += row.count('\\t')\n",
    "        if tabs>previous:\n",
    "            yield row\n",
    "        previous=tabs\n",
    "        tabs=0\n",
    "    #Now close the open file\n",
    "    f.close()\n"
   ]
  },
  {
   "cell_type": "code",
   "execution_count": 4,
   "metadata": {
    "collapsed": true
   },
   "outputs": [],
   "source": [
    "errors=parse_data('patent.csv')"
   ]
  },
  {
   "cell_type": "code",
   "execution_count": 7,
   "metadata": {
    "collapsed": false
   },
   "outputs": [
    {
     "name": "stdout",
     "output_type": "stream",
     "text": [
      "id\ttype\tnumber\tcountry\tdate\tabstract\ttitle\tkind\tnum_claims\tfilename\n",
      "\n",
      "eception via optical communications with an external device.\tDevice provided with an optical communications function and optical communication system\tB1\t7\tpg030624.zip\n",
      "\n",
      "6583909\tutility\t6583909\tUS\t2003-06-24\tAn optical communication system according to the present invention includes an optical transmission device and a repeater. The repeater has an automatic level controller for performing average level constant control to an optical signal transmitted from the optical transmission device. The optical transmission device has an average level detector for detecting an average level detection signal of the optical signal transmitted to the repeater, and the average level detector transmits the average level detection signal to the repeater. When the automatic level controller of the repeater detects an average level detection signal, the automatic level controller performs average level constant control for the optical signal with reference to the average level detection signal.\tOptical communication system and optical signal control method therefor\tB1\t24\tpg030624.zip\n",
      "\n",
      "7673059\tutility\t7673059\tUS\t2010-03-02\tA method of tracking electronic content includes producing a file of electronic content and executable instructions that collect notification information and attempt to transmit the notification information to an address when triggered by an event. The executable instructions deny access to the electronic content until the notification information is transmitted successfully.\tTracking electronic content\tB2\t27\tipg100302.xml\n",
      "\n"
     ]
    }
   ],
   "source": [
    "for element in errors:\n",
    "    print(element)"
   ]
  },
  {
   "cell_type": "code",
   "execution_count": null,
   "metadata": {
    "collapsed": true
   },
   "outputs": [],
   "source": []
  }
 ],
 "metadata": {
  "anaconda-cloud": {},
  "kernelspec": {
   "display_name": "Python [default]",
   "language": "python",
   "name": "python3"
  },
  "language_info": {
   "codemirror_mode": {
    "name": "ipython",
    "version": 3
   },
   "file_extension": ".py",
   "mimetype": "text/x-python",
   "name": "python",
   "nbconvert_exporter": "python",
   "pygments_lexer": "ipython3",
   "version": "3.5.2"
  }
 },
 "nbformat": 4,
 "nbformat_minor": 1
}
