{
 "cells": [
  {
   "cell_type": "code",
   "execution_count": 1,
   "metadata": {},
   "outputs": [],
   "source": [
    "# Script to calculate generality and  application data\n",
    "# Generality: how diverse is the impact of a patent\n",
    "# This is done by calculating the herfindal index of citing patents\n",
    "\n",
    "# Feb 7th, 2020\n",
    "# While the previous version is already up, I want to improve the script\n",
    "# I want to make calculations with only one script\n",
    "# Also, I want to compare different class systems\n",
    "# this version took 10 minutes - i am moving the old version away\n",
    "\n",
    "# Jan 16th, 2020\n",
    "# Due to performance problems in the HPC, this script was divided in two, the script following this is generality_2\n",
    "# generality > 1 is not an error, but a consequence of adopting WIPO\n",
    "# it seems that the original calculation had only one class per patent\n",
    "# WIPO provides multiple classes - so when you divide by the total number of citations, \n",
    "#  you do not have the proportion of classes cited anymore\n",
    "# to correct this issue, I can calculate Generality and Originality based only on the first WIPO class\n",
    "\n",
    "# Jan 13th, 2020\n",
    "# Script is running but there are two major issues\n",
    "# - there should not exist generality > 1 , so there is an error in calculation\n",
    "# - too many NANs (about 400k), but I will tackle this issue in 'too_many_nans.ipynb'\n",
    "\n",
    "# to tackle the first problem, I'll begin by creating a subset of the database\n",
    "# to do that, I'll use USPTO classification system"
   ]
  },
  {
   "cell_type": "code",
   "execution_count": 2,
   "metadata": {},
   "outputs": [],
   "source": [
    "import pandas as pd\n",
    "import numpy as np\n",
    "import re\n",
    "\n",
    "import dask.dataframe as dd\n",
    "from dask.delayed import delayed\n",
    "\n",
    "import glob\n",
    "import graphviz\n",
    "\n",
    "file_list=glob.glob(\"data/citation/*\")\n",
    "classification = 'data/wipo.parquet.gz'\n",
    "dst= 'data/generality.parquet.gz'\n",
    "\n",
    "dfs = [dd.read_parquet(f, columns=['patent_id']) for f in file_list]\n",
    "class_df=pd.read_parquet(classification, columns=['wipo_sector_id'])"
   ]
  },
  {
   "cell_type": "code",
   "execution_count": 3,
   "metadata": {},
   "outputs": [],
   "source": [
    "def join_class(df, class_df):\n",
    "    df=df.merge(class_df, how='inner', right_index=True, left_index=True)\n",
    "    return df"
   ]
  },
  {
   "cell_type": "code",
   "execution_count": 4,
   "metadata": {},
   "outputs": [],
   "source": [
    "#this function reads the custom-made wipo groups and prepare the dict for aggregation\n",
    "#the aggregation features one count and sums for all classes\n",
    "def wipo_categories():\n",
    "    file_classes = 'data/classes.csv.gz'\n",
    "    classes=pd.read_csv(file_classes, compression='gzip')\n",
    "    classes=classes[classes['system']=='wipo_field_id'].sector_title.unique().tolist()\n",
    "    aggregation={}\n",
    "    for i, element in enumerate(classes):\n",
    "        if i==0:\n",
    "                aggregation[element]=['count','sum']\n",
    "        else:\n",
    "            aggregation[element]='sum'\n",
    "    return aggregation"
   ]
  },
  {
   "cell_type": "code",
   "execution_count": 5,
   "metadata": {},
   "outputs": [],
   "source": [
    "#this function calculate the terms that will be used later to calculate the originality/generality\n",
    "#it groups by the index and calculate total citation and the sum of citations in each class\n",
    "\n",
    "def prepare_df(df):\n",
    "#     aggregation=wipo_categories()\n",
    "    df=delayed(pd.get_dummies)(df, columns=['wipo_sector_id'])\n",
    "    df2=df.groupby(df.index).sum()\n",
    "#     df2.columns = ['_'.join(col).strip() for col in df2.columns.values] #flatten the index (https://www.roelpeters.be/how-to-flatten-a-multiindex-pandas-dataframe/)\n",
    "    return df2"
   ]
  },
  {
   "cell_type": "code",
   "execution_count": 6,
   "metadata": {},
   "outputs": [],
   "source": [
    "# receives a table made by prepare_df and calculates 1-herfindal\n",
    "# this function calculates generality based on Herfindal index\n",
    "# Herfindal is the sum of the squares divided by the square of the sum of citations\n",
    "# it is a measure of concentration\n",
    "\n",
    "# i separate from prepare_df() to make testing easier\n",
    "def gen_orig(df):\n",
    "    return 1-(np.square(df).sum(axis='columns')/np.square(df.sum(axis='columns')))\n"
   ]
  },
  {
   "cell_type": "code",
   "execution_count": 7,
   "metadata": {},
   "outputs": [
    {
     "ename": "TypeError",
     "evalue": "Truth of Delayed objects is not supported",
     "output_type": "error",
     "traceback": [
      "\u001b[0;31m---------------------------------------------------------------------------\u001b[0m",
      "\u001b[0;31mTypeError\u001b[0m                                 Traceback (most recent call last)",
      "\u001b[0;32m<ipython-input-7-18d071d3af12>\u001b[0m in \u001b[0;36m<module>\u001b[0;34m\u001b[0m\n\u001b[1;32m      4\u001b[0m         \u001b[0mdf\u001b[0m\u001b[0;34m=\u001b[0m\u001b[0mdfx\u001b[0m\u001b[0;34m\u001b[0m\u001b[0;34m\u001b[0m\u001b[0m\n\u001b[1;32m      5\u001b[0m     \u001b[0;32melse\u001b[0m\u001b[0;34m:\u001b[0m\u001b[0;34m\u001b[0m\u001b[0;34m\u001b[0m\u001b[0m\n\u001b[0;32m----> 6\u001b[0;31m         \u001b[0mdf\u001b[0m\u001b[0;34m=\u001b[0m\u001b[0mdd\u001b[0m\u001b[0;34m.\u001b[0m\u001b[0mconcat\u001b[0m\u001b[0;34m(\u001b[0m\u001b[0;34m[\u001b[0m\u001b[0mdf\u001b[0m\u001b[0;34m,\u001b[0m\u001b[0mdfx\u001b[0m\u001b[0;34m]\u001b[0m\u001b[0;34m)\u001b[0m\u001b[0;34m\u001b[0m\u001b[0;34m\u001b[0m\u001b[0m\n\u001b[0m",
      "\u001b[0;32m~/anaconda3/lib/python3.7/site-packages/dask/dataframe/multi.py\u001b[0m in \u001b[0;36mconcat\u001b[0;34m(dfs, axis, join, interleave_partitions, ignore_unknown_divisions, **kwargs)\u001b[0m\n\u001b[1;32m   1108\u001b[0m             if all(\n\u001b[1;32m   1109\u001b[0m                 \u001b[0mdfs\u001b[0m\u001b[0;34m[\u001b[0m\u001b[0mi\u001b[0m\u001b[0;34m]\u001b[0m\u001b[0;34m.\u001b[0m\u001b[0mdivisions\u001b[0m\u001b[0;34m[\u001b[0m\u001b[0;34m-\u001b[0m\u001b[0;36m1\u001b[0m\u001b[0;34m]\u001b[0m \u001b[0;34m<\u001b[0m \u001b[0mdfs\u001b[0m\u001b[0;34m[\u001b[0m\u001b[0mi\u001b[0m \u001b[0;34m+\u001b[0m \u001b[0;36m1\u001b[0m\u001b[0;34m]\u001b[0m\u001b[0;34m.\u001b[0m\u001b[0mdivisions\u001b[0m\u001b[0;34m[\u001b[0m\u001b[0;36m0\u001b[0m\u001b[0;34m]\u001b[0m\u001b[0;34m\u001b[0m\u001b[0;34m\u001b[0m\u001b[0m\n\u001b[0;32m-> 1110\u001b[0;31m                 \u001b[0;32mfor\u001b[0m \u001b[0mi\u001b[0m \u001b[0;32min\u001b[0m \u001b[0mrange\u001b[0m\u001b[0;34m(\u001b[0m\u001b[0mlen\u001b[0m\u001b[0;34m(\u001b[0m\u001b[0mdfs\u001b[0m\u001b[0;34m)\u001b[0m \u001b[0;34m-\u001b[0m \u001b[0;36m1\u001b[0m\u001b[0;34m)\u001b[0m\u001b[0;34m\u001b[0m\u001b[0;34m\u001b[0m\u001b[0m\n\u001b[0m\u001b[1;32m   1111\u001b[0m             ):\n\u001b[1;32m   1112\u001b[0m                 \u001b[0mdivisions\u001b[0m \u001b[0;34m=\u001b[0m \u001b[0;34m[\u001b[0m\u001b[0;34m]\u001b[0m\u001b[0;34m\u001b[0m\u001b[0;34m\u001b[0m\u001b[0m\n",
      "\u001b[0;32m~/anaconda3/lib/python3.7/site-packages/dask/delayed.py\u001b[0m in \u001b[0;36m__bool__\u001b[0;34m(self)\u001b[0m\n\u001b[1;32m    571\u001b[0m \u001b[0;34m\u001b[0m\u001b[0m\n\u001b[1;32m    572\u001b[0m     \u001b[0;32mdef\u001b[0m \u001b[0m__bool__\u001b[0m\u001b[0;34m(\u001b[0m\u001b[0mself\u001b[0m\u001b[0;34m)\u001b[0m\u001b[0;34m:\u001b[0m\u001b[0;34m\u001b[0m\u001b[0;34m\u001b[0m\u001b[0m\n\u001b[0;32m--> 573\u001b[0;31m         \u001b[0;32mraise\u001b[0m \u001b[0mTypeError\u001b[0m\u001b[0;34m(\u001b[0m\u001b[0;34m\"Truth of Delayed objects is not supported\"\u001b[0m\u001b[0;34m)\u001b[0m\u001b[0;34m\u001b[0m\u001b[0;34m\u001b[0m\u001b[0m\n\u001b[0m\u001b[1;32m    574\u001b[0m \u001b[0;34m\u001b[0m\u001b[0m\n\u001b[1;32m    575\u001b[0m     \u001b[0m__nonzero__\u001b[0m \u001b[0;34m=\u001b[0m \u001b[0m__bool__\u001b[0m\u001b[0;34m\u001b[0m\u001b[0;34m\u001b[0m\u001b[0m\n",
      "\u001b[0;31mTypeError\u001b[0m: Truth of Delayed objects is not supported"
     ]
    }
   ],
   "source": [
    "for i,dfx in enumerate(dfs):\n",
    "    dfx=join_class(dfx, class_df)\n",
    "    if i==0:\n",
    "        df=dfx\n",
    "    else:\n",
    "        df=dd.concat([df,dfx])"
   ]
  },
  {
   "cell_type": "code",
   "execution_count": null,
   "metadata": {},
   "outputs": [],
   "source": [
    "# patent_id is the citing patent\n",
    "# citation_id (the index) is the cited patent"
   ]
  },
  {
   "cell_type": "code",
   "execution_count": null,
   "metadata": {},
   "outputs": [],
   "source": [
    "# generality=delayed(generality)(df)\n",
    "df=df.repartition(npartitions=200)\n",
    "df=delayed(prepare_df)(df)\n",
    "df=delayed(gen_orig)(df)"
   ]
  },
  {
   "cell_type": "code",
   "execution_count": null,
   "metadata": {},
   "outputs": [],
   "source": [
    "df.visualize()"
   ]
  },
  {
   "cell_type": "code",
   "execution_count": null,
   "metadata": {},
   "outputs": [],
   "source": [
    "%%time\n",
    "df.compute().to_parquet(dst, compression='gzip')"
   ]
  },
  {
   "cell_type": "code",
   "execution_count": null,
   "metadata": {},
   "outputs": [],
   "source": [
    "#its a measure of concentration\n",
    "# as defined in Hall et al, 2001\n",
    "\n",
    "def generality(df):\n",
    "    total_citation=np.square(df.groupby(df.index).count().iloc[:,0])\n",
    "    df=df.groupby(df.index).sum().fillna(0)\n",
    "    df_squared=np.square(df) #element-wise squaring\n",
    "    df_squared=df_squared.sum(axis='columns') #sum all columns, per row\n",
    "    df=dd.concat([df_squared, total_citation], axis=1)\n",
    "    generality=1-(df['df_squared']/df['total_citation'])    "
   ]
  }
 ],
 "metadata": {
  "kernelspec": {
   "display_name": "Python 3",
   "language": "python",
   "name": "python3"
  },
  "language_info": {
   "codemirror_mode": {
    "name": "ipython",
    "version": 3
   },
   "file_extension": ".py",
   "mimetype": "text/x-python",
   "name": "python",
   "nbconvert_exporter": "python",
   "pygments_lexer": "ipython3",
   "version": "3.7.7"
  }
 },
 "nbformat": 4,
 "nbformat_minor": 4
}
