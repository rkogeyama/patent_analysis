{
 "cells": [
  {
   "cell_type": "code",
   "execution_count": 1,
   "metadata": {
    "collapsed": true
   },
   "outputs": [],
   "source": [
    "# Script to calculate generality and  application data\n",
    "# Generality: how diverse is the impact of a patent\n",
    "# This is done by calculating the herfindal index of citing patents"
   ]
  },
  {
   "cell_type": "code",
   "execution_count": 2,
   "metadata": {
    "collapsed": true
   },
   "outputs": [],
   "source": [
    "# Feb 7th, 2020\n",
    "# While the previous version is already up, I want to improve the script\n",
    "# I want to make calculations with only one script\n",
    "# Also, I want to compare different class systems\n",
    "# this version took 10 minutes - i am moving the old version away\n",
    "\n",
    "# Jan 16th, 2020\n",
    "# Due to performance problems in the HPC, this script was divided in two, the script following this is generality_2\n",
    "# generality > 1 is not an error, but a consequence of adopting WIPO\n",
    "# it seems that the original calculation had only one class per patent\n",
    "# WIPO provides multiple classes - so when you divide by the total number of citations, \n",
    "#  you do not have the proportion of classes cited anymore\n",
    "# to correct this issue, I can calculate Generality and Originality based only on the first WIPO class\n",
    "\n",
    "# Jan 13th, 2020\n",
    "# Script is running but there are two major issues\n",
    "# - there should not exist generality > 1 , so there is an error in calculation\n",
    "# - too many NANs (about 400k), but I will tackle this issue in 'too_many_nans.ipynb'\n",
    "\n",
    "# to tackle the first problem, I'll begin by creating a subset of the database\n",
    "# to do that, I'll use USPTO classification system"
   ]
  },
  {
   "cell_type": "code",
   "execution_count": 3,
   "metadata": {
    "collapsed": true
   },
   "outputs": [],
   "source": [
    "# Trying to save memory is leading to a small nightmare \n",
    "# I am postponing the use of dask modules"
   ]
  },
  {
   "cell_type": "code",
   "execution_count": 4,
   "metadata": {
    "collapsed": true
   },
   "outputs": [],
   "source": [
    "import sys\n",
    "sys.path.append('/home/rkogeyam/scripts/')\n",
    "from sampler import sampler\n",
    "\n",
    "import pandas as pd\n",
    "import numpy as np\n",
    "import re\n",
    "\n",
    "import dask.dataframe as dd"
   ]
  },
  {
   "cell_type": "code",
   "execution_count": 5,
   "metadata": {
    "collapsed": true
   },
   "outputs": [],
   "source": [
    "citation= '/home/rkogeyam/PATENT_CITATION/data/cleanuspatentcitation.csv'\n",
    "classification = '/home/rkogeyam/PATENT_CITATION/data/wipo.csv' #avoid multiple classes\n",
    "\n",
    "dst= '/home/rkogeyam/PATENT_CITATION/data/generality.csv'"
   ]
  },
  {
   "cell_type": "code",
   "execution_count": 6,
   "metadata": {
    "collapsed": false
   },
   "outputs": [
    {
     "name": "stdout",
     "output_type": "stream",
     "text": [
      "CPU times: user 2min 17s, sys: 7.32 s, total: 2min 24s\n",
      "Wall time: 2min 29s\n"
     ]
    }
   ],
   "source": [
    "%%time\n",
    "class_df=pd.read_csv(classification)\n",
    "citation_df=pd.read_csv(citation, sep=',', usecols=['patent_id', 'citation_id'])"
   ]
  },
  {
   "cell_type": "code",
   "execution_count": 7,
   "metadata": {
    "collapsed": true
   },
   "outputs": [],
   "source": [
    "#to guarantee same format for the merge\n",
    "class_df['id']=class_df['id'].astype(str)\n",
    "citation_df=citation_df.astype(str)"
   ]
  },
  {
   "cell_type": "code",
   "execution_count": 8,
   "metadata": {
    "collapsed": true
   },
   "outputs": [],
   "source": [
    "#join on index is faster\n",
    "class_df.set_index('id', inplace=True)\n",
    "citation_df.set_index('patent_id', inplace=True)"
   ]
  },
  {
   "cell_type": "code",
   "execution_count": 9,
   "metadata": {
    "collapsed": false
   },
   "outputs": [
    {
     "data": {
      "text/plain": [
       "(91453297, 1)"
      ]
     },
     "execution_count": 9,
     "metadata": {},
     "output_type": "execute_result"
    }
   ],
   "source": [
    "citation_df.shape"
   ]
  },
  {
   "cell_type": "code",
   "execution_count": 10,
   "metadata": {
    "collapsed": false
   },
   "outputs": [
    {
     "name": "stdout",
     "output_type": "stream",
     "text": [
      "CPU times: user 2min 32s, sys: 3.43 s, total: 2min 35s\n",
      "Wall time: 2min 35s\n"
     ]
    }
   ],
   "source": [
    "%%time\n",
    "#citation level dataset\n",
    "#join is faster than merge\n",
    "df=citation_df.join(class_df, how='inner')  \n",
    "\n",
    "#the left dataframe is citation df, which is indexed by patent_id\n",
    "#when later on I group by citation_id is very possible that NaNs appear"
   ]
  },
  {
   "cell_type": "code",
   "execution_count": 11,
   "metadata": {
    "collapsed": true
   },
   "outputs": [],
   "source": [
    "# df.to_csv(dst)"
   ]
  },
  {
   "cell_type": "code",
   "execution_count": 12,
   "metadata": {
    "collapsed": true
   },
   "outputs": [],
   "source": [
    "df = pd.get_dummies(df, columns=['wipo_sector_id'])"
   ]
  },
  {
   "cell_type": "code",
   "execution_count": 13,
   "metadata": {
    "collapsed": false
   },
   "outputs": [
    {
     "data": {
      "text/html": [
       "<div>\n",
       "<table border=\"1\" class=\"dataframe\">\n",
       "  <thead>\n",
       "    <tr style=\"text-align: right;\">\n",
       "      <th></th>\n",
       "      <th>citation_id</th>\n",
       "      <th>wipo_sector_id_0</th>\n",
       "      <th>wipo_sector_id_1</th>\n",
       "      <th>wipo_sector_id_2</th>\n",
       "      <th>wipo_sector_id_3</th>\n",
       "      <th>wipo_sector_id_4</th>\n",
       "    </tr>\n",
       "  </thead>\n",
       "  <tbody>\n",
       "    <tr>\n",
       "      <th>3930271</th>\n",
       "      <td>2379430</td>\n",
       "      <td>0.0</td>\n",
       "      <td>0.0</td>\n",
       "      <td>0.0</td>\n",
       "      <td>0.0</td>\n",
       "      <td>1.0</td>\n",
       "    </tr>\n",
       "    <tr>\n",
       "      <th>3930271</th>\n",
       "      <td>2782422</td>\n",
       "      <td>0.0</td>\n",
       "      <td>0.0</td>\n",
       "      <td>0.0</td>\n",
       "      <td>0.0</td>\n",
       "      <td>1.0</td>\n",
       "    </tr>\n",
       "    <tr>\n",
       "      <th>3930272</th>\n",
       "      <td>2560109</td>\n",
       "      <td>0.0</td>\n",
       "      <td>0.0</td>\n",
       "      <td>0.0</td>\n",
       "      <td>0.0</td>\n",
       "      <td>1.0</td>\n",
       "    </tr>\n",
       "    <tr>\n",
       "      <th>3930272</th>\n",
       "      <td>2545289</td>\n",
       "      <td>0.0</td>\n",
       "      <td>0.0</td>\n",
       "      <td>0.0</td>\n",
       "      <td>0.0</td>\n",
       "      <td>1.0</td>\n",
       "    </tr>\n",
       "    <tr>\n",
       "      <th>3930272</th>\n",
       "      <td>1549144</td>\n",
       "      <td>0.0</td>\n",
       "      <td>0.0</td>\n",
       "      <td>0.0</td>\n",
       "      <td>0.0</td>\n",
       "      <td>1.0</td>\n",
       "    </tr>\n",
       "  </tbody>\n",
       "</table>\n",
       "</div>"
      ],
      "text/plain": [
       "        citation_id  wipo_sector_id_0  wipo_sector_id_1  wipo_sector_id_2  \\\n",
       "3930271     2379430               0.0               0.0               0.0   \n",
       "3930271     2782422               0.0               0.0               0.0   \n",
       "3930272     2560109               0.0               0.0               0.0   \n",
       "3930272     2545289               0.0               0.0               0.0   \n",
       "3930272     1549144               0.0               0.0               0.0   \n",
       "\n",
       "         wipo_sector_id_3  wipo_sector_id_4  \n",
       "3930271               0.0               1.0  \n",
       "3930271               0.0               1.0  \n",
       "3930272               0.0               1.0  \n",
       "3930272               0.0               1.0  \n",
       "3930272               0.0               1.0  "
      ]
     },
     "execution_count": 13,
     "metadata": {},
     "output_type": "execute_result"
    }
   ],
   "source": [
    "df.head()"
   ]
  },
  {
   "cell_type": "code",
   "execution_count": 14,
   "metadata": {
    "collapsed": false
   },
   "outputs": [
    {
     "name": "stdout",
     "output_type": "stream",
     "text": [
      "CPU times: user 0 ns, sys: 0 ns, total: 0 ns\n",
      "Wall time: 5.72 µs\n"
     ]
    },
    {
     "data": {
      "text/plain": [
       "citation_id\n",
       "0          1\n",
       "0000000    1\n",
       "000004     1\n",
       "000006     1\n",
       "0000482    1\n",
       "Name: wipo_sector_id_0, dtype: int64"
      ]
     },
     "execution_count": 14,
     "metadata": {},
     "output_type": "execute_result"
    }
   ],
   "source": [
    "%time\n",
    "total_citation=df.groupby('citation_id').count().iloc[:,0]\n",
    "total_citation=np.square(total_citation)\n",
    "total_citation.head()"
   ]
  },
  {
   "cell_type": "code",
   "execution_count": 15,
   "metadata": {
    "collapsed": false
   },
   "outputs": [
    {
     "name": "stdout",
     "output_type": "stream",
     "text": [
      "CPU times: user 0 ns, sys: 0 ns, total: 0 ns\n",
      "Wall time: 5.96 µs\n"
     ]
    },
    {
     "data": {
      "text/html": [
       "<div>\n",
       "<table border=\"1\" class=\"dataframe\">\n",
       "  <thead>\n",
       "    <tr style=\"text-align: right;\">\n",
       "      <th></th>\n",
       "      <th>wipo_sector_id_0</th>\n",
       "      <th>wipo_sector_id_1</th>\n",
       "      <th>wipo_sector_id_2</th>\n",
       "      <th>wipo_sector_id_3</th>\n",
       "      <th>wipo_sector_id_4</th>\n",
       "    </tr>\n",
       "    <tr>\n",
       "      <th>citation_id</th>\n",
       "      <th></th>\n",
       "      <th></th>\n",
       "      <th></th>\n",
       "      <th></th>\n",
       "      <th></th>\n",
       "    </tr>\n",
       "  </thead>\n",
       "  <tbody>\n",
       "    <tr>\n",
       "      <th>0</th>\n",
       "      <td>0.0</td>\n",
       "      <td>0.0</td>\n",
       "      <td>0.0</td>\n",
       "      <td>1.0</td>\n",
       "      <td>0.0</td>\n",
       "    </tr>\n",
       "    <tr>\n",
       "      <th>0000000</th>\n",
       "      <td>0.0</td>\n",
       "      <td>0.0</td>\n",
       "      <td>0.0</td>\n",
       "      <td>1.0</td>\n",
       "      <td>0.0</td>\n",
       "    </tr>\n",
       "    <tr>\n",
       "      <th>000004</th>\n",
       "      <td>0.0</td>\n",
       "      <td>0.0</td>\n",
       "      <td>0.0</td>\n",
       "      <td>1.0</td>\n",
       "      <td>0.0</td>\n",
       "    </tr>\n",
       "    <tr>\n",
       "      <th>000006</th>\n",
       "      <td>0.0</td>\n",
       "      <td>1.0</td>\n",
       "      <td>0.0</td>\n",
       "      <td>0.0</td>\n",
       "      <td>0.0</td>\n",
       "    </tr>\n",
       "    <tr>\n",
       "      <th>0000482</th>\n",
       "      <td>0.0</td>\n",
       "      <td>1.0</td>\n",
       "      <td>0.0</td>\n",
       "      <td>0.0</td>\n",
       "      <td>0.0</td>\n",
       "    </tr>\n",
       "  </tbody>\n",
       "</table>\n",
       "</div>"
      ],
      "text/plain": [
       "             wipo_sector_id_0  wipo_sector_id_1  wipo_sector_id_2  \\\n",
       "citation_id                                                         \n",
       "0                         0.0               0.0               0.0   \n",
       "0000000                   0.0               0.0               0.0   \n",
       "000004                    0.0               0.0               0.0   \n",
       "000006                    0.0               1.0               0.0   \n",
       "0000482                   0.0               1.0               0.0   \n",
       "\n",
       "             wipo_sector_id_3  wipo_sector_id_4  \n",
       "citation_id                                      \n",
       "0                         1.0               0.0  \n",
       "0000000                   1.0               0.0  \n",
       "000004                    1.0               0.0  \n",
       "000006                    0.0               0.0  \n",
       "0000482                   0.0               0.0  "
      ]
     },
     "execution_count": 15,
     "metadata": {},
     "output_type": "execute_result"
    }
   ],
   "source": [
    "%time\n",
    "# df.drop('citation_id', inplace=True, axis=1)\n",
    "df=df.groupby('citation_id').sum().fillna(0)\n",
    "df.head()"
   ]
  },
  {
   "cell_type": "code",
   "execution_count": 16,
   "metadata": {
    "collapsed": false
   },
   "outputs": [
    {
     "name": "stdout",
     "output_type": "stream",
     "text": [
      "CPU times: user 0 ns, sys: 0 ns, total: 0 ns\n",
      "Wall time: 5.72 µs\n"
     ]
    },
    {
     "data": {
      "text/plain": [
       "citation_id\n",
       "0          1.0\n",
       "0000000    1.0\n",
       "000004     1.0\n",
       "000006     1.0\n",
       "0000482    1.0\n",
       "dtype: float64"
      ]
     },
     "execution_count": 16,
     "metadata": {},
     "output_type": "execute_result"
    }
   ],
   "source": [
    "%time\n",
    "df_squared=np.square(df) #element-wise squaring\n",
    "df_squared=df_squared.sum(axis='columns') #sum all columns, per row\n",
    "df_squared.head()"
   ]
  },
  {
   "cell_type": "code",
   "execution_count": 17,
   "metadata": {
    "collapsed": false
   },
   "outputs": [
    {
     "name": "stdout",
     "output_type": "stream",
     "text": [
      "CPU times: user 0 ns, sys: 0 ns, total: 0 ns\n",
      "Wall time: 5.96 µs\n"
     ]
    },
    {
     "data": {
      "text/html": [
       "<div>\n",
       "<table border=\"1\" class=\"dataframe\">\n",
       "  <thead>\n",
       "    <tr style=\"text-align: right;\">\n",
       "      <th></th>\n",
       "      <th>df_squared</th>\n",
       "      <th>total_citation</th>\n",
       "    </tr>\n",
       "    <tr>\n",
       "      <th>citation_id</th>\n",
       "      <th></th>\n",
       "      <th></th>\n",
       "    </tr>\n",
       "  </thead>\n",
       "  <tbody>\n",
       "    <tr>\n",
       "      <th>0</th>\n",
       "      <td>1.0</td>\n",
       "      <td>1</td>\n",
       "    </tr>\n",
       "    <tr>\n",
       "      <th>0000000</th>\n",
       "      <td>1.0</td>\n",
       "      <td>1</td>\n",
       "    </tr>\n",
       "    <tr>\n",
       "      <th>000004</th>\n",
       "      <td>1.0</td>\n",
       "      <td>1</td>\n",
       "    </tr>\n",
       "    <tr>\n",
       "      <th>000006</th>\n",
       "      <td>1.0</td>\n",
       "      <td>1</td>\n",
       "    </tr>\n",
       "    <tr>\n",
       "      <th>0000482</th>\n",
       "      <td>1.0</td>\n",
       "      <td>1</td>\n",
       "    </tr>\n",
       "  </tbody>\n",
       "</table>\n",
       "</div>"
      ],
      "text/plain": [
       "             df_squared  total_citation\n",
       "citation_id                            \n",
       "0                   1.0               1\n",
       "0000000             1.0               1\n",
       "000004              1.0               1\n",
       "000006              1.0               1\n",
       "0000482             1.0               1"
      ]
     },
     "execution_count": 17,
     "metadata": {},
     "output_type": "execute_result"
    }
   ],
   "source": [
    "%time\n",
    "df2=pd.concat([df_squared, total_citation], axis=1)\n",
    "df2.columns=['df_squared', 'total_citation']\n",
    "df2.head()"
   ]
  },
  {
   "cell_type": "code",
   "execution_count": 18,
   "metadata": {
    "collapsed": false
   },
   "outputs": [
    {
     "name": "stdout",
     "output_type": "stream",
     "text": [
      "CPU times: user 0 ns, sys: 0 ns, total: 0 ns\n",
      "Wall time: 5.96 µs\n"
     ]
    }
   ],
   "source": [
    "%time\n",
    "df2['herfindal']=df2['df_squared']/df2['total_citation'] #its a measure of concentration"
   ]
  },
  {
   "cell_type": "code",
   "execution_count": 19,
   "metadata": {
    "collapsed": false
   },
   "outputs": [
    {
     "name": "stdout",
     "output_type": "stream",
     "text": [
      "CPU times: user 0 ns, sys: 0 ns, total: 0 ns\n",
      "Wall time: 5.96 µs\n"
     ]
    },
    {
     "data": {
      "text/plain": [
       "<matplotlib.axes._subplots.AxesSubplot at 0x7f1ec88e1438>"
      ]
     },
     "execution_count": 19,
     "metadata": {},
     "output_type": "execute_result"
    }
   ],
   "source": [
    "%time\n",
    "df2['generality']=1-df2['herfindal'] # as defined in Hall et al, 2001\n",
    "df2['generality'].hist()"
   ]
  },
  {
   "cell_type": "code",
   "execution_count": 20,
   "metadata": {
    "collapsed": false
   },
   "outputs": [
    {
     "name": "stdout",
     "output_type": "stream",
     "text": [
      "<class 'pandas.core.frame.DataFrame'>\n",
      "Index: 6555152 entries, 0 to re25727\n",
      "Data columns (total 4 columns):\n",
      "df_squared        float64\n",
      "total_citation    int64\n",
      "herfindal         float64\n",
      "generality        float64\n",
      "dtypes: float64(3), int64(1)\n",
      "memory usage: 250.1+ MB\n"
     ]
    }
   ],
   "source": [
    "df2.info()"
   ]
  },
  {
   "cell_type": "code",
   "execution_count": 21,
   "metadata": {
    "collapsed": false
   },
   "outputs": [
    {
     "data": {
      "text/html": [
       "<div>\n",
       "<table border=\"1\" class=\"dataframe\">\n",
       "  <thead>\n",
       "    <tr style=\"text-align: right;\">\n",
       "      <th></th>\n",
       "      <th>df_squared</th>\n",
       "      <th>total_citation</th>\n",
       "      <th>herfindal</th>\n",
       "      <th>generality</th>\n",
       "    </tr>\n",
       "    <tr>\n",
       "      <th>citation_id</th>\n",
       "      <th></th>\n",
       "      <th></th>\n",
       "      <th></th>\n",
       "      <th></th>\n",
       "    </tr>\n",
       "  </thead>\n",
       "  <tbody>\n",
       "    <tr>\n",
       "      <th>0</th>\n",
       "      <td>1.0</td>\n",
       "      <td>1</td>\n",
       "      <td>1.0</td>\n",
       "      <td>0.0</td>\n",
       "    </tr>\n",
       "    <tr>\n",
       "      <th>0000000</th>\n",
       "      <td>1.0</td>\n",
       "      <td>1</td>\n",
       "      <td>1.0</td>\n",
       "      <td>0.0</td>\n",
       "    </tr>\n",
       "    <tr>\n",
       "      <th>000004</th>\n",
       "      <td>1.0</td>\n",
       "      <td>1</td>\n",
       "      <td>1.0</td>\n",
       "      <td>0.0</td>\n",
       "    </tr>\n",
       "    <tr>\n",
       "      <th>000006</th>\n",
       "      <td>1.0</td>\n",
       "      <td>1</td>\n",
       "      <td>1.0</td>\n",
       "      <td>0.0</td>\n",
       "    </tr>\n",
       "    <tr>\n",
       "      <th>0000482</th>\n",
       "      <td>1.0</td>\n",
       "      <td>1</td>\n",
       "      <td>1.0</td>\n",
       "      <td>0.0</td>\n",
       "    </tr>\n",
       "  </tbody>\n",
       "</table>\n",
       "</div>"
      ],
      "text/plain": [
       "             df_squared  total_citation  herfindal  generality\n",
       "citation_id                                                   \n",
       "0                   1.0               1        1.0         0.0\n",
       "0000000             1.0               1        1.0         0.0\n",
       "000004              1.0               1        1.0         0.0\n",
       "000006              1.0               1        1.0         0.0\n",
       "0000482             1.0               1        1.0         0.0"
      ]
     },
     "execution_count": 21,
     "metadata": {},
     "output_type": "execute_result"
    }
   ],
   "source": [
    "df2.head()"
   ]
  },
  {
   "cell_type": "code",
   "execution_count": 22,
   "metadata": {
    "collapsed": false
   },
   "outputs": [
    {
     "data": {
      "text/html": [
       "<div>\n",
       "<table border=\"1\" class=\"dataframe\">\n",
       "  <thead>\n",
       "    <tr style=\"text-align: right;\">\n",
       "      <th></th>\n",
       "      <th>df_squared</th>\n",
       "      <th>total_citation</th>\n",
       "      <th>herfindal</th>\n",
       "      <th>generality</th>\n",
       "    </tr>\n",
       "  </thead>\n",
       "  <tbody>\n",
       "    <tr>\n",
       "      <th>count</th>\n",
       "      <td>6.555152e+06</td>\n",
       "      <td>6.555152e+06</td>\n",
       "      <td>6.555152e+06</td>\n",
       "      <td>6.555152e+06</td>\n",
       "    </tr>\n",
       "    <tr>\n",
       "      <th>mean</th>\n",
       "      <td>9.218369e+02</td>\n",
       "      <td>1.105135e+03</td>\n",
       "      <td>8.528391e-01</td>\n",
       "      <td>1.471609e-01</td>\n",
       "    </tr>\n",
       "    <tr>\n",
       "      <th>std</th>\n",
       "      <td>1.888234e+04</td>\n",
       "      <td>2.118908e+04</td>\n",
       "      <td>2.107200e-01</td>\n",
       "      <td>2.107200e-01</td>\n",
       "    </tr>\n",
       "    <tr>\n",
       "      <th>min</th>\n",
       "      <td>1.000000e+00</td>\n",
       "      <td>1.000000e+00</td>\n",
       "      <td>2.000000e-01</td>\n",
       "      <td>0.000000e+00</td>\n",
       "    </tr>\n",
       "    <tr>\n",
       "      <th>25%</th>\n",
       "      <td>4.000000e+00</td>\n",
       "      <td>4.000000e+00</td>\n",
       "      <td>6.800000e-01</td>\n",
       "      <td>0.000000e+00</td>\n",
       "    </tr>\n",
       "    <tr>\n",
       "      <th>50%</th>\n",
       "      <td>1.600000e+01</td>\n",
       "      <td>2.500000e+01</td>\n",
       "      <td>1.000000e+00</td>\n",
       "      <td>0.000000e+00</td>\n",
       "    </tr>\n",
       "    <tr>\n",
       "      <th>75%</th>\n",
       "      <td>1.060000e+02</td>\n",
       "      <td>1.440000e+02</td>\n",
       "      <td>1.000000e+00</td>\n",
       "      <td>3.200000e-01</td>\n",
       "    </tr>\n",
       "    <tr>\n",
       "      <th>max</th>\n",
       "      <td>1.234759e+07</td>\n",
       "      <td>1.518661e+07</td>\n",
       "      <td>1.000000e+00</td>\n",
       "      <td>8.000000e-01</td>\n",
       "    </tr>\n",
       "  </tbody>\n",
       "</table>\n",
       "</div>"
      ],
      "text/plain": [
       "         df_squared  total_citation     herfindal    generality\n",
       "count  6.555152e+06    6.555152e+06  6.555152e+06  6.555152e+06\n",
       "mean   9.218369e+02    1.105135e+03  8.528391e-01  1.471609e-01\n",
       "std    1.888234e+04    2.118908e+04  2.107200e-01  2.107200e-01\n",
       "min    1.000000e+00    1.000000e+00  2.000000e-01  0.000000e+00\n",
       "25%    4.000000e+00    4.000000e+00  6.800000e-01  0.000000e+00\n",
       "50%    1.600000e+01    2.500000e+01  1.000000e+00  0.000000e+00\n",
       "75%    1.060000e+02    1.440000e+02  1.000000e+00  3.200000e-01\n",
       "max    1.234759e+07    1.518661e+07  1.000000e+00  8.000000e-01"
      ]
     },
     "execution_count": 22,
     "metadata": {},
     "output_type": "execute_result"
    }
   ],
   "source": [
    "df2.describe()"
   ]
  },
  {
   "cell_type": "code",
   "execution_count": 23,
   "metadata": {
    "collapsed": true
   },
   "outputs": [],
   "source": [
    "df2.to_csv(dst)"
   ]
  },
  {
   "cell_type": "code",
   "execution_count": 24,
   "metadata": {
    "collapsed": false
   },
   "outputs": [],
   "source": [
    "# %time\n",
    "# df2=df_squared.to_frame().join(total_citation.to_frame())\n",
    "# df2.head()"
   ]
  }
 ],
 "metadata": {
  "anaconda-cloud": {},
  "kernelspec": {
   "display_name": "Python [default]",
   "language": "python",
   "name": "python3"
  },
  "language_info": {
   "codemirror_mode": {
    "name": "ipython",
    "version": 3
   },
   "file_extension": ".py",
   "mimetype": "text/x-python",
   "name": "python",
   "nbconvert_exporter": "python",
   "pygments_lexer": "ipython3",
   "version": "3.5.2"
  }
 },
 "nbformat": 4,
 "nbformat_minor": 1
}
