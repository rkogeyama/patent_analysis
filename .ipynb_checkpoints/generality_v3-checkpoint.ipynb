{
 "cells": [
  {
   "cell_type": "code",
   "execution_count": 1,
   "metadata": {
    "collapsed": true
   },
   "outputs": [],
   "source": [
    "# Script to calculate generality and  application data\n",
    "# Generality: how diverse is the impact of a patent\n",
    "# This is done by calculating the herfindal index of citing patents"
   ]
  },
  {
   "cell_type": "code",
   "execution_count": 2,
   "metadata": {
    "collapsed": true
   },
   "outputs": [],
   "source": [
    "# Feb 9th, 2020\n",
    "# It's working and I'm keeping as v3\n",
    "# Now I begin in v4 \n",
    "# This can be used both for generality and originality\n",
    "# also, I can use for multiple classes\n",
    "\n",
    "# Feb 7th, 2020\n",
    "# transforming this in a function\n",
    "\n",
    "# Feb 7th, 2020\n",
    "# While the previous version is already up, I want to improve the script\n",
    "# I want to make calculations with only one script\n",
    "# Also, I want to compare different class systems\n",
    "# this version took 10 minutes - i am moving the old version away\n",
    "\n",
    "# Jan 16th, 2020\n",
    "# Due to performance problems in the HPC, this script was divided in two, the script following this is generality_2\n",
    "# generality > 1 is not an error, but a consequence of adopting WIPO\n",
    "# it seems that the original calculation had only one class per patent\n",
    "# WIPO provides multiple classes - so when you divide by the total number of citations, \n",
    "#  you do not have the proportion of classes cited anymore\n",
    "# to correct this issue, I can calculate Generality and Originality based only on the first WIPO class\n",
    "\n",
    "# Jan 13th, 2020\n",
    "# Script is running but there are two major issues\n",
    "# - there should not exist generality > 1 , so there is an error in calculation\n",
    "# - too many NANs (about 400k), but I will tackle this issue in 'too_many_nans.ipynb'\n",
    "\n",
    "# to tackle the first problem, I'll begin by creating a subset of the database\n",
    "# to do that, I'll use USPTO classification system"
   ]
  },
  {
   "cell_type": "code",
   "execution_count": 3,
   "metadata": {
    "collapsed": true
   },
   "outputs": [],
   "source": [
    "# Trying to save memory is leading to a small nightmare \n",
    "# I am postponing the use of dask modules"
   ]
  },
  {
   "cell_type": "code",
   "execution_count": 4,
   "metadata": {
    "collapsed": true
   },
   "outputs": [],
   "source": [
    "import pandas as pd\n",
    "import numpy as np\n",
    "import re"
   ]
  },
  {
   "cell_type": "code",
   "execution_count": 5,
   "metadata": {
    "collapsed": true
   },
   "outputs": [],
   "source": [
    "def preprocessing(class_df, citation_df):\n",
    "    #there is a bug in pandas.read_csv\n",
    "    #it fails to classify as object when told so in the options\n",
    "    #so in this script, I guarantee the indexes are objects\n",
    "    #then I match class to citation\n",
    "    #inner matching in a citation-level returns citation level\n",
    "    #i haven't tested but it could also be used to match class to patent\n",
    "\n",
    "    #to guarantee same format for the merge\n",
    "    class_df['id']=class_df['id'].astype(str)\n",
    "    citation_df=citation_df.astype(str)\n",
    "\n",
    "    #join on index is faster\n",
    "    class_df.set_index('id', inplace=True)\n",
    "    citation_df.set_index('patent_id', inplace=True)\n",
    "\n",
    "    #citation level dataset\n",
    "    #join is faster than merge\n",
    "    df=citation_df.join(class_df, how='inner')  \n",
    "\n",
    "    return df #citations with classifications"
   ]
  },
  {
   "cell_type": "code",
   "execution_count": 6,
   "metadata": {
    "collapsed": true
   },
   "outputs": [],
   "source": [
    "def generality(df):\n",
    "    #the left dataframe is citation df, which is indexed by patent_id\n",
    "    #when later on I group by citation_id is very possible that NaNs appear\n",
    "    \n",
    "    #considering the second level of class systems\n",
    "    subclass=df.columns[2] #checar\n",
    "\n",
    "    total_citation=df.groupby('citation_id').count().iloc[:,0]\n",
    "    \n",
    "    #citation-subclassclass level of observation\n",
    "    df=df.groupby(['citation_id', subclass]).count()\n",
    "\n",
    "    df_squared=np.square(df) #element-wise squaring\n",
    "#     return total_citation, df_squared\n",
    "#     df_squared=df_squared.sum(axis='columns') #sum all columns, per row\n",
    "    df_squared=df_squared.reset_index().groupby('citation_id').sum()\n",
    "#     df_squared.head()\n",
    "\n",
    "    df2=pd.concat([df_squared, total_citation], axis=1)\n",
    "    df2.columns=['df_squared', 'total_citation']\n",
    "\n",
    "    df2['herfindal']=df2['df_squared']/df2['total_citation'] #its a measure of concentration\n",
    "\n",
    "    df2['generality']=1-df2['herfindal'] # as defined in Hall et al, 2001\n",
    "\n",
    "    return df2"
   ]
  },
  {
   "cell_type": "code",
   "execution_count": 7,
   "metadata": {
    "collapsed": true
   },
   "outputs": [],
   "source": [
    "citation= 'data/cleanuspatentcitation.csv'\n",
    "classification = 'data/wipo.csv'\n",
    "dst= 'data/generality_v3.csv'\n",
    "\n",
    "class_df=pd.read_csv(classification, dtype=object)\n",
    "citation_df=pd.read_csv(citation, sep=',', usecols=['patent_id', 'citation_id'])"
   ]
  },
  {
   "cell_type": "code",
   "execution_count": 8,
   "metadata": {
    "collapsed": false
   },
   "outputs": [
    {
     "data": {
      "text/html": [
       "<div>\n",
       "<table border=\"1\" class=\"dataframe\">\n",
       "  <thead>\n",
       "    <tr style=\"text-align: right;\">\n",
       "      <th></th>\n",
       "      <th>citation_id</th>\n",
       "      <th>wipo_sector_id</th>\n",
       "      <th>wipo_field_id</th>\n",
       "    </tr>\n",
       "  </thead>\n",
       "  <tbody>\n",
       "    <tr>\n",
       "      <th>3930271</th>\n",
       "      <td>2379430</td>\n",
       "      <td>4</td>\n",
       "      <td>33</td>\n",
       "    </tr>\n",
       "    <tr>\n",
       "      <th>3930271</th>\n",
       "      <td>2782422</td>\n",
       "      <td>4</td>\n",
       "      <td>33</td>\n",
       "    </tr>\n",
       "    <tr>\n",
       "      <th>3930272</th>\n",
       "      <td>2560109</td>\n",
       "      <td>4</td>\n",
       "      <td>33</td>\n",
       "    </tr>\n",
       "    <tr>\n",
       "      <th>3930272</th>\n",
       "      <td>2545289</td>\n",
       "      <td>4</td>\n",
       "      <td>33</td>\n",
       "    </tr>\n",
       "    <tr>\n",
       "      <th>3930272</th>\n",
       "      <td>1549144</td>\n",
       "      <td>4</td>\n",
       "      <td>33</td>\n",
       "    </tr>\n",
       "  </tbody>\n",
       "</table>\n",
       "</div>"
      ],
      "text/plain": [
       "        citation_id wipo_sector_id wipo_field_id\n",
       "3930271     2379430              4            33\n",
       "3930271     2782422              4            33\n",
       "3930272     2560109              4            33\n",
       "3930272     2545289              4            33\n",
       "3930272     1549144              4            33"
      ]
     },
     "execution_count": 8,
     "metadata": {},
     "output_type": "execute_result"
    }
   ],
   "source": [
    "df=preprocessing(class_df, citation_df)\n",
    "df.head()"
   ]
  },
  {
   "cell_type": "code",
   "execution_count": 9,
   "metadata": {
    "collapsed": false
   },
   "outputs": [
    {
     "data": {
      "text/html": [
       "<div>\n",
       "<table border=\"1\" class=\"dataframe\">\n",
       "  <thead>\n",
       "    <tr style=\"text-align: right;\">\n",
       "      <th></th>\n",
       "      <th>df_squared</th>\n",
       "      <th>total_citation</th>\n",
       "      <th>herfindal</th>\n",
       "      <th>generality</th>\n",
       "    </tr>\n",
       "    <tr>\n",
       "      <th>citation_id</th>\n",
       "      <th></th>\n",
       "      <th></th>\n",
       "      <th></th>\n",
       "      <th></th>\n",
       "    </tr>\n",
       "  </thead>\n",
       "  <tbody>\n",
       "    <tr>\n",
       "      <th>'799989</th>\n",
       "      <td>1</td>\n",
       "      <td>1</td>\n",
       "      <td>1.0</td>\n",
       "      <td>0.0</td>\n",
       "    </tr>\n",
       "    <tr>\n",
       "      <th>'935893</th>\n",
       "      <td>1</td>\n",
       "      <td>1</td>\n",
       "      <td>1.0</td>\n",
       "      <td>0.0</td>\n",
       "    </tr>\n",
       "    <tr>\n",
       "      <th>+0</th>\n",
       "      <td>1</td>\n",
       "      <td>1</td>\n",
       "      <td>1.0</td>\n",
       "      <td>0.0</td>\n",
       "    </tr>\n",
       "    <tr>\n",
       "      <th>+1850714</th>\n",
       "      <td>1</td>\n",
       "      <td>1</td>\n",
       "      <td>1.0</td>\n",
       "      <td>0.0</td>\n",
       "    </tr>\n",
       "    <tr>\n",
       "      <th>+3890950</th>\n",
       "      <td>1</td>\n",
       "      <td>1</td>\n",
       "      <td>1.0</td>\n",
       "      <td>0.0</td>\n",
       "    </tr>\n",
       "  </tbody>\n",
       "</table>\n",
       "</div>"
      ],
      "text/plain": [
       "             df_squared  total_citation  herfindal  generality\n",
       "citation_id                                                   \n",
       "'799989               1               1        1.0         0.0\n",
       "'935893               1               1        1.0         0.0\n",
       "+0                    1               1        1.0         0.0\n",
       "+1850714              1               1        1.0         0.0\n",
       "+3890950              1               1        1.0         0.0"
      ]
     },
     "execution_count": 9,
     "metadata": {},
     "output_type": "execute_result"
    }
   ],
   "source": [
    "df=generality(df)\n",
    "df.head()"
   ]
  },
  {
   "cell_type": "code",
   "execution_count": null,
   "metadata": {
    "collapsed": true
   },
   "outputs": [],
   "source": [
    "df.to_csv(dst)"
   ]
  }
 ],
 "metadata": {
  "anaconda-cloud": {},
  "kernelspec": {
   "display_name": "Python [default]",
   "language": "python",
   "name": "python3"
  },
  "language_info": {
   "codemirror_mode": {
    "name": "ipython",
    "version": 3
   },
   "file_extension": ".py",
   "mimetype": "text/x-python",
   "name": "python",
   "nbconvert_exporter": "python",
   "pygments_lexer": "ipython3",
   "version": "3.5.2"
  }
 },
 "nbformat": 4,
 "nbformat_minor": 1
}
