{
 "cells": [
  {
   "cell_type": "code",
   "execution_count": null,
   "metadata": {
    "collapsed": true
   },
   "outputs": [],
   "source": [
    "#Simple script to calculate a random sample of the files used\n",
    "# Renato Kogeyama\n",
    "\n",
    "#Miami, Oct 14, 2019\n",
    "#This sample is to decrease testing time of the scripts\n",
    "#This sample allows to run locally\n"
   ]
  },
  {
   "cell_type": "code",
   "execution_count": null,
   "metadata": {
    "collapsed": true
   },
   "outputs": [],
   "source": [
    "fname = r'/home/rkogeyam/PATENT_CITATION/uspatentcitation.tsv'\n",
    "dst = '/home/rkogeyam/PATENT_CITATION/cit_sample.csv'\n",
    "\n",
    "n = sum(1 for line in open(fname)) - 1 #number of records in file (excludes header)\n",
    "# n=91867780 #the size of patents file\n",
    "\n",
    "s = 10000 #desired sample size\n",
    "skip = sorted(random.sample(range(1,n+1),n-s)) #the 0-indexed header will not be included in the skip list\n",
    "df = pd.read_csv(fname, skiprows=skip, sep='\\t', lineterminator='\\n', na_values='-')"
   ]
  },
  {
   "cell_type": "code",
   "execution_count": null,
   "metadata": {
    "collapsed": true
   },
   "outputs": [],
   "source": [
    "df.to_csv(dst)"
   ]
  }
 ],
 "metadata": {
  "kernelspec": {
   "display_name": "Python [conda env:4.2.0]",
   "language": "python",
   "name": "conda-env-4.2.0-py"
  },
  "language_info": {
   "codemirror_mode": {
    "name": "ipython",
    "version": 3
   },
   "file_extension": ".py",
   "mimetype": "text/x-python",
   "name": "python",
   "nbconvert_exporter": "python",
   "pygments_lexer": "ipython3",
   "version": "3.5.2"
  }
 },
 "nbformat": 4,
 "nbformat_minor": 1
}
