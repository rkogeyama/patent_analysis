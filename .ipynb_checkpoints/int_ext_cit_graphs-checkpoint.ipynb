{
 "cells": [
  {
   "cell_type": "code",
   "execution_count": 1,
   "metadata": {
    "collapsed": true
   },
   "outputs": [],
   "source": [
    "# February 11st, 2020\n",
    "# Script to draw Originality and generality from different Classification systems"
   ]
  },
  {
   "cell_type": "code",
   "execution_count": 2,
   "metadata": {
    "collapsed": true
   },
   "outputs": [],
   "source": [
    "import pandas as pd\n",
    "import numpy as np\n",
    "# import itertools\n",
    "import seaborn as sns\n",
    "# import networkx as nx\n",
    "# import csv\n",
    "# from graphviz import Digraph\n",
    "# import igraph\n",
    "import matplotlib.pyplot as plt\n",
    "# import datetime\n",
    "\n",
    "\n",
    "# import sys\n",
    "# sys.path.append('/home/rkogeyam/scripts/')\n",
    "# sys.path.append('scripts/')\n",
    "\n",
    "# from determinants_scripts import classes, dtypes"
   ]
  },
  {
   "cell_type": "code",
   "execution_count": 3,
   "metadata": {
    "collapsed": false
   },
   "outputs": [
    {
     "name": "stderr",
     "output_type": "stream",
     "text": [
      "/home/applications/anaconda3/4.2.0/lib/python3.5/site-packages/IPython/core/interactiveshell.py:2717: DtypeWarning: Columns (0) have mixed types. Specify dtype option on import or set low_memory=False.\n",
      "  interactivity=interactivity, compiler=compiler, result=result)\n"
     ]
    }
   ],
   "source": [
    "pat='data/cleanpatent.csv'\n",
    "cit='data/cleanuspatentcitation.csv'\n",
    "int_ext='data/int_ext_cit_v2.csv'\n",
    "\n",
    "usecols=['uuid','citation_id']\n",
    "\n",
    "df=pd.read_csv(int_ext, index_col='uuid')\n",
    "\n",
    "df_cit=pd.read_csv(cit, usecols=usecols, index_col='uuid')\n",
    "\n",
    "df_pat=pd.read_csv(pat, usecols=['id', 'date'], parse_dates=['date'], index_col='id')\n"
   ]
  },
  {
   "cell_type": "code",
   "execution_count": 4,
   "metadata": {
    "collapsed": true
   },
   "outputs": [],
   "source": [
    "%matplotlib inline\n",
    "%config InlineBackend.figure_format = 'retina'"
   ]
  },
  {
   "cell_type": "code",
   "execution_count": 5,
   "metadata": {
    "collapsed": true
   },
   "outputs": [],
   "source": [
    "sns.set()"
   ]
  },
  {
   "cell_type": "code",
   "execution_count": 6,
   "metadata": {
    "collapsed": true
   },
   "outputs": [],
   "source": [
    "df=df_cit.join(df)"
   ]
  },
  {
   "cell_type": "code",
   "execution_count": 7,
   "metadata": {
    "collapsed": false
   },
   "outputs": [
    {
     "name": "stdout",
     "output_type": "stream",
     "text": [
      "<class 'pandas.core.frame.DataFrame'>\n",
      "Index: 91453297 entries, 000007b7c0x3n9iy1othb9hz7 to zzzze7hvc3si67w2edoon4bi2\n",
      "Data columns (total 9 columns):\n",
      "citation_id             object\n",
      "wipo_sector_ext         float64\n",
      "wipo_field_ext          float64\n",
      "ipcr_section_ext        float64\n",
      "ipcr_ipc_class_ext      float64\n",
      "cpc_section_ext         float64\n",
      "cpc_subsection_ext      float64\n",
      "nber_category_ext       float64\n",
      "nber_subcategory_ext    float64\n",
      "dtypes: float64(8), object(1)\n",
      "memory usage: 6.8+ GB\n"
     ]
    }
   ],
   "source": [
    "df.info()"
   ]
  },
  {
   "cell_type": "code",
   "execution_count": 8,
   "metadata": {
    "collapsed": false
   },
   "outputs": [
    {
     "data": {
      "text/html": [
       "<div>\n",
       "<table border=\"1\" class=\"dataframe\">\n",
       "  <thead>\n",
       "    <tr style=\"text-align: right;\">\n",
       "      <th></th>\n",
       "      <th>citation_id</th>\n",
       "      <th>wipo_sector_ext</th>\n",
       "      <th>wipo_field_ext</th>\n",
       "      <th>ipcr_section_ext</th>\n",
       "      <th>ipcr_ipc_class_ext</th>\n",
       "      <th>cpc_section_ext</th>\n",
       "      <th>cpc_subsection_ext</th>\n",
       "      <th>nber_category_ext</th>\n",
       "      <th>nber_subcategory_ext</th>\n",
       "    </tr>\n",
       "    <tr>\n",
       "      <th>uuid</th>\n",
       "      <th></th>\n",
       "      <th></th>\n",
       "      <th></th>\n",
       "      <th></th>\n",
       "      <th></th>\n",
       "      <th></th>\n",
       "      <th></th>\n",
       "      <th></th>\n",
       "      <th></th>\n",
       "    </tr>\n",
       "  </thead>\n",
       "  <tbody>\n",
       "    <tr>\n",
       "      <th>000007b7c0x3n9iy1othb9hz7</th>\n",
       "      <td>8127342</td>\n",
       "      <td>0.0</td>\n",
       "      <td>0.0</td>\n",
       "      <td>1.0</td>\n",
       "      <td>1.0</td>\n",
       "      <td>1.0</td>\n",
       "      <td>0.0</td>\n",
       "      <td>1.0</td>\n",
       "      <td>1.0</td>\n",
       "    </tr>\n",
       "    <tr>\n",
       "      <th>000007obbnxmqc6v43t1c00dw</th>\n",
       "      <td>5471515</td>\n",
       "      <td>1.0</td>\n",
       "      <td>0.0</td>\n",
       "      <td>1.0</td>\n",
       "      <td>1.0</td>\n",
       "      <td>1.0</td>\n",
       "      <td>NaN</td>\n",
       "      <td>NaN</td>\n",
       "      <td>1.0</td>\n",
       "    </tr>\n",
       "    <tr>\n",
       "      <th>00000jd7thmiucpaol1hm1835</th>\n",
       "      <td>4875247</td>\n",
       "      <td>1.0</td>\n",
       "      <td>0.0</td>\n",
       "      <td>1.0</td>\n",
       "      <td>0.0</td>\n",
       "      <td>0.0</td>\n",
       "      <td>1.0</td>\n",
       "      <td>1.0</td>\n",
       "      <td>1.0</td>\n",
       "    </tr>\n",
       "    <tr>\n",
       "      <th>00000oohcwply47niwhm5i42l</th>\n",
       "      <td>D718330</td>\n",
       "      <td>NaN</td>\n",
       "      <td>NaN</td>\n",
       "      <td>NaN</td>\n",
       "      <td>NaN</td>\n",
       "      <td>NaN</td>\n",
       "      <td>NaN</td>\n",
       "      <td>NaN</td>\n",
       "      <td>NaN</td>\n",
       "    </tr>\n",
       "    <tr>\n",
       "      <th>00002ghv7v87txbmryocp9i60</th>\n",
       "      <td>D190749</td>\n",
       "      <td>NaN</td>\n",
       "      <td>NaN</td>\n",
       "      <td>NaN</td>\n",
       "      <td>NaN</td>\n",
       "      <td>NaN</td>\n",
       "      <td>NaN</td>\n",
       "      <td>NaN</td>\n",
       "      <td>NaN</td>\n",
       "    </tr>\n",
       "  </tbody>\n",
       "</table>\n",
       "</div>"
      ],
      "text/plain": [
       "                          citation_id  wipo_sector_ext  wipo_field_ext  \\\n",
       "uuid                                                                     \n",
       "000007b7c0x3n9iy1othb9hz7     8127342              0.0             0.0   \n",
       "000007obbnxmqc6v43t1c00dw     5471515              1.0             0.0   \n",
       "00000jd7thmiucpaol1hm1835     4875247              1.0             0.0   \n",
       "00000oohcwply47niwhm5i42l     D718330              NaN             NaN   \n",
       "00002ghv7v87txbmryocp9i60     D190749              NaN             NaN   \n",
       "\n",
       "                           ipcr_section_ext  ipcr_ipc_class_ext  \\\n",
       "uuid                                                              \n",
       "000007b7c0x3n9iy1othb9hz7               1.0                 1.0   \n",
       "000007obbnxmqc6v43t1c00dw               1.0                 1.0   \n",
       "00000jd7thmiucpaol1hm1835               1.0                 0.0   \n",
       "00000oohcwply47niwhm5i42l               NaN                 NaN   \n",
       "00002ghv7v87txbmryocp9i60               NaN                 NaN   \n",
       "\n",
       "                           cpc_section_ext  cpc_subsection_ext  \\\n",
       "uuid                                                             \n",
       "000007b7c0x3n9iy1othb9hz7              1.0                 0.0   \n",
       "000007obbnxmqc6v43t1c00dw              1.0                 NaN   \n",
       "00000jd7thmiucpaol1hm1835              0.0                 1.0   \n",
       "00000oohcwply47niwhm5i42l              NaN                 NaN   \n",
       "00002ghv7v87txbmryocp9i60              NaN                 NaN   \n",
       "\n",
       "                           nber_category_ext  nber_subcategory_ext  \n",
       "uuid                                                                \n",
       "000007b7c0x3n9iy1othb9hz7                1.0                   1.0  \n",
       "000007obbnxmqc6v43t1c00dw                NaN                   1.0  \n",
       "00000jd7thmiucpaol1hm1835                1.0                   1.0  \n",
       "00000oohcwply47niwhm5i42l                NaN                   NaN  \n",
       "00002ghv7v87txbmryocp9i60                NaN                   NaN  "
      ]
     },
     "execution_count": 8,
     "metadata": {},
     "output_type": "execute_result"
    }
   ],
   "source": [
    "df.head()"
   ]
  },
  {
   "cell_type": "code",
   "execution_count": 9,
   "metadata": {
    "collapsed": false
   },
   "outputs": [],
   "source": [
    "# df=df.groupby('citation_id').agg(['count', 'sum'])\n",
    "df=df.groupby('citation_id').mean()"
   ]
  },
  {
   "cell_type": "code",
   "execution_count": 10,
   "metadata": {
    "collapsed": false
   },
   "outputs": [
    {
     "name": "stdout",
     "output_type": "stream",
     "text": [
      "<class 'pandas.core.frame.DataFrame'>\n",
      "Index: 7051646 entries, 0 to re25727\n",
      "Data columns (total 8 columns):\n",
      "wipo_sector_ext         float64\n",
      "wipo_field_ext          float64\n",
      "ipcr_section_ext        float64\n",
      "ipcr_ipc_class_ext      float64\n",
      "cpc_section_ext         float64\n",
      "cpc_subsection_ext      float64\n",
      "nber_category_ext       float64\n",
      "nber_subcategory_ext    float64\n",
      "dtypes: float64(8)\n",
      "memory usage: 484.2+ MB\n"
     ]
    }
   ],
   "source": [
    "df.info()"
   ]
  },
  {
   "cell_type": "code",
   "execution_count": 11,
   "metadata": {
    "collapsed": false
   },
   "outputs": [
    {
     "data": {
      "text/html": [
       "<div>\n",
       "<table border=\"1\" class=\"dataframe\">\n",
       "  <thead>\n",
       "    <tr style=\"text-align: right;\">\n",
       "      <th></th>\n",
       "      <th>wipo_sector_ext</th>\n",
       "      <th>wipo_field_ext</th>\n",
       "      <th>ipcr_section_ext</th>\n",
       "      <th>ipcr_ipc_class_ext</th>\n",
       "      <th>cpc_section_ext</th>\n",
       "      <th>cpc_subsection_ext</th>\n",
       "      <th>nber_category_ext</th>\n",
       "      <th>nber_subcategory_ext</th>\n",
       "    </tr>\n",
       "    <tr>\n",
       "      <th>citation_id</th>\n",
       "      <th></th>\n",
       "      <th></th>\n",
       "      <th></th>\n",
       "      <th></th>\n",
       "      <th></th>\n",
       "      <th></th>\n",
       "      <th></th>\n",
       "      <th></th>\n",
       "    </tr>\n",
       "  </thead>\n",
       "  <tbody>\n",
       "    <tr>\n",
       "      <th>0</th>\n",
       "      <td>NaN</td>\n",
       "      <td>NaN</td>\n",
       "      <td>NaN</td>\n",
       "      <td>NaN</td>\n",
       "      <td>NaN</td>\n",
       "      <td>NaN</td>\n",
       "      <td>NaN</td>\n",
       "      <td>NaN</td>\n",
       "    </tr>\n",
       "    <tr>\n",
       "      <th>0000000</th>\n",
       "      <td>NaN</td>\n",
       "      <td>NaN</td>\n",
       "      <td>NaN</td>\n",
       "      <td>NaN</td>\n",
       "      <td>NaN</td>\n",
       "      <td>NaN</td>\n",
       "      <td>NaN</td>\n",
       "      <td>NaN</td>\n",
       "    </tr>\n",
       "    <tr>\n",
       "      <th>000004</th>\n",
       "      <td>NaN</td>\n",
       "      <td>NaN</td>\n",
       "      <td>NaN</td>\n",
       "      <td>NaN</td>\n",
       "      <td>NaN</td>\n",
       "      <td>NaN</td>\n",
       "      <td>NaN</td>\n",
       "      <td>NaN</td>\n",
       "    </tr>\n",
       "    <tr>\n",
       "      <th>000006</th>\n",
       "      <td>NaN</td>\n",
       "      <td>NaN</td>\n",
       "      <td>NaN</td>\n",
       "      <td>NaN</td>\n",
       "      <td>NaN</td>\n",
       "      <td>NaN</td>\n",
       "      <td>NaN</td>\n",
       "      <td>NaN</td>\n",
       "    </tr>\n",
       "    <tr>\n",
       "      <th>0000482</th>\n",
       "      <td>NaN</td>\n",
       "      <td>NaN</td>\n",
       "      <td>NaN</td>\n",
       "      <td>NaN</td>\n",
       "      <td>NaN</td>\n",
       "      <td>NaN</td>\n",
       "      <td>NaN</td>\n",
       "      <td>NaN</td>\n",
       "    </tr>\n",
       "  </tbody>\n",
       "</table>\n",
       "</div>"
      ],
      "text/plain": [
       "             wipo_sector_ext  wipo_field_ext  ipcr_section_ext  \\\n",
       "citation_id                                                      \n",
       "0                        NaN             NaN               NaN   \n",
       "0000000                  NaN             NaN               NaN   \n",
       "000004                   NaN             NaN               NaN   \n",
       "000006                   NaN             NaN               NaN   \n",
       "0000482                  NaN             NaN               NaN   \n",
       "\n",
       "             ipcr_ipc_class_ext  cpc_section_ext  cpc_subsection_ext  \\\n",
       "citation_id                                                            \n",
       "0                           NaN              NaN                 NaN   \n",
       "0000000                     NaN              NaN                 NaN   \n",
       "000004                      NaN              NaN                 NaN   \n",
       "000006                      NaN              NaN                 NaN   \n",
       "0000482                     NaN              NaN                 NaN   \n",
       "\n",
       "             nber_category_ext  nber_subcategory_ext  \n",
       "citation_id                                           \n",
       "0                          NaN                   NaN  \n",
       "0000000                    NaN                   NaN  \n",
       "000004                     NaN                   NaN  \n",
       "000006                     NaN                   NaN  \n",
       "0000482                    NaN                   NaN  "
      ]
     },
     "execution_count": 11,
     "metadata": {},
     "output_type": "execute_result"
    }
   ],
   "source": [
    "df.head()"
   ]
  },
  {
   "cell_type": "code",
   "execution_count": 12,
   "metadata": {
    "collapsed": false
   },
   "outputs": [],
   "source": [
    "df=df_pat.join(df)"
   ]
  },
  {
   "cell_type": "code",
   "execution_count": 13,
   "metadata": {
    "collapsed": false,
    "scrolled": true
   },
   "outputs": [
    {
     "name": "stdout",
     "output_type": "stream",
     "text": [
      "<class 'pandas.core.frame.DataFrame'>\n",
      "Index: 6488256 entries, 3930271 to RE46653\n",
      "Data columns (total 9 columns):\n",
      "date                    datetime64[ns]\n",
      "wipo_sector_ext         float64\n",
      "wipo_field_ext          float64\n",
      "ipcr_section_ext        float64\n",
      "ipcr_ipc_class_ext      float64\n",
      "cpc_section_ext         float64\n",
      "cpc_subsection_ext      float64\n",
      "nber_category_ext       float64\n",
      "nber_subcategory_ext    float64\n",
      "dtypes: datetime64[ns](1), float64(8)\n",
      "memory usage: 495.0+ MB\n"
     ]
    }
   ],
   "source": [
    "df.info()"
   ]
  },
  {
   "cell_type": "code",
   "execution_count": 14,
   "metadata": {
    "collapsed": false
   },
   "outputs": [
    {
     "data": {
      "text/html": [
       "<div>\n",
       "<table border=\"1\" class=\"dataframe\">\n",
       "  <thead>\n",
       "    <tr style=\"text-align: right;\">\n",
       "      <th></th>\n",
       "      <th>date</th>\n",
       "      <th>wipo_sector_ext</th>\n",
       "      <th>wipo_field_ext</th>\n",
       "      <th>ipcr_section_ext</th>\n",
       "      <th>ipcr_ipc_class_ext</th>\n",
       "      <th>cpc_section_ext</th>\n",
       "      <th>cpc_subsection_ext</th>\n",
       "      <th>nber_category_ext</th>\n",
       "      <th>nber_subcategory_ext</th>\n",
       "    </tr>\n",
       "    <tr>\n",
       "      <th>id</th>\n",
       "      <th></th>\n",
       "      <th></th>\n",
       "      <th></th>\n",
       "      <th></th>\n",
       "      <th></th>\n",
       "      <th></th>\n",
       "      <th></th>\n",
       "      <th></th>\n",
       "      <th></th>\n",
       "    </tr>\n",
       "  </thead>\n",
       "  <tbody>\n",
       "    <tr>\n",
       "      <th>3930271</th>\n",
       "      <td>1976-01-06</td>\n",
       "      <td>NaN</td>\n",
       "      <td>NaN</td>\n",
       "      <td>NaN</td>\n",
       "      <td>NaN</td>\n",
       "      <td>NaN</td>\n",
       "      <td>NaN</td>\n",
       "      <td>NaN</td>\n",
       "      <td>NaN</td>\n",
       "    </tr>\n",
       "    <tr>\n",
       "      <th>3930272</th>\n",
       "      <td>1976-01-06</td>\n",
       "      <td>NaN</td>\n",
       "      <td>NaN</td>\n",
       "      <td>NaN</td>\n",
       "      <td>NaN</td>\n",
       "      <td>NaN</td>\n",
       "      <td>NaN</td>\n",
       "      <td>NaN</td>\n",
       "      <td>NaN</td>\n",
       "    </tr>\n",
       "    <tr>\n",
       "      <th>3930273</th>\n",
       "      <td>1976-01-06</td>\n",
       "      <td>NaN</td>\n",
       "      <td>NaN</td>\n",
       "      <td>NaN</td>\n",
       "      <td>NaN</td>\n",
       "      <td>NaN</td>\n",
       "      <td>NaN</td>\n",
       "      <td>NaN</td>\n",
       "      <td>NaN</td>\n",
       "    </tr>\n",
       "    <tr>\n",
       "      <th>3930274</th>\n",
       "      <td>1976-01-06</td>\n",
       "      <td>NaN</td>\n",
       "      <td>NaN</td>\n",
       "      <td>NaN</td>\n",
       "      <td>NaN</td>\n",
       "      <td>NaN</td>\n",
       "      <td>NaN</td>\n",
       "      <td>NaN</td>\n",
       "      <td>NaN</td>\n",
       "    </tr>\n",
       "    <tr>\n",
       "      <th>3930275</th>\n",
       "      <td>1976-01-06</td>\n",
       "      <td>NaN</td>\n",
       "      <td>NaN</td>\n",
       "      <td>NaN</td>\n",
       "      <td>NaN</td>\n",
       "      <td>NaN</td>\n",
       "      <td>NaN</td>\n",
       "      <td>NaN</td>\n",
       "      <td>NaN</td>\n",
       "    </tr>\n",
       "  </tbody>\n",
       "</table>\n",
       "</div>"
      ],
      "text/plain": [
       "              date  wipo_sector_ext  wipo_field_ext  ipcr_section_ext  \\\n",
       "id                                                                      \n",
       "3930271 1976-01-06              NaN             NaN               NaN   \n",
       "3930272 1976-01-06              NaN             NaN               NaN   \n",
       "3930273 1976-01-06              NaN             NaN               NaN   \n",
       "3930274 1976-01-06              NaN             NaN               NaN   \n",
       "3930275 1976-01-06              NaN             NaN               NaN   \n",
       "\n",
       "         ipcr_ipc_class_ext  cpc_section_ext  cpc_subsection_ext  \\\n",
       "id                                                                 \n",
       "3930271                 NaN              NaN                 NaN   \n",
       "3930272                 NaN              NaN                 NaN   \n",
       "3930273                 NaN              NaN                 NaN   \n",
       "3930274                 NaN              NaN                 NaN   \n",
       "3930275                 NaN              NaN                 NaN   \n",
       "\n",
       "         nber_category_ext  nber_subcategory_ext  \n",
       "id                                                \n",
       "3930271                NaN                   NaN  \n",
       "3930272                NaN                   NaN  \n",
       "3930273                NaN                   NaN  \n",
       "3930274                NaN                   NaN  \n",
       "3930275                NaN                   NaN  "
      ]
     },
     "execution_count": 14,
     "metadata": {},
     "output_type": "execute_result"
    }
   ],
   "source": [
    "df.head()"
   ]
  },
  {
   "cell_type": "code",
   "execution_count": 15,
   "metadata": {
    "collapsed": false
   },
   "outputs": [
    {
     "name": "stderr",
     "output_type": "stream",
     "text": [
      "/home/applications/anaconda3/4.2.0/lib/python3.5/site-packages/numpy/lib/function_base.py:4269: RuntimeWarning: Invalid value encountered in percentile\n",
      "  interpolation=interpolation)\n"
     ]
    },
    {
     "data": {
      "text/html": [
       "<div>\n",
       "<table border=\"1\" class=\"dataframe\">\n",
       "  <thead>\n",
       "    <tr style=\"text-align: right;\">\n",
       "      <th></th>\n",
       "      <th>count</th>\n",
       "      <th>mean</th>\n",
       "      <th>std</th>\n",
       "      <th>min</th>\n",
       "      <th>25%</th>\n",
       "      <th>50%</th>\n",
       "      <th>75%</th>\n",
       "      <th>max</th>\n",
       "    </tr>\n",
       "  </thead>\n",
       "  <tbody>\n",
       "    <tr>\n",
       "      <th>wipo_sector_ext</th>\n",
       "      <td>3406.0</td>\n",
       "      <td>0.282421</td>\n",
       "      <td>0.442201</td>\n",
       "      <td>0.0</td>\n",
       "      <td>NaN</td>\n",
       "      <td>NaN</td>\n",
       "      <td>NaN</td>\n",
       "      <td>1.0</td>\n",
       "    </tr>\n",
       "    <tr>\n",
       "      <th>wipo_field_ext</th>\n",
       "      <td>3396.0</td>\n",
       "      <td>0.277377</td>\n",
       "      <td>0.439594</td>\n",
       "      <td>0.0</td>\n",
       "      <td>NaN</td>\n",
       "      <td>NaN</td>\n",
       "      <td>NaN</td>\n",
       "      <td>1.0</td>\n",
       "    </tr>\n",
       "    <tr>\n",
       "      <th>ipcr_section_ext</th>\n",
       "      <td>3396.0</td>\n",
       "      <td>0.553402</td>\n",
       "      <td>0.490175</td>\n",
       "      <td>0.0</td>\n",
       "      <td>NaN</td>\n",
       "      <td>NaN</td>\n",
       "      <td>NaN</td>\n",
       "      <td>1.0</td>\n",
       "    </tr>\n",
       "    <tr>\n",
       "      <th>ipcr_ipc_class_ext</th>\n",
       "      <td>2430.0</td>\n",
       "      <td>0.239153</td>\n",
       "      <td>0.418930</td>\n",
       "      <td>0.0</td>\n",
       "      <td>NaN</td>\n",
       "      <td>NaN</td>\n",
       "      <td>NaN</td>\n",
       "      <td>1.0</td>\n",
       "    </tr>\n",
       "    <tr>\n",
       "      <th>cpc_section_ext</th>\n",
       "      <td>2430.0</td>\n",
       "      <td>0.324798</td>\n",
       "      <td>0.461749</td>\n",
       "      <td>0.0</td>\n",
       "      <td>NaN</td>\n",
       "      <td>NaN</td>\n",
       "      <td>NaN</td>\n",
       "      <td>1.0</td>\n",
       "    </tr>\n",
       "    <tr>\n",
       "      <th>cpc_subsection_ext</th>\n",
       "      <td>0.0</td>\n",
       "      <td>NaN</td>\n",
       "      <td>NaN</td>\n",
       "      <td>NaN</td>\n",
       "      <td>NaN</td>\n",
       "      <td>NaN</td>\n",
       "      <td>NaN</td>\n",
       "      <td>NaN</td>\n",
       "    </tr>\n",
       "    <tr>\n",
       "      <th>nber_category_ext</th>\n",
       "      <td>0.0</td>\n",
       "      <td>NaN</td>\n",
       "      <td>NaN</td>\n",
       "      <td>NaN</td>\n",
       "      <td>NaN</td>\n",
       "      <td>NaN</td>\n",
       "      <td>NaN</td>\n",
       "      <td>NaN</td>\n",
       "    </tr>\n",
       "    <tr>\n",
       "      <th>nber_subcategory_ext</th>\n",
       "      <td>3406.0</td>\n",
       "      <td>1.000000</td>\n",
       "      <td>0.000000</td>\n",
       "      <td>1.0</td>\n",
       "      <td>NaN</td>\n",
       "      <td>NaN</td>\n",
       "      <td>NaN</td>\n",
       "      <td>1.0</td>\n",
       "    </tr>\n",
       "  </tbody>\n",
       "</table>\n",
       "</div>"
      ],
      "text/plain": [
       "                       count      mean       std  min  25%  50%  75%  max\n",
       "wipo_sector_ext       3406.0  0.282421  0.442201  0.0  NaN  NaN  NaN  1.0\n",
       "wipo_field_ext        3396.0  0.277377  0.439594  0.0  NaN  NaN  NaN  1.0\n",
       "ipcr_section_ext      3396.0  0.553402  0.490175  0.0  NaN  NaN  NaN  1.0\n",
       "ipcr_ipc_class_ext    2430.0  0.239153  0.418930  0.0  NaN  NaN  NaN  1.0\n",
       "cpc_section_ext       2430.0  0.324798  0.461749  0.0  NaN  NaN  NaN  1.0\n",
       "cpc_subsection_ext       0.0       NaN       NaN  NaN  NaN  NaN  NaN  NaN\n",
       "nber_category_ext        0.0       NaN       NaN  NaN  NaN  NaN  NaN  NaN\n",
       "nber_subcategory_ext  3406.0  1.000000  0.000000  1.0  NaN  NaN  NaN  1.0"
      ]
     },
     "execution_count": 15,
     "metadata": {},
     "output_type": "execute_result"
    }
   ],
   "source": [
    "df.describe().transpose()"
   ]
  },
  {
   "cell_type": "code",
   "execution_count": 16,
   "metadata": {
    "collapsed": true
   },
   "outputs": [],
   "source": [
    "df.set_index('date', inplace=True)"
   ]
  },
  {
   "cell_type": "code",
   "execution_count": 17,
   "metadata": {
    "collapsed": true
   },
   "outputs": [],
   "source": [
    "cols=list(df.columns)"
   ]
  },
  {
   "cell_type": "code",
   "execution_count": 18,
   "metadata": {
    "collapsed": true
   },
   "outputs": [],
   "source": [
    "far_ext=cols[0::2]"
   ]
  },
  {
   "cell_type": "code",
   "execution_count": null,
   "metadata": {
    "collapsed": true
   },
   "outputs": [],
   "source": [
    "far_ext"
   ]
  },
  {
   "cell_type": "code",
   "execution_count": 19,
   "metadata": {
    "collapsed": true
   },
   "outputs": [],
   "source": [
    "ext=cols[1::2]"
   ]
  },
  {
   "cell_type": "code",
   "execution_count": null,
   "metadata": {
    "collapsed": true
   },
   "outputs": [],
   "source": [
    "ext"
   ]
  },
  {
   "cell_type": "code",
   "execution_count": 20,
   "metadata": {
    "collapsed": false
   },
   "outputs": [
    {
     "name": "stderr",
     "output_type": "stream",
     "text": [
      "/home/applications/anaconda3/4.2.0/lib/python3.5/site-packages/matplotlib/font_manager.py:1297: UserWarning: findfont: Font family ['sans-serif'] not found. Falling back to DejaVu Sans\n",
      "  (prop.get_family(), self.defaultFamily[fontext]))\n"
     ]
    },
    {
     "data": {
      "image/png": "[encoded data removed]",
      "text/plain": [
       "<matplotlib.figure.Figure at 0x7f448108eb70>"
      ]
     },
     "metadata": {
      "image/png": {
       "height": 343,
       "width": 490
      }
     },
     "output_type": "display_data"
    }
   ],
   "source": [
    "ax = plt.gca()\n",
    "\n",
    "for element in far_ext:\n",
    "    df.resample('A').mean().plot(y=element, kind='line', ax=ax)\n",
    "\n",
    "plt.show()"
   ]
  },
  {
   "cell_type": "code",
   "execution_count": 21,
   "metadata": {
    "collapsed": false
   },
   "outputs": [
    {
     "name": "stderr",
     "output_type": "stream",
     "text": [
      "/home/applications/anaconda3/4.2.0/lib/python3.5/site-packages/matplotlib/font_manager.py:1297: UserWarning: findfont: Font family ['sans-serif'] not found. Falling back to DejaVu Sans\n",
      "  (prop.get_family(), self.defaultFamily[fontext]))\n"
     ]
    },
    {
     "data": {
      "image/png": "[encoded data removed]",
      "text/plain": [
       "<matplotlib.figure.Figure at 0x7f448108e7b8>"
      ]
     },
     "metadata": {
      "image/png": {
       "height": 343,
       "width": 483
      }
     },
     "output_type": "display_data"
    }
   ],
   "source": [
    "ax = plt.gca()\n",
    "\n",
    "for element in ext:\n",
    "    df.resample('A').mean().plot(y=element, kind='line', ax=ax)\n",
    "\n",
    "plt.show()"
   ]
  },
  {
   "cell_type": "code",
   "execution_count": 22,
   "metadata": {
    "collapsed": true
   },
   "outputs": [],
   "source": []
  }
 ],
 "metadata": {
  "anaconda-cloud": {},
  "kernelspec": {
   "display_name": "Python [default]",
   "language": "python",
   "name": "python3"
  },
  "language_info": {
   "codemirror_mode": {
    "name": "ipython",
    "version": 3
   },
   "file_extension": ".py",
   "mimetype": "text/x-python",
   "name": "python",
   "nbconvert_exporter": "python",
   "pygments_lexer": "ipython3",
   "version": "3.5.2"
  }
 },
 "nbformat": 4,
 "nbformat_minor": 1
}
