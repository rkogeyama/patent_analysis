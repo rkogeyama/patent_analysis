{
 "cells": [
  {
   "cell_type": "code",
   "execution_count": 1,
   "metadata": {
    "collapsed": true
   },
   "outputs": [],
   "source": [
    "#This script opens the citation dataset and perform calculations in patent level\n",
    "#Renato Kogeyama\n",
    "\n",
    "#Miami, Jan 25, 2020\n",
    "#This code could really use a cleaning\n",
    "#I updated it t use clean uspatentcitation\n",
    "#but i could update the name of the dataframes so they are more meaningful\n",
    "\n",
    "\n",
    "#Miami, December 29th, 2019\n",
    "# The script runs in about 20 min with the full dataset - excellent!\n",
    "# The main change was in the philosophy of the code - ditching for loops\n",
    "# This version includes application data calculate time variables \n",
    "# The idea is to evaluate changes in patent policy and evaluate time to citation\n",
    "\n",
    "#Miami, December 27th, 2019\n",
    "# Due bad performance, I am updating the script to more efficient coding\n",
    "\n",
    "# This script generates a citation ouput with patent|backward citation|cumulated backward citation | year\n",
    "# The output generates a citation record by year, considering direct and indirect citation\n"
   ]
  },
  {
   "cell_type": "code",
   "execution_count": 2,
   "metadata": {
    "collapsed": true
   },
   "outputs": [],
   "source": [
    "import pandas as pd\n",
    "import numpy as np\n",
    "import re\n",
    "\n",
    "import sys\n",
    "sys.path.append('/home/rkogeyam/scripts/')\n",
    "from sampler import sampler\n"
   ]
  },
  {
   "cell_type": "code",
   "execution_count": 3,
   "metadata": {
    "collapsed": true
   },
   "outputs": [],
   "source": [
    "%matplotlib inline"
   ]
  },
  {
   "cell_type": "code",
   "execution_count": 4,
   "metadata": {
    "collapsed": true
   },
   "outputs": [],
   "source": [
    "# fname = r'/home/rkogeyam/PATENT_CITATION/data/uspatentcitation.tsv'\n",
    "fname = r'/home/rkogeyam/PATENT_CITATION/data/cleanuspatentcitation.csv'\n",
    "dst = '/home/rkogeyam/PATENT_CITATION/data/cit_tree.csv'"
   ]
  },
  {
   "cell_type": "code",
   "execution_count": 5,
   "metadata": {
    "collapsed": false
   },
   "outputs": [
    {
     "name": "stdout",
     "output_type": "stream",
     "text": [
      "CPU times: user 2min 15s, sys: 9.49 s, total: 2min 25s\n",
      "Wall time: 2min 25s\n"
     ]
    }
   ],
   "source": [
    "%%time\n",
    "df=pd.read_csv(fname, usecols=['patent_id','citation_id'], dtype=object)\n",
    "\n",
    "# sample_size=100\n",
    "# df=sampler(fname, sample_size, sep='\\t')"
   ]
  },
  {
   "cell_type": "code",
   "execution_count": 6,
   "metadata": {
    "collapsed": false
   },
   "outputs": [
    {
     "data": {
      "text/plain": [
       "patent_id      object\n",
       "citation_id    object\n",
       "dtype: object"
      ]
     },
     "execution_count": 6,
     "metadata": {},
     "output_type": "execute_result"
    }
   ],
   "source": [
    "df.dtypes"
   ]
  },
  {
   "cell_type": "code",
   "execution_count": 7,
   "metadata": {
    "collapsed": false
   },
   "outputs": [],
   "source": [
    "df['patent_id']=df['patent_id'].astype(str)\n",
    "df['citation_id']=df['citation_id'].astype(str)"
   ]
  },
  {
   "cell_type": "code",
   "execution_count": 8,
   "metadata": {
    "collapsed": false
   },
   "outputs": [
    {
     "data": {
      "text/plain": [
       "patent_id      object\n",
       "citation_id    object\n",
       "dtype: object"
      ]
     },
     "execution_count": 8,
     "metadata": {},
     "output_type": "execute_result"
    }
   ],
   "source": [
    "df.dtypes"
   ]
  },
  {
   "cell_type": "code",
   "execution_count": 9,
   "metadata": {
    "collapsed": false
   },
   "outputs": [],
   "source": [
    "#this is the trick code\n",
    "#I match the total of citations received by the citing patent (identified by patent_id)\n",
    "#Then I sum all citations received by the citing patents\n",
    "cit_received=pd.read_csv('data/cit_received.csv', usecols=['citation_id','cit_received'], dtype=object)\n",
    "df=df.merge(cit_received, how='inner', left_on='patent_id', right_on='citation_id')\n",
    "df.rename(columns={'back_citation': 'parent_cit_received'}, inplace=True)"
   ]
  },
  {
   "cell_type": "code",
   "execution_count": 10,
   "metadata": {
    "collapsed": false
   },
   "outputs": [
    {
     "name": "stdout",
     "output_type": "stream",
     "text": [
      "<class 'pandas.core.frame.DataFrame'>\n",
      "RangeIndex: 7048984 entries, 0 to 7048983\n",
      "Data columns (total 2 columns):\n",
      "citation_id     object\n",
      "cit_received    object\n",
      "dtypes: object(2)\n",
      "memory usage: 107.6+ MB\n"
     ]
    }
   ],
   "source": [
    "cit_received.info()"
   ]
  },
  {
   "cell_type": "code",
   "execution_count": 11,
   "metadata": {
    "collapsed": true
   },
   "outputs": [],
   "source": [
    "del cit_received"
   ]
  },
  {
   "cell_type": "code",
   "execution_count": 12,
   "metadata": {
    "collapsed": false
   },
   "outputs": [
    {
     "name": "stdout",
     "output_type": "stream",
     "text": [
      "<class 'pandas.core.frame.DataFrame'>\n",
      "Int64Index: 69189682 entries, 0 to 69189681\n",
      "Data columns (total 4 columns):\n",
      "patent_id        object\n",
      "citation_id_x    object\n",
      "citation_id_y    object\n",
      "cit_received     object\n",
      "dtypes: object(4)\n",
      "memory usage: 2.6+ GB\n"
     ]
    }
   ],
   "source": [
    "df.info()"
   ]
  },
  {
   "cell_type": "code",
   "execution_count": 13,
   "metadata": {
    "collapsed": false
   },
   "outputs": [],
   "source": [
    "#merging generates new NaNs\n",
    "#NaN in citations means no citation\n",
    "df.fillna(0, inplace=True)"
   ]
  },
  {
   "cell_type": "code",
   "execution_count": 14,
   "metadata": {
    "collapsed": false,
    "scrolled": true
   },
   "outputs": [
    {
     "data": {
      "text/html": [
       "<div>\n",
       "<table border=\"1\" class=\"dataframe\">\n",
       "  <thead>\n",
       "    <tr style=\"text-align: right;\">\n",
       "      <th></th>\n",
       "      <th>patent_id</th>\n",
       "      <th>citation_id_x</th>\n",
       "      <th>citation_id_y</th>\n",
       "      <th>cit_received</th>\n",
       "    </tr>\n",
       "  </thead>\n",
       "  <tbody>\n",
       "    <tr>\n",
       "      <th>44164946</th>\n",
       "      <td>8669373</td>\n",
       "      <td>7919773</td>\n",
       "      <td>8669373</td>\n",
       "      <td>2</td>\n",
       "    </tr>\n",
       "    <tr>\n",
       "      <th>50068777</th>\n",
       "      <td>6337877</td>\n",
       "      <td>5682419</td>\n",
       "      <td>6337877</td>\n",
       "      <td>33</td>\n",
       "    </tr>\n",
       "    <tr>\n",
       "      <th>33650840</th>\n",
       "      <td>8291879</td>\n",
       "      <td>3692010</td>\n",
       "      <td>8291879</td>\n",
       "      <td>3</td>\n",
       "    </tr>\n",
       "    <tr>\n",
       "      <th>63434147</th>\n",
       "      <td>D475137</td>\n",
       "      <td>D297260</td>\n",
       "      <td>D475137</td>\n",
       "      <td>41</td>\n",
       "    </tr>\n",
       "    <tr>\n",
       "      <th>48284596</th>\n",
       "      <td>8858065</td>\n",
       "      <td>4128052</td>\n",
       "      <td>8858065</td>\n",
       "      <td>6</td>\n",
       "    </tr>\n",
       "    <tr>\n",
       "      <th>25166805</th>\n",
       "      <td>4862028</td>\n",
       "      <td>4090592</td>\n",
       "      <td>4862028</td>\n",
       "      <td>6</td>\n",
       "    </tr>\n",
       "    <tr>\n",
       "      <th>28894777</th>\n",
       "      <td>6085699</td>\n",
       "      <td>3741166</td>\n",
       "      <td>6085699</td>\n",
       "      <td>12</td>\n",
       "    </tr>\n",
       "    <tr>\n",
       "      <th>43266610</th>\n",
       "      <td>5958289</td>\n",
       "      <td>5405412</td>\n",
       "      <td>5958289</td>\n",
       "      <td>11</td>\n",
       "    </tr>\n",
       "    <tr>\n",
       "      <th>6813068</th>\n",
       "      <td>7857828</td>\n",
       "      <td>4387489</td>\n",
       "      <td>7857828</td>\n",
       "      <td>44</td>\n",
       "    </tr>\n",
       "    <tr>\n",
       "      <th>50410670</th>\n",
       "      <td>5557734</td>\n",
       "      <td>5428804</td>\n",
       "      <td>5557734</td>\n",
       "      <td>50</td>\n",
       "    </tr>\n",
       "  </tbody>\n",
       "</table>\n",
       "</div>"
      ],
      "text/plain": [
       "         patent_id citation_id_x citation_id_y cit_received\n",
       "44164946   8669373       7919773       8669373            2\n",
       "50068777   6337877       5682419       6337877           33\n",
       "33650840   8291879       3692010       8291879            3\n",
       "63434147   D475137       D297260       D475137           41\n",
       "48284596   8858065       4128052       8858065            6\n",
       "25166805   4862028       4090592       4862028            6\n",
       "28894777   6085699       3741166       6085699           12\n",
       "43266610   5958289       5405412       5958289           11\n",
       "6813068    7857828       4387489       7857828           44\n",
       "50410670   5557734       5428804       5557734           50"
      ]
     },
     "execution_count": 14,
     "metadata": {},
     "output_type": "execute_result"
    }
   ],
   "source": [
    "df.sample(n=10) # i dont know if the dataframe has the column name called in the following code"
   ]
  },
  {
   "cell_type": "code",
   "execution_count": 15,
   "metadata": {
    "collapsed": true
   },
   "outputs": [],
   "source": [
    "df['cit_received']=df['cit_received'].astype(int)"
   ]
  },
  {
   "cell_type": "code",
   "execution_count": 16,
   "metadata": {
    "collapsed": false
   },
   "outputs": [],
   "source": [
    "#now I collapse df to become a patent level dataframe\n",
    "#citation_id_x is the original cited patent\n",
    "df=df.groupby('citation_id_x').sum()"
   ]
  },
  {
   "cell_type": "code",
   "execution_count": 17,
   "metadata": {
    "collapsed": true
   },
   "outputs": [],
   "source": [
    "df.rename(columns={'cit_received': 'parent_citation'}, inplace=True)"
   ]
  },
  {
   "cell_type": "code",
   "execution_count": 18,
   "metadata": {
    "collapsed": false
   },
   "outputs": [
    {
     "name": "stdout",
     "output_type": "stream",
     "text": [
      "<class 'pandas.core.frame.DataFrame'>\n",
      "Index: 6258912 entries, 0 to re25727\n",
      "Data columns (total 1 columns):\n",
      "parent_citation    int64\n",
      "dtypes: int64(1)\n",
      "memory usage: 95.5+ MB\n"
     ]
    }
   ],
   "source": [
    "df.info()"
   ]
  },
  {
   "cell_type": "code",
   "execution_count": 19,
   "metadata": {
    "collapsed": false
   },
   "outputs": [
    {
     "data": {
      "text/html": [
       "<div>\n",
       "<table border=\"1\" class=\"dataframe\">\n",
       "  <thead>\n",
       "    <tr style=\"text-align: right;\">\n",
       "      <th></th>\n",
       "      <th>parent_citation</th>\n",
       "    </tr>\n",
       "  </thead>\n",
       "  <tbody>\n",
       "    <tr>\n",
       "      <th>count</th>\n",
       "      <td>6.258912e+06</td>\n",
       "    </tr>\n",
       "    <tr>\n",
       "      <th>mean</th>\n",
       "      <td>2.472189e+02</td>\n",
       "    </tr>\n",
       "    <tr>\n",
       "      <th>std</th>\n",
       "      <td>1.588033e+03</td>\n",
       "    </tr>\n",
       "    <tr>\n",
       "      <th>min</th>\n",
       "      <td>1.000000e+00</td>\n",
       "    </tr>\n",
       "    <tr>\n",
       "      <th>25%</th>\n",
       "      <td>9.000000e+00</td>\n",
       "    </tr>\n",
       "    <tr>\n",
       "      <th>50%</th>\n",
       "      <td>3.600000e+01</td>\n",
       "    </tr>\n",
       "    <tr>\n",
       "      <th>75%</th>\n",
       "      <td>1.290000e+02</td>\n",
       "    </tr>\n",
       "    <tr>\n",
       "      <th>max</th>\n",
       "      <td>2.274790e+05</td>\n",
       "    </tr>\n",
       "  </tbody>\n",
       "</table>\n",
       "</div>"
      ],
      "text/plain": [
       "       parent_citation\n",
       "count     6.258912e+06\n",
       "mean      2.472189e+02\n",
       "std       1.588033e+03\n",
       "min       1.000000e+00\n",
       "25%       9.000000e+00\n",
       "50%       3.600000e+01\n",
       "75%       1.290000e+02\n",
       "max       2.274790e+05"
      ]
     },
     "execution_count": 19,
     "metadata": {},
     "output_type": "execute_result"
    }
   ],
   "source": [
    "df.describe()"
   ]
  },
  {
   "cell_type": "code",
   "execution_count": 20,
   "metadata": {
    "collapsed": false
   },
   "outputs": [
    {
     "data": {
      "text/html": [
       "<div>\n",
       "<table border=\"1\" class=\"dataframe\">\n",
       "  <thead>\n",
       "    <tr style=\"text-align: right;\">\n",
       "      <th></th>\n",
       "      <th>parent_citation</th>\n",
       "    </tr>\n",
       "    <tr>\n",
       "      <th>citation_id_x</th>\n",
       "      <th></th>\n",
       "    </tr>\n",
       "  </thead>\n",
       "  <tbody>\n",
       "    <tr>\n",
       "      <th>7783525</th>\n",
       "      <td>2</td>\n",
       "    </tr>\n",
       "    <tr>\n",
       "      <th>D301900</th>\n",
       "      <td>4</td>\n",
       "    </tr>\n",
       "    <tr>\n",
       "      <th>D660936</th>\n",
       "      <td>2</td>\n",
       "    </tr>\n",
       "    <tr>\n",
       "      <th>5350161</th>\n",
       "      <td>2</td>\n",
       "    </tr>\n",
       "    <tr>\n",
       "      <th>3400335</th>\n",
       "      <td>4</td>\n",
       "    </tr>\n",
       "    <tr>\n",
       "      <th>2900202</th>\n",
       "      <td>7</td>\n",
       "    </tr>\n",
       "    <tr>\n",
       "      <th>4050963</th>\n",
       "      <td>46</td>\n",
       "    </tr>\n",
       "    <tr>\n",
       "      <th>6279237</th>\n",
       "      <td>2</td>\n",
       "    </tr>\n",
       "    <tr>\n",
       "      <th>D361040</th>\n",
       "      <td>21</td>\n",
       "    </tr>\n",
       "    <tr>\n",
       "      <th>7121999</th>\n",
       "      <td>38</td>\n",
       "    </tr>\n",
       "  </tbody>\n",
       "</table>\n",
       "</div>"
      ],
      "text/plain": [
       "               parent_citation\n",
       "citation_id_x                 \n",
       "7783525                      2\n",
       "D301900                      4\n",
       "D660936                      2\n",
       "5350161                      2\n",
       "3400335                      4\n",
       "2900202                      7\n",
       "4050963                     46\n",
       "6279237                      2\n",
       "D361040                     21\n",
       "7121999                     38"
      ]
     },
     "execution_count": 20,
     "metadata": {},
     "output_type": "execute_result"
    }
   ],
   "source": [
    "df.sample(n=10)"
   ]
  },
  {
   "cell_type": "code",
   "execution_count": null,
   "metadata": {
    "collapsed": true
   },
   "outputs": [],
   "source": [
    "df['parent_citation'].hist()"
   ]
  },
  {
   "cell_type": "code",
   "execution_count": 21,
   "metadata": {
    "collapsed": false,
    "scrolled": true
   },
   "outputs": [
    {
     "data": {
      "text/plain": [
       "<matplotlib.axes._subplots.AxesSubplot at 0x7fa691031438>"
      ]
     },
     "execution_count": 21,
     "metadata": {},
     "output_type": "execute_result"
    },
    {
     "data": {
      "image/png": "[encoded data removed]",
      "text/plain": [
       "<matplotlib.figure.Figure at 0x7fa692caac50>"
      ]
     },
     "metadata": {},
     "output_type": "display_data"
    }
   ],
   "source": [
    "np.log(df['parent_citation']).hist()"
   ]
  },
  {
   "cell_type": "code",
   "execution_count": 22,
   "metadata": {
    "collapsed": true
   },
   "outputs": [],
   "source": [
    "df.to_csv(dst)"
   ]
  },
  {
   "cell_type": "code",
   "execution_count": 23,
   "metadata": {
    "collapsed": false
   },
   "outputs": [],
   "source": [
    "# now i merge the number of citations to patent_level_df\n",
    "# patent_level has the information about the citing patent\n",
    "\n",
    "# this merge is inner because not all patents in patent_level_df will have citations\n",
    "\n",
    "# outcome=cited_patents.merge(patent_level_df, how='inner', left_on='citation_id', right_index=True)"
   ]
  },
  {
   "cell_type": "code",
   "execution_count": 24,
   "metadata": {
    "collapsed": false
   },
   "outputs": [],
   "source": [
    "# outcome.head()"
   ]
  },
  {
   "cell_type": "code",
   "execution_count": 25,
   "metadata": {
    "collapsed": true
   },
   "outputs": [],
   "source": [
    "# outcome=outcome.merge(forward_citation, how='inner', left_on='citation_id', right_on='patent_id')"
   ]
  },
  {
   "cell_type": "code",
   "execution_count": 26,
   "metadata": {
    "collapsed": false
   },
   "outputs": [],
   "source": [
    "# outcome.head()"
   ]
  },
  {
   "cell_type": "code",
   "execution_count": 27,
   "metadata": {
    "collapsed": true
   },
   "outputs": [],
   "source": [
    "# outcome.fillna(0, inplace=True)"
   ]
  },
  {
   "cell_type": "code",
   "execution_count": 28,
   "metadata": {
    "collapsed": false
   },
   "outputs": [],
   "source": [
    "# outcome.head()"
   ]
  },
  {
   "cell_type": "code",
   "execution_count": 29,
   "metadata": {
    "collapsed": false
   },
   "outputs": [],
   "source": [
    "# outcome.drop(['patent_id'], axis=1, inplace=True)"
   ]
  },
  {
   "cell_type": "code",
   "execution_count": 30,
   "metadata": {
    "collapsed": true
   },
   "outputs": [],
   "source": [
    "# outcome.set_index('citation_id')"
   ]
  },
  {
   "cell_type": "code",
   "execution_count": 31,
   "metadata": {
    "collapsed": true
   },
   "outputs": [],
   "source": [
    "# outcome.drop(df['citation_id'].apply(lambda x: len(x)<4).index)"
   ]
  },
  {
   "cell_type": "code",
   "execution_count": 32,
   "metadata": {
    "collapsed": false,
    "scrolled": true
   },
   "outputs": [],
   "source": [
    "# outcome.describe()"
   ]
  },
  {
   "cell_type": "code",
   "execution_count": 33,
   "metadata": {
    "collapsed": false
   },
   "outputs": [],
   "source": [
    "# outcome.to_csv(dst)"
   ]
  },
  {
   "cell_type": "code",
   "execution_count": 34,
   "metadata": {
    "collapsed": true
   },
   "outputs": [],
   "source": [
    "# I should introduce a test to see if the script is calculating correctly\n",
    "# I should search for the information of one specfic patent and compare with the output generated by the script"
   ]
  },
  {
   "cell_type": "code",
   "execution_count": 35,
   "metadata": {
    "collapsed": false
   },
   "outputs": [],
   "source": [
    "# # some data cleaning\n",
    "\n",
    "# # here I should keep the information for further analysis\n",
    "\n",
    "# # drop rows in which column citation_id has a length smaller than 5\n",
    "# indexNames = df[df['citation_id'].map(len) < 5].index\n",
    "# df.drop(indexNames , inplace=True)\n",
    "\n",
    "# # drop rows for which column patent_id has a length smaller than 5\n",
    "# indexNames = df[df['patent_id'].map(len) < 5].index\n",
    "# df.drop(indexNames , inplace=True)"
   ]
  },
  {
   "cell_type": "code",
   "execution_count": 36,
   "metadata": {
    "collapsed": false
   },
   "outputs": [],
   "source": [
    "# %%time\n",
    "# # # Keep this for reference!\n",
    "# # # As of Dec 31st, 2019, I compared the clean to the raw version of citation and patent ids\n",
    "\n",
    "# # #stripping non-desired characters but keeping the originals for later check - only three changes in citation_id\n",
    "\n",
    "# df['citation_id_raw']=df['citation_id']\n",
    "# df['patent_id_raw']=df['patent_id']\n",
    "\n",
    "# cleaning_patent=lambda x:re.sub('([^a-zA-Z0-9]+)', \"\", x)\n",
    "# df['citation_id']=df['citation_id'].apply(cleaning_patent)\n",
    "# df['patent_id']=df['patent_id'].apply(cleaning_patent)\n",
    "\n",
    "# # #stripping trailing white spaces - no changes\n",
    "# # df['patent_id'] = df['patent_id'].str.strip()\n",
    "# # df['citation_id'] = df['citation_id'].str.strip()\n",
    "\n",
    "# # #this is taking a lot of time, evaluate alternatives\n",
    "\n",
    "# print(df[df['citation_id'].map(len) > 8])"
   ]
  }
 ],
 "metadata": {
  "anaconda-cloud": {},
  "kernelspec": {
   "display_name": "Python [default]",
   "language": "python",
   "name": "python3"
  },
  "language_info": {
   "codemirror_mode": {
    "name": "ipython",
    "version": 3
   },
   "file_extension": ".py",
   "mimetype": "text/x-python",
   "name": "python",
   "nbconvert_exporter": "python",
   "pygments_lexer": "ipython3",
   "version": "3.5.2"
  }
 },
 "nbformat": 4,
 "nbformat_minor": 1
}
