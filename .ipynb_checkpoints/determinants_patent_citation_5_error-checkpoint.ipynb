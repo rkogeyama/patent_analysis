{
 "cells": [
  {
   "cell_type": "code",
   "execution_count": 1,
   "metadata": {
    "collapsed": true
   },
   "outputs": [],
   "source": [
    "#Script to evaluate the determinants of patent citation \n",
    "#Renato Kogeyama\n",
    "\n",
    "\n",
    "#Miami, December 24th, 2019\n",
    "# Prof. Rafael Corredoira suggested:\n",
    "# - Inclusion of a tree of citations\n",
    "#   To track back the source of citations. This is information is not given by direct count of citations.\n",
    "# - Consider policy changes in the way patents are cited\n",
    "#   Policy changes in 2000 changed the time frame of citation, and 2010 partially moved citation to applications\n",
    "# - Track classification changes \n",
    "#   The original classification system in USPTO changed from a technical based to a market based classification system\n",
    "#   See if there is an impact\n",
    "# - Consider a text analysis of the claims\n",
    "#   Classification is based on the claims but it is not clear how many claims are related to each classification category\n",
    "# - Include moderation effect from classification\n",
    "#   Citations patterns may change across industries, so some effects may disappear if industry is not accounted for.\n",
    "\n",
    "# In summary, his ideas help increase structure of the current work\n",
    "\n",
    "\n",
    "#Syracuse, December 3rd, 2019\n",
    "\n",
    "#The original script is getting too complex\n",
    "#There was many tentative scripts to play with data\n",
    "#Here I am writing a script to show the relevance of variables to patent citation\n",
    "\n",
    "#11-12-2019\n",
    "#Introducing normalization\n",
    "\n",
    "#10-11-2019\n",
    "#I introduced log backward citation, what corrects for very dispersed results\n",
    "#but the major problem is that few patents receive citations\n",
    "#bring back binary output\n",
    "\n",
    "#10-10-2019\n",
    "#Added graphics and new distributions\n",
    "\n",
    "#10-03-2019\n",
    "#I rewrote the citation data to clean the strings\n",
    "\n",
    "#09-15-2019\n",
    "#O naive bayes tem algum problema com distribuicoes desbalanceadas\n",
    "#o scikit learn tem um modulo que corrige count distributions com muitos zeros, o complementNB\n",
    "#porem este nao esta disponivel na atual versao disponibilizada no HPC da FIU\n",
    "\n",
    "#09-10-2019\n",
    "#o trabalho pede uma abordagem mais sistematica e cuidadosa\n",
    "#estou agrupando o codigo antigo comentado e vou comecar um novo codigo\n",
    "\n",
    "#09-27-2019\n",
    "#I am renaming citation as forward citation and backward citation\n",
    "\n",
    "#09-17-2018\n",
    "\n",
    "#Alto uso de memoria - rodar no Amazon AWS \n",
    "\n"
   ]
  },
  {
   "cell_type": "code",
   "execution_count": 2,
   "metadata": {
    "collapsed": false
   },
   "outputs": [],
   "source": [
    "import pandas as pd\n",
    "import numpy as np\n",
    "\n",
    "from sklearn import preprocessing\n",
    "from sklearn import linear_model, datasets\n",
    "from sklearn.model_selection import train_test_split\n",
    "from sklearn.feature_selection import SelectKBest, f_classif\n",
    "\n",
    "from scipy import stats\n",
    "import datetime\n",
    "import matplotlib.pyplot as plot\n",
    "import pylab as pl\n",
    "\n",
    "from math import sqrt\n",
    "\n",
    "\n",
    "import sys\n",
    "sys.path.append('/home/rkogeyam/scripts/')\n",
    "\n",
    "from best_num_attr import best_num_attr\n",
    "from xattrSelect import xattrSelect\n",
    "from sampler import sampler\n",
    "from normalize import normalize\n",
    "\n",
    "\n"
   ]
  },
  {
   "cell_type": "code",
   "execution_count": 3,
   "metadata": {
    "collapsed": true
   },
   "outputs": [],
   "source": [
    "%matplotlib inline"
   ]
  },
  {
   "cell_type": "code",
   "execution_count": 4,
   "metadata": {
    "collapsed": false
   },
   "outputs": [
    {
     "name": "stderr",
     "output_type": "stream",
     "text": [
      "/home/applications/anaconda3/4.2.0/lib/python3.5/site-packages/IPython/core/interactiveshell.py:2717: DtypeWarning: Columns (1,3,6) have mixed types. Specify dtype option on import or set low_memory=False.\n",
      "  interactivity=interactivity, compiler=compiler, result=result)\n"
     ]
    }
   ],
   "source": [
    "fname='/home/rkogeyam/PATENT_CITATION/df_w_pat_cit_191229.csv'\n",
    "\n",
    "df=pd.read_csv(fname)\n",
    "\n",
    "# sample_size=1000\n",
    "# df=sampler(fname, sample_size)"
   ]
  },
  {
   "cell_type": "code",
   "execution_count": 5,
   "metadata": {
    "collapsed": true
   },
   "outputs": [],
   "source": [
    "df.drop(['Unnamed: 0'], axis=1, inplace=True) #it is an automated generated column"
   ]
  },
  {
   "cell_type": "code",
   "execution_count": 6,
   "metadata": {
    "collapsed": false,
    "scrolled": true
   },
   "outputs": [],
   "source": [
    "df.set_index('id', inplace=True)"
   ]
  },
  {
   "cell_type": "code",
   "execution_count": 7,
   "metadata": {
    "collapsed": true
   },
   "outputs": [],
   "source": [
    "df.drop(['number', 'filename', 'abstract', 'title'], axis=1, inplace=True)"
   ]
  },
  {
   "cell_type": "code",
   "execution_count": 8,
   "metadata": {
    "collapsed": false,
    "scrolled": true
   },
   "outputs": [
    {
     "data": {
      "text/html": [
       "<div>\n",
       "<table border=\"1\" class=\"dataframe\">\n",
       "  <thead>\n",
       "    <tr style=\"text-align: right;\">\n",
       "      <th></th>\n",
       "      <th>type</th>\n",
       "      <th>country</th>\n",
       "      <th>date</th>\n",
       "      <th>kind</th>\n",
       "      <th>num_claims</th>\n",
       "      <th>back_citation</th>\n",
       "      <th>parent_back_citation</th>\n",
       "      <th>year</th>\n",
       "      <th>month</th>\n",
       "      <th>day</th>\n",
       "    </tr>\n",
       "    <tr>\n",
       "      <th>id</th>\n",
       "      <th></th>\n",
       "      <th></th>\n",
       "      <th></th>\n",
       "      <th></th>\n",
       "      <th></th>\n",
       "      <th></th>\n",
       "      <th></th>\n",
       "      <th></th>\n",
       "      <th></th>\n",
       "      <th></th>\n",
       "    </tr>\n",
       "  </thead>\n",
       "  <tbody>\n",
       "    <tr>\n",
       "      <th>4389704</th>\n",
       "      <td>utility</td>\n",
       "      <td>US</td>\n",
       "      <td>1983-06-21</td>\n",
       "      <td>A</td>\n",
       "      <td>18.0</td>\n",
       "      <td>0.0</td>\n",
       "      <td>0.0</td>\n",
       "      <td>1983.0</td>\n",
       "      <td>6.0</td>\n",
       "      <td>21.0</td>\n",
       "    </tr>\n",
       "    <tr>\n",
       "      <th>7764176</th>\n",
       "      <td>utility</td>\n",
       "      <td>US</td>\n",
       "      <td>2010-07-27</td>\n",
       "      <td>B2</td>\n",
       "      <td>10.0</td>\n",
       "      <td>1.0</td>\n",
       "      <td>2.0</td>\n",
       "      <td>2010.0</td>\n",
       "      <td>7.0</td>\n",
       "      <td>27.0</td>\n",
       "    </tr>\n",
       "    <tr>\n",
       "      <th>D378362</th>\n",
       "      <td>design</td>\n",
       "      <td>US</td>\n",
       "      <td>1997-03-11</td>\n",
       "      <td>S</td>\n",
       "      <td>1.0</td>\n",
       "      <td>0.0</td>\n",
       "      <td>0.0</td>\n",
       "      <td>1997.0</td>\n",
       "      <td>3.0</td>\n",
       "      <td>11.0</td>\n",
       "    </tr>\n",
       "    <tr>\n",
       "      <th>4565409</th>\n",
       "      <td>utility</td>\n",
       "      <td>US</td>\n",
       "      <td>1986-01-21</td>\n",
       "      <td>A</td>\n",
       "      <td>5.0</td>\n",
       "      <td>0.0</td>\n",
       "      <td>0.0</td>\n",
       "      <td>1986.0</td>\n",
       "      <td>1.0</td>\n",
       "      <td>21.0</td>\n",
       "    </tr>\n",
       "    <tr>\n",
       "      <th>4818274</th>\n",
       "      <td>utility</td>\n",
       "      <td>US</td>\n",
       "      <td>1989-04-04</td>\n",
       "      <td>A</td>\n",
       "      <td>7.0</td>\n",
       "      <td>0.0</td>\n",
       "      <td>0.0</td>\n",
       "      <td>1989.0</td>\n",
       "      <td>4.0</td>\n",
       "      <td>4.0</td>\n",
       "    </tr>\n",
       "  </tbody>\n",
       "</table>\n",
       "</div>"
      ],
      "text/plain": [
       "            type country        date kind  num_claims  back_citation  \\\n",
       "id                                                                     \n",
       "4389704  utility      US  1983-06-21    A        18.0            0.0   \n",
       "7764176  utility      US  2010-07-27   B2        10.0            1.0   \n",
       "D378362   design      US  1997-03-11    S         1.0            0.0   \n",
       "4565409  utility      US  1986-01-21    A         5.0            0.0   \n",
       "4818274  utility      US  1989-04-04    A         7.0            0.0   \n",
       "\n",
       "         parent_back_citation    year  month   day  \n",
       "id                                                  \n",
       "4389704                   0.0  1983.0    6.0  21.0  \n",
       "7764176                   2.0  2010.0    7.0  27.0  \n",
       "D378362                   0.0  1997.0    3.0  11.0  \n",
       "4565409                   0.0  1986.0    1.0  21.0  \n",
       "4818274                   0.0  1989.0    4.0   4.0  "
      ]
     },
     "execution_count": 8,
     "metadata": {},
     "output_type": "execute_result"
    }
   ],
   "source": [
    "df.sample(n=5)"
   ]
  },
  {
   "cell_type": "code",
   "execution_count": 9,
   "metadata": {
    "collapsed": true
   },
   "outputs": [],
   "source": [
    "df.drop('date', axis=1, inplace=True)"
   ]
  },
  {
   "cell_type": "code",
   "execution_count": 10,
   "metadata": {
    "collapsed": false
   },
   "outputs": [
    {
     "data": {
      "text/plain": [
       "(6488261, 9)"
      ]
     },
     "execution_count": 10,
     "metadata": {},
     "output_type": "execute_result"
    }
   ],
   "source": [
    "df.shape"
   ]
  },
  {
   "cell_type": "code",
   "execution_count": 11,
   "metadata": {
    "collapsed": false
   },
   "outputs": [],
   "source": [
    "df=df.dropna()"
   ]
  },
  {
   "cell_type": "code",
   "execution_count": 12,
   "metadata": {
    "collapsed": false
   },
   "outputs": [
    {
     "data": {
      "text/plain": [
       "(6488250, 9)"
      ]
     },
     "execution_count": 12,
     "metadata": {},
     "output_type": "execute_result"
    }
   ],
   "source": [
    "df.shape"
   ]
  },
  {
   "cell_type": "code",
   "execution_count": 13,
   "metadata": {
    "collapsed": true
   },
   "outputs": [],
   "source": [
    "# defensive publication and statutory registration are not wrong entries\n",
    "# I will just rename them and leave them in the dataset\n",
    "df.rename(columns={'defensive publication': 'defensive', 'statutory invention registration': 'statutory'}, inplace=True)"
   ]
  },
  {
   "cell_type": "code",
   "execution_count": 14,
   "metadata": {
    "collapsed": false
   },
   "outputs": [
    {
     "data": {
      "text/html": [
       "<div>\n",
       "<table border=\"1\" class=\"dataframe\">\n",
       "  <thead>\n",
       "    <tr style=\"text-align: right;\">\n",
       "      <th></th>\n",
       "      <th>country</th>\n",
       "      <th>kind</th>\n",
       "      <th>num_claims</th>\n",
       "      <th>back_citation</th>\n",
       "      <th>parent_back_citation</th>\n",
       "      <th>year</th>\n",
       "      <th>month</th>\n",
       "      <th>day</th>\n",
       "    </tr>\n",
       "    <tr>\n",
       "      <th>type</th>\n",
       "      <th></th>\n",
       "      <th></th>\n",
       "      <th></th>\n",
       "      <th></th>\n",
       "      <th></th>\n",
       "      <th></th>\n",
       "      <th></th>\n",
       "      <th></th>\n",
       "    </tr>\n",
       "  </thead>\n",
       "  <tbody>\n",
       "    <tr>\n",
       "      <th>TVPP</th>\n",
       "      <td>3</td>\n",
       "      <td>3</td>\n",
       "      <td>3</td>\n",
       "      <td>3</td>\n",
       "      <td>3</td>\n",
       "      <td>3</td>\n",
       "      <td>3</td>\n",
       "      <td>3</td>\n",
       "    </tr>\n",
       "    <tr>\n",
       "      <th>defensive publication</th>\n",
       "      <td>509</td>\n",
       "      <td>509</td>\n",
       "      <td>509</td>\n",
       "      <td>509</td>\n",
       "      <td>509</td>\n",
       "      <td>509</td>\n",
       "      <td>509</td>\n",
       "      <td>509</td>\n",
       "    </tr>\n",
       "    <tr>\n",
       "      <th>design</th>\n",
       "      <td>563003</td>\n",
       "      <td>563003</td>\n",
       "      <td>563003</td>\n",
       "      <td>563003</td>\n",
       "      <td>563003</td>\n",
       "      <td>563003</td>\n",
       "      <td>563003</td>\n",
       "      <td>563003</td>\n",
       "    </tr>\n",
       "    <tr>\n",
       "      <th>plant</th>\n",
       "      <td>24790</td>\n",
       "      <td>24790</td>\n",
       "      <td>24790</td>\n",
       "      <td>24790</td>\n",
       "      <td>24790</td>\n",
       "      <td>24790</td>\n",
       "      <td>24790</td>\n",
       "      <td>24790</td>\n",
       "    </tr>\n",
       "    <tr>\n",
       "      <th>reissue</th>\n",
       "      <td>17812</td>\n",
       "      <td>17812</td>\n",
       "      <td>17812</td>\n",
       "      <td>17812</td>\n",
       "      <td>17812</td>\n",
       "      <td>17812</td>\n",
       "      <td>17812</td>\n",
       "      <td>17812</td>\n",
       "    </tr>\n",
       "    <tr>\n",
       "      <th>statutory invention registration</th>\n",
       "      <td>2254</td>\n",
       "      <td>2254</td>\n",
       "      <td>2254</td>\n",
       "      <td>2254</td>\n",
       "      <td>2254</td>\n",
       "      <td>2254</td>\n",
       "      <td>2254</td>\n",
       "      <td>2254</td>\n",
       "    </tr>\n",
       "    <tr>\n",
       "      <th>utility</th>\n",
       "      <td>5879879</td>\n",
       "      <td>5879879</td>\n",
       "      <td>5879879</td>\n",
       "      <td>5879879</td>\n",
       "      <td>5879879</td>\n",
       "      <td>5879879</td>\n",
       "      <td>5879879</td>\n",
       "      <td>5879879</td>\n",
       "    </tr>\n",
       "  </tbody>\n",
       "</table>\n",
       "</div>"
      ],
      "text/plain": [
       "                                  country     kind  num_claims  back_citation  \\\n",
       "type                                                                            \n",
       "TVPP                                    3        3           3              3   \n",
       "defensive publication                 509      509         509            509   \n",
       "design                             563003   563003      563003         563003   \n",
       "plant                               24790    24790       24790          24790   \n",
       "reissue                             17812    17812       17812          17812   \n",
       "statutory invention registration     2254     2254        2254           2254   \n",
       "utility                           5879879  5879879     5879879        5879879   \n",
       "\n",
       "                                  parent_back_citation     year    month  \\\n",
       "type                                                                       \n",
       "TVPP                                                 3        3        3   \n",
       "defensive publication                              509      509      509   \n",
       "design                                          563003   563003   563003   \n",
       "plant                                            24790    24790    24790   \n",
       "reissue                                          17812    17812    17812   \n",
       "statutory invention registration                  2254     2254     2254   \n",
       "utility                                        5879879  5879879  5879879   \n",
       "\n",
       "                                      day  \n",
       "type                                       \n",
       "TVPP                                    3  \n",
       "defensive publication                 509  \n",
       "design                             563003  \n",
       "plant                               24790  \n",
       "reissue                             17812  \n",
       "statutory invention registration     2254  \n",
       "utility                           5879879  "
      ]
     },
     "execution_count": 14,
     "metadata": {},
     "output_type": "execute_result"
    }
   ],
   "source": [
    "df.groupby('type').count()"
   ]
  },
  {
   "cell_type": "code",
   "execution_count": 15,
   "metadata": {
    "collapsed": false
   },
   "outputs": [
    {
     "data": {
      "text/html": [
       "<div>\n",
       "<table border=\"1\" class=\"dataframe\">\n",
       "  <thead>\n",
       "    <tr style=\"text-align: right;\">\n",
       "      <th></th>\n",
       "      <th>type</th>\n",
       "      <th>country</th>\n",
       "      <th>num_claims</th>\n",
       "      <th>back_citation</th>\n",
       "      <th>parent_back_citation</th>\n",
       "      <th>year</th>\n",
       "      <th>month</th>\n",
       "      <th>day</th>\n",
       "    </tr>\n",
       "    <tr>\n",
       "      <th>kind</th>\n",
       "      <th></th>\n",
       "      <th></th>\n",
       "      <th></th>\n",
       "      <th></th>\n",
       "      <th></th>\n",
       "      <th></th>\n",
       "      <th></th>\n",
       "      <th></th>\n",
       "    </tr>\n",
       "  </thead>\n",
       "  <tbody>\n",
       "    <tr>\n",
       "      <th>A</th>\n",
       "      <td>2391379</td>\n",
       "      <td>2391379</td>\n",
       "      <td>2391379</td>\n",
       "      <td>2391379</td>\n",
       "      <td>2391379</td>\n",
       "      <td>2391379</td>\n",
       "      <td>2391379</td>\n",
       "      <td>2391379</td>\n",
       "    </tr>\n",
       "    <tr>\n",
       "      <th>B1</th>\n",
       "      <td>568083</td>\n",
       "      <td>568083</td>\n",
       "      <td>568083</td>\n",
       "      <td>568083</td>\n",
       "      <td>568083</td>\n",
       "      <td>568083</td>\n",
       "      <td>568083</td>\n",
       "      <td>568083</td>\n",
       "    </tr>\n",
       "    <tr>\n",
       "      <th>B2</th>\n",
       "      <td>2920417</td>\n",
       "      <td>2920417</td>\n",
       "      <td>2920417</td>\n",
       "      <td>2920417</td>\n",
       "      <td>2920417</td>\n",
       "      <td>2920417</td>\n",
       "      <td>2920417</td>\n",
       "      <td>2920417</td>\n",
       "    </tr>\n",
       "    <tr>\n",
       "      <th>E</th>\n",
       "      <td>8692</td>\n",
       "      <td>8692</td>\n",
       "      <td>8692</td>\n",
       "      <td>8692</td>\n",
       "      <td>8692</td>\n",
       "      <td>8692</td>\n",
       "      <td>8692</td>\n",
       "      <td>8692</td>\n",
       "    </tr>\n",
       "    <tr>\n",
       "      <th>E1</th>\n",
       "      <td>9120</td>\n",
       "      <td>9120</td>\n",
       "      <td>9120</td>\n",
       "      <td>9120</td>\n",
       "      <td>9120</td>\n",
       "      <td>9120</td>\n",
       "      <td>9120</td>\n",
       "      <td>9120</td>\n",
       "    </tr>\n",
       "    <tr>\n",
       "      <th>H</th>\n",
       "      <td>1982</td>\n",
       "      <td>1982</td>\n",
       "      <td>1982</td>\n",
       "      <td>1982</td>\n",
       "      <td>1982</td>\n",
       "      <td>1982</td>\n",
       "      <td>1982</td>\n",
       "      <td>1982</td>\n",
       "    </tr>\n",
       "    <tr>\n",
       "      <th>H1</th>\n",
       "      <td>272</td>\n",
       "      <td>272</td>\n",
       "      <td>272</td>\n",
       "      <td>272</td>\n",
       "      <td>272</td>\n",
       "      <td>272</td>\n",
       "      <td>272</td>\n",
       "      <td>272</td>\n",
       "    </tr>\n",
       "    <tr>\n",
       "      <th>I4</th>\n",
       "      <td>509</td>\n",
       "      <td>509</td>\n",
       "      <td>509</td>\n",
       "      <td>509</td>\n",
       "      <td>509</td>\n",
       "      <td>509</td>\n",
       "      <td>509</td>\n",
       "      <td>509</td>\n",
       "    </tr>\n",
       "    <tr>\n",
       "      <th>I5</th>\n",
       "      <td>3</td>\n",
       "      <td>3</td>\n",
       "      <td>3</td>\n",
       "      <td>3</td>\n",
       "      <td>3</td>\n",
       "      <td>3</td>\n",
       "      <td>3</td>\n",
       "      <td>3</td>\n",
       "    </tr>\n",
       "    <tr>\n",
       "      <th>P</th>\n",
       "      <td>8282</td>\n",
       "      <td>8282</td>\n",
       "      <td>8282</td>\n",
       "      <td>8282</td>\n",
       "      <td>8282</td>\n",
       "      <td>8282</td>\n",
       "      <td>8282</td>\n",
       "      <td>8282</td>\n",
       "    </tr>\n",
       "    <tr>\n",
       "      <th>P2</th>\n",
       "      <td>11401</td>\n",
       "      <td>11401</td>\n",
       "      <td>11401</td>\n",
       "      <td>11401</td>\n",
       "      <td>11401</td>\n",
       "      <td>11401</td>\n",
       "      <td>11401</td>\n",
       "      <td>11401</td>\n",
       "    </tr>\n",
       "    <tr>\n",
       "      <th>P3</th>\n",
       "      <td>5107</td>\n",
       "      <td>5107</td>\n",
       "      <td>5107</td>\n",
       "      <td>5107</td>\n",
       "      <td>5107</td>\n",
       "      <td>5107</td>\n",
       "      <td>5107</td>\n",
       "      <td>5107</td>\n",
       "    </tr>\n",
       "    <tr>\n",
       "      <th>S</th>\n",
       "      <td>209582</td>\n",
       "      <td>209582</td>\n",
       "      <td>209582</td>\n",
       "      <td>209582</td>\n",
       "      <td>209582</td>\n",
       "      <td>209582</td>\n",
       "      <td>209582</td>\n",
       "      <td>209582</td>\n",
       "    </tr>\n",
       "    <tr>\n",
       "      <th>S1</th>\n",
       "      <td>353421</td>\n",
       "      <td>353421</td>\n",
       "      <td>353421</td>\n",
       "      <td>353421</td>\n",
       "      <td>353421</td>\n",
       "      <td>353421</td>\n",
       "      <td>353421</td>\n",
       "      <td>353421</td>\n",
       "    </tr>\n",
       "  </tbody>\n",
       "</table>\n",
       "</div>"
      ],
      "text/plain": [
       "         type  country  num_claims  back_citation  parent_back_citation  \\\n",
       "kind                                                                      \n",
       "A     2391379  2391379     2391379        2391379               2391379   \n",
       "B1     568083   568083      568083         568083                568083   \n",
       "B2    2920417  2920417     2920417        2920417               2920417   \n",
       "E        8692     8692        8692           8692                  8692   \n",
       "E1       9120     9120        9120           9120                  9120   \n",
       "H        1982     1982        1982           1982                  1982   \n",
       "H1        272      272         272            272                   272   \n",
       "I4        509      509         509            509                   509   \n",
       "I5          3        3           3              3                     3   \n",
       "P        8282     8282        8282           8282                  8282   \n",
       "P2      11401    11401       11401          11401                 11401   \n",
       "P3       5107     5107        5107           5107                  5107   \n",
       "S      209582   209582      209582         209582                209582   \n",
       "S1     353421   353421      353421         353421                353421   \n",
       "\n",
       "         year    month      day  \n",
       "kind                             \n",
       "A     2391379  2391379  2391379  \n",
       "B1     568083   568083   568083  \n",
       "B2    2920417  2920417  2920417  \n",
       "E        8692     8692     8692  \n",
       "E1       9120     9120     9120  \n",
       "H        1982     1982     1982  \n",
       "H1        272      272      272  \n",
       "I4        509      509      509  \n",
       "I5          3        3        3  \n",
       "P        8282     8282     8282  \n",
       "P2      11401    11401    11401  \n",
       "P3       5107     5107     5107  \n",
       "S      209582   209582   209582  \n",
       "S1     353421   353421   353421  "
      ]
     },
     "execution_count": 15,
     "metadata": {},
     "output_type": "execute_result"
    }
   ],
   "source": [
    "# defensive publication and statutory registration are not wrong entries\n",
    "# I will just rename them and leave them in the dataset\n",
    "df.groupby('kind').count()"
   ]
  },
  {
   "cell_type": "code",
   "execution_count": 16,
   "metadata": {
    "collapsed": false
   },
   "outputs": [
    {
     "data": {
      "text/html": [
       "<div>\n",
       "<table border=\"1\" class=\"dataframe\">\n",
       "  <thead>\n",
       "    <tr style=\"text-align: right;\">\n",
       "      <th></th>\n",
       "      <th>type</th>\n",
       "      <th>kind</th>\n",
       "      <th>num_claims</th>\n",
       "      <th>back_citation</th>\n",
       "      <th>parent_back_citation</th>\n",
       "      <th>year</th>\n",
       "      <th>month</th>\n",
       "      <th>day</th>\n",
       "    </tr>\n",
       "    <tr>\n",
       "      <th>country</th>\n",
       "      <th></th>\n",
       "      <th></th>\n",
       "      <th></th>\n",
       "      <th></th>\n",
       "      <th></th>\n",
       "      <th></th>\n",
       "      <th></th>\n",
       "      <th></th>\n",
       "    </tr>\n",
       "  </thead>\n",
       "  <tbody>\n",
       "    <tr>\n",
       "      <th>US</th>\n",
       "      <td>6488250</td>\n",
       "      <td>6488250</td>\n",
       "      <td>6488250</td>\n",
       "      <td>6488250</td>\n",
       "      <td>6488250</td>\n",
       "      <td>6488250</td>\n",
       "      <td>6488250</td>\n",
       "      <td>6488250</td>\n",
       "    </tr>\n",
       "  </tbody>\n",
       "</table>\n",
       "</div>"
      ],
      "text/plain": [
       "            type     kind  num_claims  back_citation  parent_back_citation  \\\n",
       "country                                                                      \n",
       "US       6488250  6488250     6488250        6488250               6488250   \n",
       "\n",
       "            year    month      day  \n",
       "country                             \n",
       "US       6488250  6488250  6488250  "
      ]
     },
     "execution_count": 16,
     "metadata": {},
     "output_type": "execute_result"
    }
   ],
   "source": [
    "df.groupby('country').count()"
   ]
  },
  {
   "cell_type": "code",
   "execution_count": 17,
   "metadata": {
    "collapsed": false
   },
   "outputs": [
    {
     "data": {
      "text/html": [
       "<div>\n",
       "<table border=\"1\" class=\"dataframe\">\n",
       "  <thead>\n",
       "    <tr style=\"text-align: right;\">\n",
       "      <th></th>\n",
       "      <th>count</th>\n",
       "      <th>mean</th>\n",
       "      <th>std</th>\n",
       "      <th>min</th>\n",
       "      <th>25%</th>\n",
       "      <th>50%</th>\n",
       "      <th>75%</th>\n",
       "      <th>max</th>\n",
       "    </tr>\n",
       "  </thead>\n",
       "  <tbody>\n",
       "    <tr>\n",
       "      <th>num_claims</th>\n",
       "      <td>6488250.0</td>\n",
       "      <td>14.143219</td>\n",
       "      <td>12.004228</td>\n",
       "      <td>0.0</td>\n",
       "      <td>6.0</td>\n",
       "      <td>12.0</td>\n",
       "      <td>20.0</td>\n",
       "      <td>887.0</td>\n",
       "    </tr>\n",
       "    <tr>\n",
       "      <th>back_citation</th>\n",
       "      <td>6488250.0</td>\n",
       "      <td>7.257143</td>\n",
       "      <td>25.692059</td>\n",
       "      <td>0.0</td>\n",
       "      <td>0.0</td>\n",
       "      <td>0.0</td>\n",
       "      <td>5.0</td>\n",
       "      <td>3433.0</td>\n",
       "    </tr>\n",
       "    <tr>\n",
       "      <th>parent_back_citation</th>\n",
       "      <td>6488250.0</td>\n",
       "      <td>100.546808</td>\n",
       "      <td>1066.788244</td>\n",
       "      <td>0.0</td>\n",
       "      <td>0.0</td>\n",
       "      <td>0.0</td>\n",
       "      <td>13.0</td>\n",
       "      <td>156715.0</td>\n",
       "    </tr>\n",
       "    <tr>\n",
       "      <th>year</th>\n",
       "      <td>6488250.0</td>\n",
       "      <td>2002.723440</td>\n",
       "      <td>11.322681</td>\n",
       "      <td>1976.0</td>\n",
       "      <td>1995.0</td>\n",
       "      <td>2005.0</td>\n",
       "      <td>2013.0</td>\n",
       "      <td>2017.0</td>\n",
       "    </tr>\n",
       "    <tr>\n",
       "      <th>month</th>\n",
       "      <td>6488250.0</td>\n",
       "      <td>6.590932</td>\n",
       "      <td>3.402092</td>\n",
       "      <td>1.0</td>\n",
       "      <td>4.0</td>\n",
       "      <td>7.0</td>\n",
       "      <td>10.0</td>\n",
       "      <td>12.0</td>\n",
       "    </tr>\n",
       "    <tr>\n",
       "      <th>day</th>\n",
       "      <td>6488250.0</td>\n",
       "      <td>15.642284</td>\n",
       "      <td>8.827000</td>\n",
       "      <td>1.0</td>\n",
       "      <td>8.0</td>\n",
       "      <td>16.0</td>\n",
       "      <td>23.0</td>\n",
       "      <td>31.0</td>\n",
       "    </tr>\n",
       "  </tbody>\n",
       "</table>\n",
       "</div>"
      ],
      "text/plain": [
       "                          count         mean          std     min     25%  \\\n",
       "num_claims            6488250.0    14.143219    12.004228     0.0     6.0   \n",
       "back_citation         6488250.0     7.257143    25.692059     0.0     0.0   \n",
       "parent_back_citation  6488250.0   100.546808  1066.788244     0.0     0.0   \n",
       "year                  6488250.0  2002.723440    11.322681  1976.0  1995.0   \n",
       "month                 6488250.0     6.590932     3.402092     1.0     4.0   \n",
       "day                   6488250.0    15.642284     8.827000     1.0     8.0   \n",
       "\n",
       "                         50%     75%       max  \n",
       "num_claims              12.0    20.0     887.0  \n",
       "back_citation            0.0     5.0    3433.0  \n",
       "parent_back_citation     0.0    13.0  156715.0  \n",
       "year                  2005.0  2013.0    2017.0  \n",
       "month                    7.0    10.0      12.0  \n",
       "day                     16.0    23.0      31.0  "
      ]
     },
     "execution_count": 17,
     "metadata": {},
     "output_type": "execute_result"
    }
   ],
   "source": [
    "df.describe().transpose()"
   ]
  },
  {
   "cell_type": "code",
   "execution_count": 18,
   "metadata": {
    "collapsed": false
   },
   "outputs": [
    {
     "data": {
      "text/plain": [
       "type                     object\n",
       "country                  object\n",
       "kind                     object\n",
       "num_claims              float64\n",
       "back_citation           float64\n",
       "parent_back_citation    float64\n",
       "year                    float64\n",
       "month                   float64\n",
       "day                     float64\n",
       "dtype: object"
      ]
     },
     "execution_count": 18,
     "metadata": {},
     "output_type": "execute_result"
    }
   ],
   "source": [
    "df.dtypes"
   ]
  },
  {
   "cell_type": "code",
   "execution_count": 19,
   "metadata": {
    "collapsed": false
   },
   "outputs": [
    {
     "name": "stdout",
     "output_type": "stream",
     "text": [
      "Total number of observations and attributes\n",
      "(6488250, 9)\n",
      "Number of numerical attributes: 6\n",
      "Number of non-numerical attributes: 3\n"
     ]
    }
   ],
   "source": [
    "#normalization\n",
    "df=normalize(df)"
   ]
  },
  {
   "cell_type": "code",
   "execution_count": 20,
   "metadata": {
    "collapsed": false
   },
   "outputs": [
    {
     "data": {
      "text/plain": [
       "(6488250, 28)"
      ]
     },
     "execution_count": 20,
     "metadata": {},
     "output_type": "execute_result"
    }
   ],
   "source": [
    "df.shape"
   ]
  },
  {
   "cell_type": "code",
   "execution_count": null,
   "metadata": {
    "collapsed": true
   },
   "outputs": [],
   "source": [
    "df.describe().transpose()"
   ]
  },
  {
   "cell_type": "code",
   "execution_count": 1,
   "metadata": {
    "collapsed": false
   },
   "outputs": [
    {
     "ename": "NameError",
     "evalue": "name 'df' is not defined",
     "output_type": "error",
     "traceback": [
      "\u001b[0;31m---------------------------------------------------------------------------\u001b[0m",
      "\u001b[0;31mNameError\u001b[0m                                 Traceback (most recent call last)",
      "\u001b[0;32m<ipython-input-1-485fdbb69896>\u001b[0m in \u001b[0;36m<module>\u001b[0;34m()\u001b[0m\n\u001b[0;32m----> 1\u001b[0;31m \u001b[0mdf\u001b[0m\u001b[0;34m.\u001b[0m\u001b[0mvar\u001b[0m\u001b[0;34m(\u001b[0m\u001b[0;34m)\u001b[0m\u001b[0;34m.\u001b[0m\u001b[0msort_values\u001b[0m\u001b[0;34m\u001b[0m\u001b[0m\n\u001b[0m",
      "\u001b[0;31mNameError\u001b[0m: name 'df' is not defined"
     ]
    }
   ],
   "source": [
    "df.var().sort_values()"
   ]
  },
  {
   "cell_type": "code",
   "execution_count": 21,
   "metadata": {
    "collapsed": true
   },
   "outputs": [],
   "source": [
    "#drop low variance columns\n",
    "#it calculates only for numerical attribues\n",
    "myY = df.as_matrix(columns=['back_citation'])\n",
    "\n",
    "treshold=0.001\n",
    "columns=(df.var()>treshold)\n",
    "df=df[columns.index[columns]]"
   ]
  },
  {
   "cell_type": "code",
   "execution_count": 22,
   "metadata": {
    "collapsed": false
   },
   "outputs": [
    {
     "data": {
      "text/plain": [
       "(6488250, 10)"
      ]
     },
     "execution_count": 22,
     "metadata": {},
     "output_type": "execute_result"
    }
   ],
   "source": [
    "df.shape"
   ]
  },
  {
   "cell_type": "code",
   "execution_count": 23,
   "metadata": {
    "collapsed": false
   },
   "outputs": [
    {
     "data": {
      "text/plain": [
       "array([[<matplotlib.axes._subplots.AxesSubplot object at 0x7f734e8b8c18>,\n",
       "        <matplotlib.axes._subplots.AxesSubplot object at 0x7f738e6487b8>,\n",
       "        <matplotlib.axes._subplots.AxesSubplot object at 0x7f7351235588>],\n",
       "       [<matplotlib.axes._subplots.AxesSubplot object at 0x7f7355662470>,\n",
       "        <matplotlib.axes._subplots.AxesSubplot object at 0x7f735399cc88>,\n",
       "        <matplotlib.axes._subplots.AxesSubplot object at 0x7f736dcc42b0>],\n",
       "       [<matplotlib.axes._subplots.AxesSubplot object at 0x7f736db20dd8>,\n",
       "        <matplotlib.axes._subplots.AxesSubplot object at 0x7f73505b5fd0>,\n",
       "        <matplotlib.axes._subplots.AxesSubplot object at 0x7f7354ac1320>],\n",
       "       [<matplotlib.axes._subplots.AxesSubplot object at 0x7f73508cbc18>,\n",
       "        <matplotlib.axes._subplots.AxesSubplot object at 0x7f73557f2f28>,\n",
       "        <matplotlib.axes._subplots.AxesSubplot object at 0x7f737a6c0a90>]], dtype=object)"
      ]
     },
     "execution_count": 23,
     "metadata": {},
     "output_type": "execute_result"
    },
    {
     "data": {
      "image/png": "[encoded data removed]",
      "text/plain": [
       "<matplotlib.figure.Figure at 0x7f734dada080>"
      ]
     },
     "metadata": {},
     "output_type": "display_data"
    }
   ],
   "source": [
    "df.hist()"
   ]
  },
  {
   "cell_type": "code",
   "execution_count": 24,
   "metadata": {
    "collapsed": false
   },
   "outputs": [
    {
     "name": "stderr",
     "output_type": "stream",
     "text": [
      "/home/applications/anaconda3/4.2.0/lib/python3.5/site-packages/sklearn/model_selection/_split.py:2010: FutureWarning: From version 0.21, test_size will always complement train_size unless both are specified.\n",
      "  FutureWarning)\n"
     ]
    }
   ],
   "source": [
    "# List of IVs\n",
    "chosenColumns=df.columns.values.tolist()\n",
    "len(chosenColumns)\n",
    "\n",
    "# chosenColumns.remove('back_citation')\n",
    "# len(chosenColumns)\n",
    "\n",
    "# chosenColumns.remove(['parent_back_citation'])\n",
    "# len(chosenColumns)\n",
    "\n",
    "# chosenColumns.rmove('citation_bi')\n",
    "# chosenColumns.remove('log_back_cit')\n",
    "\n",
    "myX = df.as_matrix(columns=chosenColumns)\n",
    "\n",
    "xTrain, xTest, yTrain, yTest = train_test_split(myX, myY, train_size=0.7, random_state=3) \n",
    "testSize = yTest.shape[0]\n",
    "trainSize = yTrain.shape[0]"
   ]
  },
  {
   "cell_type": "code",
   "execution_count": 25,
   "metadata": {
    "collapsed": false
   },
   "outputs": [],
   "source": [
    "# best_num_attr(myX, xTrain, xTest, yTrain, yTest, chosenColumns, regtype='linear')"
   ]
  },
  {
   "cell_type": "code",
   "execution_count": 26,
   "metadata": {
    "collapsed": false
   },
   "outputs": [
    {
     "data": {
      "text/plain": [
       "year            0.076266\n",
       "month           0.095655\n",
       "day             0.086573\n",
       "type_design     0.079243\n",
       "type_utility    0.084973\n",
       "kind_A          0.232726\n",
       "kind_B1         0.079890\n",
       "kind_B2         0.247511\n",
       "kind_S          0.031258\n",
       "kind_S1         0.051504\n",
       "dtype: float64"
      ]
     },
     "execution_count": 26,
     "metadata": {},
     "output_type": "execute_result"
    }
   ],
   "source": [
    "df.var().sort_values()"
   ]
  },
  {
   "cell_type": "code",
   "execution_count": 27,
   "metadata": {
    "collapsed": false
   },
   "outputs": [
    {
     "name": "stderr",
     "output_type": "stream",
     "text": [
      "/home/applications/anaconda3/4.2.0/lib/python3.5/site-packages/sklearn/utils/validation.py:547: DataConversionWarning: A column-vector y was passed when a 1d array was expected. Please change the shape of y to (n_samples, ), for example using ravel().\n",
      "  y = column_or_1d(y, warn=True)\n"
     ]
    },
    {
     "data": {
      "text/plain": [
       "array([        inf,  49.6439029,   0.5398429,         inf,         inf,\n",
       "               inf,         inf,         inf,         inf,         inf])"
      ]
     },
     "execution_count": 27,
     "metadata": {},
     "output_type": "execute_result"
    }
   ],
   "source": [
    "selector = SelectKBest(f_classif, k=4) #initialize \n",
    "selector.fit(myX, myY) #fit\n",
    "scores=selector.pvalues_\n",
    "scores = -np.log10(selector.pvalues_) #transform pvalues (why?)\n",
    "# scores /= scores.max() #normalize \n",
    "\n",
    "scores\n",
    "# plot.bar(myX - .45, scores, width=.2,\n",
    "#         label=r'Univariate score ($-Log(p_{value})$)', color='darkorange',\n",
    "#         edgecolor='black')"
   ]
  },
  {
   "cell_type": "code",
   "execution_count": 28,
   "metadata": {
    "collapsed": false
   },
   "outputs": [
    {
     "data": {
      "text/plain": [
       "array([  0.00000000e+00,   2.27037242e-50,   2.88507495e-01,\n",
       "         0.00000000e+00,   0.00000000e+00,   0.00000000e+00,\n",
       "         0.00000000e+00,   0.00000000e+00,   0.00000000e+00,\n",
       "         0.00000000e+00])"
      ]
     },
     "execution_count": 28,
     "metadata": {},
     "output_type": "execute_result"
    }
   ],
   "source": [
    "selector.pvalues_"
   ]
  },
  {
   "cell_type": "code",
   "execution_count": 29,
   "metadata": {
    "collapsed": true
   },
   "outputs": [],
   "source": []
  }
 ],
 "metadata": {
  "anaconda-cloud": {},
  "kernelspec": {
   "display_name": "Python [default]",
   "language": "python",
   "name": "python3"
  },
  "language_info": {
   "codemirror_mode": {
    "name": "ipython",
    "version": 3
   },
   "file_extension": ".py",
   "mimetype": "text/x-python",
   "name": "python",
   "nbconvert_exporter": "python",
   "pygments_lexer": "ipython3",
   "version": "3.5.2"
  }
 },
 "nbformat": 4,
 "nbformat_minor": 1
}
