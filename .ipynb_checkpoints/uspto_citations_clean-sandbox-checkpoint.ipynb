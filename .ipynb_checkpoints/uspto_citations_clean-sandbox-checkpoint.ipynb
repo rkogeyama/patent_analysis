{
 "cells": [
  {
   "cell_type": "code",
   "execution_count": 1,
   "metadata": {
    "collapsed": true
   },
   "outputs": [],
   "source": [
    "# Oct 03 2019\n",
    "# New York\n",
    "\n",
    "# The function group_values do not work because it only counts the occurrences of the patents\n",
    "# The correction is to groupby and sum\n",
    "# Histograms of forward and should be different, but the number of occurrences should be the same\n",
    "# Also, averages should be the same (avg_fwr==avg_back=sum(x)/num(x) and standard deviations should be different (due sum(x^2)/num)\n",
    "\n",
    "# Oct 02 2019\n",
    "# Syracuse\n",
    "\n",
    "#This is a sandbox version for the citations update\n",
    "#I identified an issue with the citations, and now I am working in a new citations dataset\n",
    "#I included backward citations and I am planning some basic stats \n",
    "\n",
    "\n",
    "# Sep 28 2019\n",
    "# Miami\n",
    "\n",
    "# Original:testing_csv_chunk_read-Copy1.ipynb\n",
    "\n",
    "# When working on the determinants of patent citation, I found a weird concentration of 14 citations in patents from 2003\n",
    "# Most likely there is some issue with the 'join' statement\n",
    "# This code is helping me debbuggin the issue\n",
    "# The idea is to isolate the patents who had this number of citations\n",
    "# To do that, I face an issue of memory size, the file is too large and memory runs out\n",
    "# I use the iterator option from pandas.read_csv, what gives me an iterator in the place of the dataframe\n",
    "\n",
    "\n",
    "# update: as I read the files, I find many whitespaces\n",
    "# usually i would clean with .str.strip(), but I am using an iterator.\n",
    "\n",
    "# Ha um problema no arquivo de citacoes. Estou reescrevendo o codigo que junta as citacoes a tabela base de patentes\n",
    "# Estou tambem acrescentando backward citation - a intencao eh usar da mesma forma que claims e tambem para salientar o significado das forward citations\n",
    "# Porem carregar o arquivo inteiro na memoria nao esta funcionado\n",
    "\n",
    "# Quando o Marcelo escreveu o codig lxml, tudo foi feito com iterators\n",
    "# Nao estou conseguindo testar por algum problema no servidor\n",
    "\n",
    "# Assim, o que vou fazer agora eh selecionar um chunk para trabalhar localmente\n"
   ]
  },
  {
   "cell_type": "code",
   "execution_count": 2,
   "metadata": {
    "collapsed": true
   },
   "outputs": [],
   "source": [
    "import pandas as pd\n",
    "import random\n",
    "from collections import Counter\n",
    "import matplotlib.pyplot as plt\n",
    "# import json\n",
    "\n",
    "# import csv"
   ]
  },
  {
   "cell_type": "code",
   "execution_count": 3,
   "metadata": {
    "collapsed": false
   },
   "outputs": [],
   "source": [
    "# class ItemLoader(ItemLoader):\n",
    "\n",
    "#     default_output_processor = MapCompose(unicode.strip)"
   ]
  },
  {
   "cell_type": "code",
   "execution_count": 4,
   "metadata": {
    "collapsed": true
   },
   "outputs": [],
   "source": [
    "%matplotlib inline"
   ]
  },
  {
   "cell_type": "code",
   "execution_count": 5,
   "metadata": {
    "collapsed": true
   },
   "outputs": [],
   "source": [
    "fname = r'/home/rkogeyam/PATENT_CITATION/uspatentcitation.tsv'\n",
    "dst = '/home/rkogeyam/PATENT_CITATION/fwd_back_cit.csv'"
   ]
  },
  {
   "cell_type": "code",
   "execution_count": 6,
   "metadata": {
    "collapsed": false
   },
   "outputs": [],
   "source": [
    "# To run a sample\n",
    "\n",
    "# n = sum(1 for line in open(fname)) - 1 #number of records in file (excludes header)\n",
    "n=91867780"
   ]
  },
  {
   "cell_type": "code",
   "execution_count": 7,
   "metadata": {
    "collapsed": true
   },
   "outputs": [],
   "source": [
    "# s = 10000 #desired sample size\n",
    "# skip = sorted(random.sample(range(1,n+1),n-s)) #the 0-indexed header will not be included in the skip list\n",
    "# df = pd.read_csv(fname, skiprows=skip, sep='\\t', lineterminator='\\n', na_values='-')"
   ]
  },
  {
   "cell_type": "code",
   "execution_count": 8,
   "metadata": {
    "collapsed": false
   },
   "outputs": [],
   "source": [
    "# #To run complete\n",
    "df = pd.read_csv(fname, sep='\\t', lineterminator='\\n', na_values='-')\n",
    "# asg = pd.read_csv(r'/home/rkogeyam/PATENT_CITATION/uspatentcitation.tsv', sep='\\t', lineterminator='\\n', na_values='-')\n"
   ]
  },
  {
   "cell_type": "code",
   "execution_count": 9,
   "metadata": {
    "collapsed": false
   },
   "outputs": [
    {
     "data": {
      "text/html": [
       "<div>\n",
       "<table border=\"1\" class=\"dataframe\">\n",
       "  <thead>\n",
       "    <tr style=\"text-align: right;\">\n",
       "      <th></th>\n",
       "      <th>sequence</th>\n",
       "    </tr>\n",
       "  </thead>\n",
       "  <tbody>\n",
       "    <tr>\n",
       "      <th>count</th>\n",
       "      <td>5805.000000</td>\n",
       "    </tr>\n",
       "    <tr>\n",
       "      <th>mean</th>\n",
       "      <td>60.777261</td>\n",
       "    </tr>\n",
       "    <tr>\n",
       "      <th>std</th>\n",
       "      <td>151.162538</td>\n",
       "    </tr>\n",
       "    <tr>\n",
       "      <th>min</th>\n",
       "      <td>0.000000</td>\n",
       "    </tr>\n",
       "    <tr>\n",
       "      <th>25%</th>\n",
       "      <td>4.000000</td>\n",
       "    </tr>\n",
       "    <tr>\n",
       "      <th>50%</th>\n",
       "      <td>12.000000</td>\n",
       "    </tr>\n",
       "    <tr>\n",
       "      <th>75%</th>\n",
       "      <td>48.000000</td>\n",
       "    </tr>\n",
       "    <tr>\n",
       "      <th>max</th>\n",
       "      <td>2027.000000</td>\n",
       "    </tr>\n",
       "  </tbody>\n",
       "</table>\n",
       "</div>"
      ],
      "text/plain": [
       "          sequence\n",
       "count  5805.000000\n",
       "mean     60.777261\n",
       "std     151.162538\n",
       "min       0.000000\n",
       "25%       4.000000\n",
       "50%      12.000000\n",
       "75%      48.000000\n",
       "max    2027.000000"
      ]
     },
     "execution_count": 9,
     "metadata": {},
     "output_type": "execute_result"
    }
   ],
   "source": [
    "df.describe()"
   ]
  },
  {
   "cell_type": "code",
   "execution_count": 10,
   "metadata": {
    "collapsed": true
   },
   "outputs": [],
   "source": [
    "#stripping white spaces\n",
    "# df['patent_id'] = df1['patent_id'].str.strip()\n",
    "# df['citation_id'] = df1['citation_id'].str.strip()"
   ]
  },
  {
   "cell_type": "code",
   "execution_count": 11,
   "metadata": {
    "collapsed": true
   },
   "outputs": [],
   "source": [
    "# df1=df"
   ]
  },
  {
   "cell_type": "code",
   "execution_count": 12,
   "metadata": {
    "collapsed": false
   },
   "outputs": [
    {
     "ename": "TypeError",
     "evalue": "'tuple' object is not callable",
     "output_type": "error",
     "traceback": [
      "\u001b[0;31m---------------------------------------------------------------------------\u001b[0m",
      "\u001b[0;31mTypeError\u001b[0m                                 Traceback (most recent call last)",
      "\u001b[0;32m<ipython-input-12-72b44c061663>\u001b[0m in \u001b[0;36m<module>\u001b[0;34m()\u001b[0m\n\u001b[0;32m----> 1\u001b[0;31m \u001b[0mdf\u001b[0m\u001b[0;34m.\u001b[0m\u001b[0mshape\u001b[0m\u001b[0;34m(\u001b[0m\u001b[0;34m)\u001b[0m\u001b[0;34m\u001b[0m\u001b[0m\n\u001b[0m",
      "\u001b[0;31mTypeError\u001b[0m: 'tuple' object is not callable"
     ]
    }
   ],
   "source": [
    "df.shape()"
   ]
  },
  {
   "cell_type": "code",
   "execution_count": null,
   "metadata": {
    "collapsed": true
   },
   "outputs": [],
   "source": [
    "#stripping non desired characters\n",
    "df['patent_id'] = df['patent_id'].str.extract('([a-fA-F0-9]+)', expand=False)\n",
    "df['citation_id'] = df['citation_id'].str.extract('([a-fA-F0-9]+)', expand=False)\n",
    "# [a-fA-F0-9]"
   ]
  },
  {
   "cell_type": "code",
   "execution_count": null,
   "metadata": {
    "collapsed": true
   },
   "outputs": [],
   "source": [
    "df.shape()"
   ]
  },
  {
   "cell_type": "code",
   "execution_count": null,
   "metadata": {
    "collapsed": true
   },
   "outputs": [],
   "source": [
    "# ne = (df != df1).any(1)\n",
    "# ne_stacked = (df != df1).stack()\n",
    "# changed = ne_stacked[ne_stacked]\n",
    "# changed.index.names = ['id', 'col']\n",
    "# changed"
   ]
  },
  {
   "cell_type": "code",
   "execution_count": null,
   "metadata": {
    "collapsed": false
   },
   "outputs": [],
   "source": [
    "df.head()"
   ]
  },
  {
   "cell_type": "code",
   "execution_count": null,
   "metadata": {
    "collapsed": true
   },
   "outputs": [],
   "source": [
    "df.tail()"
   ]
  },
  {
   "cell_type": "code",
   "execution_count": null,
   "metadata": {
    "collapsed": true
   },
   "outputs": [],
   "source": [
    "# df1.head()"
   ]
  },
  {
   "cell_type": "code",
   "execution_count": null,
   "metadata": {
    "collapsed": true
   },
   "outputs": [],
   "source": [
    "# df1.tail()"
   ]
  },
  {
   "cell_type": "code",
   "execution_count": null,
   "metadata": {
    "collapsed": false
   },
   "outputs": [],
   "source": [
    "forward_citation=df.groupby(['patent_id']).sum()"
   ]
  },
  {
   "cell_type": "code",
   "execution_count": null,
   "metadata": {
    "collapsed": true
   },
   "outputs": [],
   "source": [
    "forward_citation=forward_citation.fillna(0)"
   ]
  },
  {
   "cell_type": "code",
   "execution_count": null,
   "metadata": {
    "collapsed": true
   },
   "outputs": [],
   "source": [
    "backward_citation=df.groupby(['citation_id']).sum()\n",
    "backward_citation=backward_citation.fillna(0)"
   ]
  },
  {
   "cell_type": "code",
   "execution_count": null,
   "metadata": {
    "collapsed": false
   },
   "outputs": [],
   "source": [
    "result = pd.concat([forward_citation, backward_citation], axis=1, join='outer')"
   ]
  },
  {
   "cell_type": "code",
   "execution_count": null,
   "metadata": {
    "collapsed": false
   },
   "outputs": [],
   "source": [
    "result.columns=['forward_citation', 'backward_citation']"
   ]
  },
  {
   "cell_type": "code",
   "execution_count": null,
   "metadata": {
    "collapsed": true
   },
   "outputs": [],
   "source": [
    "# result=result.fillna(0)"
   ]
  },
  {
   "cell_type": "code",
   "execution_count": null,
   "metadata": {
    "collapsed": false
   },
   "outputs": [],
   "source": [
    "result.head()"
   ]
  },
  {
   "cell_type": "code",
   "execution_count": null,
   "metadata": {
    "collapsed": false
   },
   "outputs": [],
   "source": [
    "result.describe()"
   ]
  },
  {
   "cell_type": "code",
   "execution_count": null,
   "metadata": {
    "collapsed": true
   },
   "outputs": [],
   "source": [
    "# df.to_csv(dst)"
   ]
  },
  {
   "cell_type": "code",
   "execution_count": null,
   "metadata": {
    "collapsed": false
   },
   "outputs": [],
   "source": [
    "plt.figure()\n",
    "result.hist()"
   ]
  },
  {
   "cell_type": "code",
   "execution_count": null,
   "metadata": {
    "collapsed": false
   },
   "outputs": [],
   "source": [
    "result.boxplot()"
   ]
  },
  {
   "cell_type": "code",
   "execution_count": null,
   "metadata": {
    "collapsed": true
   },
   "outputs": [],
   "source": [
    "result.to_csv(dst)"
   ]
  }
 ],
 "metadata": {
  "anaconda-cloud": {},
  "kernelspec": {
   "display_name": "Python [default]",
   "language": "python",
   "name": "python3"
  },
  "language_info": {
   "codemirror_mode": {
    "name": "ipython",
    "version": 3
   },
   "file_extension": ".py",
   "mimetype": "text/x-python",
   "name": "python",
   "nbconvert_exporter": "python",
   "pygments_lexer": "ipython3",
   "version": "3.5.2"
  }
 },
 "nbformat": 4,
 "nbformat_minor": 1
}
