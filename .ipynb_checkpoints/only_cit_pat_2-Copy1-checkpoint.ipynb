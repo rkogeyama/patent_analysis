{
 "cells": [
  {
   "cell_type": "code",
   "execution_count": 1,
   "metadata": {
    "collapsed": true
   },
   "outputs": [],
   "source": [
    "# February 11st, 2020\n",
    "# Script to draw Originality and generality from different Classification systems"
   ]
  },
  {
   "cell_type": "code",
   "execution_count": 2,
   "metadata": {
    "collapsed": false
   },
   "outputs": [],
   "source": [
    "import pandas as pd\n",
    "import numpy as np\n",
    "# import itertools\n",
    "# import seaborn as sns\n",
    "# import networkx as nx\n",
    "# import csv\n",
    "# from graphviz import Digraph\n",
    "# import igraph\n",
    "# import matplotlib.pyplot as plt\n",
    "# import datetime\n",
    "\n",
    "\n",
    "# import sys\n",
    "# sys.path.append('/home/rkogeyam/scripts/')\n",
    "# sys.path.append('scripts/')\n",
    "\n",
    "# from determinants_scripts import classes, dtypes"
   ]
  },
  {
   "cell_type": "code",
   "execution_count": 3,
   "metadata": {
    "collapsed": false
   },
   "outputs": [],
   "source": [
    "contract='data/patent_contractawardnumber.tsv'\n",
    "pat_gov='data/patent_govintorg.tsv'\n",
    "gov_org='data/government_organizationt.tsv'\n",
    "\n",
    "# df_contract=pd.read_csv(contract, chunksize=1000)\n",
    "# df_pat_govt=pd.read_csv(pat_gov, chunksize=1000)\n",
    "# df_gov_org=pd.read_csv(gov_org, chunksize=1000)\n",
    "\n",
    "\n",
    "# names=['index', 'id', 'cit_received']\n",
    "# usecols=['id', 'cit_received']\n",
    "# dtype={'main_group':'int64', 'subgroup':'int64'}\n",
    "# cols=['patent_id','citation_id', 'cit_delay']\n",
    "\n",
    "# usecols=['patent_id', 'citation_id']|\n",
    "\n",
    "# df_pat=pd.read_csv(pat, index_col='id', chunksize=10000)\n",
    "\n",
    "file='data/cleanuspatentcitation.csv'\n",
    "# df=pd.read_csv(file, chunksize=1000)\n",
    "\n",
    "usecols=['patent_id', 'citation_id']\n",
    "df_cit=pd.read_csv(file, usecols=usecols, index_col='patent_id', chunksize=1)\n",
    "# df=pd.read_csv(file)\n",
    "\n",
    "# df_asg=pd.read_csv(asg, sep='\\t', chunksize=10000)\n",
    "\n",
    "# df_cit=pd.read_csv(cit, usecols=usecols, chunksize=10000)\n",
    "# \n",
    "# df=pd.read_csv(src, dtype=dtypes, usecols=usecols, parse_dates=['date'], index_col='id', chunksize=10000)\n",
    "# df = pd.read_csv(src, chunksize=1000, usecols=usecols, dtypes=dtypes, parse_dates=['date'])\n",
    "\n",
    "# df = pd.read_csv(src, chunksize=1000,  parse_dates=['date'], error_bad_lines=False)\n",
    "# df = pd.read_csv(src, usecols=usecols, names=names, chunksize=1000, dtype=dtype, index_col='id')\n",
    "# df=pd.read_csv(src, usecols=[0, 1, 3], dtype={0:object}, index_col=0, chunksize=1000)"
   ]
  },
  {
   "cell_type": "code",
   "execution_count": null,
   "metadata": {
    "collapsed": true
   },
   "outputs": [],
   "source": [
    "%matplotlib inline"
   ]
  },
  {
   "cell_type": "code",
   "execution_count": 9,
   "metadata": {
    "collapsed": false
   },
   "outputs": [],
   "source": [
    "with open(\"data/citpatonly.csv\", \"a\") as myfile:\n",
    "\n",
    "    while df_cit:\n",
    "        try:\n",
    "            output=[]\n",
    "            myfile.write(df_cit.get_chunk())\n",
    "        except:\n",
    "            break"
   ]
  },
  {
   "cell_type": "code",
   "execution_count": null,
   "metadata": {
    "collapsed": true
   },
   "outputs": [],
   "source": [
    "df_cit.to_csv(dst)"
   ]
  }
 ],
 "metadata": {
  "anaconda-cloud": {},
  "kernelspec": {
   "display_name": "Python [conda env:4.2.0]",
   "language": "python",
   "name": "conda-env-4.2.0-py"
  },
  "language_info": {
   "codemirror_mode": {
    "name": "ipython",
    "version": 3
   },
   "file_extension": ".py",
   "mimetype": "text/x-python",
   "name": "python",
   "nbconvert_exporter": "python",
   "pygments_lexer": "ipython3",
   "version": "3.5.2"
  }
 },
 "nbformat": 4,
 "nbformat_minor": 1
}
