{
 "cells": [
  {
   "cell_type": "code",
   "execution_count": 1,
   "metadata": {
    "collapsed": true
   },
   "outputs": [],
   "source": [
    "# Sample USPTO to test coding with limited memory\n",
    "\n",
    "# 09-23-19\n",
    "# Marcelo sugeriu Reservoir Sampling\n",
    "\n",
    "# 09-18-19\n",
    "# Renato Kogeyama"
   ]
  },
  {
   "cell_type": "code",
   "execution_count": 2,
   "metadata": {
    "collapsed": true
   },
   "outputs": [],
   "source": [
    "import csv\n",
    "import pandas as pd\n",
    "import random\n",
    "import itertools\n",
    "import sys\n",
    "import numpy as np\n",
    "\n",
    "\n",
    "from sklearn import linear_model\n",
    "from sklearn import naive_bayes\n",
    "from sklearn.neighbors import KNeighborsClassifier\n",
    "from sklearn.model_selection import train_test_split\n",
    "import matplotlib.pyplot as plot\n",
    "from sklearn.metrics import roc_curve, auc\n",
    "from scipy import stats\n",
    "import datetime"
   ]
  },
  {
   "cell_type": "code",
   "execution_count": 3,
   "metadata": {
    "collapsed": true
   },
   "outputs": [],
   "source": [
    "# citation_file=r\"patent_citation.csv\"\n",
    "# patents_file=\"patent.csv\"\n",
    "fname='df_w_pat_cit_190926.csv'\n",
    "sample_df='sample_df_w_pat_cit_190926.csv'"
   ]
  },
  {
   "cell_type": "code",
   "execution_count": 4,
   "metadata": {
    "collapsed": false
   },
   "outputs": [],
   "source": [
    "# # dataset sample\n",
    "# # inverte a logica: ao inves de dizer quais linhas deseja, indica quais nao deseja ver (skip)\n",
    "# # informa essas linhas ao pd.read_csv\n",
    "\n",
    "# %time\n",
    "n = sum(1 for line in open(fname)) - 1 #number of records in file (excludes header)"
   ]
  },
  {
   "cell_type": "code",
   "execution_count": 5,
   "metadata": {
    "collapsed": false
   },
   "outputs": [],
   "source": [
    "s = 100000 #desired sample size\n",
    "skip = sorted(random.sample(range(1,n+1),n-s)) #the 0-indexed header will not be included in the skip list\n",
    "df = pd.read_csv(fname, skiprows=skip, dtype={\"id\": object, \"number\": object})"
   ]
  },
  {
   "cell_type": "code",
   "execution_count": 6,
   "metadata": {
    "collapsed": false
   },
   "outputs": [
    {
     "name": "stderr",
     "output_type": "stream",
     "text": [
      "/home/applications/anaconda3/4.2.0/lib/python3.5/site-packages/IPython/core/interactiveshell.py:2717: DtypeWarning: Columns (0,2) have mixed types. Specify dtype option on import or set low_memory=False.\n",
      "  interactivity=interactivity, compiler=compiler, result=result)\n"
     ]
    }
   ],
   "source": [
    "# para quando rodar no servidor\n",
    "# df = pd.read_csv(fname)"
   ]
  },
  {
   "cell_type": "code",
   "execution_count": 7,
   "metadata": {
    "collapsed": false
   },
   "outputs": [
    {
     "data": {
      "text/plain": [
       "Index(['id', 'type', 'number', 'country', 'date', 'abstract', 'title', 'kind',\n",
       "       'num_claims', 'filename', 'citation_id', 'year', 'month', 'day'],\n",
       "      dtype='object')"
      ]
     },
     "execution_count": 7,
     "metadata": {},
     "output_type": "execute_result"
    }
   ],
   "source": [
    "df.columns\n",
    "#2001 Hall, Jaffe and Trajtenberg restrict the analysis to type:utility only. \n",
    "#They choose utility because is the vast majority of the papaents issued."
   ]
  },
  {
   "cell_type": "code",
   "execution_count": 8,
   "metadata": {
    "collapsed": true
   },
   "outputs": [],
   "source": [
    "# gera um output binario\n",
    "\n",
    "df['citation_bi']=0\n",
    "df.loc[df.citation_id>0, 'citation_bi']=1\n"
   ]
  },
  {
   "cell_type": "code",
   "execution_count": 9,
   "metadata": {
    "collapsed": false
   },
   "outputs": [
    {
     "name": "stdout",
     "output_type": "stream",
     "text": [
      "# of rows: 5896209\n",
      "# of columns: 15\n"
     ]
    }
   ],
   "source": [
    "# tamanho do dataset\n",
    "\n",
    "nrow = len(df)\n",
    "ncol = len(df.columns)\n",
    "\n",
    "print('# of rows:', nrow)\n",
    "print('# of columns:', ncol)"
   ]
  },
  {
   "cell_type": "code",
   "execution_count": 1,
   "metadata": {
    "collapsed": false
   },
   "outputs": [
    {
     "ename": "NameError",
     "evalue": "name 'df3' is not defined",
     "output_type": "error",
     "traceback": [
      "\u001b[0;31m---------------------------------------------------------------------------\u001b[0m",
      "\u001b[0;31mNameError\u001b[0m                                 Traceback (most recent call last)",
      "\u001b[0;32m<ipython-input-1-78b895d2bc51>\u001b[0m in \u001b[0;36m<module>\u001b[0;34m()\u001b[0m\n\u001b[0;32m----> 1\u001b[0;31m \u001b[0mdf3\u001b[0m\u001b[0;34m.\u001b[0m\u001b[0mgroupby\u001b[0m\u001b[0;34m(\u001b[0m\u001b[0mdf3\u001b[0m\u001b[0;34m.\u001b[0m\u001b[0myear\u001b[0m\u001b[0;34m)\u001b[0m\u001b[0;34m.\u001b[0m\u001b[0mmean\u001b[0m\u001b[0;34m(\u001b[0m\u001b[0;34m)\u001b[0m\u001b[0;34m\u001b[0m\u001b[0m\n\u001b[0m",
      "\u001b[0;31mNameError\u001b[0m: name 'df3' is not defined"
     ]
    }
   ],
   "source": []
  },
  {
   "cell_type": "code",
   "execution_count": 10,
   "metadata": {
    "collapsed": false
   },
   "outputs": [
    {
     "data": {
      "text/plain": [
       "(5781354, 15)"
      ]
     },
     "execution_count": 10,
     "metadata": {},
     "output_type": "execute_result"
    }
   ],
   "source": [
    "# df3 - retirada dos outliers\n",
    "\n",
    "df3=df\n",
    "\n",
    "# preparacao para retirar outliers\n",
    "# mean=df3.mean(axis=0)\n",
    "# std_dev=df3.std(axis=0)\n",
    "\n",
    "# threshold=3*std_dev.citation_id\n",
    "# threshold=3*std_dev\n",
    "\n",
    "df3=df3[df3.citation_id-df3['citation_id'].mean()<df3['citation_id'].std()*3]\n",
    "df3=df3[df3.num_claims-df3['num_claims'].mean()<df3['num_claims'].std()*3]\n",
    "\n",
    "df3.shape"
   ]
  },
  {
   "cell_type": "code",
   "execution_count": null,
   "metadata": {
    "collapsed": true
   },
   "outputs": [],
   "source": [
    "df3.groupby(df3.year).mean()"
   ]
  },
  {
   "cell_type": "code",
   "execution_count": 11,
   "metadata": {
    "collapsed": false
   },
   "outputs": [],
   "source": [
    "# converte categorias em dummies\n",
    "\n",
    "df3=pd.get_dummies(df3, columns=['type', 'kind', 'country'])"
   ]
  },
  {
   "cell_type": "code",
   "execution_count": 12,
   "metadata": {
    "collapsed": false
   },
   "outputs": [
    {
     "name": "stdout",
     "output_type": "stream",
     "text": [
      "id | 5781354 | object\n",
      "number | 5781354 | object\n",
      "date | 2216 | object\n",
      "abstract | 5236374 | object\n",
      "title | 4540959 | object\n",
      "num_claims | 51 | float64\n",
      "filename | 2191 | object\n",
      "citation_id | 17 | float64\n",
      "year | 42 | int64\n",
      "month | 12 | int64\n",
      "day | 31 | int64\n",
      "citation_bi | 2 | int64\n",
      "type_TVPP | 2 | float64\n",
      "type_design | 2 | float64\n",
      "type_plant | 2 | float64\n",
      "type_reissue | 2 | float64\n",
      "type_statutory invention registration | 2 | float64\n",
      "type_utility | 2 | float64\n",
      "kind_A | 2 | float64\n",
      "kind_B1 | 2 | float64\n",
      "kind_B2 | 2 | float64\n",
      "kind_E | 2 | float64\n",
      "kind_E1 | 2 | float64\n",
      "kind_H | 2 | float64\n",
      "kind_H1 | 2 | float64\n",
      "kind_I5 | 2 | float64\n",
      "kind_P | 2 | float64\n",
      "kind_P2 | 2 | float64\n",
      "kind_P3 | 2 | float64\n",
      "kind_S | 2 | float64\n",
      "country_US | 1 | float64\n"
     ]
    }
   ],
   "source": [
    "# Check the Dataset\n",
    "def uniqueColValues(auxdf):\n",
    "    for column in auxdf:\n",
    "        print(\"{} | {} | {}\".format(\n",
    "            auxdf[column].name, len(auxdf[column].unique()), auxdf[column].dtype\n",
    "        ))\n",
    "        \n",
    "uniqueColValues(df3)"
   ]
  },
  {
   "cell_type": "code",
   "execution_count": 13,
   "metadata": {
    "collapsed": false
   },
   "outputs": [],
   "source": [
    "#exibe os graficos\n",
    "%matplotlib inline \n"
   ]
  },
  {
   "cell_type": "code",
   "execution_count": 14,
   "metadata": {
    "collapsed": false
   },
   "outputs": [
    {
     "data": {
      "text/plain": [
       "kind\n",
       "A     2391229\n",
       "B1     566609\n",
       "B2    2894183\n",
       "E        8684\n",
       "E1       8699\n",
       "H        1980\n",
       "H1        264\n",
       "I5          3\n",
       "P        8282\n",
       "P2      11261\n",
       "P3       4993\n",
       "S          22\n",
       "Name: id, dtype: int64"
      ]
     },
     "execution_count": 14,
     "metadata": {},
     "output_type": "execute_result"
    }
   ],
   "source": [
    "df.groupby(df.kind).count().id"
   ]
  },
  {
   "cell_type": "code",
   "execution_count": 15,
   "metadata": {
    "collapsed": false
   },
   "outputs": [],
   "source": [
    "values=list(df.groupby(df.kind).count().id)"
   ]
  },
  {
   "cell_type": "code",
   "execution_count": 16,
   "metadata": {
    "collapsed": false
   },
   "outputs": [
    {
     "data": {
      "text/plain": [
       "[2391229, 566609, 2894183, 8684, 8699, 1980, 264, 3, 8282, 11261, 4993, 22]"
      ]
     },
     "execution_count": 16,
     "metadata": {},
     "output_type": "execute_result"
    }
   ],
   "source": [
    "values"
   ]
  },
  {
   "cell_type": "code",
   "execution_count": 17,
   "metadata": {
    "collapsed": false,
    "scrolled": true
   },
   "outputs": [
    {
     "data": {
      "image/png": "[encoded data removed]",
      "text/plain": [
       "<matplotlib.figure.Figure at 0x7f0c4b6520b8>"
      ]
     },
     "metadata": {},
     "output_type": "display_data"
    }
   ],
   "source": [
    "plot.figure(figsize=(14,10)) # You can think of the figure object as a canvas that holds all the subplots and other plot elements inside it.\n",
    "\n",
    "plot.subplot(3, 4, 1)\n",
    "plot.title('# of citations \\n with outliers')\n",
    "plot.xlabel('citations') \n",
    "plot.ylabel('claims') \n",
    "plot.scatter(df['citation_id'], df['num_claims'], s=12)\n",
    "\n",
    "plot.subplot(3, 4, 2)\n",
    "plot.title('# of citations \\n no outliers')\n",
    "plot.xlabel('citations') \n",
    "plot.ylabel('claims') \n",
    "plot.scatter(df3['citation_id'], df3['num_claims'], s=1)\n",
    "\n",
    "plot.subplot(3, 4, 3)\n",
    "plot.title('# of citations \\n histogram \\n no outliers')\n",
    "df3.citation_id.hist()\n",
    "\n",
    "plot.subplot(3, 4, 5)\n",
    "plot.title('Citation average per year \\n no outliers')\n",
    "plot.bar(df3.groupby(df3.year).mean().citation_id.index, df3.groupby(df3.year).mean().citation_id)\n",
    "\n",
    "plot.subplot(3, 4, 6)\n",
    "plot.title('Patent per year \\n no outliers')\n",
    "plot.bar(df3.groupby(df3.year).mean().citation_id.index, df3.groupby(df3.year).count().id)\n",
    "\n",
    "# per kind\n",
    "names=list(df.groupby(df.kind).count().id.keys())\n",
    "y_pos = np.arange(len(names))\n",
    "values=list(df.groupby(df.kind).count().id)\n",
    "\n",
    "plot.subplot(3, 4, 9)\n",
    "plot.bar(y_pos, values)\n",
    "plot.xticks(y_pos, names)\n",
    "plot.ylabel('#')\n",
    "plot.title('Patent per kind')\n",
    "\n",
    "# per type\n",
    "names=list(df.groupby(df.type).count().id.keys())\n",
    "y_pos = np.arange(len(names))\n",
    "values=list(df.groupby(df.type).count().id)\n",
    "\n",
    "# per kind\n",
    "plot.subplot(3, 4, 10)\n",
    "plot.bar(y_pos, values)\n",
    "plot.xticks(y_pos, names, rotation=70)\n",
    "plot.ylabel('#')\n",
    "plot.title('Patent per type')\n",
    "\n",
    "plot.tight_layout()"
   ]
  },
  {
   "cell_type": "code",
   "execution_count": 18,
   "metadata": {
    "collapsed": false,
    "scrolled": true
   },
   "outputs": [],
   "source": [
    "# tricks with groupby\n",
    "\n",
    "# df3.groupby(df3.year).describe() #basic stats per year\n",
    "# df3.groupby(df3.year).mean().citation_id #average citation per year\n"
   ]
  },
  {
   "cell_type": "code",
   "execution_count": 19,
   "metadata": {
    "collapsed": false
   },
   "outputs": [],
   "source": [
    "# # # Naive Bayes\n",
    "# def test_naive_bayes(dataset):\n",
    "\n",
    "# #     chosenColumns = ['num_claims','year', 'type_plant',\n",
    "# #            'type_reissue', 'type_statutory invention registration', 'type_utility',\n",
    "# #            'kind_A', 'kind_B1', 'kind_B2', 'kind_E', 'kind_E1', 'kind_H', 'kind_P',\n",
    "# #            'kind_P2', 'kind_P3']\n",
    "#     chosenColumns = ['num_claims','year']\n",
    "\n",
    "#     myX = dataset.as_matrix(columns=chosenColumns)\n",
    "#     # myY = df2.as_matrix(columns=['citation_id'])\n",
    "#     myY = dataset.as_matrix(columns=['citation_id'])\n",
    "\n",
    "#     xTrain, xTest, yTrain, yTest = train_test_split(myX, myY, train_size=0.7, random_state=3)\n",
    "#     testSize = yTest.shape[0]\n",
    "\n",
    "\n",
    "#     # nb = naive_bayes.GaussianNB()\n",
    "\n",
    "#     # dado que o output eh count, uma distribuicao multinomial se adapta melhor\n",
    "#     nb = naive_bayes.MultinomialNB()\n",
    "\n",
    "#     # complementNB adapta o MultinomialNB para datasets muito desbalanceados\n",
    "#     # porem nao esta disponivel para a versao 0.19 do scikit-learn\n",
    "#     # nb = naive_bayes.ComplementNB()\n",
    "\n",
    "#     nb.fit(xTrain, yTrain.ravel())\n",
    "\n",
    "#     yPredNB = nb.predict(xTest) # predicting test data\n",
    "\n",
    "#     # computing error\n",
    "#     errorNB = np.sum((yPredNB[i] != yTest[i]) for i in range(0, testSize))\n",
    "#     errorNBPCT = int(100*errorNB/testSize)\n",
    "#     hitRateNBPCT = 100 - errorNBPCT\n",
    "#     return(testSize, errorNB, errorNBPCT, hitRateNBPCT)\n",
    "   "
   ]
  },
  {
   "cell_type": "code",
   "execution_count": 20,
   "metadata": {
    "collapsed": false
   },
   "outputs": [
    {
     "name": "stderr",
     "output_type": "stream",
     "text": [
      "/home/applications/anaconda3/4.2.0/lib/python3.5/site-packages/sklearn/model_selection/_split.py:2010: FutureWarning: From version 0.21, test_size will always complement train_size unless both are specified.\n",
      "  FutureWarning)\n"
     ]
    },
    {
     "name": "stdout",
     "output_type": "stream",
     "text": [
      "----------Naive Bayes----------\n",
      "101200 misclassified data out of 1768863\n",
      "Error PCT:  5 %\n",
      "Hit Rate:   95 %\n"
     ]
    }
   ],
   "source": [
    "# #naive bayes with complete dataset\n",
    "\n",
    "# testSize, errorNB, errorNBPCT, hitRateNBPCT=test_naive_bayes(df)\n",
    "\n",
    "# print(\"----------Naive Bayes----------\")\n",
    "# print(int(errorNB), \"misclassified data out of\", testSize)\n",
    "# print(\"Error PCT: \",errorNBPCT,'%')\n",
    "# print(\"Hit Rate:  \",hitRateNBPCT,'%')"
   ]
  },
  {
   "cell_type": "code",
   "execution_count": 21,
   "metadata": {
    "collapsed": false
   },
   "outputs": [
    {
     "name": "stderr",
     "output_type": "stream",
     "text": [
      "/home/applications/anaconda3/4.2.0/lib/python3.5/site-packages/sklearn/model_selection/_split.py:2010: FutureWarning: From version 0.21, test_size will always complement train_size unless both are specified.\n",
      "  FutureWarning)\n"
     ]
    },
    {
     "name": "stdout",
     "output_type": "stream",
     "text": [
      "----------Naive Bayes----------\n",
      "29783 misclassified data out of 1734407\n",
      "Error PCT:  1 %\n",
      "Hit Rate:   99 %\n"
     ]
    }
   ],
   "source": [
    "# #naive bayes without outliers\n",
    "\n",
    "# testSize, errorNB, errorNBPCT, hitRateNBPCT=test_naive_bayes(df3)\n",
    "\n",
    "# print(\"----------Naive Bayes----------\")\n",
    "# print(int(errorNB), \"misclassified data out of\", testSize)\n",
    "# print(\"Error PCT: \",errorNBPCT,'%')\n",
    "# print(\"Hit Rate:  \",hitRateNBPCT,'%')"
   ]
  },
  {
   "cell_type": "code",
   "execution_count": 22,
   "metadata": {
    "collapsed": false
   },
   "outputs": [
    {
     "name": "stderr",
     "output_type": "stream",
     "text": [
      "/home/applications/anaconda3/4.2.0/lib/python3.5/site-packages/sklearn/model_selection/_split.py:2010: FutureWarning: From version 0.21, test_size will always complement train_size unless both are specified.\n",
      "  FutureWarning)\n"
     ]
    },
    {
     "name": "stdout",
     "output_type": "stream",
     "text": [
      "----------K Nearest Neighbors----------\n",
      "41371 misclassified data out of 1768863\n",
      "Error PCT:  2 %\n",
      "Hit Rate:   98 %\n"
     ]
    }
   ],
   "source": [
    "# # K Nearest Neighbors\n",
    "\n",
    "# chosenColumns = ['num_claims','year']\n",
    "\n",
    "# myX = df.as_matrix(columns=chosenColumns)\n",
    "# # myY = df2.as_matrix(columns=['citation_id'])\n",
    "# myY = df.as_matrix(columns=['citation_bi'])\n",
    "\n",
    "# xTrain, xTest, yTrain, yTest = train_test_split(myX, myY, train_size=0.7, random_state=3)\n",
    "# testSize = yTest.shape[0]\n",
    "    \n",
    "# myK = 5\n",
    "\n",
    "# knn =  KNeighborsClassifier(n_neighbors=myK)\n",
    "# knn.fit(xTrain, yTrain.ravel())\n",
    "# yPredKNN = knn.predict(xTest) # predicting test data\n",
    "\n",
    "# # computing error\n",
    "# errorKNN = np.sum((yPredKNN[i] != yTest[i]) for i in range(0, testSize))\n",
    "# errorKNNPCT = int(100*errorKNN/testSize)\n",
    "# hitRateKNNPCT = 100 - errorKNNPCT\n",
    "\n",
    "# print(\"----------K Nearest Neighbors----------\")\n",
    "# print(int(errorKNN), \"misclassified data out of\", testSize)\n",
    "# print(\"Error PCT: \",errorKNNPCT,'%')\n",
    "# print(\"Hit Rate:  \",hitRateKNNPCT,'%')"
   ]
  },
  {
   "cell_type": "code",
   "execution_count": 23,
   "metadata": {
    "collapsed": false
   },
   "outputs": [],
   "source": [
    "# # Constructing the ROC curve and AUC\n",
    "\n",
    "# fpr, tpr, thresh = roc_curve(yTest.ravel(), yPredKNN.ravel())\n",
    "# rocAuc = auc(fpr, tpr)"
   ]
  },
  {
   "cell_type": "code",
   "execution_count": 24,
   "metadata": {
    "collapsed": false
   },
   "outputs": [
    {
     "data": {
      "image/png": "[encoded data removed]",
      "text/plain": [
       "<matplotlib.figure.Figure at 0x7f0bfc74b6d8>"
      ]
     },
     "metadata": {},
     "output_type": "display_data"
    }
   ],
   "source": [
    "# # Plotting Everything\n",
    "\n",
    "# plot.figure()\n",
    "# lw = 2\n",
    "# plot.plot(fpr, tpr, color='darkorange',\n",
    "#          lw=lw, label='ROC curve (area = %0.2f)' % rocAuc)\n",
    "# plot.plot([0, 1], [0, 1], color='navy', lw=lw, linestyle='--')\n",
    "# plot.xlim([0.0, 1.0])\n",
    "# plot.ylim([0.0, 1.05])\n",
    "# plot.xlabel('False Positive Rate')\n",
    "# plot.ylabel('True Positive Rate')\n",
    "# plot.title('Receiver operating characteristic example')\n",
    "# plot.legend(loc=\"lower right\")\n",
    "# plot.show()"
   ]
  },
  {
   "cell_type": "code",
   "execution_count": 25,
   "metadata": {
    "collapsed": true
   },
   "outputs": [],
   "source": []
  }
 ],
 "metadata": {
  "anaconda-cloud": {},
  "kernelspec": {
   "display_name": "Python [default]",
   "language": "python",
   "name": "python3"
  },
  "language_info": {
   "codemirror_mode": {
    "name": "ipython",
    "version": 3
   },
   "file_extension": ".py",
   "mimetype": "text/x-python",
   "name": "python",
   "nbconvert_exporter": "python",
   "pygments_lexer": "ipython3",
   "version": "3.5.2"
  }
 },
 "nbformat": 4,
 "nbformat_minor": 2
}
