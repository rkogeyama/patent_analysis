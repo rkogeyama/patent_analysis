{
 "cells": [
  {
   "cell_type": "code",
   "execution_count": 1,
   "metadata": {
    "collapsed": true
   },
   "outputs": [],
   "source": [
    "\"\"\"\n",
    "# Sao Paulo, Aug 14, 2020\n",
    "# Script to check uscleanpat_exclude_selficit.csv\n",
    "# When running graph_tool with this file, some results showed uuid in the place of pat_id\n",
    "# this is to check if the data is consistent\n",
    "\n",
    "13 million results looks small\n",
    "\"\"\""
   ]
  },
  {
   "cell_type": "code",
   "execution_count": 2,
   "metadata": {
    "collapsed": true
   },
   "outputs": [],
   "source": [
    "import sys\n",
    "sys.path.append('/home/rkogeyam/scripts/')\n",
    "from sampler import sampler\n",
    "\n",
    "import pandas as pd\n",
    "import numpy as np\n",
    "import re\n",
    "import datetime\n",
    "\n",
    "import matplotlib.pyplot as plt\n"
   ]
  },
  {
   "cell_type": "code",
   "execution_count": 3,
   "metadata": {
    "collapsed": true
   },
   "outputs": [],
   "source": [
    "# uspatentcitation.tsv\n",
    "# uuid:         unique id\n",
    "# patent_id:    patent number\n",
    "# citation_id:  identifying number of patent to which select patent cites\n",
    "# date:         date select patent (patent_id) cites patent (citation_id)\n",
    "# name:         name of cited record\n",
    "# kind:         WIPO document kind codes \n",
    "#               (http://www.uspto.gov/learning-and-resources/support-centers/electronic-business-center/kind-codes-included-uspto-patent)\t2002 and After\n",
    "# country:      country cited patent was granted (always US)\n",
    "# category:     who cited the patent (examiner, applicant, other etc) - 2002 and After\n",
    "# sequence:     order in which this reference is cited by select patent\tall\n"
   ]
  },
  {
   "cell_type": "code",
   "execution_count": 4,
   "metadata": {
    "collapsed": true
   },
   "outputs": [],
   "source": [
    "src= r'/home/rkogeyam/PATENT_CITATION/data/centralit_noselfcit.csv'\n",
    "# dst= '/home/rkogeyam/PATENT_CITATION/data/cleanuspatentcitation.csv'"
   ]
  },
  {
   "cell_type": "code",
   "execution_count": 5,
   "metadata": {
    "collapsed": true
   },
   "outputs": [],
   "source": [
    "df=pd.read_csv(src, dtype={'id':object,'pagerank':float })"
   ]
  },
  {
   "cell_type": "code",
   "execution_count": 6,
   "metadata": {
    "collapsed": false
   },
   "outputs": [
    {
     "data": {
      "text/plain": [
       "uuid           object\n",
       "patent_id      object\n",
       "citation_id    object\n",
       "dtype: object"
      ]
     },
     "execution_count": 6,
     "metadata": {},
     "output_type": "execute_result"
    }
   ],
   "source": [
    "df.dtypes"
   ]
  },
  {
   "cell_type": "code",
   "execution_count": 7,
   "metadata": {
    "collapsed": false
   },
   "outputs": [],
   "source": [
    "# df[df['citation_id'].apply(lambda x: len(x)>7)]"
   ]
  },
  {
   "cell_type": "code",
   "execution_count": 8,
   "metadata": {
    "collapsed": false
   },
   "outputs": [],
   "source": [
    "# df[df['citation_id'].apply(lambda x: len(x)<4)]"
   ]
  },
  {
   "cell_type": "code",
   "execution_count": 9,
   "metadata": {
    "collapsed": false
   },
   "outputs": [
    {
     "data": {
      "text/plain": [
       "7.0     13627681\n",
       "6.0       113297\n",
       "11.0       20251\n",
       "5.0         7162\n",
       "4.0         1203\n",
       "9.0          391\n",
       "8.0           98\n",
       "3.0           89\n",
       "2.0            8\n",
       "1.0            8\n",
       "12.0           5\n",
       "10.0           4\n",
       "Name: citation_id, dtype: int64"
      ]
     },
     "execution_count": 9,
     "metadata": {},
     "output_type": "execute_result"
    }
   ],
   "source": [
    "df.id.str.len().value_counts()"
   ]
  },
  {
   "cell_type": "code",
   "execution_count": 10,
   "metadata": {
    "collapsed": false
   },
   "outputs": [],
   "source": [
    "ax=df['pagerank'].hist()\n",
    "ax.set_title('PageRank Histogram \\n')\n",
    "plt.show()"
   ]
  }
 ],
 "metadata": {
  "anaconda-cloud": {},
  "kernelspec": {
   "display_name": "Python [default]",
   "language": "python",
   "name": "python3"
  },
  "language_info": {
   "codemirror_mode": {
    "name": "ipython",
    "version": 3
   },
   "file_extension": ".py",
   "mimetype": "text/x-python",
   "name": "python",
   "nbconvert_exporter": "python",
   "pygments_lexer": "ipython3",
   "version": "3.5.2"
  }
 },
 "nbformat": 4,
 "nbformat_minor": 1
}
