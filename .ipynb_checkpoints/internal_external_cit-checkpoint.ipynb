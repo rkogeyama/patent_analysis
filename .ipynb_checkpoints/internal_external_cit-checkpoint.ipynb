{
 "cells": [
  {
   "cell_type": "code",
   "execution_count": 1,
   "metadata": {
    "collapsed": true
   },
   "outputs": [],
   "source": [
    "# February 12st, 2020\n",
    "# This script compares classification in each classification system\n",
    "# Second level matches specifications of Nemet and Johnson 2012\n"
   ]
  },
  {
   "cell_type": "code",
   "execution_count": 2,
   "metadata": {
    "collapsed": false
   },
   "outputs": [],
   "source": [
    "import pandas as pd\n",
    "import numpy as np\n",
    "import matplotlib.pyplot as plt\n",
    "import datetime\n",
    "import seaborn as sns\n",
    "\n",
    "import sys\n",
    "sys.path.append('/home/rkogeyam/scripts/')\n",
    "sys.path.append('scripts/')\n",
    "\n",
    "from determinants_scripts import classes, dtypes\n",
    "\n",
    "from classification import preprocessing\n",
    "\n",
    "citation='data/cleanuspatentcitation.csv'\n",
    "\n",
    "usecols=['uuid', 'patent_id', 'citation_id']\n",
    "citation_df=pd.read_csv(citation, usecols=usecols)\n"
   ]
  },
  {
   "cell_type": "code",
   "execution_count": 3,
   "metadata": {
    "collapsed": true
   },
   "outputs": [],
   "source": [
    "%matplotlib inline"
   ]
  },
  {
   "cell_type": "code",
   "execution_count": 4,
   "metadata": {
    "collapsed": true
   },
   "outputs": [],
   "source": [
    "sns.set()"
   ]
  },
  {
   "cell_type": "code",
   "execution_count": 5,
   "metadata": {
    "collapsed": true
   },
   "outputs": [],
   "source": [
    "# class_systems=['wipo']\n",
    "class_systems=['wipo', 'ipcr', 'cpc', 'nber']"
   ]
  },
  {
   "cell_type": "code",
   "execution_count": 6,
   "metadata": {
    "collapsed": false
   },
   "outputs": [
    {
     "name": "stdout",
     "output_type": "stream",
     "text": [
      "                           wipo_far_ext  wipo_ext\n",
      "uuid                                             \n",
      "51l5izpbtjpzajh1dfklk0e4n             0         0\n",
      "64thngwfec9a022vjzcqch2jt             0         0\n",
      "7vvfabcwix3pfrrz9ov1uay6l             0         1\n",
      "6l5jnj0hitatw249pylq26ot8             1         1\n",
      "2rildowxihjnojhj8pk5s77pp             0         0\n",
      "                           ipcr_far_ext  ipcr_ext\n",
      "uuid                                             \n",
      "51l5izpbtjpzajh1dfklk0e4n             0         0\n",
      "64thngwfec9a022vjzcqch2jt             0         0\n",
      "7vvfabcwix3pfrrz9ov1uay6l             0         0\n",
      "4tih8qtmlqq7uqfkkusqcdnr2             1         1\n",
      "6l5jnj0hitatw249pylq26ot8             0         0\n",
      "                           cpc_far_ext  cpc_ext\n",
      "uuid                                           \n",
      "51l5izpbtjpzajh1dfklk0e4n            0        0\n",
      "64thngwfec9a022vjzcqch2jt            0        1\n",
      "7vvfabcwix3pfrrz9ov1uay6l            0        0\n",
      "6l5jnj0hitatw249pylq26ot8            0        1\n",
      "2rildowxihjnojhj8pk5s77pp            0        0\n",
      "                           nber_far_ext  nber_ext\n",
      "uuid                                             \n",
      "6l5jnj0hitatw249pylq26ot8             0         0\n",
      "2rildowxihjnojhj8pk5s77pp             0         0\n",
      "15ca9fk4pgg8efanq1mh3out9             0         0\n",
      "3lj0d1jwoeiiznzxdnlvcdahi             0         1\n",
      "4tstbf25v4r0r37ysho3kq6hv             0         0\n",
      "CPU times: user 13min 23s, sys: 18.5 s, total: 13min 41s\n",
      "Wall time: 13min 40s\n"
     ]
    }
   ],
   "source": [
    "%%time\n",
    "# This approach uses too much memory\n",
    "# Try something else\n",
    "\n",
    "for class_system in class_systems:\n",
    "    \n",
    "    classification = 'data/'+class_system+'.csv'\n",
    "    \n",
    "    class_df=pd.read_csv(classification, dtype=object, usecols=[0,1,2])\n",
    "    \n",
    "    #join class to patent_id\n",
    "    df=preprocessing(class_df, citation_df)\n",
    "    df.rename(columns={df.columns[2]:'level1_pat', df.columns[3]:'level2_pat'}, inplace=True)\n",
    "    \n",
    "    #join class to citation_id\n",
    "    df=preprocessing(class_df, df, generality=False)\n",
    "    \n",
    "    \n",
    "    #classify far external \n",
    "    far_ext=class_system+'_far_ext'\n",
    "    df[far_ext]=np.where(df['level1_pat'] != df[df.columns[3]], 1, 0)\n",
    "    \n",
    "    #classify external\n",
    "    ext=class_system+'_ext'\n",
    "    df[ext]=np.where(df['level2_pat'] != df[df.columns[4]], 1, 0)\n",
    "    \n",
    "    df=df[['uuid', far_ext, ext]].set_index('uuid')\n",
    "    print(df.head())\n",
    "\n",
    "    #generate the output df if wipo, join if others\n",
    "    if class_system=='wipo':\n",
    "        output=df\n",
    "    else:\n",
    "        output=output.join(df)\n",
    "        "
   ]
  },
  {
   "cell_type": "code",
   "execution_count": 7,
   "metadata": {
    "collapsed": false
   },
   "outputs": [
    {
     "name": "stdout",
     "output_type": "stream",
     "text": [
      "<class 'pandas.core.frame.DataFrame'>\n",
      "Index: 15448661 entries, 51l5izpbtjpzajh1dfklk0e4n to 4i52a0z3d8xym9fr9x4l0gfi3\n",
      "Data columns (total 8 columns):\n",
      "wipo_far_ext    int64\n",
      "wipo_ext        int64\n",
      "ipcr_far_ext    float64\n",
      "ipcr_ext        float64\n",
      "cpc_far_ext     float64\n",
      "cpc_ext         float64\n",
      "nber_far_ext    float64\n",
      "nber_ext        float64\n",
      "dtypes: float64(6), int64(2)\n",
      "memory usage: 1.0+ GB\n"
     ]
    }
   ],
   "source": [
    "output.info()"
   ]
  },
  {
   "cell_type": "code",
   "execution_count": 8,
   "metadata": {
    "collapsed": false
   },
   "outputs": [
    {
     "name": "stderr",
     "output_type": "stream",
     "text": [
      "/home/applications/anaconda3/4.2.0/lib/python3.5/site-packages/numpy/lib/function_base.py:4269: RuntimeWarning: Invalid value encountered in percentile\n",
      "  interpolation=interpolation)\n"
     ]
    },
    {
     "data": {
      "text/html": [
       "<div>\n",
       "<table border=\"1\" class=\"dataframe\">\n",
       "  <thead>\n",
       "    <tr style=\"text-align: right;\">\n",
       "      <th></th>\n",
       "      <th>wipo_far_ext</th>\n",
       "      <th>wipo_ext</th>\n",
       "      <th>ipcr_far_ext</th>\n",
       "      <th>ipcr_ext</th>\n",
       "      <th>cpc_far_ext</th>\n",
       "      <th>cpc_ext</th>\n",
       "      <th>nber_far_ext</th>\n",
       "      <th>nber_ext</th>\n",
       "    </tr>\n",
       "  </thead>\n",
       "  <tbody>\n",
       "    <tr>\n",
       "      <th>count</th>\n",
       "      <td>1.544866e+07</td>\n",
       "      <td>1.544866e+07</td>\n",
       "      <td>1.457966e+07</td>\n",
       "      <td>1.457966e+07</td>\n",
       "      <td>1.544752e+07</td>\n",
       "      <td>1.544752e+07</td>\n",
       "      <td>1.278448e+07</td>\n",
       "      <td>1.278448e+07</td>\n",
       "    </tr>\n",
       "    <tr>\n",
       "      <th>mean</th>\n",
       "      <td>1.970766e-01</td>\n",
       "      <td>3.720058e-01</td>\n",
       "      <td>2.940687e-01</td>\n",
       "      <td>5.666740e-01</td>\n",
       "      <td>2.806458e-01</td>\n",
       "      <td>3.863544e-01</td>\n",
       "      <td>2.500311e-01</td>\n",
       "      <td>4.069588e-01</td>\n",
       "    </tr>\n",
       "    <tr>\n",
       "      <th>std</th>\n",
       "      <td>3.977906e-01</td>\n",
       "      <td>4.833400e-01</td>\n",
       "      <td>4.556230e-01</td>\n",
       "      <td>4.955347e-01</td>\n",
       "      <td>4.493148e-01</td>\n",
       "      <td>4.869134e-01</td>\n",
       "      <td>4.330307e-01</td>\n",
       "      <td>4.912671e-01</td>\n",
       "    </tr>\n",
       "    <tr>\n",
       "      <th>min</th>\n",
       "      <td>0.000000e+00</td>\n",
       "      <td>0.000000e+00</td>\n",
       "      <td>0.000000e+00</td>\n",
       "      <td>0.000000e+00</td>\n",
       "      <td>0.000000e+00</td>\n",
       "      <td>0.000000e+00</td>\n",
       "      <td>0.000000e+00</td>\n",
       "      <td>0.000000e+00</td>\n",
       "    </tr>\n",
       "    <tr>\n",
       "      <th>25%</th>\n",
       "      <td>0.000000e+00</td>\n",
       "      <td>0.000000e+00</td>\n",
       "      <td>NaN</td>\n",
       "      <td>NaN</td>\n",
       "      <td>NaN</td>\n",
       "      <td>NaN</td>\n",
       "      <td>NaN</td>\n",
       "      <td>NaN</td>\n",
       "    </tr>\n",
       "    <tr>\n",
       "      <th>50%</th>\n",
       "      <td>0.000000e+00</td>\n",
       "      <td>0.000000e+00</td>\n",
       "      <td>NaN</td>\n",
       "      <td>NaN</td>\n",
       "      <td>NaN</td>\n",
       "      <td>NaN</td>\n",
       "      <td>NaN</td>\n",
       "      <td>NaN</td>\n",
       "    </tr>\n",
       "    <tr>\n",
       "      <th>75%</th>\n",
       "      <td>0.000000e+00</td>\n",
       "      <td>1.000000e+00</td>\n",
       "      <td>NaN</td>\n",
       "      <td>NaN</td>\n",
       "      <td>NaN</td>\n",
       "      <td>NaN</td>\n",
       "      <td>NaN</td>\n",
       "      <td>NaN</td>\n",
       "    </tr>\n",
       "    <tr>\n",
       "      <th>max</th>\n",
       "      <td>1.000000e+00</td>\n",
       "      <td>1.000000e+00</td>\n",
       "      <td>1.000000e+00</td>\n",
       "      <td>1.000000e+00</td>\n",
       "      <td>1.000000e+00</td>\n",
       "      <td>1.000000e+00</td>\n",
       "      <td>1.000000e+00</td>\n",
       "      <td>1.000000e+00</td>\n",
       "    </tr>\n",
       "  </tbody>\n",
       "</table>\n",
       "</div>"
      ],
      "text/plain": [
       "       wipo_far_ext      wipo_ext  ipcr_far_ext      ipcr_ext   cpc_far_ext  \\\n",
       "count  1.544866e+07  1.544866e+07  1.457966e+07  1.457966e+07  1.544752e+07   \n",
       "mean   1.970766e-01  3.720058e-01  2.940687e-01  5.666740e-01  2.806458e-01   \n",
       "std    3.977906e-01  4.833400e-01  4.556230e-01  4.955347e-01  4.493148e-01   \n",
       "min    0.000000e+00  0.000000e+00  0.000000e+00  0.000000e+00  0.000000e+00   \n",
       "25%    0.000000e+00  0.000000e+00           NaN           NaN           NaN   \n",
       "50%    0.000000e+00  0.000000e+00           NaN           NaN           NaN   \n",
       "75%    0.000000e+00  1.000000e+00           NaN           NaN           NaN   \n",
       "max    1.000000e+00  1.000000e+00  1.000000e+00  1.000000e+00  1.000000e+00   \n",
       "\n",
       "            cpc_ext  nber_far_ext      nber_ext  \n",
       "count  1.544752e+07  1.278448e+07  1.278448e+07  \n",
       "mean   3.863544e-01  2.500311e-01  4.069588e-01  \n",
       "std    4.869134e-01  4.330307e-01  4.912671e-01  \n",
       "min    0.000000e+00  0.000000e+00  0.000000e+00  \n",
       "25%             NaN           NaN           NaN  \n",
       "50%             NaN           NaN           NaN  \n",
       "75%             NaN           NaN           NaN  \n",
       "max    1.000000e+00  1.000000e+00  1.000000e+00  "
      ]
     },
     "execution_count": 8,
     "metadata": {},
     "output_type": "execute_result"
    }
   ],
   "source": [
    "output.describe()"
   ]
  },
  {
   "cell_type": "code",
   "execution_count": 9,
   "metadata": {
    "collapsed": false
   },
   "outputs": [],
   "source": [
    "output.to_csv('data/internal_external_citation.csv')"
   ]
  }
 ],
 "metadata": {
  "anaconda-cloud": {},
  "kernelspec": {
   "display_name": "Python [default]",
   "language": "python",
   "name": "python3"
  },
  "language_info": {
   "codemirror_mode": {
    "name": "ipython",
    "version": 3
   },
   "file_extension": ".py",
   "mimetype": "text/x-python",
   "name": "python",
   "nbconvert_exporter": "python",
   "pygments_lexer": "ipython3",
   "version": "3.5.2"
  }
 },
 "nbformat": 4,
 "nbformat_minor": 1
}
