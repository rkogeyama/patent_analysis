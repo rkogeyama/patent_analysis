{
 "cells": [
  {
   "cell_type": "code",
   "execution_count": 1,
   "metadata": {
    "collapsed": true
   },
   "outputs": [],
   "source": [
    "# February 12st, 2020\n",
    "# This script compares classification in each classification system\n",
    "# Second level matches specifications of Nemet and Johnson 2012\n"
   ]
  },
  {
   "cell_type": "code",
   "execution_count": 2,
   "metadata": {
    "collapsed": false
   },
   "outputs": [],
   "source": [
    "import pandas as pd\n",
    "import numpy as np\n",
    "import matplotlib.pyplot as plt\n",
    "import datetime\n",
    "import seaborn as sns\n",
    "\n",
    "import sys\n",
    "sys.path.append('/home/rkogeyam/scripts/')\n",
    "sys.path.append('scripts/')\n",
    "\n",
    "from determinants_scripts import classes, dtypes\n",
    "\n",
    "from classification import preprocessing\n",
    "\n",
    "citation='data/cleanuspatentcitation.csv'\n",
    "\n",
    "usecols=['uuid', 'patent_id', 'citation_id']\n",
    "citation_df=pd.read_csv(citation, usecols=usecols, nrows=100000)\n"
   ]
  },
  {
   "cell_type": "code",
   "execution_count": 3,
   "metadata": {
    "collapsed": true
   },
   "outputs": [],
   "source": [
    "%matplotlib inline"
   ]
  },
  {
   "cell_type": "code",
   "execution_count": 4,
   "metadata": {
    "collapsed": true
   },
   "outputs": [],
   "source": [
    "sns.set()"
   ]
  },
  {
   "cell_type": "code",
   "execution_count": 5,
   "metadata": {
    "collapsed": true
   },
   "outputs": [],
   "source": [
    "# class_systems=['wipo']\n",
    "class_systems=['wipo', 'ipcr', 'cpc', 'nber']"
   ]
  },
  {
   "cell_type": "code",
   "execution_count": 6,
   "metadata": {
    "collapsed": false
   },
   "outputs": [
    {
     "name": "stdout",
     "output_type": "stream",
     "text": [
      "                           wipo_far_ext  wipo_ext\n",
      "uuid                                             \n",
      "00j98gjluopjbahvckjxcsu5w             1         1\n",
      "00ssb4om5j0ed1ws1bd6n3p8z             0         0\n",
      "0119rbpayfbl601kj200as9rc             0         0\n",
      "00y0veux7whsa003hv2crfxym             0         0\n",
      "003imu4a4w19b2p2pavy111qh             1         1\n",
      "                           ipcr_far_ext  ipcr_ext\n",
      "uuid                                             \n",
      "00j98gjluopjbahvckjxcsu5w             1         1\n",
      "00ssb4om5j0ed1ws1bd6n3p8z             1         0\n",
      "0119rbpayfbl601kj200as9rc             0         1\n",
      "00y0veux7whsa003hv2crfxym             0         0\n",
      "003imu4a4w19b2p2pavy111qh             1         1\n",
      "                           cpc_far_ext  cpc_ext\n",
      "uuid                                           \n",
      "00j98gjluopjbahvckjxcsu5w            1        1\n",
      "00ssb4om5j0ed1ws1bd6n3p8z            0        0\n",
      "0119rbpayfbl601kj200as9rc            0        0\n",
      "00y0veux7whsa003hv2crfxym            0        0\n",
      "003imu4a4w19b2p2pavy111qh            0        0\n",
      "                           nber_far_ext  nber_ext\n",
      "uuid                                             \n",
      "00ssb4om5j0ed1ws1bd6n3p8z             0         0\n",
      "0119rbpayfbl601kj200as9rc             0         0\n",
      "00y0veux7whsa003hv2crfxym             0         0\n",
      "003imu4a4w19b2p2pavy111qh             1         1\n",
      "00rrcv222h1hglgbig5wwg54v             1         1\n",
      "CPU times: user 3min 55s, sys: 4.13 s, total: 3min 59s\n",
      "Wall time: 3min 59s\n"
     ]
    }
   ],
   "source": [
    "%%time\n",
    "# This approach uses too much memory\n",
    "# Try something else\n",
    "\n",
    "for class_system in class_systems:\n",
    "    \n",
    "    classification = 'data/'+class_system+'.csv'\n",
    "    \n",
    "    class_df=pd.read_csv(classification, dtype=object, usecols=[0,1,2])\n",
    "    \n",
    "    #join class to patent_id\n",
    "    df=preprocessing(class_df, citation_df)\n",
    "    df.rename(columns={df.columns[2]:'level1_pat', df.columns[3]:'level2_pat'}, inplace=True)\n",
    "    \n",
    "    #join class to citation_id\n",
    "    df=preprocessing(class_df, df, generality=False)\n",
    "    \n",
    "    \n",
    "    #classify far external \n",
    "    far_ext=class_system+'_far_ext'\n",
    "    df[far_ext]=np.where(df['level1_pat'] != df[df.columns[3]], 1, 0)\n",
    "    \n",
    "    #classify external\n",
    "    ext=class_system+'_ext'\n",
    "    df[ext]=np.where(df['level2_pat'] != df[df.columns[4]], 1, 0)\n",
    "    \n",
    "    df=df[['uuid', far_ext, ext]].set_index('uuid')\n",
    "    print(df.head())\n",
    "\n",
    "    #generate the output df if wipo, join if others\n",
    "    if class_system=='wipo':\n",
    "        output=df\n",
    "    else:\n",
    "        output=output.join(df)\n",
    "        "
   ]
  },
  {
   "cell_type": "code",
   "execution_count": 7,
   "metadata": {
    "collapsed": false
   },
   "outputs": [
    {
     "name": "stdout",
     "output_type": "stream",
     "text": [
      "<class 'pandas.core.frame.DataFrame'>\n",
      "Index: 77333 entries, 00j98gjluopjbahvckjxcsu5w to 00xq424kkwvhic8c8ran7e8co\n",
      "Data columns (total 8 columns):\n",
      "wipo_far_ext    77333 non-null int64\n",
      "wipo_ext        77333 non-null int64\n",
      "ipcr_far_ext    72997 non-null float64\n",
      "ipcr_ext        72997 non-null float64\n",
      "cpc_far_ext     77324 non-null float64\n",
      "cpc_ext         77324 non-null float64\n",
      "nber_far_ext    64079 non-null float64\n",
      "nber_ext        64079 non-null float64\n",
      "dtypes: float64(6), int64(2)\n",
      "memory usage: 5.3+ MB\n"
     ]
    }
   ],
   "source": [
    "output.info()"
   ]
  },
  {
   "cell_type": "code",
   "execution_count": 8,
   "metadata": {
    "collapsed": false
   },
   "outputs": [
    {
     "data": {
      "text/html": [
       "<div>\n",
       "<table border=\"1\" class=\"dataframe\">\n",
       "  <thead>\n",
       "    <tr style=\"text-align: right;\">\n",
       "      <th></th>\n",
       "      <th>wipo_far_ext</th>\n",
       "      <th>wipo_ext</th>\n",
       "      <th>ipcr_far_ext</th>\n",
       "      <th>ipcr_ext</th>\n",
       "      <th>cpc_far_ext</th>\n",
       "      <th>cpc_ext</th>\n",
       "      <th>nber_far_ext</th>\n",
       "      <th>nber_ext</th>\n",
       "    </tr>\n",
       "  </thead>\n",
       "  <tbody>\n",
       "    <tr>\n",
       "      <th>count</th>\n",
       "      <td>77333.000000</td>\n",
       "      <td>77333.000000</td>\n",
       "      <td>72997.000000</td>\n",
       "      <td>72997.000000</td>\n",
       "      <td>77324.000000</td>\n",
       "      <td>77324.000000</td>\n",
       "      <td>64079.000000</td>\n",
       "      <td>64079.000000</td>\n",
       "    </tr>\n",
       "    <tr>\n",
       "      <th>mean</th>\n",
       "      <td>0.195609</td>\n",
       "      <td>0.369338</td>\n",
       "      <td>0.295601</td>\n",
       "      <td>0.567681</td>\n",
       "      <td>0.280430</td>\n",
       "      <td>0.385456</td>\n",
       "      <td>0.248974</td>\n",
       "      <td>0.403908</td>\n",
       "    </tr>\n",
       "    <tr>\n",
       "      <th>std</th>\n",
       "      <td>0.396671</td>\n",
       "      <td>0.482629</td>\n",
       "      <td>0.456316</td>\n",
       "      <td>0.495402</td>\n",
       "      <td>0.449212</td>\n",
       "      <td>0.486706</td>\n",
       "      <td>0.432422</td>\n",
       "      <td>0.490683</td>\n",
       "    </tr>\n",
       "    <tr>\n",
       "      <th>min</th>\n",
       "      <td>0.000000</td>\n",
       "      <td>0.000000</td>\n",
       "      <td>0.000000</td>\n",
       "      <td>0.000000</td>\n",
       "      <td>0.000000</td>\n",
       "      <td>0.000000</td>\n",
       "      <td>0.000000</td>\n",
       "      <td>0.000000</td>\n",
       "    </tr>\n",
       "    <tr>\n",
       "      <th>25%</th>\n",
       "      <td>0.000000</td>\n",
       "      <td>0.000000</td>\n",
       "      <td>0.000000</td>\n",
       "      <td>0.000000</td>\n",
       "      <td>0.000000</td>\n",
       "      <td>0.000000</td>\n",
       "      <td>0.000000</td>\n",
       "      <td>0.000000</td>\n",
       "    </tr>\n",
       "    <tr>\n",
       "      <th>50%</th>\n",
       "      <td>0.000000</td>\n",
       "      <td>0.000000</td>\n",
       "      <td>0.000000</td>\n",
       "      <td>1.000000</td>\n",
       "      <td>0.000000</td>\n",
       "      <td>0.000000</td>\n",
       "      <td>0.000000</td>\n",
       "      <td>0.000000</td>\n",
       "    </tr>\n",
       "    <tr>\n",
       "      <th>75%</th>\n",
       "      <td>0.000000</td>\n",
       "      <td>1.000000</td>\n",
       "      <td>1.000000</td>\n",
       "      <td>1.000000</td>\n",
       "      <td>1.000000</td>\n",
       "      <td>1.000000</td>\n",
       "      <td>0.000000</td>\n",
       "      <td>1.000000</td>\n",
       "    </tr>\n",
       "    <tr>\n",
       "      <th>max</th>\n",
       "      <td>1.000000</td>\n",
       "      <td>1.000000</td>\n",
       "      <td>1.000000</td>\n",
       "      <td>1.000000</td>\n",
       "      <td>1.000000</td>\n",
       "      <td>1.000000</td>\n",
       "      <td>1.000000</td>\n",
       "      <td>1.000000</td>\n",
       "    </tr>\n",
       "  </tbody>\n",
       "</table>\n",
       "</div>"
      ],
      "text/plain": [
       "       wipo_far_ext      wipo_ext  ipcr_far_ext      ipcr_ext   cpc_far_ext  \\\n",
       "count  77333.000000  77333.000000  72997.000000  72997.000000  77324.000000   \n",
       "mean       0.195609      0.369338      0.295601      0.567681      0.280430   \n",
       "std        0.396671      0.482629      0.456316      0.495402      0.449212   \n",
       "min        0.000000      0.000000      0.000000      0.000000      0.000000   \n",
       "25%        0.000000      0.000000      0.000000      0.000000      0.000000   \n",
       "50%        0.000000      0.000000      0.000000      1.000000      0.000000   \n",
       "75%        0.000000      1.000000      1.000000      1.000000      1.000000   \n",
       "max        1.000000      1.000000      1.000000      1.000000      1.000000   \n",
       "\n",
       "            cpc_ext  nber_far_ext      nber_ext  \n",
       "count  77324.000000  64079.000000  64079.000000  \n",
       "mean       0.385456      0.248974      0.403908  \n",
       "std        0.486706      0.432422      0.490683  \n",
       "min        0.000000      0.000000      0.000000  \n",
       "25%        0.000000      0.000000      0.000000  \n",
       "50%        0.000000      0.000000      0.000000  \n",
       "75%        1.000000      0.000000      1.000000  \n",
       "max        1.000000      1.000000      1.000000  "
      ]
     },
     "execution_count": 8,
     "metadata": {},
     "output_type": "execute_result"
    }
   ],
   "source": [
    "output.describe()"
   ]
  },
  {
   "cell_type": "code",
   "execution_count": 9,
   "metadata": {
    "collapsed": false
   },
   "outputs": [],
   "source": [
    "output.to_csv('data/internal_external_citation.csv', compression='gzip')"
   ]
  }
 ],
 "metadata": {
  "anaconda-cloud": {},
  "kernelspec": {
   "display_name": "Python [default]",
   "language": "python",
   "name": "python3"
  },
  "language_info": {
   "codemirror_mode": {
    "name": "ipython",
    "version": 3
   },
   "file_extension": ".py",
   "mimetype": "text/x-python",
   "name": "python",
   "nbconvert_exporter": "python",
   "pygments_lexer": "ipython3",
   "version": "3.5.2"
  }
 },
 "nbformat": 4,
 "nbformat_minor": 1
}
