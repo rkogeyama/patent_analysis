{
 "cells": [
  {
   "cell_type": "code",
   "execution_count": 1,
   "metadata": {
    "collapsed": true
   },
   "outputs": [],
   "source": [
    "#Script to evaluate the determinants of patent citation \n",
    "#Renato Kogeyama\n",
    "\n",
    "#Syracuse, December 3rd, 2019\n",
    "\n",
    "#The original script is getting too complex\n",
    "#There was many tentative scripts to play with data\n",
    "#Here I am writing a script to show the relevance of variables to patent citation"
   ]
  },
  {
   "cell_type": "code",
   "execution_count": 2,
   "metadata": {
    "collapsed": false
   },
   "outputs": [],
   "source": [
    "import pandas as pd\n",
    "import numpy as np\n",
    "\n",
    "from sklearn import preprocessing\n",
    "from sklearn import linear_model, datasets\n",
    "from sklearn.model_selection import train_test_split\n",
    "\n",
    "from scipy import stats\n",
    "import datetime\n",
    "import matplotlib.pyplot as plot\n",
    "import pylab as pl\n",
    "\n",
    "from math import sqrt\n",
    "\n",
    "\n",
    "import sys\n",
    "sys.path.append('/home/rkogeyam/scripts/')\n",
    "\n",
    "from best_num_attr import best_num_attr\n",
    "from xattrSelect import xattrSelect\n",
    "from sampler import sampler\n",
    "from normalize import normalize\n"
   ]
  },
  {
   "cell_type": "code",
   "execution_count": 3,
   "metadata": {
    "collapsed": true
   },
   "outputs": [],
   "source": [
    "%matplotlib inline"
   ]
  },
  {
   "cell_type": "code",
   "execution_count": 4,
   "metadata": {
    "collapsed": false
   },
   "outputs": [],
   "source": [
    "fname='/home/rkogeyam/PATENT_CITATION/df_w_pat_cit_191003.csv'\n",
    "\n",
    "df=pd.read_csv(fname)\n",
    "\n",
    "# sample_size=1000\n",
    "# df=sampler(fname, sample_size)"
   ]
  },
  {
   "cell_type": "code",
   "execution_count": 5,
   "metadata": {
    "collapsed": false
   },
   "outputs": [],
   "source": [
    "df=df.iloc[:,[1,2,5,8,9,11,12,13,14,15]]"
   ]
  },
  {
   "cell_type": "code",
   "execution_count": 6,
   "metadata": {
    "collapsed": false
   },
   "outputs": [],
   "source": [
    "df=df.set_index('id')"
   ]
  },
  {
   "cell_type": "code",
   "execution_count": 7,
   "metadata": {
    "collapsed": false
   },
   "outputs": [],
   "source": [
    "#these entries are wrong \n",
    "# df=df.drop(['type_Device provided with an optical communications function and optical communication system', 'type_Unsolicited message intercepting communications processor'], axis=1)"
   ]
  },
  {
   "cell_type": "code",
   "execution_count": 8,
   "metadata": {
    "collapsed": false
   },
   "outputs": [],
   "source": [
    "# df.dtypes\n",
    "df=df.drop('date', axis=1)"
   ]
  },
  {
   "cell_type": "code",
   "execution_count": 9,
   "metadata": {
    "collapsed": true
   },
   "outputs": [],
   "source": [
    "df=df.dropna()"
   ]
  },
  {
   "cell_type": "code",
   "execution_count": 10,
   "metadata": {
    "collapsed": false
   },
   "outputs": [
    {
     "data": {
      "text/html": [
       "<div>\n",
       "<table border=\"1\" class=\"dataframe\">\n",
       "  <thead>\n",
       "    <tr style=\"text-align: right;\">\n",
       "      <th></th>\n",
       "      <th>count</th>\n",
       "      <th>mean</th>\n",
       "      <th>std</th>\n",
       "      <th>min</th>\n",
       "      <th>25%</th>\n",
       "      <th>50%</th>\n",
       "      <th>75%</th>\n",
       "      <th>max</th>\n",
       "    </tr>\n",
       "  </thead>\n",
       "  <tbody>\n",
       "    <tr>\n",
       "      <th>num_claims</th>\n",
       "      <td>1000.0</td>\n",
       "      <td>14.288</td>\n",
       "      <td>11.728197</td>\n",
       "      <td>0.0</td>\n",
       "      <td>6.0</td>\n",
       "      <td>13.0</td>\n",
       "      <td>20.0</td>\n",
       "      <td>174.0</td>\n",
       "    </tr>\n",
       "    <tr>\n",
       "      <th>forward_citation</th>\n",
       "      <td>1000.0</td>\n",
       "      <td>2.490</td>\n",
       "      <td>19.015243</td>\n",
       "      <td>0.0</td>\n",
       "      <td>0.0</td>\n",
       "      <td>0.0</td>\n",
       "      <td>0.0</td>\n",
       "      <td>466.0</td>\n",
       "    </tr>\n",
       "    <tr>\n",
       "      <th>backward_citation</th>\n",
       "      <td>1000.0</td>\n",
       "      <td>1.749</td>\n",
       "      <td>13.318911</td>\n",
       "      <td>0.0</td>\n",
       "      <td>0.0</td>\n",
       "      <td>0.0</td>\n",
       "      <td>0.0</td>\n",
       "      <td>288.0</td>\n",
       "    </tr>\n",
       "    <tr>\n",
       "      <th>year</th>\n",
       "      <td>1000.0</td>\n",
       "      <td>2002.863</td>\n",
       "      <td>11.077859</td>\n",
       "      <td>1976.0</td>\n",
       "      <td>1995.0</td>\n",
       "      <td>2005.0</td>\n",
       "      <td>2012.0</td>\n",
       "      <td>2017.0</td>\n",
       "    </tr>\n",
       "    <tr>\n",
       "      <th>month</th>\n",
       "      <td>1000.0</td>\n",
       "      <td>6.701</td>\n",
       "      <td>3.406053</td>\n",
       "      <td>1.0</td>\n",
       "      <td>4.0</td>\n",
       "      <td>7.0</td>\n",
       "      <td>10.0</td>\n",
       "      <td>12.0</td>\n",
       "    </tr>\n",
       "    <tr>\n",
       "      <th>day</th>\n",
       "      <td>1000.0</td>\n",
       "      <td>15.707</td>\n",
       "      <td>8.886626</td>\n",
       "      <td>1.0</td>\n",
       "      <td>8.0</td>\n",
       "      <td>16.0</td>\n",
       "      <td>23.0</td>\n",
       "      <td>31.0</td>\n",
       "    </tr>\n",
       "  </tbody>\n",
       "</table>\n",
       "</div>"
      ],
      "text/plain": [
       "                    count      mean        std     min     25%     50%  \\\n",
       "num_claims         1000.0    14.288  11.728197     0.0     6.0    13.0   \n",
       "forward_citation   1000.0     2.490  19.015243     0.0     0.0     0.0   \n",
       "backward_citation  1000.0     1.749  13.318911     0.0     0.0     0.0   \n",
       "year               1000.0  2002.863  11.077859  1976.0  1995.0  2005.0   \n",
       "month              1000.0     6.701   3.406053     1.0     4.0     7.0   \n",
       "day                1000.0    15.707   8.886626     1.0     8.0    16.0   \n",
       "\n",
       "                      75%     max  \n",
       "num_claims           20.0   174.0  \n",
       "forward_citation      0.0   466.0  \n",
       "backward_citation     0.0   288.0  \n",
       "year               2012.0  2017.0  \n",
       "month                10.0    12.0  \n",
       "day                  23.0    31.0  "
      ]
     },
     "execution_count": 10,
     "metadata": {},
     "output_type": "execute_result"
    }
   ],
   "source": [
    "df.describe().transpose()"
   ]
  },
  {
   "cell_type": "code",
   "execution_count": 11,
   "metadata": {
    "collapsed": false
   },
   "outputs": [
    {
     "name": "stdout",
     "output_type": "stream",
     "text": [
      "Total number of observations and attributes\n",
      "(1000, 8)\n",
      "Number of numerical attributes: 6\n",
      "Number of non-numerical attributes: 2\n"
     ]
    }
   ],
   "source": [
    "# #normalization\n",
    "df=normalize(df)"
   ]
  },
  {
   "cell_type": "code",
   "execution_count": 12,
   "metadata": {
    "collapsed": false
   },
   "outputs": [
    {
     "data": {
      "text/html": [
       "<div>\n",
       "<table border=\"1\" class=\"dataframe\">\n",
       "  <thead>\n",
       "    <tr style=\"text-align: right;\">\n",
       "      <th></th>\n",
       "      <th>count</th>\n",
       "      <th>mean</th>\n",
       "      <th>std</th>\n",
       "      <th>min</th>\n",
       "      <th>25%</th>\n",
       "      <th>50%</th>\n",
       "      <th>75%</th>\n",
       "      <th>max</th>\n",
       "    </tr>\n",
       "  </thead>\n",
       "  <tbody>\n",
       "    <tr>\n",
       "      <th>num_claims</th>\n",
       "      <td>1000.0</td>\n",
       "      <td>0.082115</td>\n",
       "      <td>0.067403</td>\n",
       "      <td>0.0</td>\n",
       "      <td>0.034483</td>\n",
       "      <td>0.074713</td>\n",
       "      <td>0.114943</td>\n",
       "      <td>1.0</td>\n",
       "    </tr>\n",
       "    <tr>\n",
       "      <th>forward_citation</th>\n",
       "      <td>1000.0</td>\n",
       "      <td>0.005343</td>\n",
       "      <td>0.040805</td>\n",
       "      <td>0.0</td>\n",
       "      <td>0.000000</td>\n",
       "      <td>0.000000</td>\n",
       "      <td>0.000000</td>\n",
       "      <td>1.0</td>\n",
       "    </tr>\n",
       "    <tr>\n",
       "      <th>backward_citation</th>\n",
       "      <td>1000.0</td>\n",
       "      <td>0.006073</td>\n",
       "      <td>0.046246</td>\n",
       "      <td>0.0</td>\n",
       "      <td>0.000000</td>\n",
       "      <td>0.000000</td>\n",
       "      <td>0.000000</td>\n",
       "      <td>1.0</td>\n",
       "    </tr>\n",
       "    <tr>\n",
       "      <th>year</th>\n",
       "      <td>1000.0</td>\n",
       "      <td>0.655195</td>\n",
       "      <td>0.270192</td>\n",
       "      <td>0.0</td>\n",
       "      <td>0.463415</td>\n",
       "      <td>0.707317</td>\n",
       "      <td>0.878049</td>\n",
       "      <td>1.0</td>\n",
       "    </tr>\n",
       "    <tr>\n",
       "      <th>month</th>\n",
       "      <td>1000.0</td>\n",
       "      <td>0.518273</td>\n",
       "      <td>0.309641</td>\n",
       "      <td>0.0</td>\n",
       "      <td>0.272727</td>\n",
       "      <td>0.545455</td>\n",
       "      <td>0.818182</td>\n",
       "      <td>1.0</td>\n",
       "    </tr>\n",
       "    <tr>\n",
       "      <th>day</th>\n",
       "      <td>1000.0</td>\n",
       "      <td>0.490233</td>\n",
       "      <td>0.296221</td>\n",
       "      <td>0.0</td>\n",
       "      <td>0.233333</td>\n",
       "      <td>0.500000</td>\n",
       "      <td>0.733333</td>\n",
       "      <td>1.0</td>\n",
       "    </tr>\n",
       "    <tr>\n",
       "      <th>type_design</th>\n",
       "      <td>1000.0</td>\n",
       "      <td>0.095000</td>\n",
       "      <td>0.293362</td>\n",
       "      <td>0.0</td>\n",
       "      <td>0.000000</td>\n",
       "      <td>0.000000</td>\n",
       "      <td>0.000000</td>\n",
       "      <td>1.0</td>\n",
       "    </tr>\n",
       "    <tr>\n",
       "      <th>type_plant</th>\n",
       "      <td>1000.0</td>\n",
       "      <td>0.003000</td>\n",
       "      <td>0.054717</td>\n",
       "      <td>0.0</td>\n",
       "      <td>0.000000</td>\n",
       "      <td>0.000000</td>\n",
       "      <td>0.000000</td>\n",
       "      <td>1.0</td>\n",
       "    </tr>\n",
       "    <tr>\n",
       "      <th>type_statutory invention registration</th>\n",
       "      <td>1000.0</td>\n",
       "      <td>0.001000</td>\n",
       "      <td>0.031623</td>\n",
       "      <td>0.0</td>\n",
       "      <td>0.000000</td>\n",
       "      <td>0.000000</td>\n",
       "      <td>0.000000</td>\n",
       "      <td>1.0</td>\n",
       "    </tr>\n",
       "    <tr>\n",
       "      <th>type_utility</th>\n",
       "      <td>1000.0</td>\n",
       "      <td>0.901000</td>\n",
       "      <td>0.298811</td>\n",
       "      <td>0.0</td>\n",
       "      <td>1.000000</td>\n",
       "      <td>1.000000</td>\n",
       "      <td>1.000000</td>\n",
       "      <td>1.0</td>\n",
       "    </tr>\n",
       "    <tr>\n",
       "      <th>kind_A</th>\n",
       "      <td>1000.0</td>\n",
       "      <td>0.358000</td>\n",
       "      <td>0.479652</td>\n",
       "      <td>0.0</td>\n",
       "      <td>0.000000</td>\n",
       "      <td>0.000000</td>\n",
       "      <td>1.000000</td>\n",
       "      <td>1.0</td>\n",
       "    </tr>\n",
       "    <tr>\n",
       "      <th>kind_B1</th>\n",
       "      <td>1000.0</td>\n",
       "      <td>0.080000</td>\n",
       "      <td>0.271429</td>\n",
       "      <td>0.0</td>\n",
       "      <td>0.000000</td>\n",
       "      <td>0.000000</td>\n",
       "      <td>0.000000</td>\n",
       "      <td>1.0</td>\n",
       "    </tr>\n",
       "    <tr>\n",
       "      <th>kind_B2</th>\n",
       "      <td>1000.0</td>\n",
       "      <td>0.463000</td>\n",
       "      <td>0.498879</td>\n",
       "      <td>0.0</td>\n",
       "      <td>0.000000</td>\n",
       "      <td>0.000000</td>\n",
       "      <td>1.000000</td>\n",
       "      <td>1.0</td>\n",
       "    </tr>\n",
       "    <tr>\n",
       "      <th>kind_H</th>\n",
       "      <td>1000.0</td>\n",
       "      <td>0.001000</td>\n",
       "      <td>0.031623</td>\n",
       "      <td>0.0</td>\n",
       "      <td>0.000000</td>\n",
       "      <td>0.000000</td>\n",
       "      <td>0.000000</td>\n",
       "      <td>1.0</td>\n",
       "    </tr>\n",
       "    <tr>\n",
       "      <th>kind_P</th>\n",
       "      <td>1000.0</td>\n",
       "      <td>0.002000</td>\n",
       "      <td>0.044699</td>\n",
       "      <td>0.0</td>\n",
       "      <td>0.000000</td>\n",
       "      <td>0.000000</td>\n",
       "      <td>0.000000</td>\n",
       "      <td>1.0</td>\n",
       "    </tr>\n",
       "    <tr>\n",
       "      <th>kind_P2</th>\n",
       "      <td>1000.0</td>\n",
       "      <td>0.001000</td>\n",
       "      <td>0.031623</td>\n",
       "      <td>0.0</td>\n",
       "      <td>0.000000</td>\n",
       "      <td>0.000000</td>\n",
       "      <td>0.000000</td>\n",
       "      <td>1.0</td>\n",
       "    </tr>\n",
       "    <tr>\n",
       "      <th>kind_S</th>\n",
       "      <td>1000.0</td>\n",
       "      <td>0.035000</td>\n",
       "      <td>0.183872</td>\n",
       "      <td>0.0</td>\n",
       "      <td>0.000000</td>\n",
       "      <td>0.000000</td>\n",
       "      <td>0.000000</td>\n",
       "      <td>1.0</td>\n",
       "    </tr>\n",
       "    <tr>\n",
       "      <th>kind_S1</th>\n",
       "      <td>1000.0</td>\n",
       "      <td>0.060000</td>\n",
       "      <td>0.237606</td>\n",
       "      <td>0.0</td>\n",
       "      <td>0.000000</td>\n",
       "      <td>0.000000</td>\n",
       "      <td>0.000000</td>\n",
       "      <td>1.0</td>\n",
       "    </tr>\n",
       "  </tbody>\n",
       "</table>\n",
       "</div>"
      ],
      "text/plain": [
       "                                        count      mean       std  min  \\\n",
       "num_claims                             1000.0  0.082115  0.067403  0.0   \n",
       "forward_citation                       1000.0  0.005343  0.040805  0.0   \n",
       "backward_citation                      1000.0  0.006073  0.046246  0.0   \n",
       "year                                   1000.0  0.655195  0.270192  0.0   \n",
       "month                                  1000.0  0.518273  0.309641  0.0   \n",
       "day                                    1000.0  0.490233  0.296221  0.0   \n",
       "type_design                            1000.0  0.095000  0.293362  0.0   \n",
       "type_plant                             1000.0  0.003000  0.054717  0.0   \n",
       "type_statutory invention registration  1000.0  0.001000  0.031623  0.0   \n",
       "type_utility                           1000.0  0.901000  0.298811  0.0   \n",
       "kind_A                                 1000.0  0.358000  0.479652  0.0   \n",
       "kind_B1                                1000.0  0.080000  0.271429  0.0   \n",
       "kind_B2                                1000.0  0.463000  0.498879  0.0   \n",
       "kind_H                                 1000.0  0.001000  0.031623  0.0   \n",
       "kind_P                                 1000.0  0.002000  0.044699  0.0   \n",
       "kind_P2                                1000.0  0.001000  0.031623  0.0   \n",
       "kind_S                                 1000.0  0.035000  0.183872  0.0   \n",
       "kind_S1                                1000.0  0.060000  0.237606  0.0   \n",
       "\n",
       "                                            25%       50%       75%  max  \n",
       "num_claims                             0.034483  0.074713  0.114943  1.0  \n",
       "forward_citation                       0.000000  0.000000  0.000000  1.0  \n",
       "backward_citation                      0.000000  0.000000  0.000000  1.0  \n",
       "year                                   0.463415  0.707317  0.878049  1.0  \n",
       "month                                  0.272727  0.545455  0.818182  1.0  \n",
       "day                                    0.233333  0.500000  0.733333  1.0  \n",
       "type_design                            0.000000  0.000000  0.000000  1.0  \n",
       "type_plant                             0.000000  0.000000  0.000000  1.0  \n",
       "type_statutory invention registration  0.000000  0.000000  0.000000  1.0  \n",
       "type_utility                           1.000000  1.000000  1.000000  1.0  \n",
       "kind_A                                 0.000000  0.000000  1.000000  1.0  \n",
       "kind_B1                                0.000000  0.000000  0.000000  1.0  \n",
       "kind_B2                                0.000000  0.000000  1.000000  1.0  \n",
       "kind_H                                 0.000000  0.000000  0.000000  1.0  \n",
       "kind_P                                 0.000000  0.000000  0.000000  1.0  \n",
       "kind_P2                                0.000000  0.000000  0.000000  1.0  \n",
       "kind_S                                 0.000000  0.000000  0.000000  1.0  \n",
       "kind_S1                                0.000000  0.000000  0.000000  1.0  "
      ]
     },
     "execution_count": 12,
     "metadata": {},
     "output_type": "execute_result"
    }
   ],
   "source": [
    "df.describe().transpose()"
   ]
  },
  {
   "cell_type": "code",
   "execution_count": 13,
   "metadata": {
    "collapsed": false
   },
   "outputs": [
    {
     "data": {
      "text/plain": [
       "18"
      ]
     },
     "execution_count": 13,
     "metadata": {},
     "output_type": "execute_result"
    }
   ],
   "source": [
    "# List of IVs\n",
    "chosenColumns=df.columns.values.tolist()\n",
    "len(chosenColumns)"
   ]
  },
  {
   "cell_type": "code",
   "execution_count": 14,
   "metadata": {
    "collapsed": false,
    "scrolled": true
   },
   "outputs": [
    {
     "data": {
      "text/plain": [
       "17"
      ]
     },
     "execution_count": 14,
     "metadata": {},
     "output_type": "execute_result"
    }
   ],
   "source": [
    "chosenColumns.remove('backward_citation')\n",
    "len(chosenColumns)"
   ]
  },
  {
   "cell_type": "code",
   "execution_count": 15,
   "metadata": {
    "collapsed": true
   },
   "outputs": [],
   "source": [
    "# chosenColumns.remove('citation_bi')\n",
    "# chosenColumns.remove('log_back_cit')"
   ]
  },
  {
   "cell_type": "code",
   "execution_count": 16,
   "metadata": {
    "collapsed": true
   },
   "outputs": [],
   "source": [
    "myX = df.as_matrix(columns=chosenColumns)\n",
    "myY = df.as_matrix(columns=['backward_citation'])"
   ]
  },
  {
   "cell_type": "code",
   "execution_count": 17,
   "metadata": {
    "collapsed": false
   },
   "outputs": [
    {
     "name": "stderr",
     "output_type": "stream",
     "text": [
      "/home/applications/anaconda3/4.2.0/lib/python3.5/site-packages/sklearn/model_selection/_split.py:2010: FutureWarning: From version 0.21, test_size will always complement train_size unless both are specified.\n",
      "  FutureWarning)\n"
     ]
    }
   ],
   "source": [
    "xTrain, xTest, yTrain, yTest = train_test_split(myX, myY, train_size=0.7, random_state=3) \n",
    "testSize = yTest.shape[0]\n",
    "trainSize = yTrain.shape[0]"
   ]
  },
  {
   "cell_type": "code",
   "execution_count": 18,
   "metadata": {
    "collapsed": false
   },
   "outputs": [
    {
     "name": "stdout",
     "output_type": "stream",
     "text": [
      "Out of sample error versus attribute set size\n",
      "0.0589|0.0586|0.0586|0.0584|0.0583|0.0583|0.0583|0.0583|0.0583|0.0583|0.0584|0.0585|0.0588|0.0595|0.0595|0.0595|0.0595\n",
      "['kind_S', 'forward_citation', 'kind_A', 'year', 'month', 'type_statutory invention registration', 'kind_P', 'kind_H', 'type_plant', 'kind_P2', 'day', 'num_claims', 'kind_B1', 'kind_B2', 'kind_S1', 'type_design', 'type_utility']\n"
     ]
    },
    {
     "data": {
      "image/png": "[encoded data removed]",
      "text/plain": [
       "<matplotlib.figure.Figure at 0x7ff865243400>"
      ]
     },
     "metadata": {},
     "output_type": "display_data"
    },
    {
     "data": {
      "image/png": "[encoded data removed]",
      "text/plain": [
       "<matplotlib.figure.Figure at 0x7ff841997978>"
      ]
     },
     "metadata": {},
     "output_type": "display_data"
    }
   ],
   "source": [
    "best_num_attr(myX, xTrain, xTest, yTrain, yTest, chosenColumns, regtype='linear')"
   ]
  },
  {
   "cell_type": "code",
   "execution_count": null,
   "metadata": {
    "collapsed": true
   },
   "outputs": [],
   "source": []
  }
 ],
 "metadata": {
  "anaconda-cloud": {},
  "kernelspec": {
   "display_name": "Python [default]",
   "language": "python",
   "name": "python3"
  },
  "language_info": {
   "codemirror_mode": {
    "name": "ipython",
    "version": 3
   },
   "file_extension": ".py",
   "mimetype": "text/x-python",
   "name": "python",
   "nbconvert_exporter": "python",
   "pygments_lexer": "ipython3",
   "version": "3.5.2"
  }
 },
 "nbformat": 4,
 "nbformat_minor": 1
}
