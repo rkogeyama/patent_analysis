{
 "cells": [
  {
   "cell_type": "code",
   "execution_count": 1,
   "metadata": {
    "collapsed": true
   },
   "outputs": [],
   "source": [
    "# Sample USPTO to test coding with limited memory\n",
    "\n",
    "# 09-23-19\n",
    "# Marcelo sugeriu Reservoir Sampling\n",
    "\n",
    "# 09-18-19\n",
    "# Renato Kogeyama"
   ]
  },
  {
   "cell_type": "code",
   "execution_count": 2,
   "metadata": {
    "collapsed": true
   },
   "outputs": [],
   "source": [
    "import csv\n",
    "import pandas as pd\n",
    "import random\n",
    "import itertools\n",
    "import sys\n",
    "import numpy as np\n",
    "\n",
    "\n",
    "from sklearn import linear_model\n",
    "from sklearn import naive_bayes\n",
    "from sklearn.neighbors import KNeighborsClassifier\n",
    "from sklearn.model_selection import train_test_split\n",
    "import matplotlib.pyplot as plot\n",
    "from sklearn.metrics import roc_curve, auc\n",
    "from scipy import stats\n",
    "import datetime"
   ]
  },
  {
   "cell_type": "code",
   "execution_count": 3,
   "metadata": {
    "collapsed": true
   },
   "outputs": [],
   "source": [
    "# #Reservoir sampling  (Knuth 1981)\n",
    "\n",
    "# def sample(iterable, n):\n",
    "#     \"\"\"\n",
    "#     Returns @param n random items from @param iterable.\n",
    "#     \"\"\"\n",
    "#     reservoir = []\n",
    "#     for t, item in enumerate(iterable):\n",
    "#         if t < n:\n",
    "#             reservoir.append(item)\n",
    "#         else:\n",
    "#             m = random.randint(0,t)\n",
    "#             if m < n:\n",
    "#                 reservoir[m] = item\n",
    "#     return reservoir\n",
    "\n",
    "# # Assume that you have the memory to store k elements. \n",
    "# # Store the first k elements in the memory in an array. \n",
    "# # Now when you receive the nth element (where n > k), generate a random number r between 1 and n. \n",
    "# # If r > k discard the nth element. Otherwise replace the rth element in the array with the nth element. \n",
    "# # This approach will ensure that at any stage your array would contain k elements \n",
    "# #that are uniformly randomly selected from the input elements received so far. \n",
    "\n",
    "# # Proof: We can show by induction that the k representative elements \n",
    "# # at any stage are distributed in a uniformly random way. \n",
    "# # Assume that after receiving n-1 elements, any element is present in the array with probability k/(n-1). \n",
    "# # After receiving the nth element, the probability that the element will be inserted into the array = k/n. \n",
    "# # For any other element, the probability that it is represented in the current iteration = probability \n",
    "# # that it is represented in the previous iteration * probability that it is not replaced in the current iteration\n",
    "# # = (k/(n-1)) * (n-1)/n = k/n.\n"
   ]
  },
  {
   "cell_type": "code",
   "execution_count": 4,
   "metadata": {
    "collapsed": true
   },
   "outputs": [],
   "source": [
    "# citation_file=r\"patent_citation.csv\"\n",
    "# patents_file=\"patent.csv\"\n",
    "fname='df_w_pat_cit_190926.csv'\n",
    "sample_df='sample_df_w_pat_cit_190926.csv'"
   ]
  },
  {
   "cell_type": "code",
   "execution_count": 5,
   "metadata": {
    "collapsed": false
   },
   "outputs": [],
   "source": [
    "# f=open(fname, 'r')\n",
    "# file=csv.reader(f)"
   ]
  },
  {
   "cell_type": "code",
   "execution_count": 6,
   "metadata": {
    "collapsed": true
   },
   "outputs": [],
   "source": [
    "# header=file.readline().strip()\n",
    "# header\n",
    "# reader = pd.read_csv(fname, iterator=True)"
   ]
  },
  {
   "cell_type": "code",
   "execution_count": 7,
   "metadata": {
    "collapsed": false
   },
   "outputs": [],
   "source": [
    "# sample=itertools.islice(reader, 0, None, 1000)\n",
    "\n",
    "n = sum(1 for line in open(fname)) - 1 #number of records in file (excludes header)\n",
    "s = 10000 #desired sample size\n",
    "skip = sorted(random.sample(range(1,n+1),n-s)) #the 0-indexed header will not be included in the skip list\n",
    "df = pd.read_csv(fname, skiprows=skip)"
   ]
  },
  {
   "cell_type": "code",
   "execution_count": 8,
   "metadata": {
    "collapsed": false
   },
   "outputs": [],
   "source": [
    "# output=[]\n",
    "# for row in sample:\n",
    "#     output.append(row)"
   ]
  },
  {
   "cell_type": "code",
   "execution_count": 9,
   "metadata": {
    "collapsed": false
   },
   "outputs": [],
   "source": [
    "df=pd.get_dummies(df, columns=['type', 'kind'])\n"
   ]
  },
  {
   "cell_type": "code",
   "execution_count": 10,
   "metadata": {
    "collapsed": false
   },
   "outputs": [],
   "source": [
    "# #this is the essence of the script, we open a huge file as patent.csv and reads only lines that are multiple of xmultiplier\n",
    "# xmultiplier=100000\n",
    "# patents=[]\n",
    "\n",
    "# # with open(file, encoding='utf-8') as myFile:\n",
    "# with open(fname,'r') as myFile:\n",
    "#     reader = csv.reader(myFile)\n",
    "#     row_count=0\n",
    "#     for row in reader:\n",
    "#         if row_count % xmultiplier == 0: #[1]\n",
    "#             output=[]\n",
    "# #             columns=row.split('\\t').split(',')\n",
    "# #             columns=row.split(',')\n",
    "# #             for column in columns:\n",
    "# #             for column in row:\n",
    "# # #             print(line, end='')\n",
    "# #                 output.append(column.strip())\n",
    "# # #             print(row_count)\n",
    "# #             patents.append(output)\n",
    "#             patents.append(row)       \n",
    "#         row_count+=1\n",
    "# patents"
   ]
  },
  {
   "cell_type": "code",
   "execution_count": 11,
   "metadata": {
    "collapsed": true
   },
   "outputs": [],
   "source": [
    "# max=10000000\n",
    "# output=[]\n",
    "# line=[]\n",
    "# for i in range(1,100):\n",
    "#     index = random.randint(1,max)\n",
    "# #     row=file.readline(abs(index)).strip()\n",
    "#     row=file.readline(abs(index))\n",
    "#     for column in row:\n",
    "#         line.append(column)\n",
    "#     output.append(line)"
   ]
  },
  {
   "cell_type": "code",
   "execution_count": 12,
   "metadata": {
    "collapsed": false
   },
   "outputs": [],
   "source": [
    "# output=sample(file,100)\n"
   ]
  },
  {
   "cell_type": "code",
   "execution_count": 13,
   "metadata": {
    "collapsed": false
   },
   "outputs": [],
   "source": [
    "#sample_text=sample(pd.read_csv(file, chunksize=10), 100) #relativamente simples, mas carrega todo o arquivo\n",
    "#a questao eh que eu nao preciso do arquivo randomizado corretamente\n",
    "#preciso apenas de uma amostra para testar o algoritmo"
   ]
  },
  {
   "cell_type": "code",
   "execution_count": 14,
   "metadata": {
    "collapsed": false
   },
   "outputs": [],
   "source": [
    "# with open(fname,'r') as myFile: #ja foi aberto em cima\n",
    "\n",
    "    # reader = pd.read_csv(file, chunksize=10) #o reader se torna um iterator\n",
    "    # sample_text=sample(reader, 100)"
   ]
  },
  {
   "cell_type": "code",
   "execution_count": 15,
   "metadata": {
    "collapsed": true
   },
   "outputs": [],
   "source": [
    "# [1]\n",
    "# Modulus operator: %\n",
    "# Modulus - remainder of the division of left operand by the right\n"
   ]
  },
  {
   "cell_type": "code",
   "execution_count": 16,
   "metadata": {
    "collapsed": false
   },
   "outputs": [
    {
     "name": "stdout",
     "output_type": "stream",
     "text": [
      "id\n",
      "number\n",
      "country\n",
      "date\n",
      "abstract\n",
      "title\n",
      "num_claims\n",
      "filename\n",
      "citation_id\n",
      "year\n",
      "month\n",
      "day\n",
      "type_plant\n",
      "type_reissue\n",
      "type_statutory invention registration\n",
      "type_utility\n",
      "kind_A\n",
      "kind_B1\n",
      "kind_B2\n",
      "kind_E\n",
      "kind_E1\n",
      "kind_H\n",
      "kind_P\n",
      "kind_P2\n",
      "kind_P3\n"
     ]
    }
   ],
   "source": [
    "# #arrange data into list for labels and list of lists for attributes\n",
    "# xList = []\n",
    "# labels = []\n",
    "\n",
    "# for column in df.columns:\n",
    "#     print(column)    \n",
    "#     label = column.strip()\n",
    "#     labels.append(label)"
   ]
  },
  {
   "cell_type": "code",
   "execution_count": 17,
   "metadata": {
    "collapsed": false
   },
   "outputs": [
    {
     "name": "stdout",
     "output_type": "stream",
     "text": [
      "# of rows: 9999\n",
      "# of columns: 25\n"
     ]
    }
   ],
   "source": [
    "# for row in range(1,len(df)):\n",
    "#     for line in patents[row]:\n",
    "#         #split on comma\n",
    "#         row = line.strip().split(\",\")\n",
    "#         xList.append(row)\n",
    "\n",
    "nrow = len(df)\n",
    "ncol = len(df.columns)\n",
    "\n",
    "print('# of rows:', nrow)\n",
    "print('# of columns:', ncol)"
   ]
  },
  {
   "cell_type": "code",
   "execution_count": 18,
   "metadata": {
    "collapsed": false
   },
   "outputs": [],
   "source": [
    "# #generate summary statistics for column 3 (e.g.)\n",
    "# col = 6\n",
    "# colData = []\n",
    "# for row in df:\n",
    "# #     print(row)\n",
    "#     colData.append(float(row[col]))\n",
    "# colArray = np.array(colData)"
   ]
  },
  {
   "cell_type": "code",
   "execution_count": 19,
   "metadata": {
    "collapsed": true
   },
   "outputs": [],
   "source": [
    "matplotlib inline"
   ]
  },
  {
   "cell_type": "code",
   "execution_count": 20,
   "metadata": {
    "collapsed": false
   },
   "outputs": [
    {
     "data": {
      "text/plain": [
       "(9799, 25)"
      ]
     },
     "execution_count": 20,
     "metadata": {},
     "output_type": "execute_result"
    }
   ],
   "source": [
    "# df3 - retirada dos outliers\n",
    "\n",
    "df3=df\n",
    "\n",
    "# preparacao para retirar outliers\n",
    "mean=df3.mean(axis=0)\n",
    "std_dev=df3.std(axis=0)\n",
    "\n",
    "# threshold=3*std_dev.citation_id\n",
    "threshold=3*std_dev\n",
    "\n",
    "df3=df3[df3.citation_id-mean.citation_id<threshold.citation_id]\n",
    "df3=df3[df3.num_claims-mean.num_claims<threshold.num_claims]\n",
    "\n",
    "df3.shape"
   ]
  },
  {
   "cell_type": "code",
   "execution_count": 21,
   "metadata": {
    "collapsed": false
   },
   "outputs": [
    {
     "name": "stdout",
     "output_type": "stream",
     "text": [
      "id | 9999 | object\n",
      "number | 9999 | object\n",
      "country | 1 | object\n",
      "date | 2090 | object\n",
      "abstract | 9993 | object\n",
      "title | 9911 | object\n",
      "num_claims | 104 | float64\n",
      "filename | 2090 | object\n",
      "citation_id | 46 | float64\n",
      "year | 42 | int64\n",
      "month | 12 | int64\n",
      "day | 31 | int64\n",
      "type_plant | 2 | float64\n",
      "type_reissue | 2 | float64\n",
      "type_statutory invention registration | 2 | float64\n",
      "type_utility | 2 | float64\n",
      "kind_A | 2 | float64\n",
      "kind_B1 | 2 | float64\n",
      "kind_B2 | 2 | float64\n",
      "kind_E | 2 | float64\n",
      "kind_E1 | 2 | float64\n",
      "kind_H | 2 | float64\n",
      "kind_P | 2 | float64\n",
      "kind_P2 | 2 | float64\n",
      "kind_P3 | 2 | float64\n"
     ]
    }
   ],
   "source": [
    "# Check the Dataset\n",
    "def uniqueColValues(auxdf):\n",
    "    for column in auxdf:\n",
    "        print(\"{} | {} | {}\".format(\n",
    "            auxdf[column].name, len(auxdf[column].unique()), auxdf[column].dtype\n",
    "        ))\n",
    "        \n",
    "uniqueColValues(df)"
   ]
  },
  {
   "cell_type": "code",
   "execution_count": 31,
   "metadata": {
    "collapsed": false
   },
   "outputs": [
    {
     "data": {
      "image/png": "[encoded data removed]",
      "text/plain": [
       "<matplotlib.figure.Figure at 0x7fc134ea2ba8>"
      ]
     },
     "metadata": {},
     "output_type": "display_data"
    }
   ],
   "source": [
    "plot.subplot(1, 3, 1)\n",
    "plot.title('# of citations \\n with outliers')\n",
    "plot.xlabel('citations') \n",
    "plot.ylabel('claims') \n",
    "plot.scatter(df['citation_id'], df['num_claims'], s=12)\n",
    "\n",
    "plot.subplot(1, 3, 2)\n",
    "plot.title('# of citations \\n no outliers')\n",
    "plot.xlabel('citations') \n",
    "plot.ylabel('claims') \n",
    "plot.scatter(df3['citation_id'], df3['num_claims'], s=1)\n",
    "\n",
    "plot.subplot(1, 3, 3)\n",
    "plot.title('# of citations \\n histogram \\n no outliers')\n",
    "df3.citation_id.hist()\n",
    "\n",
    "plot.tight_layout()"
   ]
  },
  {
   "cell_type": "code",
   "execution_count": 26,
   "metadata": {
    "collapsed": false
   },
   "outputs": [],
   "source": [
    "# # Naive Bayes\n",
    "def test_naive_bayes(dataset):\n",
    "\n",
    "    chosenColumns = ['num_claims','year', 'type_plant',\n",
    "           'type_reissue', 'type_statutory invention registration', 'type_utility',\n",
    "           'kind_A', 'kind_B1', 'kind_B2', 'kind_E', 'kind_E1', 'kind_H', 'kind_P',\n",
    "           'kind_P2', 'kind_P3']\n",
    "\n",
    "    myX = dataset.as_matrix(columns=chosenColumns)\n",
    "    # myY = df2.as_matrix(columns=['citation_id'])\n",
    "    myY = dataset.as_matrix(columns=['citation_id'])\n",
    "\n",
    "    xTrain, xTest, yTrain, yTest = train_test_split(myX, myY, train_size=0.7, random_state=3)\n",
    "    testSize = yTest.shape[0]\n",
    "\n",
    "\n",
    "    # nb = naive_bayes.GaussianNB()\n",
    "\n",
    "    # dado que o output eh count, uma distribuicao multinomial se adapta melhor\n",
    "    nb = naive_bayes.MultinomialNB()\n",
    "\n",
    "    # complementNB adapta o MultinomialNB para datasets muito desbalanceados\n",
    "    # porem nao esta disponivel para a versao 0.19 do scikit-learn\n",
    "    # nb = naive_bayes.ComplementNB()\n",
    "\n",
    "    nb.fit(xTrain, yTrain.ravel())\n",
    "\n",
    "    yPredNB = nb.predict(xTest) # predicting test data\n",
    "\n",
    "    # computing error\n",
    "    errorNB = np.sum((yPredNB[i] != yTest[i]) for i in range(0, testSize))\n",
    "    errorNBPCT = int(100*errorNB/testSize)\n",
    "    hitRateNBPCT = 100 - errorNBPCT\n",
    "    return(testSize, errorNB, errorNBPCT, hitRateNBPCT)\n",
    "   "
   ]
  },
  {
   "cell_type": "code",
   "execution_count": 27,
   "metadata": {
    "collapsed": false
   },
   "outputs": [
    {
     "name": "stdout",
     "output_type": "stream",
     "text": [
      "----------Naive Bayes----------\n",
      "170 misclassified data out of 3000\n",
      "Error PCT:  5 %\n",
      "Hit Rate:   95 %\n"
     ]
    },
    {
     "name": "stderr",
     "output_type": "stream",
     "text": [
      "/home/applications/anaconda3/4.2.0/lib/python3.5/site-packages/sklearn/model_selection/_split.py:2010: FutureWarning: From version 0.21, test_size will always complement train_size unless both are specified.\n",
      "  FutureWarning)\n"
     ]
    }
   ],
   "source": [
    "#naive bayes with complete dataset\n",
    "\n",
    "testSize, errorNB, errorNBPCT, hitRateNBPCT=test_naive_bayes(df)\n",
    "\n",
    "print(\"----------Naive Bayes----------\")\n",
    "print(int(errorNB), \"misclassified data out of\", testSize)\n",
    "print(\"Error PCT: \",errorNBPCT,'%')\n",
    "print(\"Hit Rate:  \",hitRateNBPCT,'%')"
   ]
  },
  {
   "cell_type": "code",
   "execution_count": 28,
   "metadata": {
    "collapsed": false
   },
   "outputs": [
    {
     "name": "stdout",
     "output_type": "stream",
     "text": [
      "----------Naive Bayes----------\n",
      "138 misclassified data out of 2940\n",
      "Error PCT:  4 %\n",
      "Hit Rate:   96 %\n"
     ]
    },
    {
     "name": "stderr",
     "output_type": "stream",
     "text": [
      "/home/applications/anaconda3/4.2.0/lib/python3.5/site-packages/sklearn/model_selection/_split.py:2010: FutureWarning: From version 0.21, test_size will always complement train_size unless both are specified.\n",
      "  FutureWarning)\n"
     ]
    }
   ],
   "source": [
    "#naive bayes without outliers\n",
    "\n",
    "testSize, errorNB, errorNBPCT, hitRateNBPCT=test_naive_bayes(df3)\n",
    "\n",
    "print(\"----------Naive Bayes----------\")\n",
    "print(int(errorNB), \"misclassified data out of\", testSize)\n",
    "print(\"Error PCT: \",errorNBPCT,'%')\n",
    "print(\"Hit Rate:  \",hitRateNBPCT,'%')"
   ]
  },
  {
   "cell_type": "code",
   "execution_count": null,
   "metadata": {
    "collapsed": true
   },
   "outputs": [],
   "source": []
  }
 ],
 "metadata": {
  "anaconda-cloud": {},
  "kernelspec": {
   "display_name": "Python [default]",
   "language": "python",
   "name": "python3"
  },
  "language_info": {
   "codemirror_mode": {
    "name": "ipython",
    "version": 3
   },
   "file_extension": ".py",
   "mimetype": "text/x-python",
   "name": "python",
   "nbconvert_exporter": "python",
   "pygments_lexer": "ipython3",
   "version": "3.5.2"
  }
 },
 "nbformat": 4,
 "nbformat_minor": 2
}
