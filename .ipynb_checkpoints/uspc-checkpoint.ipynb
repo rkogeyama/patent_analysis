{
 "cells": [
  {
   "cell_type": "code",
   "execution_count": 1,
   "metadata": {
    "collapsed": true
   },
   "outputs": [],
   "source": [
    "import pandas as pd\n",
    "import numpy as np\n",
    "from IPython.display import display, HTML\n",
    "\n",
    "src='data/uspc_current.tsv'\n",
    "dst='data/uspc.csv'"
   ]
  },
  {
   "cell_type": "code",
   "execution_count": 2,
   "metadata": {
    "collapsed": true
   },
   "outputs": [],
   "source": [
    "# uuid\t\t\tunique id\n",
    "# patent_id\t\tpatent number\n",
    "# mainclass_id\tuspc mainclass current\n",
    "# subclass_id\t\tuspc subclass current\n",
    "# sequence\t\torder in which uspc class appears in patent file"
   ]
  },
  {
   "cell_type": "code",
   "execution_count": 3,
   "metadata": {
    "collapsed": false
   },
   "outputs": [
    {
     "name": "stderr",
     "output_type": "stream",
     "text": [
      "/home/applications/anaconda3/4.2.0/lib/python3.5/site-packages/IPython/core/interactiveshell.py:2717: DtypeWarning: Columns (4,6,7) have mixed types. Specify dtype option on import or set low_memory=False.\n",
      "  interactivity=interactivity, compiler=compiler, result=result)\n"
     ]
    }
   ],
   "source": [
    "usecols=['patent_id', 'mainclass_id', 'subclass_id', 'sequence']\n",
    "df = pd.read_csv(src, sep='\\t', usecols=usecols)"
   ]
  },
  {
   "cell_type": "code",
   "execution_count": 4,
   "metadata": {
    "collapsed": true
   },
   "outputs": [],
   "source": [
    "df=df[df['sequence']==0]"
   ]
  },
  {
   "cell_type": "code",
   "execution_count": null,
   "metadata": {
    "collapsed": true
   },
   "outputs": [],
   "source": [
    "df=df.drop(['sequence'], axis=1)"
   ]
  },
  {
   "cell_type": "code",
   "execution_count": 5,
   "metadata": {
    "collapsed": false
   },
   "outputs": [
    {
     "name": "stdout",
     "output_type": "stream",
     "text": [
      "<class 'pandas.core.frame.DataFrame'>\n",
      "Int64Index: 5943638 entries, 0 to 12171205\n",
      "Data columns (total 7 columns):\n",
      "patent_id     object\n",
      "section       object\n",
      "ipc_class     object\n",
      "subclass      object\n",
      "main_group    object\n",
      "subgroup      object\n",
      "sequence      int64\n",
      "dtypes: int64(1), object(6)\n",
      "memory usage: 362.8+ MB\n"
     ]
    }
   ],
   "source": [
    "df.info()"
   ]
  },
  {
   "cell_type": "code",
   "execution_count": 6,
   "metadata": {
    "collapsed": false
   },
   "outputs": [
    {
     "name": "stdout",
     "output_type": "stream",
     "text": [
      "\n",
      "Top 10 section\n",
      "G    1494540\n",
      "H    1305867\n",
      "B     943327\n",
      "A     796510\n",
      "C     600732\n",
      "F     448067\n",
      "D     203406\n",
      "E     150207\n",
      "L        179\n",
      "M        111\n",
      "Name: section, dtype: int64\n",
      "\n",
      "Top 10 ipc_class\n",
      "1     590716\n",
      "01    554451\n",
      "6     328657\n",
      "4     308417\n",
      "06    304526\n",
      "04    276058\n",
      "61    225572\n",
      "61    210389\n",
      "2     175124\n",
      "02    161940\n",
      "Name: ipc_class, dtype: int64\n",
      "\n",
      "Top 10 subclass\n",
      "B    1062260\n",
      "F     830305\n",
      "L     532196\n",
      "K     515249\n",
      "D     507334\n",
      "C     460241\n",
      "N     337733\n",
      "G     273236\n",
      "M     240135\n",
      "J     239759\n",
      "Name: subclass, dtype: int64\n",
      "\n",
      "Top 10 main_group\n",
      "1     659382\n",
      "3     477677\n",
      "5     447648\n",
      "7     407570\n",
      "9     339114\n",
      "21    275656\n",
      "15    266018\n",
      "17    246199\n",
      "13    212426\n",
      "11    203078\n",
      "Name: main_group, dtype: int64\n",
      "\n",
      "Top 10 subgroup\n",
      "00    1569290\n",
      "02     376411\n",
      "04     294379\n",
      "06     220365\n",
      "08     198184\n",
      "10     172310\n",
      "16     146455\n",
      "14     143694\n",
      "12     142282\n",
      "20     117167\n",
      "Name: subgroup, dtype: int64\n"
     ]
    }
   ],
   "source": [
    "# columns=list(df)\n",
    "# for i in columns:\n",
    "#     print('\\nTop 10', i)\n",
    "#     print(df[i].value_counts().head(10))\n",
    "# #     print(df[i].value_counts())\n",
    "# #     display(HTML(df[i].value_counts().to_html()))\n",
    "# #     display(HTML(df[i].value_counts().reset_index().to_html()))"
   ]
  },
  {
   "cell_type": "code",
   "execution_count": null,
   "metadata": {
    "collapsed": true
   },
   "outputs": [],
   "source": [
    "# for i in columns:\n",
    "#     df[i].value_counts().plot.bar()"
   ]
  },
  {
   "cell_type": "code",
   "execution_count": 7,
   "metadata": {
    "collapsed": false
   },
   "outputs": [],
   "source": [
    "# display(HTML(df['main_group'].value_counts().reset_index().to_html()))"
   ]
  },
  {
   "cell_type": "code",
   "execution_count": null,
   "metadata": {
    "collapsed": true
   },
   "outputs": [],
   "source": [
    "df=df.add_prefix('uspc_')"
   ]
  },
  {
   "cell_type": "code",
   "execution_count": null,
   "metadata": {
    "collapsed": true
   },
   "outputs": [],
   "source": [
    "df.rename(columns={ df.columns[0]: \"id\" }, inplace = True)"
   ]
  },
  {
   "cell_type": "code",
   "execution_count": 8,
   "metadata": {
    "collapsed": true
   },
   "outputs": [],
   "source": [
    "df.set_index('id').to_csv(dst)"
   ]
  }
 ],
 "metadata": {
  "anaconda-cloud": {},
  "kernelspec": {
   "display_name": "Python [default]",
   "language": "python",
   "name": "python3"
  },
  "language_info": {
   "codemirror_mode": {
    "name": "ipython",
    "version": 3
   },
   "file_extension": ".py",
   "mimetype": "text/x-python",
   "name": "python",
   "nbconvert_exporter": "python",
   "pygments_lexer": "ipython3",
   "version": "3.5.2"
  }
 },
 "nbformat": 4,
 "nbformat_minor": 1
}
