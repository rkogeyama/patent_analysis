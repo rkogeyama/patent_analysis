{
 "cells": [
  {
   "cell_type": "code",
   "execution_count": 1,
   "metadata": {
    "collapsed": true
   },
   "outputs": [],
   "source": [
    "# Script to calculate originality\n",
    "\n",
    "# Generality: how diverse is the impact of a patent\n",
    "# This is done by calculating the herfindal index of citing patents"
   ]
  },
  {
   "cell_type": "code",
   "execution_count": 2,
   "metadata": {
    "collapsed": true
   },
   "outputs": [],
   "source": [
    "# Jan 22th, 2020\n",
    "# Copy and paste from generality\n",
    "# Join generality and generality_2\n",
    "# mirror the script to reflect originality\n",
    "# the only difference should be to change 'citation_id' by 'patent_id' in some fields\n",
    "# total citations tend to be much smaller\n",
    "\n",
    "\n",
    "# Jan 16th, 2020\n",
    "# Due to performance problems in the HPC, this script was divided in two, the script following this is generality_2\n",
    "# generality > 1 is not an error, but a consequence of adopting WIPO\n",
    "# it seems that the original calculation had only one class per patent\n",
    "# WIPO provides multiple classes - so when you divide by the total number of citations, \n",
    "#  you do not have the proportion of classes cited anymore\n",
    "# to correct this issue, I can calculate Generality and Originality based only on the first WIPO class\n",
    "\n",
    "# Jan 13th, 2020\n",
    "# Script is running but there are two major issues\n",
    "# - there should not exist generality > 1 , so there is an error in calculation\n",
    "# - too many NANs (about 400k), but I will tackle this issue in 'too_many_nans.ipynb'\n",
    "\n",
    "# to tackle the first problem, I'll begin by creating a subset of the database\n",
    "# to do that, I'll use USPTO classification system"
   ]
  },
  {
   "cell_type": "code",
   "execution_count": 3,
   "metadata": {
    "collapsed": true
   },
   "outputs": [],
   "source": [
    "# Trying to save memory is leading to a small nightmare \n",
    "# I am postponing the use of dask modules"
   ]
  },
  {
   "cell_type": "code",
   "execution_count": 4,
   "metadata": {
    "collapsed": true
   },
   "outputs": [],
   "source": [
    "import sys\n",
    "sys.path.append('/home/rkogeyam/scripts/')\n",
    "from sampler import sampler\n",
    "\n",
    "import pandas as pd\n",
    "import numpy as np\n",
    "import re\n",
    "\n",
    "import matplotlib.pyplot as plt\n",
    "import dask.dataframe as dd"
   ]
  },
  {
   "cell_type": "code",
   "execution_count": 5,
   "metadata": {
    "collapsed": true
   },
   "outputs": [],
   "source": [
    "%matplotlib inline"
   ]
  },
  {
   "cell_type": "code",
   "execution_count": 6,
   "metadata": {
    "collapsed": true
   },
   "outputs": [],
   "source": [
    "# wipo_horiz.csv\n",
    "# from wipo_horiz.ipynb\n",
    "# Original WIPO classification reshaped\n",
    "# patent_id:    patent number\n",
    "# field_id_n :  'n' is the WIPO class\n",
    "\n",
    "# uspatentcitation.tsv\n",
    "# uuid:         unique id\n",
    "# patent_id:    patent number\n",
    "# citation_id:  identifying number of patent to which select patent cites\n",
    "# date:         date select patent (patent_id) cites patent (citation_id)\n",
    "# name:         name of cited record\n",
    "# kind:         WIPO document kind codes \n",
    "#               (http://www.uspto.gov/learning-and-resources/support-centers/electronic-business-center/kind-codes-included-uspto-patent)\t2002 and After\n",
    "# country:      country cited patent was granted (always US)\n",
    "# category:     who cited the patent (examiner, applicant, other etc) - 2002 and After\n",
    "# sequence:     order in which this reference is cited by select patent\tall\n"
   ]
  },
  {
   "cell_type": "code",
   "execution_count": 7,
   "metadata": {
    "collapsed": true
   },
   "outputs": [],
   "source": [
    "src= '/home/rkogeyam/PATENT_CITATION/data/originality_temp.csv'\n",
    "dst = '/home/rkogeyam/PATENT_CITATION/data/originality.csv'"
   ]
  },
  {
   "cell_type": "code",
   "execution_count": 8,
   "metadata": {
    "collapsed": true
   },
   "outputs": [],
   "source": [
    "# df=pd.read_csv(src, sep=',', usecols=['patent_id', 'citation_id'])\n",
    "\n",
    "df=pd.read_csv(src, usecols=['patent_id', 'wipo_sector_id'])"
   ]
  },
  {
   "cell_type": "code",
   "execution_count": 9,
   "metadata": {
    "collapsed": true
   },
   "outputs": [],
   "source": [
    "# df=df.drop(['patent_id'], axis=1)\n",
    "# df.drop('Unnamed: 0', inplace=True, axis=1)\n",
    "df = pd.get_dummies(df, columns=['wipo_sector_id'])"
   ]
  },
  {
   "cell_type": "code",
   "execution_count": 10,
   "metadata": {
    "collapsed": true
   },
   "outputs": [],
   "source": [
    "#from generality_2\n",
    "\n",
    "# group on citation_id - thus adding all patents citing one receiver (citation_id)\n",
    "# thus this is generality\n",
    "# its the impact of a given patent\n",
    "\n",
    "# the index is equivalent to 1 - herfindal\n",
    "# this way, the closer to 1, the more general\n",
    "\n",
    "# the denominator is total citations squared\n",
    "# should be easy to check with citation values\n",
    "total_citation=df.groupby('patent_id').count().iloc[:,0] #different from generality\n",
    "total_citation=np.square(total_citation)"
   ]
  },
  {
   "cell_type": "code",
   "execution_count": 11,
   "metadata": {
    "collapsed": true
   },
   "outputs": [],
   "source": []
  },
  {
   "cell_type": "code",
   "execution_count": 11,
   "metadata": {
    "collapsed": true
   },
   "outputs": [],
   "source": [
    "# the numerator is the sum of the squares of citations in each class\n",
    "df=df.groupby('patent_id').sum().fillna(0) #in theory, I would not need fillna, check later\n",
    "# df.drop(['Unnamed: 0', 'sequence', 'patent_id_raw', 'citation_id'], inplace=True, axis=1)\n",
    "df=np.square(df) #element-wise squaring\n",
    "df=df.sum(axis='columns') #sum all columns, per row"
   ]
  },
  {
   "cell_type": "code",
   "execution_count": 12,
   "metadata": {
    "collapsed": true
   },
   "outputs": [],
   "source": [
    "df=pd.concat([df, total_citation], axis=1)\n",
    "df.columns=['df_squared', 'total_citation']\n",
    "#herfindal \n",
    "\n",
    "df['herfindal']=df['df_squared']/df['total_citation'] #its a measure of concentration\n",
    "\n",
    "df['originality']=1-df['herfindal'] # as defined in Hall et al, 2001"
   ]
  },
  {
   "cell_type": "code",
   "execution_count": 13,
   "metadata": {
    "collapsed": false
   },
   "outputs": [
    {
     "data": {
      "text/plain": [
       "<matplotlib.axes._subplots.AxesSubplot at 0x7fed4edf96d8>"
      ]
     },
     "execution_count": 13,
     "metadata": {},
     "output_type": "execute_result"
    },
    {
     "data": {
      "image/png": "[encoded data removed]",
      "text/plain": [
       "<matplotlib.figure.Figure at 0x7fed4edf9eb8>"
      ]
     },
     "metadata": {},
     "output_type": "display_data"
    }
   ],
   "source": [
    "df['originality'].hist()"
   ]
  },
  {
   "cell_type": "code",
   "execution_count": 14,
   "metadata": {
    "collapsed": true
   },
   "outputs": [],
   "source": [
    "df.to_csv(dst)"
   ]
  }
 ],
 "metadata": {
  "anaconda-cloud": {},
  "kernelspec": {
   "display_name": "Python [default]",
   "language": "python",
   "name": "python3"
  },
  "language_info": {
   "codemirror_mode": {
    "name": "ipython",
    "version": 3
   },
   "file_extension": ".py",
   "mimetype": "text/x-python",
   "name": "python",
   "nbconvert_exporter": "python",
   "pygments_lexer": "ipython3",
   "version": "3.5.2"
  }
 },
 "nbformat": 4,
 "nbformat_minor": 1
}
