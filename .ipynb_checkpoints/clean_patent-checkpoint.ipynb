{
 "cells": [
  {
   "cell_type": "code",
   "execution_count": 1,
   "metadata": {
    "collapsed": true
   },
   "outputs": [],
   "source": [
    "# Script to clean patent.tsv\n",
    "\n",
    "#Aug 18st, 2020\n",
    "#convert to gzip input and output\n",
    "\n",
    "# Jan 20th, 2020\n",
    "# There are citation_ids larger than 7 characters and smaller than 4\n",
    "# Larger are usually applications, smallers tend to be errors\n",
    "# I am keeping than so calculations on forward citations are accurate\n",
    "# When matching by citation_id, it must be previously filtered\n",
    "\n",
    "# as of Jan 9th, 2020, there are entries to be evaluated\n",
    "# for now, error_bad_lines=False skips those entries\n"
   ]
  },
  {
   "cell_type": "code",
   "execution_count": 2,
   "metadata": {
    "collapsed": true
   },
   "outputs": [],
   "source": [
    "import sys\n",
    "sys.path.append('/home/rkogeyam/scripts/')\n",
    "from sampler import sampler\n",
    "\n",
    "import pandas as pd\n",
    "import numpy as np\n",
    "import re\n",
    "import gzip\n",
    "import csv\n",
    "\n",
    "import zipfile as zip"
   ]
  },
  {
   "cell_type": "code",
   "execution_count": 3,
   "metadata": {
    "collapsed": true
   },
   "outputs": [],
   "source": [
    "# patent.csv\n",
    "# id:       patent this record corresponds to \n",
    "# type:     category of patent. Usually \"Design\", \"reissue\", etc.\n",
    "# number:   patent number\n",
    "# country:  country in which patent was granted (always US)\n",
    "# date:     date when patent was granted\n",
    "# abstract: abstract text of patent\n",
    "# title:    title of patent\n",
    "# kind:     WIPO document kind codes (http://www.uspto.gov/learning-and-resources/support-centers/electronic-business-center/kind-codes-included-uspto-patent)\n",
    "# num_claims:number of claims\n",
    "# filename: name of the raw data file where patent information is parsed from"
   ]
  },
  {
   "cell_type": "code",
   "execution_count": 4,
   "metadata": {
    "collapsed": true
   },
   "outputs": [],
   "source": [
    "%matplotlib inline"
   ]
  },
  {
   "cell_type": "code",
   "execution_count": 5,
   "metadata": {
    "collapsed": true
   },
   "outputs": [],
   "source": [
    "src= 'data/patent.tsv.zip'\n",
    "dst= 'data/cleanpatent.csv.gz'"
   ]
  },
  {
   "cell_type": "code",
   "execution_count": 6,
   "metadata": {
    "collapsed": true
   },
   "outputs": [],
   "source": [
    "cols=['id', 'num_claims', 'date', 'type', 'kind']"
   ]
  },
  {
   "cell_type": "code",
   "execution_count": 7,
   "metadata": {
    "collapsed": true
   },
   "outputs": [],
   "source": [
    "file_name = \"data/patent.tsv.zip\"\n",
    "f_name = \"patent.tsv\"\n",
    "# Selecting the zip file.\n",
    "zf = zip.ZipFile(file_name)\n",
    "# Reading the selected file in the zip.\n",
    "df = pd.read_csv(zf.open(f_name), delimiter=\"\\t\", quoting = csv.QUOTE_NONNUMERIC, dtype=object)"
   ]
  },
  {
   "cell_type": "code",
   "execution_count": 8,
   "metadata": {
    "collapsed": true
   },
   "outputs": [],
   "source": [
    "# file_src=gzip.open(src, 'r')\n",
    "# df = pd.read_csv(file_src, sep='\\t', usecols=cols, error_bad_lines=False, dtype=object, quoting = csv.QUOTE_NONNUMERIC)"
   ]
  },
  {
   "cell_type": "code",
   "execution_count": 9,
   "metadata": {
    "collapsed": false
   },
   "outputs": [
    {
     "name": "stdout",
     "output_type": "stream",
     "text": [
      "<class 'pandas.core.frame.DataFrame'>\n",
      "RangeIndex: 7330226 entries, 0 to 7330225\n",
      "Data columns (total 11 columns):\n",
      "id            object\n",
      "type          object\n",
      "number        object\n",
      "country       object\n",
      "date          object\n",
      "abstract      object\n",
      "title         object\n",
      "kind          object\n",
      "num_claims    object\n",
      "filename      object\n",
      "withdrawn     object\n",
      "dtypes: object(11)\n",
      "memory usage: 615.2+ MB\n"
     ]
    }
   ],
   "source": [
    "df.info()"
   ]
  },
  {
   "cell_type": "code",
   "execution_count": 10,
   "metadata": {
    "collapsed": true
   },
   "outputs": [],
   "source": [
    "df=df.astype(object)"
   ]
  },
  {
   "cell_type": "code",
   "execution_count": 11,
   "metadata": {
    "collapsed": false,
    "scrolled": true
   },
   "outputs": [
    {
     "data": {
      "text/plain": [
       "id            object\n",
       "type          object\n",
       "number        object\n",
       "country       object\n",
       "date          object\n",
       "abstract      object\n",
       "title         object\n",
       "kind          object\n",
       "num_claims    object\n",
       "filename      object\n",
       "withdrawn     object\n",
       "dtype: object"
      ]
     },
     "execution_count": 11,
     "metadata": {},
     "output_type": "execute_result"
    }
   ],
   "source": [
    "df.dtypes"
   ]
  },
  {
   "cell_type": "code",
   "execution_count": 12,
   "metadata": {
    "collapsed": false
   },
   "outputs": [
    {
     "name": "stdout",
     "output_type": "stream",
     "text": [
      "CPU times: user 20 s, sys: 49 ms, total: 20.1 s\n",
      "Wall time: 20.1 s\n"
     ]
    }
   ],
   "source": [
    "%%time\n",
    "# Keep this for reference!\n",
    "# As of Dec 31st, 2019, I compared the clean to the raw version of citation and patent ids\n",
    "\n",
    "# stripping non-desired characters but keeping the originals for later check - only three changes in citation_id\n",
    "# df['id']=df['id'].astype(object)\n",
    "cleaning_patent=lambda x:re.sub('([^a-zA-Z0-9]+)', \"\", x)\n",
    "df['id']=df['id'].astype(object).apply(cleaning_patent)"
   ]
  },
  {
   "cell_type": "code",
   "execution_count": 13,
   "metadata": {
    "collapsed": true
   },
   "outputs": [],
   "source": [
    "df.date.replace({'-00':'-01'}, regex=True, inplace=True)\n",
    "#ideally, I would control the modification here"
   ]
  },
  {
   "cell_type": "code",
   "execution_count": 14,
   "metadata": {
    "collapsed": false
   },
   "outputs": [
    {
     "data": {
      "text/plain": [
       "7    6717087\n",
       "8     607144\n",
       "6       5995\n",
       "Name: id, dtype: int64"
      ]
     },
     "execution_count": 14,
     "metadata": {},
     "output_type": "execute_result"
    }
   ],
   "source": [
    "df.id.str.len().value_counts()"
   ]
  },
  {
   "cell_type": "code",
   "execution_count": 15,
   "metadata": {
    "collapsed": false
   },
   "outputs": [
    {
     "data": {
      "text/html": [
       "<div>\n",
       "<table border=\"1\" class=\"dataframe\">\n",
       "  <thead>\n",
       "    <tr style=\"text-align: right;\">\n",
       "      <th></th>\n",
       "      <th>id</th>\n",
       "      <th>type</th>\n",
       "      <th>number</th>\n",
       "      <th>country</th>\n",
       "      <th>date</th>\n",
       "      <th>abstract</th>\n",
       "      <th>title</th>\n",
       "      <th>kind</th>\n",
       "      <th>num_claims</th>\n",
       "      <th>filename</th>\n",
       "      <th>withdrawn</th>\n",
       "    </tr>\n",
       "  </thead>\n",
       "  <tbody>\n",
       "  </tbody>\n",
       "</table>\n",
       "</div>"
      ],
      "text/plain": [
       "Empty DataFrame\n",
       "Columns: [id, type, number, country, date, abstract, title, kind, num_claims, filename, withdrawn]\n",
       "Index: []"
      ]
     },
     "execution_count": 15,
     "metadata": {},
     "output_type": "execute_result"
    }
   ],
   "source": [
    "df[df['id'].apply(lambda x: len(x)>13)]"
   ]
  },
  {
   "cell_type": "code",
   "execution_count": 16,
   "metadata": {
    "collapsed": false
   },
   "outputs": [],
   "source": [
    "# drop five rows with error\n",
    "df=df[df['id'].apply(lambda x: len(x)<13)]"
   ]
  },
  {
   "cell_type": "code",
   "execution_count": 17,
   "metadata": {
    "collapsed": false
   },
   "outputs": [],
   "source": [
    "df['num_claims']=pd.to_numeric(df['num_claims'], errors='coerce')"
   ]
  },
  {
   "cell_type": "code",
   "execution_count": 18,
   "metadata": {
    "collapsed": false
   },
   "outputs": [
    {
     "data": {
      "text/html": [
       "<div>\n",
       "<table border=\"1\" class=\"dataframe\">\n",
       "  <thead>\n",
       "    <tr style=\"text-align: right;\">\n",
       "      <th></th>\n",
       "      <th>id</th>\n",
       "      <th>type</th>\n",
       "      <th>number</th>\n",
       "      <th>country</th>\n",
       "      <th>date</th>\n",
       "      <th>abstract</th>\n",
       "      <th>title</th>\n",
       "      <th>kind</th>\n",
       "      <th>num_claims</th>\n",
       "      <th>filename</th>\n",
       "      <th>withdrawn</th>\n",
       "    </tr>\n",
       "  </thead>\n",
       "  <tbody>\n",
       "  </tbody>\n",
       "</table>\n",
       "</div>"
      ],
      "text/plain": [
       "Empty DataFrame\n",
       "Columns: [id, type, number, country, date, abstract, title, kind, num_claims, filename, withdrawn]\n",
       "Index: []"
      ]
     },
     "execution_count": 18,
     "metadata": {},
     "output_type": "execute_result"
    }
   ],
   "source": [
    "df[df['kind'].apply(lambda x: len(str(x))>13)]"
   ]
  },
  {
   "cell_type": "code",
   "execution_count": 19,
   "metadata": {
    "collapsed": true
   },
   "outputs": [],
   "source": [
    "df=df[df['kind'].apply(lambda x: len(str(x))<13)]"
   ]
  },
  {
   "cell_type": "code",
   "execution_count": 20,
   "metadata": {
    "collapsed": false
   },
   "outputs": [
    {
     "data": {
      "text/html": [
       "<div>\n",
       "<table border=\"1\" class=\"dataframe\">\n",
       "  <thead>\n",
       "    <tr style=\"text-align: right;\">\n",
       "      <th></th>\n",
       "      <th>id</th>\n",
       "      <th>type</th>\n",
       "      <th>number</th>\n",
       "      <th>country</th>\n",
       "      <th>date</th>\n",
       "      <th>abstract</th>\n",
       "      <th>title</th>\n",
       "      <th>num_claims</th>\n",
       "      <th>filename</th>\n",
       "      <th>withdrawn</th>\n",
       "    </tr>\n",
       "    <tr>\n",
       "      <th>kind</th>\n",
       "      <th></th>\n",
       "      <th></th>\n",
       "      <th></th>\n",
       "      <th></th>\n",
       "      <th></th>\n",
       "      <th></th>\n",
       "      <th></th>\n",
       "      <th></th>\n",
       "      <th></th>\n",
       "      <th></th>\n",
       "    </tr>\n",
       "  </thead>\n",
       "  <tbody>\n",
       "    <tr>\n",
       "      <th>A</th>\n",
       "      <td>2391379</td>\n",
       "      <td>2391379</td>\n",
       "      <td>2391379</td>\n",
       "      <td>2391379</td>\n",
       "      <td>2391379</td>\n",
       "      <td>2391297</td>\n",
       "      <td>2391379</td>\n",
       "      <td>2391379</td>\n",
       "      <td>2391379</td>\n",
       "      <td>2391379</td>\n",
       "    </tr>\n",
       "    <tr>\n",
       "      <th>B1</th>\n",
       "      <td>635112</td>\n",
       "      <td>635112</td>\n",
       "      <td>635112</td>\n",
       "      <td>635112</td>\n",
       "      <td>635112</td>\n",
       "      <td>634682</td>\n",
       "      <td>635112</td>\n",
       "      <td>635112</td>\n",
       "      <td>635112</td>\n",
       "      <td>620839</td>\n",
       "    </tr>\n",
       "    <tr>\n",
       "      <th>B2</th>\n",
       "      <td>3617575</td>\n",
       "      <td>3617575</td>\n",
       "      <td>3617575</td>\n",
       "      <td>3617575</td>\n",
       "      <td>3617575</td>\n",
       "      <td>3617287</td>\n",
       "      <td>3617575</td>\n",
       "      <td>3617575</td>\n",
       "      <td>3617575</td>\n",
       "      <td>3477029</td>\n",
       "    </tr>\n",
       "    <tr>\n",
       "      <th>E</th>\n",
       "      <td>8692</td>\n",
       "      <td>8692</td>\n",
       "      <td>8692</td>\n",
       "      <td>8692</td>\n",
       "      <td>8692</td>\n",
       "      <td>8684</td>\n",
       "      <td>8692</td>\n",
       "      <td>8692</td>\n",
       "      <td>8692</td>\n",
       "      <td>8692</td>\n",
       "    </tr>\n",
       "    <tr>\n",
       "      <th>E1</th>\n",
       "      <td>10388</td>\n",
       "      <td>10388</td>\n",
       "      <td>10388</td>\n",
       "      <td>10388</td>\n",
       "      <td>10388</td>\n",
       "      <td>10109</td>\n",
       "      <td>10388</td>\n",
       "      <td>10388</td>\n",
       "      <td>10388</td>\n",
       "      <td>10126</td>\n",
       "    </tr>\n",
       "    <tr>\n",
       "      <th>H</th>\n",
       "      <td>1982</td>\n",
       "      <td>1982</td>\n",
       "      <td>1982</td>\n",
       "      <td>1982</td>\n",
       "      <td>1982</td>\n",
       "      <td>1981</td>\n",
       "      <td>1982</td>\n",
       "      <td>1982</td>\n",
       "      <td>1982</td>\n",
       "      <td>1982</td>\n",
       "    </tr>\n",
       "    <tr>\n",
       "      <th>H1</th>\n",
       "      <td>273</td>\n",
       "      <td>273</td>\n",
       "      <td>273</td>\n",
       "      <td>273</td>\n",
       "      <td>273</td>\n",
       "      <td>267</td>\n",
       "      <td>273</td>\n",
       "      <td>273</td>\n",
       "      <td>273</td>\n",
       "      <td>272</td>\n",
       "    </tr>\n",
       "    <tr>\n",
       "      <th>H2</th>\n",
       "      <td>3</td>\n",
       "      <td>3</td>\n",
       "      <td>3</td>\n",
       "      <td>3</td>\n",
       "      <td>3</td>\n",
       "      <td>3</td>\n",
       "      <td>3</td>\n",
       "      <td>3</td>\n",
       "      <td>3</td>\n",
       "      <td>3</td>\n",
       "    </tr>\n",
       "    <tr>\n",
       "      <th>I4</th>\n",
       "      <td>509</td>\n",
       "      <td>509</td>\n",
       "      <td>509</td>\n",
       "      <td>509</td>\n",
       "      <td>509</td>\n",
       "      <td>0</td>\n",
       "      <td>509</td>\n",
       "      <td>509</td>\n",
       "      <td>509</td>\n",
       "      <td>509</td>\n",
       "    </tr>\n",
       "    <tr>\n",
       "      <th>I5</th>\n",
       "      <td>3</td>\n",
       "      <td>3</td>\n",
       "      <td>3</td>\n",
       "      <td>3</td>\n",
       "      <td>3</td>\n",
       "      <td>3</td>\n",
       "      <td>3</td>\n",
       "      <td>3</td>\n",
       "      <td>3</td>\n",
       "      <td>3</td>\n",
       "    </tr>\n",
       "    <tr>\n",
       "      <th>P</th>\n",
       "      <td>8282</td>\n",
       "      <td>8282</td>\n",
       "      <td>8282</td>\n",
       "      <td>8282</td>\n",
       "      <td>8282</td>\n",
       "      <td>8282</td>\n",
       "      <td>8282</td>\n",
       "      <td>8282</td>\n",
       "      <td>8282</td>\n",
       "      <td>8282</td>\n",
       "    </tr>\n",
       "    <tr>\n",
       "      <th>P2</th>\n",
       "      <td>13076</td>\n",
       "      <td>13076</td>\n",
       "      <td>13076</td>\n",
       "      <td>13076</td>\n",
       "      <td>13076</td>\n",
       "      <td>13050</td>\n",
       "      <td>13076</td>\n",
       "      <td>13076</td>\n",
       "      <td>13076</td>\n",
       "      <td>12782</td>\n",
       "    </tr>\n",
       "    <tr>\n",
       "      <th>P3</th>\n",
       "      <td>6232</td>\n",
       "      <td>6232</td>\n",
       "      <td>6232</td>\n",
       "      <td>6232</td>\n",
       "      <td>6232</td>\n",
       "      <td>6229</td>\n",
       "      <td>6232</td>\n",
       "      <td>6232</td>\n",
       "      <td>6232</td>\n",
       "      <td>5950</td>\n",
       "    </tr>\n",
       "    <tr>\n",
       "      <th>S</th>\n",
       "      <td>209582</td>\n",
       "      <td>209582</td>\n",
       "      <td>209582</td>\n",
       "      <td>209582</td>\n",
       "      <td>209582</td>\n",
       "      <td>22</td>\n",
       "      <td>209582</td>\n",
       "      <td>209582</td>\n",
       "      <td>209582</td>\n",
       "      <td>209582</td>\n",
       "    </tr>\n",
       "    <tr>\n",
       "      <th>S1</th>\n",
       "      <td>427138</td>\n",
       "      <td>427138</td>\n",
       "      <td>427138</td>\n",
       "      <td>427138</td>\n",
       "      <td>427138</td>\n",
       "      <td>0</td>\n",
       "      <td>427138</td>\n",
       "      <td>427138</td>\n",
       "      <td>427138</td>\n",
       "      <td>411669</td>\n",
       "    </tr>\n",
       "  </tbody>\n",
       "</table>\n",
       "</div>"
      ],
      "text/plain": [
       "           id     type   number  country     date  abstract    title  \\\n",
       "kind                                                                   \n",
       "A     2391379  2391379  2391379  2391379  2391379   2391297  2391379   \n",
       "B1     635112   635112   635112   635112   635112    634682   635112   \n",
       "B2    3617575  3617575  3617575  3617575  3617575   3617287  3617575   \n",
       "E        8692     8692     8692     8692     8692      8684     8692   \n",
       "E1      10388    10388    10388    10388    10388     10109    10388   \n",
       "H        1982     1982     1982     1982     1982      1981     1982   \n",
       "H1        273      273      273      273      273       267      273   \n",
       "H2          3        3        3        3        3         3        3   \n",
       "I4        509      509      509      509      509         0      509   \n",
       "I5          3        3        3        3        3         3        3   \n",
       "P        8282     8282     8282     8282     8282      8282     8282   \n",
       "P2      13076    13076    13076    13076    13076     13050    13076   \n",
       "P3       6232     6232     6232     6232     6232      6229     6232   \n",
       "S      209582   209582   209582   209582   209582        22   209582   \n",
       "S1     427138   427138   427138   427138   427138         0   427138   \n",
       "\n",
       "      num_claims  filename  withdrawn  \n",
       "kind                                   \n",
       "A        2391379   2391379    2391379  \n",
       "B1        635112    635112     620839  \n",
       "B2       3617575   3617575    3477029  \n",
       "E           8692      8692       8692  \n",
       "E1         10388     10388      10126  \n",
       "H           1982      1982       1982  \n",
       "H1           273       273        272  \n",
       "H2             3         3          3  \n",
       "I4           509       509        509  \n",
       "I5             3         3          3  \n",
       "P           8282      8282       8282  \n",
       "P2         13076     13076      12782  \n",
       "P3          6232      6232       5950  \n",
       "S         209582    209582     209582  \n",
       "S1        427138    427138     411669  "
      ]
     },
     "execution_count": 20,
     "metadata": {},
     "output_type": "execute_result"
    }
   ],
   "source": [
    "df.groupby('kind').count()"
   ]
  },
  {
   "cell_type": "code",
   "execution_count": 21,
   "metadata": {
    "collapsed": false
   },
   "outputs": [
    {
     "data": {
      "text/html": [
       "<div>\n",
       "<table border=\"1\" class=\"dataframe\">\n",
       "  <thead>\n",
       "    <tr style=\"text-align: right;\">\n",
       "      <th></th>\n",
       "      <th>id</th>\n",
       "      <th>number</th>\n",
       "      <th>country</th>\n",
       "      <th>date</th>\n",
       "      <th>abstract</th>\n",
       "      <th>title</th>\n",
       "      <th>kind</th>\n",
       "      <th>num_claims</th>\n",
       "      <th>filename</th>\n",
       "      <th>withdrawn</th>\n",
       "    </tr>\n",
       "    <tr>\n",
       "      <th>type</th>\n",
       "      <th></th>\n",
       "      <th></th>\n",
       "      <th></th>\n",
       "      <th></th>\n",
       "      <th></th>\n",
       "      <th></th>\n",
       "      <th></th>\n",
       "      <th></th>\n",
       "      <th></th>\n",
       "      <th></th>\n",
       "    </tr>\n",
       "  </thead>\n",
       "  <tbody>\n",
       "    <tr>\n",
       "      <th>TVPP</th>\n",
       "      <td>3</td>\n",
       "      <td>3</td>\n",
       "      <td>3</td>\n",
       "      <td>3</td>\n",
       "      <td>3</td>\n",
       "      <td>3</td>\n",
       "      <td>3</td>\n",
       "      <td>3</td>\n",
       "      <td>3</td>\n",
       "      <td>3</td>\n",
       "    </tr>\n",
       "    <tr>\n",
       "      <th>defensive publication</th>\n",
       "      <td>509</td>\n",
       "      <td>509</td>\n",
       "      <td>509</td>\n",
       "      <td>509</td>\n",
       "      <td>0</td>\n",
       "      <td>509</td>\n",
       "      <td>509</td>\n",
       "      <td>509</td>\n",
       "      <td>509</td>\n",
       "      <td>509</td>\n",
       "    </tr>\n",
       "    <tr>\n",
       "      <th>design</th>\n",
       "      <td>636720</td>\n",
       "      <td>636720</td>\n",
       "      <td>636720</td>\n",
       "      <td>636720</td>\n",
       "      <td>22</td>\n",
       "      <td>636720</td>\n",
       "      <td>636720</td>\n",
       "      <td>636720</td>\n",
       "      <td>636720</td>\n",
       "      <td>621251</td>\n",
       "    </tr>\n",
       "    <tr>\n",
       "      <th>plant</th>\n",
       "      <td>27590</td>\n",
       "      <td>27590</td>\n",
       "      <td>27590</td>\n",
       "      <td>27590</td>\n",
       "      <td>27561</td>\n",
       "      <td>27590</td>\n",
       "      <td>27590</td>\n",
       "      <td>27590</td>\n",
       "      <td>27590</td>\n",
       "      <td>27014</td>\n",
       "    </tr>\n",
       "    <tr>\n",
       "      <th>reissue</th>\n",
       "      <td>19080</td>\n",
       "      <td>19080</td>\n",
       "      <td>19080</td>\n",
       "      <td>19080</td>\n",
       "      <td>18793</td>\n",
       "      <td>19080</td>\n",
       "      <td>19080</td>\n",
       "      <td>19080</td>\n",
       "      <td>19080</td>\n",
       "      <td>18818</td>\n",
       "    </tr>\n",
       "    <tr>\n",
       "      <th>statutory invention registration</th>\n",
       "      <td>2258</td>\n",
       "      <td>2258</td>\n",
       "      <td>2258</td>\n",
       "      <td>2258</td>\n",
       "      <td>2251</td>\n",
       "      <td>2258</td>\n",
       "      <td>2258</td>\n",
       "      <td>2258</td>\n",
       "      <td>2258</td>\n",
       "      <td>2257</td>\n",
       "    </tr>\n",
       "    <tr>\n",
       "      <th>utility</th>\n",
       "      <td>6644066</td>\n",
       "      <td>6644066</td>\n",
       "      <td>6644066</td>\n",
       "      <td>6644066</td>\n",
       "      <td>6643266</td>\n",
       "      <td>6644066</td>\n",
       "      <td>6644066</td>\n",
       "      <td>6644066</td>\n",
       "      <td>6644066</td>\n",
       "      <td>6489247</td>\n",
       "    </tr>\n",
       "  </tbody>\n",
       "</table>\n",
       "</div>"
      ],
      "text/plain": [
       "                                       id   number  country     date  \\\n",
       "type                                                                   \n",
       "TVPP                                    3        3        3        3   \n",
       "defensive publication                 509      509      509      509   \n",
       "design                             636720   636720   636720   636720   \n",
       "plant                               27590    27590    27590    27590   \n",
       "reissue                             19080    19080    19080    19080   \n",
       "statutory invention registration     2258     2258     2258     2258   \n",
       "utility                           6644066  6644066  6644066  6644066   \n",
       "\n",
       "                                  abstract    title     kind  num_claims  \\\n",
       "type                                                                       \n",
       "TVPP                                     3        3        3           3   \n",
       "defensive publication                    0      509      509         509   \n",
       "design                                  22   636720   636720      636720   \n",
       "plant                                27561    27590    27590       27590   \n",
       "reissue                              18793    19080    19080       19080   \n",
       "statutory invention registration      2251     2258     2258        2258   \n",
       "utility                            6643266  6644066  6644066     6644066   \n",
       "\n",
       "                                  filename  withdrawn  \n",
       "type                                                   \n",
       "TVPP                                     3          3  \n",
       "defensive publication                  509        509  \n",
       "design                              636720     621251  \n",
       "plant                                27590      27014  \n",
       "reissue                              19080      18818  \n",
       "statutory invention registration      2258       2257  \n",
       "utility                            6644066    6489247  "
      ]
     },
     "execution_count": 21,
     "metadata": {},
     "output_type": "execute_result"
    }
   ],
   "source": [
    "df.groupby('type').count()"
   ]
  },
  {
   "cell_type": "code",
   "execution_count": 22,
   "metadata": {
    "collapsed": false
   },
   "outputs": [
    {
     "data": {
      "text/html": [
       "<div>\n",
       "<table border=\"1\" class=\"dataframe\">\n",
       "  <thead>\n",
       "    <tr style=\"text-align: right;\">\n",
       "      <th></th>\n",
       "      <th>num_claims</th>\n",
       "    </tr>\n",
       "  </thead>\n",
       "  <tbody>\n",
       "    <tr>\n",
       "      <th>count</th>\n",
       "      <td>7.330226e+06</td>\n",
       "    </tr>\n",
       "    <tr>\n",
       "      <th>mean</th>\n",
       "      <td>1.423170e+01</td>\n",
       "    </tr>\n",
       "    <tr>\n",
       "      <th>std</th>\n",
       "      <td>1.167656e+01</td>\n",
       "    </tr>\n",
       "    <tr>\n",
       "      <th>min</th>\n",
       "      <td>1.000000e+00</td>\n",
       "    </tr>\n",
       "    <tr>\n",
       "      <th>25%</th>\n",
       "      <td>6.000000e+00</td>\n",
       "    </tr>\n",
       "    <tr>\n",
       "      <th>50%</th>\n",
       "      <td>1.300000e+01</td>\n",
       "    </tr>\n",
       "    <tr>\n",
       "      <th>75%</th>\n",
       "      <td>2.000000e+01</td>\n",
       "    </tr>\n",
       "    <tr>\n",
       "      <th>max</th>\n",
       "      <td>8.870000e+02</td>\n",
       "    </tr>\n",
       "  </tbody>\n",
       "</table>\n",
       "</div>"
      ],
      "text/plain": [
       "         num_claims\n",
       "count  7.330226e+06\n",
       "mean   1.423170e+01\n",
       "std    1.167656e+01\n",
       "min    1.000000e+00\n",
       "25%    6.000000e+00\n",
       "50%    1.300000e+01\n",
       "75%    2.000000e+01\n",
       "max    8.870000e+02"
      ]
     },
     "execution_count": 22,
     "metadata": {},
     "output_type": "execute_result"
    }
   ],
   "source": [
    "df.describe(include='all')\n",
    "# df.describe()"
   ]
  },
  {
   "cell_type": "code",
   "execution_count": 23,
   "metadata": {
    "collapsed": false
   },
   "outputs": [
    {
     "data": {
      "text/plain": [
       "<matplotlib.axes._subplots.AxesSubplot at 0x7fdc52a9ee48>"
      ]
     },
     "execution_count": 23,
     "metadata": {},
     "output_type": "execute_result"
    },
    {
     "data": {
      "image/png": "[encoded data removed]",
      "text/plain": [
       "<matplotlib.figure.Figure at 0x7fdc519c1278>"
      ]
     },
     "metadata": {},
     "output_type": "display_data"
    }
   ],
   "source": [
    "df['num_claims'].hist()"
   ]
  },
  {
   "cell_type": "code",
   "execution_count": 24,
   "metadata": {
    "collapsed": false
   },
   "outputs": [
    {
     "data": {
      "text/plain": [
       "id            object\n",
       "type          object\n",
       "number        object\n",
       "country       object\n",
       "date          object\n",
       "abstract      object\n",
       "title         object\n",
       "kind          object\n",
       "num_claims     int64\n",
       "filename      object\n",
       "withdrawn     object\n",
       "dtype: object"
      ]
     },
     "execution_count": 24,
     "metadata": {},
     "output_type": "execute_result"
    }
   ],
   "source": [
    "df.dtypes"
   ]
  },
  {
   "cell_type": "code",
   "execution_count": 25,
   "metadata": {
    "collapsed": false
   },
   "outputs": [],
   "source": [
    "df.set_index('id').to_csv(dst, compression='gzip')"
   ]
  }
 ],
 "metadata": {
  "anaconda-cloud": {},
  "kernelspec": {
   "display_name": "Python [default]",
   "language": "python",
   "name": "python3"
  },
  "language_info": {
   "codemirror_mode": {
    "name": "ipython",
    "version": 3
   },
   "file_extension": ".py",
   "mimetype": "text/x-python",
   "name": "python",
   "nbconvert_exporter": "python",
   "pygments_lexer": "ipython3",
   "version": "3.5.2"
  }
 },
 "nbformat": 4,
 "nbformat_minor": 1
}
