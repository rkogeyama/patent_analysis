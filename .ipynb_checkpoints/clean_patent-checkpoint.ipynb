{
 "cells": [
  {
   "cell_type": "code",
   "execution_count": 1,
   "metadata": {
    "collapsed": true
   },
   "outputs": [],
   "source": [
    "# Script to clean uspatentcitation.tsv\n",
    "\n",
    "# Jan 20th, 2020\n",
    "# There are citation_ids larger than 7 characters and smaller than 4\n",
    "# Larger are usually applications, smallers tend to be errors\n",
    "# I am keeping than so calculations on forward citations are accurate\n",
    "# When matching by citation_id, it must be previously filtered\n",
    "\n",
    "# as of Jan 9th, 2020, there are entries to be evaluated\n",
    "# for now, error_bad_lines=False skips those entries\n"
   ]
  },
  {
   "cell_type": "code",
   "execution_count": 2,
   "metadata": {
    "collapsed": true
   },
   "outputs": [],
   "source": [
    "import sys\n",
    "sys.path.append('/home/rkogeyam/scripts/')\n",
    "from sampler import sampler\n",
    "\n",
    "import pandas as pd\n",
    "import numpy as np\n",
    "import re"
   ]
  },
  {
   "cell_type": "code",
   "execution_count": 3,
   "metadata": {
    "collapsed": true
   },
   "outputs": [],
   "source": [
    "# patent.csv\n",
    "# id:       patent this record corresponds to \n",
    "# type:     category of patent. Usually \"Design\", \"reissue\", etc.\n",
    "# number:   patent number\n",
    "# country:  country in which patent was granted (always US)\n",
    "# date:     date when patent was granted\n",
    "# abstract: abstract text of patent\n",
    "# title:    title of patent\n",
    "# kind:     WIPO document kind codes (http://www.uspto.gov/learning-and-resources/support-centers/electronic-business-center/kind-codes-included-uspto-patent)\n",
    "# num_claims:number of claims\n",
    "# filename: name of the raw data file where patent information is parsed from"
   ]
  },
  {
   "cell_type": "code",
   "execution_count": null,
   "metadata": {
    "collapsed": true
   },
   "outputs": [],
   "source": [
    "%matplotlib inline"
   ]
  },
  {
   "cell_type": "code",
   "execution_count": 4,
   "metadata": {
    "collapsed": true
   },
   "outputs": [],
   "source": [
    "src= 'data/patent.tsv'\n",
    "dst= 'data/cleanpatent.csv'"
   ]
  },
  {
   "cell_type": "code",
   "execution_count": 5,
   "metadata": {
    "collapsed": true
   },
   "outputs": [],
   "source": [
    "cols=['id', 'num_claims', 'date', 'type', 'kind']"
   ]
  },
  {
   "cell_type": "code",
   "execution_count": 6,
   "metadata": {
    "collapsed": true
   },
   "outputs": [],
   "source": [
    "df = pd.read_csv(src, sep='\\t', usecols=cols, error_bad_lines=False, dtype=object)"
   ]
  },
  {
   "cell_type": "code",
   "execution_count": 7,
   "metadata": {
    "collapsed": false
   },
   "outputs": [
    {
     "name": "stdout",
     "output_type": "stream",
     "text": [
      "<class 'pandas.core.frame.DataFrame'>\n",
      "RangeIndex: 6488267 entries, 0 to 6488266\n",
      "Data columns (total 5 columns):\n",
      "id            object\n",
      "type          object\n",
      "date          object\n",
      "kind          object\n",
      "num_claims    object\n",
      "dtypes: object(5)\n",
      "memory usage: 247.5+ MB\n"
     ]
    }
   ],
   "source": [
    "df.info()"
   ]
  },
  {
   "cell_type": "code",
   "execution_count": 8,
   "metadata": {
    "collapsed": true
   },
   "outputs": [],
   "source": [
    "df=df.astype(object)"
   ]
  },
  {
   "cell_type": "code",
   "execution_count": 9,
   "metadata": {
    "collapsed": false,
    "scrolled": true
   },
   "outputs": [
    {
     "data": {
      "text/plain": [
       "id            object\n",
       "type          object\n",
       "date          object\n",
       "kind          object\n",
       "num_claims    object\n",
       "dtype: object"
      ]
     },
     "execution_count": 9,
     "metadata": {},
     "output_type": "execute_result"
    }
   ],
   "source": [
    "df.dtypes"
   ]
  },
  {
   "cell_type": "code",
   "execution_count": 10,
   "metadata": {
    "collapsed": false
   },
   "outputs": [
    {
     "name": "stdout",
     "output_type": "stream",
     "text": [
      "CPU times: user 16.6 s, sys: 3 ms, total: 16.6 s\n",
      "Wall time: 16.6 s\n"
     ]
    }
   ],
   "source": [
    "%%time\n",
    "# Keep this for reference!\n",
    "# As of Dec 31st, 2019, I compared the clean to the raw version of citation and patent ids\n",
    "\n",
    "# stripping non-desired characters but keeping the originals for later check - only three changes in citation_id\n",
    "\n",
    "cleaning_patent=lambda x:re.sub('([^a-zA-Z0-9]+)', \"\", x)\n",
    "df['id']=df['id'].apply(cleaning_patent)"
   ]
  },
  {
   "cell_type": "code",
   "execution_count": 11,
   "metadata": {
    "collapsed": true
   },
   "outputs": [],
   "source": [
    "df.date.replace({'-00':'-01'}, regex=True, inplace=True)\n",
    "#ideally, I would control the modification here"
   ]
  },
  {
   "cell_type": "code",
   "execution_count": 12,
   "metadata": {
    "collapsed": false
   },
   "outputs": [
    {
     "data": {
      "text/plain": [
       "7      6480301\n",
       "6         5995\n",
       "8         1966\n",
       "433          1\n",
       "136          1\n",
       "56           1\n",
       "52           1\n",
       "47           1\n",
       "Name: id, dtype: int64"
      ]
     },
     "execution_count": 12,
     "metadata": {},
     "output_type": "execute_result"
    }
   ],
   "source": [
    "df.id.str.len().value_counts()"
   ]
  },
  {
   "cell_type": "code",
   "execution_count": 13,
   "metadata": {
    "collapsed": false
   },
   "outputs": [
    {
     "data": {
      "text/html": [
       "<div>\n",
       "<table border=\"1\" class=\"dataframe\">\n",
       "  <thead>\n",
       "    <tr style=\"text-align: right;\">\n",
       "      <th></th>\n",
       "      <th>id</th>\n",
       "      <th>type</th>\n",
       "      <th>date</th>\n",
       "      <th>kind</th>\n",
       "      <th>num_claims</th>\n",
       "    </tr>\n",
       "  </thead>\n",
       "  <tbody>\n",
       "    <tr>\n",
       "      <th>2640192</th>\n",
       "      <td>eceptionunitsSequentiallyduringdatatransmission</td>\n",
       "      <td>NaN</td>\n",
       "      <td>NaN</td>\n",
       "      <td>NaN</td>\n",
       "      <td>NaN</td>\n",
       "    </tr>\n",
       "    <tr>\n",
       "      <th>2640193</th>\n",
       "      <td>eceptionwhetherornotatransmissionsignalhasbeen...</td>\n",
       "      <td>NaN</td>\n",
       "      <td>NaN</td>\n",
       "      <td>NaN</td>\n",
       "      <td>NaN</td>\n",
       "    </tr>\n",
       "    <tr>\n",
       "      <th>2640194</th>\n",
       "      <td>eceptionunitreceivingsaidsignalisusedfordatatr...</td>\n",
       "      <td>NaN</td>\n",
       "      <td>NaN</td>\n",
       "      <td>NaN</td>\n",
       "      <td>NaN</td>\n",
       "    </tr>\n",
       "    <tr>\n",
       "      <th>2640195</th>\n",
       "      <td>eceptionviaopticalcommunicationswithanexternal...</td>\n",
       "      <td>Device provided with an optical communications...</td>\n",
       "      <td>pg030624.zip</td>\n",
       "      <td>NaN</td>\n",
       "      <td>NaN</td>\n",
       "    </tr>\n",
       "    <tr>\n",
       "      <th>3724933</th>\n",
       "      <td>nendofmessageindicatorandusesthevarioustestres...</td>\n",
       "      <td>Unsolicited message intercepting communication...</td>\n",
       "      <td>ipg100302.xml</td>\n",
       "      <td>NaN</td>\n",
       "      <td>NaN</td>\n",
       "    </tr>\n",
       "  </tbody>\n",
       "</table>\n",
       "</div>"
      ],
      "text/plain": [
       "                                                        id  \\\n",
       "2640192    eceptionunitsSequentiallyduringdatatransmission   \n",
       "2640193  eceptionwhetherornotatransmissionsignalhasbeen...   \n",
       "2640194  eceptionunitreceivingsaidsignalisusedfordatatr...   \n",
       "2640195  eceptionviaopticalcommunicationswithanexternal...   \n",
       "3724933  nendofmessageindicatorandusesthevarioustestres...   \n",
       "\n",
       "                                                      type           date  \\\n",
       "2640192                                                NaN            NaN   \n",
       "2640193                                                NaN            NaN   \n",
       "2640194                                                NaN            NaN   \n",
       "2640195  Device provided with an optical communications...   pg030624.zip   \n",
       "3724933  Unsolicited message intercepting communication...  ipg100302.xml   \n",
       "\n",
       "        kind num_claims  \n",
       "2640192  NaN        NaN  \n",
       "2640193  NaN        NaN  \n",
       "2640194  NaN        NaN  \n",
       "2640195  NaN        NaN  \n",
       "3724933  NaN        NaN  "
      ]
     },
     "execution_count": 13,
     "metadata": {},
     "output_type": "execute_result"
    }
   ],
   "source": [
    "df[df['id'].apply(lambda x: len(x)>13)]"
   ]
  },
  {
   "cell_type": "code",
   "execution_count": 14,
   "metadata": {
    "collapsed": false
   },
   "outputs": [],
   "source": [
    "# drop five rows with error\n",
    "df=df[df['id'].apply(lambda x: len(x)<13)]"
   ]
  },
  {
   "cell_type": "code",
   "execution_count": 15,
   "metadata": {
    "collapsed": false
   },
   "outputs": [],
   "source": [
    "df['num_claims']=pd.to_numeric(df['num_claims'], errors='coerce')"
   ]
  },
  {
   "cell_type": "markdown",
   "metadata": {
    "collapsed": true
   },
   "source": [
    "###### df['kind']=df['kind'].astype(str)"
   ]
  },
  {
   "cell_type": "code",
   "execution_count": 16,
   "metadata": {
    "collapsed": false
   },
   "outputs": [
    {
     "data": {
      "text/html": [
       "<div>\n",
       "<table border=\"1\" class=\"dataframe\">\n",
       "  <thead>\n",
       "    <tr style=\"text-align: right;\">\n",
       "      <th></th>\n",
       "      <th>id</th>\n",
       "      <th>type</th>\n",
       "      <th>date</th>\n",
       "      <th>kind</th>\n",
       "      <th>num_claims</th>\n",
       "    </tr>\n",
       "  </thead>\n",
       "  <tbody>\n",
       "    <tr>\n",
       "      <th>4232499</th>\n",
       "      <td>8182619</td>\n",
       "      <td>utility</td>\n",
       "      <td>2012-05-22</td>\n",
       "      <td>Generation of test cases with range constraint...</td>\n",
       "      <td>NaN</td>\n",
       "    </tr>\n",
       "    <tr>\n",
       "      <th>4267896</th>\n",
       "      <td>8225415</td>\n",
       "      <td>utility</td>\n",
       "      <td>2012-07-17</td>\n",
       "      <td>Method of storing GaN substrate, stored substr...</td>\n",
       "      <td>NaN</td>\n",
       "    </tr>\n",
       "    <tr>\n",
       "      <th>4327678</th>\n",
       "      <td>8288508</td>\n",
       "      <td>utility</td>\n",
       "      <td>2012-10-16</td>\n",
       "      <td>System and method of epsilon removal of weight...</td>\n",
       "      <td>NaN</td>\n",
       "    </tr>\n",
       "    <tr>\n",
       "      <th>4368026</th>\n",
       "      <td>8331281</td>\n",
       "      <td>utility</td>\n",
       "      <td>2012-12-11</td>\n",
       "      <td>Computer-implemented method of design of surfa...</td>\n",
       "      <td>NaN</td>\n",
       "    </tr>\n",
       "    <tr>\n",
       "      <th>4377088</th>\n",
       "      <td>8341296</td>\n",
       "      <td>utility</td>\n",
       "      <td>2012-12-25</td>\n",
       "      <td>Methods of arranging mask patterns and associa...</td>\n",
       "      <td>NaN</td>\n",
       "    </tr>\n",
       "    <tr>\n",
       "      <th>4426413</th>\n",
       "      <td>8391122</td>\n",
       "      <td>utility</td>\n",
       "      <td>2013-03-05</td>\n",
       "      <td>System and method for real-time cloth simulation</td>\n",
       "      <td>NaN</td>\n",
       "    </tr>\n",
       "  </tbody>\n",
       "</table>\n",
       "</div>"
      ],
      "text/plain": [
       "              id     type        date  \\\n",
       "4232499  8182619  utility  2012-05-22   \n",
       "4267896  8225415  utility  2012-07-17   \n",
       "4327678  8288508  utility  2012-10-16   \n",
       "4368026  8331281  utility  2012-12-11   \n",
       "4377088  8341296  utility  2012-12-25   \n",
       "4426413  8391122  utility  2013-03-05   \n",
       "\n",
       "                                                      kind  num_claims  \n",
       "4232499  Generation of test cases with range constraint...         NaN  \n",
       "4267896  Method of storing GaN substrate, stored substr...         NaN  \n",
       "4327678  System and method of epsilon removal of weight...         NaN  \n",
       "4368026  Computer-implemented method of design of surfa...         NaN  \n",
       "4377088  Methods of arranging mask patterns and associa...         NaN  \n",
       "4426413   System and method for real-time cloth simulation         NaN  "
      ]
     },
     "execution_count": 16,
     "metadata": {},
     "output_type": "execute_result"
    }
   ],
   "source": [
    "df[df['kind'].apply(lambda x: len(str(x))>13)]"
   ]
  },
  {
   "cell_type": "code",
   "execution_count": 17,
   "metadata": {
    "collapsed": true
   },
   "outputs": [],
   "source": [
    "df=df[df['kind'].apply(lambda x: len(str(x))<13)]"
   ]
  },
  {
   "cell_type": "code",
   "execution_count": 18,
   "metadata": {
    "collapsed": false
   },
   "outputs": [
    {
     "data": {
      "text/plain": [
       "array(['A', 'E', 'S', 'I5', 'P', 'B1', 'B2', nan, 'S1', 'H', 'H1', 'H2',\n",
       "       'P2', 'P3', 'E1', 'I4'], dtype=object)"
      ]
     },
     "execution_count": 18,
     "metadata": {},
     "output_type": "execute_result"
    }
   ],
   "source": [
    "df.groupby('kind').count()"
   ]
  },
  {
   "cell_type": "code",
   "execution_count": 19,
   "metadata": {
    "collapsed": false
   },
   "outputs": [
    {
     "data": {
      "text/plain": [
       "array(['utility', 'reissue', 'design', 'TVPP', 'plant',\n",
       "       'statutory invention registration', nan, 'defensive publication'], dtype=object)"
      ]
     },
     "execution_count": 19,
     "metadata": {},
     "output_type": "execute_result"
    }
   ],
   "source": [
    "df.groupby('type').count()"
   ]
  },
  {
   "cell_type": "code",
   "execution_count": 20,
   "metadata": {
    "collapsed": false
   },
   "outputs": [
    {
     "name": "stderr",
     "output_type": "stream",
     "text": [
      "/home/applications/anaconda3/4.2.0/lib/python3.5/site-packages/numpy/lib/function_base.py:4269: RuntimeWarning: Invalid value encountered in percentile\n",
      "  interpolation=interpolation)\n"
     ]
    },
    {
     "data": {
      "text/html": [
       "<div>\n",
       "<table border=\"1\" class=\"dataframe\">\n",
       "  <thead>\n",
       "    <tr style=\"text-align: right;\">\n",
       "      <th></th>\n",
       "      <th>num_claims</th>\n",
       "    </tr>\n",
       "  </thead>\n",
       "  <tbody>\n",
       "    <tr>\n",
       "      <th>count</th>\n",
       "      <td>6.488254e+06</td>\n",
       "    </tr>\n",
       "    <tr>\n",
       "      <th>mean</th>\n",
       "      <td>1.414322e+01</td>\n",
       "    </tr>\n",
       "    <tr>\n",
       "      <th>std</th>\n",
       "      <td>1.200423e+01</td>\n",
       "    </tr>\n",
       "    <tr>\n",
       "      <th>min</th>\n",
       "      <td>0.000000e+00</td>\n",
       "    </tr>\n",
       "    <tr>\n",
       "      <th>25%</th>\n",
       "      <td>NaN</td>\n",
       "    </tr>\n",
       "    <tr>\n",
       "      <th>50%</th>\n",
       "      <td>NaN</td>\n",
       "    </tr>\n",
       "    <tr>\n",
       "      <th>75%</th>\n",
       "      <td>NaN</td>\n",
       "    </tr>\n",
       "    <tr>\n",
       "      <th>max</th>\n",
       "      <td>8.870000e+02</td>\n",
       "    </tr>\n",
       "  </tbody>\n",
       "</table>\n",
       "</div>"
      ],
      "text/plain": [
       "         num_claims\n",
       "count  6.488254e+06\n",
       "mean   1.414322e+01\n",
       "std    1.200423e+01\n",
       "min    0.000000e+00\n",
       "25%             NaN\n",
       "50%             NaN\n",
       "75%             NaN\n",
       "max    8.870000e+02"
      ]
     },
     "execution_count": 20,
     "metadata": {},
     "output_type": "execute_result"
    }
   ],
   "source": [
    "df.describe(include=['np.object'])"
   ]
  },
  {
   "cell_type": "code",
   "execution_count": 21,
   "metadata": {
    "collapsed": false
   },
   "outputs": [
    {
     "data": {
      "text/plain": [
       "<matplotlib.axes._subplots.AxesSubplot at 0x7f5112165518>"
      ]
     },
     "execution_count": 21,
     "metadata": {},
     "output_type": "execute_result"
    }
   ],
   "source": [
    "df['num_claims'].hist()"
   ]
  },
  {
   "cell_type": "code",
   "execution_count": 22,
   "metadata": {
    "collapsed": false
   },
   "outputs": [
    {
     "data": {
      "text/plain": [
       "id             object\n",
       "type           object\n",
       "date           object\n",
       "kind           object\n",
       "num_claims    float64\n",
       "dtype: object"
      ]
     },
     "execution_count": 22,
     "metadata": {},
     "output_type": "execute_result"
    }
   ],
   "source": [
    "df.dtypes"
   ]
  },
  {
   "cell_type": "code",
   "execution_count": 23,
   "metadata": {
    "collapsed": false
   },
   "outputs": [],
   "source": [
    "df.set_index('id').to_csv(dst)"
   ]
  }
 ],
 "metadata": {
  "anaconda-cloud": {},
  "kernelspec": {
   "display_name": "Python [default]",
   "language": "python",
   "name": "python3"
  },
  "language_info": {
   "codemirror_mode": {
    "name": "ipython",
    "version": 3
   },
   "file_extension": ".py",
   "mimetype": "text/x-python",
   "name": "python",
   "nbconvert_exporter": "python",
   "pygments_lexer": "ipython3",
   "version": "3.5.2"
  }
 },
 "nbformat": 4,
 "nbformat_minor": 1
}
