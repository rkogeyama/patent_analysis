{
 "cells": [
  {
   "cell_type": "code",
   "execution_count": 1,
   "metadata": {},
   "outputs": [
    {
     "data": {
      "text/plain": [
       "'\\n# Sao Paulo, Aug 14, 2020\\n# Script to check uscleanpat_exclude_selficit.csv\\n# When running graph_tool with this file, some results showed uuid in the place of pat_id\\n# this is to check if the data is consistent\\n\\n13 million results looks small\\n'"
      ]
     },
     "execution_count": 1,
     "metadata": {},
     "output_type": "execute_result"
    }
   ],
   "source": [
    "\"\"\"\n",
    "# Sao Paulo, Aug 14, 2020\n",
    "# Script to check uscleanpat_exclude_selficit.csv\n",
    "# When running graph_tool with this file, some results showed uuid in the place of pat_id\n",
    "# this is to check if the data is consistent\n",
    "\n",
    "13 million results looks small\n",
    "\"\"\""
   ]
  },
  {
   "cell_type": "code",
   "execution_count": 11,
   "metadata": {},
   "outputs": [],
   "source": [
    "import pandas as pd\n",
    "import numpy as np\n",
    "\n",
    "import matplotlib.pyplot as plt\n",
    "\n",
    "src= 'data/centrality_pagerank.csv'\n",
    "df=pd.read_csv(src, dtype={'id':object,'pagerank':float })"
   ]
  },
  {
   "cell_type": "code",
   "execution_count": 12,
   "metadata": {},
   "outputs": [
    {
     "data": {
      "text/plain": [
       "id           object\n",
       "pagerank    float64\n",
       "dtype: object"
      ]
     },
     "execution_count": 12,
     "metadata": {},
     "output_type": "execute_result"
    }
   ],
   "source": [
    "df.dtypes"
   ]
  },
  {
   "cell_type": "code",
   "execution_count": 13,
   "metadata": {},
   "outputs": [],
   "source": [
    "df['id'] = df['id'].astype(str) #type object may contain mixed types"
   ]
  },
  {
   "cell_type": "code",
   "execution_count": 14,
   "metadata": {},
   "outputs": [
    {
     "data": {
      "text/html": [
       "<div>\n",
       "<style scoped>\n",
       "    .dataframe tbody tr th:only-of-type {\n",
       "        vertical-align: middle;\n",
       "    }\n",
       "\n",
       "    .dataframe tbody tr th {\n",
       "        vertical-align: top;\n",
       "    }\n",
       "\n",
       "    .dataframe thead th {\n",
       "        text-align: right;\n",
       "    }\n",
       "</style>\n",
       "<table border=\"1\" class=\"dataframe\">\n",
       "  <thead>\n",
       "    <tr style=\"text-align: right;\">\n",
       "      <th></th>\n",
       "      <th>id</th>\n",
       "      <th>pagerank</th>\n",
       "    </tr>\n",
       "  </thead>\n",
       "  <tbody>\n",
       "    <tr>\n",
       "      <th>1</th>\n",
       "      <td>citation_id</td>\n",
       "      <td>7.180030e-08</td>\n",
       "    </tr>\n",
       "    <tr>\n",
       "      <th>327</th>\n",
       "      <td>20040115909</td>\n",
       "      <td>4.704663e-08</td>\n",
       "    </tr>\n",
       "    <tr>\n",
       "      <th>748</th>\n",
       "      <td>20020117104</td>\n",
       "      <td>7.417635e-08</td>\n",
       "    </tr>\n",
       "    <tr>\n",
       "      <th>1749</th>\n",
       "      <td>20010001846</td>\n",
       "      <td>7.044154e-08</td>\n",
       "    </tr>\n",
       "    <tr>\n",
       "      <th>2153</th>\n",
       "      <td>20040073053</td>\n",
       "      <td>4.120374e-08</td>\n",
       "    </tr>\n",
       "    <tr>\n",
       "      <th>...</th>\n",
       "      <td>...</td>\n",
       "      <td>...</td>\n",
       "    </tr>\n",
       "    <tr>\n",
       "      <th>9417419</th>\n",
       "      <td>20040093831</td>\n",
       "      <td>4.079988e-08</td>\n",
       "    </tr>\n",
       "    <tr>\n",
       "      <th>9417429</th>\n",
       "      <td>20030215882</td>\n",
       "      <td>4.195537e-08</td>\n",
       "    </tr>\n",
       "    <tr>\n",
       "      <th>9417464</th>\n",
       "      <td>20030140477</td>\n",
       "      <td>4.061812e-08</td>\n",
       "    </tr>\n",
       "    <tr>\n",
       "      <th>9417468</th>\n",
       "      <td>20020040940</td>\n",
       "      <td>4.539108e-08</td>\n",
       "    </tr>\n",
       "    <tr>\n",
       "      <th>9417476</th>\n",
       "      <td>20030058448</td>\n",
       "      <td>4.047235e-08</td>\n",
       "    </tr>\n",
       "  </tbody>\n",
       "</table>\n",
       "<p>76679 rows × 2 columns</p>\n",
       "</div>"
      ],
      "text/plain": [
       "                  id      pagerank\n",
       "1        citation_id  7.180030e-08\n",
       "327      20040115909  4.704663e-08\n",
       "748      20020117104  7.417635e-08\n",
       "1749     20010001846  7.044154e-08\n",
       "2153     20040073053  4.120374e-08\n",
       "...              ...           ...\n",
       "9417419  20040093831  4.079988e-08\n",
       "9417429  20030215882  4.195537e-08\n",
       "9417464  20030140477  4.061812e-08\n",
       "9417468  20020040940  4.539108e-08\n",
       "9417476  20030058448  4.047235e-08\n",
       "\n",
       "[76679 rows x 2 columns]"
      ]
     },
     "execution_count": 14,
     "metadata": {},
     "output_type": "execute_result"
    }
   ],
   "source": [
    "df[df['id'].apply(lambda x: len(x)>9)]"
   ]
  },
  {
   "cell_type": "code",
   "execution_count": 15,
   "metadata": {},
   "outputs": [
    {
     "data": {
      "text/html": [
       "<div>\n",
       "<style scoped>\n",
       "    .dataframe tbody tr th:only-of-type {\n",
       "        vertical-align: middle;\n",
       "    }\n",
       "\n",
       "    .dataframe tbody tr th {\n",
       "        vertical-align: top;\n",
       "    }\n",
       "\n",
       "    .dataframe thead th {\n",
       "        text-align: right;\n",
       "    }\n",
       "</style>\n",
       "<table border=\"1\" class=\"dataframe\">\n",
       "  <thead>\n",
       "    <tr style=\"text-align: right;\">\n",
       "      <th></th>\n",
       "      <th>id</th>\n",
       "      <th>pagerank</th>\n",
       "    </tr>\n",
       "  </thead>\n",
       "  <tbody>\n",
       "    <tr>\n",
       "      <th>205110</th>\n",
       "      <td>H52</td>\n",
       "      <td>4.216365e-08</td>\n",
       "    </tr>\n",
       "    <tr>\n",
       "      <th>273892</th>\n",
       "      <td>H61</td>\n",
       "      <td>8.299499e-08</td>\n",
       "    </tr>\n",
       "    <tr>\n",
       "      <th>657483</th>\n",
       "      <td>H36</td>\n",
       "      <td>8.948109e-08</td>\n",
       "    </tr>\n",
       "    <tr>\n",
       "      <th>838081</th>\n",
       "      <td>980</td>\n",
       "      <td>3.935638e-08</td>\n",
       "    </tr>\n",
       "    <tr>\n",
       "      <th>1077301</th>\n",
       "      <td>H15</td>\n",
       "      <td>1.135910e-07</td>\n",
       "    </tr>\n",
       "    <tr>\n",
       "      <th>...</th>\n",
       "      <td>...</td>\n",
       "      <td>...</td>\n",
       "    </tr>\n",
       "    <tr>\n",
       "      <th>9348092</th>\n",
       "      <td>113</td>\n",
       "      <td>3.923841e-08</td>\n",
       "    </tr>\n",
       "    <tr>\n",
       "      <th>9353357</th>\n",
       "      <td>968</td>\n",
       "      <td>4.116737e-08</td>\n",
       "    </tr>\n",
       "    <tr>\n",
       "      <th>9380189</th>\n",
       "      <td>433</td>\n",
       "      <td>3.954373e-08</td>\n",
       "    </tr>\n",
       "    <tr>\n",
       "      <th>9382137</th>\n",
       "      <td>288</td>\n",
       "      <td>4.087282e-08</td>\n",
       "    </tr>\n",
       "    <tr>\n",
       "      <th>9416052</th>\n",
       "      <td>916</td>\n",
       "      <td>3.994802e-08</td>\n",
       "    </tr>\n",
       "  </tbody>\n",
       "</table>\n",
       "<p>241 rows × 2 columns</p>\n",
       "</div>"
      ],
      "text/plain": [
       "          id      pagerank\n",
       "205110   H52  4.216365e-08\n",
       "273892   H61  8.299499e-08\n",
       "657483   H36  8.948109e-08\n",
       "838081   980  3.935638e-08\n",
       "1077301  H15  1.135910e-07\n",
       "...      ...           ...\n",
       "9348092  113  3.923841e-08\n",
       "9353357  968  4.116737e-08\n",
       "9380189  433  3.954373e-08\n",
       "9382137  288  4.087282e-08\n",
       "9416052  916  3.994802e-08\n",
       "\n",
       "[241 rows x 2 columns]"
      ]
     },
     "execution_count": 15,
     "metadata": {},
     "output_type": "execute_result"
    }
   ],
   "source": [
    "df[df['id'].apply(lambda x: len(x)<4)]"
   ]
  },
  {
   "cell_type": "code",
   "execution_count": 16,
   "metadata": {},
   "outputs": [
    {
     "data": {
      "text/plain": [
       "7     8456355\n",
       "8      602512\n",
       "6      260372\n",
       "11      76617\n",
       "5       17659\n",
       "4        2489\n",
       "9        1203\n",
       "3         214\n",
       "12         38\n",
       "10         23\n",
       "2          23\n",
       "1           4\n",
       "13          1\n",
       "Name: id, dtype: int64"
      ]
     },
     "execution_count": 16,
     "metadata": {},
     "output_type": "execute_result"
    }
   ],
   "source": [
    "df.id.str.len().value_counts()"
   ]
  },
  {
   "cell_type": "code",
   "execution_count": 17,
   "metadata": {},
   "outputs": [
    {
     "data": {
      "image/png": "[encoded data removed]",
      "text/plain": [
       "<Figure size 432x288 with 1 Axes>"
      ]
     },
     "metadata": {
      "needs_background": "light"
     },
     "output_type": "display_data"
    }
   ],
   "source": [
    "ax=df['pagerank'].hist()\n",
    "ax.set_title('PageRank Histogram \\n')\n",
    "plt.show()"
   ]
  },
  {
   "cell_type": "code",
   "execution_count": 18,
   "metadata": {},
   "outputs": [
    {
     "data": {
      "image/png": "[encoded data removed]",
      "text/plain": [
       "<Figure size 432x288 with 1 Axes>"
      ]
     },
     "metadata": {
      "needs_background": "light"
     },
     "output_type": "display_data"
    }
   ],
   "source": [
    "series = df['pagerank']\n",
    "fig, ax = plt.subplots()\n",
    "series.hist(ax=ax, bins=100, bottom=0.1)\n",
    "ax.set_yscale('log')\n",
    "plt.show()"
   ]
  },
  {
   "cell_type": "code",
   "execution_count": 25,
   "metadata": {},
   "outputs": [
    {
     "data": {
      "text/plain": [
       "232481     0.000088\n",
       "590676     0.000076\n",
       "6547744    0.000072\n",
       "540903     0.000070\n",
       "875933     0.000055\n",
       "10437      0.000054\n",
       "4939       0.000052\n",
       "216388     0.000051\n",
       "1235857    0.000049\n",
       "445648     0.000040\n",
       "237458     0.000040\n",
       "572879     0.000037\n",
       "283799     0.000036\n",
       "3506       0.000036\n",
       "788433     0.000035\n",
       "Name: pagerank, dtype: float64"
      ]
     },
     "execution_count": 25,
     "metadata": {},
     "output_type": "execute_result"
    }
   ],
   "source": [
    "df['pagerank'].nlargest(15)"
   ]
  },
  {
   "cell_type": "code",
   "execution_count": 33,
   "metadata": {},
   "outputs": [
    {
     "data": {
      "text/html": [
       "<div>\n",
       "<style scoped>\n",
       "    .dataframe tbody tr th:only-of-type {\n",
       "        vertical-align: middle;\n",
       "    }\n",
       "\n",
       "    .dataframe tbody tr th {\n",
       "        vertical-align: top;\n",
       "    }\n",
       "\n",
       "    .dataframe thead th {\n",
       "        text-align: right;\n",
       "    }\n",
       "</style>\n",
       "<table border=\"1\" class=\"dataframe\">\n",
       "  <thead>\n",
       "    <tr style=\"text-align: right;\">\n",
       "      <th></th>\n",
       "      <th>id</th>\n",
       "      <th>pagerank</th>\n",
       "    </tr>\n",
       "  </thead>\n",
       "  <tbody>\n",
       "  </tbody>\n",
       "</table>\n",
       "</div>"
      ],
      "text/plain": [
       "Empty DataFrame\n",
       "Columns: [id, pagerank]\n",
       "Index: []"
      ]
     },
     "execution_count": 33,
     "metadata": {},
     "output_type": "execute_result"
    }
   ],
   "source": [
    "df[df.id == '2153']"
   ]
  }
 ],
 "metadata": {
  "kernelspec": {
   "display_name": "Python 3",
   "language": "python",
   "name": "python3"
  },
  "language_info": {
   "codemirror_mode": {
    "name": "ipython",
    "version": 3
   },
   "file_extension": ".py",
   "mimetype": "text/x-python",
   "name": "python",
   "nbconvert_exporter": "python",
   "pygments_lexer": "ipython3",
   "version": "3.7.7"
  }
 },
 "nbformat": 4,
 "nbformat_minor": 4
}
