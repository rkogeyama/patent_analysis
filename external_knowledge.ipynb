{
 "cells": [
  {
   "cell_type": "code",
   "execution_count": 1,
   "metadata": {
    "collapsed": true
   },
   "outputs": [],
   "source": [
    "#Script to evaluate the determinants of patent citation \n",
    "#Renato Kogeyama\n",
    "\n",
    "# August 19, 2020\n",
    "# Updated all files to latest data available in PatentsView (Jun/2020)\n",
    "# Excluded self citations from the dataset\n",
    "\n",
    "# July 13, 2020\n",
    "# I am changing the script to test Nemet and Johnson 2012, but with centrality measures as DV\n",
    "\n",
    "# Apr 27, 2020\n",
    "# Separe most central patents, classify them as disruptive and calculate dvs from extant literature\n",
    "\n",
    "# Mar 16, 2020\n",
    "# Introducing centrality measures as dv\n",
    "\n",
    "# Feb 04, 2020\n",
    "# to set labels in heatmap keyword:xticklabels\n",
    "# for ex.\n",
    "# sns.heatmap(globalWarming_df, xticklabels = np.arange(0,15))\n",
    "# to be implemented later\n",
    "# another alternative is to substitute the values in the dataset and convert columns to categories\n",
    "# to understand the impact, i should run some test\n",
    "# however i am focusing now in calculate Corredoira's 2015 and Nemet & Johnson 2012\n",
    "\n",
    "# Feb 03, 2020\n",
    "# version backed up as _old\n",
    "\n",
    "# Feb 02, 2020\n",
    "# the best way to deal with the classification names is to use a dictionary\n",
    "# this avoid charging memory with the strings\n",
    "# However, WIPO is organized differently than the other systems\n",
    "# I'll update the wipo code to uniformize the behavior in this script\n",
    "# I am creating a code that reflects the first level of classification \n",
    "\n",
    "# Feb 01, 2020\n",
    "# Introduction of categorical graphs: barplot and heatmap\n",
    "# heatmap is not the real deal, its a simplification\n",
    "# the real deal would be the correlation table - there is a suggestion based on cramer, \n",
    "    # but implementation was not ready\n",
    "# graphs exported and google docs updated\n",
    "# next step: update cit_tree to reflect Corredoira's 205 Influence measure\n",
    "# plot a network graph: https://plot.ly/python/network-graphs/\n",
    "# reproduce 2012 Nemet and Johnson with other class systems\n",
    "# correct bias in generality and originality (multiply for N/N-1)\n",
    "\n",
    "# Jan 21, 2020\n",
    "# Classifications added\n",
    "# Code reorganized - much faster now\n",
    "# Still missing the update of applications to the grant number\n",
    "# I should provide now descriptive statistics on all variables\n",
    "\n",
    "# Jan 21, 2020\n",
    "# The current data does not have Class\n",
    "# I should go back and get this info - but there are too many scripts now and\n",
    "#   I should reorganize them before moving forward\n",
    "# I should also include the patent publication date - to control for the policy changes\n",
    "# In the citation file, I should change application number for grant when possible \n",
    "#   This will improve realiability of all measures related to citation\n",
    "# Introduce classifications\n",
    "\n",
    "# Jan 18, 2020\n",
    "# Variables calculated\n",
    "# Generality, average delay, forward and backward citations, cumulative citation (cit_tree)\n",
    "# Still missing originality\n",
    "# the file with variables that are used in this script should get a name independent from the date\n",
    "\n",
    "\n",
    "#Miami, December 24th, 2019\n",
    "# Prof. Rafael Corredoira suggested:\n",
    "# - Inclusion of a tree of citations\n",
    "#   To track back the source of citations. This is information is not given by direct count of citations.\n",
    "# - Consider policy changes in the way patents are cited\n",
    "#   Policy changes in 2000 changed the time frame of citation, and 2010 partially moved citation to applications\n",
    "# - Track classification changes \n",
    "#   The original classification system in USPTO changed from a technical based to a market based classification system\n",
    "#   See if there is an impact\n",
    "# - Consider a text analysis of the claims\n",
    "#   Classification is based on the claims but it is not clear how many claims are related to each classification category\n",
    "# - Include moderation effect from classification\n",
    "#   Citations patterns may change across industries, so some effects may disappear if industry is not accounted for.\n",
    "\n",
    "# In summary, his ideas help increase structure of the current work\n",
    "\n",
    "\n",
    "#Syracuse, December 3rd, 2019\n",
    "\n",
    "#The original script is getting too complex\n",
    "#There was many tentative scripts to play with data\n",
    "#Here I am writing a script to show the relevance of variables to patent citation\n",
    "\n",
    "#11-12-2019\n",
    "#Introducing normalization\n",
    "\n",
    "#10-11-2019\n",
    "#I introduced log backward citation, what corrects for very dispersed results\n",
    "#but the major problem is that few patents receive citations\n",
    "#bring back binary output\n",
    "\n",
    "#10-10-2019\n",
    "#Added graphics and new distributions\n",
    "\n",
    "#10-03-2019\n",
    "#I rewrote the citation data to clean the strings\n",
    "\n",
    "#09-15-2019\n",
    "#O naive bayes tem algum problema com distribuicoes desbalanceadas\n",
    "#o scikit learn tem um modulo que corrige count distributions com muitos zeros, o complementNB\n",
    "#porem este nao esta disponivel na atual versao disponibilizada no HPC da FIU\n",
    "\n",
    "#09-10-2019\n",
    "#o trabalho pede uma abordagem mais sistematica e cuidadosa\n",
    "#estou agrupando o codigo antigo comentado e vou comecar um novo codigo\n",
    "\n",
    "#09-27-2019\n",
    "#I am renaming citation as forward citation and backward citation\n",
    "\n",
    "#09-17-2018\n",
    "\n",
    "#Alto uso de memoria - rodar no Amazon AWS \n",
    "\n"
   ]
  },
  {
   "cell_type": "code",
   "execution_count": 2,
   "metadata": {
    "collapsed": true
   },
   "outputs": [],
   "source": [
    "import pandas as pd\n",
    "import numpy as np\n",
    "import IPython.display as display\n",
    "import seaborn as sns\n",
    "          \n",
    "import itertools\n",
    "\n",
    "from sklearn import preprocessing\n",
    "from sklearn import linear_model, datasets\n",
    "from sklearn.model_selection import train_test_split\n",
    "from sklearn.feature_selection import SelectKBest, f_classif\n",
    "from sklearn import naive_bayes\n",
    "from sklearn.metrics import roc_curve, auc\n",
    "from sklearn.feature_selection import VarianceThreshold\n",
    "from sklearn.linear_model import LinearRegression\n",
    "\n",
    "import scipy.stats as ss\n",
    "import datetime\n",
    "import matplotlib.pyplot as plt\n",
    "\n",
    "from math import sqrt\n",
    "\n",
    "import sys\n",
    "sys.path.append('/home/rkogeyam/scripts/')\n",
    "sys.path.append('scripts/')\n",
    "\n",
    "#from determinants_scripts import classes\n",
    "\n",
    "# from plotbar import plotbar\n",
    "# from plot_heat import heatmap\n",
    "\n",
    "\n",
    "from best_num_attr import best_num_attr\n",
    "from xattrSelect import xattrSelect\n",
    "from sampler import sampler\n",
    "from normalize import normalize\n",
    "from nbayes import nbayes\n",
    "\n",
    "import gzip\n",
    "import statsmodels.api as sm\n",
    "\n",
    "import os\n",
    "import math"
   ]
  },
  {
   "cell_type": "code",
   "execution_count": 3,
   "metadata": {
    "collapsed": true
   },
   "outputs": [],
   "source": [
    "latex='data/results.tex'\n",
    "# dataset='data/dataset.csv'\n",
    "dataset=gzip.open('data/dataset.csv.gz', 'rt')"
   ]
  },
  {
   "cell_type": "code",
   "execution_count": 4,
   "metadata": {
    "collapsed": true
   },
   "outputs": [],
   "source": [
    "%matplotlib inline\n",
    "sns.set()\n",
    "sns.set_palette(sns.cubehelix_palette(8))\n",
    "# pd.options.display.float_format = '{:,.2f}'.format"
   ]
  },
  {
   "cell_type": "code",
   "execution_count": 5,
   "metadata": {
    "collapsed": true
   },
   "outputs": [],
   "source": [
    "dtypes={'id':object,'type':object, 'kind':object, 'num_claims':float, 'cit_received':float, 'cit_made':float,\n",
    "       'cit_received_delay':float, 'cit_made_delay':float, 'parent_citation':float,\n",
    "       'originality':float, 'generality':float, 'wipo_sector_id':object,'wipo_far_ext':float, 'wipo_ext':float,  'pagerank':float}"
   ]
  },
  {
   "cell_type": "code",
   "execution_count": 6,
   "metadata": {
    "collapsed": true
   },
   "outputs": [],
   "source": [
    "# only main classes (exclude uspc)\n",
    "\n",
    "usecols=['id', 'date', 'num_claims', 'cit_received', 'cit_made',\n",
    "         'cit_received_delay', 'cit_made_delay',\n",
    "         'originality', 'generality', 'wipo_sector_id', 'wipo_far_ext', 'wipo_ext', 'pagerank']"
   ]
  },
  {
   "cell_type": "code",
   "execution_count": 7,
   "metadata": {
    "collapsed": true
   },
   "outputs": [],
   "source": [
    "# only WIPO class system, exclude type and kind\n",
    "\n",
    "# usecols=['id', 'date', 'num_claims', 'cit_received', 'cit_made',\n",
    "#         'cit_received_delay', 'cit_made_delay', 'parent_citation',\n",
    "#         'originality', 'generality', 'wipo_sector_id', 'eigen', 'pagerank', 'katz']"
   ]
  },
  {
   "cell_type": "code",
   "execution_count": 8,
   "metadata": {
    "collapsed": false
   },
   "outputs": [
    {
     "name": "stdout",
     "output_type": "stream",
     "text": [
      "<class 'pandas.core.frame.DataFrame'>\n",
      "Index: 9570679 entries, 0000000 to re25727\n",
      "Data columns (total 12 columns):\n",
      "date                  datetime64[ns]\n",
      "num_claims            float64\n",
      "cit_received          float64\n",
      "cit_made              float64\n",
      "cit_received_delay    float64\n",
      "cit_made_delay        float64\n",
      "originality           float64\n",
      "generality            float64\n",
      "wipo_sector_id        object\n",
      "wipo_far_ext          float64\n",
      "wipo_ext              float64\n",
      "pagerank              float64\n",
      "dtypes: datetime64[ns](1), float64(10), object(1)\n",
      "memory usage: 949.2+ MB\n"
     ]
    }
   ],
   "source": [
    "df=pd.read_csv(dataset, usecols=usecols, dtype=dtypes, parse_dates=['date'], index_col='id')\n",
    "\n",
    "df.info()"
   ]
  },
  {
   "cell_type": "code",
   "execution_count": 9,
   "metadata": {
    "collapsed": true
   },
   "outputs": [],
   "source": [
    "df['year']=df.date.dt.year\n",
    "# df['year']=df.date.dt.year.astype(str)\n",
    "\n",
    "# df['decade']=df.date.dt.year//10*10\n",
    "# df['decade'] =df['decade'].apply(lambda x: int(x) if str(x) != 'nan' else np.nan)\n",
    "# decades=list(df.decade.unique())\n",
    "# decades = [int(x) for x in decades if str(x) != 'nan']"
   ]
  },
  {
   "cell_type": "code",
   "execution_count": 10,
   "metadata": {
    "collapsed": false
   },
   "outputs": [
    {
     "data": {
      "text/plain": [
       "['wipo_sector_id']"
      ]
     },
     "execution_count": 10,
     "metadata": {},
     "output_type": "execute_result"
    }
   ],
   "source": [
    "obj_cols=list(df.select_dtypes(include=[object]).columns.values)\n",
    "obj_cols"
   ]
  },
  {
   "cell_type": "code",
   "execution_count": 11,
   "metadata": {
    "collapsed": false
   },
   "outputs": [
    {
     "data": {
      "text/plain": [
       "['num_claims',\n",
       " 'cit_received',\n",
       " 'cit_made',\n",
       " 'cit_received_delay',\n",
       " 'cit_made_delay',\n",
       " 'originality',\n",
       " 'generality',\n",
       " 'wipo_far_ext',\n",
       " 'wipo_ext',\n",
       " 'pagerank',\n",
       " 'year']"
      ]
     },
     "execution_count": 11,
     "metadata": {},
     "output_type": "execute_result"
    }
   ],
   "source": [
    "num_cols=list(df.select_dtypes(include=[np.number]).columns.values)\n",
    "num_cols"
   ]
  },
  {
   "cell_type": "markdown",
   "metadata": {},
   "source": [
    "## Data Analysis\n",
    "\n",
    "### Descriptive "
   ]
  },
  {
   "cell_type": "code",
   "execution_count": 12,
   "metadata": {
    "collapsed": false
   },
   "outputs": [
    {
     "name": "stderr",
     "output_type": "stream",
     "text": [
      "/home/applications/anaconda3/4.2.0/lib/python3.5/site-packages/numpy/lib/function_base.py:4269: RuntimeWarning: Invalid value encountered in percentile\n",
      "  interpolation=interpolation)\n"
     ]
    }
   ],
   "source": [
    "descriptive=df.describe(include=[np.number]).loc[['count','mean','std','min','max']].append(df[num_cols].isnull().sum().rename('isnull'))"
   ]
  },
  {
   "cell_type": "code",
   "execution_count": 13,
   "metadata": {
    "collapsed": false
   },
   "outputs": [],
   "source": [
    "output=[]\n",
    "output.append(descriptive.apply(lambda x: x.apply('{:,.2f}'.format)).transpose().to_latex())\n",
    "output.append(\"\\\\newpage\\n\")"
   ]
  },
  {
   "cell_type": "code",
   "execution_count": 14,
   "metadata": {
    "collapsed": false
   },
   "outputs": [
    {
     "data": {
      "text/html": [
       "<div>\n",
       "<table border=\"1\" class=\"dataframe\">\n",
       "  <thead>\n",
       "    <tr style=\"text-align: right;\">\n",
       "      <th></th>\n",
       "      <th>wipo_sector_id</th>\n",
       "    </tr>\n",
       "  </thead>\n",
       "  <tbody>\n",
       "    <tr>\n",
       "      <th>count</th>\n",
       "      <td>6621121</td>\n",
       "    </tr>\n",
       "    <tr>\n",
       "      <th>unique</th>\n",
       "      <td>5</td>\n",
       "    </tr>\n",
       "    <tr>\n",
       "      <th>top</th>\n",
       "      <td>1</td>\n",
       "    </tr>\n",
       "    <tr>\n",
       "      <th>freq</th>\n",
       "      <td>2506493</td>\n",
       "    </tr>\n",
       "  </tbody>\n",
       "</table>\n",
       "</div>"
      ],
      "text/plain": [
       "       wipo_sector_id\n",
       "count         6621121\n",
       "unique              5\n",
       "top                 1\n",
       "freq          2506493"
      ]
     },
     "execution_count": 14,
     "metadata": {},
     "output_type": "execute_result"
    }
   ],
   "source": [
    "df.describe(include=[np.object])#.append(df[np.object].isnull().sum().rename('isnull')).transpose()"
   ]
  },
  {
   "cell_type": "markdown",
   "metadata": {},
   "source": [
    "### Barplots and Heatmaps"
   ]
  },
  {
   "cell_type": "code",
   "execution_count": 15,
   "metadata": {
    "collapsed": true
   },
   "outputs": [],
   "source": [
    "# # barplot\n",
    "# # as of 02.03.20, working\n",
    "\n",
    "# for i in obj_cols:\n",
    "#     plotbar(i, df, classes)\n",
    "\n",
    "# # barplot with decades\n",
    "# for i in obj_cols:\n",
    "#     plotbar(i, df, classes,decade=True)\n",
    "\n",
    "# # barplot with decades and inverted axis\n",
    "# for i in obj_cols:\n",
    "#     plotbar(i, df, classes,decade=True, decade_x=True)\n",
    "\n",
    "# # heatmaps all periods\n",
    "# for double in list(itertools.combinations(obj_cols, 2)):\n",
    "#     heatmap(df[double[0]], df[double[1]]) \n",
    "\n",
    "# # print heatmaps per decade\n",
    "# for decade in decades:\n",
    "#     df_dec=df[df['decade']==decade]\n",
    "#     for double in list(itertools.combinations(obj_cols, 2)):\n",
    "#         heatmap(df_dec[double[0]], df_dec[double[1]], decade) \n"
   ]
  },
  {
   "cell_type": "markdown",
   "metadata": {},
   "source": [
    "### Histograms"
   ]
  },
  {
   "cell_type": "code",
   "execution_count": 16,
   "metadata": {
    "collapsed": true
   },
   "outputs": [],
   "source": [
    "# #histograms\n",
    "# #could improve cutting off outliers\n",
    "# for variable in num_cols:\n",
    "#     ax=df[variable].hist()\n",
    "#     ax.set_title('Histogram '+ variable.title()+'\\n')\n",
    "#     plt.show()"
   ]
  },
  {
   "cell_type": "markdown",
   "metadata": {},
   "source": [
    "### Trends and Boxplots"
   ]
  },
  {
   "cell_type": "code",
   "execution_count": 17,
   "metadata": {
    "collapsed": true
   },
   "outputs": [],
   "source": [
    "#iterate over numerical variables\n",
    "\n",
    "# num_cols.remove('decade')\n",
    "# num_cols.remove('year')"
   ]
  },
  {
   "cell_type": "code",
   "execution_count": 18,
   "metadata": {
    "collapsed": true
   },
   "outputs": [],
   "source": [
    "# for variable in num_cols:\n",
    "    \n",
    "#     title=variable.replace('_', ' ')\n",
    "#     fig, axes = plt.subplots(nrows=1, ncols=2, figsize=(14, 6))\n",
    "\n",
    "#     axes[0] = df.groupby('year').mean().plot(y=variable, ax=axes[0])\n",
    "#     evl_title='Evolution of '+ title +'\\n'\n",
    "#     axes[0].set_title(evl_title)\n",
    "#     axes[0].set_ylim(bottom=0)\n",
    "    \n",
    "#     axes[1] = sns.boxplot(x='decade', y=variable, data=df)\n",
    "\n",
    "#     box_title='Dispersion of '+ title +'\\n'\n",
    "#     axes[1].set_title(box_title)\n",
    "#     axes[1].set_ylim(bottom=0)\n",
    "#     axes[1].set_ylabel(\"\")\n",
    "    \n",
    "#     filename='./img/evol_dispersion_'+variable.lower()+'.png'  \n",
    "#     plt.savefig(filename) \n",
    "#     plt.show()\n"
   ]
  },
  {
   "cell_type": "code",
   "execution_count": 19,
   "metadata": {
    "collapsed": true
   },
   "outputs": [],
   "source": [
    "# the generality data on the 2010's is too concentrated around 0\n",
    "# to check, I draw this hist to understand what is happening\n",
    "# it could be an effect of truncation - generality increases with forward citation\n",
    "\n",
    "# df[df['decade']==2010]['generality'].hist()"
   ]
  },
  {
   "cell_type": "code",
   "execution_count": 20,
   "metadata": {
    "collapsed": false
   },
   "outputs": [
    {
     "name": "stdout",
     "output_type": "stream",
     "text": [
      "<class 'pandas.core.frame.DataFrame'>\n",
      "Index: 9570679 entries, 0000000 to re25727\n",
      "Data columns (total 13 columns):\n",
      "date                  datetime64[ns]\n",
      "num_claims            float64\n",
      "cit_received          float64\n",
      "cit_made              float64\n",
      "cit_received_delay    float64\n",
      "cit_made_delay        float64\n",
      "originality           float64\n",
      "generality            float64\n",
      "wipo_sector_id        object\n",
      "wipo_far_ext          float64\n",
      "wipo_ext              float64\n",
      "pagerank              float64\n",
      "year                  float64\n",
      "dtypes: datetime64[ns](1), float64(11), object(1)\n",
      "memory usage: 1022.3+ MB\n"
     ]
    }
   ],
   "source": [
    "df.info()"
   ]
  },
  {
   "cell_type": "markdown",
   "metadata": {},
   "source": [
    "### Models"
   ]
  },
  {
   "cell_type": "code",
   "execution_count": 21,
   "metadata": {
    "collapsed": false
   },
   "outputs": [
    {
     "name": "stdout",
     "output_type": "stream",
     "text": [
      "Total number of observations and attributes\n",
      "(3891146, 13)\n",
      "Number of numerical attributes: 11\n",
      "Number of non-numerical attributes: 11\n"
     ]
    },
    {
     "name": "stderr",
     "output_type": "stream",
     "text": [
      "/home/rkogeyam/scripts/normalize.py:34: SettingWithCopyWarning: \n",
      "A value is trying to be set on a copy of a slice from a DataFrame.\n",
      "Try using .loc[row_indexer,col_indexer] = value instead\n",
      "\n",
      "See the caveats in the documentation: http://pandas.pydata.org/pandas-docs/stable/indexing.html#indexing-view-versus-copy\n",
      "  df[num_cols]=min_max_scaler.fit_transform(df[num_cols])\n",
      "/home/applications/anaconda3/4.2.0/lib/python3.5/site-packages/pandas/core/indexing.py:465: SettingWithCopyWarning: \n",
      "A value is trying to be set on a copy of a slice from a DataFrame.\n",
      "Try using .loc[row_indexer,col_indexer] = value instead\n",
      "\n",
      "See the caveats in the documentation: http://pandas.pydata.org/pandas-docs/stable/indexing.html#indexing-view-versus-copy\n",
      "  self.obj[item] = s\n"
     ]
    }
   ],
   "source": [
    "# normalization\n",
    "df=normalize(df.dropna())"
   ]
  },
  {
   "cell_type": "code",
   "execution_count": 22,
   "metadata": {
    "collapsed": false
   },
   "outputs": [
    {
     "name": "stdout",
     "output_type": "stream",
     "text": [
      "<class 'pandas.core.frame.DataFrame'>\n",
      "Index: 3891146 entries, 3931349 to 9854083\n",
      "Data columns (total 13 columns):\n",
      "date                  datetime64[ns]\n",
      "num_claims            float64\n",
      "cit_received          float64\n",
      "cit_made              float64\n",
      "cit_received_delay    float64\n",
      "cit_made_delay        float64\n",
      "originality           float64\n",
      "generality            float64\n",
      "wipo_sector_id        object\n",
      "wipo_far_ext          float64\n",
      "wipo_ext              float64\n",
      "pagerank              float64\n",
      "year                  float64\n",
      "dtypes: datetime64[ns](1), float64(11), object(1)\n",
      "memory usage: 415.6+ MB\n"
     ]
    }
   ],
   "source": [
    "df.info()"
   ]
  },
  {
   "cell_type": "code",
   "execution_count": 23,
   "metadata": {
    "collapsed": false
   },
   "outputs": [
    {
     "data": {
      "text/html": [
       "<div>\n",
       "<table border=\"1\" class=\"dataframe\">\n",
       "  <thead>\n",
       "    <tr style=\"text-align: right;\">\n",
       "      <th></th>\n",
       "      <th>date</th>\n",
       "      <th>num_claims</th>\n",
       "      <th>cit_received</th>\n",
       "      <th>cit_made</th>\n",
       "      <th>cit_received_delay</th>\n",
       "      <th>cit_made_delay</th>\n",
       "      <th>originality</th>\n",
       "      <th>generality</th>\n",
       "      <th>wipo_sector_id</th>\n",
       "      <th>wipo_far_ext</th>\n",
       "      <th>wipo_ext</th>\n",
       "      <th>pagerank</th>\n",
       "      <th>year</th>\n",
       "    </tr>\n",
       "    <tr>\n",
       "      <th>id</th>\n",
       "      <th></th>\n",
       "      <th></th>\n",
       "      <th></th>\n",
       "      <th></th>\n",
       "      <th></th>\n",
       "      <th></th>\n",
       "      <th></th>\n",
       "      <th></th>\n",
       "      <th></th>\n",
       "      <th></th>\n",
       "      <th></th>\n",
       "      <th></th>\n",
       "      <th></th>\n",
       "    </tr>\n",
       "  </thead>\n",
       "  <tbody>\n",
       "    <tr>\n",
       "      <th>3931349</th>\n",
       "      <td>1976-01-06</td>\n",
       "      <td>0.009029</td>\n",
       "      <td>0.022682</td>\n",
       "      <td>0.001033</td>\n",
       "      <td>0.353835</td>\n",
       "      <td>0.641222</td>\n",
       "      <td>0.0</td>\n",
       "      <td>0.000000</td>\n",
       "      <td>0</td>\n",
       "      <td>0.000000</td>\n",
       "      <td>0.022581</td>\n",
       "      <td>0.011216</td>\n",
       "      <td>0.0</td>\n",
       "    </tr>\n",
       "    <tr>\n",
       "      <th>3935991</th>\n",
       "      <td>1976-02-03</td>\n",
       "      <td>0.002257</td>\n",
       "      <td>0.004736</td>\n",
       "      <td>0.001205</td>\n",
       "      <td>0.270670</td>\n",
       "      <td>0.642102</td>\n",
       "      <td>0.0</td>\n",
       "      <td>0.138408</td>\n",
       "      <td>3</td>\n",
       "      <td>0.000326</td>\n",
       "      <td>0.000323</td>\n",
       "      <td>0.001409</td>\n",
       "      <td>0.0</td>\n",
       "    </tr>\n",
       "    <tr>\n",
       "      <th>3943789</th>\n",
       "      <td>1976-03-16</td>\n",
       "      <td>0.005643</td>\n",
       "      <td>0.001496</td>\n",
       "      <td>0.001205</td>\n",
       "      <td>0.316234</td>\n",
       "      <td>0.683412</td>\n",
       "      <td>0.0</td>\n",
       "      <td>0.000000</td>\n",
       "      <td>3</td>\n",
       "      <td>0.000000</td>\n",
       "      <td>0.002258</td>\n",
       "      <td>0.000505</td>\n",
       "      <td>0.0</td>\n",
       "    </tr>\n",
       "    <tr>\n",
       "      <th>3944004</th>\n",
       "      <td>1976-03-16</td>\n",
       "      <td>0.012415</td>\n",
       "      <td>0.001246</td>\n",
       "      <td>0.001377</td>\n",
       "      <td>0.277968</td>\n",
       "      <td>0.639338</td>\n",
       "      <td>0.0</td>\n",
       "      <td>0.625000</td>\n",
       "      <td>2</td>\n",
       "      <td>0.000651</td>\n",
       "      <td>0.000645</td>\n",
       "      <td>0.000662</td>\n",
       "      <td>0.0</td>\n",
       "    </tr>\n",
       "    <tr>\n",
       "      <th>3945191</th>\n",
       "      <td>1976-03-23</td>\n",
       "      <td>0.003386</td>\n",
       "      <td>0.004736</td>\n",
       "      <td>0.000688</td>\n",
       "      <td>0.131093</td>\n",
       "      <td>0.630650</td>\n",
       "      <td>0.0</td>\n",
       "      <td>0.000000</td>\n",
       "      <td>2</td>\n",
       "      <td>0.000000</td>\n",
       "      <td>0.000000</td>\n",
       "      <td>0.010436</td>\n",
       "      <td>0.0</td>\n",
       "    </tr>\n",
       "  </tbody>\n",
       "</table>\n",
       "</div>"
      ],
      "text/plain": [
       "              date  num_claims  cit_received  cit_made  cit_received_delay  \\\n",
       "id                                                                           \n",
       "3931349 1976-01-06    0.009029      0.022682  0.001033            0.353835   \n",
       "3935991 1976-02-03    0.002257      0.004736  0.001205            0.270670   \n",
       "3943789 1976-03-16    0.005643      0.001496  0.001205            0.316234   \n",
       "3944004 1976-03-16    0.012415      0.001246  0.001377            0.277968   \n",
       "3945191 1976-03-23    0.003386      0.004736  0.000688            0.131093   \n",
       "\n",
       "         cit_made_delay  originality  generality wipo_sector_id  wipo_far_ext  \\\n",
       "id                                                                              \n",
       "3931349        0.641222          0.0    0.000000              0      0.000000   \n",
       "3935991        0.642102          0.0    0.138408              3      0.000326   \n",
       "3943789        0.683412          0.0    0.000000              3      0.000000   \n",
       "3944004        0.639338          0.0    0.625000              2      0.000651   \n",
       "3945191        0.630650          0.0    0.000000              2      0.000000   \n",
       "\n",
       "         wipo_ext  pagerank  year  \n",
       "id                                 \n",
       "3931349  0.022581  0.011216   0.0  \n",
       "3935991  0.000323  0.001409   0.0  \n",
       "3943789  0.002258  0.000505   0.0  \n",
       "3944004  0.000645  0.000662   0.0  \n",
       "3945191  0.000000  0.010436   0.0  "
      ]
     },
     "execution_count": 23,
     "metadata": {},
     "output_type": "execute_result"
    }
   ],
   "source": [
    "df.head()"
   ]
  },
  {
   "cell_type": "code",
   "execution_count": 24,
   "metadata": {
    "collapsed": true
   },
   "outputs": [],
   "source": [
    "# #maybe nb fit does not accept nomalized data, so i using data without normalize\n",
    "# #but in that case, i have to transform the categorical variables\n",
    "\n",
    "# obj_cols=list(df.select_dtypes(include=[object]).columns.values)\n",
    "\n",
    "# for col in obj_cols:\n",
    "#     df[col] = df[col].astype('category')\n",
    "\n",
    "# df=pd.get_dummies(df, columns=obj_cols, prefix=obj_cols)"
   ]
  },
  {
   "cell_type": "code",
   "execution_count": 25,
   "metadata": {
    "collapsed": false
   },
   "outputs": [
    {
     "data": {
      "text/plain": [
       "13"
      ]
     },
     "execution_count": 25,
     "metadata": {},
     "output_type": "execute_result"
    }
   ],
   "source": [
    "# List of IVs\n",
    "chosenColumns=df.columns.values.tolist()\n",
    "len(chosenColumns)"
   ]
  },
  {
   "cell_type": "code",
   "execution_count": 26,
   "metadata": {
    "collapsed": false
   },
   "outputs": [
    {
     "data": {
      "text/plain": [
       "10"
      ]
     },
     "execution_count": 26,
     "metadata": {},
     "output_type": "execute_result"
    }
   ],
   "source": [
    "chosenColumns.remove('pagerank') #dv\n",
    "chosenColumns.remove('date') #similar to year\n",
    "chosenColumns.remove('wipo_sector_id') #iterate over patent class\n",
    "len(chosenColumns)"
   ]
  },
  {
   "cell_type": "code",
   "execution_count": 27,
   "metadata": {
    "collapsed": true
   },
   "outputs": [],
   "source": [
    "wipo_sectors=df.wipo_sector_id.unique() #list of wipo sectors"
   ]
  },
  {
   "cell_type": "code",
   "execution_count": 28,
   "metadata": {
    "collapsed": false
   },
   "outputs": [
    {
     "data": {
      "text/plain": [
       "id\n",
       "4558413    1.000000\n",
       "4395486    0.825510\n",
       "4683195    0.787953\n",
       "4298685    0.742378\n",
       "5572643    0.561747\n",
       "Name: pagerank, dtype: float64"
      ]
     },
     "execution_count": 28,
     "metadata": {},
     "output_type": "execute_result"
    }
   ],
   "source": [
    "df['pagerank'].nlargest()"
   ]
  },
  {
   "cell_type": "code",
   "execution_count": 29,
   "metadata": {
    "collapsed": false
   },
   "outputs": [
    {
     "data": {
      "text/plain": [
       "0.99999999999999989"
      ]
     },
     "execution_count": 29,
     "metadata": {},
     "output_type": "execute_result"
    }
   ],
   "source": [
    "max_pagerank=df['pagerank'].max() #variable used in the transformation\n",
    "max_pagerank"
   ]
  },
  {
   "cell_type": "code",
   "execution_count": 30,
   "metadata": {
    "collapsed": true
   },
   "outputs": [],
   "source": [
    "#transform DV first by inverting (max_pagerank-1) and then applying log (see Andy Field)\n",
    "df['t-pagerank']=df['pagerank'].apply(lambda x: math.log(max_pagerank+1-x))"
   ]
  },
  {
   "cell_type": "code",
   "execution_count": 31,
   "metadata": {
    "collapsed": true
   },
   "outputs": [
    {
     "data": {
      "text/plain": [
       "['num_claims',\n",
       " 'cit_received',\n",
       " 'cit_made',\n",
       " 'cit_received_delay',\n",
       " 'cit_made_delay',\n",
       " 'originality',\n",
       " 'generality',\n",
       " 'wipo_far_ext',\n",
       " 'wipo_ext',\n",
       " 'pagerank',\n",
       " 'year',\n",
       " 't-pagerank']"
      ]
     },
     "execution_count": 31,
     "metadata": {},
     "output_type": "execute_result"
    }
   ],
   "source": [
    "num_cols=list(df.select_dtypes(include=[np.number]).columns.values)\n",
    "num_cols"
   ]
  },
  {
   "cell_type": "code",
   "execution_count": 32,
   "metadata": {
    "collapsed": true
   },
   "outputs": [
    {
     "name": "stderr",
     "output_type": "stream",
     "text": [
      "/home/applications/anaconda3/4.2.0/lib/python3.5/site-packages/matplotlib/font_manager.py:1297: UserWarning: findfont: Font family ['sans-serif'] not found. Falling back to DejaVu Sans\n",
      "  (prop.get_family(), self.defaultFamily[fontext]))\n"
     ]
    },
    {
     "data": {
      "image/png": "[encoded data removed]",
      "text/plain": [
       "<matplotlib.figure.Figure at 0x7f38f505d5c0>"
      ]
     },
     "metadata": {},
     "output_type": "display_data"
    },
    {
     "data": {
      "image/png": "[encoded data removed]",
      "text/plain": [
       "<matplotlib.figure.Figure at 0x7f38f504ac18>"
      ]
     },
     "metadata": {},
     "output_type": "display_data"
    },
    {
     "data": {
      "image/png": "[encoded data removed]",
      "text/plain": [
       "<matplotlib.figure.Figure at 0x7f38f5261b70>"
      ]
     },
     "metadata": {},
     "output_type": "display_data"
    },
    {
     "data": {
      "image/png": "[encoded data removed]",
      "text/plain": [
       "<matplotlib.figure.Figure at 0x7f38f55fe128>"
      ]
     },
     "metadata": {},
     "output_type": "display_data"
    },
    {
     "data": {
      "image/png": "[encoded data removed]",
      "text/plain": [
       "<matplotlib.figure.Figure at 0x7f38f5527550>"
      ]
     },
     "metadata": {},
     "output_type": "display_data"
    },
    {
     "data": {
      "image/png": "[encoded data removed]",
      "text/plain": [
       "<matplotlib.figure.Figure at 0x7f38f553e908>"
      ]
     },
     "metadata": {},
     "output_type": "display_data"
    },
    {
     "data": {
      "image/png": "[encoded data removed]",
      "text/plain": [
       "<matplotlib.figure.Figure at 0x7f38f562cef0>"
      ]
     },
     "metadata": {},
     "output_type": "display_data"
    },
    {
     "data": {
      "image/png": "[encoded data removed]",
      "text/plain": [
       "<matplotlib.figure.Figure at 0x7f38f56cf3c8>"
      ]
     },
     "metadata": {},
     "output_type": "display_data"
    },
    {
     "data": {
      "image/png": "[encoded data removed]",
      "text/plain": [
       "<matplotlib.figure.Figure at 0x7f38f5784898>"
      ]
     },
     "metadata": {},
     "output_type": "display_data"
    },
    {
     "data": {
      "image/png": "[encoded data removed]",
      "text/plain": [
       "<matplotlib.figure.Figure at 0x7f38f574e080>"
      ]
     },
     "metadata": {},
     "output_type": "display_data"
    },
    {
     "data": {
      "image/png": "[encoded data removed]",
      "text/plain": [
       "<matplotlib.figure.Figure at 0x7f38f5782f98>"
      ]
     },
     "metadata": {},
     "output_type": "display_data"
    },
    {
     "data": {
      "image/png": "[encoded data removed]",
      "text/plain": [
       "<matplotlib.figure.Figure at 0x7f38f56bc2b0>"
      ]
     },
     "metadata": {},
     "output_type": "display_data"
    }
   ],
   "source": [
    "# histograms\n",
    "for variable in num_cols:\n",
    "    ax=df[variable].hist()\n",
    "    ax.set_title('Histogram '+ variable.title()+'\\n')\n",
    "    plt.show()"
   ]
  },
  {
   "cell_type": "code",
   "execution_count": 33,
   "metadata": {
    "collapsed": true
   },
   "outputs": [],
   "source": [
    "#function to write results to a latex file \n",
    "def export_table(content, name):\n",
    "    basename='output/'+ name\n",
    "    i=1\n",
    "    while os.path.exists(basename+\"_\"+\"{:03d}\".format(i)+'.out'):\n",
    "        i += 1\n",
    "    with open(basename+\"_\"+\"{:03d}\".format(i)+'.out','w') as fh:\n",
    "        for element in content:\n",
    "            fh.write( element )\n",
    " "
   ]
  },
  {
   "cell_type": "code",
   "execution_count": 34,
   "metadata": {
    "collapsed": true
   },
   "outputs": [],
   "source": [
    "wipo_sector_title={\n",
    "    '0':\"Chemistry\",\n",
    "    '1':\"Electrical Eng\",\n",
    "    '2':\"Instruments\",\n",
    "    '3':\"Mechanical Eng\",\n",
    "    '4':\"Other fields\",\n",
    "    '5':\"Plant\"\n",
    "    }"
   ]
  },
  {
   "cell_type": "code",
   "execution_count": 35,
   "metadata": {
    "collapsed": false
   },
   "outputs": [],
   "source": [
    "for wipo_sector in wipo_sectors:\n",
    "#     print(wipo_sector_title[wipo_sector])\n",
    "#     print(df[df.wipo_sector_id==wipo_sector].head())\n",
    "#     print(\"\\n\")\n",
    "    \n",
    "    myX = df[df.wipo_sector_id==wipo_sector].as_matrix(columns=chosenColumns)\n",
    "    myY = df[df.wipo_sector_id==wipo_sector].as_matrix(columns=['t-pagerank'])\n",
    "\n",
    "    x = sm.add_constant(myX)\n",
    "    model = sm.OLS(myY, x)\n",
    "    results = model.fit()\n",
    "    output.append(\"WIPO: \" + wipo_sector_title[wipo_sector])\n",
    "    output.append(results.summary(yname=\"PageRank\", xname=chosenColumns, title=\"OLS of WIPO: \" + wipo_sector_title[wipo_sector]).as_latex())\n",
    "    output.append(\"\\\\newpage\\n\")    \n",
    "#     results.summary()\n",
    "export_table(output, \"output_by_wipo\")"
   ]
  },
  {
   "cell_type": "markdown",
   "metadata": {},
   "source": [
    "### DV: Parent citation (rename the variable)"
   ]
  },
  {
   "cell_type": "code",
   "execution_count": 36,
   "metadata": {
    "collapsed": false
   },
   "outputs": [],
   "source": [
    "# myX = df.as_matrix(columns=chosenColumns)\n",
    "\n",
    "# myY = df.as_matrix(columns=['parent_citation'])\n",
    "\n",
    "# xTrain, xTest, yTrain, yTest = train_test_split(myX, myY, train_size=0.7, random_state=3) \n",
    "# testSize = yTest.shape[0]\n",
    "# trainSize = yTrain.shape[0]\n",
    "# namesList, errorList = best_num_attr(myX, xTrain, xTest, yTrain, yTest, chosenColumns, regtype='linear')"
   ]
  },
  {
   "cell_type": "markdown",
   "metadata": {},
   "source": [
    "### DV: pagerank (centrality)"
   ]
  },
  {
   "cell_type": "code",
   "execution_count": 37,
   "metadata": {
    "collapsed": false
   },
   "outputs": [],
   "source": [
    "# myX = df.as_matrix(columns=chosenColumns)\n",
    "# myY = df.as_matrix(columns=['pagerank'])\n",
    "\n",
    "# xTrain, xTest, yTrain, yTest = train_test_split(myX, myY, train_size=0.7, random_state=3) \n",
    "# testSize = yTest.shape[0]\n",
    "# trainSize = yTrain.shape[0]"
   ]
  },
  {
   "cell_type": "code",
   "execution_count": 38,
   "metadata": {
    "collapsed": false
   },
   "outputs": [],
   "source": [
    "# namesList, errorList = best_num_attr(myX, xTrain, xTest, yTrain, yTest, chosenColumns, regtype='linear')"
   ]
  },
  {
   "cell_type": "markdown",
   "metadata": {},
   "source": [
    "### DV: katz (centrality)"
   ]
  },
  {
   "cell_type": "code",
   "execution_count": 39,
   "metadata": {
    "collapsed": false
   },
   "outputs": [],
   "source": [
    "# myX = df.as_matrix(columns=chosenColumns)\n",
    "# myY = df.as_matrix(columns=['katz'])\n",
    "\n",
    "# xTrain, xTest, yTrain, yTest = train_test_split(myX, myY, train_size=0.7, random_state=3) \n",
    "# testSize = yTest.shape[0]\n",
    "# trainSize = yTrain.shape[0]"
   ]
  },
  {
   "cell_type": "code",
   "execution_count": 40,
   "metadata": {
    "collapsed": false
   },
   "outputs": [],
   "source": [
    "# namesList, errorList = best_num_attr(myX, xTrain, xTest, yTrain, yTest, chosenColumns, regtype='linear')"
   ]
  },
  {
   "cell_type": "markdown",
   "metadata": {},
   "source": [
    "### DV: eigen (centrality)"
   ]
  },
  {
   "cell_type": "code",
   "execution_count": 41,
   "metadata": {
    "collapsed": false
   },
   "outputs": [],
   "source": [
    "# myX = df.as_matrix(columns=chosenColumns)\n",
    "# myY = df.as_matrix(columns=['eigen'])\n",
    "\n",
    "# xTrain, xTest, yTrain, yTest = train_test_split(myX, myY, train_size=0.7, random_state=3) \n",
    "# testSize = yTest.shape[0]\n",
    "# trainSize = yTrain.shape[0]"
   ]
  },
  {
   "cell_type": "code",
   "execution_count": 42,
   "metadata": {
    "collapsed": false
   },
   "outputs": [],
   "source": [
    "# namesList, errorList = best_num_attr(myX, xTrain, xTest, yTrain, yTest, chosenColumns, regtype='linear')"
   ]
  },
  {
   "cell_type": "code",
   "execution_count": 43,
   "metadata": {
    "collapsed": true
   },
   "outputs": [],
   "source": [
    "# This selector does not work because almost every attribute is p-value significant\n",
    "\n",
    "# selector = SelectKBest(f_classif, k=4) #initialize \n",
    "# selector.fit(myX, myY) #fit\n",
    "# scores = -np.log10(selector.pvalues_) #transform pvalues (why?)\n",
    "# scores /= scores.max() #normalize \n",
    "# plt.bar(myX - .45, scores, width=.2,\n",
    "#         label=r'Univariate score ($-Log(p_{value})$)', color='darkorange',\n",
    "#         edgecolor='black')"
   ]
  },
  {
   "cell_type": "code",
   "execution_count": 44,
   "metadata": {
    "collapsed": true
   },
   "outputs": [],
   "source": [
    "# nbayes(xTrain, yTrain, xTest, yTest)"
   ]
  },
  {
   "cell_type": "code",
   "execution_count": 45,
   "metadata": {
    "collapsed": true
   },
   "outputs": [],
   "source": [
    "# df.dropna()"
   ]
  },
  {
   "cell_type": "code",
   "execution_count": 46,
   "metadata": {
    "collapsed": true
   },
   "outputs": [],
   "source": [
    "# #Let's do something else\n",
    "# #Change the DV \n",
    "\n",
    "# myX = df.as_matrix(columns=chosenColumns)\n",
    "# myY = df.as_matrix(columns=['parent_back_citation'])\n",
    "\n",
    "# xTrain, xTest, yTrain, yTest = train_test_split(myX, myY, train_size=0.7, random_state=3) "
   ]
  },
  {
   "cell_type": "code",
   "execution_count": 47,
   "metadata": {
    "collapsed": true
   },
   "outputs": [],
   "source": [
    "# nbayes(xTrain, yTrain, xTest, yTest)"
   ]
  },
  {
   "cell_type": "code",
   "execution_count": 48,
   "metadata": {
    "collapsed": true
   },
   "outputs": [],
   "source": [
    "# df.parent_back_citation.boxplot()"
   ]
  },
  {
   "cell_type": "code",
   "execution_count": 49,
   "metadata": {
    "collapsed": true
   },
   "outputs": [],
   "source": [
    "#and graphs of back citation in time"
   ]
  },
  {
   "cell_type": "code",
   "execution_count": 50,
   "metadata": {
    "collapsed": true
   },
   "outputs": [],
   "source": [
    "# for i in classifications:\n",
    "#     rank=df.groupby(i).count().iloc[:,2].sort_values(ascending=False).reset_index().set_index(i)\n",
    "#     description=df_class[df_class['class']==i].set_index('id')\n",
    "#     display(rank.join(description))"
   ]
  },
  {
   "cell_type": "code",
   "execution_count": 51,
   "metadata": {
    "collapsed": true
   },
   "outputs": [],
   "source": [
    "# for i in obj_cols:\n",
    "#     if i.isin(classifications):\n",
    "#         df.join(df.groupby(i).count().iloc[:,2].sort_values(ascending=False)\n",
    "# #     display.display(df.pivot_table(values=df.reset_index().id, index=i, columns='decade', aggfunc='count', fill_value=0, margins=False, dropna=True))\n",
    "#     print(i)\n",
    "#     display.display(df.groupby(i).count().iloc[:,2].sort_values(ascending=False))"
   ]
  },
  {
   "cell_type": "code",
   "execution_count": 52,
   "metadata": {
    "collapsed": true
   },
   "outputs": [],
   "source": [
    "# def cramers_v(x, y):\n",
    "#     confusion_matrix = pd.crosstab(x,y)\n",
    "#     chi2 = ss.chi2_contingency(confusion_matrix)[0]\n",
    "#     n = confusion_matrix.sum().sum()\n",
    "#     phi2 = chi2/n\n",
    "#     r,k = confusion_matrix.shape\n",
    "#     phi2corr = max(0, phi2-((k-1)*(r-1))/(n-1))\n",
    "#     rcorr = r-((r-1)**2)/(n-1)\n",
    "#     kcorr = k-((k-1)**2)/(n-1)\n",
    "#     return np.sqrt(phi2corr/min((kcorr-1),(rcorr-1)))"
   ]
  },
  {
   "cell_type": "code",
   "execution_count": 53,
   "metadata": {
    "collapsed": true
   },
   "outputs": [],
   "source": [
    "# all variables\n",
    "# dtypes={'id':object, 'type':object, 'kind':object, 'num_claims':float, 'cit_received':float, 'cit_made':float,\n",
    "#        'cit_received_delay':float, 'cit_made_delay':float, 'parent_citation':float,\n",
    "#        'originality':float, 'generality':float, 'wipo_field_id':object, 'ipcr_section':object,\n",
    "#        'cpc_section_id':object,'nber_category_id':object,'uspc_mainclass_id':object}"
   ]
  }
 ],
 "metadata": {
  "anaconda-cloud": {},
  "kernelspec": {
   "display_name": "Python [default]",
   "language": "python",
   "name": "python3"
  },
  "language_info": {
   "codemirror_mode": {
    "name": "ipython",
    "version": 3
   },
   "file_extension": ".py",
   "mimetype": "text/x-python",
   "name": "python",
   "nbconvert_exporter": "python",
   "pygments_lexer": "ipython3",
   "version": "3.5.2"
  }
 },
 "nbformat": 4,
 "nbformat_minor": 1
}
