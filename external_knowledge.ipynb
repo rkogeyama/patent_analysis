{
 "cells": [
  {
   "cell_type": "code",
   "execution_count": 1,
   "metadata": {
    "collapsed": false
   },
   "outputs": [],
   "source": [
    "#Script to evaluate the determinants of patent citation \n",
    "#Renato Kogeyama\n",
    "\n",
    "# August 19, 2020\n",
    "# Updated all files to latest data available in PatentsView (Jun/2020)\n",
    "# Excluded self citations from the dataset\n",
    "\n",
    "# July 13, 2020\n",
    "# I am changing the script to test Nemet and Johnson 2012, but with centrality measures as DV\n",
    "\n",
    "# Apr 27, 2020\n",
    "# Separe most central patents, classify them as disruptive and calculate dvs from extant literature\n",
    "\n",
    "# Mar 16, 2020\n",
    "# Introducing centrality measures as dv\n",
    "\n",
    "# Feb 04, 2020\n",
    "# to set labels in heatmap keyword:xticklabels\n",
    "# for ex.\n",
    "# sns.heatmap(globalWarming_df, xticklabels = np.arange(0,15))\n",
    "# to be implemented later\n",
    "# another alternative is to substitute the values in the dataset and convert columns to categories\n",
    "# to understand the impact, i should run some test\n",
    "# however i am focusing now in calculate Corredoira's 2015 and Nemet & Johnson 2012\n",
    "\n",
    "# Feb 03, 2020\n",
    "# version backed up as _old\n",
    "\n",
    "# Feb 02, 2020\n",
    "# the best way to deal with the classification names is to use a dictionary\n",
    "# this avoid charging memory with the strings\n",
    "# However, WIPO is organized differently than the other systems\n",
    "# I'll update the wipo code to uniformize the behavior in this script\n",
    "# I am creating a code that reflects the first level of classification \n",
    "\n",
    "# Feb 01, 2020\n",
    "# Introduction of categorical graphs: barplot and heatmap\n",
    "# heatmap is not the real deal, its a simplification\n",
    "# the real deal would be the correlation table - there is a suggestion based on cramer, \n",
    "    # but implementation was not ready\n",
    "# graphs exported and google docs updated\n",
    "# next step: update cit_tree to reflect Corredoira's 205 Influence measure\n",
    "# plot a network graph: https://plot.ly/python/network-graphs/\n",
    "# reproduce 2012 Nemet and Johnson with other class systems\n",
    "# correct bias in generality and originality (multiply for N/N-1)\n",
    "\n",
    "# Jan 21, 2020\n",
    "# Classifications added\n",
    "# Code reorganized - much faster now\n",
    "# Still missing the update of applications to the grant number\n",
    "# I should provide now descriptive statistics on all variables\n",
    "\n",
    "# Jan 21, 2020\n",
    "# The current data does not have Class\n",
    "# I should go back and get this info - but there are too many scripts now and\n",
    "#   I should reorganize them before moving forward\n",
    "# I should also include the patent publication date - to control for the policy changes\n",
    "# In the citation file, I should change application number for grant when possible \n",
    "#   This will improve realiability of all measures related to citation\n",
    "# Introduce classifications\n",
    "\n",
    "# Jan 18, 2020\n",
    "# Variables calculated\n",
    "# Generality, average delay, forward and backward citations, cumulative citation (cit_tree)\n",
    "# Still missing originality\n",
    "# the file with variables that are used in this script should get a name independent from the date\n",
    "\n",
    "\n",
    "#Miami, December 24th, 2019\n",
    "# Prof. Rafael Corredoira suggested:\n",
    "# - Inclusion of a tree of citations\n",
    "#   To track back the source of citations. This is information is not given by direct count of citations.\n",
    "# - Consider policy changes in the way patents are cited\n",
    "#   Policy changes in 2000 changed the time frame of citation, and 2010 partially moved citation to applications\n",
    "# - Track classification changes \n",
    "#   The original classification system in USPTO changed from a technical based to a market based classification system\n",
    "#   See if there is an impact\n",
    "# - Consider a text analysis of the claims\n",
    "#   Classification is based on the claims but it is not clear how many claims are related to each classification category\n",
    "# - Include moderation effect from classification\n",
    "#   Citations patterns may change across industries, so some effects may disappear if industry is not accounted for.\n",
    "\n",
    "# In summary, his ideas help increase structure of the current work\n",
    "\n",
    "\n",
    "#Syracuse, December 3rd, 2019\n",
    "\n",
    "#The original script is getting too complex\n",
    "#There was many tentative scripts to play with data\n",
    "#Here I am writing a script to show the relevance of variables to patent citation\n",
    "\n",
    "#11-12-2019\n",
    "#Introducing normalization\n",
    "\n",
    "#10-11-2019\n",
    "#I introduced log backward citation, what corrects for very dispersed results\n",
    "#but the major problem is that few patents receive citations\n",
    "#bring back binary output\n",
    "\n",
    "#10-10-2019\n",
    "#Added graphics and new distributions\n",
    "\n",
    "#10-03-2019\n",
    "#I rewrote the citation data to clean the strings\n",
    "\n",
    "#09-15-2019\n",
    "#O naive bayes tem algum problema com distribuicoes desbalanceadas\n",
    "#o scikit learn tem um modulo que corrige count distributions com muitos zeros, o complementNB\n",
    "#porem este nao esta disponivel na atual versao disponibilizada no HPC da FIU\n",
    "\n",
    "#09-10-2019\n",
    "#o trabalho pede uma abordagem mais sistematica e cuidadosa\n",
    "#estou agrupando o codigo antigo comentado e vou comecar um novo codigo\n",
    "\n",
    "#09-27-2019\n",
    "#I am renaming citation as forward citation and backward citation\n",
    "\n",
    "#09-17-2018\n",
    "\n",
    "#Alto uso de memoria - rodar no Amazon AWS \n",
    "\n"
   ]
  },
  {
   "cell_type": "code",
   "execution_count": 2,
   "metadata": {
    "collapsed": true
   },
   "outputs": [],
   "source": [
    "import pandas as pd\n",
    "import numpy as np\n",
    "import IPython.display as display\n",
    "import seaborn as sns\n",
    "          \n",
    "import itertools\n",
    "\n",
    "from sklearn import preprocessing\n",
    "from sklearn import linear_model, datasets\n",
    "from sklearn.model_selection import train_test_split\n",
    "from sklearn.feature_selection import SelectKBest, f_classif\n",
    "from sklearn import naive_bayes\n",
    "from sklearn.metrics import roc_curve, auc\n",
    "from sklearn.feature_selection import VarianceThreshold\n",
    "from sklearn.linear_model import LinearRegression\n",
    "\n",
    "import scipy.stats as ss\n",
    "import datetime\n",
    "import matplotlib.pyplot as plt\n",
    "\n",
    "from math import sqrt\n",
    "\n",
    "import sys\n",
    "sys.path.append('/home/rkogeyam/scripts/')\n",
    "sys.path.append('scripts/')\n",
    "\n",
    "from determinants_scripts import classes\n",
    "\n",
    "from plotbar import plotbar\n",
    "from plot_heat import heatmap\n",
    "\n",
    "\n",
    "from best_num_attr import best_num_attr\n",
    "from xattrSelect import xattrSelect\n",
    "from sampler import sampler\n",
    "from normalize import normalize\n",
    "from nbayes import nbayes\n",
    "\n",
    "import gzip\n",
    "import statsmodels.api as sm\n",
    "import statsmodels.formula.api as smf\n",
    "\n",
    "import os\n",
    "import math\n",
    "from pandas.core.common import is_numeric_dtype\n"
   ]
  },
  {
   "cell_type": "code",
   "execution_count": 3,
   "metadata": {
    "collapsed": true
   },
   "outputs": [],
   "source": [
    "#function to write results to a latex file \n",
    "def export_table(content, name):\n",
    "    basename='output/'+ name\n",
    "    i=1\n",
    "    while os.path.exists(basename+\"_\"+\"{:03d}\".format(i)+'.out'):\n",
    "        i += 1\n",
    "    with open(basename+\"_\"+\"{:03d}\".format(i)+'.out','w') as fh:\n",
    "        for element in content:\n",
    "            fh.write( element )\n",
    " "
   ]
  },
  {
   "cell_type": "code",
   "execution_count": 4,
   "metadata": {
    "collapsed": true
   },
   "outputs": [],
   "source": [
    "%matplotlib inline\n",
    "sns.set()\n",
    "sns.set_palette(sns.cubehelix_palette(8))\n",
    "# pd.options.display.float_format = '{:,.2f}'.format"
   ]
  },
  {
   "cell_type": "code",
   "execution_count": 5,
   "metadata": {
    "collapsed": true
   },
   "outputs": [],
   "source": [
    "latex='data/results.tex'\n",
    "# dataset='data/dataset.csv'\n",
    "dataset=gzip.open('data/dataset.csv.gz', 'rt')"
   ]
  },
  {
   "cell_type": "code",
   "execution_count": 6,
   "metadata": {
    "collapsed": true
   },
   "outputs": [],
   "source": [
    "dtypes={'id':object,'title':object, 'num_claims':float, 'cit_received':float, 'cit_made':float,\n",
    "       'cit_received_delay':float, 'cit_made_delay':float, 'parent_citation':float,\n",
    "       'originality':float, 'generality':float, 'wipo_sector_id':object,'wipo_far_ext':float, 'wipo_ext':float,  'pagerank':float}"
   ]
  },
  {
   "cell_type": "code",
   "execution_count": 7,
   "metadata": {
    "collapsed": true
   },
   "outputs": [],
   "source": [
    "# only main classes (exclude uspc)\n",
    "\n",
    "usecols=['id', 'title', 'date', 'num_claims', 'cit_received', 'cit_made',\n",
    "         'cit_received_delay', 'cit_made_delay',\n",
    "         'originality', 'generality', 'wipo_sector_id', 'wipo_far_ext', 'wipo_ext', 'pagerank']"
   ]
  },
  {
   "cell_type": "code",
   "execution_count": 8,
   "metadata": {
    "collapsed": true
   },
   "outputs": [],
   "source": [
    "# only WIPO class system, exclude type and kind\n",
    "\n",
    "# usecols=['id', 'date', 'num_claims', 'cit_received', 'cit_made',\n",
    "#         'cit_received_delay', 'cit_made_delay', 'parent_citation',\n",
    "#         'originality', 'generality', 'wipo_sector_id', 'eigen', 'pagerank', 'katz']"
   ]
  },
  {
   "cell_type": "code",
   "execution_count": 9,
   "metadata": {
    "collapsed": true
   },
   "outputs": [],
   "source": [
    "wipo_sector_title={\n",
    "    '0':\"Chemistry\",\n",
    "    '1':\"Electrical Eng\",\n",
    "    '2':\"Instruments\",\n",
    "    '3':\"Mechanical Eng\",\n",
    "    '4':\"Other fields\",\n",
    "    '5':\"Plant\"\n",
    "    }"
   ]
  },
  {
   "cell_type": "code",
   "execution_count": 10,
   "metadata": {
    "collapsed": false
   },
   "outputs": [
    {
     "name": "stdout",
     "output_type": "stream",
     "text": [
      "<class 'pandas.core.frame.DataFrame'>\n",
      "Index: 9570679 entries, 0000000 to re25727\n",
      "Data columns (total 13 columns):\n",
      "date                  datetime64[ns]\n",
      "title                 object\n",
      "num_claims            float64\n",
      "cit_received          float64\n",
      "cit_made              float64\n",
      "cit_received_delay    float64\n",
      "cit_made_delay        float64\n",
      "originality           float64\n",
      "generality            float64\n",
      "wipo_sector_id        object\n",
      "wipo_far_ext          float64\n",
      "wipo_ext              float64\n",
      "pagerank              float64\n",
      "dtypes: datetime64[ns](1), float64(10), object(2)\n",
      "memory usage: 1022.3+ MB\n"
     ]
    }
   ],
   "source": [
    "df=pd.read_csv(dataset, usecols=usecols, dtype=dtypes, parse_dates=['date'], index_col='id')\n",
    "\n",
    "df.info()"
   ]
  },
  {
   "cell_type": "code",
   "execution_count": 11,
   "metadata": {
    "collapsed": false,
    "scrolled": true
   },
   "outputs": [
    {
     "data": {
      "text/html": [
       "<div>\n",
       "<table border=\"1\" class=\"dataframe\">\n",
       "  <thead>\n",
       "    <tr style=\"text-align: right;\">\n",
       "      <th></th>\n",
       "      <th>date</th>\n",
       "      <th>title</th>\n",
       "      <th>num_claims</th>\n",
       "      <th>cit_received</th>\n",
       "      <th>cit_made</th>\n",
       "      <th>cit_received_delay</th>\n",
       "      <th>cit_made_delay</th>\n",
       "      <th>originality</th>\n",
       "      <th>generality</th>\n",
       "      <th>wipo_sector_id</th>\n",
       "      <th>wipo_far_ext</th>\n",
       "      <th>wipo_ext</th>\n",
       "      <th>pagerank</th>\n",
       "    </tr>\n",
       "    <tr>\n",
       "      <th>id</th>\n",
       "      <th></th>\n",
       "      <th></th>\n",
       "      <th></th>\n",
       "      <th></th>\n",
       "      <th></th>\n",
       "      <th></th>\n",
       "      <th></th>\n",
       "      <th></th>\n",
       "      <th></th>\n",
       "      <th></th>\n",
       "      <th></th>\n",
       "      <th></th>\n",
       "      <th></th>\n",
       "    </tr>\n",
       "  </thead>\n",
       "  <tbody>\n",
       "  </tbody>\n",
       "</table>\n",
       "</div>"
      ],
      "text/plain": [
       "Empty DataFrame\n",
       "Columns: [date, title, num_claims, cit_received, cit_made, cit_received_delay, cit_made_delay, originality, generality, wipo_sector_id, wipo_far_ext, wipo_ext, pagerank]\n",
       "Index: []"
      ]
     },
     "execution_count": 11,
     "metadata": {},
     "output_type": "execute_result"
    }
   ],
   "source": [
    "df[(df['cit_received']==0) & (df['pagerank']>4.420830e-08)] #check if a patent without citations has centrality different from 0"
   ]
  },
  {
   "cell_type": "code",
   "execution_count": 12,
   "metadata": {
    "collapsed": false
   },
   "outputs": [
    {
     "name": "stdout",
     "output_type": "stream",
     "text": [
      "<class 'pandas.core.frame.DataFrame'>\n",
      "Index: 7632681 entries, 0000000 to re25727\n",
      "Data columns (total 13 columns):\n",
      "date                  datetime64[ns]\n",
      "title                 object\n",
      "num_claims            float64\n",
      "cit_received          float64\n",
      "cit_made              float64\n",
      "cit_received_delay    float64\n",
      "cit_made_delay        float64\n",
      "originality           float64\n",
      "generality            float64\n",
      "wipo_sector_id        object\n",
      "wipo_far_ext          float64\n",
      "wipo_ext              float64\n",
      "pagerank              float64\n",
      "dtypes: datetime64[ns](1), float64(10), object(2)\n",
      "memory usage: 815.3+ MB\n"
     ]
    }
   ],
   "source": [
    "df=df[df['cit_received']>0] #patents without citations introduce noise\n",
    "df.info()"
   ]
  },
  {
   "cell_type": "code",
   "execution_count": 13,
   "metadata": {
    "collapsed": false
   },
   "outputs": [],
   "source": [
    "df['year']=df.date.dt.year\n",
    "df['decade']=df.date.dt.year//10*10 #x//y returns the integer part of the division, so this is a shortcut\n",
    "df['decade'] =df['decade'].apply(lambda x: '{0:.0f}'.format(x) if str(x) != 'nan' else np.nan)\n",
    "\n",
    "decades=list(df.decade.unique())\n",
    "decades = [int(x) for x in decades if str(x) != 'nan']"
   ]
  },
  {
   "cell_type": "code",
   "execution_count": 14,
   "metadata": {
    "collapsed": false
   },
   "outputs": [
    {
     "data": {
      "text/plain": [
       "['title', 'wipo_sector_id', 'decade']"
      ]
     },
     "execution_count": 14,
     "metadata": {},
     "output_type": "execute_result"
    }
   ],
   "source": [
    "obj_cols=list(df.select_dtypes(include=[object]).columns.values)\n",
    "obj_cols"
   ]
  },
  {
   "cell_type": "code",
   "execution_count": 15,
   "metadata": {
    "collapsed": false
   },
   "outputs": [
    {
     "data": {
      "text/plain": [
       "['num_claims',\n",
       " 'cit_received',\n",
       " 'cit_made',\n",
       " 'cit_received_delay',\n",
       " 'cit_made_delay',\n",
       " 'originality',\n",
       " 'generality',\n",
       " 'wipo_far_ext',\n",
       " 'wipo_ext',\n",
       " 'pagerank',\n",
       " 'year']"
      ]
     },
     "execution_count": 15,
     "metadata": {},
     "output_type": "execute_result"
    }
   ],
   "source": [
    "num_cols=list(df.select_dtypes(include=[np.number]).columns.values)\n",
    "num_cols"
   ]
  },
  {
   "cell_type": "markdown",
   "metadata": {},
   "source": [
    "## Data Analysis\n",
    "\n",
    "### Descriptive "
   ]
  },
  {
   "cell_type": "code",
   "execution_count": 16,
   "metadata": {
    "collapsed": false
   },
   "outputs": [
    {
     "name": "stderr",
     "output_type": "stream",
     "text": [
      "/home/applications/anaconda3/4.2.0/lib/python3.5/site-packages/numpy/lib/function_base.py:4269: RuntimeWarning: Invalid value encountered in percentile\n",
      "  interpolation=interpolation)\n"
     ]
    }
   ],
   "source": [
    "descriptive=df.describe(include=[np.number]).loc[['count','mean','std','min','max']].append(df[num_cols].isnull().sum().rename('isnull')).transpose()"
   ]
  },
  {
   "cell_type": "code",
   "execution_count": 17,
   "metadata": {
    "collapsed": false
   },
   "outputs": [
    {
     "data": {
      "text/plain": [
       "Index(['count', 'mean', 'std', 'min', 'max', 'isnull'], dtype='object')"
      ]
     },
     "execution_count": 17,
     "metadata": {},
     "output_type": "execute_result"
    }
   ],
   "source": [
    "descriptive.columns"
   ]
  },
  {
   "cell_type": "code",
   "execution_count": 18,
   "metadata": {
    "collapsed": true
   },
   "outputs": [],
   "source": [
    "descriptive['count']=descriptive['count'].apply(lambda x: (x/(1e6)))"
   ]
  },
  {
   "cell_type": "code",
   "execution_count": 19,
   "metadata": {
    "collapsed": true
   },
   "outputs": [],
   "source": [
    "descriptive['isnull']=descriptive['isnull'].apply(lambda x: (x/(1e6)))"
   ]
  },
  {
   "cell_type": "code",
   "execution_count": 20,
   "metadata": {
    "collapsed": false
   },
   "outputs": [],
   "source": [
    "descriptive.rename(columns={'count': 'count (MM)', 'isnull': 'isnull (MM)'}, inplace=True)"
   ]
  },
  {
   "cell_type": "code",
   "execution_count": 21,
   "metadata": {
    "collapsed": false
   },
   "outputs": [],
   "source": [
    "\n",
    "output=[]\n",
    "output.append(descriptive.apply(lambda x: '{0:.2f}'.format(x) if is_numeric_dtype(x) else np.nan).to_latex())\n",
    "output.append(\"\\\\newpage\\n\")"
   ]
  },
  {
   "cell_type": "code",
   "execution_count": 22,
   "metadata": {
    "collapsed": false
   },
   "outputs": [],
   "source": [
    "# df.describe(include=[np.object])#.append(df[np.object].isnull().sum().rename('isnull')).transpose()"
   ]
  },
  {
   "cell_type": "code",
   "execution_count": 23,
   "metadata": {
    "collapsed": false
   },
   "outputs": [
    {
     "data": {
      "text/html": [
       "<div>\n",
       "<table border=\"1\" class=\"dataframe\">\n",
       "  <thead>\n",
       "    <tr style=\"text-align: right;\">\n",
       "      <th></th>\n",
       "      <th>date</th>\n",
       "      <th>title</th>\n",
       "      <th>pagerank</th>\n",
       "      <th>num_claims</th>\n",
       "      <th>cit_received</th>\n",
       "      <th>wipo_sector_id</th>\n",
       "    </tr>\n",
       "    <tr>\n",
       "      <th>id</th>\n",
       "      <th></th>\n",
       "      <th></th>\n",
       "      <th></th>\n",
       "      <th></th>\n",
       "      <th></th>\n",
       "      <th></th>\n",
       "    </tr>\n",
       "  </thead>\n",
       "  <tbody>\n",
       "    <tr>\n",
       "      <th>4237224</th>\n",
       "      <td>1980-12-02</td>\n",
       "      <td>Process for producing biologically functional ...</td>\n",
       "      <td>0.000091</td>\n",
       "      <td>14.0</td>\n",
       "      <td>316.0</td>\n",
       "      <td>0</td>\n",
       "    </tr>\n",
       "    <tr>\n",
       "      <th>3813316</th>\n",
       "      <td>NaT</td>\n",
       "      <td>NaN</td>\n",
       "      <td>0.000078</td>\n",
       "      <td>NaN</td>\n",
       "      <td>65.0</td>\n",
       "      <td>NaN</td>\n",
       "    </tr>\n",
       "    <tr>\n",
       "      <th>4309756</th>\n",
       "      <td>1982-01-05</td>\n",
       "      <td>Method of automatically evaluating source lang...</td>\n",
       "      <td>0.000069</td>\n",
       "      <td>24.0</td>\n",
       "      <td>29.0</td>\n",
       "      <td>1</td>\n",
       "    </tr>\n",
       "    <tr>\n",
       "      <th>4558413</th>\n",
       "      <td>1985-12-10</td>\n",
       "      <td>Software version management system</td>\n",
       "      <td>0.000067</td>\n",
       "      <td>6.0</td>\n",
       "      <td>1077.0</td>\n",
       "      <td>1</td>\n",
       "    </tr>\n",
       "    <tr>\n",
       "      <th>4395486</th>\n",
       "      <td>1983-07-26</td>\n",
       "      <td>Method for the direct analysis of sickle cell ...</td>\n",
       "      <td>0.000056</td>\n",
       "      <td>27.0</td>\n",
       "      <td>72.0</td>\n",
       "      <td>0</td>\n",
       "    </tr>\n",
       "    <tr>\n",
       "      <th>4683195</th>\n",
       "      <td>1987-07-28</td>\n",
       "      <td>Process for amplifying, detecting, and/or-clon...</td>\n",
       "      <td>0.000053</td>\n",
       "      <td>26.0</td>\n",
       "      <td>4013.0</td>\n",
       "      <td>0</td>\n",
       "    </tr>\n",
       "    <tr>\n",
       "      <th>3988545</th>\n",
       "      <td>1976-10-26</td>\n",
       "      <td>Method of transmitting information and multipl...</td>\n",
       "      <td>0.000051</td>\n",
       "      <td>9.0</td>\n",
       "      <td>62.0</td>\n",
       "      <td>1</td>\n",
       "    </tr>\n",
       "    <tr>\n",
       "      <th>4683202</th>\n",
       "      <td>1987-07-28</td>\n",
       "      <td>Process for amplifying nucleic acid sequences</td>\n",
       "      <td>0.000051</td>\n",
       "      <td>21.0</td>\n",
       "      <td>4609.0</td>\n",
       "      <td>0</td>\n",
       "    </tr>\n",
       "    <tr>\n",
       "      <th>4298685</th>\n",
       "      <td>1981-11-03</td>\n",
       "      <td>Diagnostic reagent</td>\n",
       "      <td>0.000050</td>\n",
       "      <td>18.0</td>\n",
       "      <td>98.0</td>\n",
       "      <td>2</td>\n",
       "    </tr>\n",
       "    <tr>\n",
       "      <th>5572643</th>\n",
       "      <td>1996-11-05</td>\n",
       "      <td>Web browser with dynamic display of informatio...</td>\n",
       "      <td>0.000038</td>\n",
       "      <td>19.0</td>\n",
       "      <td>2041.0</td>\n",
       "      <td>1</td>\n",
       "    </tr>\n",
       "  </tbody>\n",
       "</table>\n",
       "</div>"
      ],
      "text/plain": [
       "              date                                              title  \\\n",
       "id                                                                      \n",
       "4237224 1980-12-02  Process for producing biologically functional ...   \n",
       "3813316        NaT                                                NaN   \n",
       "4309756 1982-01-05  Method of automatically evaluating source lang...   \n",
       "4558413 1985-12-10                 Software version management system   \n",
       "4395486 1983-07-26  Method for the direct analysis of sickle cell ...   \n",
       "4683195 1987-07-28  Process for amplifying, detecting, and/or-clon...   \n",
       "3988545 1976-10-26  Method of transmitting information and multipl...   \n",
       "4683202 1987-07-28      Process for amplifying nucleic acid sequences   \n",
       "4298685 1981-11-03                                 Diagnostic reagent   \n",
       "5572643 1996-11-05  Web browser with dynamic display of informatio...   \n",
       "\n",
       "         pagerank  num_claims  cit_received wipo_sector_id  \n",
       "id                                                          \n",
       "4237224  0.000091        14.0         316.0              0  \n",
       "3813316  0.000078         NaN          65.0            NaN  \n",
       "4309756  0.000069        24.0          29.0              1  \n",
       "4558413  0.000067         6.0        1077.0              1  \n",
       "4395486  0.000056        27.0          72.0              0  \n",
       "4683195  0.000053        26.0        4013.0              0  \n",
       "3988545  0.000051         9.0          62.0              1  \n",
       "4683202  0.000051        21.0        4609.0              0  \n",
       "4298685  0.000050        18.0          98.0              2  \n",
       "5572643  0.000038        19.0        2041.0              1  "
      ]
     },
     "execution_count": 23,
     "metadata": {},
     "output_type": "execute_result"
    }
   ],
   "source": [
    "df.nlargest(10, 'pagerank')[['date', 'title','pagerank','num_claims', 'cit_received', 'wipo_sector_id']]"
   ]
  },
  {
   "cell_type": "markdown",
   "metadata": {},
   "source": [
    "### Barplots and Heatmaps"
   ]
  },
  {
   "cell_type": "code",
   "execution_count": 24,
   "metadata": {
    "collapsed": false
   },
   "outputs": [],
   "source": [
    "# barplot\n",
    "# as of 02.03.20, working\n",
    "\n",
    "# for i in obj_cols:\n",
    "#     plotbar(i, df, classes)\n",
    "\n",
    "# # barplot with decades\n",
    "# for i in obj_cols:\n",
    "#     plotbar(i, df, classes,decade=True)\n",
    "\n",
    "# # barplot with decades and inverted axis\n",
    "# for i in obj_cols:\n",
    "#     plotbar(i, df, classes,decade=True, decade_x=True)\n",
    "\n",
    "# # heatmaps all periods\n",
    "# for double in list(itertools.combinations(obj_cols, 2)):\n",
    "#     heatmap(df[double[0]], df[double[1]]) \n",
    "\n",
    "# # print heatmaps per decade\n",
    "# for decade in decades:\n",
    "#     df_dec=df[df['decade']==decade]\n",
    "#     for double in list(itertools.combinations(obj_cols, 2)):\n",
    "#         heatmap(df_dec[double[0]], df_dec[double[1]], decade) \n"
   ]
  },
  {
   "cell_type": "markdown",
   "metadata": {},
   "source": [
    "### Histograms"
   ]
  },
  {
   "cell_type": "code",
   "execution_count": 25,
   "metadata": {
    "collapsed": false
   },
   "outputs": [],
   "source": [
    "#histograms\n",
    "#could improve cutting off outliers\n",
    "#for variable in num_cols:\n",
    "#    ax=df[variable].hist()\n",
    "#    ax.set_title('Histogram '+ variable.title()+'\\n')\n",
    "#    plt.show()"
   ]
  },
  {
   "cell_type": "markdown",
   "metadata": {},
   "source": [
    "### Trends and Boxplots"
   ]
  },
  {
   "cell_type": "code",
   "execution_count": 26,
   "metadata": {
    "collapsed": true
   },
   "outputs": [],
   "source": [
    "#iterate over numerical variables\n",
    "\n",
    "# num_cols.remove('decade')\n",
    "# num_cols.remove('year')"
   ]
  },
  {
   "cell_type": "code",
   "execution_count": 27,
   "metadata": {
    "collapsed": true
   },
   "outputs": [],
   "source": [
    "# for variable in num_cols:\n",
    "    \n",
    "#     title=variable.replace('_', ' ')\n",
    "#     fig, axes = plt.subplots(nrows=1, ncols=2, figsize=(14, 6))\n",
    "\n",
    "#     axes[0] = df.groupby('year').mean().plot(y=variable, ax=axes[0])\n",
    "#     evl_title='Evolution of '+ title +'\\n'\n",
    "#     axes[0].set_title(evl_title)\n",
    "#     axes[0].set_ylim(bottom=0)\n",
    "    \n",
    "#     axes[1] = sns.boxplot(x='decade', y=variable, data=df)\n",
    "\n",
    "#     box_title='Dispersion of '+ title +'\\n'\n",
    "#     axes[1].set_title(box_title)\n",
    "#     axes[1].set_ylim(bottom=0)\n",
    "#     axes[1].set_ylabel(\"\")\n",
    "    \n",
    "#     filename='./img/evol_dispersion_'+variable.lower()+'.png'  \n",
    "#     plt.savefig(filename) \n",
    "#     plt.show()\n"
   ]
  },
  {
   "cell_type": "code",
   "execution_count": 28,
   "metadata": {
    "collapsed": true
   },
   "outputs": [],
   "source": [
    "# the generality data on the 2010's is too concentrated around 0\n",
    "# to check, I draw this hist to understand what is happening\n",
    "# it could be an effect of truncation - generality increases with forward citation\n",
    "\n",
    "# df[df['decade']==2010]['generality'].hist()"
   ]
  },
  {
   "cell_type": "markdown",
   "metadata": {},
   "source": [
    "### Models"
   ]
  },
  {
   "cell_type": "code",
   "execution_count": 29,
   "metadata": {
    "collapsed": false
   },
   "outputs": [
    {
     "name": "stdout",
     "output_type": "stream",
     "text": [
      "Total number of observations and attributes\n",
      "(3891146, 15)\n",
      "Number of numerical attributes: 11\n",
      "Number of non-numerical attributes: 11\n"
     ]
    },
    {
     "name": "stderr",
     "output_type": "stream",
     "text": [
      "/home/rkogeyam/scripts/normalize.py:34: SettingWithCopyWarning: \n",
      "A value is trying to be set on a copy of a slice from a DataFrame.\n",
      "Try using .loc[row_indexer,col_indexer] = value instead\n",
      "\n",
      "See the caveats in the documentation: http://pandas.pydata.org/pandas-docs/stable/indexing.html#indexing-view-versus-copy\n",
      "  df[num_cols]=min_max_scaler.fit_transform(df[num_cols])\n",
      "/home/applications/anaconda3/4.2.0/lib/python3.5/site-packages/pandas/core/indexing.py:465: SettingWithCopyWarning: \n",
      "A value is trying to be set on a copy of a slice from a DataFrame.\n",
      "Try using .loc[row_indexer,col_indexer] = value instead\n",
      "\n",
      "See the caveats in the documentation: http://pandas.pydata.org/pandas-docs/stable/indexing.html#indexing-view-versus-copy\n",
      "  self.obj[item] = s\n"
     ]
    }
   ],
   "source": [
    "# normalization\n",
    "df=normalize(df.dropna())"
   ]
  },
  {
   "cell_type": "code",
   "execution_count": 30,
   "metadata": {
    "collapsed": false
   },
   "outputs": [
    {
     "name": "stdout",
     "output_type": "stream",
     "text": [
      "<class 'pandas.core.frame.DataFrame'>\n",
      "Index: 3891146 entries, 3931349 to 9854083\n",
      "Data columns (total 15 columns):\n",
      "date                  datetime64[ns]\n",
      "title                 object\n",
      "num_claims            float64\n",
      "cit_received          float64\n",
      "cit_made              float64\n",
      "cit_received_delay    float64\n",
      "cit_made_delay        float64\n",
      "originality           float64\n",
      "generality            float64\n",
      "wipo_sector_id        object\n",
      "wipo_far_ext          float64\n",
      "wipo_ext              float64\n",
      "pagerank              float64\n",
      "year                  float64\n",
      "decade                object\n",
      "dtypes: datetime64[ns](1), float64(11), object(3)\n",
      "memory usage: 475.0+ MB\n"
     ]
    }
   ],
   "source": [
    "df.info()"
   ]
  },
  {
   "cell_type": "code",
   "execution_count": 31,
   "metadata": {
    "collapsed": false
   },
   "outputs": [
    {
     "data": {
      "text/html": [
       "<div>\n",
       "<table border=\"1\" class=\"dataframe\">\n",
       "  <thead>\n",
       "    <tr style=\"text-align: right;\">\n",
       "      <th></th>\n",
       "      <th>date</th>\n",
       "      <th>title</th>\n",
       "      <th>num_claims</th>\n",
       "      <th>cit_received</th>\n",
       "      <th>cit_made</th>\n",
       "      <th>cit_received_delay</th>\n",
       "      <th>cit_made_delay</th>\n",
       "      <th>originality</th>\n",
       "      <th>generality</th>\n",
       "      <th>wipo_sector_id</th>\n",
       "      <th>wipo_far_ext</th>\n",
       "      <th>wipo_ext</th>\n",
       "      <th>pagerank</th>\n",
       "      <th>year</th>\n",
       "      <th>decade</th>\n",
       "    </tr>\n",
       "    <tr>\n",
       "      <th>id</th>\n",
       "      <th></th>\n",
       "      <th></th>\n",
       "      <th></th>\n",
       "      <th></th>\n",
       "      <th></th>\n",
       "      <th></th>\n",
       "      <th></th>\n",
       "      <th></th>\n",
       "      <th></th>\n",
       "      <th></th>\n",
       "      <th></th>\n",
       "      <th></th>\n",
       "      <th></th>\n",
       "      <th></th>\n",
       "      <th></th>\n",
       "    </tr>\n",
       "  </thead>\n",
       "  <tbody>\n",
       "    <tr>\n",
       "      <th>3931349</th>\n",
       "      <td>1976-01-06</td>\n",
       "      <td>Conversion of methanol to gasoline components</td>\n",
       "      <td>0.009029</td>\n",
       "      <td>0.022682</td>\n",
       "      <td>0.001033</td>\n",
       "      <td>0.353835</td>\n",
       "      <td>0.641222</td>\n",
       "      <td>0.0</td>\n",
       "      <td>0.000000</td>\n",
       "      <td>0</td>\n",
       "      <td>0.000000</td>\n",
       "      <td>0.022581</td>\n",
       "      <td>0.011216</td>\n",
       "      <td>0.0</td>\n",
       "      <td>1970</td>\n",
       "    </tr>\n",
       "    <tr>\n",
       "      <th>3935991</th>\n",
       "      <td>1976-02-03</td>\n",
       "      <td>Plastic reinforced produce container</td>\n",
       "      <td>0.002257</td>\n",
       "      <td>0.004736</td>\n",
       "      <td>0.001205</td>\n",
       "      <td>0.270670</td>\n",
       "      <td>0.642102</td>\n",
       "      <td>0.0</td>\n",
       "      <td>0.138408</td>\n",
       "      <td>3</td>\n",
       "      <td>0.000326</td>\n",
       "      <td>0.000323</td>\n",
       "      <td>0.001409</td>\n",
       "      <td>0.0</td>\n",
       "      <td>1970</td>\n",
       "    </tr>\n",
       "    <tr>\n",
       "      <th>3943789</th>\n",
       "      <td>1976-03-16</td>\n",
       "      <td>Drive mechanism for cement mixer and the like</td>\n",
       "      <td>0.005643</td>\n",
       "      <td>0.001496</td>\n",
       "      <td>0.001205</td>\n",
       "      <td>0.316234</td>\n",
       "      <td>0.683412</td>\n",
       "      <td>0.0</td>\n",
       "      <td>0.000000</td>\n",
       "      <td>3</td>\n",
       "      <td>0.000000</td>\n",
       "      <td>0.002258</td>\n",
       "      <td>0.000505</td>\n",
       "      <td>0.0</td>\n",
       "      <td>1970</td>\n",
       "    </tr>\n",
       "    <tr>\n",
       "      <th>3944004</th>\n",
       "      <td>1976-03-16</td>\n",
       "      <td>Batch weighing system</td>\n",
       "      <td>0.012415</td>\n",
       "      <td>0.001246</td>\n",
       "      <td>0.001377</td>\n",
       "      <td>0.277968</td>\n",
       "      <td>0.639338</td>\n",
       "      <td>0.0</td>\n",
       "      <td>0.625000</td>\n",
       "      <td>2</td>\n",
       "      <td>0.000651</td>\n",
       "      <td>0.000645</td>\n",
       "      <td>0.000662</td>\n",
       "      <td>0.0</td>\n",
       "      <td>1970</td>\n",
       "    </tr>\n",
       "    <tr>\n",
       "      <th>3945191</th>\n",
       "      <td>1976-03-23</td>\n",
       "      <td>Electronic timepiece having complementary elec...</td>\n",
       "      <td>0.003386</td>\n",
       "      <td>0.004736</td>\n",
       "      <td>0.000688</td>\n",
       "      <td>0.131093</td>\n",
       "      <td>0.630650</td>\n",
       "      <td>0.0</td>\n",
       "      <td>0.000000</td>\n",
       "      <td>2</td>\n",
       "      <td>0.000000</td>\n",
       "      <td>0.000000</td>\n",
       "      <td>0.010436</td>\n",
       "      <td>0.0</td>\n",
       "      <td>1970</td>\n",
       "    </tr>\n",
       "  </tbody>\n",
       "</table>\n",
       "</div>"
      ],
      "text/plain": [
       "              date                                              title  \\\n",
       "id                                                                      \n",
       "3931349 1976-01-06      Conversion of methanol to gasoline components   \n",
       "3935991 1976-02-03               Plastic reinforced produce container   \n",
       "3943789 1976-03-16      Drive mechanism for cement mixer and the like   \n",
       "3944004 1976-03-16                              Batch weighing system   \n",
       "3945191 1976-03-23  Electronic timepiece having complementary elec...   \n",
       "\n",
       "         num_claims  cit_received  cit_made  cit_received_delay  \\\n",
       "id                                                                \n",
       "3931349    0.009029      0.022682  0.001033            0.353835   \n",
       "3935991    0.002257      0.004736  0.001205            0.270670   \n",
       "3943789    0.005643      0.001496  0.001205            0.316234   \n",
       "3944004    0.012415      0.001246  0.001377            0.277968   \n",
       "3945191    0.003386      0.004736  0.000688            0.131093   \n",
       "\n",
       "         cit_made_delay  originality  generality wipo_sector_id  wipo_far_ext  \\\n",
       "id                                                                              \n",
       "3931349        0.641222          0.0    0.000000              0      0.000000   \n",
       "3935991        0.642102          0.0    0.138408              3      0.000326   \n",
       "3943789        0.683412          0.0    0.000000              3      0.000000   \n",
       "3944004        0.639338          0.0    0.625000              2      0.000651   \n",
       "3945191        0.630650          0.0    0.000000              2      0.000000   \n",
       "\n",
       "         wipo_ext  pagerank  year decade  \n",
       "id                                        \n",
       "3931349  0.022581  0.011216   0.0   1970  \n",
       "3935991  0.000323  0.001409   0.0   1970  \n",
       "3943789  0.002258  0.000505   0.0   1970  \n",
       "3944004  0.000645  0.000662   0.0   1970  \n",
       "3945191  0.000000  0.010436   0.0   1970  "
      ]
     },
     "execution_count": 31,
     "metadata": {},
     "output_type": "execute_result"
    }
   ],
   "source": [
    "df.head()"
   ]
  },
  {
   "cell_type": "code",
   "execution_count": 32,
   "metadata": {
    "collapsed": true
   },
   "outputs": [],
   "source": [
    "# #maybe nb fit does not accept nomalized data, so i using data without normalize\n",
    "# #but in that case, i have to transform the categorical variables\n",
    "\n",
    "# obj_cols=list(df.select_dtypes(include=[object]).columns.values)\n",
    "\n",
    "# for col in obj_cols:\n",
    "#     df[col] = df[col].astype('category')\n",
    "\n",
    "# df=pd.get_dummies(df, columns=obj_cols, prefix=obj_cols)"
   ]
  },
  {
   "cell_type": "code",
   "execution_count": 33,
   "metadata": {
    "collapsed": false
   },
   "outputs": [
    {
     "data": {
      "text/plain": [
       "15"
      ]
     },
     "execution_count": 33,
     "metadata": {},
     "output_type": "execute_result"
    }
   ],
   "source": [
    "# List of IVs\n",
    "chosenColumns=df.columns.values.tolist()\n",
    "len(chosenColumns)"
   ]
  },
  {
   "cell_type": "code",
   "execution_count": 34,
   "metadata": {
    "collapsed": false
   },
   "outputs": [
    {
     "data": {
      "text/plain": [
       "10"
      ]
     },
     "execution_count": 34,
     "metadata": {},
     "output_type": "execute_result"
    }
   ],
   "source": [
    "chosenColumns.remove('pagerank') #dv\n",
    "chosenColumns.remove('date') #similar to year\n",
    "chosenColumns.remove('wipo_sector_id') #iterate over patent class\n",
    "chosenColumns.remove('decade')\n",
    "chosenColumns.remove('title')\n",
    "\n",
    "len(chosenColumns)"
   ]
  },
  {
   "cell_type": "code",
   "execution_count": 35,
   "metadata": {
    "collapsed": true
   },
   "outputs": [],
   "source": [
    "wipo_sectors=df.wipo_sector_id.unique() #list of wipo sectors"
   ]
  },
  {
   "cell_type": "code",
   "execution_count": 36,
   "metadata": {
    "collapsed": false
   },
   "outputs": [
    {
     "data": {
      "text/plain": [
       "0.99999999999999989"
      ]
     },
     "execution_count": 36,
     "metadata": {},
     "output_type": "execute_result"
    }
   ],
   "source": [
    "max_pagerank=df['pagerank'].max() #variable used in the transformation\n",
    "max_pagerank"
   ]
  },
  {
   "cell_type": "code",
   "execution_count": 37,
   "metadata": {
    "collapsed": true
   },
   "outputs": [],
   "source": [
    "#transform DV first by inverting (max_pagerank-1) and then applying log (see Andy Field)\n",
    "df['t_pagerank']=df['pagerank'].apply(lambda x: math.log(max_pagerank+1-x))"
   ]
  },
  {
   "cell_type": "code",
   "execution_count": 38,
   "metadata": {
    "collapsed": false
   },
   "outputs": [],
   "source": [
    "num_cols=list(df.select_dtypes(include=[np.number]).columns.values)\n",
    "# num_cols"
   ]
  },
  {
   "cell_type": "code",
   "execution_count": 39,
   "metadata": {
    "collapsed": true
   },
   "outputs": [],
   "source": [
    "# # histograms\n",
    "# for variable in num_cols:\n",
    "#     ax=df[df[variable]>df[variable].min()][variable].hist()\n",
    "#     ax.set_title('Histogram '+ variable.title()+'\\n')\n",
    "#     plt.show()"
   ]
  },
  {
   "cell_type": "code",
   "execution_count": 40,
   "metadata": {
    "collapsed": true
   },
   "outputs": [],
   "source": [
    "formula='t_pagerank ~ num_claims + cit_received + cit_made + cit_received_delay + cit_made_delay + originality + generality + wipo_far_ext + wipo_ext + year'\n",
    "\n",
    "for wipo_sector in wipo_sectors:\n",
    "#     print(wipo_sector_title[wipo_sector])\n",
    "#     print(df[df.wipo_sector_id==wipo_sector].head())\n",
    "#     print(\"\\n\")\n",
    "    \n",
    "#     myX = df[df.wipo_sector_id==wipo_sector].as_matrix(columns=chosenColumns)\n",
    "#     myY = df[df.wipo_sector_id==wipo_sector].as_matrix(columns=['t-pagerank'])\n",
    "\n",
    "    data=df[df.wipo_sector_id==wipo_sector]\n",
    "#     x = sm.add_constant(myX)\n",
    "#     model = sm.OLS(myY, x)\n",
    "    model = smf.ols(formula, data=data) #smf permite a construcao de formulas estilo R\n",
    "                                        #o uso de smf permite que os nomes das variaveis aparecam \n",
    "                                        #automaticamente no plot_partregress_grid\n",
    "    results = model.fit()    \n",
    "    output.append(\"WIPO: \" + wipo_sector_title[wipo_sector])\n",
    "    output.append(results.summary(title=\"OLS of WIPO: \" + wipo_sector_title[wipo_sector]).as_latex())\n",
    "    output.append(\"\\\\newpage\\n\")\n",
    "#     for element in chosenColumns:\n",
    "#         fig = sm.graphics.plot_regress_exog(results, element)\n",
    "#         fig.tight_layout(pad=1.0)\n",
    "\n",
    "#     print('\\n')\n",
    "#     print(wipo_sector_title[wipo_sector].title())\n",
    "#     print('\\n')\n",
    "#     fig = plt.figure(figsize=(12, 20))\n",
    "#     fig = sm.graphics.plot_partregress_grid(results, fig=fig)\n",
    "#     fig.tight_layout(pad=1.0)\n",
    "#     plt.savefig('img/partial_reg_plot'+wipo_sector_title[wipo_sector].replace(\" \", \"_\")+'.png')\n",
    "#     results.summary()"
   ]
  },
  {
   "cell_type": "code",
   "execution_count": 41,
   "metadata": {
    "collapsed": false
   },
   "outputs": [],
   "source": [
    "export_table(output, \"output_by_wipo\")"
   ]
  },
  {
   "cell_type": "code",
   "execution_count": 42,
   "metadata": {
    "collapsed": true
   },
   "outputs": [],
   "source": [
    "#and graphs of back citation in time"
   ]
  },
  {
   "cell_type": "code",
   "execution_count": 43,
   "metadata": {
    "collapsed": true
   },
   "outputs": [],
   "source": [
    "# for i in classifications:\n",
    "#     rank=df.groupby(i).count().iloc[:,2].sort_values(ascending=False).reset_index().set_index(i)\n",
    "#     description=df_class[df_class['class']==i].set_index('id')\n",
    "#     display(rank.join(description))"
   ]
  },
  {
   "cell_type": "code",
   "execution_count": 44,
   "metadata": {
    "collapsed": true
   },
   "outputs": [],
   "source": [
    "# for i in obj_cols:\n",
    "#     if i.isin(classifications):\n",
    "#         df.join(df.groupby(i).count().iloc[:,2].sort_values(ascending=False)\n",
    "# #     display.display(df.pivot_table(values=df.reset_index().id, index=i, columns='decade', aggfunc='count', fill_value=0, margins=False, dropna=True))\n",
    "#     print(i)\n",
    "#     display.display(df.groupby(i).count().iloc[:,2].sort_values(ascending=False))"
   ]
  },
  {
   "cell_type": "code",
   "execution_count": 45,
   "metadata": {
    "collapsed": true
   },
   "outputs": [],
   "source": [
    "# def cramers_v(x, y):\n",
    "#     confusion_matrix = pd.crosstab(x,y)\n",
    "#     chi2 = ss.chi2_contingency(confusion_matrix)[0]\n",
    "#     n = confusion_matrix.sum().sum()\n",
    "#     phi2 = chi2/n\n",
    "#     r,k = confusion_matrix.shape\n",
    "#     phi2corr = max(0, phi2-((k-1)*(r-1))/(n-1))\n",
    "#     rcorr = r-((r-1)**2)/(n-1)\n",
    "#     kcorr = k-((k-1)**2)/(n-1)\n",
    "#     return np.sqrt(phi2corr/min((kcorr-1),(rcorr-1)))"
   ]
  },
  {
   "cell_type": "code",
   "execution_count": 46,
   "metadata": {
    "collapsed": true
   },
   "outputs": [],
   "source": [
    "# all variables\n",
    "# dtypes={'id':object, 'type':object, 'kind':object, 'num_claims':float, 'cit_received':float, 'cit_made':float,\n",
    "#        'cit_received_delay':float, 'cit_made_delay':float, 'parent_citation':float,\n",
    "#        'originality':float, 'generality':float, 'wipo_field_id':object, 'ipcr_section':object,\n",
    "#        'cpc_section_id':object,'nber_category_id':object,'uspc_mainclass_id':object}"
   ]
  }
 ],
 "metadata": {
  "anaconda-cloud": {},
  "kernelspec": {
   "display_name": "Python [default]",
   "language": "python",
   "name": "python3"
  },
  "language_info": {
   "codemirror_mode": {
    "name": "ipython",
    "version": 3
   },
   "file_extension": ".py",
   "mimetype": "text/x-python",
   "name": "python",
   "nbconvert_exporter": "python",
   "pygments_lexer": "ipython3",
   "version": "3.5.2"
  }
 },
 "nbformat": 4,
 "nbformat_minor": 1
}
