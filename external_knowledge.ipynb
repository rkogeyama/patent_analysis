{
 "cells": [
  {
   "cell_type": "code",
   "execution_count": 1,
   "metadata": {
    "collapsed": false
   },
   "outputs": [],
   "source": [
    "#Script to evaluate the determinants of patent citation \n",
    "#Renato Kogeyama\n",
    "\n",
    "# August 19, 2020\n",
    "# Updated all files to latest data available in PatentsView (Jun/2020)\n",
    "# Excluded self citations from the dataset\n",
    "\n",
    "# July 13, 2020\n",
    "# I am changing the script to test Nemet and Johnson 2012, but with centrality measures as DV\n",
    "\n",
    "# Apr 27, 2020\n",
    "# Separe most central patents, classify them as disruptive and calculate dvs from extant literature\n",
    "\n",
    "# Mar 16, 2020\n",
    "# Introducing centrality measures as dv\n",
    "\n",
    "# Feb 04, 2020\n",
    "# to set labels in heatmap keyword:xticklabels\n",
    "# for ex.\n",
    "# sns.heatmap(globalWarming_df, xticklabels = np.arange(0,15))\n",
    "# to be implemented later\n",
    "# another alternative is to substitute the values in the dataset and convert columns to categories\n",
    "# to understand the impact, i should run some test\n",
    "# however i am focusing now in calculate Corredoira's 2015 and Nemet & Johnson 2012\n",
    "\n",
    "# Feb 03, 2020\n",
    "# version backed up as _old\n",
    "\n",
    "# Feb 02, 2020\n",
    "# the best way to deal with the classification names is to use a dictionary\n",
    "# this avoid charging memory with the strings\n",
    "# However, WIPO is organized differently than the other systems\n",
    "# I'll update the wipo code to uniformize the behavior in this script\n",
    "# I am creating a code that reflects the first level of classification \n",
    "\n",
    "# Feb 01, 2020\n",
    "# Introduction of categorical graphs: barplot and heatmap\n",
    "# heatmap is not the real deal, its a simplification\n",
    "# the real deal would be the correlation table - there is a suggestion based on cramer, \n",
    "    # but implementation was not ready\n",
    "# graphs exported and google docs updated\n",
    "# next step: update cit_tree to reflect Corredoira's 205 Influence measure\n",
    "# plot a network graph: https://plot.ly/python/network-graphs/\n",
    "# reproduce 2012 Nemet and Johnson with other class systems\n",
    "# correct bias in generality and originality (multiply for N/N-1)\n",
    "\n",
    "# Jan 21, 2020\n",
    "# Classifications added\n",
    "# Code reorganized - much faster now\n",
    "# Still missing the update of applications to the grant number\n",
    "# I should provide now descriptive statistics on all variables\n",
    "\n",
    "# Jan 21, 2020\n",
    "# The current data does not have Class\n",
    "# I should go back and get this info - but there are too many scripts now and\n",
    "#   I should reorganize them before moving forward\n",
    "# I should also include the patent publication date - to control for the policy changes\n",
    "# In the citation file, I should change application number for grant when possible \n",
    "#   This will improve realiability of all measures related to citation\n",
    "# Introduce classifications\n",
    "\n",
    "# Jan 18, 2020\n",
    "# Variables calculated\n",
    "# Generality, average delay, forward and backward citations, cumulative citation (cit_tree)\n",
    "# Still missing originality\n",
    "# the file with variables that are used in this script should get a name independent from the date\n",
    "\n",
    "\n",
    "#Miami, December 24th, 2019\n",
    "# Prof. Rafael Corredoira suggested:\n",
    "# - Inclusion of a tree of citations\n",
    "#   To track back the source of citations. This is information is not given by direct count of citations.\n",
    "# - Consider policy changes in the way patents are cited\n",
    "#   Policy changes in 2000 changed the time frame of citation, and 2010 partially moved citation to applications\n",
    "# - Track classification changes \n",
    "#   The original classification system in USPTO changed from a technical based to a market based classification system\n",
    "#   See if there is an impact\n",
    "# - Consider a text analysis of the claims\n",
    "#   Classification is based on the claims but it is not clear how many claims are related to each classification category\n",
    "# - Include moderation effect from classification\n",
    "#   Citations patterns may change across industries, so some effects may disappear if industry is not accounted for.\n",
    "\n",
    "# In summary, his ideas help increase structure of the current work\n",
    "\n",
    "\n",
    "#Syracuse, December 3rd, 2019\n",
    "\n",
    "#The original script is getting too complex\n",
    "#There was many tentative scripts to play with data\n",
    "#Here I am writing a script to show the relevance of variables to patent citation\n",
    "\n",
    "#11-12-2019\n",
    "#Introducing normalization\n",
    "\n",
    "#10-11-2019\n",
    "#I introduced log backward citation, what corrects for very dispersed results\n",
    "#but the major problem is that few patents receive citations\n",
    "#bring back binary output\n",
    "\n",
    "#10-10-2019\n",
    "#Added graphics and new distributions\n",
    "\n",
    "#10-03-2019\n",
    "#I rewrote the citation data to clean the strings\n",
    "\n",
    "#09-15-2019\n",
    "#O naive bayes tem algum problema com distribuicoes desbalanceadas\n",
    "#o scikit learn tem um modulo que corrige count distributions com muitos zeros, o complementNB\n",
    "#porem este nao esta disponivel na atual versao disponibilizada no HPC da FIU\n",
    "\n",
    "#09-10-2019\n",
    "#o trabalho pede uma abordagem mais sistematica e cuidadosa\n",
    "#estou agrupando o codigo antigo comentado e vou comecar um novo codigo\n",
    "\n",
    "#09-27-2019\n",
    "#I am renaming citation as forward citation and backward citation\n",
    "\n",
    "#09-17-2018\n",
    "\n",
    "#Alto uso de memoria - rodar no Amazon AWS \n",
    "\n"
   ]
  },
  {
   "cell_type": "code",
   "execution_count": 2,
   "metadata": {
    "collapsed": true
   },
   "outputs": [],
   "source": [
    "import pandas as pd\n",
    "import numpy as np\n",
    "import IPython.display as display\n",
    "import seaborn as sns\n",
    "          \n",
    "import itertools\n",
    "\n",
    "from sklearn import preprocessing\n",
    "from sklearn import linear_model, datasets\n",
    "from sklearn.model_selection import train_test_split\n",
    "from sklearn.feature_selection import SelectKBest, f_classif\n",
    "from sklearn import naive_bayes\n",
    "from sklearn.metrics import roc_curve, auc\n",
    "from sklearn.feature_selection import VarianceThreshold\n",
    "from sklearn.linear_model import LinearRegression\n",
    "\n",
    "import scipy.stats as ss\n",
    "import datetime\n",
    "import matplotlib.pyplot as plt\n",
    "\n",
    "from math import sqrt\n",
    "\n",
    "import sys\n",
    "sys.path.append('/home/rkogeyam/scripts/')\n",
    "sys.path.append('scripts/')\n",
    "\n",
    "from determinants_scripts import classes\n",
    "\n",
    "from plotbar import plotbar\n",
    "from plot_heat import heatmap\n",
    "\n",
    "\n",
    "from best_num_attr import best_num_attr\n",
    "from xattrSelect import xattrSelect\n",
    "from sampler import sampler\n",
    "from normalize import normalize\n",
    "from nbayes import nbayes\n",
    "\n",
    "import gzip\n",
    "import statsmodels.api as sm\n",
    "import statsmodels.formula.api as smf\n",
    "\n",
    "import os\n",
    "import math"
   ]
  },
  {
   "cell_type": "code",
   "execution_count": 3,
   "metadata": {
    "collapsed": true
   },
   "outputs": [],
   "source": [
    "latex='data/results.tex'\n",
    "# dataset='data/dataset.csv'\n",
    "dataset=gzip.open('data/dataset.csv.gz', 'rt')"
   ]
  },
  {
   "cell_type": "code",
   "execution_count": 4,
   "metadata": {
    "collapsed": true
   },
   "outputs": [],
   "source": [
    "%matplotlib inline\n",
    "sns.set()\n",
    "sns.set_palette(sns.cubehelix_palette(8))\n",
    "# pd.options.display.float_format = '{:,.2f}'.format"
   ]
  },
  {
   "cell_type": "code",
   "execution_count": 5,
   "metadata": {
    "collapsed": true
   },
   "outputs": [],
   "source": [
    "dtypes={'id':object,'title':object, 'num_claims':float, 'cit_received':float, 'cit_made':float,\n",
    "       'cit_received_delay':float, 'cit_made_delay':float, 'parent_citation':float,\n",
    "       'originality':float, 'generality':float, 'wipo_sector_id':object,'wipo_far_ext':float, 'wipo_ext':float,  'pagerank':float}"
   ]
  },
  {
   "cell_type": "code",
   "execution_count": 6,
   "metadata": {
    "collapsed": true
   },
   "outputs": [],
   "source": [
    "# only main classes (exclude uspc)\n",
    "\n",
    "usecols=['id', 'title', 'date', 'num_claims', 'cit_received', 'cit_made',\n",
    "         'cit_received_delay', 'cit_made_delay',\n",
    "         'originality', 'generality', 'wipo_sector_id', 'wipo_far_ext', 'wipo_ext', 'pagerank']"
   ]
  },
  {
   "cell_type": "code",
   "execution_count": 7,
   "metadata": {
    "collapsed": true
   },
   "outputs": [],
   "source": [
    "# only WIPO class system, exclude type and kind\n",
    "\n",
    "# usecols=['id', 'date', 'num_claims', 'cit_received', 'cit_made',\n",
    "#         'cit_received_delay', 'cit_made_delay', 'parent_citation',\n",
    "#         'originality', 'generality', 'wipo_sector_id', 'eigen', 'pagerank', 'katz']"
   ]
  },
  {
   "cell_type": "code",
   "execution_count": 8,
   "metadata": {
    "collapsed": false
   },
   "outputs": [
    {
     "name": "stdout",
     "output_type": "stream",
     "text": [
      "<class 'pandas.core.frame.DataFrame'>\n",
      "Index: 9570679 entries, 0000000 to re25727\n",
      "Data columns (total 12 columns):\n",
      "date                  datetime64[ns]\n",
      "num_claims            float64\n",
      "cit_received          float64\n",
      "cit_made              float64\n",
      "cit_received_delay    float64\n",
      "cit_made_delay        float64\n",
      "originality           float64\n",
      "generality            float64\n",
      "wipo_sector_id        object\n",
      "wipo_far_ext          float64\n",
      "wipo_ext              float64\n",
      "pagerank              float64\n",
      "dtypes: datetime64[ns](1), float64(10), object(1)\n",
      "memory usage: 949.2+ MB\n"
     ]
    }
   ],
   "source": [
    "df=pd.read_csv(dataset, usecols=usecols, dtype=dtypes, parse_dates=['date'], index_col='id')\n",
    "\n",
    "df.info()"
   ]
  },
  {
   "cell_type": "code",
   "execution_count": 9,
   "metadata": {
    "collapsed": false
   },
   "outputs": [
    {
     "data": {
      "text/html": [
       "<div>\n",
       "<table border=\"1\" class=\"dataframe\">\n",
       "  <thead>\n",
       "    <tr style=\"text-align: right;\">\n",
       "      <th></th>\n",
       "      <th>date</th>\n",
       "      <th>num_claims</th>\n",
       "      <th>cit_received</th>\n",
       "      <th>cit_made</th>\n",
       "      <th>cit_received_delay</th>\n",
       "      <th>cit_made_delay</th>\n",
       "      <th>originality</th>\n",
       "      <th>generality</th>\n",
       "      <th>wipo_sector_id</th>\n",
       "      <th>wipo_far_ext</th>\n",
       "      <th>wipo_ext</th>\n",
       "      <th>pagerank</th>\n",
       "    </tr>\n",
       "    <tr>\n",
       "      <th>id</th>\n",
       "      <th></th>\n",
       "      <th></th>\n",
       "      <th></th>\n",
       "      <th></th>\n",
       "      <th></th>\n",
       "      <th></th>\n",
       "      <th></th>\n",
       "      <th></th>\n",
       "      <th></th>\n",
       "      <th></th>\n",
       "      <th></th>\n",
       "      <th></th>\n",
       "    </tr>\n",
       "  </thead>\n",
       "  <tbody>\n",
       "    <tr>\n",
       "      <th>0000000</th>\n",
       "      <td>NaT</td>\n",
       "      <td>NaN</td>\n",
       "      <td>1.0</td>\n",
       "      <td>NaN</td>\n",
       "      <td>16.443836</td>\n",
       "      <td>NaN</td>\n",
       "      <td>NaN</td>\n",
       "      <td>0.000000</td>\n",
       "      <td>NaN</td>\n",
       "      <td>NaN</td>\n",
       "      <td>NaN</td>\n",
       "      <td>6.074003e-08</td>\n",
       "    </tr>\n",
       "    <tr>\n",
       "      <th>000004</th>\n",
       "      <td>NaT</td>\n",
       "      <td>NaN</td>\n",
       "      <td>1.0</td>\n",
       "      <td>NaN</td>\n",
       "      <td>169.767123</td>\n",
       "      <td>NaN</td>\n",
       "      <td>NaN</td>\n",
       "      <td>0.000000</td>\n",
       "      <td>NaN</td>\n",
       "      <td>NaN</td>\n",
       "      <td>NaN</td>\n",
       "      <td>4.837757e-08</td>\n",
       "    </tr>\n",
       "    <tr>\n",
       "      <th>000006</th>\n",
       "      <td>NaT</td>\n",
       "      <td>NaN</td>\n",
       "      <td>1.0</td>\n",
       "      <td>NaN</td>\n",
       "      <td>168.367123</td>\n",
       "      <td>NaN</td>\n",
       "      <td>NaN</td>\n",
       "      <td>0.000000</td>\n",
       "      <td>NaN</td>\n",
       "      <td>NaN</td>\n",
       "      <td>NaN</td>\n",
       "      <td>9.521070e-08</td>\n",
       "    </tr>\n",
       "    <tr>\n",
       "      <th>0000482</th>\n",
       "      <td>NaT</td>\n",
       "      <td>NaN</td>\n",
       "      <td>1.0</td>\n",
       "      <td>NaN</td>\n",
       "      <td>105.816438</td>\n",
       "      <td>NaN</td>\n",
       "      <td>NaN</td>\n",
       "      <td>0.000000</td>\n",
       "      <td>NaN</td>\n",
       "      <td>NaN</td>\n",
       "      <td>NaN</td>\n",
       "      <td>5.471799e-08</td>\n",
       "    </tr>\n",
       "    <tr>\n",
       "      <th>0000H94</th>\n",
       "      <td>NaT</td>\n",
       "      <td>NaN</td>\n",
       "      <td>1.0</td>\n",
       "      <td>NaN</td>\n",
       "      <td>3.394521</td>\n",
       "      <td>NaN</td>\n",
       "      <td>NaN</td>\n",
       "      <td>0.000000</td>\n",
       "      <td>NaN</td>\n",
       "      <td>NaN</td>\n",
       "      <td>NaN</td>\n",
       "      <td>1.170797e-07</td>\n",
       "    </tr>\n",
       "    <tr>\n",
       "      <th>0001552</th>\n",
       "      <td>NaT</td>\n",
       "      <td>NaN</td>\n",
       "      <td>3.0</td>\n",
       "      <td>NaN</td>\n",
       "      <td>1.879452</td>\n",
       "      <td>NaN</td>\n",
       "      <td>NaN</td>\n",
       "      <td>0.000000</td>\n",
       "      <td>NaN</td>\n",
       "      <td>NaN</td>\n",
       "      <td>NaN</td>\n",
       "      <td>5.286861e-08</td>\n",
       "    </tr>\n",
       "    <tr>\n",
       "      <th>000169</th>\n",
       "      <td>NaT</td>\n",
       "      <td>NaN</td>\n",
       "      <td>3.0</td>\n",
       "      <td>NaN</td>\n",
       "      <td>172.227397</td>\n",
       "      <td>NaN</td>\n",
       "      <td>NaN</td>\n",
       "      <td>0.444444</td>\n",
       "      <td>NaN</td>\n",
       "      <td>NaN</td>\n",
       "      <td>NaN</td>\n",
       "      <td>5.845172e-08</td>\n",
       "    </tr>\n",
       "    <tr>\n",
       "      <th>000280</th>\n",
       "      <td>NaT</td>\n",
       "      <td>NaN</td>\n",
       "      <td>1.0</td>\n",
       "      <td>NaN</td>\n",
       "      <td>2.928767</td>\n",
       "      <td>NaN</td>\n",
       "      <td>NaN</td>\n",
       "      <td>0.000000</td>\n",
       "      <td>NaN</td>\n",
       "      <td>NaN</td>\n",
       "      <td>NaN</td>\n",
       "      <td>4.609333e-08</td>\n",
       "    </tr>\n",
       "    <tr>\n",
       "      <th>000312</th>\n",
       "      <td>NaT</td>\n",
       "      <td>NaN</td>\n",
       "      <td>1.0</td>\n",
       "      <td>NaN</td>\n",
       "      <td>4.704110</td>\n",
       "      <td>NaN</td>\n",
       "      <td>NaN</td>\n",
       "      <td>0.000000</td>\n",
       "      <td>NaN</td>\n",
       "      <td>NaN</td>\n",
       "      <td>NaN</td>\n",
       "      <td>5.067894e-08</td>\n",
       "    </tr>\n",
       "    <tr>\n",
       "      <th>000491</th>\n",
       "      <td>NaT</td>\n",
       "      <td>NaN</td>\n",
       "      <td>1.0</td>\n",
       "      <td>NaN</td>\n",
       "      <td>164.602740</td>\n",
       "      <td>NaN</td>\n",
       "      <td>NaN</td>\n",
       "      <td>0.000000</td>\n",
       "      <td>NaN</td>\n",
       "      <td>NaN</td>\n",
       "      <td>NaN</td>\n",
       "      <td>1.171891e-07</td>\n",
       "    </tr>\n",
       "    <tr>\n",
       "      <th>000542</th>\n",
       "      <td>NaT</td>\n",
       "      <td>NaN</td>\n",
       "      <td>1.0</td>\n",
       "      <td>NaN</td>\n",
       "      <td>2.665753</td>\n",
       "      <td>NaN</td>\n",
       "      <td>NaN</td>\n",
       "      <td>0.000000</td>\n",
       "      <td>NaN</td>\n",
       "      <td>NaN</td>\n",
       "      <td>NaN</td>\n",
       "      <td>5.136865e-08</td>\n",
       "    </tr>\n",
       "    <tr>\n",
       "      <th>000567</th>\n",
       "      <td>NaT</td>\n",
       "      <td>NaN</td>\n",
       "      <td>1.0</td>\n",
       "      <td>NaN</td>\n",
       "      <td>153.638356</td>\n",
       "      <td>NaN</td>\n",
       "      <td>NaN</td>\n",
       "      <td>0.000000</td>\n",
       "      <td>NaN</td>\n",
       "      <td>NaN</td>\n",
       "      <td>NaN</td>\n",
       "      <td>4.690843e-08</td>\n",
       "    </tr>\n",
       "    <tr>\n",
       "      <th>000588</th>\n",
       "      <td>NaT</td>\n",
       "      <td>NaN</td>\n",
       "      <td>1.0</td>\n",
       "      <td>NaN</td>\n",
       "      <td>165.405479</td>\n",
       "      <td>NaN</td>\n",
       "      <td>NaN</td>\n",
       "      <td>0.000000</td>\n",
       "      <td>NaN</td>\n",
       "      <td>NaN</td>\n",
       "      <td>NaN</td>\n",
       "      <td>4.777554e-08</td>\n",
       "    </tr>\n",
       "    <tr>\n",
       "      <th>000786519</th>\n",
       "      <td>NaT</td>\n",
       "      <td>NaN</td>\n",
       "      <td>1.0</td>\n",
       "      <td>NaN</td>\n",
       "      <td>5.657534</td>\n",
       "      <td>NaN</td>\n",
       "      <td>NaN</td>\n",
       "      <td>0.000000</td>\n",
       "      <td>NaN</td>\n",
       "      <td>NaN</td>\n",
       "      <td>NaN</td>\n",
       "      <td>8.178532e-08</td>\n",
       "    </tr>\n",
       "    <tr>\n",
       "      <th>001383</th>\n",
       "      <td>NaT</td>\n",
       "      <td>NaN</td>\n",
       "      <td>1.0</td>\n",
       "      <td>NaN</td>\n",
       "      <td>16.391781</td>\n",
       "      <td>NaN</td>\n",
       "      <td>NaN</td>\n",
       "      <td>0.000000</td>\n",
       "      <td>NaN</td>\n",
       "      <td>NaN</td>\n",
       "      <td>NaN</td>\n",
       "      <td>4.457770e-08</td>\n",
       "    </tr>\n",
       "    <tr>\n",
       "      <th>001552</th>\n",
       "      <td>NaT</td>\n",
       "      <td>NaN</td>\n",
       "      <td>2.0</td>\n",
       "      <td>NaN</td>\n",
       "      <td>7.182192</td>\n",
       "      <td>NaN</td>\n",
       "      <td>NaN</td>\n",
       "      <td>0.000000</td>\n",
       "      <td>NaN</td>\n",
       "      <td>NaN</td>\n",
       "      <td>NaN</td>\n",
       "      <td>4.538920e-08</td>\n",
       "    </tr>\n",
       "    <tr>\n",
       "      <th>001674</th>\n",
       "      <td>NaT</td>\n",
       "      <td>NaN</td>\n",
       "      <td>1.0</td>\n",
       "      <td>NaN</td>\n",
       "      <td>12.073973</td>\n",
       "      <td>NaN</td>\n",
       "      <td>NaN</td>\n",
       "      <td>0.000000</td>\n",
       "      <td>NaN</td>\n",
       "      <td>NaN</td>\n",
       "      <td>NaN</td>\n",
       "      <td>4.463929e-08</td>\n",
       "    </tr>\n",
       "    <tr>\n",
       "      <th>0018361</th>\n",
       "      <td>NaT</td>\n",
       "      <td>NaN</td>\n",
       "      <td>1.0</td>\n",
       "      <td>NaN</td>\n",
       "      <td>2.523288</td>\n",
       "      <td>NaN</td>\n",
       "      <td>NaN</td>\n",
       "      <td>0.000000</td>\n",
       "      <td>NaN</td>\n",
       "      <td>NaN</td>\n",
       "      <td>NaN</td>\n",
       "      <td>4.810834e-08</td>\n",
       "    </tr>\n",
       "    <tr>\n",
       "      <th>001860</th>\n",
       "      <td>NaT</td>\n",
       "      <td>NaN</td>\n",
       "      <td>1.0</td>\n",
       "      <td>NaN</td>\n",
       "      <td>2.293151</td>\n",
       "      <td>NaN</td>\n",
       "      <td>NaN</td>\n",
       "      <td>0.000000</td>\n",
       "      <td>NaN</td>\n",
       "      <td>NaN</td>\n",
       "      <td>NaN</td>\n",
       "      <td>4.893684e-08</td>\n",
       "    </tr>\n",
       "    <tr>\n",
       "      <th>0019390</th>\n",
       "      <td>NaT</td>\n",
       "      <td>NaN</td>\n",
       "      <td>1.0</td>\n",
       "      <td>NaN</td>\n",
       "      <td>89.663014</td>\n",
       "      <td>NaN</td>\n",
       "      <td>NaN</td>\n",
       "      <td>0.000000</td>\n",
       "      <td>NaN</td>\n",
       "      <td>NaN</td>\n",
       "      <td>NaN</td>\n",
       "      <td>6.239413e-08</td>\n",
       "    </tr>\n",
       "    <tr>\n",
       "      <th>0019785</th>\n",
       "      <td>NaT</td>\n",
       "      <td>NaN</td>\n",
       "      <td>1.0</td>\n",
       "      <td>NaN</td>\n",
       "      <td>139.389041</td>\n",
       "      <td>NaN</td>\n",
       "      <td>NaN</td>\n",
       "      <td>0.000000</td>\n",
       "      <td>NaN</td>\n",
       "      <td>NaN</td>\n",
       "      <td>NaN</td>\n",
       "      <td>4.901950e-08</td>\n",
       "    </tr>\n",
       "    <tr>\n",
       "      <th>0020035</th>\n",
       "      <td>NaT</td>\n",
       "      <td>NaN</td>\n",
       "      <td>2.0</td>\n",
       "      <td>NaN</td>\n",
       "      <td>1.967123</td>\n",
       "      <td>NaN</td>\n",
       "      <td>NaN</td>\n",
       "      <td>0.000000</td>\n",
       "      <td>NaN</td>\n",
       "      <td>NaN</td>\n",
       "      <td>NaN</td>\n",
       "      <td>4.764511e-08</td>\n",
       "    </tr>\n",
       "    <tr>\n",
       "      <th>002046015</th>\n",
       "      <td>NaT</td>\n",
       "      <td>NaN</td>\n",
       "      <td>1.0</td>\n",
       "      <td>NaN</td>\n",
       "      <td>15.194521</td>\n",
       "      <td>NaN</td>\n",
       "      <td>NaN</td>\n",
       "      <td>0.000000</td>\n",
       "      <td>NaN</td>\n",
       "      <td>NaN</td>\n",
       "      <td>NaN</td>\n",
       "      <td>5.756451e-08</td>\n",
       "    </tr>\n",
       "    <tr>\n",
       "      <th>002057</th>\n",
       "      <td>NaT</td>\n",
       "      <td>NaN</td>\n",
       "      <td>1.0</td>\n",
       "      <td>NaN</td>\n",
       "      <td>5.334247</td>\n",
       "      <td>NaN</td>\n",
       "      <td>NaN</td>\n",
       "      <td>0.000000</td>\n",
       "      <td>NaN</td>\n",
       "      <td>NaN</td>\n",
       "      <td>NaN</td>\n",
       "      <td>4.709884e-08</td>\n",
       "    </tr>\n",
       "    <tr>\n",
       "      <th>00234622</th>\n",
       "      <td>NaT</td>\n",
       "      <td>NaN</td>\n",
       "      <td>1.0</td>\n",
       "      <td>NaN</td>\n",
       "      <td>16.013699</td>\n",
       "      <td>NaN</td>\n",
       "      <td>NaN</td>\n",
       "      <td>0.000000</td>\n",
       "      <td>NaN</td>\n",
       "      <td>NaN</td>\n",
       "      <td>NaN</td>\n",
       "      <td>4.969000e-08</td>\n",
       "    </tr>\n",
       "    <tr>\n",
       "      <th>002403</th>\n",
       "      <td>NaT</td>\n",
       "      <td>NaN</td>\n",
       "      <td>1.0</td>\n",
       "      <td>NaN</td>\n",
       "      <td>2.243836</td>\n",
       "      <td>NaN</td>\n",
       "      <td>NaN</td>\n",
       "      <td>0.000000</td>\n",
       "      <td>NaN</td>\n",
       "      <td>NaN</td>\n",
       "      <td>NaN</td>\n",
       "      <td>5.206091e-08</td>\n",
       "    </tr>\n",
       "    <tr>\n",
       "      <th>0025393</th>\n",
       "      <td>NaT</td>\n",
       "      <td>NaN</td>\n",
       "      <td>1.0</td>\n",
       "      <td>NaN</td>\n",
       "      <td>6.142466</td>\n",
       "      <td>NaN</td>\n",
       "      <td>NaN</td>\n",
       "      <td>0.000000</td>\n",
       "      <td>NaN</td>\n",
       "      <td>NaN</td>\n",
       "      <td>NaN</td>\n",
       "      <td>4.858277e-08</td>\n",
       "    </tr>\n",
       "    <tr>\n",
       "      <th>002626</th>\n",
       "      <td>NaT</td>\n",
       "      <td>NaN</td>\n",
       "      <td>2.0</td>\n",
       "      <td>NaN</td>\n",
       "      <td>82.057534</td>\n",
       "      <td>NaN</td>\n",
       "      <td>NaN</td>\n",
       "      <td>0.000000</td>\n",
       "      <td>NaN</td>\n",
       "      <td>NaN</td>\n",
       "      <td>NaN</td>\n",
       "      <td>4.456861e-08</td>\n",
       "    </tr>\n",
       "    <tr>\n",
       "      <th>002714</th>\n",
       "      <td>NaT</td>\n",
       "      <td>NaN</td>\n",
       "      <td>1.0</td>\n",
       "      <td>NaN</td>\n",
       "      <td>160.364384</td>\n",
       "      <td>NaN</td>\n",
       "      <td>NaN</td>\n",
       "      <td>0.000000</td>\n",
       "      <td>NaN</td>\n",
       "      <td>NaN</td>\n",
       "      <td>NaN</td>\n",
       "      <td>1.112738e-07</td>\n",
       "    </tr>\n",
       "    <tr>\n",
       "      <th>0028174</th>\n",
       "      <td>NaT</td>\n",
       "      <td>NaN</td>\n",
       "      <td>1.0</td>\n",
       "      <td>NaN</td>\n",
       "      <td>140.345205</td>\n",
       "      <td>NaN</td>\n",
       "      <td>NaN</td>\n",
       "      <td>0.000000</td>\n",
       "      <td>NaN</td>\n",
       "      <td>NaN</td>\n",
       "      <td>NaN</td>\n",
       "      <td>4.525815e-08</td>\n",
       "    </tr>\n",
       "    <tr>\n",
       "      <th>...</th>\n",
       "      <td>...</td>\n",
       "      <td>...</td>\n",
       "      <td>...</td>\n",
       "      <td>...</td>\n",
       "      <td>...</td>\n",
       "      <td>...</td>\n",
       "      <td>...</td>\n",
       "      <td>...</td>\n",
       "      <td>...</td>\n",
       "      <td>...</td>\n",
       "      <td>...</td>\n",
       "      <td>...</td>\n",
       "    </tr>\n",
       "    <tr>\n",
       "      <th>XSERIES</th>\n",
       "      <td>NaT</td>\n",
       "      <td>NaN</td>\n",
       "      <td>1.0</td>\n",
       "      <td>NaN</td>\n",
       "      <td>143.583562</td>\n",
       "      <td>NaN</td>\n",
       "      <td>NaN</td>\n",
       "      <td>0.000000</td>\n",
       "      <td>NaN</td>\n",
       "      <td>NaN</td>\n",
       "      <td>NaN</td>\n",
       "      <td>5.627492e-08</td>\n",
       "    </tr>\n",
       "    <tr>\n",
       "      <th>a005993</th>\n",
       "      <td>NaT</td>\n",
       "      <td>NaN</td>\n",
       "      <td>1.0</td>\n",
       "      <td>NaN</td>\n",
       "      <td>17.567123</td>\n",
       "      <td>NaN</td>\n",
       "      <td>NaN</td>\n",
       "      <td>0.000000</td>\n",
       "      <td>NaN</td>\n",
       "      <td>NaN</td>\n",
       "      <td>NaN</td>\n",
       "      <td>4.448156e-08</td>\n",
       "    </tr>\n",
       "    <tr>\n",
       "      <th>a2823401</th>\n",
       "      <td>NaT</td>\n",
       "      <td>NaN</td>\n",
       "      <td>1.0</td>\n",
       "      <td>NaN</td>\n",
       "      <td>32.284932</td>\n",
       "      <td>NaN</td>\n",
       "      <td>NaN</td>\n",
       "      <td>0.000000</td>\n",
       "      <td>NaN</td>\n",
       "      <td>NaN</td>\n",
       "      <td>NaN</td>\n",
       "      <td>5.658519e-08</td>\n",
       "    </tr>\n",
       "    <tr>\n",
       "      <th>a3845770</th>\n",
       "      <td>NaT</td>\n",
       "      <td>NaN</td>\n",
       "      <td>1.0</td>\n",
       "      <td>NaN</td>\n",
       "      <td>14.816438</td>\n",
       "      <td>NaN</td>\n",
       "      <td>NaN</td>\n",
       "      <td>0.000000</td>\n",
       "      <td>NaN</td>\n",
       "      <td>NaN</td>\n",
       "      <td>NaN</td>\n",
       "      <td>5.506931e-08</td>\n",
       "    </tr>\n",
       "    <tr>\n",
       "      <th>a4131633</th>\n",
       "      <td>NaT</td>\n",
       "      <td>NaN</td>\n",
       "      <td>1.0</td>\n",
       "      <td>NaN</td>\n",
       "      <td>11.306849</td>\n",
       "      <td>NaN</td>\n",
       "      <td>NaN</td>\n",
       "      <td>0.000000</td>\n",
       "      <td>NaN</td>\n",
       "      <td>NaN</td>\n",
       "      <td>NaN</td>\n",
       "      <td>4.696879e-08</td>\n",
       "    </tr>\n",
       "    <tr>\n",
       "      <th>a4247570</th>\n",
       "      <td>NaT</td>\n",
       "      <td>NaN</td>\n",
       "      <td>1.0</td>\n",
       "      <td>NaN</td>\n",
       "      <td>9.947945</td>\n",
       "      <td>NaN</td>\n",
       "      <td>NaN</td>\n",
       "      <td>0.000000</td>\n",
       "      <td>NaN</td>\n",
       "      <td>NaN</td>\n",
       "      <td>NaN</td>\n",
       "      <td>6.086760e-08</td>\n",
       "    </tr>\n",
       "    <tr>\n",
       "      <th>a4435115</th>\n",
       "      <td>NaT</td>\n",
       "      <td>NaN</td>\n",
       "      <td>1.0</td>\n",
       "      <td>NaN</td>\n",
       "      <td>5.479452</td>\n",
       "      <td>NaN</td>\n",
       "      <td>NaN</td>\n",
       "      <td>0.000000</td>\n",
       "      <td>NaN</td>\n",
       "      <td>NaN</td>\n",
       "      <td>NaN</td>\n",
       "      <td>1.320902e-07</td>\n",
       "    </tr>\n",
       "    <tr>\n",
       "      <th>a460906</th>\n",
       "      <td>NaT</td>\n",
       "      <td>NaN</td>\n",
       "      <td>1.0</td>\n",
       "      <td>NaN</td>\n",
       "      <td>72.920548</td>\n",
       "      <td>NaN</td>\n",
       "      <td>NaN</td>\n",
       "      <td>0.000000</td>\n",
       "      <td>NaN</td>\n",
       "      <td>NaN</td>\n",
       "      <td>NaN</td>\n",
       "      <td>4.904887e-08</td>\n",
       "    </tr>\n",
       "    <tr>\n",
       "      <th>a539851</th>\n",
       "      <td>NaT</td>\n",
       "      <td>NaN</td>\n",
       "      <td>1.0</td>\n",
       "      <td>NaN</td>\n",
       "      <td>4.147945</td>\n",
       "      <td>NaN</td>\n",
       "      <td>NaN</td>\n",
       "      <td>0.000000</td>\n",
       "      <td>NaN</td>\n",
       "      <td>NaN</td>\n",
       "      <td>NaN</td>\n",
       "      <td>4.843475e-08</td>\n",
       "    </tr>\n",
       "    <tr>\n",
       "      <th>d106015</th>\n",
       "      <td>NaT</td>\n",
       "      <td>NaN</td>\n",
       "      <td>1.0</td>\n",
       "      <td>NaN</td>\n",
       "      <td>48.287671</td>\n",
       "      <td>NaN</td>\n",
       "      <td>NaN</td>\n",
       "      <td>NaN</td>\n",
       "      <td>NaN</td>\n",
       "      <td>NaN</td>\n",
       "      <td>NaN</td>\n",
       "      <td>6.604384e-08</td>\n",
       "    </tr>\n",
       "    <tr>\n",
       "      <th>d130116</th>\n",
       "      <td>NaT</td>\n",
       "      <td>NaN</td>\n",
       "      <td>1.0</td>\n",
       "      <td>NaN</td>\n",
       "      <td>54.463014</td>\n",
       "      <td>NaN</td>\n",
       "      <td>NaN</td>\n",
       "      <td>NaN</td>\n",
       "      <td>NaN</td>\n",
       "      <td>NaN</td>\n",
       "      <td>NaN</td>\n",
       "      <td>5.790521e-08</td>\n",
       "    </tr>\n",
       "    <tr>\n",
       "      <th>d245662</th>\n",
       "      <td>NaT</td>\n",
       "      <td>NaN</td>\n",
       "      <td>1.0</td>\n",
       "      <td>NaN</td>\n",
       "      <td>13.821918</td>\n",
       "      <td>NaN</td>\n",
       "      <td>NaN</td>\n",
       "      <td>NaN</td>\n",
       "      <td>NaN</td>\n",
       "      <td>NaN</td>\n",
       "      <td>NaN</td>\n",
       "      <td>6.129203e-08</td>\n",
       "    </tr>\n",
       "    <tr>\n",
       "      <th>d249199</th>\n",
       "      <td>NaT</td>\n",
       "      <td>NaN</td>\n",
       "      <td>1.0</td>\n",
       "      <td>NaN</td>\n",
       "      <td>13.052055</td>\n",
       "      <td>NaN</td>\n",
       "      <td>NaN</td>\n",
       "      <td>NaN</td>\n",
       "      <td>NaN</td>\n",
       "      <td>NaN</td>\n",
       "      <td>NaN</td>\n",
       "      <td>5.601688e-08</td>\n",
       "    </tr>\n",
       "    <tr>\n",
       "      <th>d272065</th>\n",
       "      <td>NaT</td>\n",
       "      <td>NaN</td>\n",
       "      <td>1.0</td>\n",
       "      <td>NaN</td>\n",
       "      <td>9.383562</td>\n",
       "      <td>NaN</td>\n",
       "      <td>NaN</td>\n",
       "      <td>NaN</td>\n",
       "      <td>NaN</td>\n",
       "      <td>NaN</td>\n",
       "      <td>NaN</td>\n",
       "      <td>4.934578e-08</td>\n",
       "    </tr>\n",
       "    <tr>\n",
       "      <th>d276216</th>\n",
       "      <td>NaT</td>\n",
       "      <td>NaN</td>\n",
       "      <td>1.0</td>\n",
       "      <td>NaN</td>\n",
       "      <td>10.772603</td>\n",
       "      <td>NaN</td>\n",
       "      <td>NaN</td>\n",
       "      <td>NaN</td>\n",
       "      <td>NaN</td>\n",
       "      <td>NaN</td>\n",
       "      <td>NaN</td>\n",
       "      <td>5.247078e-08</td>\n",
       "    </tr>\n",
       "    <tr>\n",
       "      <th>d280629</th>\n",
       "      <td>NaT</td>\n",
       "      <td>NaN</td>\n",
       "      <td>1.0</td>\n",
       "      <td>NaN</td>\n",
       "      <td>4.761644</td>\n",
       "      <td>NaN</td>\n",
       "      <td>NaN</td>\n",
       "      <td>NaN</td>\n",
       "      <td>NaN</td>\n",
       "      <td>NaN</td>\n",
       "      <td>NaN</td>\n",
       "      <td>6.031643e-08</td>\n",
       "    </tr>\n",
       "    <tr>\n",
       "      <th>d285083</th>\n",
       "      <td>NaT</td>\n",
       "      <td>NaN</td>\n",
       "      <td>1.0</td>\n",
       "      <td>NaN</td>\n",
       "      <td>2.753425</td>\n",
       "      <td>NaN</td>\n",
       "      <td>NaN</td>\n",
       "      <td>NaN</td>\n",
       "      <td>NaN</td>\n",
       "      <td>NaN</td>\n",
       "      <td>NaN</td>\n",
       "      <td>5.986210e-08</td>\n",
       "    </tr>\n",
       "    <tr>\n",
       "      <th>d291085</th>\n",
       "      <td>NaT</td>\n",
       "      <td>NaN</td>\n",
       "      <td>1.0</td>\n",
       "      <td>NaN</td>\n",
       "      <td>5.789041</td>\n",
       "      <td>NaN</td>\n",
       "      <td>NaN</td>\n",
       "      <td>NaN</td>\n",
       "      <td>NaN</td>\n",
       "      <td>NaN</td>\n",
       "      <td>NaN</td>\n",
       "      <td>5.843714e-08</td>\n",
       "    </tr>\n",
       "    <tr>\n",
       "      <th>d292634</th>\n",
       "      <td>NaT</td>\n",
       "      <td>NaN</td>\n",
       "      <td>1.0</td>\n",
       "      <td>NaN</td>\n",
       "      <td>6.660274</td>\n",
       "      <td>NaN</td>\n",
       "      <td>NaN</td>\n",
       "      <td>NaN</td>\n",
       "      <td>NaN</td>\n",
       "      <td>NaN</td>\n",
       "      <td>NaN</td>\n",
       "      <td>4.745657e-08</td>\n",
       "    </tr>\n",
       "    <tr>\n",
       "      <th>d301874</th>\n",
       "      <td>NaT</td>\n",
       "      <td>NaN</td>\n",
       "      <td>1.0</td>\n",
       "      <td>NaN</td>\n",
       "      <td>2.410959</td>\n",
       "      <td>NaN</td>\n",
       "      <td>NaN</td>\n",
       "      <td>NaN</td>\n",
       "      <td>NaN</td>\n",
       "      <td>NaN</td>\n",
       "      <td>NaN</td>\n",
       "      <td>6.567320e-08</td>\n",
       "    </tr>\n",
       "    <tr>\n",
       "      <th>d315425</th>\n",
       "      <td>NaT</td>\n",
       "      <td>NaN</td>\n",
       "      <td>1.0</td>\n",
       "      <td>NaN</td>\n",
       "      <td>1.717808</td>\n",
       "      <td>NaN</td>\n",
       "      <td>NaN</td>\n",
       "      <td>NaN</td>\n",
       "      <td>NaN</td>\n",
       "      <td>NaN</td>\n",
       "      <td>NaN</td>\n",
       "      <td>4.940450e-08</td>\n",
       "    </tr>\n",
       "    <tr>\n",
       "      <th>d319750</th>\n",
       "      <td>NaT</td>\n",
       "      <td>NaN</td>\n",
       "      <td>1.0</td>\n",
       "      <td>NaN</td>\n",
       "      <td>3.016438</td>\n",
       "      <td>NaN</td>\n",
       "      <td>NaN</td>\n",
       "      <td>NaN</td>\n",
       "      <td>NaN</td>\n",
       "      <td>NaN</td>\n",
       "      <td>NaN</td>\n",
       "      <td>7.773955e-08</td>\n",
       "    </tr>\n",
       "    <tr>\n",
       "      <th>d506267</th>\n",
       "      <td>NaT</td>\n",
       "      <td>NaN</td>\n",
       "      <td>1.0</td>\n",
       "      <td>NaN</td>\n",
       "      <td>4.345205</td>\n",
       "      <td>NaN</td>\n",
       "      <td>NaN</td>\n",
       "      <td>0.000000</td>\n",
       "      <td>NaN</td>\n",
       "      <td>NaN</td>\n",
       "      <td>NaN</td>\n",
       "      <td>4.963423e-08</td>\n",
       "    </tr>\n",
       "    <tr>\n",
       "      <th>d887654</th>\n",
       "      <td>NaT</td>\n",
       "      <td>NaN</td>\n",
       "      <td>1.0</td>\n",
       "      <td>NaN</td>\n",
       "      <td>10.600000</td>\n",
       "      <td>NaN</td>\n",
       "      <td>NaN</td>\n",
       "      <td>NaN</td>\n",
       "      <td>NaN</td>\n",
       "      <td>NaN</td>\n",
       "      <td>NaN</td>\n",
       "      <td>4.760589e-08</td>\n",
       "    </tr>\n",
       "    <tr>\n",
       "      <th>e27663</th>\n",
       "      <td>NaT</td>\n",
       "      <td>NaN</td>\n",
       "      <td>1.0</td>\n",
       "      <td>NaN</td>\n",
       "      <td>19.380822</td>\n",
       "      <td>NaN</td>\n",
       "      <td>NaN</td>\n",
       "      <td>0.000000</td>\n",
       "      <td>NaN</td>\n",
       "      <td>NaN</td>\n",
       "      <td>NaN</td>\n",
       "      <td>4.690454e-08</td>\n",
       "    </tr>\n",
       "    <tr>\n",
       "      <th>l640855</th>\n",
       "      <td>NaT</td>\n",
       "      <td>NaN</td>\n",
       "      <td>1.0</td>\n",
       "      <td>NaN</td>\n",
       "      <td>57.019178</td>\n",
       "      <td>NaN</td>\n",
       "      <td>NaN</td>\n",
       "      <td>NaN</td>\n",
       "      <td>NaN</td>\n",
       "      <td>NaN</td>\n",
       "      <td>NaN</td>\n",
       "      <td>4.972616e-08</td>\n",
       "    </tr>\n",
       "    <tr>\n",
       "      <th>l92594</th>\n",
       "      <td>NaT</td>\n",
       "      <td>NaN</td>\n",
       "      <td>1.0</td>\n",
       "      <td>NaN</td>\n",
       "      <td>107.134247</td>\n",
       "      <td>NaN</td>\n",
       "      <td>NaN</td>\n",
       "      <td>NaN</td>\n",
       "      <td>NaN</td>\n",
       "      <td>NaN</td>\n",
       "      <td>NaN</td>\n",
       "      <td>5.197132e-08</td>\n",
       "    </tr>\n",
       "    <tr>\n",
       "      <th>pctus9926473</th>\n",
       "      <td>NaT</td>\n",
       "      <td>NaN</td>\n",
       "      <td>1.0</td>\n",
       "      <td>NaN</td>\n",
       "      <td>4.030137</td>\n",
       "      <td>NaN</td>\n",
       "      <td>NaN</td>\n",
       "      <td>0.000000</td>\n",
       "      <td>NaN</td>\n",
       "      <td>NaN</td>\n",
       "      <td>NaN</td>\n",
       "      <td>4.874579e-08</td>\n",
       "    </tr>\n",
       "    <tr>\n",
       "      <th>pp6708</th>\n",
       "      <td>NaT</td>\n",
       "      <td>NaN</td>\n",
       "      <td>1.0</td>\n",
       "      <td>NaN</td>\n",
       "      <td>1.627397</td>\n",
       "      <td>NaN</td>\n",
       "      <td>NaN</td>\n",
       "      <td>NaN</td>\n",
       "      <td>NaN</td>\n",
       "      <td>NaN</td>\n",
       "      <td>NaN</td>\n",
       "      <td>8.178532e-08</td>\n",
       "    </tr>\n",
       "    <tr>\n",
       "      <th>re25727</th>\n",
       "      <td>NaT</td>\n",
       "      <td>NaN</td>\n",
       "      <td>1.0</td>\n",
       "      <td>NaN</td>\n",
       "      <td>22.210959</td>\n",
       "      <td>NaN</td>\n",
       "      <td>NaN</td>\n",
       "      <td>0.000000</td>\n",
       "      <td>NaN</td>\n",
       "      <td>NaN</td>\n",
       "      <td>NaN</td>\n",
       "      <td>6.287962e-08</td>\n",
       "    </tr>\n",
       "  </tbody>\n",
       "</table>\n",
       "<p>7449567 rows × 12 columns</p>\n",
       "</div>"
      ],
      "text/plain": [
       "             date  num_claims  cit_received  cit_made  cit_received_delay  \\\n",
       "id                                                                          \n",
       "0000000       NaT         NaN           1.0       NaN           16.443836   \n",
       "000004        NaT         NaN           1.0       NaN          169.767123   \n",
       "000006        NaT         NaN           1.0       NaN          168.367123   \n",
       "0000482       NaT         NaN           1.0       NaN          105.816438   \n",
       "0000H94       NaT         NaN           1.0       NaN            3.394521   \n",
       "0001552       NaT         NaN           3.0       NaN            1.879452   \n",
       "000169        NaT         NaN           3.0       NaN          172.227397   \n",
       "000280        NaT         NaN           1.0       NaN            2.928767   \n",
       "000312        NaT         NaN           1.0       NaN            4.704110   \n",
       "000491        NaT         NaN           1.0       NaN          164.602740   \n",
       "000542        NaT         NaN           1.0       NaN            2.665753   \n",
       "000567        NaT         NaN           1.0       NaN          153.638356   \n",
       "000588        NaT         NaN           1.0       NaN          165.405479   \n",
       "000786519     NaT         NaN           1.0       NaN            5.657534   \n",
       "001383        NaT         NaN           1.0       NaN           16.391781   \n",
       "001552        NaT         NaN           2.0       NaN            7.182192   \n",
       "001674        NaT         NaN           1.0       NaN           12.073973   \n",
       "0018361       NaT         NaN           1.0       NaN            2.523288   \n",
       "001860        NaT         NaN           1.0       NaN            2.293151   \n",
       "0019390       NaT         NaN           1.0       NaN           89.663014   \n",
       "0019785       NaT         NaN           1.0       NaN          139.389041   \n",
       "0020035       NaT         NaN           2.0       NaN            1.967123   \n",
       "002046015     NaT         NaN           1.0       NaN           15.194521   \n",
       "002057        NaT         NaN           1.0       NaN            5.334247   \n",
       "00234622      NaT         NaN           1.0       NaN           16.013699   \n",
       "002403        NaT         NaN           1.0       NaN            2.243836   \n",
       "0025393       NaT         NaN           1.0       NaN            6.142466   \n",
       "002626        NaT         NaN           2.0       NaN           82.057534   \n",
       "002714        NaT         NaN           1.0       NaN          160.364384   \n",
       "0028174       NaT         NaN           1.0       NaN          140.345205   \n",
       "...           ...         ...           ...       ...                 ...   \n",
       "XSERIES       NaT         NaN           1.0       NaN          143.583562   \n",
       "a005993       NaT         NaN           1.0       NaN           17.567123   \n",
       "a2823401      NaT         NaN           1.0       NaN           32.284932   \n",
       "a3845770      NaT         NaN           1.0       NaN           14.816438   \n",
       "a4131633      NaT         NaN           1.0       NaN           11.306849   \n",
       "a4247570      NaT         NaN           1.0       NaN            9.947945   \n",
       "a4435115      NaT         NaN           1.0       NaN            5.479452   \n",
       "a460906       NaT         NaN           1.0       NaN           72.920548   \n",
       "a539851       NaT         NaN           1.0       NaN            4.147945   \n",
       "d106015       NaT         NaN           1.0       NaN           48.287671   \n",
       "d130116       NaT         NaN           1.0       NaN           54.463014   \n",
       "d245662       NaT         NaN           1.0       NaN           13.821918   \n",
       "d249199       NaT         NaN           1.0       NaN           13.052055   \n",
       "d272065       NaT         NaN           1.0       NaN            9.383562   \n",
       "d276216       NaT         NaN           1.0       NaN           10.772603   \n",
       "d280629       NaT         NaN           1.0       NaN            4.761644   \n",
       "d285083       NaT         NaN           1.0       NaN            2.753425   \n",
       "d291085       NaT         NaN           1.0       NaN            5.789041   \n",
       "d292634       NaT         NaN           1.0       NaN            6.660274   \n",
       "d301874       NaT         NaN           1.0       NaN            2.410959   \n",
       "d315425       NaT         NaN           1.0       NaN            1.717808   \n",
       "d319750       NaT         NaN           1.0       NaN            3.016438   \n",
       "d506267       NaT         NaN           1.0       NaN            4.345205   \n",
       "d887654       NaT         NaN           1.0       NaN           10.600000   \n",
       "e27663        NaT         NaN           1.0       NaN           19.380822   \n",
       "l640855       NaT         NaN           1.0       NaN           57.019178   \n",
       "l92594        NaT         NaN           1.0       NaN          107.134247   \n",
       "pctus9926473  NaT         NaN           1.0       NaN            4.030137   \n",
       "pp6708        NaT         NaN           1.0       NaN            1.627397   \n",
       "re25727       NaT         NaN           1.0       NaN           22.210959   \n",
       "\n",
       "              cit_made_delay  originality  generality wipo_sector_id  \\\n",
       "id                                                                     \n",
       "0000000                  NaN          NaN    0.000000            NaN   \n",
       "000004                   NaN          NaN    0.000000            NaN   \n",
       "000006                   NaN          NaN    0.000000            NaN   \n",
       "0000482                  NaN          NaN    0.000000            NaN   \n",
       "0000H94                  NaN          NaN    0.000000            NaN   \n",
       "0001552                  NaN          NaN    0.000000            NaN   \n",
       "000169                   NaN          NaN    0.444444            NaN   \n",
       "000280                   NaN          NaN    0.000000            NaN   \n",
       "000312                   NaN          NaN    0.000000            NaN   \n",
       "000491                   NaN          NaN    0.000000            NaN   \n",
       "000542                   NaN          NaN    0.000000            NaN   \n",
       "000567                   NaN          NaN    0.000000            NaN   \n",
       "000588                   NaN          NaN    0.000000            NaN   \n",
       "000786519                NaN          NaN    0.000000            NaN   \n",
       "001383                   NaN          NaN    0.000000            NaN   \n",
       "001552                   NaN          NaN    0.000000            NaN   \n",
       "001674                   NaN          NaN    0.000000            NaN   \n",
       "0018361                  NaN          NaN    0.000000            NaN   \n",
       "001860                   NaN          NaN    0.000000            NaN   \n",
       "0019390                  NaN          NaN    0.000000            NaN   \n",
       "0019785                  NaN          NaN    0.000000            NaN   \n",
       "0020035                  NaN          NaN    0.000000            NaN   \n",
       "002046015                NaN          NaN    0.000000            NaN   \n",
       "002057                   NaN          NaN    0.000000            NaN   \n",
       "00234622                 NaN          NaN    0.000000            NaN   \n",
       "002403                   NaN          NaN    0.000000            NaN   \n",
       "0025393                  NaN          NaN    0.000000            NaN   \n",
       "002626                   NaN          NaN    0.000000            NaN   \n",
       "002714                   NaN          NaN    0.000000            NaN   \n",
       "0028174                  NaN          NaN    0.000000            NaN   \n",
       "...                      ...          ...         ...            ...   \n",
       "XSERIES                  NaN          NaN    0.000000            NaN   \n",
       "a005993                  NaN          NaN    0.000000            NaN   \n",
       "a2823401                 NaN          NaN    0.000000            NaN   \n",
       "a3845770                 NaN          NaN    0.000000            NaN   \n",
       "a4131633                 NaN          NaN    0.000000            NaN   \n",
       "a4247570                 NaN          NaN    0.000000            NaN   \n",
       "a4435115                 NaN          NaN    0.000000            NaN   \n",
       "a460906                  NaN          NaN    0.000000            NaN   \n",
       "a539851                  NaN          NaN    0.000000            NaN   \n",
       "d106015                  NaN          NaN         NaN            NaN   \n",
       "d130116                  NaN          NaN         NaN            NaN   \n",
       "d245662                  NaN          NaN         NaN            NaN   \n",
       "d249199                  NaN          NaN         NaN            NaN   \n",
       "d272065                  NaN          NaN         NaN            NaN   \n",
       "d276216                  NaN          NaN         NaN            NaN   \n",
       "d280629                  NaN          NaN         NaN            NaN   \n",
       "d285083                  NaN          NaN         NaN            NaN   \n",
       "d291085                  NaN          NaN         NaN            NaN   \n",
       "d292634                  NaN          NaN         NaN            NaN   \n",
       "d301874                  NaN          NaN         NaN            NaN   \n",
       "d315425                  NaN          NaN         NaN            NaN   \n",
       "d319750                  NaN          NaN         NaN            NaN   \n",
       "d506267                  NaN          NaN    0.000000            NaN   \n",
       "d887654                  NaN          NaN         NaN            NaN   \n",
       "e27663                   NaN          NaN    0.000000            NaN   \n",
       "l640855                  NaN          NaN         NaN            NaN   \n",
       "l92594                   NaN          NaN         NaN            NaN   \n",
       "pctus9926473             NaN          NaN    0.000000            NaN   \n",
       "pp6708                   NaN          NaN         NaN            NaN   \n",
       "re25727                  NaN          NaN    0.000000            NaN   \n",
       "\n",
       "              wipo_far_ext  wipo_ext      pagerank  \n",
       "id                                                  \n",
       "0000000                NaN       NaN  6.074003e-08  \n",
       "000004                 NaN       NaN  4.837757e-08  \n",
       "000006                 NaN       NaN  9.521070e-08  \n",
       "0000482                NaN       NaN  5.471799e-08  \n",
       "0000H94                NaN       NaN  1.170797e-07  \n",
       "0001552                NaN       NaN  5.286861e-08  \n",
       "000169                 NaN       NaN  5.845172e-08  \n",
       "000280                 NaN       NaN  4.609333e-08  \n",
       "000312                 NaN       NaN  5.067894e-08  \n",
       "000491                 NaN       NaN  1.171891e-07  \n",
       "000542                 NaN       NaN  5.136865e-08  \n",
       "000567                 NaN       NaN  4.690843e-08  \n",
       "000588                 NaN       NaN  4.777554e-08  \n",
       "000786519              NaN       NaN  8.178532e-08  \n",
       "001383                 NaN       NaN  4.457770e-08  \n",
       "001552                 NaN       NaN  4.538920e-08  \n",
       "001674                 NaN       NaN  4.463929e-08  \n",
       "0018361                NaN       NaN  4.810834e-08  \n",
       "001860                 NaN       NaN  4.893684e-08  \n",
       "0019390                NaN       NaN  6.239413e-08  \n",
       "0019785                NaN       NaN  4.901950e-08  \n",
       "0020035                NaN       NaN  4.764511e-08  \n",
       "002046015              NaN       NaN  5.756451e-08  \n",
       "002057                 NaN       NaN  4.709884e-08  \n",
       "00234622               NaN       NaN  4.969000e-08  \n",
       "002403                 NaN       NaN  5.206091e-08  \n",
       "0025393                NaN       NaN  4.858277e-08  \n",
       "002626                 NaN       NaN  4.456861e-08  \n",
       "002714                 NaN       NaN  1.112738e-07  \n",
       "0028174                NaN       NaN  4.525815e-08  \n",
       "...                    ...       ...           ...  \n",
       "XSERIES                NaN       NaN  5.627492e-08  \n",
       "a005993                NaN       NaN  4.448156e-08  \n",
       "a2823401               NaN       NaN  5.658519e-08  \n",
       "a3845770               NaN       NaN  5.506931e-08  \n",
       "a4131633               NaN       NaN  4.696879e-08  \n",
       "a4247570               NaN       NaN  6.086760e-08  \n",
       "a4435115               NaN       NaN  1.320902e-07  \n",
       "a460906                NaN       NaN  4.904887e-08  \n",
       "a539851                NaN       NaN  4.843475e-08  \n",
       "d106015                NaN       NaN  6.604384e-08  \n",
       "d130116                NaN       NaN  5.790521e-08  \n",
       "d245662                NaN       NaN  6.129203e-08  \n",
       "d249199                NaN       NaN  5.601688e-08  \n",
       "d272065                NaN       NaN  4.934578e-08  \n",
       "d276216                NaN       NaN  5.247078e-08  \n",
       "d280629                NaN       NaN  6.031643e-08  \n",
       "d285083                NaN       NaN  5.986210e-08  \n",
       "d291085                NaN       NaN  5.843714e-08  \n",
       "d292634                NaN       NaN  4.745657e-08  \n",
       "d301874                NaN       NaN  6.567320e-08  \n",
       "d315425                NaN       NaN  4.940450e-08  \n",
       "d319750                NaN       NaN  7.773955e-08  \n",
       "d506267                NaN       NaN  4.963423e-08  \n",
       "d887654                NaN       NaN  4.760589e-08  \n",
       "e27663                 NaN       NaN  4.690454e-08  \n",
       "l640855                NaN       NaN  4.972616e-08  \n",
       "l92594                 NaN       NaN  5.197132e-08  \n",
       "pctus9926473           NaN       NaN  4.874579e-08  \n",
       "pp6708                 NaN       NaN  8.178532e-08  \n",
       "re25727                NaN       NaN  6.287962e-08  \n",
       "\n",
       "[7449567 rows x 12 columns]"
      ]
     },
     "execution_count": 9,
     "metadata": {},
     "output_type": "execute_result"
    }
   ],
   "source": [
    "df[(df['cit_received']==0) & (df['pagerank']>0)] #check if a patent without citations has centrality different from 0"
   ]
  },
  {
   "cell_type": "code",
   "execution_count": 10,
   "metadata": {
    "collapsed": false
   },
   "outputs": [
    {
     "name": "stdout",
     "output_type": "stream",
     "text": [
      "<class 'pandas.core.frame.DataFrame'>\n",
      "Index: 7632681 entries, 0000000 to re25727\n",
      "Data columns (total 12 columns):\n",
      "date                  datetime64[ns]\n",
      "num_claims            float64\n",
      "cit_received          float64\n",
      "cit_made              float64\n",
      "cit_received_delay    float64\n",
      "cit_made_delay        float64\n",
      "originality           float64\n",
      "generality            float64\n",
      "wipo_sector_id        object\n",
      "wipo_far_ext          float64\n",
      "wipo_ext              float64\n",
      "pagerank              float64\n",
      "dtypes: datetime64[ns](1), float64(10), object(1)\n",
      "memory usage: 757.0+ MB\n"
     ]
    }
   ],
   "source": [
    "df=df[df['cit_received']>0] #patents without citations introduce noise\n",
    "df.info()"
   ]
  },
  {
   "cell_type": "code",
   "execution_count": 1,
   "metadata": {
    "collapsed": false
   },
   "outputs": [
    {
     "ename": "SyntaxError",
     "evalue": "invalid syntax (<ipython-input-1-40381bcfa33d>, line 5)",
     "output_type": "error",
     "traceback": [
      "\u001b[0;36m  File \u001b[0;32m\"<ipython-input-1-40381bcfa33d>\"\u001b[0;36m, line \u001b[0;32m5\u001b[0m\n\u001b[0;31m    decades=list(df.decade.unique())\u001b[0m\n\u001b[0m          ^\u001b[0m\n\u001b[0;31mSyntaxError\u001b[0m\u001b[0;31m:\u001b[0m invalid syntax\n"
     ]
    }
   ],
   "source": [
    "df['year']=df.date.dt.year\n",
    "# df['year']=df.date.dt.year.astype(str)\n",
    "df['decade']=int(df.date.dt.year//10*10) #x//y returns the integer part of the division, so this is a shortcut\n",
    "df['decade'] =df['decade'].apply(lambda x: '{0:.3g}'.format(int(x)) if str(x) != 'nan' else np.nan)\n",
    "decades=list(df.decade.unique())\n",
    "decades = [int(x) for x in decades if str(x) != 'nan']"
   ]
  },
  {
   "cell_type": "code",
   "execution_count": 12,
   "metadata": {
    "collapsed": false
   },
   "outputs": [
    {
     "data": {
      "text/plain": [
       "['wipo_sector_id']"
      ]
     },
     "execution_count": 12,
     "metadata": {},
     "output_type": "execute_result"
    }
   ],
   "source": [
    "obj_cols=list(df.select_dtypes(include=[object]).columns.values)\n",
    "obj_cols"
   ]
  },
  {
   "cell_type": "code",
   "execution_count": 13,
   "metadata": {
    "collapsed": false
   },
   "outputs": [
    {
     "data": {
      "text/plain": [
       "['num_claims',\n",
       " 'cit_received',\n",
       " 'cit_made',\n",
       " 'cit_received_delay',\n",
       " 'cit_made_delay',\n",
       " 'originality',\n",
       " 'generality',\n",
       " 'wipo_far_ext',\n",
       " 'wipo_ext',\n",
       " 'pagerank',\n",
       " 'year',\n",
       " 'decade']"
      ]
     },
     "execution_count": 13,
     "metadata": {},
     "output_type": "execute_result"
    }
   ],
   "source": [
    "num_cols=list(df.select_dtypes(include=[np.number]).columns.values)\n",
    "num_cols"
   ]
  },
  {
   "cell_type": "markdown",
   "metadata": {},
   "source": [
    "## Data Analysis\n",
    "\n",
    "### Descriptive "
   ]
  },
  {
   "cell_type": "code",
   "execution_count": 14,
   "metadata": {
    "collapsed": false
   },
   "outputs": [
    {
     "name": "stderr",
     "output_type": "stream",
     "text": [
      "/home/applications/anaconda3/4.2.0/lib/python3.5/site-packages/numpy/lib/function_base.py:4269: RuntimeWarning: Invalid value encountered in percentile\n",
      "  interpolation=interpolation)\n"
     ]
    }
   ],
   "source": [
    "descriptive=df.describe(include=[np.number]).loc[['count','mean','std','min','max']].append(df[num_cols].isnull().sum().rename('isnull'))"
   ]
  },
  {
   "cell_type": "code",
   "execution_count": 15,
   "metadata": {
    "collapsed": false
   },
   "outputs": [],
   "source": [
    "output=[]\n",
    "output.append(descriptive.apply(lambda x: x.apply('{:,.2f}'.format)).transpose().to_latex())\n",
    "output.append(\"\\\\newpage\\n\")"
   ]
  },
  {
   "cell_type": "code",
   "execution_count": 16,
   "metadata": {
    "collapsed": false
   },
   "outputs": [],
   "source": [
    "# df.describe(include=[np.object])#.append(df[np.object].isnull().sum().rename('isnull')).transpose()"
   ]
  },
  {
   "cell_type": "markdown",
   "metadata": {},
   "source": [
    "### Barplots and Heatmaps"
   ]
  },
  {
   "cell_type": "code",
   "execution_count": 17,
   "metadata": {
    "collapsed": false
   },
   "outputs": [
    {
     "name": "stderr",
     "output_type": "stream",
     "text": [
      "/home/applications/anaconda3/4.2.0/lib/python3.5/site-packages/matplotlib/font_manager.py:1297: UserWarning: findfont: Font family ['sans-serif'] not found. Falling back to DejaVu Sans\n",
      "  (prop.get_family(), self.defaultFamily[fontext]))\n"
     ]
    },
    {
     "data": {
      "image/png": "[encoded data removed]",
      "text/plain": [
       "<matplotlib.figure.Figure at 0x7fcf69803978>"
      ]
     },
     "metadata": {},
     "output_type": "display_data"
    },
    {
     "data": {
      "image/png": "[encoded data removed]",
      "text/plain": [
       "<matplotlib.figure.Figure at 0x7fcf6989cba8>"
      ]
     },
     "metadata": {},
     "output_type": "display_data"
    },
    {
     "data": {
      "image/png": "[encoded data removed]",
      "text/plain": [
       "<matplotlib.figure.Figure at 0x7fcf6989b470>"
      ]
     },
     "metadata": {},
     "output_type": "display_data"
    }
   ],
   "source": [
    "# barplot\n",
    "# as of 02.03.20, working\n",
    "\n",
    "for i in obj_cols:\n",
    "    plotbar(i, df, classes)\n",
    "\n",
    "# barplot with decades\n",
    "for i in obj_cols:\n",
    "    plotbar(i, df, classes,decade=True)\n",
    "\n",
    "# barplot with decades and inverted axis\n",
    "for i in obj_cols:\n",
    "    plotbar(i, df, classes,decade=True, decade_x=True)\n",
    "\n",
    "# heatmaps all periods\n",
    "for double in list(itertools.combinations(obj_cols, 2)):\n",
    "    heatmap(df[double[0]], df[double[1]]) \n",
    "\n",
    "# print heatmaps per decade\n",
    "for decade in decades:\n",
    "    df_dec=df[df['decade']==decade]\n",
    "    for double in list(itertools.combinations(obj_cols, 2)):\n",
    "        heatmap(df_dec[double[0]], df_dec[double[1]], decade) \n"
   ]
  },
  {
   "cell_type": "markdown",
   "metadata": {},
   "source": [
    "### Histograms"
   ]
  },
  {
   "cell_type": "code",
   "execution_count": 18,
   "metadata": {
    "collapsed": false
   },
   "outputs": [
    {
     "name": "stderr",
     "output_type": "stream",
     "text": [
      "/home/applications/anaconda3/4.2.0/lib/python3.5/site-packages/matplotlib/font_manager.py:1297: UserWarning: findfont: Font family ['sans-serif'] not found. Falling back to DejaVu Sans\n",
      "  (prop.get_family(), self.defaultFamily[fontext]))\n"
     ]
    },
    {
     "data": {
      "image/png": "[encoded data removed]",
      "text/plain": [
       "<matplotlib.figure.Figure at 0x7fcf6980d400>"
      ]
     },
     "metadata": {},
     "output_type": "display_data"
    },
    {
     "data": {
      "image/png": "[encoded data removed]",
      "text/plain": [
       "<matplotlib.figure.Figure at 0x7fcf699107b8>"
      ]
     },
     "metadata": {},
     "output_type": "display_data"
    },
    {
     "data": {
      "image/png": "[encoded data removed]",
      "text/plain": [
       "<matplotlib.figure.Figure at 0x7fcf69acb3c8>"
      ]
     },
     "metadata": {},
     "output_type": "display_data"
    },
    {
     "data": {
      "image/png": "[encoded data removed]",
      "text/plain": [
       "<matplotlib.figure.Figure at 0x7fcf69a8c4e0>"
      ]
     },
     "metadata": {},
     "output_type": "display_data"
    },
    {
     "data": {
      "image/png": "[encoded data removed]",
      "text/plain": [
       "<matplotlib.figure.Figure at 0x7fcf69a952b0>"
      ]
     },
     "metadata": {},
     "output_type": "display_data"
    },
    {
     "data": {
      "image/png": "[encoded data removed]",
      "text/plain": [
       "<matplotlib.figure.Figure at 0x7fcf69aa8828>"
      ]
     },
     "metadata": {},
     "output_type": "display_data"
    },
    {
     "data": {
      "image/png": "[encoded data removed]",
      "text/plain": [
       "<matplotlib.figure.Figure at 0x7fcf69acc320>"
      ]
     },
     "metadata": {},
     "output_type": "display_data"
    },
    {
     "data": {
      "image/png": "[encoded data removed]",
      "text/plain": [
       "<matplotlib.figure.Figure at 0x7fcf69a368d0>"
      ]
     },
     "metadata": {},
     "output_type": "display_data"
    },
    {
     "data": {
      "image/png": "[encoded data removed]",
      "text/plain": [
       "<matplotlib.figure.Figure at 0x7fcf69a37278>"
      ]
     },
     "metadata": {},
     "output_type": "display_data"
    },
    {
     "data": {
      "image/png": "[encoded data removed]",
      "text/plain": [
       "<matplotlib.figure.Figure at 0x7fcf69a367f0>"
      ]
     },
     "metadata": {},
     "output_type": "display_data"
    },
    {
     "data": {
      "image/png": "[encoded data removed]",
      "text/plain": [
       "<matplotlib.figure.Figure at 0x7fcf698d2e10>"
      ]
     },
     "metadata": {},
     "output_type": "display_data"
    },
    {
     "data": {
      "image/png": "[encoded data removed]",
      "text/plain": [
       "<matplotlib.figure.Figure at 0x7fcf698d9b70>"
      ]
     },
     "metadata": {},
     "output_type": "display_data"
    }
   ],
   "source": [
    "#histograms\n",
    "#could improve cutting off outliers\n",
    "for variable in num_cols:\n",
    "    ax=df[variable].hist()\n",
    "    ax.set_title('Histogram '+ variable.title()+'\\n')\n",
    "    plt.show()"
   ]
  },
  {
   "cell_type": "markdown",
   "metadata": {},
   "source": [
    "### Trends and Boxplots"
   ]
  },
  {
   "cell_type": "code",
   "execution_count": 19,
   "metadata": {
    "collapsed": true
   },
   "outputs": [],
   "source": [
    "#iterate over numerical variables\n",
    "\n",
    "num_cols.remove('decade')\n",
    "# num_cols.remove('year')"
   ]
  },
  {
   "cell_type": "code",
   "execution_count": 20,
   "metadata": {
    "collapsed": true
   },
   "outputs": [],
   "source": [
    "# for variable in num_cols:\n",
    "    \n",
    "#     title=variable.replace('_', ' ')\n",
    "#     fig, axes = plt.subplots(nrows=1, ncols=2, figsize=(14, 6))\n",
    "\n",
    "#     axes[0] = df.groupby('year').mean().plot(y=variable, ax=axes[0])\n",
    "#     evl_title='Evolution of '+ title +'\\n'\n",
    "#     axes[0].set_title(evl_title)\n",
    "#     axes[0].set_ylim(bottom=0)\n",
    "    \n",
    "#     axes[1] = sns.boxplot(x='decade', y=variable, data=df)\n",
    "\n",
    "#     box_title='Dispersion of '+ title +'\\n'\n",
    "#     axes[1].set_title(box_title)\n",
    "#     axes[1].set_ylim(bottom=0)\n",
    "#     axes[1].set_ylabel(\"\")\n",
    "    \n",
    "#     filename='./img/evol_dispersion_'+variable.lower()+'.png'  \n",
    "#     plt.savefig(filename) \n",
    "#     plt.show()\n"
   ]
  },
  {
   "cell_type": "code",
   "execution_count": 21,
   "metadata": {
    "collapsed": true
   },
   "outputs": [],
   "source": [
    "# the generality data on the 2010's is too concentrated around 0\n",
    "# to check, I draw this hist to understand what is happening\n",
    "# it could be an effect of truncation - generality increases with forward citation\n",
    "\n",
    "# df[df['decade']==2010]['generality'].hist()"
   ]
  },
  {
   "cell_type": "markdown",
   "metadata": {},
   "source": [
    "### Models"
   ]
  },
  {
   "cell_type": "code",
   "execution_count": 22,
   "metadata": {
    "collapsed": false
   },
   "outputs": [
    {
     "name": "stdout",
     "output_type": "stream",
     "text": [
      "Total number of observations and attributes\n",
      "(3891146, 14)\n",
      "Number of numerical attributes: 12\n",
      "Number of non-numerical attributes: 12\n"
     ]
    },
    {
     "name": "stderr",
     "output_type": "stream",
     "text": [
      "/home/rkogeyam/scripts/normalize.py:34: SettingWithCopyWarning: \n",
      "A value is trying to be set on a copy of a slice from a DataFrame.\n",
      "Try using .loc[row_indexer,col_indexer] = value instead\n",
      "\n",
      "See the caveats in the documentation: http://pandas.pydata.org/pandas-docs/stable/indexing.html#indexing-view-versus-copy\n",
      "  df[num_cols]=min_max_scaler.fit_transform(df[num_cols])\n",
      "/home/applications/anaconda3/4.2.0/lib/python3.5/site-packages/pandas/core/indexing.py:465: SettingWithCopyWarning: \n",
      "A value is trying to be set on a copy of a slice from a DataFrame.\n",
      "Try using .loc[row_indexer,col_indexer] = value instead\n",
      "\n",
      "See the caveats in the documentation: http://pandas.pydata.org/pandas-docs/stable/indexing.html#indexing-view-versus-copy\n",
      "  self.obj[item] = s\n"
     ]
    }
   ],
   "source": [
    "# normalization\n",
    "df=normalize(df.dropna())"
   ]
  },
  {
   "cell_type": "code",
   "execution_count": 23,
   "metadata": {
    "collapsed": false
   },
   "outputs": [
    {
     "name": "stdout",
     "output_type": "stream",
     "text": [
      "<class 'pandas.core.frame.DataFrame'>\n",
      "Index: 3891146 entries, 3931349 to 9854083\n",
      "Data columns (total 14 columns):\n",
      "date                  datetime64[ns]\n",
      "num_claims            float64\n",
      "cit_received          float64\n",
      "cit_made              float64\n",
      "cit_received_delay    float64\n",
      "cit_made_delay        float64\n",
      "originality           float64\n",
      "generality            float64\n",
      "wipo_sector_id        object\n",
      "wipo_far_ext          float64\n",
      "wipo_ext              float64\n",
      "pagerank              float64\n",
      "year                  float64\n",
      "decade                float64\n",
      "dtypes: datetime64[ns](1), float64(12), object(1)\n",
      "memory usage: 445.3+ MB\n"
     ]
    }
   ],
   "source": [
    "df.info()"
   ]
  },
  {
   "cell_type": "code",
   "execution_count": 24,
   "metadata": {
    "collapsed": false
   },
   "outputs": [
    {
     "data": {
      "text/html": [
       "<div>\n",
       "<table border=\"1\" class=\"dataframe\">\n",
       "  <thead>\n",
       "    <tr style=\"text-align: right;\">\n",
       "      <th></th>\n",
       "      <th>date</th>\n",
       "      <th>num_claims</th>\n",
       "      <th>cit_received</th>\n",
       "      <th>cit_made</th>\n",
       "      <th>cit_received_delay</th>\n",
       "      <th>cit_made_delay</th>\n",
       "      <th>originality</th>\n",
       "      <th>generality</th>\n",
       "      <th>wipo_sector_id</th>\n",
       "      <th>wipo_far_ext</th>\n",
       "      <th>wipo_ext</th>\n",
       "      <th>pagerank</th>\n",
       "      <th>year</th>\n",
       "      <th>decade</th>\n",
       "    </tr>\n",
       "    <tr>\n",
       "      <th>id</th>\n",
       "      <th></th>\n",
       "      <th></th>\n",
       "      <th></th>\n",
       "      <th></th>\n",
       "      <th></th>\n",
       "      <th></th>\n",
       "      <th></th>\n",
       "      <th></th>\n",
       "      <th></th>\n",
       "      <th></th>\n",
       "      <th></th>\n",
       "      <th></th>\n",
       "      <th></th>\n",
       "      <th></th>\n",
       "    </tr>\n",
       "  </thead>\n",
       "  <tbody>\n",
       "    <tr>\n",
       "      <th>3931349</th>\n",
       "      <td>1976-01-06</td>\n",
       "      <td>0.009029</td>\n",
       "      <td>0.022682</td>\n",
       "      <td>0.001033</td>\n",
       "      <td>0.353835</td>\n",
       "      <td>0.641222</td>\n",
       "      <td>0.0</td>\n",
       "      <td>0.000000</td>\n",
       "      <td>0</td>\n",
       "      <td>0.000000</td>\n",
       "      <td>0.022581</td>\n",
       "      <td>0.011216</td>\n",
       "      <td>0.0</td>\n",
       "      <td>0.0</td>\n",
       "    </tr>\n",
       "    <tr>\n",
       "      <th>3935991</th>\n",
       "      <td>1976-02-03</td>\n",
       "      <td>0.002257</td>\n",
       "      <td>0.004736</td>\n",
       "      <td>0.001205</td>\n",
       "      <td>0.270670</td>\n",
       "      <td>0.642102</td>\n",
       "      <td>0.0</td>\n",
       "      <td>0.138408</td>\n",
       "      <td>3</td>\n",
       "      <td>0.000326</td>\n",
       "      <td>0.000323</td>\n",
       "      <td>0.001409</td>\n",
       "      <td>0.0</td>\n",
       "      <td>0.0</td>\n",
       "    </tr>\n",
       "    <tr>\n",
       "      <th>3943789</th>\n",
       "      <td>1976-03-16</td>\n",
       "      <td>0.005643</td>\n",
       "      <td>0.001496</td>\n",
       "      <td>0.001205</td>\n",
       "      <td>0.316234</td>\n",
       "      <td>0.683412</td>\n",
       "      <td>0.0</td>\n",
       "      <td>0.000000</td>\n",
       "      <td>3</td>\n",
       "      <td>0.000000</td>\n",
       "      <td>0.002258</td>\n",
       "      <td>0.000505</td>\n",
       "      <td>0.0</td>\n",
       "      <td>0.0</td>\n",
       "    </tr>\n",
       "    <tr>\n",
       "      <th>3944004</th>\n",
       "      <td>1976-03-16</td>\n",
       "      <td>0.012415</td>\n",
       "      <td>0.001246</td>\n",
       "      <td>0.001377</td>\n",
       "      <td>0.277968</td>\n",
       "      <td>0.639338</td>\n",
       "      <td>0.0</td>\n",
       "      <td>0.625000</td>\n",
       "      <td>2</td>\n",
       "      <td>0.000651</td>\n",
       "      <td>0.000645</td>\n",
       "      <td>0.000662</td>\n",
       "      <td>0.0</td>\n",
       "      <td>0.0</td>\n",
       "    </tr>\n",
       "    <tr>\n",
       "      <th>3945191</th>\n",
       "      <td>1976-03-23</td>\n",
       "      <td>0.003386</td>\n",
       "      <td>0.004736</td>\n",
       "      <td>0.000688</td>\n",
       "      <td>0.131093</td>\n",
       "      <td>0.630650</td>\n",
       "      <td>0.0</td>\n",
       "      <td>0.000000</td>\n",
       "      <td>2</td>\n",
       "      <td>0.000000</td>\n",
       "      <td>0.000000</td>\n",
       "      <td>0.010436</td>\n",
       "      <td>0.0</td>\n",
       "      <td>0.0</td>\n",
       "    </tr>\n",
       "  </tbody>\n",
       "</table>\n",
       "</div>"
      ],
      "text/plain": [
       "              date  num_claims  cit_received  cit_made  cit_received_delay  \\\n",
       "id                                                                           \n",
       "3931349 1976-01-06    0.009029      0.022682  0.001033            0.353835   \n",
       "3935991 1976-02-03    0.002257      0.004736  0.001205            0.270670   \n",
       "3943789 1976-03-16    0.005643      0.001496  0.001205            0.316234   \n",
       "3944004 1976-03-16    0.012415      0.001246  0.001377            0.277968   \n",
       "3945191 1976-03-23    0.003386      0.004736  0.000688            0.131093   \n",
       "\n",
       "         cit_made_delay  originality  generality wipo_sector_id  wipo_far_ext  \\\n",
       "id                                                                              \n",
       "3931349        0.641222          0.0    0.000000              0      0.000000   \n",
       "3935991        0.642102          0.0    0.138408              3      0.000326   \n",
       "3943789        0.683412          0.0    0.000000              3      0.000000   \n",
       "3944004        0.639338          0.0    0.625000              2      0.000651   \n",
       "3945191        0.630650          0.0    0.000000              2      0.000000   \n",
       "\n",
       "         wipo_ext  pagerank  year  decade  \n",
       "id                                         \n",
       "3931349  0.022581  0.011216   0.0     0.0  \n",
       "3935991  0.000323  0.001409   0.0     0.0  \n",
       "3943789  0.002258  0.000505   0.0     0.0  \n",
       "3944004  0.000645  0.000662   0.0     0.0  \n",
       "3945191  0.000000  0.010436   0.0     0.0  "
      ]
     },
     "execution_count": 24,
     "metadata": {},
     "output_type": "execute_result"
    }
   ],
   "source": [
    "df.head()"
   ]
  },
  {
   "cell_type": "code",
   "execution_count": 25,
   "metadata": {
    "collapsed": true
   },
   "outputs": [],
   "source": [
    "# #maybe nb fit does not accept nomalized data, so i using data without normalize\n",
    "# #but in that case, i have to transform the categorical variables\n",
    "\n",
    "# obj_cols=list(df.select_dtypes(include=[object]).columns.values)\n",
    "\n",
    "# for col in obj_cols:\n",
    "#     df[col] = df[col].astype('category')\n",
    "\n",
    "# df=pd.get_dummies(df, columns=obj_cols, prefix=obj_cols)"
   ]
  },
  {
   "cell_type": "code",
   "execution_count": 26,
   "metadata": {
    "collapsed": false
   },
   "outputs": [
    {
     "data": {
      "text/plain": [
       "14"
      ]
     },
     "execution_count": 26,
     "metadata": {},
     "output_type": "execute_result"
    }
   ],
   "source": [
    "# List of IVs\n",
    "chosenColumns=df.columns.values.tolist()\n",
    "len(chosenColumns)"
   ]
  },
  {
   "cell_type": "code",
   "execution_count": 27,
   "metadata": {
    "collapsed": false
   },
   "outputs": [
    {
     "data": {
      "text/plain": [
       "10"
      ]
     },
     "execution_count": 27,
     "metadata": {},
     "output_type": "execute_result"
    }
   ],
   "source": [
    "chosenColumns.remove('pagerank') #dv\n",
    "chosenColumns.remove('date') #similar to year\n",
    "chosenColumns.remove('wipo_sector_id') #iterate over patent class\n",
    "chosenColumns.remove('decade')\n",
    "\n",
    "len(chosenColumns)"
   ]
  },
  {
   "cell_type": "code",
   "execution_count": 28,
   "metadata": {
    "collapsed": true
   },
   "outputs": [],
   "source": [
    "wipo_sectors=df.wipo_sector_id.unique() #list of wipo sectors"
   ]
  },
  {
   "cell_type": "code",
   "execution_count": 29,
   "metadata": {
    "collapsed": false
   },
   "outputs": [
    {
     "data": {
      "text/plain": [
       "id\n",
       "4558413    1.000000\n",
       "4395486    0.825510\n",
       "4683195    0.787953\n",
       "4298685    0.742378\n",
       "5572643    0.561747\n",
       "Name: pagerank, dtype: float64"
      ]
     },
     "execution_count": 29,
     "metadata": {},
     "output_type": "execute_result"
    }
   ],
   "source": [
    "df[df['pagerank'].nlargest()]"
   ]
  },
  {
   "cell_type": "code",
   "execution_count": 30,
   "metadata": {
    "collapsed": false
   },
   "outputs": [
    {
     "data": {
      "text/plain": [
       "0.99999999999999989"
      ]
     },
     "execution_count": 30,
     "metadata": {},
     "output_type": "execute_result"
    }
   ],
   "source": [
    "max_pagerank=df['pagerank'].max() #variable used in the transformation\n",
    "max_pagerank"
   ]
  },
  {
   "cell_type": "code",
   "execution_count": 31,
   "metadata": {
    "collapsed": true
   },
   "outputs": [],
   "source": [
    "#transform DV first by inverting (max_pagerank-1) and then applying log (see Andy Field)\n",
    "df['t_pagerank']=df['pagerank'].apply(lambda x: math.log(max_pagerank+1-x))"
   ]
  },
  {
   "cell_type": "code",
   "execution_count": 32,
   "metadata": {
    "collapsed": false
   },
   "outputs": [],
   "source": [
    "num_cols=list(df.select_dtypes(include=[np.number]).columns.values)\n",
    "# num_cols"
   ]
  },
  {
   "cell_type": "code",
   "execution_count": 33,
   "metadata": {
    "collapsed": false
   },
   "outputs": [
    {
     "name": "stderr",
     "output_type": "stream",
     "text": [
      "/home/applications/anaconda3/4.2.0/lib/python3.5/site-packages/matplotlib/font_manager.py:1297: UserWarning: findfont: Font family ['sans-serif'] not found. Falling back to DejaVu Sans\n",
      "  (prop.get_family(), self.defaultFamily[fontext]))\n"
     ]
    },
    {
     "data": {
      "image/png": "[encoded data removed]",
      "text/plain": [
       "<matplotlib.figure.Figure at 0x7fcf698cd320>"
      ]
     },
     "metadata": {},
     "output_type": "display_data"
    },
    {
     "data": {
      "image/png": "[encoded data removed]",
      "text/plain": [
       "<matplotlib.figure.Figure at 0x7fcf6c3c9908>"
      ]
     },
     "metadata": {},
     "output_type": "display_data"
    },
    {
     "data": {
      "image/png": "[encoded data removed]",
      "text/plain": [
       "<matplotlib.figure.Figure at 0x7fcf820dc668>"
      ]
     },
     "metadata": {},
     "output_type": "display_data"
    },
    {
     "data": {
      "image/png": "[encoded data removed]",
      "text/plain": [
       "<matplotlib.figure.Figure at 0x7fcf831ceac8>"
      ]
     },
     "metadata": {},
     "output_type": "display_data"
    },
    {
     "data": {
      "image/png": "[encoded data removed]",
      "text/plain": [
       "<matplotlib.figure.Figure at 0x7fcf83be9390>"
      ]
     },
     "metadata": {},
     "output_type": "display_data"
    },
    {
     "data": {
      "image/png": "[encoded data removed]",
      "text/plain": [
       "<matplotlib.figure.Figure at 0x7fcf844bc160>"
      ]
     },
     "metadata": {},
     "output_type": "display_data"
    },
    {
     "data": {
      "image/png": "[encoded data removed]",
      "text/plain": [
       "<matplotlib.figure.Figure at 0x7fcf84ca6e10>"
      ]
     },
     "metadata": {},
     "output_type": "display_data"
    },
    {
     "data": {
      "image/png": "[encoded data removed]",
      "text/plain": [
       "<matplotlib.figure.Figure at 0x7fcf84d225c0>"
      ]
     },
     "metadata": {},
     "output_type": "display_data"
    },
    {
     "data": {
      "image/png": "[encoded data removed]",
      "text/plain": [
       "<matplotlib.figure.Figure at 0x7fcf84cbb160>"
      ]
     },
     "metadata": {},
     "output_type": "display_data"
    },
    {
     "data": {
      "image/png": "[encoded data removed]",
      "text/plain": [
       "<matplotlib.figure.Figure at 0x7fcf84af24a8>"
      ]
     },
     "metadata": {},
     "output_type": "display_data"
    },
    {
     "data": {
      "image/png": "[encoded data removed]",
      "text/plain": [
       "<matplotlib.figure.Figure at 0x7fcf8631fe48>"
      ]
     },
     "metadata": {},
     "output_type": "display_data"
    },
    {
     "data": {
      "image/png": "[encoded data removed]",
      "text/plain": [
       "<matplotlib.figure.Figure at 0x7fcf85bc23c8>"
      ]
     },
     "metadata": {},
     "output_type": "display_data"
    },
    {
     "data": {
      "image/png": "[encoded data removed]",
      "text/plain": [
       "<matplotlib.figure.Figure at 0x7fcf856bec18>"
      ]
     },
     "metadata": {},
     "output_type": "display_data"
    }
   ],
   "source": [
    "# histograms\n",
    "for variable in num_cols:\n",
    "    ax=df[df[variable]>df[variable].min()][variable].hist()\n",
    "    ax.set_title('Histogram '+ variable.title()+'\\n')\n",
    "    plt.show()"
   ]
  },
  {
   "cell_type": "code",
   "execution_count": 34,
   "metadata": {
    "collapsed": true
   },
   "outputs": [],
   "source": [
    "#function to write results to a latex file \n",
    "def export_table(content, name):\n",
    "    basename='output/'+ name\n",
    "    i=1\n",
    "    while os.path.exists(basename+\"_\"+\"{:03d}\".format(i)+'.out'):\n",
    "        i += 1\n",
    "    with open(basename+\"_\"+\"{:03d}\".format(i)+'.out','w') as fh:\n",
    "        for element in content:\n",
    "            fh.write( element )\n",
    " "
   ]
  },
  {
   "cell_type": "code",
   "execution_count": 35,
   "metadata": {
    "collapsed": true
   },
   "outputs": [],
   "source": [
    "wipo_sector_title={\n",
    "    '0':\"Chemistry\",\n",
    "    '1':\"Electrical Eng\",\n",
    "    '2':\"Instruments\",\n",
    "    '3':\"Mechanical Eng\",\n",
    "    '4':\"Other fields\",\n",
    "    '5':\"Plant\"\n",
    "    }"
   ]
  },
  {
   "cell_type": "code",
   "execution_count": 36,
   "metadata": {
    "collapsed": true
   },
   "outputs": [],
   "source": [
    "formula='t_pagerank ~ num_claims + cit_received + cit_made + cit_received_delay + cit_made_delay + originality + generality + wipo_far_ext + wipo_ext + year'\n",
    "\n",
    "for wipo_sector in wipo_sectors:\n",
    "#     print(wipo_sector_title[wipo_sector])\n",
    "#     print(df[df.wipo_sector_id==wipo_sector].head())\n",
    "#     print(\"\\n\")\n",
    "    \n",
    "#     myX = df[df.wipo_sector_id==wipo_sector].as_matrix(columns=chosenColumns)\n",
    "#     myY = df[df.wipo_sector_id==wipo_sector].as_matrix(columns=['t-pagerank'])\n",
    "\n",
    "    data=df[df.wipo_sector_id==wipo_sector]\n",
    "#     x = sm.add_constant(myX)\n",
    "#     model = sm.OLS(myY, x)\n",
    "    model = smf.ols(formula, data=data) #smf permite a construcao de formulas estilo R\n",
    "                                        #o uso de smf permite que os nomes das variaveis aparecam \n",
    "                                        #automaticamente no plot_partregress_grid\n",
    "    results = model.fit()    \n",
    "    output.append(\"WIPO: \" + wipo_sector_title[wipo_sector])\n",
    "    output.append(results.summary(title=\"OLS of WIPO: \" + wipo_sector_title[wipo_sector]).as_latex())\n",
    "    output.append(\"\\\\newpage\\n\")\n",
    "    for element in chosenColumns:\n",
    "        fig = sm.graphics.plot_regress_exog(results, element)\n",
    "        fig.tight_layout(pad=1.0)\n",
    "\n",
    "#     print('\\n')\n",
    "#     print(wipo_sector_title[wipo_sector].title())\n",
    "#     print('\\n')\n",
    "#     fig = plt.figure(figsize=(12, 20))\n",
    "#     fig = sm.graphics.plot_partregress_grid(results, fig=fig)\n",
    "#     fig.tight_layout(pad=1.0)\n",
    "#     plt.savefig('img/partial_reg_plot'+wipo_sector_title[wipo_sector].replace(\" \", \"_\")+'.png')\n",
    "#     results.summary()"
   ]
  },
  {
   "cell_type": "code",
   "execution_count": 37,
   "metadata": {
    "collapsed": false
   },
   "outputs": [],
   "source": [
    "export_table(output, \"output_by_wipo\")"
   ]
  },
  {
   "cell_type": "code",
   "execution_count": 38,
   "metadata": {
    "collapsed": false
   },
   "outputs": [],
   "source": []
  },
  {
   "cell_type": "markdown",
   "metadata": {},
   "source": [
    "### DV: Parent citation (rename the variable)"
   ]
  },
  {
   "cell_type": "code",
   "execution_count": 38,
   "metadata": {
    "collapsed": false
   },
   "outputs": [],
   "source": [
    "# myX = df.as_matrix(columns=chosenColumns)\n",
    "\n",
    "# myY = df.as_matrix(columns=['parent_citation'])\n",
    "\n",
    "# xTrain, xTest, yTrain, yTest = train_test_split(myX, myY, train_size=0.7, random_state=3) \n",
    "# testSize = yTest.shape[0]\n",
    "# trainSize = yTrain.shape[0]\n",
    "# namesList, errorList = best_num_attr(myX, xTrain, xTest, yTrain, yTest, chosenColumns, regtype='linear')"
   ]
  },
  {
   "cell_type": "markdown",
   "metadata": {},
   "source": [
    "### DV: pagerank (centrality)"
   ]
  },
  {
   "cell_type": "code",
   "execution_count": 39,
   "metadata": {
    "collapsed": false
   },
   "outputs": [],
   "source": [
    "# myX = df.as_matrix(columns=chosenColumns)\n",
    "# myY = df.as_matrix(columns=['pagerank'])\n",
    "\n",
    "# xTrain, xTest, yTrain, yTest = train_test_split(myX, myY, train_size=0.7, random_state=3) \n",
    "# testSize = yTest.shape[0]\n",
    "# trainSize = yTrain.shape[0]"
   ]
  },
  {
   "cell_type": "code",
   "execution_count": 40,
   "metadata": {
    "collapsed": false
   },
   "outputs": [],
   "source": [
    "# namesList, errorList = best_num_attr(myX, xTrain, xTest, yTrain, yTest, chosenColumns, regtype='linear')"
   ]
  },
  {
   "cell_type": "markdown",
   "metadata": {},
   "source": [
    "### DV: katz (centrality)"
   ]
  },
  {
   "cell_type": "code",
   "execution_count": 41,
   "metadata": {
    "collapsed": false
   },
   "outputs": [],
   "source": [
    "# myX = df.as_matrix(columns=chosenColumns)\n",
    "# myY = df.as_matrix(columns=['katz'])\n",
    "\n",
    "# xTrain, xTest, yTrain, yTest = train_test_split(myX, myY, train_size=0.7, random_state=3) \n",
    "# testSize = yTest.shape[0]\n",
    "# trainSize = yTrain.shape[0]"
   ]
  },
  {
   "cell_type": "code",
   "execution_count": 42,
   "metadata": {
    "collapsed": false
   },
   "outputs": [],
   "source": [
    "# namesList, errorList = best_num_attr(myX, xTrain, xTest, yTrain, yTest, chosenColumns, regtype='linear')"
   ]
  },
  {
   "cell_type": "markdown",
   "metadata": {},
   "source": [
    "### DV: eigen (centrality)"
   ]
  },
  {
   "cell_type": "code",
   "execution_count": 43,
   "metadata": {
    "collapsed": false
   },
   "outputs": [],
   "source": [
    "# myX = df.as_matrix(columns=chosenColumns)\n",
    "# myY = df.as_matrix(columns=['eigen'])\n",
    "\n",
    "# xTrain, xTest, yTrain, yTest = train_test_split(myX, myY, train_size=0.7, random_state=3) \n",
    "# testSize = yTest.shape[0]\n",
    "# trainSize = yTrain.shape[0]"
   ]
  },
  {
   "cell_type": "code",
   "execution_count": 44,
   "metadata": {
    "collapsed": false
   },
   "outputs": [],
   "source": [
    "# namesList, errorList = best_num_attr(myX, xTrain, xTest, yTrain, yTest, chosenColumns, regtype='linear')"
   ]
  },
  {
   "cell_type": "code",
   "execution_count": 45,
   "metadata": {
    "collapsed": true
   },
   "outputs": [],
   "source": [
    "# This selector does not work because almost every attribute is p-value significant\n",
    "\n",
    "# selector = SelectKBest(f_classif, k=4) #initialize \n",
    "# selector.fit(myX, myY) #fit\n",
    "# scores = -np.log10(selector.pvalues_) #transform pvalues (why?)\n",
    "# scores /= scores.max() #normalize \n",
    "# plt.bar(myX - .45, scores, width=.2,\n",
    "#         label=r'Univariate score ($-Log(p_{value})$)', color='darkorange',\n",
    "#         edgecolor='black')"
   ]
  },
  {
   "cell_type": "code",
   "execution_count": 46,
   "metadata": {
    "collapsed": true
   },
   "outputs": [],
   "source": [
    "# nbayes(xTrain, yTrain, xTest, yTest)"
   ]
  },
  {
   "cell_type": "code",
   "execution_count": 47,
   "metadata": {
    "collapsed": true
   },
   "outputs": [],
   "source": [
    "# df.dropna()"
   ]
  },
  {
   "cell_type": "code",
   "execution_count": 48,
   "metadata": {
    "collapsed": true
   },
   "outputs": [],
   "source": [
    "# #Let's do something else\n",
    "# #Change the DV \n",
    "\n",
    "# myX = df.as_matrix(columns=chosenColumns)\n",
    "# myY = df.as_matrix(columns=['parent_back_citation'])\n",
    "\n",
    "# xTrain, xTest, yTrain, yTest = train_test_split(myX, myY, train_size=0.7, random_state=3) "
   ]
  },
  {
   "cell_type": "code",
   "execution_count": 49,
   "metadata": {
    "collapsed": true
   },
   "outputs": [],
   "source": [
    "# nbayes(xTrain, yTrain, xTest, yTest)"
   ]
  },
  {
   "cell_type": "code",
   "execution_count": 50,
   "metadata": {
    "collapsed": true
   },
   "outputs": [],
   "source": [
    "# df.parent_back_citation.boxplot()"
   ]
  },
  {
   "cell_type": "code",
   "execution_count": 51,
   "metadata": {
    "collapsed": true
   },
   "outputs": [],
   "source": [
    "#and graphs of back citation in time"
   ]
  },
  {
   "cell_type": "code",
   "execution_count": 52,
   "metadata": {
    "collapsed": true
   },
   "outputs": [],
   "source": [
    "# for i in classifications:\n",
    "#     rank=df.groupby(i).count().iloc[:,2].sort_values(ascending=False).reset_index().set_index(i)\n",
    "#     description=df_class[df_class['class']==i].set_index('id')\n",
    "#     display(rank.join(description))"
   ]
  },
  {
   "cell_type": "code",
   "execution_count": 53,
   "metadata": {
    "collapsed": true
   },
   "outputs": [],
   "source": [
    "# for i in obj_cols:\n",
    "#     if i.isin(classifications):\n",
    "#         df.join(df.groupby(i).count().iloc[:,2].sort_values(ascending=False)\n",
    "# #     display.display(df.pivot_table(values=df.reset_index().id, index=i, columns='decade', aggfunc='count', fill_value=0, margins=False, dropna=True))\n",
    "#     print(i)\n",
    "#     display.display(df.groupby(i).count().iloc[:,2].sort_values(ascending=False))"
   ]
  },
  {
   "cell_type": "code",
   "execution_count": 54,
   "metadata": {
    "collapsed": true
   },
   "outputs": [],
   "source": [
    "# def cramers_v(x, y):\n",
    "#     confusion_matrix = pd.crosstab(x,y)\n",
    "#     chi2 = ss.chi2_contingency(confusion_matrix)[0]\n",
    "#     n = confusion_matrix.sum().sum()\n",
    "#     phi2 = chi2/n\n",
    "#     r,k = confusion_matrix.shape\n",
    "#     phi2corr = max(0, phi2-((k-1)*(r-1))/(n-1))\n",
    "#     rcorr = r-((r-1)**2)/(n-1)\n",
    "#     kcorr = k-((k-1)**2)/(n-1)\n",
    "#     return np.sqrt(phi2corr/min((kcorr-1),(rcorr-1)))"
   ]
  },
  {
   "cell_type": "code",
   "execution_count": 55,
   "metadata": {
    "collapsed": true
   },
   "outputs": [],
   "source": [
    "# all variables\n",
    "# dtypes={'id':object, 'type':object, 'kind':object, 'num_claims':float, 'cit_received':float, 'cit_made':float,\n",
    "#        'cit_received_delay':float, 'cit_made_delay':float, 'parent_citation':float,\n",
    "#        'originality':float, 'generality':float, 'wipo_field_id':object, 'ipcr_section':object,\n",
    "#        'cpc_section_id':object,'nber_category_id':object,'uspc_mainclass_id':object}"
   ]
  }
 ],
 "metadata": {
  "anaconda-cloud": {},
  "kernelspec": {
   "display_name": "Python [default]",
   "language": "python",
   "name": "python3"
  },
  "language_info": {
   "codemirror_mode": {
    "name": "ipython",
    "version": 3
   },
   "file_extension": ".py",
   "mimetype": "text/x-python",
   "name": "python",
   "nbconvert_exporter": "python",
   "pygments_lexer": "ipython3",
   "version": "3.5.2"
  }
 },
 "nbformat": 4,
 "nbformat_minor": 1
}
