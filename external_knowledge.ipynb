{
 "cells": [
  {
   "cell_type": "markdown",
   "metadata": {},
   "source": [
    "Jun 8, 2020\n",
    "\n",
    "So far, I collected and calculated variables on citation- and patent-levels. The first contribution is to use centrality measures such as pagerank, katz and eigen, as proxies to relevance, impact and influence. Also, I test various effects including the relevance of industries. So far, to the best of our knowledge, scholarly production  focused on studies of innovation in specific industries. Our approach allows us to understand broader patterns of innovation.\n",
    "\n",
    "Here, I am testing the hypothesis of the relationship between originality and impact, following 2012 Nemet and Johnson.\n",
    "\n",
    "Originality is measured as the number (or proportion) of citation from patents outside their own domain of knowledge.\n"
   ]
  },
  {
   "cell_type": "code",
   "execution_count": null,
   "metadata": {
    "collapsed": true
   },
   "outputs": [],
   "source": [
    "import pandas as pd\n",
    "import numpy as np\n",
    "import matplotlib.pyplot as plt\n",
    "import datetime\n",
    "import seaborn as sns\n",
    "\n",
    "import sys\n",
    "sys.path.append('/home/rkogeyam/scripts/')\n",
    "sys.path.append('scripts/')"
   ]
  },
  {
   "cell_type": "code",
   "execution_count": null,
   "metadata": {
    "collapsed": true
   },
   "outputs": [],
   "source": [
    "#load citation\n",
    "usecols=['uuid', 'patent_id', 'citation_id']\n",
    "file='data/cleanuspatentcitation.csv.gz'\n",
    "unzipped=gzip.open(file, 'r')\n",
    "df=pd.read_csv(unzipped, usecols=usecols)\n",
    "df.set_index('uuid', inplace=True)\n",
    "\n",
    "#load iv - 1 when different classification, 0 when same\n",
    "#test done for many class systems - we can begin with one before running all of them\n",
    "#usecols=['uuid', 'wipo_sector_ext', 'wipo_field_ext', 'ipcr_section_ext', 'ipcr_ipc_class_ext', 'cpc_section_ext', 'cpc_subsection_ext', 'nber_category_ext', 'nber_subcategory_ext']\n",
    "usecols=['uuid', 'wipo_sector_ext', 'wipo_field_ext'] #choice for wipo is arbitrary\n",
    "file='data/int_ext_cit_v2.csv.gz'\n",
    "unzipped=gzip.open(file, 'r')\n",
    "df2=pd.read_csv(unzipped, usecols=usecols)\n",
    "df2.set_index('uuid', inplace=True)\n",
    "\n",
    "#an outer join would lead to the same result as a left\n",
    "#since there should not have a classification without a citation\n",
    "df=df.join(df2, how='outer')\n"
   ]
  },
  {
   "cell_type": "code",
   "execution_count": null,
   "metadata": {
    "collapsed": true
   },
   "outputs": [],
   "source": [
    "df.info()"
   ]
  },
  {
   "cell_type": "code",
   "execution_count": null,
   "metadata": {
    "collapsed": true
   },
   "outputs": [],
   "source": [
    "df.describe()"
   ]
  },
  {
   "cell_type": "code",
   "execution_count": null,
   "metadata": {
    "collapsed": true
   },
   "outputs": [],
   "source": [
    "df.head()"
   ]
  },
  {
   "cell_type": "code",
   "execution_count": null,
   "metadata": {
    "collapsed": true
   },
   "outputs": [],
   "source": []
  }
 ],
 "metadata": {
  "anaconda-cloud": {},
  "kernelspec": {
   "display_name": "m-env",
   "language": "python",
   "name": "m-env"
  },
  "language_info": {
   "codemirror_mode": {
    "name": "ipython",
    "version": 2
   },
   "file_extension": ".py",
   "mimetype": "text/x-python",
   "name": "python",
   "nbconvert_exporter": "python",
   "pygments_lexer": "ipython2",
   "version": "2.7.15"
  }
 },
 "nbformat": 4,
 "nbformat_minor": 1
}
