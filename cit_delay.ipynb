{
 "cells": [
  {
   "cell_type": "code",
   "execution_count": 1,
   "metadata": {},
   "outputs": [],
   "source": [
    "#this scripts takes the output from var_builder\n",
    "#converts timedelta to numeric\n",
    "#calculates backward citation average delay\n",
    "#calculates forward citation average delay\n",
    "#counts forward and backward citations\n",
    "\n",
    "# Jan 19, 2020\n",
    "# Joining is not generating matches\n",
    "# probably is an issue with dtype\n",
    "# i am running joining with inner but it should be updated later with outer.\n",
    "\n",
    "import pandas as pd\n",
    "import numpy as np\n",
    "import re\n",
    "import dask.dataframe as dd\n",
    "import gzip\n",
    "\n",
    "src='data/var_builder.csv.gz'\n",
    "cit_received_delay = 'data/cit_received_delay.parquet.gz'\n",
    "cit_made_delay='data/cit_made_delay.csv.gz'\n",
    "\n",
    "cols=['patent_id','citation_id', 'cit_delay' ]\n",
    "dtypes={'patent_id': object, 'citation_id': object, 'cit_delay': np.float64}"
   ]
  },
  {
   "cell_type": "code",
   "execution_count": 2,
   "metadata": {},
   "outputs": [],
   "source": [
    "df = dd.read_parquet('data/var_builder*.parquet.gz')"
   ]
  },
  {
   "cell_type": "code",
   "execution_count": 3,
   "metadata": {},
   "outputs": [],
   "source": [
    "df.groupby(df.index).cit_delay.mean().reset_index().compute().to_parquet(cit_received_delay, compression='gzip')\n",
    "# output: patent-level data\n",
    "# if group by citation_id, the delay will give the average delay gives how much time it took,\n",
    "#    in average, for a patent to receive citations\n",
    "# it is a measure of time to become influent\n",
    "\n",
    "# received_delay=df.groupby('citation_id').mean()\n",
    "# received_delay.head()\n",
    "# received_delay.dropna(inplace=True)\n",
    "# received_delay.dtypes #this will tell us if i am trying to join data of the same format\n",
    "# received_delay.hist()\n",
    "# received_delay[received_delay[\"cit_delay\"]<received_delay[\"cit_delay\"].quantile(0.01)]\n",
    "# received_delay[received_delay[\"cit_delay\"]>received_delay[\"cit_delay\"].quantile(0.99)]\n",
    "# received_delay.to_csv(cit_received_delay, compression='gzip')\n",
    "\n",
    "# if you group by patent_id, the delay will give a measure of how far back the patent is rooted.\n",
    "# made_delay=df.groupby('patent_id').mean()\n",
    "# made_delay.head()\n",
    "# made_delay.dropna(inplace=True)\n",
    "# made_delay[made_delay[\"cit_delay\"]<made_delay[\"cit_delay\"].quantile(0.01)].sort_values(by=['cit_delay'], ascending=False)\n",
    "# made_delay[made_delay[\"cit_delay\"]>made_delay[\"cit_delay\"].quantile(0.99)].sort_values(by=['cit_delay'], ascending=True)\n",
    "\n",
    "# made_delay.to_csv(cit_made_delay, compression='gzip')"
   ]
  },
  {
   "cell_type": "code",
   "execution_count": 4,
   "metadata": {},
   "outputs": [],
   "source": [
    "df=df.groupby(df.patent_id).cit_delay.mean().reset_index().compute().to_parquet(cit_made_delay, compression='gzip')"
   ]
  }
 ],
 "metadata": {
  "kernelspec": {
   "display_name": "Python 3",
   "language": "python",
   "name": "python3"
  },
  "language_info": {
   "codemirror_mode": {
    "name": "ipython",
    "version": 3
   },
   "file_extension": ".py",
   "mimetype": "text/x-python",
   "name": "python",
   "nbconvert_exporter": "python",
   "pygments_lexer": "ipython3",
   "version": "3.7.7"
  }
 },
 "nbformat": 4,
 "nbformat_minor": 4
}
