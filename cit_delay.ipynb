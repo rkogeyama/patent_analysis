{
 "cells": [
  {
   "cell_type": "code",
   "execution_count": 1,
   "metadata": {
    "collapsed": true
   },
   "outputs": [],
   "source": [
    "# Script to evaluate citation delay\n",
    "# Backward citation - citation made by a patent\n",
    "# Forward citation - citation received by a patent\n",
    "\n",
    "# Renato Kogeyama\n",
    "\n",
    "# Jan 03 2019\n",
    "# Miami\n",
    "# I am using this script to calculate the average delay in citation - to follow Hall et al, 2001\n",
    "\n",
    "# I use two sources, uspatentcitation.tsv and patent.csv\n",
    "# The first is a citation-level dataset with information about the citing patent\n",
    "# The second is a patent-level dataset with information about the patent\n",
    "\n",
    "# Cleaning\n",
    "# I tested in other scripts the quality of the patent identifier\n",
    "# It does not require cleaning - only 4 erros from 6 million patents\n",
    "# The cleaning script is there anyway\n",
    "\n",
    "# Merging\n",
    "# I merge on the citation level (df)\n"
   ]
  },
  {
   "cell_type": "code",
   "execution_count": 2,
   "metadata": {
    "collapsed": true
   },
   "outputs": [],
   "source": [
    "import pandas as pd\n",
    "import numpy as np\n",
    "import matplotlib.pyplot as plt"
   ]
  },
  {
   "cell_type": "code",
   "execution_count": 3,
   "metadata": {
    "collapsed": false
   },
   "outputs": [],
   "source": [
    "%matplotlib inline"
   ]
  },
  {
   "cell_type": "code",
   "execution_count": 4,
   "metadata": {
    "collapsed": true
   },
   "outputs": [],
   "source": [
    "fname = r'/home/rkogeyam/PATENT_CITATION/data/uspatentcitation.tsv'\n",
    "patent= 'data/patent.csv'\n",
    "\n",
    "dst = '/home/rkogeyam/PATENT_CITATION/data/back_cit_delay.csv'\n",
    "# dst_forw = '/home/rkogeyam/PATENT_CITATION/data/forw_cit_delay.csv'"
   ]
  },
  {
   "cell_type": "code",
   "execution_count": 5,
   "metadata": {
    "collapsed": false
   },
   "outputs": [
    {
     "name": "stdout",
     "output_type": "stream",
     "text": [
      "CPU times: user 4min 57s, sys: 19.7 s, total: 5min 16s\n",
      "Wall time: 5min 17s\n"
     ]
    }
   ],
   "source": [
    "%%time\n",
    "df = pd.read_csv(fname, sep='\\t', lineterminator='\\n', na_values='-')\n",
    "pt_df = pd.read_csv(patent, sep='\\t', na_values='-', usecols=[0,4], error_bad_lines=False, index_col=0, dtype={0: object})"
   ]
  },
  {
   "cell_type": "code",
   "execution_count": 6,
   "metadata": {
    "collapsed": false
   },
   "outputs": [],
   "source": [
    "df=df.iloc[:,1:]"
   ]
  },
  {
   "cell_type": "code",
   "execution_count": 7,
   "metadata": {
    "collapsed": false
   },
   "outputs": [
    {
     "data": {
      "text/html": [
       "<div>\n",
       "<table border=\"1\" class=\"dataframe\">\n",
       "  <thead>\n",
       "    <tr style=\"text-align: right;\">\n",
       "      <th></th>\n",
       "      <th>patent_id</th>\n",
       "      <th>citation_id</th>\n",
       "      <th>date</th>\n",
       "      <th>name</th>\n",
       "      <th>kind</th>\n",
       "      <th>country</th>\n",
       "      <th>category</th>\n",
       "      <th>sequence</th>\n",
       "    </tr>\n",
       "  </thead>\n",
       "  <tbody>\n",
       "    <tr>\n",
       "      <th>0</th>\n",
       "      <td>9009250</td>\n",
       "      <td>8127342</td>\n",
       "      <td>2012-02-01</td>\n",
       "      <td>Boynton et al.</td>\n",
       "      <td>B2</td>\n",
       "      <td>US</td>\n",
       "      <td>cited by applicant</td>\n",
       "      <td>622</td>\n",
       "    </tr>\n",
       "    <tr>\n",
       "      <th>1</th>\n",
       "      <td>9643605</td>\n",
       "      <td>5471515</td>\n",
       "      <td>1995-11-01</td>\n",
       "      <td>Fossum et al.</td>\n",
       "      <td>A</td>\n",
       "      <td>US</td>\n",
       "      <td>cited by applicant</td>\n",
       "      <td>413</td>\n",
       "    </tr>\n",
       "    <tr>\n",
       "      <th>2</th>\n",
       "      <td>5354551</td>\n",
       "      <td>4875247</td>\n",
       "      <td>1989-10-01</td>\n",
       "      <td>Berg</td>\n",
       "      <td>NaN</td>\n",
       "      <td>US</td>\n",
       "      <td>NaN</td>\n",
       "      <td>11</td>\n",
       "    </tr>\n",
       "    <tr>\n",
       "      <th>3</th>\n",
       "      <td>D786922</td>\n",
       "      <td>D718330</td>\n",
       "      <td>2014-11-01</td>\n",
       "      <td>Shin</td>\n",
       "      <td>S</td>\n",
       "      <td>US</td>\n",
       "      <td>cited by examiner</td>\n",
       "      <td>11</td>\n",
       "    </tr>\n",
       "    <tr>\n",
       "      <th>4</th>\n",
       "      <td>D490798</td>\n",
       "      <td>D190749</td>\n",
       "      <td>1961-06-01</td>\n",
       "      <td>Matri et al.</td>\n",
       "      <td>S</td>\n",
       "      <td>US</td>\n",
       "      <td>cited by examiner</td>\n",
       "      <td>1</td>\n",
       "    </tr>\n",
       "  </tbody>\n",
       "</table>\n",
       "</div>"
      ],
      "text/plain": [
       "  patent_id citation_id        date            name kind country  \\\n",
       "0   9009250     8127342  2012-02-01  Boynton et al.   B2      US   \n",
       "1   9643605     5471515  1995-11-01   Fossum et al.    A      US   \n",
       "2   5354551     4875247  1989-10-01            Berg  NaN      US   \n",
       "3   D786922     D718330  2014-11-01            Shin    S      US   \n",
       "4   D490798     D190749  1961-06-01    Matri et al.    S      US   \n",
       "\n",
       "             category  sequence  \n",
       "0  cited by applicant       622  \n",
       "1  cited by applicant       413  \n",
       "2                 NaN        11  \n",
       "3   cited by examiner        11  \n",
       "4   cited by examiner         1  "
      ]
     },
     "execution_count": 7,
     "metadata": {},
     "output_type": "execute_result"
    }
   ],
   "source": [
    "df.head()"
   ]
  },
  {
   "cell_type": "code",
   "execution_count": 8,
   "metadata": {
    "collapsed": true
   },
   "outputs": [
    {
     "data": {
      "text/html": [
       "<div>\n",
       "<table border=\"1\" class=\"dataframe\">\n",
       "  <thead>\n",
       "    <tr style=\"text-align: right;\">\n",
       "      <th></th>\n",
       "      <th>date</th>\n",
       "    </tr>\n",
       "    <tr>\n",
       "      <th>id</th>\n",
       "      <th></th>\n",
       "    </tr>\n",
       "  </thead>\n",
       "  <tbody>\n",
       "    <tr>\n",
       "      <th>3930271</th>\n",
       "      <td>1976-01-06</td>\n",
       "    </tr>\n",
       "    <tr>\n",
       "      <th>3930272</th>\n",
       "      <td>1976-01-06</td>\n",
       "    </tr>\n",
       "    <tr>\n",
       "      <th>3930273</th>\n",
       "      <td>1976-01-06</td>\n",
       "    </tr>\n",
       "    <tr>\n",
       "      <th>3930274</th>\n",
       "      <td>1976-01-06</td>\n",
       "    </tr>\n",
       "    <tr>\n",
       "      <th>3930275</th>\n",
       "      <td>1976-01-06</td>\n",
       "    </tr>\n",
       "  </tbody>\n",
       "</table>\n",
       "</div>"
      ],
      "text/plain": [
       "               date\n",
       "id                 \n",
       "3930271  1976-01-06\n",
       "3930272  1976-01-06\n",
       "3930273  1976-01-06\n",
       "3930274  1976-01-06\n",
       "3930275  1976-01-06"
      ]
     },
     "execution_count": 8,
     "metadata": {},
     "output_type": "execute_result"
    }
   ],
   "source": [
    "pt_df.head()"
   ]
  },
  {
   "cell_type": "code",
   "execution_count": 9,
   "metadata": {
    "collapsed": false
   },
   "outputs": [],
   "source": [
    "# #stripping non desired characters\n",
    "# df['patent_id'] = df['patent_id'].str.extract('([a-zA-Z0-9]+)', expand=False)\n",
    "# df['citation_id'] = df['citation_id'].str.extract('([a-zA-Z0-9]+)', expand=False)"
   ]
  },
  {
   "cell_type": "code",
   "execution_count": 10,
   "metadata": {
    "collapsed": false
   },
   "outputs": [],
   "source": [
    "df['patent_id'] = df['patent_id'].str.strip()\n",
    "df['citation_id'] = df['citation_id'].str.strip()"
   ]
  },
  {
   "cell_type": "code",
   "execution_count": 11,
   "metadata": {
    "collapsed": false
   },
   "outputs": [],
   "source": [
    "#string to date format\n",
    "\n",
    "df=df.rename(columns = {'date':'citation_date'})\n",
    "df['citation_date']=pd.to_datetime(df['citation_date'], format=\"%Y-%m-%d\", errors='coerce') \n",
    "\n",
    "# df['cit_year']=df['citation_date'].dt.year\n",
    "# df['cit_month']=df['citation_date'].dt.month\n",
    "# df['cit_day']=df['citation_date'].dt.day"
   ]
  },
  {
   "cell_type": "code",
   "execution_count": 12,
   "metadata": {
    "collapsed": false
   },
   "outputs": [],
   "source": [
    "# merge\n",
    "df=pd.merge(df, pt_df, how='left', left_on='patent_id', right_index=True)"
   ]
  },
  {
   "cell_type": "code",
   "execution_count": 13,
   "metadata": {
    "collapsed": true
   },
   "outputs": [],
   "source": [
    "# check citations without patents\n",
    "# df[.isna().sum()"
   ]
  },
  {
   "cell_type": "code",
   "execution_count": 14,
   "metadata": {
    "collapsed": false
   },
   "outputs": [],
   "source": [
    "# date format to allow calculations\n",
    "df=df.rename(columns = {'date':'patent_date'})\n",
    "df['patent_date']=pd.to_datetime(df['patent_date'], format=\"%Y-%m-%d\", errors='coerce') #conversao de string para data"
   ]
  },
  {
   "cell_type": "code",
   "execution_count": 15,
   "metadata": {
    "collapsed": true
   },
   "outputs": [
    {
     "data": {
      "text/plain": [
       "(91453297, 9)"
      ]
     },
     "execution_count": 15,
     "metadata": {},
     "output_type": "execute_result"
    }
   ],
   "source": [
    "df.shape"
   ]
  },
  {
   "cell_type": "code",
   "execution_count": 16,
   "metadata": {
    "collapsed": false
   },
   "outputs": [
    {
     "name": "stdout",
     "output_type": "stream",
     "text": [
      "CPU times: user 42 s, sys: 1.97 s, total: 44 s\n",
      "Wall time: 44 s\n"
     ]
    }
   ],
   "source": [
    "%%time\n",
    "df=df.dropna()"
   ]
  },
  {
   "cell_type": "code",
   "execution_count": 17,
   "metadata": {
    "collapsed": true
   },
   "outputs": [
    {
     "data": {
      "text/plain": [
       "(69415348, 9)"
      ]
     },
     "execution_count": 17,
     "metadata": {},
     "output_type": "execute_result"
    }
   ],
   "source": [
    "df.shape"
   ]
  },
  {
   "cell_type": "code",
   "execution_count": 18,
   "metadata": {
    "collapsed": false
   },
   "outputs": [],
   "source": [
    "# delay is the time interval between grant and citation\n",
    "df['cit_delay']=df['patent_date'].sub(df['citation_date'], axis=0)"
   ]
  },
  {
   "cell_type": "code",
   "execution_count": 19,
   "metadata": {
    "collapsed": false
   },
   "outputs": [],
   "source": [
    "# convert to date format\n",
    "df['cit_delay']=pd.to_timedelta(df['cit_delay'])"
   ]
  },
  {
   "cell_type": "code",
   "execution_count": 20,
   "metadata": {
    "collapsed": false,
    "scrolled": true
   },
   "outputs": [
    {
     "data": {
      "text/html": [
       "<div>\n",
       "<table border=\"1\" class=\"dataframe\">\n",
       "  <thead>\n",
       "    <tr style=\"text-align: right;\">\n",
       "      <th></th>\n",
       "      <th>sequence</th>\n",
       "      <th>cit_delay</th>\n",
       "    </tr>\n",
       "  </thead>\n",
       "  <tbody>\n",
       "    <tr>\n",
       "      <th>count</th>\n",
       "      <td>6.941535e+07</td>\n",
       "      <td>69415348</td>\n",
       "    </tr>\n",
       "    <tr>\n",
       "      <th>mean</th>\n",
       "      <td>8.415553e+01</td>\n",
       "      <td>5587 days 03:16:23.739630</td>\n",
       "    </tr>\n",
       "    <tr>\n",
       "      <th>std</th>\n",
       "      <td>1.983438e+02</td>\n",
       "      <td>5448 days 12:30:49.244062</td>\n",
       "    </tr>\n",
       "    <tr>\n",
       "      <th>min</th>\n",
       "      <td>0.000000e+00</td>\n",
       "      <td>28 days 00:00:00</td>\n",
       "    </tr>\n",
       "    <tr>\n",
       "      <th>25%</th>\n",
       "      <td>5.000000e+00</td>\n",
       "      <td>2333 days 00:00:00</td>\n",
       "    </tr>\n",
       "    <tr>\n",
       "      <th>50%</th>\n",
       "      <td>1.900000e+01</td>\n",
       "      <td>4201 days 00:00:00</td>\n",
       "    </tr>\n",
       "    <tr>\n",
       "      <th>75%</th>\n",
       "      <td>7.400000e+01</td>\n",
       "      <td>6772 days 00:00:00</td>\n",
       "    </tr>\n",
       "    <tr>\n",
       "      <th>max</th>\n",
       "      <td>5.840000e+03</td>\n",
       "      <td>85037 days 00:00:00</td>\n",
       "    </tr>\n",
       "  </tbody>\n",
       "</table>\n",
       "</div>"
      ],
      "text/plain": [
       "           sequence                  cit_delay\n",
       "count  6.941535e+07                   69415348\n",
       "mean   8.415553e+01  5587 days 03:16:23.739630\n",
       "std    1.983438e+02  5448 days 12:30:49.244062\n",
       "min    0.000000e+00           28 days 00:00:00\n",
       "25%    5.000000e+00         2333 days 00:00:00\n",
       "50%    1.900000e+01         4201 days 00:00:00\n",
       "75%    7.400000e+01         6772 days 00:00:00\n",
       "max    5.840000e+03        85037 days 00:00:00"
      ]
     },
     "execution_count": 20,
     "metadata": {},
     "output_type": "execute_result"
    }
   ],
   "source": [
    "df.describe()"
   ]
  },
  {
   "cell_type": "code",
   "execution_count": 21,
   "metadata": {
    "collapsed": false
   },
   "outputs": [],
   "source": [
    "# convert to interval in years\n",
    "df['cit_delay']=df['cit_delay'].dt.days/360"
   ]
  },
  {
   "cell_type": "code",
   "execution_count": 22,
   "metadata": {
    "collapsed": false
   },
   "outputs": [
    {
     "data": {
      "text/html": [
       "<div>\n",
       "<table border=\"1\" class=\"dataframe\">\n",
       "  <thead>\n",
       "    <tr style=\"text-align: right;\">\n",
       "      <th></th>\n",
       "      <th>mean_back_delay</th>\n",
       "      <th>back_citation</th>\n",
       "    </tr>\n",
       "    <tr>\n",
       "      <th>citation_id</th>\n",
       "      <th></th>\n",
       "      <th></th>\n",
       "    </tr>\n",
       "  </thead>\n",
       "  <tbody>\n",
       "    <tr>\n",
       "      <th>000004</th>\n",
       "      <td>172.125000</td>\n",
       "      <td>1</td>\n",
       "    </tr>\n",
       "    <tr>\n",
       "      <th>000006</th>\n",
       "      <td>170.705556</td>\n",
       "      <td>1</td>\n",
       "    </tr>\n",
       "    <tr>\n",
       "      <th>000169</th>\n",
       "      <td>174.619444</td>\n",
       "      <td>3</td>\n",
       "    </tr>\n",
       "    <tr>\n",
       "      <th>000280</th>\n",
       "      <td>2.969444</td>\n",
       "      <td>1</td>\n",
       "    </tr>\n",
       "    <tr>\n",
       "      <th>000491</th>\n",
       "      <td>166.888889</td>\n",
       "      <td>1</td>\n",
       "    </tr>\n",
       "  </tbody>\n",
       "</table>\n",
       "</div>"
      ],
      "text/plain": [
       "             mean_back_delay  back_citation\n",
       "citation_id                                \n",
       "000004            172.125000              1\n",
       "000006            170.705556              1\n",
       "000169            174.619444              3\n",
       "000280              2.969444              1\n",
       "000491            166.888889              1"
      ]
     },
     "execution_count": 22,
     "metadata": {},
     "output_type": "execute_result"
    }
   ],
   "source": [
    "# output: patent-level data\n",
    "# if group by citation_id, the delay will give the average delay gives how much time it took,\n",
    "#    in average, for a patent to receive citations\n",
    "# it is a measure of time to become influent\n",
    "\n",
    "back_delay=df.groupby('citation_id').cit_delay.agg(['mean', 'count'])\n",
    "back_delay.rename(columns={'count': 'back_citation', 'mean':'mean_back_delay'}, inplace=True)\n",
    "back_delay.head()"
   ]
  },
  {
   "cell_type": "code",
   "execution_count": 23,
   "metadata": {
    "collapsed": false
   },
   "outputs": [],
   "source": [
    "# back_delay.to_csv(dst)"
   ]
  },
  {
   "cell_type": "code",
   "execution_count": 24,
   "metadata": {
    "collapsed": false
   },
   "outputs": [
    {
     "data": {
      "text/html": [
       "<div>\n",
       "<table border=\"1\" class=\"dataframe\">\n",
       "  <thead>\n",
       "    <tr style=\"text-align: right;\">\n",
       "      <th></th>\n",
       "      <th>mean_forw_delay</th>\n",
       "      <th>forw_citation</th>\n",
       "    </tr>\n",
       "    <tr>\n",
       "      <th>patent_id</th>\n",
       "      <th></th>\n",
       "      <th></th>\n",
       "    </tr>\n",
       "  </thead>\n",
       "  <tbody>\n",
       "    <tr>\n",
       "      <th>6334220</th>\n",
       "      <td>24.786782</td>\n",
       "      <td>29</td>\n",
       "    </tr>\n",
       "    <tr>\n",
       "      <th>6334221</th>\n",
       "      <td>12.896368</td>\n",
       "      <td>26</td>\n",
       "    </tr>\n",
       "    <tr>\n",
       "      <th>6334222</th>\n",
       "      <td>30.010880</td>\n",
       "      <td>12</td>\n",
       "    </tr>\n",
       "    <tr>\n",
       "      <th>6334223</th>\n",
       "      <td>26.281019</td>\n",
       "      <td>6</td>\n",
       "    </tr>\n",
       "    <tr>\n",
       "      <th>6334224</th>\n",
       "      <td>13.412222</td>\n",
       "      <td>15</td>\n",
       "    </tr>\n",
       "  </tbody>\n",
       "</table>\n",
       "</div>"
      ],
      "text/plain": [
       "           mean_forw_delay  forw_citation\n",
       "patent_id                                \n",
       "6334220          24.786782             29\n",
       "6334221          12.896368             26\n",
       "6334222          30.010880             12\n",
       "6334223          26.281019              6\n",
       "6334224          13.412222             15"
      ]
     },
     "execution_count": 24,
     "metadata": {},
     "output_type": "execute_result"
    }
   ],
   "source": [
    "# if you group by patent_id, the delay will give a measure of how far back the patent is rooted.\n",
    "\n",
    "forw_delay=df.groupby('patent_id').cit_delay.agg(['mean', 'count'])\n",
    "forw_delay.rename(columns={'count': 'forw_citation', 'mean':'mean_forw_delay'}, inplace=True)\n",
    "forw_delay.head()"
   ]
  },
  {
   "cell_type": "code",
   "execution_count": 25,
   "metadata": {
    "collapsed": true
   },
   "outputs": [],
   "source": [
    "output=back_delay.merge(forw_delay, left_index=True, right_index=True, how='outer')"
   ]
  },
  {
   "cell_type": "code",
   "execution_count": 26,
   "metadata": {
    "collapsed": true
   },
   "outputs": [],
   "source": [
    "output.to_csv(dst)"
   ]
  }
 ],
 "metadata": {
  "anaconda-cloud": {},
  "kernelspec": {
   "display_name": "Python [default]",
   "language": "python",
   "name": "python3"
  },
  "language_info": {
   "codemirror_mode": {
    "name": "ipython",
    "version": 3
   },
   "file_extension": ".py",
   "mimetype": "text/x-python",
   "name": "python",
   "nbconvert_exporter": "python",
   "pygments_lexer": "ipython3",
   "version": "3.5.2"
  }
 },
 "nbformat": 4,
 "nbformat_minor": 1
}
